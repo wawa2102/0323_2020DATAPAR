{
 "cells": [
  {
   "cell_type": "code",
   "execution_count": 1,
   "metadata": {},
   "outputs": [
    {
     "name": "stdout",
     "output_type": "stream",
     "text": [
      "As CMO of the startup how much you want to allocate in $ to promote your IOT for the 10 countries with the most attacks for all te borading sports by all kid of sharks ? => 10000\n"
     ]
    }
   ],
   "source": [
    "#STEP 0 : \n",
    "\"\"\"As a junior Data Analyst you are work with the CMO of a startupo that is selling a new IOT than can protect surfers \n",
    "   from all kind of shark attacks while people are doing all kind of boarding sport. \n",
    "   Here we will use a dataset to determine the top 10 countries you need to target for which board activity whith your FB ads.\n",
    "\n",
    "For that we'll need those data :\n",
    "    - Case Number\n",
    "    - Country\n",
    "    - Activity\n",
    "    - Fatal (Y/N)\n",
    "    - Species \"\"\"\n",
    "\n",
    "budget = int(input('As CMO of the startup how much you want to allocate in $ to promote your IOT for the 10 countries with the most attacks for all te borading sports by all kid of sharks ? => '))"
   ]
  },
  {
   "cell_type": "code",
   "execution_count": 2,
   "metadata": {},
   "outputs": [],
   "source": [
    "#Import needed library\n",
    "import pandas as pd\n",
    "import numpy as np\n",
    "import os"
   ]
  },
  {
   "cell_type": "code",
   "execution_count": 3,
   "metadata": {},
   "outputs": [
    {
     "name": "stdout",
     "output_type": "stream",
     "text": [
      "/Users/wawa/IronHack/Project 2\n",
      "    Case Number       Date  Year        Type    Country      Area  \\\n",
      "0  2016.09.18.c  18-Sep-16  2016  Unprovoked        USA   Florida   \n",
      "1  2016.09.18.b  18-Sep-16  2016  Unprovoked        USA   Florida   \n",
      "2  2016.09.18.a  18-Sep-16  2016  Unprovoked        USA   Florida   \n",
      "3    2016.09.17  17-Sep-16  2016  Unprovoked  AUSTRALIA  Victoria   \n",
      "4    2016.09.15  16-Sep-16  2016  Unprovoked  AUSTRALIA  Victoria   \n",
      "\n",
      "                           Location Activity             Name Sex   ...  \\\n",
      "0  New Smyrna Beach, Volusia County  Surfing             male    M  ...   \n",
      "1  New Smyrna Beach, Volusia County  Surfing   Chucky Luciano    M  ...   \n",
      "2  New Smyrna Beach, Volusia County  Surfing             male    M  ...   \n",
      "3                  Thirteenth Beach  Surfing  Rory Angiolella    M  ...   \n",
      "4                       Bells Beach  Surfing             male    M  ...   \n",
      "\n",
      "    Species        Investigator or Source                        pdf  \\\n",
      "0        NaN  Orlando Sentinel, 9/19/2016       2016.09.18.c-NSB.pdf   \n",
      "1        NaN  Orlando Sentinel, 9/19/2016   2016.09.18.b-Luciano.pdf   \n",
      "2        NaN  Orlando Sentinel, 9/19/2016       2016.09.18.a-NSB.pdf   \n",
      "3        NaN           The Age, 9/18/2016  2016.09.17-Angiolella.pdf   \n",
      "4  2 m shark           The Age, 9/16/2016  2016.09.16-BellsBeach.pdf   \n",
      "\n",
      "                                        href formula  \\\n",
      "0  http://sharkattackfile.net/spreadsheets/pdf_di...   \n",
      "1  http://sharkattackfile.net/spreadsheets/pdf_di...   \n",
      "2  http://sharkattackfile.net/spreadsheets/pdf_di...   \n",
      "3  http://sharkattackfile.net/spreadsheets/pdf_di...   \n",
      "4  http://sharkattackfile.net/spreadsheets/pdf_di...   \n",
      "\n",
      "                                                href Case Number.1  \\\n",
      "0  http://sharkattackfile.net/spreadsheets/pdf_di...  2016.09.18.c   \n",
      "1  http://sharkattackfile.net/spreadsheets/pdf_di...  2016.09.18.b   \n",
      "2  http://sharkattackfile.net/spreadsheets/pdf_di...  2016.09.18.a   \n",
      "3  http://sharkattackfile.net/spreadsheets/pdf_di...    2016.09.17   \n",
      "4  http://sharkattackfile.net/spreadsheets/pdf_di...    2016.09.16   \n",
      "\n",
      "  Case Number.2 original order Unnamed: 22 Unnamed: 23  \n",
      "0  2016.09.18.c         5993.0         NaN         NaN  \n",
      "1  2016.09.18.b         5992.0         NaN         NaN  \n",
      "2  2016.09.18.a         5991.0         NaN         NaN  \n",
      "3    2016.09.17         5990.0         NaN         NaN  \n",
      "4    2016.09.15         5989.0         NaN         NaN  \n",
      "\n",
      "[5 rows x 24 columns]\n",
      "Index(['Case Number', 'Date', 'Year', 'Type', 'Country', 'Area', 'Location',\n",
      "       'Activity', 'Name', 'Sex ', 'Age', 'Injury', 'Fatal (Y/N)', 'Time',\n",
      "       'Species ', 'Investigator or Source', 'pdf', 'href formula', 'href',\n",
      "       'Case Number.1', 'Case Number.2', 'original order', 'Unnamed: 22',\n",
      "       'Unnamed: 23'],\n",
      "      dtype='object')\n"
     ]
    }
   ],
   "source": [
    "#STEP 1 : GET DATA function \n",
    "print(os.getcwd())\n",
    "\n",
    "def acquisition ():\n",
    "    df = pd.read_csv('data/GSAF5.csv', sep=',', encoding='ISO-8859-1')\n",
    "    return df\n",
    "\n",
    "df = acquisition()\n",
    "print(df.head())\n",
    "\n",
    "print(df.columns)"
   ]
  },
  {
   "cell_type": "code",
   "execution_count": 4,
   "metadata": {},
   "outputs": [
    {
     "name": "stdout",
     "output_type": "stream",
     "text": [
      "Case Number       1\n",
      "Country          43\n",
      "Activity        527\n",
      "Fatal (Y/N)      20\n",
      "Species        2935\n",
      "dtype: int64\n",
      "Case Number    0\n",
      "Country        0\n",
      "Activity       0\n",
      "Fatal (Y/N)    0\n",
      "Species        0\n",
      "dtype: int64\n",
      "     Case Number Country            Activity   Fatal (Y/N) Species\n",
      "1983        Null       Y  BL Meel / B. Myatt  1998.00.00.c    Null\n",
      "       Case Number             Country      Activity Fatal (Y/N)    Species\n",
      "0     2016.09.18.c                 USA       Surfing           N       Null\n",
      "1     2016.09.18.b                 USA       Surfing           N       Null\n",
      "2     2016.09.18.a                 USA       Surfing           N       Null\n",
      "3       2016.09.17           AUSTRALIA       Surfing           N       Null\n",
      "4       2016.09.15           AUSTRALIA       Surfing           N  2 m shark\n",
      "...            ...                 ...           ...         ...        ...\n",
      "5988       ND.0005           AUSTRALIA        Diving           Y       Null\n",
      "5989       ND.0004           AUSTRALIA  Pearl diving           Y       Null\n",
      "5990       ND.0003                 USA      Swimming           Y       Null\n",
      "5991       ND.0002              PANAMA          Null           Y       Null\n",
      "5992       ND.0001  CEYLON (SRI LANKA)      Swimming           Y       Null\n",
      "\n",
      "[5930 rows x 5 columns]\n"
     ]
    }
   ],
   "source": [
    "#STEP 2 : Clean function\n",
    "#posts = posts.rename(columns={'Id':'postId','OwnerUserId':'userId'})\n",
    "\n",
    "def clean_dataset(df):\n",
    "        #First step we sect the columns we want to work with\n",
    "        filtered_clean = df[['Case Number','Country', 'Activity', 'Fatal (Y/N)', 'Species ']]\n",
    "       \n",
    "        #We changed the name of columns with ' ' and so on \n",
    "        filtered_clean = filtered_clean.rename(columns={\"Species \":\"Species\"})\n",
    "        \n",
    "        #We check the NaN values\n",
    "        print(filtered_clean.isnull().sum())\n",
    "        \n",
    "        #We changed the NaN values to 'Null' to clean them \n",
    "        filtered_clean = filtered_clean[['Case Number', 'Country','Activity','Fatal (Y/N)','Species']] = filtered_clean[['Case Number', 'Country','Activity','Fatal (Y/N)','Species']].fillna('Null')\n",
    "        print(filtered_clean.isnull().sum())\n",
    "        \n",
    "        #We clean Null values either by changing the value aither by dropping the rows\n",
    "        \n",
    "        #We can't replace the case number so we drop the row \n",
    "        print(filtered_clean[(filtered_clean['Case Number']=='Null')])\n",
    "        filtered_clean.drop([1983], inplace=True)\n",
    "        \n",
    "        #We drop also Country\n",
    "        filtered_clean = filtered_clean[filtered_clean['Country']!='Null']\n",
    "        \n",
    "        #We drop null values from Type attack\n",
    "        filtered_clean = filtered_clean[filtered_clean['Fatal (Y/N)']!='Null']\n",
    "        print(filtered_clean)\n",
    "        \n",
    "        #Now our data is ready for filtering\n",
    "        return filtered_clean\n",
    "\n",
    "filtered_clean = clean_dataset(df)"
   ]
  },
  {
   "cell_type": "code",
   "execution_count": 23,
   "metadata": {},
   "outputs": [
    {
     "ename": "SyntaxError",
     "evalue": "invalid syntax (<ipython-input-23-b3ed09fa2f7e>, line 4)",
     "output_type": "error",
     "traceback": [
      "\u001b[0;36m  File \u001b[0;32m\"<ipython-input-23-b3ed09fa2f7e>\"\u001b[0;36m, line \u001b[0;32m4\u001b[0m\n\u001b[0;31m    wrangled_data= wrangled_data_mini.str.contains('urfing')]\u001b[0m\n\u001b[0m                ^\u001b[0m\n\u001b[0;31mSyntaxError\u001b[0m\u001b[0;31m:\u001b[0m invalid syntax\n"
     ]
    }
   ],
   "source": [
    "def wrangle(df):\n",
    "        #We keep only activities link to a board like kite surfing, surfing ...\n",
    "        wrangled_data_mini = df[df['Activity'].lower()]\n",
    "        wrangled_data= wrangled_data_mini.str.contains('urfing')]\n",
    "        #Per default it's already regex=False\n",
    "        print(wrangled_data)\n",
    "        \n",
    "        #We keep accidents liked to sharks but all kind of sharks\n",
    "        wrangled_data = wrangled_data[wrangled_data['Species'].str.contains('shark')]\n",
    "        return wrangled_data\n",
    "    \n",
    "wrangled_data = wrangle(filtered_clean)"
   ]
  },
  {
   "cell_type": "code",
   "execution_count": 8,
   "metadata": {},
   "outputs": [
    {
     "name": "stdout",
     "output_type": "stream",
     "text": [
      "         Country                        Activity  Case Number  \\\n",
      "60           USA                         Surfing          296   \n",
      "6      AUSTRALIA                         Surfing          110   \n",
      "44  SOUTH AFRICA                         Surfing           69   \n",
      "39       REUNION                         Surfing           14   \n",
      "53           USA                    Body surfing           10   \n",
      "15        BRAZIL                         Surfing            8   \n",
      "35   NEW ZEALAND                         Surfing            7   \n",
      "63           USA  Surfing (sitting on his board)            7   \n",
      "42  SOUTH AFRICA                    Body surfing            6   \n",
      "30        MEXICO                         Surfing            4   \n",
      "\n",
      "    Budget of FB Ads ($)  \n",
      "60               5574.39  \n",
      "6                2071.56  \n",
      "44               1299.44  \n",
      "39                263.65  \n",
      "53                188.32  \n",
      "15                150.66  \n",
      "35                131.83  \n",
      "63                131.83  \n",
      "42                112.99  \n",
      "30                 75.33  \n"
     ]
    }
   ],
   "source": [
    "def analyze(df):\n",
    "    grouped = df.groupby(['Country','Activity'])['Case Number'].agg('count').reset_index()\n",
    "    final = grouped.sort_values('Case Number',ascending=False).head(10)\n",
    "    total_top_10 = final['Case Number'].sum()\n",
    "    #mortality_top_10 = \n",
    "    global budget\n",
    "    final['Budget of FB Ads ($)'] = (budget * final['Case Number'] / total_top_10).round(2)\n",
    "    print(final.head(10))\n",
    "    return final\n",
    "    \n",
    "analyzed_data = analyze(wrangled_data)"
   ]
  },
  {
   "cell_type": "code",
   "execution_count": null,
   "metadata": {},
   "outputs": [],
   "source": []
  }
 ],
 "metadata": {
  "kernelspec": {
   "display_name": "Python 3",
   "language": "python",
   "name": "python3"
  },
  "language_info": {
   "codemirror_mode": {
    "name": "ipython",
    "version": 3
   },
   "file_extension": ".py",
   "mimetype": "text/x-python",
   "name": "python",
   "nbconvert_exporter": "python",
   "pygments_lexer": "ipython3",
   "version": "3.7.6"
  }
 },
 "nbformat": 4,
 "nbformat_minor": 4
}
