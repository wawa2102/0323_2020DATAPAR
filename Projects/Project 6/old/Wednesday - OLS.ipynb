{
 "cells": [
  {
   "cell_type": "code",
   "execution_count": 1,
   "metadata": {},
   "outputs": [],
   "source": [
    "import pandas as pd"
   ]
  },
  {
   "cell_type": "code",
   "execution_count": 2,
   "metadata": {},
   "outputs": [],
   "source": [
    "df=pd.read_csv('/home/mauritian/Documents/Git/data-labs/module-2/lab-matplotlib-seaborn/your-code/Fitbit2.csv')"
   ]
  },
  {
   "cell_type": "code",
   "execution_count": 3,
   "metadata": {},
   "outputs": [
    {
     "data": {
      "text/html": [
       "<div>\n",
       "<style scoped>\n",
       "    .dataframe tbody tr th:only-of-type {\n",
       "        vertical-align: middle;\n",
       "    }\n",
       "\n",
       "    .dataframe tbody tr th {\n",
       "        vertical-align: top;\n",
       "    }\n",
       "\n",
       "    .dataframe thead th {\n",
       "        text-align: right;\n",
       "    }\n",
       "</style>\n",
       "<table border=\"1\" class=\"dataframe\">\n",
       "  <thead>\n",
       "    <tr style=\"text-align: right;\">\n",
       "      <th></th>\n",
       "      <th>Date</th>\n",
       "      <th>Calorie burned</th>\n",
       "      <th>Steps</th>\n",
       "      <th>Distance</th>\n",
       "      <th>Floors</th>\n",
       "      <th>Minutes Sedentary</th>\n",
       "      <th>Minutes Lightly Active</th>\n",
       "      <th>Minutes Fairly Active</th>\n",
       "      <th>Minutes Very Active</th>\n",
       "      <th>Activity Calories</th>\n",
       "      <th>...</th>\n",
       "      <th>Distance_miles</th>\n",
       "      <th>Days</th>\n",
       "      <th>Days_encoded</th>\n",
       "      <th>Work_or_Weekend</th>\n",
       "      <th>Hours Sleep</th>\n",
       "      <th>Sleep efficiency</th>\n",
       "      <th>Yesterday_sleep</th>\n",
       "      <th>Yesterday_sleep_efficiency</th>\n",
       "      <th>Months</th>\n",
       "      <th>Months_encoded</th>\n",
       "    </tr>\n",
       "  </thead>\n",
       "  <tbody>\n",
       "    <tr>\n",
       "      <th>0</th>\n",
       "      <td>2015-05-08</td>\n",
       "      <td>1934</td>\n",
       "      <td>905</td>\n",
       "      <td>0.65</td>\n",
       "      <td>0</td>\n",
       "      <td>1.355</td>\n",
       "      <td>46</td>\n",
       "      <td>0</td>\n",
       "      <td>0</td>\n",
       "      <td>1680</td>\n",
       "      <td>...</td>\n",
       "      <td>0.403891</td>\n",
       "      <td>Friday</td>\n",
       "      <td>4.0</td>\n",
       "      <td>1</td>\n",
       "      <td>6.400000</td>\n",
       "      <td>92.086331</td>\n",
       "      <td>0.000000</td>\n",
       "      <td>0.000000</td>\n",
       "      <td>May</td>\n",
       "      <td>5</td>\n",
       "    </tr>\n",
       "    <tr>\n",
       "      <th>1</th>\n",
       "      <td>2015-05-09</td>\n",
       "      <td>3631</td>\n",
       "      <td>18925</td>\n",
       "      <td>14.11</td>\n",
       "      <td>4</td>\n",
       "      <td>611.000</td>\n",
       "      <td>316</td>\n",
       "      <td>61</td>\n",
       "      <td>60</td>\n",
       "      <td>2248</td>\n",
       "      <td>...</td>\n",
       "      <td>8.767545</td>\n",
       "      <td>Saturday</td>\n",
       "      <td>5.0</td>\n",
       "      <td>0</td>\n",
       "      <td>7.566667</td>\n",
       "      <td>92.464358</td>\n",
       "      <td>6.400000</td>\n",
       "      <td>92.086331</td>\n",
       "      <td>May</td>\n",
       "      <td>5</td>\n",
       "    </tr>\n",
       "    <tr>\n",
       "      <th>2</th>\n",
       "      <td>2015-05-10</td>\n",
       "      <td>3204</td>\n",
       "      <td>14228</td>\n",
       "      <td>10.57</td>\n",
       "      <td>1</td>\n",
       "      <td>602.000</td>\n",
       "      <td>226</td>\n",
       "      <td>14</td>\n",
       "      <td>77</td>\n",
       "      <td>1719</td>\n",
       "      <td>...</td>\n",
       "      <td>6.567891</td>\n",
       "      <td>Sunday</td>\n",
       "      <td>6.0</td>\n",
       "      <td>0</td>\n",
       "      <td>6.450000</td>\n",
       "      <td>88.761468</td>\n",
       "      <td>7.566667</td>\n",
       "      <td>92.464358</td>\n",
       "      <td>May</td>\n",
       "      <td>5</td>\n",
       "    </tr>\n",
       "    <tr>\n",
       "      <th>3</th>\n",
       "      <td>2015-05-11</td>\n",
       "      <td>2673</td>\n",
       "      <td>6756</td>\n",
       "      <td>5.02</td>\n",
       "      <td>8</td>\n",
       "      <td>749.000</td>\n",
       "      <td>190</td>\n",
       "      <td>23</td>\n",
       "      <td>4</td>\n",
       "      <td>9620</td>\n",
       "      <td>...</td>\n",
       "      <td>3.119282</td>\n",
       "      <td>Monday</td>\n",
       "      <td>0.0</td>\n",
       "      <td>1</td>\n",
       "      <td>5.183333</td>\n",
       "      <td>88.857143</td>\n",
       "      <td>6.450000</td>\n",
       "      <td>88.761468</td>\n",
       "      <td>May</td>\n",
       "      <td>5</td>\n",
       "    </tr>\n",
       "    <tr>\n",
       "      <th>4</th>\n",
       "      <td>2015-05-12</td>\n",
       "      <td>2495</td>\n",
       "      <td>502</td>\n",
       "      <td>3.73</td>\n",
       "      <td>1</td>\n",
       "      <td>876.000</td>\n",
       "      <td>171</td>\n",
       "      <td>0</td>\n",
       "      <td>0</td>\n",
       "      <td>7360</td>\n",
       "      <td>...</td>\n",
       "      <td>2.317714</td>\n",
       "      <td>Tuesday</td>\n",
       "      <td>1.0</td>\n",
       "      <td>1</td>\n",
       "      <td>6.783333</td>\n",
       "      <td>82.892057</td>\n",
       "      <td>5.183333</td>\n",
       "      <td>88.857143</td>\n",
       "      <td>May</td>\n",
       "      <td>5</td>\n",
       "    </tr>\n",
       "  </tbody>\n",
       "</table>\n",
       "<p>5 rows × 24 columns</p>\n",
       "</div>"
      ],
      "text/plain": [
       "         Date  Calorie burned  Steps  Distance  Floors  Minutes Sedentary  \\\n",
       "0  2015-05-08            1934    905      0.65       0              1.355   \n",
       "1  2015-05-09            3631  18925     14.11       4            611.000   \n",
       "2  2015-05-10            3204  14228     10.57       1            602.000   \n",
       "3  2015-05-11            2673   6756      5.02       8            749.000   \n",
       "4  2015-05-12            2495    502      3.73       1            876.000   \n",
       "\n",
       "   Minutes Lightly Active  Minutes Fairly Active  Minutes Very Active  \\\n",
       "0                      46                      0                    0   \n",
       "1                     316                     61                   60   \n",
       "2                     226                     14                   77   \n",
       "3                     190                     23                    4   \n",
       "4                     171                      0                    0   \n",
       "\n",
       "   Activity Calories  ...  Distance_miles      Days  Days_encoded  \\\n",
       "0               1680  ...        0.403891    Friday           4.0   \n",
       "1               2248  ...        8.767545  Saturday           5.0   \n",
       "2               1719  ...        6.567891    Sunday           6.0   \n",
       "3               9620  ...        3.119282    Monday           0.0   \n",
       "4               7360  ...        2.317714   Tuesday           1.0   \n",
       "\n",
       "   Work_or_Weekend  Hours Sleep Sleep efficiency  Yesterday_sleep  \\\n",
       "0                1     6.400000        92.086331         0.000000   \n",
       "1                0     7.566667        92.464358         6.400000   \n",
       "2                0     6.450000        88.761468         7.566667   \n",
       "3                1     5.183333        88.857143         6.450000   \n",
       "4                1     6.783333        82.892057         5.183333   \n",
       "\n",
       "   Yesterday_sleep_efficiency  Months  Months_encoded  \n",
       "0                    0.000000     May               5  \n",
       "1                   92.086331     May               5  \n",
       "2                   92.464358     May               5  \n",
       "3                   88.761468     May               5  \n",
       "4                   88.857143     May               5  \n",
       "\n",
       "[5 rows x 24 columns]"
      ]
     },
     "execution_count": 3,
     "metadata": {},
     "output_type": "execute_result"
    }
   ],
   "source": [
    "df.head()"
   ]
  },
  {
   "cell_type": "code",
   "execution_count": 4,
   "metadata": {},
   "outputs": [
    {
     "data": {
      "text/plain": [
       "Index(['Date', 'Calorie burned', 'Steps', 'Distance', 'Floors',\n",
       "       'Minutes Sedentary', 'Minutes Lightly Active', 'Minutes Fairly Active',\n",
       "       'Minutes Very Active', 'Activity Calories', 'MinutesOfSleep',\n",
       "       'MinutesOfBeingAwake', 'NumberOfAwakings', 'LengthOfRestInMinutes',\n",
       "       'Distance_miles', 'Days', 'Days_encoded', 'Work_or_Weekend',\n",
       "       'Hours Sleep', 'Sleep efficiency', 'Yesterday_sleep',\n",
       "       'Yesterday_sleep_efficiency', 'Months', 'Months_encoded'],\n",
       "      dtype='object')"
      ]
     },
     "execution_count": 4,
     "metadata": {},
     "output_type": "execute_result"
    }
   ],
   "source": [
    "df.columns"
   ]
  },
  {
   "cell_type": "markdown",
   "metadata": {},
   "source": [
    "Among all the columns we have in DataFrame (DF), I decided to study what defines the duration of being awake during the night. The first assumption - Number of Awakings. Because it makes so much sense - the more you wake up, the longer you dont sleep during the night"
   ]
  },
  {
   "cell_type": "code",
   "execution_count": 5,
   "metadata": {},
   "outputs": [
    {
     "data": {
      "text/html": [
       "<div>\n",
       "<style scoped>\n",
       "    .dataframe tbody tr th:only-of-type {\n",
       "        vertical-align: middle;\n",
       "    }\n",
       "\n",
       "    .dataframe tbody tr th {\n",
       "        vertical-align: top;\n",
       "    }\n",
       "\n",
       "    .dataframe thead th {\n",
       "        text-align: right;\n",
       "    }\n",
       "</style>\n",
       "<table border=\"1\" class=\"dataframe\">\n",
       "  <thead>\n",
       "    <tr style=\"text-align: right;\">\n",
       "      <th></th>\n",
       "      <th>MinutesOfBeingAwake</th>\n",
       "      <th>NumberOfAwakings</th>\n",
       "    </tr>\n",
       "  </thead>\n",
       "  <tbody>\n",
       "    <tr>\n",
       "      <th>0</th>\n",
       "      <td>26</td>\n",
       "      <td>23</td>\n",
       "    </tr>\n",
       "    <tr>\n",
       "      <th>1</th>\n",
       "      <td>35</td>\n",
       "      <td>21</td>\n",
       "    </tr>\n",
       "    <tr>\n",
       "      <th>2</th>\n",
       "      <td>46</td>\n",
       "      <td>25</td>\n",
       "    </tr>\n",
       "    <tr>\n",
       "      <th>3</th>\n",
       "      <td>31</td>\n",
       "      <td>21</td>\n",
       "    </tr>\n",
       "    <tr>\n",
       "      <th>4</th>\n",
       "      <td>65</td>\n",
       "      <td>44</td>\n",
       "    </tr>\n",
       "    <tr>\n",
       "      <th>...</th>\n",
       "      <td>...</td>\n",
       "      <td>...</td>\n",
       "    </tr>\n",
       "    <tr>\n",
       "      <th>362</th>\n",
       "      <td>33</td>\n",
       "      <td>18</td>\n",
       "    </tr>\n",
       "    <tr>\n",
       "      <th>363</th>\n",
       "      <td>21</td>\n",
       "      <td>8</td>\n",
       "    </tr>\n",
       "    <tr>\n",
       "      <th>364</th>\n",
       "      <td>35</td>\n",
       "      <td>15</td>\n",
       "    </tr>\n",
       "    <tr>\n",
       "      <th>365</th>\n",
       "      <td>42</td>\n",
       "      <td>22</td>\n",
       "    </tr>\n",
       "    <tr>\n",
       "      <th>366</th>\n",
       "      <td>57</td>\n",
       "      <td>31</td>\n",
       "    </tr>\n",
       "  </tbody>\n",
       "</table>\n",
       "<p>367 rows × 2 columns</p>\n",
       "</div>"
      ],
      "text/plain": [
       "     MinutesOfBeingAwake  NumberOfAwakings\n",
       "0                     26                23\n",
       "1                     35                21\n",
       "2                     46                25\n",
       "3                     31                21\n",
       "4                     65                44\n",
       "..                   ...               ...\n",
       "362                   33                18\n",
       "363                   21                 8\n",
       "364                   35                15\n",
       "365                   42                22\n",
       "366                   57                31\n",
       "\n",
       "[367 rows x 2 columns]"
      ]
     },
     "execution_count": 5,
     "metadata": {},
     "output_type": "execute_result"
    }
   ],
   "source": [
    "df[['MinutesOfBeingAwake','NumberOfAwakings']]"
   ]
  },
  {
   "cell_type": "code",
   "execution_count": 6,
   "metadata": {},
   "outputs": [
    {
     "data": {
      "text/plain": [
       "<matplotlib.axes._subplots.AxesSubplot at 0x7fe18f7bac10>"
      ]
     },
     "execution_count": 6,
     "metadata": {},
     "output_type": "execute_result"
    },
    {
     "data": {
      "image/png": "[encoded data removed]",
      "text/plain": [
       "<Figure size 432x288 with 1 Axes>"
      ]
     },
     "metadata": {
      "needs_background": "light"
     },
     "output_type": "display_data"
    }
   ],
   "source": [
    "df[['MinutesOfBeingAwake','NumberOfAwakings']].plot()"
   ]
  },
  {
   "cell_type": "markdown",
   "metadata": {},
   "source": [
    "We can see that when the number of awakings increases - the duration of insomnia as well. Same happens when the number of awakings decrease"
   ]
  },
  {
   "cell_type": "code",
   "execution_count": 7,
   "metadata": {},
   "outputs": [],
   "source": [
    "import matplotlib.pyplot as plt\n",
    "import seaborn as sns"
   ]
  },
  {
   "cell_type": "code",
   "execution_count": 8,
   "metadata": {},
   "outputs": [],
   "source": [
    "sns.set()"
   ]
  },
  {
   "cell_type": "code",
   "execution_count": 9,
   "metadata": {},
   "outputs": [],
   "source": [
    "%matplotlib inline"
   ]
  },
  {
   "cell_type": "code",
   "execution_count": 10,
   "metadata": {},
   "outputs": [
    {
     "data": {
      "text/plain": [
       "<matplotlib.axes._subplots.AxesSubplot at 0x7fe18c457590>"
      ]
     },
     "execution_count": 10,
     "metadata": {},
     "output_type": "execute_result"
    },
    {
     "data": {
      "image/png": "[encoded data removed]",
      "text/plain": [
       "<Figure size 432x288 with 1 Axes>"
      ]
     },
     "metadata": {
      "needs_background": "light"
     },
     "output_type": "display_data"
    }
   ],
   "source": [
    "sns.scatterplot(data=df, x='NumberOfAwakings',y='MinutesOfBeingAwake')"
   ]
  },
  {
   "cell_type": "markdown",
   "metadata": {},
   "source": [
    "We can see clear dependancy"
   ]
  },
  {
   "cell_type": "markdown",
   "metadata": {},
   "source": [
    "# Modeling"
   ]
  },
  {
   "cell_type": "markdown",
   "metadata": {},
   "source": [
    "Lets build a model that will predict the average time of us being awake depending on the number of awakings during the night"
   ]
  },
  {
   "cell_type": "code",
   "execution_count": 11,
   "metadata": {},
   "outputs": [],
   "source": [
    "import statsmodels.api as sm"
   ]
  },
  {
   "cell_type": "code",
   "execution_count": 12,
   "metadata": {},
   "outputs": [
    {
     "data": {
      "text/plain": [
       "<statsmodels.regression.linear_model.OLS at 0x7fe18b538e10>"
      ]
     },
     "execution_count": 12,
     "metadata": {},
     "output_type": "execute_result"
    }
   ],
   "source": [
    "# OLS object from statsmodels allows us create the OLS model. It has 2 main parameters: endog(y) and exog(X)\n",
    "sm.OLS(exog=df.NumberOfAwakings, endog=df.MinutesOfBeingAwake)"
   ]
  },
  {
   "cell_type": "markdown",
   "metadata": {},
   "source": [
    "Endogeneous variable - Dependant variable. (y)\n",
    "\n",
    "Exogeneous variable - Independant variable (x)"
   ]
  },
  {
   "cell_type": "code",
   "execution_count": 13,
   "metadata": {},
   "outputs": [],
   "source": [
    "#but we usually define the variables outside of the function. It increases the readability.\n",
    "# Here we add 1 additional feature Days_encoded. This feature cant bring us any additional important information.\n",
    "# It was added to show the difference in the output.\n",
    "y=df.MinutesOfBeingAwake\n",
    "X=df[['NumberOfAwakings','Days_encoded']]"
   ]
  },
  {
   "cell_type": "code",
   "execution_count": 14,
   "metadata": {},
   "outputs": [],
   "source": [
    "# Keep in mind the order of y and X. After creating the object of OLS model, we need to fit it.\n",
    "# Fit is the method that calculates all the parameters and metrics for the model. \n",
    "# This method presents in every single library.\n",
    "model=sm.OLS(y,X).fit()"
   ]
  },
  {
   "cell_type": "code",
   "execution_count": 15,
   "metadata": {},
   "outputs": [
    {
     "data": {
      "text/html": [
       "<table class=\"simpletable\">\n",
       "<caption>OLS Regression Results</caption>\n",
       "<tr>\n",
       "  <th>Dep. Variable:</th>    <td>MinutesOfBeingAwake</td> <th>  R-squared (uncentered):</th>      <td>   0.971</td> \n",
       "</tr>\n",
       "<tr>\n",
       "  <th>Model:</th>                    <td>OLS</td>         <th>  Adj. R-squared (uncentered):</th> <td>   0.971</td> \n",
       "</tr>\n",
       "<tr>\n",
       "  <th>Method:</th>              <td>Least Squares</td>    <th>  F-statistic:       </th>          <td>   6140.</td> \n",
       "</tr>\n",
       "<tr>\n",
       "  <th>Date:</th>              <td>Wed, 29 Apr 2020</td>   <th>  Prob (F-statistic):</th>          <td>1.06e-281</td>\n",
       "</tr>\n",
       "<tr>\n",
       "  <th>Time:</th>                  <td>15:49:43</td>       <th>  Log-Likelihood:    </th>          <td> -1159.8</td> \n",
       "</tr>\n",
       "<tr>\n",
       "  <th>No. Observations:</th>       <td>   367</td>        <th>  AIC:               </th>          <td>   2324.</td> \n",
       "</tr>\n",
       "<tr>\n",
       "  <th>Df Residuals:</th>           <td>   365</td>        <th>  BIC:               </th>          <td>   2331.</td> \n",
       "</tr>\n",
       "<tr>\n",
       "  <th>Df Model:</th>               <td>     2</td>        <th>                     </th>              <td> </td>    \n",
       "</tr>\n",
       "<tr>\n",
       "  <th>Covariance Type:</th>       <td>nonrobust</td>      <th>                     </th>              <td> </td>    \n",
       "</tr>\n",
       "</table>\n",
       "<table class=\"simpletable\">\n",
       "<tr>\n",
       "          <td></td>            <th>coef</th>     <th>std err</th>      <th>t</th>      <th>P>|t|</th>  <th>[0.025</th>    <th>0.975]</th>  \n",
       "</tr>\n",
       "<tr>\n",
       "  <th>NumberOfAwakings</th> <td>    1.6733</td> <td>    0.021</td> <td>   78.074</td> <td> 0.000</td> <td>    1.631</td> <td>    1.715</td>\n",
       "</tr>\n",
       "<tr>\n",
       "  <th>Days_encoded</th>     <td>    0.2228</td> <td>    0.115</td> <td>    1.933</td> <td> 0.054</td> <td>   -0.004</td> <td>    0.450</td>\n",
       "</tr>\n",
       "</table>\n",
       "<table class=\"simpletable\">\n",
       "<tr>\n",
       "  <th>Omnibus:</th>       <td>12.495</td> <th>  Durbin-Watson:     </th> <td>   1.810</td>\n",
       "</tr>\n",
       "<tr>\n",
       "  <th>Prob(Omnibus):</th> <td> 0.002</td> <th>  Jarque-Bera (JB):  </th> <td>  22.694</td>\n",
       "</tr>\n",
       "<tr>\n",
       "  <th>Skew:</th>          <td> 0.162</td> <th>  Prob(JB):          </th> <td>1.18e-05</td>\n",
       "</tr>\n",
       "<tr>\n",
       "  <th>Kurtosis:</th>      <td> 4.174</td> <th>  Cond. No.          </th> <td>    7.63</td>\n",
       "</tr>\n",
       "</table><br/><br/>Warnings:<br/>[1] Standard Errors assume that the covariance matrix of the errors is correctly specified."
      ],
      "text/plain": [
       "<class 'statsmodels.iolib.summary.Summary'>\n",
       "\"\"\"\n",
       "                                 OLS Regression Results                                 \n",
       "========================================================================================\n",
       "Dep. Variable:     MinutesOfBeingAwake   R-squared (uncentered):                   0.971\n",
       "Model:                             OLS   Adj. R-squared (uncentered):              0.971\n",
       "Method:                  Least Squares   F-statistic:                              6140.\n",
       "Date:                 Wed, 29 Apr 2020   Prob (F-statistic):                   1.06e-281\n",
       "Time:                         15:49:43   Log-Likelihood:                         -1159.8\n",
       "No. Observations:                  367   AIC:                                      2324.\n",
       "Df Residuals:                      365   BIC:                                      2331.\n",
       "Df Model:                            2                                                  \n",
       "Covariance Type:             nonrobust                                                  \n",
       "====================================================================================\n",
       "                       coef    std err          t      P>|t|      [0.025      0.975]\n",
       "------------------------------------------------------------------------------------\n",
       "NumberOfAwakings     1.6733      0.021     78.074      0.000       1.631       1.715\n",
       "Days_encoded         0.2228      0.115      1.933      0.054      -0.004       0.450\n",
       "==============================================================================\n",
       "Omnibus:                       12.495   Durbin-Watson:                   1.810\n",
       "Prob(Omnibus):                  0.002   Jarque-Bera (JB):               22.694\n",
       "Skew:                           0.162   Prob(JB):                     1.18e-05\n",
       "Kurtosis:                       4.174   Cond. No.                         7.63\n",
       "==============================================================================\n",
       "\n",
       "Warnings:\n",
       "[1] Standard Errors assume that the covariance matrix of the errors is correctly specified.\n",
       "\"\"\""
      ]
     },
     "execution_count": 15,
     "metadata": {},
     "output_type": "execute_result"
    }
   ],
   "source": [
    "# Summary method provides us the proper summary of OLS model. \n",
    "model.summary()"
   ]
  },
  {
   "cell_type": "markdown",
   "metadata": {},
   "source": [
    "In this iteration we can see that p_value for Days_encoded feature coefficient is higher than 5%. That shows insignificancy of this parameter for our model.\n",
    "\n",
    "At the same time summary shows us that R2 and Adjusted R2 are uncentered. That means that we dont have constant in the model. **It is very important to have a constant in the model**. "
   ]
  },
  {
   "cell_type": "code",
   "execution_count": 16,
   "metadata": {},
   "outputs": [],
   "source": [
    "# This function simply adds constant to our X (1 column with all values being equal to 1)\n",
    "from statsmodels.tools.tools import add_constant"
   ]
  },
  {
   "cell_type": "code",
   "execution_count": 17,
   "metadata": {},
   "outputs": [
    {
     "data": {
      "text/html": [
       "<div>\n",
       "<style scoped>\n",
       "    .dataframe tbody tr th:only-of-type {\n",
       "        vertical-align: middle;\n",
       "    }\n",
       "\n",
       "    .dataframe tbody tr th {\n",
       "        vertical-align: top;\n",
       "    }\n",
       "\n",
       "    .dataframe thead th {\n",
       "        text-align: right;\n",
       "    }\n",
       "</style>\n",
       "<table border=\"1\" class=\"dataframe\">\n",
       "  <thead>\n",
       "    <tr style=\"text-align: right;\">\n",
       "      <th></th>\n",
       "      <th>const</th>\n",
       "      <th>NumberOfAwakings</th>\n",
       "      <th>Days_encoded</th>\n",
       "    </tr>\n",
       "  </thead>\n",
       "  <tbody>\n",
       "    <tr>\n",
       "      <th>0</th>\n",
       "      <td>1.0</td>\n",
       "      <td>23</td>\n",
       "      <td>4.0</td>\n",
       "    </tr>\n",
       "    <tr>\n",
       "      <th>1</th>\n",
       "      <td>1.0</td>\n",
       "      <td>21</td>\n",
       "      <td>5.0</td>\n",
       "    </tr>\n",
       "    <tr>\n",
       "      <th>2</th>\n",
       "      <td>1.0</td>\n",
       "      <td>25</td>\n",
       "      <td>6.0</td>\n",
       "    </tr>\n",
       "    <tr>\n",
       "      <th>3</th>\n",
       "      <td>1.0</td>\n",
       "      <td>21</td>\n",
       "      <td>0.0</td>\n",
       "    </tr>\n",
       "    <tr>\n",
       "      <th>4</th>\n",
       "      <td>1.0</td>\n",
       "      <td>44</td>\n",
       "      <td>1.0</td>\n",
       "    </tr>\n",
       "    <tr>\n",
       "      <th>...</th>\n",
       "      <td>...</td>\n",
       "      <td>...</td>\n",
       "      <td>...</td>\n",
       "    </tr>\n",
       "    <tr>\n",
       "      <th>362</th>\n",
       "      <td>1.0</td>\n",
       "      <td>18</td>\n",
       "      <td>1.0</td>\n",
       "    </tr>\n",
       "    <tr>\n",
       "      <th>363</th>\n",
       "      <td>1.0</td>\n",
       "      <td>8</td>\n",
       "      <td>2.0</td>\n",
       "    </tr>\n",
       "    <tr>\n",
       "      <th>364</th>\n",
       "      <td>1.0</td>\n",
       "      <td>15</td>\n",
       "      <td>3.0</td>\n",
       "    </tr>\n",
       "    <tr>\n",
       "      <th>365</th>\n",
       "      <td>1.0</td>\n",
       "      <td>22</td>\n",
       "      <td>4.0</td>\n",
       "    </tr>\n",
       "    <tr>\n",
       "      <th>366</th>\n",
       "      <td>1.0</td>\n",
       "      <td>31</td>\n",
       "      <td>5.0</td>\n",
       "    </tr>\n",
       "  </tbody>\n",
       "</table>\n",
       "<p>367 rows × 3 columns</p>\n",
       "</div>"
      ],
      "text/plain": [
       "     const  NumberOfAwakings  Days_encoded\n",
       "0      1.0                23           4.0\n",
       "1      1.0                21           5.0\n",
       "2      1.0                25           6.0\n",
       "3      1.0                21           0.0\n",
       "4      1.0                44           1.0\n",
       "..     ...               ...           ...\n",
       "362    1.0                18           1.0\n",
       "363    1.0                 8           2.0\n",
       "364    1.0                15           3.0\n",
       "365    1.0                22           4.0\n",
       "366    1.0                31           5.0\n",
       "\n",
       "[367 rows x 3 columns]"
      ]
     },
     "execution_count": 17,
     "metadata": {},
     "output_type": "execute_result"
    }
   ],
   "source": [
    "# As you can see we have a new column of ones\n",
    "add_constant(X)"
   ]
  },
  {
   "cell_type": "code",
   "execution_count": 18,
   "metadata": {},
   "outputs": [
    {
     "data": {
      "text/html": [
       "<table class=\"simpletable\">\n",
       "<caption>OLS Regression Results</caption>\n",
       "<tr>\n",
       "  <th>Dep. Variable:</th>    <td>MinutesOfBeingAwake</td> <th>  R-squared:         </th> <td>   0.906</td> \n",
       "</tr>\n",
       "<tr>\n",
       "  <th>Model:</th>                    <td>OLS</td>         <th>  Adj. R-squared:    </th> <td>   0.905</td> \n",
       "</tr>\n",
       "<tr>\n",
       "  <th>Method:</th>              <td>Least Squares</td>    <th>  F-statistic:       </th> <td>   1754.</td> \n",
       "</tr>\n",
       "<tr>\n",
       "  <th>Date:</th>              <td>Wed, 29 Apr 2020</td>   <th>  Prob (F-statistic):</th> <td>1.34e-187</td>\n",
       "</tr>\n",
       "<tr>\n",
       "  <th>Time:</th>                  <td>15:49:43</td>       <th>  Log-Likelihood:    </th> <td> -1158.1</td> \n",
       "</tr>\n",
       "<tr>\n",
       "  <th>No. Observations:</th>       <td>   367</td>        <th>  AIC:               </th> <td>   2322.</td> \n",
       "</tr>\n",
       "<tr>\n",
       "  <th>Df Residuals:</th>           <td>   364</td>        <th>  BIC:               </th> <td>   2334.</td> \n",
       "</tr>\n",
       "<tr>\n",
       "  <th>Df Model:</th>               <td>     2</td>        <th>                     </th>     <td> </td>    \n",
       "</tr>\n",
       "<tr>\n",
       "  <th>Covariance Type:</th>       <td>nonrobust</td>      <th>                     </th>     <td> </td>    \n",
       "</tr>\n",
       "</table>\n",
       "<table class=\"simpletable\">\n",
       "<tr>\n",
       "          <td></td>            <th>coef</th>     <th>std err</th>      <th>t</th>      <th>P>|t|</th>  <th>[0.025</th>    <th>0.975]</th>  \n",
       "</tr>\n",
       "<tr>\n",
       "  <th>const</th>            <td>    1.3012</td> <td>    0.699</td> <td>    1.863</td> <td> 0.063</td> <td>   -0.072</td> <td>    2.675</td>\n",
       "</tr>\n",
       "<tr>\n",
       "  <th>NumberOfAwakings</th> <td>    1.6404</td> <td>    0.028</td> <td>   59.219</td> <td> 0.000</td> <td>    1.586</td> <td>    1.695</td>\n",
       "</tr>\n",
       "<tr>\n",
       "  <th>Days_encoded</th>     <td>    0.0459</td> <td>    0.149</td> <td>    0.308</td> <td> 0.759</td> <td>   -0.247</td> <td>    0.339</td>\n",
       "</tr>\n",
       "</table>\n",
       "<table class=\"simpletable\">\n",
       "<tr>\n",
       "  <th>Omnibus:</th>       <td>17.007</td> <th>  Durbin-Watson:     </th> <td>   1.830</td>\n",
       "</tr>\n",
       "<tr>\n",
       "  <th>Prob(Omnibus):</th> <td> 0.000</td> <th>  Jarque-Bera (JB):  </th> <td>  29.783</td>\n",
       "</tr>\n",
       "<tr>\n",
       "  <th>Skew:</th>          <td> 0.285</td> <th>  Prob(JB):          </th> <td>3.41e-07</td>\n",
       "</tr>\n",
       "<tr>\n",
       "  <th>Kurtosis:</th>      <td> 4.274</td> <th>  Cond. No.          </th> <td>    46.5</td>\n",
       "</tr>\n",
       "</table><br/><br/>Warnings:<br/>[1] Standard Errors assume that the covariance matrix of the errors is correctly specified."
      ],
      "text/plain": [
       "<class 'statsmodels.iolib.summary.Summary'>\n",
       "\"\"\"\n",
       "                             OLS Regression Results                            \n",
       "===============================================================================\n",
       "Dep. Variable:     MinutesOfBeingAwake   R-squared:                       0.906\n",
       "Model:                             OLS   Adj. R-squared:                  0.905\n",
       "Method:                  Least Squares   F-statistic:                     1754.\n",
       "Date:                 Wed, 29 Apr 2020   Prob (F-statistic):          1.34e-187\n",
       "Time:                         15:49:43   Log-Likelihood:                -1158.1\n",
       "No. Observations:                  367   AIC:                             2322.\n",
       "Df Residuals:                      364   BIC:                             2334.\n",
       "Df Model:                            2                                         \n",
       "Covariance Type:             nonrobust                                         \n",
       "====================================================================================\n",
       "                       coef    std err          t      P>|t|      [0.025      0.975]\n",
       "------------------------------------------------------------------------------------\n",
       "const                1.3012      0.699      1.863      0.063      -0.072       2.675\n",
       "NumberOfAwakings     1.6404      0.028     59.219      0.000       1.586       1.695\n",
       "Days_encoded         0.0459      0.149      0.308      0.759      -0.247       0.339\n",
       "==============================================================================\n",
       "Omnibus:                       17.007   Durbin-Watson:                   1.830\n",
       "Prob(Omnibus):                  0.000   Jarque-Bera (JB):               29.783\n",
       "Skew:                           0.285   Prob(JB):                     3.41e-07\n",
       "Kurtosis:                       4.274   Cond. No.                         46.5\n",
       "==============================================================================\n",
       "\n",
       "Warnings:\n",
       "[1] Standard Errors assume that the covariance matrix of the errors is correctly specified.\n",
       "\"\"\""
      ]
     },
     "execution_count": 18,
     "metadata": {},
     "output_type": "execute_result"
    }
   ],
   "source": [
    "# Following the same steps we end up in a new model.\n",
    "y=df.MinutesOfBeingAwake\n",
    "X=df[['NumberOfAwakings','Days_encoded']]\n",
    "model=sm.OLS(y,add_constant(X)).fit()\n",
    "model.summary()"
   ]
  },
  {
   "cell_type": "markdown",
   "metadata": {},
   "source": [
    "We can see that p_value for Days_encoded is much higher than 0.05, therefore this variable is meaningless for tis analysis. So we drop it"
   ]
  },
  {
   "cell_type": "markdown",
   "metadata": {},
   "source": [
    "### How do we select features for the model?\n",
    "\n",
    "There are several ways to do so:\n",
    "1. Start from 1 feature and iteratively add more features.\n",
    "2. Start from all features and iteratively remove meaningless ones.\n",
    "3. Start from correlation matrix and select only those features that are highly correlated with Dependant variable. Remove meaningless ones and iteratively add remaining ones."
   ]
  },
  {
   "cell_type": "code",
   "execution_count": 19,
   "metadata": {},
   "outputs": [
    {
     "data": {
      "text/plain": [
       "Months_encoded               -0.112566\n",
       "Activity Calories             0.010859\n",
       "Days_encoded                  0.013195\n",
       "Work_or_Weekend               0.038051\n",
       "Calorie burned                0.041999\n",
       "Floors                        0.064587\n",
       "Minutes Lightly Active        0.096107\n",
       "Minutes Fairly Active         0.104303\n",
       "Minutes Very Active           0.116559\n",
       "Steps                         0.124846\n",
       "Distance_miles                0.130447\n",
       "Distance                      0.130447\n",
       "Yesterday_sleep_efficiency    0.131307\n",
       "Yesterday_sleep               0.160424\n",
       "Minutes Sedentary             0.200589\n",
       "Sleep efficiency              0.599178\n",
       "MinutesOfSleep                0.779595\n",
       "Hours Sleep                   0.779595\n",
       "LengthOfRestInMinutes         0.820110\n",
       "NumberOfAwakings              0.951817\n",
       "MinutesOfBeingAwake           1.000000\n",
       "Name: MinutesOfBeingAwake, dtype: float64"
      ]
     },
     "execution_count": 19,
     "metadata": {},
     "output_type": "execute_result"
    }
   ],
   "source": [
    "df.corr().MinutesOfBeingAwake.sort_values()"
   ]
  },
  {
   "cell_type": "markdown",
   "metadata": {},
   "source": [
    "We can see that 'Sleep efficiency', 'MinutesOfSleep', 'Hours Sleep', 'LengthOfRestInMinutes' and 'NumberOfAwakings' are highly correlated with y. So, we add them. Keep in mind that 'Hours Sleep' can be easily calculated from 'MinutesOfSleep'. Therefore there is no need of adding both features. I selected the one without spaces in the name, haha"
   ]
  },
  {
   "cell_type": "code",
   "execution_count": 20,
   "metadata": {},
   "outputs": [
    {
     "data": {
      "text/html": [
       "<table class=\"simpletable\">\n",
       "<caption>OLS Regression Results</caption>\n",
       "<tr>\n",
       "  <th>Dep. Variable:</th>    <td>MinutesOfBeingAwake</td> <th>  R-squared:         </th> <td>   0.951</td> \n",
       "</tr>\n",
       "<tr>\n",
       "  <th>Model:</th>                    <td>OLS</td>         <th>  Adj. R-squared:    </th> <td>   0.950</td> \n",
       "</tr>\n",
       "<tr>\n",
       "  <th>Method:</th>              <td>Least Squares</td>    <th>  F-statistic:       </th> <td>   2327.</td> \n",
       "</tr>\n",
       "<tr>\n",
       "  <th>Date:</th>              <td>Wed, 29 Apr 2020</td>   <th>  Prob (F-statistic):</th> <td>1.39e-236</td>\n",
       "</tr>\n",
       "<tr>\n",
       "  <th>Time:</th>                  <td>15:49:43</td>       <th>  Log-Likelihood:    </th> <td> -1040.1</td> \n",
       "</tr>\n",
       "<tr>\n",
       "  <th>No. Observations:</th>       <td>   367</td>        <th>  AIC:               </th> <td>   2088.</td> \n",
       "</tr>\n",
       "<tr>\n",
       "  <th>Df Residuals:</th>           <td>   363</td>        <th>  BIC:               </th> <td>   2104.</td> \n",
       "</tr>\n",
       "<tr>\n",
       "  <th>Df Model:</th>               <td>     3</td>        <th>                     </th>     <td> </td>    \n",
       "</tr>\n",
       "<tr>\n",
       "  <th>Covariance Type:</th>       <td>nonrobust</td>      <th>                     </th>     <td> </td>    \n",
       "</tr>\n",
       "</table>\n",
       "<table class=\"simpletable\">\n",
       "<tr>\n",
       "            <td></td>               <th>coef</th>     <th>std err</th>      <th>t</th>      <th>P>|t|</th>  <th>[0.025</th>    <th>0.975]</th>  \n",
       "</tr>\n",
       "<tr>\n",
       "  <th>const</th>                 <td>   -0.3022</td> <td>    0.461</td> <td>   -0.655</td> <td> 0.513</td> <td>   -1.209</td> <td>    0.605</td>\n",
       "</tr>\n",
       "<tr>\n",
       "  <th>NumberOfAwakings</th>      <td>    0.6747</td> <td>    0.058</td> <td>   11.628</td> <td> 0.000</td> <td>    0.561</td> <td>    0.789</td>\n",
       "</tr>\n",
       "<tr>\n",
       "  <th>LengthOfRestInMinutes</th> <td>    0.5297</td> <td>    0.030</td> <td>   17.385</td> <td> 0.000</td> <td>    0.470</td> <td>    0.590</td>\n",
       "</tr>\n",
       "<tr>\n",
       "  <th>MinutesOfSleep</th>        <td>   -0.5262</td> <td>    0.031</td> <td>  -16.977</td> <td> 0.000</td> <td>   -0.587</td> <td>   -0.465</td>\n",
       "</tr>\n",
       "</table>\n",
       "<table class=\"simpletable\">\n",
       "<tr>\n",
       "  <th>Omnibus:</th>       <td>106.901</td> <th>  Durbin-Watson:     </th> <td>   1.661</td>\n",
       "</tr>\n",
       "<tr>\n",
       "  <th>Prob(Omnibus):</th> <td> 0.000</td>  <th>  Jarque-Bera (JB):  </th> <td> 391.434</td>\n",
       "</tr>\n",
       "<tr>\n",
       "  <th>Skew:</th>          <td>-1.251</td>  <th>  Prob(JB):          </th> <td>1.00e-85</td>\n",
       "</tr>\n",
       "<tr>\n",
       "  <th>Kurtosis:</th>      <td> 7.398</td>  <th>  Cond. No.          </th> <td>1.05e+03</td>\n",
       "</tr>\n",
       "</table><br/><br/>Warnings:<br/>[1] Standard Errors assume that the covariance matrix of the errors is correctly specified.<br/>[2] The condition number is large, 1.05e+03. This might indicate that there are<br/>strong multicollinearity or other numerical problems."
      ],
      "text/plain": [
       "<class 'statsmodels.iolib.summary.Summary'>\n",
       "\"\"\"\n",
       "                             OLS Regression Results                            \n",
       "===============================================================================\n",
       "Dep. Variable:     MinutesOfBeingAwake   R-squared:                       0.951\n",
       "Model:                             OLS   Adj. R-squared:                  0.950\n",
       "Method:                  Least Squares   F-statistic:                     2327.\n",
       "Date:                 Wed, 29 Apr 2020   Prob (F-statistic):          1.39e-236\n",
       "Time:                         15:49:43   Log-Likelihood:                -1040.1\n",
       "No. Observations:                  367   AIC:                             2088.\n",
       "Df Residuals:                      363   BIC:                             2104.\n",
       "Df Model:                            3                                         \n",
       "Covariance Type:             nonrobust                                         \n",
       "=========================================================================================\n",
       "                            coef    std err          t      P>|t|      [0.025      0.975]\n",
       "-----------------------------------------------------------------------------------------\n",
       "const                    -0.3022      0.461     -0.655      0.513      -1.209       0.605\n",
       "NumberOfAwakings          0.6747      0.058     11.628      0.000       0.561       0.789\n",
       "LengthOfRestInMinutes     0.5297      0.030     17.385      0.000       0.470       0.590\n",
       "MinutesOfSleep           -0.5262      0.031    -16.977      0.000      -0.587      -0.465\n",
       "==============================================================================\n",
       "Omnibus:                      106.901   Durbin-Watson:                   1.661\n",
       "Prob(Omnibus):                  0.000   Jarque-Bera (JB):              391.434\n",
       "Skew:                          -1.251   Prob(JB):                     1.00e-85\n",
       "Kurtosis:                       7.398   Cond. No.                     1.05e+03\n",
       "==============================================================================\n",
       "\n",
       "Warnings:\n",
       "[1] Standard Errors assume that the covariance matrix of the errors is correctly specified.\n",
       "[2] The condition number is large, 1.05e+03. This might indicate that there are\n",
       "strong multicollinearity or other numerical problems.\n",
       "\"\"\""
      ]
     },
     "execution_count": 20,
     "metadata": {},
     "output_type": "execute_result"
    }
   ],
   "source": [
    "y=df.MinutesOfBeingAwake\n",
    "X=df[['NumberOfAwakings','LengthOfRestInMinutes','MinutesOfSleep']]\n",
    "model=sm.OLS(y,add_constant(X)).fit()\n",
    "model.summary()"
   ]
  },
  {
   "cell_type": "markdown",
   "metadata": {},
   "source": [
    "We can see that the value of AIC and BIC are 300 points less than in previous Simple Linear Regression model. That tells us that the model is way better. (The lower the value, the better). Values of R2 and Adj. R2 are super high, telling us that model is super nice. But...\n",
    "\n",
    "But we can see that the constant being insignificant. It is an issue. At the same time we see a warning from Statsmodels, noting us on large condition number. Most likely we failed with some assumptions. We will need to fix it.\n",
    "\n",
    "Btw, when you add more than 1 feature, the model name changes from Simple Linear Regression to Multiple Linear Regression. "
   ]
  },
  {
   "cell_type": "code",
   "execution_count": 21,
   "metadata": {},
   "outputs": [
    {
     "data": {
      "text/html": [
       "<table class=\"simpletable\">\n",
       "<caption>OLS Regression Results</caption>\n",
       "<tr>\n",
       "  <th>Dep. Variable:</th>    <td>MinutesOfBeingAwake</td> <th>  R-squared:         </th> <td>   0.951</td> \n",
       "</tr>\n",
       "<tr>\n",
       "  <th>Model:</th>                    <td>OLS</td>         <th>  Adj. R-squared:    </th> <td>   0.950</td> \n",
       "</tr>\n",
       "<tr>\n",
       "  <th>Method:</th>              <td>Least Squares</td>    <th>  F-statistic:       </th> <td>   2327.</td> \n",
       "</tr>\n",
       "<tr>\n",
       "  <th>Date:</th>              <td>Wed, 29 Apr 2020</td>   <th>  Prob (F-statistic):</th> <td>1.39e-236</td>\n",
       "</tr>\n",
       "<tr>\n",
       "  <th>Time:</th>                  <td>15:49:43</td>       <th>  Log-Likelihood:    </th> <td> -1040.1</td> \n",
       "</tr>\n",
       "<tr>\n",
       "  <th>No. Observations:</th>       <td>   367</td>        <th>  AIC:               </th> <td>   2088.</td> \n",
       "</tr>\n",
       "<tr>\n",
       "  <th>Df Residuals:</th>           <td>   363</td>        <th>  BIC:               </th> <td>   2104.</td> \n",
       "</tr>\n",
       "<tr>\n",
       "  <th>Df Model:</th>               <td>     3</td>        <th>                     </th>     <td> </td>    \n",
       "</tr>\n",
       "<tr>\n",
       "  <th>Covariance Type:</th>       <td>nonrobust</td>      <th>                     </th>     <td> </td>    \n",
       "</tr>\n",
       "</table>\n",
       "<table class=\"simpletable\">\n",
       "<tr>\n",
       "            <td></td>               <th>coef</th>     <th>std err</th>      <th>t</th>      <th>P>|t|</th>  <th>[0.025</th>    <th>0.975]</th>  \n",
       "</tr>\n",
       "<tr>\n",
       "  <th>Intercept</th>             <td>   -0.3022</td> <td>    0.461</td> <td>   -0.655</td> <td> 0.513</td> <td>   -1.209</td> <td>    0.605</td>\n",
       "</tr>\n",
       "<tr>\n",
       "  <th>NumberOfAwakings</th>      <td>    0.6747</td> <td>    0.058</td> <td>   11.628</td> <td> 0.000</td> <td>    0.561</td> <td>    0.789</td>\n",
       "</tr>\n",
       "<tr>\n",
       "  <th>LengthOfRestInMinutes</th> <td>    0.5297</td> <td>    0.030</td> <td>   17.385</td> <td> 0.000</td> <td>    0.470</td> <td>    0.590</td>\n",
       "</tr>\n",
       "<tr>\n",
       "  <th>MinutesOfSleep</th>        <td>   -0.5262</td> <td>    0.031</td> <td>  -16.977</td> <td> 0.000</td> <td>   -0.587</td> <td>   -0.465</td>\n",
       "</tr>\n",
       "</table>\n",
       "<table class=\"simpletable\">\n",
       "<tr>\n",
       "  <th>Omnibus:</th>       <td>106.901</td> <th>  Durbin-Watson:     </th> <td>   1.661</td>\n",
       "</tr>\n",
       "<tr>\n",
       "  <th>Prob(Omnibus):</th> <td> 0.000</td>  <th>  Jarque-Bera (JB):  </th> <td> 391.434</td>\n",
       "</tr>\n",
       "<tr>\n",
       "  <th>Skew:</th>          <td>-1.251</td>  <th>  Prob(JB):          </th> <td>1.00e-85</td>\n",
       "</tr>\n",
       "<tr>\n",
       "  <th>Kurtosis:</th>      <td> 7.398</td>  <th>  Cond. No.          </th> <td>1.05e+03</td>\n",
       "</tr>\n",
       "</table><br/><br/>Warnings:<br/>[1] Standard Errors assume that the covariance matrix of the errors is correctly specified.<br/>[2] The condition number is large, 1.05e+03. This might indicate that there are<br/>strong multicollinearity or other numerical problems."
      ],
      "text/plain": [
       "<class 'statsmodels.iolib.summary.Summary'>\n",
       "\"\"\"\n",
       "                             OLS Regression Results                            \n",
       "===============================================================================\n",
       "Dep. Variable:     MinutesOfBeingAwake   R-squared:                       0.951\n",
       "Model:                             OLS   Adj. R-squared:                  0.950\n",
       "Method:                  Least Squares   F-statistic:                     2327.\n",
       "Date:                 Wed, 29 Apr 2020   Prob (F-statistic):          1.39e-236\n",
       "Time:                         15:49:43   Log-Likelihood:                -1040.1\n",
       "No. Observations:                  367   AIC:                             2088.\n",
       "Df Residuals:                      363   BIC:                             2104.\n",
       "Df Model:                            3                                         \n",
       "Covariance Type:             nonrobust                                         \n",
       "=========================================================================================\n",
       "                            coef    std err          t      P>|t|      [0.025      0.975]\n",
       "-----------------------------------------------------------------------------------------\n",
       "Intercept                -0.3022      0.461     -0.655      0.513      -1.209       0.605\n",
       "NumberOfAwakings          0.6747      0.058     11.628      0.000       0.561       0.789\n",
       "LengthOfRestInMinutes     0.5297      0.030     17.385      0.000       0.470       0.590\n",
       "MinutesOfSleep           -0.5262      0.031    -16.977      0.000      -0.587      -0.465\n",
       "==============================================================================\n",
       "Omnibus:                      106.901   Durbin-Watson:                   1.661\n",
       "Prob(Omnibus):                  0.000   Jarque-Bera (JB):              391.434\n",
       "Skew:                          -1.251   Prob(JB):                     1.00e-85\n",
       "Kurtosis:                       7.398   Cond. No.                     1.05e+03\n",
       "==============================================================================\n",
       "\n",
       "Warnings:\n",
       "[1] Standard Errors assume that the covariance matrix of the errors is correctly specified.\n",
       "[2] The condition number is large, 1.05e+03. This might indicate that there are\n",
       "strong multicollinearity or other numerical problems.\n",
       "\"\"\""
      ]
     },
     "execution_count": 21,
     "metadata": {},
     "output_type": "execute_result"
    }
   ],
   "source": [
    "# Here is another way to build the same model. We can use the formula submodule of statsmodels that allows us to \n",
    "# create models using text input. It adds constant (Intercept) automatically. And it can handle dummies as well.\n",
    "# NOTE: DO NOT FALL INTO DUMMIES TRAP. Read an article in the references in the bottom of the file\n",
    "\n",
    "\n",
    "import statsmodels.formula.api as smf\n",
    "model=smf.ols('MinutesOfBeingAwake ~ NumberOfAwakings+LengthOfRestInMinutes+MinutesOfSleep',data=df).fit()\n",
    "model.summary()"
   ]
  },
  {
   "cell_type": "markdown",
   "metadata": {},
   "source": [
    "In order to get predictions, simply call *predict* method of fitted model, providing new rows as argument"
   ]
  },
  {
   "cell_type": "code",
   "execution_count": 22,
   "metadata": {},
   "outputs": [],
   "source": [
    "y_pred=model.predict(X)"
   ]
  },
  {
   "cell_type": "code",
   "execution_count": 23,
   "metadata": {},
   "outputs": [
    {
     "data": {
      "text/plain": [
       "0      34.063221\n",
       "1      35.081769\n",
       "2      43.898672\n",
       "3      35.632242\n",
       "4      75.329209\n",
       "         ...    \n",
       "362    30.664748\n",
       "363    17.664329\n",
       "364    29.354801\n",
       "365    38.106067\n",
       "366    54.712749\n",
       "Length: 367, dtype: float64"
      ]
     },
     "execution_count": 23,
     "metadata": {},
     "output_type": "execute_result"
    }
   ],
   "source": [
    "y_pred;"
   ]
  },
  {
   "cell_type": "code",
   "execution_count": null,
   "metadata": {},
   "outputs": [],
   "source": []
  },
  {
   "cell_type": "code",
   "execution_count": null,
   "metadata": {},
   "outputs": [],
   "source": []
  },
  {
   "cell_type": "code",
   "execution_count": null,
   "metadata": {},
   "outputs": [],
   "source": []
  },
  {
   "cell_type": "markdown",
   "metadata": {},
   "source": [
    "# Guided Project - What conducts the price of houses?"
   ]
  },
  {
   "cell_type": "code",
   "execution_count": 24,
   "metadata": {},
   "outputs": [],
   "source": [
    "df=pd.read_csv('/home/mauritian/Documents/housing_prices.csv')"
   ]
  },
  {
   "cell_type": "code",
   "execution_count": 25,
   "metadata": {},
   "outputs": [
    {
     "data": {
      "text/html": [
       "<div>\n",
       "<style scoped>\n",
       "    .dataframe tbody tr th:only-of-type {\n",
       "        vertical-align: middle;\n",
       "    }\n",
       "\n",
       "    .dataframe tbody tr th {\n",
       "        vertical-align: top;\n",
       "    }\n",
       "\n",
       "    .dataframe thead th {\n",
       "        text-align: right;\n",
       "    }\n",
       "</style>\n",
       "<table border=\"1\" class=\"dataframe\">\n",
       "  <thead>\n",
       "    <tr style=\"text-align: right;\">\n",
       "      <th></th>\n",
       "      <th>Id</th>\n",
       "      <th>MSSubClass</th>\n",
       "      <th>MSZoning</th>\n",
       "      <th>LotFrontage</th>\n",
       "      <th>LotArea</th>\n",
       "      <th>Street</th>\n",
       "      <th>Alley</th>\n",
       "      <th>LotShape</th>\n",
       "      <th>LandContour</th>\n",
       "      <th>Utilities</th>\n",
       "      <th>...</th>\n",
       "      <th>PoolArea</th>\n",
       "      <th>PoolQC</th>\n",
       "      <th>Fence</th>\n",
       "      <th>MiscFeature</th>\n",
       "      <th>MiscVal</th>\n",
       "      <th>MoSold</th>\n",
       "      <th>YrSold</th>\n",
       "      <th>SaleType</th>\n",
       "      <th>SaleCondition</th>\n",
       "      <th>SalePrice</th>\n",
       "    </tr>\n",
       "  </thead>\n",
       "  <tbody>\n",
       "    <tr>\n",
       "      <th>0</th>\n",
       "      <td>1</td>\n",
       "      <td>60</td>\n",
       "      <td>RL</td>\n",
       "      <td>65.0</td>\n",
       "      <td>8450</td>\n",
       "      <td>Pave</td>\n",
       "      <td>NaN</td>\n",
       "      <td>Reg</td>\n",
       "      <td>Lvl</td>\n",
       "      <td>AllPub</td>\n",
       "      <td>...</td>\n",
       "      <td>0</td>\n",
       "      <td>NaN</td>\n",
       "      <td>NaN</td>\n",
       "      <td>NaN</td>\n",
       "      <td>0</td>\n",
       "      <td>2</td>\n",
       "      <td>2008</td>\n",
       "      <td>WD</td>\n",
       "      <td>Normal</td>\n",
       "      <td>208500</td>\n",
       "    </tr>\n",
       "    <tr>\n",
       "      <th>1</th>\n",
       "      <td>2</td>\n",
       "      <td>20</td>\n",
       "      <td>RL</td>\n",
       "      <td>80.0</td>\n",
       "      <td>9600</td>\n",
       "      <td>Pave</td>\n",
       "      <td>NaN</td>\n",
       "      <td>Reg</td>\n",
       "      <td>Lvl</td>\n",
       "      <td>AllPub</td>\n",
       "      <td>...</td>\n",
       "      <td>0</td>\n",
       "      <td>NaN</td>\n",
       "      <td>NaN</td>\n",
       "      <td>NaN</td>\n",
       "      <td>0</td>\n",
       "      <td>5</td>\n",
       "      <td>2007</td>\n",
       "      <td>WD</td>\n",
       "      <td>Normal</td>\n",
       "      <td>181500</td>\n",
       "    </tr>\n",
       "    <tr>\n",
       "      <th>2</th>\n",
       "      <td>3</td>\n",
       "      <td>60</td>\n",
       "      <td>RL</td>\n",
       "      <td>68.0</td>\n",
       "      <td>11250</td>\n",
       "      <td>Pave</td>\n",
       "      <td>NaN</td>\n",
       "      <td>IR1</td>\n",
       "      <td>Lvl</td>\n",
       "      <td>AllPub</td>\n",
       "      <td>...</td>\n",
       "      <td>0</td>\n",
       "      <td>NaN</td>\n",
       "      <td>NaN</td>\n",
       "      <td>NaN</td>\n",
       "      <td>0</td>\n",
       "      <td>9</td>\n",
       "      <td>2008</td>\n",
       "      <td>WD</td>\n",
       "      <td>Normal</td>\n",
       "      <td>223500</td>\n",
       "    </tr>\n",
       "    <tr>\n",
       "      <th>3</th>\n",
       "      <td>4</td>\n",
       "      <td>70</td>\n",
       "      <td>RL</td>\n",
       "      <td>60.0</td>\n",
       "      <td>9550</td>\n",
       "      <td>Pave</td>\n",
       "      <td>NaN</td>\n",
       "      <td>IR1</td>\n",
       "      <td>Lvl</td>\n",
       "      <td>AllPub</td>\n",
       "      <td>...</td>\n",
       "      <td>0</td>\n",
       "      <td>NaN</td>\n",
       "      <td>NaN</td>\n",
       "      <td>NaN</td>\n",
       "      <td>0</td>\n",
       "      <td>2</td>\n",
       "      <td>2006</td>\n",
       "      <td>WD</td>\n",
       "      <td>Abnorml</td>\n",
       "      <td>140000</td>\n",
       "    </tr>\n",
       "    <tr>\n",
       "      <th>4</th>\n",
       "      <td>5</td>\n",
       "      <td>60</td>\n",
       "      <td>RL</td>\n",
       "      <td>84.0</td>\n",
       "      <td>14260</td>\n",
       "      <td>Pave</td>\n",
       "      <td>NaN</td>\n",
       "      <td>IR1</td>\n",
       "      <td>Lvl</td>\n",
       "      <td>AllPub</td>\n",
       "      <td>...</td>\n",
       "      <td>0</td>\n",
       "      <td>NaN</td>\n",
       "      <td>NaN</td>\n",
       "      <td>NaN</td>\n",
       "      <td>0</td>\n",
       "      <td>12</td>\n",
       "      <td>2008</td>\n",
       "      <td>WD</td>\n",
       "      <td>Normal</td>\n",
       "      <td>250000</td>\n",
       "    </tr>\n",
       "  </tbody>\n",
       "</table>\n",
       "<p>5 rows × 81 columns</p>\n",
       "</div>"
      ],
      "text/plain": [
       "   Id  MSSubClass MSZoning  LotFrontage  LotArea Street Alley LotShape  \\\n",
       "0   1          60       RL         65.0     8450   Pave   NaN      Reg   \n",
       "1   2          20       RL         80.0     9600   Pave   NaN      Reg   \n",
       "2   3          60       RL         68.0    11250   Pave   NaN      IR1   \n",
       "3   4          70       RL         60.0     9550   Pave   NaN      IR1   \n",
       "4   5          60       RL         84.0    14260   Pave   NaN      IR1   \n",
       "\n",
       "  LandContour Utilities  ... PoolArea PoolQC Fence MiscFeature MiscVal MoSold  \\\n",
       "0         Lvl    AllPub  ...        0    NaN   NaN         NaN       0      2   \n",
       "1         Lvl    AllPub  ...        0    NaN   NaN         NaN       0      5   \n",
       "2         Lvl    AllPub  ...        0    NaN   NaN         NaN       0      9   \n",
       "3         Lvl    AllPub  ...        0    NaN   NaN         NaN       0      2   \n",
       "4         Lvl    AllPub  ...        0    NaN   NaN         NaN       0     12   \n",
       "\n",
       "  YrSold  SaleType  SaleCondition  SalePrice  \n",
       "0   2008        WD         Normal     208500  \n",
       "1   2007        WD         Normal     181500  \n",
       "2   2008        WD         Normal     223500  \n",
       "3   2006        WD        Abnorml     140000  \n",
       "4   2008        WD         Normal     250000  \n",
       "\n",
       "[5 rows x 81 columns]"
      ]
     },
     "execution_count": 25,
     "metadata": {},
     "output_type": "execute_result"
    }
   ],
   "source": [
    "df.head(5)"
   ]
  },
  {
   "cell_type": "code",
   "execution_count": 26,
   "metadata": {},
   "outputs": [
    {
     "data": {
      "text/plain": [
       "Index(['Id', 'MSSubClass', 'MSZoning', 'LotFrontage', 'LotArea', 'Street',\n",
       "       'Alley', 'LotShape', 'LandContour', 'Utilities', 'LotConfig',\n",
       "       'LandSlope', 'Neighborhood', 'Condition1', 'Condition2', 'BldgType',\n",
       "       'HouseStyle', 'OverallQual', 'OverallCond', 'YearBuilt', 'YearRemodAdd',\n",
       "       'RoofStyle', 'RoofMatl', 'Exterior1st', 'Exterior2nd', 'MasVnrType',\n",
       "       'MasVnrArea', 'ExterQual', 'ExterCond', 'Foundation', 'BsmtQual',\n",
       "       'BsmtCond', 'BsmtExposure', 'BsmtFinType1', 'BsmtFinSF1',\n",
       "       'BsmtFinType2', 'BsmtFinSF2', 'BsmtUnfSF', 'TotalBsmtSF', 'Heating',\n",
       "       'HeatingQC', 'CentralAir', 'Electrical', '1stFlrSF', '2ndFlrSF',\n",
       "       'LowQualFinSF', 'GrLivArea', 'BsmtFullBath', 'BsmtHalfBath', 'FullBath',\n",
       "       'HalfBath', 'BedroomAbvGr', 'KitchenAbvGr', 'KitchenQual',\n",
       "       'TotRmsAbvGrd', 'Functional', 'Fireplaces', 'FireplaceQu', 'GarageType',\n",
       "       'GarageYrBlt', 'GarageFinish', 'GarageCars', 'GarageArea', 'GarageQual',\n",
       "       'GarageCond', 'PavedDrive', 'WoodDeckSF', 'OpenPorchSF',\n",
       "       'EnclosedPorch', '3SsnPorch', 'ScreenPorch', 'PoolArea', 'PoolQC',\n",
       "       'Fence', 'MiscFeature', 'MiscVal', 'MoSold', 'YrSold', 'SaleType',\n",
       "       'SaleCondition', 'SalePrice'],\n",
       "      dtype='object')"
      ]
     },
     "execution_count": 26,
     "metadata": {},
     "output_type": "execute_result"
    }
   ],
   "source": [
    "df.columns"
   ]
  },
  {
   "cell_type": "markdown",
   "metadata": {},
   "source": [
    "81 columns. Seems to be a lot..."
   ]
  },
  {
   "cell_type": "code",
   "execution_count": 27,
   "metadata": {},
   "outputs": [
    {
     "name": "stdout",
     "output_type": "stream",
     "text": [
      "<class 'pandas.core.frame.DataFrame'>\n",
      "RangeIndex: 1460 entries, 0 to 1459\n",
      "Data columns (total 81 columns):\n",
      " #   Column         Non-Null Count  Dtype  \n",
      "---  ------         --------------  -----  \n",
      " 0   Id             1460 non-null   int64  \n",
      " 1   MSSubClass     1460 non-null   int64  \n",
      " 2   MSZoning       1460 non-null   object \n",
      " 3   LotFrontage    1201 non-null   float64\n",
      " 4   LotArea        1460 non-null   int64  \n",
      " 5   Street         1460 non-null   object \n",
      " 6   Alley          91 non-null     object \n",
      " 7   LotShape       1460 non-null   object \n",
      " 8   LandContour    1460 non-null   object \n",
      " 9   Utilities      1460 non-null   object \n",
      " 10  LotConfig      1460 non-null   object \n",
      " 11  LandSlope      1460 non-null   object \n",
      " 12  Neighborhood   1460 non-null   object \n",
      " 13  Condition1     1460 non-null   object \n",
      " 14  Condition2     1460 non-null   object \n",
      " 15  BldgType       1460 non-null   object \n",
      " 16  HouseStyle     1460 non-null   object \n",
      " 17  OverallQual    1460 non-null   int64  \n",
      " 18  OverallCond    1460 non-null   int64  \n",
      " 19  YearBuilt      1460 non-null   int64  \n",
      " 20  YearRemodAdd   1460 non-null   int64  \n",
      " 21  RoofStyle      1460 non-null   object \n",
      " 22  RoofMatl       1460 non-null   object \n",
      " 23  Exterior1st    1460 non-null   object \n",
      " 24  Exterior2nd    1460 non-null   object \n",
      " 25  MasVnrType     1452 non-null   object \n",
      " 26  MasVnrArea     1452 non-null   float64\n",
      " 27  ExterQual      1460 non-null   object \n",
      " 28  ExterCond      1460 non-null   object \n",
      " 29  Foundation     1460 non-null   object \n",
      " 30  BsmtQual       1423 non-null   object \n",
      " 31  BsmtCond       1423 non-null   object \n",
      " 32  BsmtExposure   1422 non-null   object \n",
      " 33  BsmtFinType1   1423 non-null   object \n",
      " 34  BsmtFinSF1     1460 non-null   int64  \n",
      " 35  BsmtFinType2   1422 non-null   object \n",
      " 36  BsmtFinSF2     1460 non-null   int64  \n",
      " 37  BsmtUnfSF      1460 non-null   int64  \n",
      " 38  TotalBsmtSF    1460 non-null   int64  \n",
      " 39  Heating        1460 non-null   object \n",
      " 40  HeatingQC      1460 non-null   object \n",
      " 41  CentralAir     1460 non-null   object \n",
      " 42  Electrical     1459 non-null   object \n",
      " 43  1stFlrSF       1460 non-null   int64  \n",
      " 44  2ndFlrSF       1460 non-null   int64  \n",
      " 45  LowQualFinSF   1460 non-null   int64  \n",
      " 46  GrLivArea      1460 non-null   int64  \n",
      " 47  BsmtFullBath   1460 non-null   int64  \n",
      " 48  BsmtHalfBath   1460 non-null   int64  \n",
      " 49  FullBath       1460 non-null   int64  \n",
      " 50  HalfBath       1460 non-null   int64  \n",
      " 51  BedroomAbvGr   1460 non-null   int64  \n",
      " 52  KitchenAbvGr   1460 non-null   int64  \n",
      " 53  KitchenQual    1460 non-null   object \n",
      " 54  TotRmsAbvGrd   1460 non-null   int64  \n",
      " 55  Functional     1460 non-null   object \n",
      " 56  Fireplaces     1460 non-null   int64  \n",
      " 57  FireplaceQu    770 non-null    object \n",
      " 58  GarageType     1379 non-null   object \n",
      " 59  GarageYrBlt    1379 non-null   float64\n",
      " 60  GarageFinish   1379 non-null   object \n",
      " 61  GarageCars     1460 non-null   int64  \n",
      " 62  GarageArea     1460 non-null   int64  \n",
      " 63  GarageQual     1379 non-null   object \n",
      " 64  GarageCond     1379 non-null   object \n",
      " 65  PavedDrive     1460 non-null   object \n",
      " 66  WoodDeckSF     1460 non-null   int64  \n",
      " 67  OpenPorchSF    1460 non-null   int64  \n",
      " 68  EnclosedPorch  1460 non-null   int64  \n",
      " 69  3SsnPorch      1460 non-null   int64  \n",
      " 70  ScreenPorch    1460 non-null   int64  \n",
      " 71  PoolArea       1460 non-null   int64  \n",
      " 72  PoolQC         7 non-null      object \n",
      " 73  Fence          281 non-null    object \n",
      " 74  MiscFeature    54 non-null     object \n",
      " 75  MiscVal        1460 non-null   int64  \n",
      " 76  MoSold         1460 non-null   int64  \n",
      " 77  YrSold         1460 non-null   int64  \n",
      " 78  SaleType       1460 non-null   object \n",
      " 79  SaleCondition  1460 non-null   object \n",
      " 80  SalePrice      1460 non-null   int64  \n",
      "dtypes: float64(3), int64(35), object(43)\n",
      "memory usage: 924.0+ KB\n"
     ]
    }
   ],
   "source": [
    "df.info()"
   ]
  },
  {
   "cell_type": "markdown",
   "metadata": {},
   "source": [
    "43 object variables... We will need to convert them into dummies to be able to use them. Or discretize them (Rank). Or drop them..."
   ]
  },
  {
   "cell_type": "code",
   "execution_count": 28,
   "metadata": {},
   "outputs": [
    {
     "data": {
      "text/html": [
       "<div>\n",
       "<style scoped>\n",
       "    .dataframe tbody tr th:only-of-type {\n",
       "        vertical-align: middle;\n",
       "    }\n",
       "\n",
       "    .dataframe tbody tr th {\n",
       "        vertical-align: top;\n",
       "    }\n",
       "\n",
       "    .dataframe thead th {\n",
       "        text-align: right;\n",
       "    }\n",
       "</style>\n",
       "<table border=\"1\" class=\"dataframe\">\n",
       "  <thead>\n",
       "    <tr style=\"text-align: right;\">\n",
       "      <th></th>\n",
       "      <th>Id</th>\n",
       "      <th>MSSubClass</th>\n",
       "      <th>LotFrontage</th>\n",
       "      <th>LotArea</th>\n",
       "      <th>OverallQual</th>\n",
       "      <th>OverallCond</th>\n",
       "      <th>YearBuilt</th>\n",
       "      <th>YearRemodAdd</th>\n",
       "      <th>MasVnrArea</th>\n",
       "      <th>BsmtFinSF1</th>\n",
       "      <th>...</th>\n",
       "      <th>WoodDeckSF</th>\n",
       "      <th>OpenPorchSF</th>\n",
       "      <th>EnclosedPorch</th>\n",
       "      <th>3SsnPorch</th>\n",
       "      <th>ScreenPorch</th>\n",
       "      <th>PoolArea</th>\n",
       "      <th>MiscVal</th>\n",
       "      <th>MoSold</th>\n",
       "      <th>YrSold</th>\n",
       "      <th>SalePrice</th>\n",
       "    </tr>\n",
       "  </thead>\n",
       "  <tbody>\n",
       "    <tr>\n",
       "      <th>count</th>\n",
       "      <td>1460.000000</td>\n",
       "      <td>1460.000000</td>\n",
       "      <td>1201.000000</td>\n",
       "      <td>1460.000000</td>\n",
       "      <td>1460.000000</td>\n",
       "      <td>1460.000000</td>\n",
       "      <td>1460.000000</td>\n",
       "      <td>1460.000000</td>\n",
       "      <td>1452.000000</td>\n",
       "      <td>1460.000000</td>\n",
       "      <td>...</td>\n",
       "      <td>1460.000000</td>\n",
       "      <td>1460.000000</td>\n",
       "      <td>1460.000000</td>\n",
       "      <td>1460.000000</td>\n",
       "      <td>1460.000000</td>\n",
       "      <td>1460.000000</td>\n",
       "      <td>1460.000000</td>\n",
       "      <td>1460.000000</td>\n",
       "      <td>1460.000000</td>\n",
       "      <td>1460.000000</td>\n",
       "    </tr>\n",
       "    <tr>\n",
       "      <th>mean</th>\n",
       "      <td>730.500000</td>\n",
       "      <td>56.897260</td>\n",
       "      <td>70.049958</td>\n",
       "      <td>10516.828082</td>\n",
       "      <td>6.099315</td>\n",
       "      <td>5.575342</td>\n",
       "      <td>1971.267808</td>\n",
       "      <td>1984.865753</td>\n",
       "      <td>103.685262</td>\n",
       "      <td>443.639726</td>\n",
       "      <td>...</td>\n",
       "      <td>94.244521</td>\n",
       "      <td>46.660274</td>\n",
       "      <td>21.954110</td>\n",
       "      <td>3.409589</td>\n",
       "      <td>15.060959</td>\n",
       "      <td>2.758904</td>\n",
       "      <td>43.489041</td>\n",
       "      <td>6.321918</td>\n",
       "      <td>2007.815753</td>\n",
       "      <td>180921.195890</td>\n",
       "    </tr>\n",
       "    <tr>\n",
       "      <th>std</th>\n",
       "      <td>421.610009</td>\n",
       "      <td>42.300571</td>\n",
       "      <td>24.284752</td>\n",
       "      <td>9981.264932</td>\n",
       "      <td>1.382997</td>\n",
       "      <td>1.112799</td>\n",
       "      <td>30.202904</td>\n",
       "      <td>20.645407</td>\n",
       "      <td>181.066207</td>\n",
       "      <td>456.098091</td>\n",
       "      <td>...</td>\n",
       "      <td>125.338794</td>\n",
       "      <td>66.256028</td>\n",
       "      <td>61.119149</td>\n",
       "      <td>29.317331</td>\n",
       "      <td>55.757415</td>\n",
       "      <td>40.177307</td>\n",
       "      <td>496.123024</td>\n",
       "      <td>2.703626</td>\n",
       "      <td>1.328095</td>\n",
       "      <td>79442.502883</td>\n",
       "    </tr>\n",
       "    <tr>\n",
       "      <th>min</th>\n",
       "      <td>1.000000</td>\n",
       "      <td>20.000000</td>\n",
       "      <td>21.000000</td>\n",
       "      <td>1300.000000</td>\n",
       "      <td>1.000000</td>\n",
       "      <td>1.000000</td>\n",
       "      <td>1872.000000</td>\n",
       "      <td>1950.000000</td>\n",
       "      <td>0.000000</td>\n",
       "      <td>0.000000</td>\n",
       "      <td>...</td>\n",
       "      <td>0.000000</td>\n",
       "      <td>0.000000</td>\n",
       "      <td>0.000000</td>\n",
       "      <td>0.000000</td>\n",
       "      <td>0.000000</td>\n",
       "      <td>0.000000</td>\n",
       "      <td>0.000000</td>\n",
       "      <td>1.000000</td>\n",
       "      <td>2006.000000</td>\n",
       "      <td>34900.000000</td>\n",
       "    </tr>\n",
       "    <tr>\n",
       "      <th>25%</th>\n",
       "      <td>365.750000</td>\n",
       "      <td>20.000000</td>\n",
       "      <td>59.000000</td>\n",
       "      <td>7553.500000</td>\n",
       "      <td>5.000000</td>\n",
       "      <td>5.000000</td>\n",
       "      <td>1954.000000</td>\n",
       "      <td>1967.000000</td>\n",
       "      <td>0.000000</td>\n",
       "      <td>0.000000</td>\n",
       "      <td>...</td>\n",
       "      <td>0.000000</td>\n",
       "      <td>0.000000</td>\n",
       "      <td>0.000000</td>\n",
       "      <td>0.000000</td>\n",
       "      <td>0.000000</td>\n",
       "      <td>0.000000</td>\n",
       "      <td>0.000000</td>\n",
       "      <td>5.000000</td>\n",
       "      <td>2007.000000</td>\n",
       "      <td>129975.000000</td>\n",
       "    </tr>\n",
       "    <tr>\n",
       "      <th>50%</th>\n",
       "      <td>730.500000</td>\n",
       "      <td>50.000000</td>\n",
       "      <td>69.000000</td>\n",
       "      <td>9478.500000</td>\n",
       "      <td>6.000000</td>\n",
       "      <td>5.000000</td>\n",
       "      <td>1973.000000</td>\n",
       "      <td>1994.000000</td>\n",
       "      <td>0.000000</td>\n",
       "      <td>383.500000</td>\n",
       "      <td>...</td>\n",
       "      <td>0.000000</td>\n",
       "      <td>25.000000</td>\n",
       "      <td>0.000000</td>\n",
       "      <td>0.000000</td>\n",
       "      <td>0.000000</td>\n",
       "      <td>0.000000</td>\n",
       "      <td>0.000000</td>\n",
       "      <td>6.000000</td>\n",
       "      <td>2008.000000</td>\n",
       "      <td>163000.000000</td>\n",
       "    </tr>\n",
       "    <tr>\n",
       "      <th>75%</th>\n",
       "      <td>1095.250000</td>\n",
       "      <td>70.000000</td>\n",
       "      <td>80.000000</td>\n",
       "      <td>11601.500000</td>\n",
       "      <td>7.000000</td>\n",
       "      <td>6.000000</td>\n",
       "      <td>2000.000000</td>\n",
       "      <td>2004.000000</td>\n",
       "      <td>166.000000</td>\n",
       "      <td>712.250000</td>\n",
       "      <td>...</td>\n",
       "      <td>168.000000</td>\n",
       "      <td>68.000000</td>\n",
       "      <td>0.000000</td>\n",
       "      <td>0.000000</td>\n",
       "      <td>0.000000</td>\n",
       "      <td>0.000000</td>\n",
       "      <td>0.000000</td>\n",
       "      <td>8.000000</td>\n",
       "      <td>2009.000000</td>\n",
       "      <td>214000.000000</td>\n",
       "    </tr>\n",
       "    <tr>\n",
       "      <th>max</th>\n",
       "      <td>1460.000000</td>\n",
       "      <td>190.000000</td>\n",
       "      <td>313.000000</td>\n",
       "      <td>215245.000000</td>\n",
       "      <td>10.000000</td>\n",
       "      <td>9.000000</td>\n",
       "      <td>2010.000000</td>\n",
       "      <td>2010.000000</td>\n",
       "      <td>1600.000000</td>\n",
       "      <td>5644.000000</td>\n",
       "      <td>...</td>\n",
       "      <td>857.000000</td>\n",
       "      <td>547.000000</td>\n",
       "      <td>552.000000</td>\n",
       "      <td>508.000000</td>\n",
       "      <td>480.000000</td>\n",
       "      <td>738.000000</td>\n",
       "      <td>15500.000000</td>\n",
       "      <td>12.000000</td>\n",
       "      <td>2010.000000</td>\n",
       "      <td>755000.000000</td>\n",
       "    </tr>\n",
       "  </tbody>\n",
       "</table>\n",
       "<p>8 rows × 38 columns</p>\n",
       "</div>"
      ],
      "text/plain": [
       "                Id   MSSubClass  LotFrontage        LotArea  OverallQual  \\\n",
       "count  1460.000000  1460.000000  1201.000000    1460.000000  1460.000000   \n",
       "mean    730.500000    56.897260    70.049958   10516.828082     6.099315   \n",
       "std     421.610009    42.300571    24.284752    9981.264932     1.382997   \n",
       "min       1.000000    20.000000    21.000000    1300.000000     1.000000   \n",
       "25%     365.750000    20.000000    59.000000    7553.500000     5.000000   \n",
       "50%     730.500000    50.000000    69.000000    9478.500000     6.000000   \n",
       "75%    1095.250000    70.000000    80.000000   11601.500000     7.000000   \n",
       "max    1460.000000   190.000000   313.000000  215245.000000    10.000000   \n",
       "\n",
       "       OverallCond    YearBuilt  YearRemodAdd   MasVnrArea   BsmtFinSF1  ...  \\\n",
       "count  1460.000000  1460.000000   1460.000000  1452.000000  1460.000000  ...   \n",
       "mean      5.575342  1971.267808   1984.865753   103.685262   443.639726  ...   \n",
       "std       1.112799    30.202904     20.645407   181.066207   456.098091  ...   \n",
       "min       1.000000  1872.000000   1950.000000     0.000000     0.000000  ...   \n",
       "25%       5.000000  1954.000000   1967.000000     0.000000     0.000000  ...   \n",
       "50%       5.000000  1973.000000   1994.000000     0.000000   383.500000  ...   \n",
       "75%       6.000000  2000.000000   2004.000000   166.000000   712.250000  ...   \n",
       "max       9.000000  2010.000000   2010.000000  1600.000000  5644.000000  ...   \n",
       "\n",
       "        WoodDeckSF  OpenPorchSF  EnclosedPorch    3SsnPorch  ScreenPorch  \\\n",
       "count  1460.000000  1460.000000    1460.000000  1460.000000  1460.000000   \n",
       "mean     94.244521    46.660274      21.954110     3.409589    15.060959   \n",
       "std     125.338794    66.256028      61.119149    29.317331    55.757415   \n",
       "min       0.000000     0.000000       0.000000     0.000000     0.000000   \n",
       "25%       0.000000     0.000000       0.000000     0.000000     0.000000   \n",
       "50%       0.000000    25.000000       0.000000     0.000000     0.000000   \n",
       "75%     168.000000    68.000000       0.000000     0.000000     0.000000   \n",
       "max     857.000000   547.000000     552.000000   508.000000   480.000000   \n",
       "\n",
       "          PoolArea       MiscVal       MoSold       YrSold      SalePrice  \n",
       "count  1460.000000   1460.000000  1460.000000  1460.000000    1460.000000  \n",
       "mean      2.758904     43.489041     6.321918  2007.815753  180921.195890  \n",
       "std      40.177307    496.123024     2.703626     1.328095   79442.502883  \n",
       "min       0.000000      0.000000     1.000000  2006.000000   34900.000000  \n",
       "25%       0.000000      0.000000     5.000000  2007.000000  129975.000000  \n",
       "50%       0.000000      0.000000     6.000000  2008.000000  163000.000000  \n",
       "75%       0.000000      0.000000     8.000000  2009.000000  214000.000000  \n",
       "max     738.000000  15500.000000    12.000000  2010.000000  755000.000000  \n",
       "\n",
       "[8 rows x 38 columns]"
      ]
     },
     "execution_count": 28,
     "metadata": {},
     "output_type": "execute_result"
    }
   ],
   "source": [
    "df.describe()"
   ]
  },
  {
   "cell_type": "markdown",
   "metadata": {},
   "source": [
    "We already see some outliers. In ideal scenario we need to tackle them separately. But here we dont have enough time. Let's leave them as they are to see what's gonna happen"
   ]
  },
  {
   "cell_type": "code",
   "execution_count": 29,
   "metadata": {},
   "outputs": [
    {
     "data": {
      "text/plain": [
       "True"
      ]
     },
     "execution_count": 29,
     "metadata": {},
     "output_type": "execute_result"
    }
   ],
   "source": [
    "df.Id.nunique()==df.shape[0]"
   ]
  },
  {
   "cell_type": "markdown",
   "metadata": {},
   "source": [
    "Since Id is unique, it doesnt show us any important information. So drop it."
   ]
  },
  {
   "cell_type": "code",
   "execution_count": 31,
   "metadata": {},
   "outputs": [],
   "source": [
    "df.drop('Id',axis=1,inplace=True)"
   ]
  },
  {
   "cell_type": "markdown",
   "metadata": {},
   "source": [
    "Let's check missing values. We will solve each case separately"
   ]
  },
  {
   "cell_type": "code",
   "execution_count": 32,
   "metadata": {},
   "outputs": [
    {
     "data": {
      "text/plain": [
       "LotFrontage      259\n",
       "Alley           1369\n",
       "MasVnrType         8\n",
       "MasVnrArea         8\n",
       "BsmtQual          37\n",
       "BsmtCond          37\n",
       "BsmtExposure      38\n",
       "BsmtFinType1      37\n",
       "BsmtFinType2      38\n",
       "Electrical         1\n",
       "FireplaceQu      690\n",
       "GarageType        81\n",
       "GarageYrBlt       81\n",
       "GarageFinish      81\n",
       "GarageQual        81\n",
       "GarageCond        81\n",
       "PoolQC          1453\n",
       "Fence           1179\n",
       "MiscFeature     1406\n",
       "dtype: int64"
      ]
     },
     "execution_count": 32,
     "metadata": {},
     "output_type": "execute_result"
    }
   ],
   "source": [
    "missing=df.isna().sum()\n",
    "missing[missing>0]"
   ]
  },
  {
   "cell_type": "code",
   "execution_count": 33,
   "metadata": {},
   "outputs": [
    {
     "data": {
      "text/plain": [
       "array([nan, 'Shed', 'Gar2', 'Othr', 'TenC'], dtype=object)"
      ]
     },
     "execution_count": 33,
     "metadata": {},
     "output_type": "execute_result"
    }
   ],
   "source": [
    "# Let's start from the bottom\n",
    "df.MiscFeature.unique()"
   ]
  },
  {
   "cell_type": "code",
   "execution_count": 34,
   "metadata": {},
   "outputs": [
    {
     "data": {
      "text/plain": [
       "Shed    49\n",
       "Othr     2\n",
       "Gar2     2\n",
       "TenC     1\n",
       "Name: MiscFeature, dtype: int64"
      ]
     },
     "execution_count": 34,
     "metadata": {},
     "output_type": "execute_result"
    }
   ],
   "source": [
    "df.MiscFeature.value_counts()"
   ]
  },
  {
   "cell_type": "markdown",
   "metadata": {},
   "source": [
    "These values can describe some of our outliers. Imagine having a house with Tennis court. That should be super expensive house...\n",
    "\n",
    "For the dummies that contain missing values we don't need to drop 1 column. Since we can have the case when all the values are 0 - missing"
   ]
  },
  {
   "cell_type": "code",
   "execution_count": 35,
   "metadata": {},
   "outputs": [],
   "source": [
    "dummies_list_NA=['MiscFeature']"
   ]
  },
  {
   "cell_type": "code",
   "execution_count": 36,
   "metadata": {},
   "outputs": [
    {
     "data": {
      "text/plain": [
       "array([nan, 'MnPrv', 'GdWo', 'GdPrv', 'MnWw'], dtype=object)"
      ]
     },
     "execution_count": 36,
     "metadata": {},
     "output_type": "execute_result"
    }
   ],
   "source": [
    "df.Fence.unique()"
   ]
  },
  {
   "cell_type": "code",
   "execution_count": 37,
   "metadata": {},
   "outputs": [
    {
     "data": {
      "text/html": [
       "<div>\n",
       "<style scoped>\n",
       "    .dataframe tbody tr th:only-of-type {\n",
       "        vertical-align: middle;\n",
       "    }\n",
       "\n",
       "    .dataframe tbody tr th {\n",
       "        vertical-align: top;\n",
       "    }\n",
       "\n",
       "    .dataframe thead th {\n",
       "        text-align: right;\n",
       "    }\n",
       "</style>\n",
       "<table border=\"1\" class=\"dataframe\">\n",
       "  <thead>\n",
       "    <tr style=\"text-align: right;\">\n",
       "      <th></th>\n",
       "      <th>SalePrice</th>\n",
       "    </tr>\n",
       "    <tr>\n",
       "      <th>Fence</th>\n",
       "      <th></th>\n",
       "    </tr>\n",
       "  </thead>\n",
       "  <tbody>\n",
       "    <tr>\n",
       "      <th>GdPrv</th>\n",
       "      <td>178927.457627</td>\n",
       "    </tr>\n",
       "    <tr>\n",
       "      <th>GdWo</th>\n",
       "      <td>140379.314815</td>\n",
       "    </tr>\n",
       "    <tr>\n",
       "      <th>MnPrv</th>\n",
       "      <td>148751.089172</td>\n",
       "    </tr>\n",
       "    <tr>\n",
       "      <th>MnWw</th>\n",
       "      <td>134286.363636</td>\n",
       "    </tr>\n",
       "  </tbody>\n",
       "</table>\n",
       "</div>"
      ],
      "text/plain": [
       "           SalePrice\n",
       "Fence               \n",
       "GdPrv  178927.457627\n",
       "GdWo   140379.314815\n",
       "MnPrv  148751.089172\n",
       "MnWw   134286.363636"
      ]
     },
     "execution_count": 37,
     "metadata": {},
     "output_type": "execute_result"
    }
   ],
   "source": [
    "# Obviously we can run hypothesis testing, checking whether SalePrice for houses with different type of Fence\n",
    "# are significantly different. But it will take a lot of time. (We can't do that for each of 43 columns)\n",
    "# Simple comparison of Averages shows potential difference. \n",
    "\n",
    "df[['Fence','SalePrice']].groupby('Fence').agg('mean')"
   ]
  },
  {
   "cell_type": "code",
   "execution_count": 38,
   "metadata": {},
   "outputs": [],
   "source": [
    "dummies_list_NA.append('Fence')"
   ]
  },
  {
   "cell_type": "code",
   "execution_count": 39,
   "metadata": {},
   "outputs": [
    {
     "data": {
      "text/plain": [
       "array([nan, 'Ex', 'Fa', 'Gd'], dtype=object)"
      ]
     },
     "execution_count": 39,
     "metadata": {},
     "output_type": "execute_result"
    }
   ],
   "source": [
    "df.PoolQC.unique()"
   ]
  },
  {
   "cell_type": "code",
   "execution_count": 40,
   "metadata": {},
   "outputs": [],
   "source": [
    "# Here the value represents the quality of the pool. We can easily order them. Since we have a code book\n",
    "# we can deduce the order and numerical representations for each value.\n",
    "\n",
    "dct={'Ex':5, 'Fa':2, 'Gd':4}\n",
    "df.PoolQC=df.PoolQC.map(dct)\n",
    "df.PoolQC.fillna(0, inplace=True)"
   ]
  },
  {
   "cell_type": "code",
   "execution_count": 41,
   "metadata": {},
   "outputs": [
    {
     "data": {
      "text/plain": [
       "0.0    1453\n",
       "4.0       3\n",
       "2.0       2\n",
       "5.0       2\n",
       "Name: PoolQC, dtype: int64"
      ]
     },
     "execution_count": 41,
     "metadata": {},
     "output_type": "execute_result"
    }
   ],
   "source": [
    "df.PoolQC.value_counts()"
   ]
  },
  {
   "cell_type": "code",
   "execution_count": 42,
   "metadata": {},
   "outputs": [
    {
     "data": {
      "text/plain": [
       "TA    1311\n",
       "Fa      48\n",
       "Gd      14\n",
       "Ex       3\n",
       "Po       3\n",
       "Name: GarageQual, dtype: int64"
      ]
     },
     "execution_count": 42,
     "metadata": {},
     "output_type": "execute_result"
    }
   ],
   "source": [
    "# Same here\n",
    "df.GarageQual.value_counts()"
   ]
  },
  {
   "cell_type": "code",
   "execution_count": 43,
   "metadata": {},
   "outputs": [],
   "source": [
    "dct={'Ex':5, 'Gd':4, 'TA':3,'Fa':2, 'Po':1}\n",
    "df.GarageQual=df.GarageQual.map(dct)\n",
    "df.GarageQual.fillna(0, inplace=True)"
   ]
  },
  {
   "cell_type": "code",
   "execution_count": 44,
   "metadata": {},
   "outputs": [],
   "source": [
    "# And here\n",
    "dct={'Ex':5, 'Gd':4, 'TA':3,'Fa':2, 'Po':1}\n",
    "df.GarageCond=df.GarageCond.map(dct)\n",
    "df.GarageCond.fillna(0, inplace=True)"
   ]
  },
  {
   "cell_type": "code",
   "execution_count": 45,
   "metadata": {},
   "outputs": [
    {
     "data": {
      "text/plain": [
       "Unf    605\n",
       "RFn    422\n",
       "Fin    352\n",
       "Name: GarageFinish, dtype: int64"
      ]
     },
     "execution_count": 45,
     "metadata": {},
     "output_type": "execute_result"
    }
   ],
   "source": [
    "df.GarageFinish.value_counts()"
   ]
  },
  {
   "cell_type": "code",
   "execution_count": 46,
   "metadata": {},
   "outputs": [],
   "source": [
    "# And here\n",
    "dct={'Fin':3,'RFn':2, 'Unf':1}\n",
    "df.GarageFinish=df.GarageFinish.map(dct)\n",
    "df.GarageFinish.fillna(0, inplace=True)"
   ]
  },
  {
   "cell_type": "code",
   "execution_count": 47,
   "metadata": {},
   "outputs": [
    {
     "data": {
      "text/plain": [
       "0       2003.0\n",
       "1       1976.0\n",
       "2       2001.0\n",
       "3       1998.0\n",
       "4       2000.0\n",
       "         ...  \n",
       "1455    1999.0\n",
       "1456    1978.0\n",
       "1457    1941.0\n",
       "1458    1950.0\n",
       "1459    1965.0\n",
       "Name: GarageYrBlt, Length: 1460, dtype: float64"
      ]
     },
     "execution_count": 47,
     "metadata": {},
     "output_type": "execute_result"
    }
   ],
   "source": [
    "df.GarageYrBlt"
   ]
  },
  {
   "cell_type": "code",
   "execution_count": 48,
   "metadata": {},
   "outputs": [
    {
     "data": {
      "text/plain": [
       "0.7458904109589041"
      ]
     },
     "execution_count": 48,
     "metadata": {},
     "output_type": "execute_result"
    }
   ],
   "source": [
    "# Year when the Garage was built potentially can bring us some information. But is it really important?\n",
    "# From one point of view we still can categorize it into decades - 2010s, 2000s, 1990s, etc. But let's just drop them\n",
    "(df.GarageYrBlt==df.YearBuilt).sum()/df.shape[0]"
   ]
  },
  {
   "cell_type": "code",
   "execution_count": 49,
   "metadata": {},
   "outputs": [],
   "source": [
    "df.drop('GarageYrBlt',axis=1,inplace=True)"
   ]
  },
  {
   "cell_type": "code",
   "execution_count": 50,
   "metadata": {},
   "outputs": [
    {
     "data": {
      "text/plain": [
       "Attchd     870\n",
       "Detchd     387\n",
       "BuiltIn     88\n",
       "Basment     19\n",
       "CarPort      9\n",
       "2Types       6\n",
       "Name: GarageType, dtype: int64"
      ]
     },
     "execution_count": 50,
     "metadata": {},
     "output_type": "execute_result"
    }
   ],
   "source": [
    "df.GarageType.value_counts()"
   ]
  },
  {
   "cell_type": "code",
   "execution_count": 51,
   "metadata": {},
   "outputs": [],
   "source": [
    "dummies_list_NA.append('GarageType')"
   ]
  },
  {
   "cell_type": "code",
   "execution_count": 52,
   "metadata": {},
   "outputs": [],
   "source": [
    "dct={'Ex':5, 'Gd':4, 'TA':3,'Fa':2, 'Po':1}\n",
    "df.FireplaceQu=df.FireplaceQu.map(dct)\n",
    "df.FireplaceQu.fillna(0, inplace=True)"
   ]
  },
  {
   "cell_type": "code",
   "execution_count": 53,
   "metadata": {},
   "outputs": [
    {
     "data": {
      "text/plain": [
       "SBrkr    1334\n",
       "FuseA      94\n",
       "FuseF      27\n",
       "FuseP       3\n",
       "Mix         1\n",
       "Name: Electrical, dtype: int64"
      ]
     },
     "execution_count": 53,
     "metadata": {},
     "output_type": "execute_result"
    }
   ],
   "source": [
    "df.Electrical.value_counts()"
   ]
  },
  {
   "cell_type": "code",
   "execution_count": 54,
   "metadata": {},
   "outputs": [
    {
     "data": {
      "text/html": [
       "<div>\n",
       "<style scoped>\n",
       "    .dataframe tbody tr th:only-of-type {\n",
       "        vertical-align: middle;\n",
       "    }\n",
       "\n",
       "    .dataframe tbody tr th {\n",
       "        vertical-align: top;\n",
       "    }\n",
       "\n",
       "    .dataframe thead th {\n",
       "        text-align: right;\n",
       "    }\n",
       "</style>\n",
       "<table border=\"1\" class=\"dataframe\">\n",
       "  <thead>\n",
       "    <tr style=\"text-align: right;\">\n",
       "      <th></th>\n",
       "      <th>1379</th>\n",
       "    </tr>\n",
       "  </thead>\n",
       "  <tbody>\n",
       "    <tr>\n",
       "      <th>MSSubClass</th>\n",
       "      <td>80</td>\n",
       "    </tr>\n",
       "    <tr>\n",
       "      <th>MSZoning</th>\n",
       "      <td>RL</td>\n",
       "    </tr>\n",
       "    <tr>\n",
       "      <th>LotFrontage</th>\n",
       "      <td>73</td>\n",
       "    </tr>\n",
       "    <tr>\n",
       "      <th>LotArea</th>\n",
       "      <td>9735</td>\n",
       "    </tr>\n",
       "    <tr>\n",
       "      <th>Street</th>\n",
       "      <td>Pave</td>\n",
       "    </tr>\n",
       "    <tr>\n",
       "      <th>...</th>\n",
       "      <td>...</td>\n",
       "    </tr>\n",
       "    <tr>\n",
       "      <th>MoSold</th>\n",
       "      <td>5</td>\n",
       "    </tr>\n",
       "    <tr>\n",
       "      <th>YrSold</th>\n",
       "      <td>2008</td>\n",
       "    </tr>\n",
       "    <tr>\n",
       "      <th>SaleType</th>\n",
       "      <td>WD</td>\n",
       "    </tr>\n",
       "    <tr>\n",
       "      <th>SaleCondition</th>\n",
       "      <td>Normal</td>\n",
       "    </tr>\n",
       "    <tr>\n",
       "      <th>SalePrice</th>\n",
       "      <td>167500</td>\n",
       "    </tr>\n",
       "  </tbody>\n",
       "</table>\n",
       "<p>79 rows × 1 columns</p>\n",
       "</div>"
      ],
      "text/plain": [
       "                 1379\n",
       "MSSubClass         80\n",
       "MSZoning           RL\n",
       "LotFrontage        73\n",
       "LotArea          9735\n",
       "Street           Pave\n",
       "...               ...\n",
       "MoSold              5\n",
       "YrSold           2008\n",
       "SaleType           WD\n",
       "SaleCondition  Normal\n",
       "SalePrice      167500\n",
       "\n",
       "[79 rows x 1 columns]"
      ]
     },
     "execution_count": 54,
     "metadata": {},
     "output_type": "execute_result"
    }
   ],
   "source": [
    "# There is only 1 missing case. We can fill it with the modal value from similar houses.\n",
    "df[df.Electrical.isna()].T"
   ]
  },
  {
   "cell_type": "code",
   "execution_count": 55,
   "metadata": {},
   "outputs": [
    {
     "data": {
      "text/plain": [
       "1379    2006\n",
       "Name: YearBuilt, dtype: int64"
      ]
     },
     "execution_count": 55,
     "metadata": {},
     "output_type": "execute_result"
    }
   ],
   "source": [
    "df[df.Electrical.isna()].YearBuilt"
   ]
  },
  {
   "cell_type": "code",
   "execution_count": 56,
   "metadata": {},
   "outputs": [
    {
     "data": {
      "text/plain": [
       "1258    SBrkr\n",
       "1379      NaN\n",
       "Name: Electrical, dtype: object"
      ]
     },
     "execution_count": 56,
     "metadata": {},
     "output_type": "execute_result"
    }
   ],
   "source": [
    "# We define similar house within the same category of houses and construction year.\n",
    "df.query('2004<YearBuilt<2008 & MSSubClass==80').Electrical"
   ]
  },
  {
   "cell_type": "code",
   "execution_count": 57,
   "metadata": {},
   "outputs": [],
   "source": [
    "df.loc[df.Electrical.isna(),'Electrical']='SBrkr'"
   ]
  },
  {
   "cell_type": "code",
   "execution_count": 58,
   "metadata": {},
   "outputs": [
    {
     "data": {
      "text/plain": [
       "SBrkr    1335\n",
       "FuseA      94\n",
       "FuseF      27\n",
       "FuseP       3\n",
       "Mix         1\n",
       "Name: Electrical, dtype: int64"
      ]
     },
     "execution_count": 58,
     "metadata": {},
     "output_type": "execute_result"
    }
   ],
   "source": [
    "df.Electrical.value_counts()"
   ]
  },
  {
   "cell_type": "code",
   "execution_count": 59,
   "metadata": {},
   "outputs": [],
   "source": [
    "# And yeah, we need to dummy it\n",
    "dummies_list=['Electrical']"
   ]
  },
  {
   "cell_type": "code",
   "execution_count": 60,
   "metadata": {},
   "outputs": [
    {
     "data": {
      "text/plain": [
       "Unf    1256\n",
       "Rec      54\n",
       "LwQ      46\n",
       "BLQ      33\n",
       "ALQ      19\n",
       "GLQ      14\n",
       "Name: BsmtFinType2, dtype: int64"
      ]
     },
     "execution_count": 60,
     "metadata": {},
     "output_type": "execute_result"
    }
   ],
   "source": [
    "# We have 2 variables that describe the same feature. Dummy them like Pokemons!\n",
    "df.BsmtFinType2.value_counts()"
   ]
  },
  {
   "cell_type": "code",
   "execution_count": 61,
   "metadata": {},
   "outputs": [
    {
     "data": {
      "text/plain": [
       "Unf    430\n",
       "GLQ    418\n",
       "ALQ    220\n",
       "BLQ    148\n",
       "Rec    133\n",
       "LwQ     74\n",
       "Name: BsmtFinType1, dtype: int64"
      ]
     },
     "execution_count": 61,
     "metadata": {},
     "output_type": "execute_result"
    }
   ],
   "source": [
    "df.BsmtFinType1.value_counts()"
   ]
  },
  {
   "cell_type": "code",
   "execution_count": 62,
   "metadata": {},
   "outputs": [
    {
     "data": {
      "text/plain": [
       "array(['GLQ Unf', 'ALQ Unf', 'ALQ BLQ', 'Unf Unf', 'Rec Unf', 'BLQ Unf',\n",
       "       'nan nan', 'LwQ Unf', 'Rec ALQ', 'BLQ Rec', 'ALQ LwQ', 'LwQ BLQ',\n",
       "       'LwQ GLQ', 'BLQ GLQ', 'ALQ Rec', 'Rec BLQ', 'BLQ ALQ', 'GLQ Rec',\n",
       "       'GLQ LwQ', 'LwQ ALQ', 'Rec LwQ', 'GLQ nan', 'LwQ Rec', 'BLQ LwQ',\n",
       "       'GLQ ALQ', 'GLQ BLQ', 'ALQ GLQ', 'BLQ BLQ'], dtype=object)"
      ]
     },
     "execution_count": 62,
     "metadata": {},
     "output_type": "execute_result"
    }
   ],
   "source": [
    "# Doesn't really works. Each type has different impact. And yeah, having 27 dummies is too much...\n",
    "df[['BsmtFinType1','BsmtFinType2']].apply(lambda x: str(x['BsmtFinType1'])+' '+str(x['BsmtFinType2']),axis=1).unique()"
   ]
  },
  {
   "cell_type": "code",
   "execution_count": 64,
   "metadata": {},
   "outputs": [],
   "source": [
    "# This is better. \n",
    "BsmtFinType_df=df[['BsmtFinType1','BsmtFinType2']].stack().str.get_dummies().sum(level=0)\n",
    "BsmtFinType_df.columns=['BsmtFinType'+i for i in BsmtFinType_df.columns]"
   ]
  },
  {
   "cell_type": "code",
   "execution_count": 116,
   "metadata": {},
   "outputs": [],
   "source": [
    "df=pd.concat([df, BsmtFinType_df],axis=1)"
   ]
  },
  {
   "cell_type": "code",
   "execution_count": 66,
   "metadata": {},
   "outputs": [
    {
     "data": {
      "text/plain": [
       "array(['No', 'Gd', 'Mn', 'Av', nan], dtype=object)"
      ]
     },
     "execution_count": 66,
     "metadata": {},
     "output_type": "execute_result"
    }
   ],
   "source": [
    "# We can rank the values as well.\n",
    "df.BsmtExposure.unique()"
   ]
  },
  {
   "cell_type": "code",
   "execution_count": 67,
   "metadata": {},
   "outputs": [],
   "source": [
    "dct={'Gd':3,'Av':2,'Mn':1}\n",
    "df.BsmtExposure=df.BsmtExposure.map(dct)\n",
    "df.BsmtExposure.fillna(0, inplace=True)"
   ]
  },
  {
   "cell_type": "code",
   "execution_count": 68,
   "metadata": {},
   "outputs": [],
   "source": [
    "dct={'Ex':5, 'Gd':4, 'TA':3,'Fa':2, 'Po':1}\n",
    "df.BsmtCond=df.BsmtCond.map(dct)\n",
    "df.BsmtCond.fillna(0, inplace=True)"
   ]
  },
  {
   "cell_type": "code",
   "execution_count": 69,
   "metadata": {},
   "outputs": [],
   "source": [
    "df.BsmtQual=df.BsmtQual.map(dct)\n",
    "df.BsmtQual.fillna(0, inplace=True)"
   ]
  },
  {
   "cell_type": "code",
   "execution_count": 70,
   "metadata": {},
   "outputs": [],
   "source": [
    "# Numerical. Missing value is no Masonry Veneer\n",
    "df.MasVnrArea.fillna(0,inplace=True)"
   ]
  },
  {
   "cell_type": "code",
   "execution_count": 71,
   "metadata": {},
   "outputs": [],
   "source": [
    "# None means missing\n",
    "df.MasVnrType=df.MasVnrType.map({'BrkFace':'BrkFace','Stone':'Stone','BrkCmn':'BrkCmn'})"
   ]
  },
  {
   "cell_type": "code",
   "execution_count": 72,
   "metadata": {},
   "outputs": [],
   "source": [
    "dummies_list_NA.append('MasVnrType')"
   ]
  },
  {
   "cell_type": "code",
   "execution_count": 73,
   "metadata": {},
   "outputs": [],
   "source": [
    "# Doesn't really impacts the price\n",
    "df.drop('Alley',axis=1,inplace=True)"
   ]
  },
  {
   "cell_type": "code",
   "execution_count": 74,
   "metadata": {},
   "outputs": [
    {
     "data": {
      "text/plain": [
       "259"
      ]
     },
     "execution_count": 74,
     "metadata": {},
     "output_type": "execute_result"
    }
   ],
   "source": [
    "df.LotFrontage.isna().sum()"
   ]
  },
  {
   "cell_type": "code",
   "execution_count": 75,
   "metadata": {},
   "outputs": [],
   "source": [
    "df.LotFrontage.fillna(0,inplace=True)"
   ]
  },
  {
   "cell_type": "code",
   "execution_count": 76,
   "metadata": {},
   "outputs": [
    {
     "data": {
      "text/plain": [
       "MasVnrType       872\n",
       "BsmtFinType1      37\n",
       "BsmtFinType2      38\n",
       "GarageType        81\n",
       "Fence           1179\n",
       "MiscFeature     1406\n",
       "dtype: int64"
      ]
     },
     "execution_count": 76,
     "metadata": {},
     "output_type": "execute_result"
    }
   ],
   "source": [
    "missing=df.isna().sum()\n",
    "missing[missing>0]"
   ]
  },
  {
   "cell_type": "markdown",
   "metadata": {},
   "source": [
    "When we use map, values outside the dictionary end up being missing. Few lines below show that effect."
   ]
  },
  {
   "cell_type": "code",
   "execution_count": 77,
   "metadata": {},
   "outputs": [],
   "source": [
    "#dumbdf=df[['BsmtFinType1','BsmtFinType2']].apply(lambda x: str(x['BsmtFinType1'])+' '+str(x['BsmtFinType2']),axis=1)"
   ]
  },
  {
   "cell_type": "code",
   "execution_count": 78,
   "metadata": {
    "scrolled": true
   },
   "outputs": [],
   "source": [
    "#dumbdf.unique()"
   ]
  },
  {
   "cell_type": "code",
   "execution_count": 79,
   "metadata": {},
   "outputs": [],
   "source": [
    "#dumbdf=dumbdf.map({'GLQ Unf':1, 'nan nan':2})\n",
    "#dumbdf.unique()"
   ]
  },
  {
   "cell_type": "markdown",
   "metadata": {},
   "source": [
    "We still need to tackle the features that have no missing values. \n",
    "\n",
    "Since the approach is very similar, no comments will be left until next charpter"
   ]
  },
  {
   "cell_type": "code",
   "execution_count": 85,
   "metadata": {},
   "outputs": [
    {
     "data": {
      "text/plain": [
       "Index(['MSSubClass', 'MSZoning', 'LotFrontage', 'LotArea', 'Street',\n",
       "       'LotShape', 'LandContour', 'Utilities', 'LotConfig', 'LandSlope',\n",
       "       'Neighborhood', 'Condition1', 'Condition2', 'BldgType', 'HouseStyle',\n",
       "       'OverallQual', 'OverallCond', 'YearBuilt', 'YearRemodAdd', 'RoofStyle',\n",
       "       'RoofMatl', 'Exterior1st', 'Exterior2nd', 'MasVnrArea', 'ExterQual',\n",
       "       'ExterCond', 'Foundation', 'BsmtQual', 'BsmtCond', 'BsmtExposure',\n",
       "       'BsmtFinSF1', 'BsmtFinSF2', 'BsmtUnfSF', 'TotalBsmtSF', 'Heating',\n",
       "       'HeatingQC', 'CentralAir', 'Electrical', '1stFlrSF', '2ndFlrSF',\n",
       "       'LowQualFinSF', 'GrLivArea', 'BsmtFullBath', 'BsmtHalfBath', 'FullBath',\n",
       "       'HalfBath', 'BedroomAbvGr', 'KitchenAbvGr', 'KitchenQual',\n",
       "       'TotRmsAbvGrd', 'Functional', 'Fireplaces', 'FireplaceQu',\n",
       "       'GarageFinish', 'GarageCars', 'GarageArea', 'GarageQual', 'GarageCond',\n",
       "       'PavedDrive', 'WoodDeckSF', 'OpenPorchSF', 'EnclosedPorch', '3SsnPorch',\n",
       "       'ScreenPorch', 'PoolArea', 'PoolQC', 'MiscVal', 'MoSold', 'YrSold',\n",
       "       'SaleType', 'SaleCondition', 'SalePrice'],\n",
       "      dtype='object')"
      ]
     },
     "execution_count": 85,
     "metadata": {},
     "output_type": "execute_result"
    }
   ],
   "source": [
    "df.loc[:,missing==0].columns"
   ]
  },
  {
   "cell_type": "code",
   "execution_count": 91,
   "metadata": {},
   "outputs": [],
   "source": [
    "columns_to_drop=[]"
   ]
  },
  {
   "cell_type": "code",
   "execution_count": 92,
   "metadata": {},
   "outputs": [],
   "source": [
    "columns_to_drop.append('MSSubClass')"
   ]
  },
  {
   "cell_type": "code",
   "execution_count": 93,
   "metadata": {},
   "outputs": [
    {
     "data": {
      "text/plain": [
       "RL         1151\n",
       "RM          218\n",
       "FV           65\n",
       "RH           16\n",
       "C (all)      10\n",
       "Name: MSZoning, dtype: int64"
      ]
     },
     "execution_count": 93,
     "metadata": {},
     "output_type": "execute_result"
    }
   ],
   "source": [
    "df.MSZoning.value_counts()"
   ]
  },
  {
   "cell_type": "code",
   "execution_count": 96,
   "metadata": {},
   "outputs": [],
   "source": [
    "df.MSZoning=df.MSZoning.map({'FV':'FV','RH':'RH','RL':'RL','RM':'RM'})"
   ]
  },
  {
   "cell_type": "code",
   "execution_count": 104,
   "metadata": {},
   "outputs": [],
   "source": [
    "MSZoning_df=pd.get_dummies(df['MSZoning'])\n",
    "MSZoning_df[MSZoning_df.sum(axis=1)==0]=1"
   ]
  },
  {
   "cell_type": "code",
   "execution_count": 110,
   "metadata": {},
   "outputs": [
    {
     "data": {
      "text/plain": [
       "4"
      ]
     },
     "execution_count": 110,
     "metadata": {},
     "output_type": "execute_result"
    }
   ],
   "source": [
    "MSZoning_df.sum(axis=1).max()"
   ]
  },
  {
   "cell_type": "code",
   "execution_count": 112,
   "metadata": {},
   "outputs": [],
   "source": [
    "MSZoning_df.columns=['MSZoning'+i for i in MSZoning_df]"
   ]
  },
  {
   "cell_type": "code",
   "execution_count": 115,
   "metadata": {},
   "outputs": [],
   "source": [
    "df=pd.concat([df,MSZoning_df],axis=1)"
   ]
  },
  {
   "cell_type": "code",
   "execution_count": 120,
   "metadata": {},
   "outputs": [],
   "source": [
    "columns_to_drop.append('Street')"
   ]
  },
  {
   "cell_type": "code",
   "execution_count": 122,
   "metadata": {
    "scrolled": true
   },
   "outputs": [
    {
     "data": {
      "text/plain": [
       "array(['Reg', 'IR1', 'IR2', 'IR3'], dtype=object)"
      ]
     },
     "execution_count": 122,
     "metadata": {},
     "output_type": "execute_result"
    }
   ],
   "source": [
    "df.LotShape.unique()"
   ]
  },
  {
   "cell_type": "code",
   "execution_count": 123,
   "metadata": {},
   "outputs": [],
   "source": [
    "df.LotShape=df.LotShape.map({'Reg':0,'IR1':1,'IR2':2,'IR3':3})"
   ]
  },
  {
   "cell_type": "code",
   "execution_count": 125,
   "metadata": {},
   "outputs": [
    {
     "data": {
      "text/plain": [
       "Lvl    1311\n",
       "Bnk      63\n",
       "HLS      50\n",
       "Low      36\n",
       "Name: LandContour, dtype: int64"
      ]
     },
     "execution_count": 125,
     "metadata": {},
     "output_type": "execute_result"
    }
   ],
   "source": [
    "df.LandContour.value_counts()"
   ]
  },
  {
   "cell_type": "code",
   "execution_count": 126,
   "metadata": {},
   "outputs": [],
   "source": [
    "dummies_list.append('LandContour')"
   ]
  },
  {
   "cell_type": "code",
   "execution_count": 128,
   "metadata": {},
   "outputs": [
    {
     "data": {
      "text/plain": [
       "AllPub    1459\n",
       "NoSeWa       1\n",
       "Name: Utilities, dtype: int64"
      ]
     },
     "execution_count": 128,
     "metadata": {},
     "output_type": "execute_result"
    }
   ],
   "source": [
    "df.Utilities.value_counts()"
   ]
  },
  {
   "cell_type": "code",
   "execution_count": 129,
   "metadata": {},
   "outputs": [],
   "source": [
    "df.Utilities=df.Utilities.map({'NoSeWa':1,'AllPub':0})"
   ]
  },
  {
   "cell_type": "code",
   "execution_count": 131,
   "metadata": {},
   "outputs": [
    {
     "data": {
      "text/plain": [
       "Inside     1052\n",
       "Corner      263\n",
       "CulDSac      94\n",
       "FR2          47\n",
       "FR3           4\n",
       "Name: LotConfig, dtype: int64"
      ]
     },
     "execution_count": 131,
     "metadata": {},
     "output_type": "execute_result"
    }
   ],
   "source": [
    "df.LotConfig.value_counts()"
   ]
  },
  {
   "cell_type": "code",
   "execution_count": 132,
   "metadata": {},
   "outputs": [],
   "source": [
    "dummies_list.append('LotConfig')"
   ]
  },
  {
   "cell_type": "code",
   "execution_count": 134,
   "metadata": {},
   "outputs": [
    {
     "data": {
      "text/plain": [
       "Gtl    1382\n",
       "Mod      65\n",
       "Sev      13\n",
       "Name: LandSlope, dtype: int64"
      ]
     },
     "execution_count": 134,
     "metadata": {},
     "output_type": "execute_result"
    }
   ],
   "source": [
    "df.LandSlope.value_counts()"
   ]
  },
  {
   "cell_type": "code",
   "execution_count": 136,
   "metadata": {},
   "outputs": [],
   "source": [
    "df.LandSlope=df.LandSlope.map({'Gtl':0, 'Mod':1, 'Sev':2})"
   ]
  },
  {
   "cell_type": "code",
   "execution_count": 138,
   "metadata": {
    "collapsed": true
   },
   "outputs": [
    {
     "data": {
      "text/plain": [
       "NAmes      225\n",
       "CollgCr    150\n",
       "OldTown    113\n",
       "Edwards    100\n",
       "Somerst     86\n",
       "Gilbert     79\n",
       "NridgHt     77\n",
       "Sawyer      74\n",
       "NWAmes      73\n",
       "SawyerW     59\n",
       "BrkSide     58\n",
       "Crawfor     51\n",
       "Mitchel     49\n",
       "NoRidge     41\n",
       "Timber      38\n",
       "IDOTRR      37\n",
       "ClearCr     28\n",
       "StoneBr     25\n",
       "SWISU       25\n",
       "Blmngtn     17\n",
       "MeadowV     17\n",
       "BrDale      16\n",
       "Veenker     11\n",
       "NPkVill      9\n",
       "Blueste      2\n",
       "Name: Neighborhood, dtype: int64"
      ]
     },
     "execution_count": 138,
     "metadata": {},
     "output_type": "execute_result"
    }
   ],
   "source": [
    "df.Neighborhood.value_counts()"
   ]
  },
  {
   "cell_type": "code",
   "execution_count": null,
   "metadata": {},
   "outputs": [],
   "source": [
    "dummies_list.append('Neighborhood')"
   ]
  },
  {
   "cell_type": "code",
   "execution_count": 140,
   "metadata": {},
   "outputs": [
    {
     "data": {
      "text/plain": [
       "array(['Norm', 'Feedr', 'PosN', 'Artery', 'RRAe', 'RRNn', 'RRAn', 'PosA',\n",
       "       'RRNe'], dtype=object)"
      ]
     },
     "execution_count": 140,
     "metadata": {},
     "output_type": "execute_result"
    }
   ],
   "source": [
    "df.Condition1.unique()"
   ]
  },
  {
   "cell_type": "code",
   "execution_count": 141,
   "metadata": {},
   "outputs": [],
   "source": [
    "columns_to_drop.append('Condition1')\n",
    "columns_to_drop.append('Condition2')\n"
   ]
  },
  {
   "cell_type": "code",
   "execution_count": 143,
   "metadata": {},
   "outputs": [
    {
     "data": {
      "text/plain": [
       "array(['1Fam', '2fmCon', 'Duplex', 'TwnhsE', 'Twnhs'], dtype=object)"
      ]
     },
     "execution_count": 143,
     "metadata": {},
     "output_type": "execute_result"
    }
   ],
   "source": [
    "df.BldgType.unique()"
   ]
  },
  {
   "cell_type": "code",
   "execution_count": 144,
   "metadata": {},
   "outputs": [],
   "source": [
    "dummies_list.append('BldgType')"
   ]
  },
  {
   "cell_type": "code",
   "execution_count": 146,
   "metadata": {},
   "outputs": [],
   "source": [
    "dummies_list.append('HouseStyle')"
   ]
  },
  {
   "cell_type": "code",
   "execution_count": 149,
   "metadata": {},
   "outputs": [
    {
     "data": {
      "text/plain": [
       "0       2003\n",
       "1       1976\n",
       "2       2001\n",
       "3       1915\n",
       "4       2000\n",
       "        ... \n",
       "1455    1999\n",
       "1456    1978\n",
       "1457    1941\n",
       "1458    1950\n",
       "1459    1965\n",
       "Name: YearBuilt, Length: 1460, dtype: int64"
      ]
     },
     "execution_count": 149,
     "metadata": {},
     "output_type": "execute_result"
    }
   ],
   "source": [
    "df.YearBuilt"
   ]
  },
  {
   "cell_type": "code",
   "execution_count": 152,
   "metadata": {},
   "outputs": [
    {
     "data": {
      "text/plain": [
       "2020"
      ]
     },
     "execution_count": 152,
     "metadata": {},
     "output_type": "execute_result"
    }
   ],
   "source": [
    "from  datetime import datetime\n",
    "datetime.now().year"
   ]
  },
  {
   "cell_type": "code",
   "execution_count": 153,
   "metadata": {},
   "outputs": [],
   "source": [
    "df['Age']=datetime.now().year-df.YearBuilt"
   ]
  },
  {
   "cell_type": "code",
   "execution_count": 158,
   "metadata": {},
   "outputs": [],
   "source": [
    "df['RemodAdd']=df.eval('YearRemodAdd>YearBuilt').astype(int)"
   ]
  },
  {
   "cell_type": "code",
   "execution_count": 159,
   "metadata": {},
   "outputs": [],
   "source": [
    "columns_to_drop.extend(['YearRemodAdd','YearBuilt'])"
   ]
  },
  {
   "cell_type": "code",
   "execution_count": 161,
   "metadata": {},
   "outputs": [
    {
     "data": {
      "text/plain": [
       "Gable      1141\n",
       "Hip         286\n",
       "Flat         13\n",
       "Gambrel      11\n",
       "Mansard       7\n",
       "Shed          2\n",
       "Name: RoofStyle, dtype: int64"
      ]
     },
     "execution_count": 161,
     "metadata": {},
     "output_type": "execute_result"
    }
   ],
   "source": [
    "df.RoofStyle.value_counts()"
   ]
  },
  {
   "cell_type": "code",
   "execution_count": 162,
   "metadata": {},
   "outputs": [],
   "source": [
    "columns_to_drop.append('RoofStyle')"
   ]
  },
  {
   "cell_type": "code",
   "execution_count": 164,
   "metadata": {},
   "outputs": [],
   "source": [
    "columns_to_drop.extend(['RoofMatl', 'Exterior1st', 'Exterior2nd'])"
   ]
  },
  {
   "cell_type": "code",
   "execution_count": 167,
   "metadata": {},
   "outputs": [],
   "source": [
    "dct={'Ex':5, 'Gd':4, 'TA':3,'Fa':2, 'Po':1}\n",
    "df.ExterQual=df.ExterQual.map(dct)\n",
    "df.ExterQual.fillna(0, inplace=True)\n"
   ]
  },
  {
   "cell_type": "code",
   "execution_count": 169,
   "metadata": {},
   "outputs": [],
   "source": [
    "dct={'Ex':5, 'Gd':4, 'TA':3,'Fa':2, 'Po':1}\n",
    "df.ExterCond=df.ExterCond.map(dct)\n",
    "df.ExterCond.fillna(0, inplace=True)"
   ]
  },
  {
   "cell_type": "code",
   "execution_count": null,
   "metadata": {},
   "outputs": [],
   "source": [
    "       'GarageFinish', 'GarageCars', 'GarageArea', 'GarageQual', 'GarageCond',\n",
    "       'PavedDrive', 'WoodDeckSF', 'OpenPorchSF', 'EnclosedPorch', '3SsnPorch',\n",
    "       'ScreenPorch', 'PoolArea', 'PoolQC', 'MiscVal', 'MoSold', 'YrSold',\n",
    "       'SaleType', 'SaleCondition', 'SalePrice'],"
   ]
  },
  {
   "cell_type": "code",
   "execution_count": 171,
   "metadata": {},
   "outputs": [],
   "source": [
    "dummies_list.append('Foundation')"
   ]
  },
  {
   "cell_type": "code",
   "execution_count": 181,
   "metadata": {},
   "outputs": [
    {
     "data": {
      "text/plain": [
       "GasA     1428\n",
       "GasW       18\n",
       "Grav        7\n",
       "Wall        4\n",
       "OthW        2\n",
       "Floor       1\n",
       "Name: Heating, dtype: int64"
      ]
     },
     "execution_count": 181,
     "metadata": {},
     "output_type": "execute_result"
    }
   ],
   "source": [
    "df.Heating.value_counts()"
   ]
  },
  {
   "cell_type": "code",
   "execution_count": 182,
   "metadata": {},
   "outputs": [],
   "source": [
    "dummies_list.append('Heating')"
   ]
  },
  {
   "cell_type": "code",
   "execution_count": 184,
   "metadata": {},
   "outputs": [],
   "source": [
    "dct={'Ex':5, 'Gd':4, 'TA':3,'Fa':2, 'Po':1}\n",
    "df.HeatingQC=df.HeatingQC.map(dct)\n",
    "df.HeatingQC.fillna(0, inplace=True)"
   ]
  },
  {
   "cell_type": "code",
   "execution_count": 187,
   "metadata": {},
   "outputs": [],
   "source": [
    "df.CentralAir=df.CentralAir.map({'Y':1,'N':0})"
   ]
  },
  {
   "cell_type": "code",
   "execution_count": 190,
   "metadata": {},
   "outputs": [
    {
     "data": {
      "text/plain": [
       "True"
      ]
     },
     "execution_count": 190,
     "metadata": {},
     "output_type": "execute_result"
    }
   ],
   "source": [
    "'Electrical' in dummies_list"
   ]
  },
  {
   "cell_type": "code",
   "execution_count": 194,
   "metadata": {},
   "outputs": [],
   "source": [
    "dct={'Ex':5, 'Gd':4, 'TA':3,'Fa':2, 'Po':1}\n",
    "df.KitchenQual=df.KitchenQual.map(dct)\n",
    "df.KitchenQual.fillna(0, inplace=True)\n"
   ]
  },
  {
   "cell_type": "code",
   "execution_count": 196,
   "metadata": {},
   "outputs": [
    {
     "data": {
      "text/plain": [
       "array(['Typ', 'Min1', 'Maj1', 'Min2', 'Mod', 'Maj2', 'Sev'], dtype=object)"
      ]
     },
     "execution_count": 196,
     "metadata": {},
     "output_type": "execute_result"
    }
   ],
   "source": [
    "df.Functional.unique()"
   ]
  },
  {
   "cell_type": "code",
   "execution_count": 197,
   "metadata": {},
   "outputs": [],
   "source": [
    "txt=\"\"\"0  Typ\n",
    "1  Min1\n",
    "2  Min2\n",
    "3  Mod\n",
    "4  Maj1\n",
    "5  Maj2\n",
    "6   Sev\n",
    "7   Sal\"\"\""
   ]
  },
  {
   "cell_type": "code",
   "execution_count": 204,
   "metadata": {},
   "outputs": [],
   "source": [
    "df.Functional=df.Functional.map({i.split()[1]:i.split()[0] for i in txt.split('\\n')})"
   ]
  },
  {
   "cell_type": "code",
   "execution_count": 212,
   "metadata": {},
   "outputs": [
    {
     "data": {
      "text/plain": [
       "Y    1340\n",
       "N      90\n",
       "P      30\n",
       "Name: PavedDrive, dtype: int64"
      ]
     },
     "execution_count": 212,
     "metadata": {},
     "output_type": "execute_result"
    }
   ],
   "source": [
    "df.PavedDrive.value_counts()"
   ]
  },
  {
   "cell_type": "code",
   "execution_count": 213,
   "metadata": {},
   "outputs": [],
   "source": [
    "columns_to_drop.append('PavedDrive')"
   ]
  },
  {
   "cell_type": "code",
   "execution_count": 220,
   "metadata": {},
   "outputs": [],
   "source": [
    "columns_to_drop.append('SaleType')"
   ]
  },
  {
   "cell_type": "code",
   "execution_count": 221,
   "metadata": {},
   "outputs": [],
   "source": [
    "columns_to_drop.append('SaleCondition')\n"
   ]
  },
  {
   "cell_type": "code",
   "execution_count": 223,
   "metadata": {},
   "outputs": [
    {
     "data": {
      "text/plain": [
       "['Electrical',\n",
       " 'LandContour',\n",
       " 'LotConfig',\n",
       " 'BldgType',\n",
       " 'HouseStyle',\n",
       " 'Foundation',\n",
       " 'Heating']"
      ]
     },
     "execution_count": 223,
     "metadata": {},
     "output_type": "execute_result"
    }
   ],
   "source": [
    "dummies_list"
   ]
  },
  {
   "cell_type": "code",
   "execution_count": 224,
   "metadata": {},
   "outputs": [
    {
     "data": {
      "text/plain": [
       "['MiscFeature', 'Fence', 'GarageType', 'MasVnrType']"
      ]
     },
     "execution_count": 224,
     "metadata": {},
     "output_type": "execute_result"
    }
   ],
   "source": [
    "dummies_list_NA"
   ]
  },
  {
   "cell_type": "code",
   "execution_count": 225,
   "metadata": {},
   "outputs": [
    {
     "data": {
      "text/plain": [
       "GasA     1428\n",
       "GasW       18\n",
       "Grav        7\n",
       "Wall        4\n",
       "OthW        2\n",
       "Floor       1\n",
       "Name: Heating, dtype: int64"
      ]
     },
     "execution_count": 225,
     "metadata": {},
     "output_type": "execute_result"
    }
   ],
   "source": [
    "df.Heating.value_counts()"
   ]
  },
  {
   "cell_type": "code",
   "execution_count": 233,
   "metadata": {},
   "outputs": [],
   "source": [
    "df1=pd.get_dummies(data=df, columns=dummies_list, drop_first=True)"
   ]
  },
  {
   "cell_type": "code",
   "execution_count": 234,
   "metadata": {},
   "outputs": [
    {
     "data": {
      "text/plain": [
       "Index(['BldgType_Duplex', 'BldgType_Twnhs', 'BldgType_TwnhsE',\n",
       "       'HouseStyle_1.5Unf', 'HouseStyle_1Story', 'HouseStyle_2.5Fin',\n",
       "       'HouseStyle_2.5Unf', 'HouseStyle_2Story', 'HouseStyle_SFoyer',\n",
       "       'HouseStyle_SLvl', 'Foundation_CBlock', 'Foundation_PConc',\n",
       "       'Foundation_Slab', 'Foundation_Stone', 'Foundation_Wood',\n",
       "       'Heating_GasA', 'Heating_GasW', 'Heating_Grav', 'Heating_OthW',\n",
       "       'Heating_Wall'],\n",
       "      dtype='object')"
      ]
     },
     "execution_count": 234,
     "metadata": {},
     "output_type": "execute_result"
    }
   ],
   "source": [
    "df1.columns[-20:]"
   ]
  },
  {
   "cell_type": "code",
   "execution_count": 237,
   "metadata": {},
   "outputs": [],
   "source": [
    "df2=pd.get_dummies(data=df1, columns=dummies_list_NA)"
   ]
  },
  {
   "cell_type": "code",
   "execution_count": 239,
   "metadata": {},
   "outputs": [],
   "source": [
    "df2=df2.drop(columns_to_drop,axis=1)"
   ]
  },
  {
   "cell_type": "markdown",
   "metadata": {},
   "source": [
    "# Dataset is clean"
   ]
  },
  {
   "cell_type": "code",
   "execution_count": 240,
   "metadata": {},
   "outputs": [
    {
     "data": {
      "text/plain": [
       "(1460, 115)"
      ]
     },
     "execution_count": 240,
     "metadata": {},
     "output_type": "execute_result"
    }
   ],
   "source": [
    "# We had 81 column. Now we have 115...\n",
    "df2.shape"
   ]
  },
  {
   "cell_type": "code",
   "execution_count": 241,
   "metadata": {},
   "outputs": [
    {
     "data": {
      "text/plain": [
       "MSZoning               object\n",
       "LotFrontage           float64\n",
       "LotArea                 int64\n",
       "LotShape                int64\n",
       "Utilities               int64\n",
       "                       ...   \n",
       "GarageType_CarPort      uint8\n",
       "GarageType_Detchd       uint8\n",
       "MasVnrType_BrkCmn       uint8\n",
       "MasVnrType_BrkFace      uint8\n",
       "MasVnrType_Stone        uint8\n",
       "Length: 115, dtype: object"
      ]
     },
     "execution_count": 241,
     "metadata": {},
     "output_type": "execute_result"
    }
   ],
   "source": [
    "df2.dtypes"
   ]
  },
  {
   "cell_type": "code",
   "execution_count": 246,
   "metadata": {},
   "outputs": [],
   "source": [
    "df2=df2.drop('MSZoning',axis=1)"
   ]
  },
  {
   "cell_type": "code",
   "execution_count": 252,
   "metadata": {},
   "outputs": [
    {
     "data": {
      "text/plain": [
       "Neighborhood    object\n",
       "BsmtFinType1    object\n",
       "BsmtFinType2    object\n",
       "Functional      object\n",
       "dtype: object"
      ]
     },
     "execution_count": 252,
     "metadata": {},
     "output_type": "execute_result"
    }
   ],
   "source": [
    "#Forgot to convert few columns. BsmtFinTypes - didnt merge on the first run. In this file it is fixed. \n",
    "# Still since I didnt remove them from the DF, I will have them here.\n",
    "df2.dtypes[df2.dtypes=='object']"
   ]
  },
  {
   "cell_type": "code",
   "execution_count": 254,
   "metadata": {
    "scrolled": true
   },
   "outputs": [
    {
     "data": {
      "text/plain": [
       "False"
      ]
     },
     "execution_count": 254,
     "metadata": {},
     "output_type": "execute_result"
    }
   ],
   "source": [
    "'Functional' in dummies_list_NA"
   ]
  },
  {
   "cell_type": "code",
   "execution_count": 257,
   "metadata": {},
   "outputs": [],
   "source": [
    "# It is actually already cleaned. But the type of variable didnt change yet.\n",
    "df2.Functional=df2.Functional.astype(int)"
   ]
  },
  {
   "cell_type": "code",
   "execution_count": 259,
   "metadata": {},
   "outputs": [],
   "source": [
    "# Drop columns, since I have them as dummies\n",
    "df2.drop(['BsmtFinType1','BsmtFinType2'],axis=1,inplace=True)"
   ]
  },
  {
   "cell_type": "code",
   "execution_count": 261,
   "metadata": {},
   "outputs": [],
   "source": [
    "df2=pd.get_dummies(data=df2, columns=['Neighborhood'])"
   ]
  },
  {
   "cell_type": "code",
   "execution_count": 263,
   "metadata": {},
   "outputs": [
    {
     "name": "stdout",
     "output_type": "stream",
     "text": [
      "<class 'pandas.core.frame.DataFrame'>\n",
      "Int64Index: 1460 entries, 0 to 1459\n",
      "Columns: 136 entries, LotFrontage to Neighborhood_Veenker\n",
      "dtypes: float64(16), int64(42), uint8(78)\n",
      "memory usage: 824.2 KB\n"
     ]
    }
   ],
   "source": [
    "# Voila, we have no objects.\n",
    "df2.info()"
   ]
  },
  {
   "cell_type": "markdown",
   "metadata": {},
   "source": [
    "# Modeling now"
   ]
  },
  {
   "cell_type": "code",
   "execution_count": 281,
   "metadata": {},
   "outputs": [],
   "source": [
    "import statsmodels.api as sm\n",
    "from statsmodels.tools.tools import add_constant"
   ]
  },
  {
   "cell_type": "code",
   "execution_count": 265,
   "metadata": {},
   "outputs": [],
   "source": [
    "y=df2.SalePrice\n",
    "X=df2.drop('SalePrice',axis=1)"
   ]
  },
  {
   "cell_type": "code",
   "execution_count": 276,
   "metadata": {},
   "outputs": [],
   "source": [
    "# For MSZoning feature it didnt work to substitute missing with 1s. Doing it here.\n",
    "X=X.fillna(1)\n"
   ]
  },
  {
   "cell_type": "code",
   "execution_count": 282,
   "metadata": {},
   "outputs": [],
   "source": [
    "model=sm.OLS(y,add_constant(X))"
   ]
  },
  {
   "cell_type": "code",
   "execution_count": 283,
   "metadata": {},
   "outputs": [],
   "source": [
    "model_fit=model.fit()"
   ]
  },
  {
   "cell_type": "code",
   "execution_count": 284,
   "metadata": {
    "scrolled": false
   },
   "outputs": [
    {
     "data": {
      "text/html": [
       "<table class=\"simpletable\">\n",
       "<caption>OLS Regression Results</caption>\n",
       "<tr>\n",
       "  <th>Dep. Variable:</th>        <td>SalePrice</td>    <th>  R-squared:         </th> <td>   0.876</td> \n",
       "</tr>\n",
       "<tr>\n",
       "  <th>Model:</th>                   <td>OLS</td>       <th>  Adj. R-squared:    </th> <td>   0.863</td> \n",
       "</tr>\n",
       "<tr>\n",
       "  <th>Method:</th>             <td>Least Squares</td>  <th>  F-statistic:       </th> <td>   70.76</td> \n",
       "</tr>\n",
       "<tr>\n",
       "  <th>Date:</th>             <td>Wed, 29 Apr 2020</td> <th>  Prob (F-statistic):</th>  <td>  0.00</td>  \n",
       "</tr>\n",
       "<tr>\n",
       "  <th>Time:</th>                 <td>17:16:59</td>     <th>  Log-Likelihood:    </th> <td> -17022.</td> \n",
       "</tr>\n",
       "<tr>\n",
       "  <th>No. Observations:</th>      <td>  1460</td>      <th>  AIC:               </th> <td>3.431e+04</td>\n",
       "</tr>\n",
       "<tr>\n",
       "  <th>Df Residuals:</th>          <td>  1327</td>      <th>  BIC:               </th> <td>3.501e+04</td>\n",
       "</tr>\n",
       "<tr>\n",
       "  <th>Df Model:</th>              <td>   132</td>      <th>                     </th>     <td> </td>    \n",
       "</tr>\n",
       "<tr>\n",
       "  <th>Covariance Type:</th>      <td>nonrobust</td>    <th>                     </th>     <td> </td>    \n",
       "</tr>\n",
       "</table>\n",
       "<table class=\"simpletable\">\n",
       "<tr>\n",
       "            <td></td>              <th>coef</th>     <th>std err</th>      <th>t</th>      <th>P>|t|</th>  <th>[0.025</th>    <th>0.975]</th>  \n",
       "</tr>\n",
       "<tr>\n",
       "  <th>const</th>                <td> 1.262e+06</td> <td>  1.2e+06</td> <td>    1.049</td> <td> 0.294</td> <td> -1.1e+06</td> <td> 3.62e+06</td>\n",
       "</tr>\n",
       "<tr>\n",
       "  <th>LotFrontage</th>          <td>  -38.7468</td> <td>   27.506</td> <td>   -1.409</td> <td> 0.159</td> <td>  -92.706</td> <td>   15.213</td>\n",
       "</tr>\n",
       "<tr>\n",
       "  <th>LotArea</th>              <td>    0.3635</td> <td>    0.108</td> <td>    3.374</td> <td> 0.001</td> <td>    0.152</td> <td>    0.575</td>\n",
       "</tr>\n",
       "<tr>\n",
       "  <th>LotShape</th>             <td>-3044.2113</td> <td> 1688.008</td> <td>   -1.803</td> <td> 0.072</td> <td>-6355.668</td> <td>  267.245</td>\n",
       "</tr>\n",
       "<tr>\n",
       "  <th>Utilities</th>            <td>-6.888e+04</td> <td> 3.24e+04</td> <td>   -2.125</td> <td> 0.034</td> <td>-1.32e+05</td> <td>-5280.840</td>\n",
       "</tr>\n",
       "<tr>\n",
       "  <th>LandSlope</th>            <td> 1087.5678</td> <td> 4063.930</td> <td>    0.268</td> <td> 0.789</td> <td>-6884.859</td> <td> 9059.995</td>\n",
       "</tr>\n",
       "<tr>\n",
       "  <th>OverallQual</th>          <td> 9528.4778</td> <td> 1223.331</td> <td>    7.789</td> <td> 0.000</td> <td> 7128.604</td> <td> 1.19e+04</td>\n",
       "</tr>\n",
       "<tr>\n",
       "  <th>OverallCond</th>          <td> 4126.5737</td> <td> 1012.216</td> <td>    4.077</td> <td> 0.000</td> <td> 2140.855</td> <td> 6112.292</td>\n",
       "</tr>\n",
       "<tr>\n",
       "  <th>MasVnrArea</th>           <td>   21.9131</td> <td>    7.030</td> <td>    3.117</td> <td> 0.002</td> <td>    8.122</td> <td>   35.704</td>\n",
       "</tr>\n",
       "<tr>\n",
       "  <th>ExterQual</th>            <td> 5574.4895</td> <td> 2544.638</td> <td>    2.191</td> <td> 0.029</td> <td>  582.537</td> <td> 1.06e+04</td>\n",
       "</tr>\n",
       "<tr>\n",
       "  <th>ExterCond</th>            <td>-2756.7818</td> <td> 2579.887</td> <td>   -1.069</td> <td> 0.285</td> <td>-7817.883</td> <td> 2304.320</td>\n",
       "</tr>\n",
       "<tr>\n",
       "  <th>BsmtQual</th>             <td> 8845.3300</td> <td> 2234.376</td> <td>    3.959</td> <td> 0.000</td> <td> 4462.035</td> <td> 1.32e+04</td>\n",
       "</tr>\n",
       "<tr>\n",
       "  <th>BsmtCond</th>             <td>-1060.6702</td> <td> 3069.083</td> <td>   -0.346</td> <td> 0.730</td> <td>-7081.455</td> <td> 4960.114</td>\n",
       "</tr>\n",
       "<tr>\n",
       "  <th>BsmtExposure</th>         <td> 6321.0542</td> <td> 1033.135</td> <td>    6.118</td> <td> 0.000</td> <td> 4294.298</td> <td> 8347.810</td>\n",
       "</tr>\n",
       "<tr>\n",
       "  <th>BsmtFinSF1</th>           <td>    4.2374</td> <td>    2.519</td> <td>    1.682</td> <td> 0.093</td> <td>   -0.704</td> <td>    9.179</td>\n",
       "</tr>\n",
       "<tr>\n",
       "  <th>BsmtFinSF2</th>           <td>    1.6504</td> <td>    5.324</td> <td>    0.310</td> <td> 0.757</td> <td>   -8.793</td> <td>   12.094</td>\n",
       "</tr>\n",
       "<tr>\n",
       "  <th>BsmtUnfSF</th>            <td>   -0.9463</td> <td>    3.097</td> <td>   -0.306</td> <td> 0.760</td> <td>   -7.022</td> <td>    5.129</td>\n",
       "</tr>\n",
       "<tr>\n",
       "  <th>TotalBsmtSF</th>          <td>    4.9416</td> <td>    4.196</td> <td>    1.178</td> <td> 0.239</td> <td>   -3.290</td> <td>   13.174</td>\n",
       "</tr>\n",
       "<tr>\n",
       "  <th>HeatingQC</th>            <td>  793.2015</td> <td> 1143.524</td> <td>    0.694</td> <td> 0.488</td> <td>-1450.110</td> <td> 3036.513</td>\n",
       "</tr>\n",
       "<tr>\n",
       "  <th>CentralAir</th>           <td> 1198.0204</td> <td> 4626.167</td> <td>    0.259</td> <td> 0.796</td> <td>-7877.378</td> <td> 1.03e+04</td>\n",
       "</tr>\n",
       "<tr>\n",
       "  <th>1stFlrSF</th>             <td>    0.7561</td> <td>    7.324</td> <td>    0.103</td> <td> 0.918</td> <td>  -13.613</td> <td>   15.125</td>\n",
       "</tr>\n",
       "<tr>\n",
       "  <th>2ndFlrSF</th>             <td>   27.4158</td> <td>    6.585</td> <td>    4.163</td> <td> 0.000</td> <td>   14.498</td> <td>   40.334</td>\n",
       "</tr>\n",
       "<tr>\n",
       "  <th>LowQualFinSF</th>         <td>    9.9428</td> <td>   16.392</td> <td>    0.607</td> <td> 0.544</td> <td>  -22.214</td> <td>   42.099</td>\n",
       "</tr>\n",
       "<tr>\n",
       "  <th>GrLivArea</th>            <td>   38.1146</td> <td>    6.669</td> <td>    5.715</td> <td> 0.000</td> <td>   25.031</td> <td>   51.198</td>\n",
       "</tr>\n",
       "<tr>\n",
       "  <th>BsmtFullBath</th>         <td> 4516.6343</td> <td> 2433.034</td> <td>    1.856</td> <td> 0.064</td> <td> -256.378</td> <td> 9289.647</td>\n",
       "</tr>\n",
       "<tr>\n",
       "  <th>BsmtHalfBath</th>         <td> 5028.1954</td> <td> 3664.603</td> <td>    1.372</td> <td> 0.170</td> <td>-2160.851</td> <td> 1.22e+04</td>\n",
       "</tr>\n",
       "<tr>\n",
       "  <th>FullBath</th>             <td> 7147.6634</td> <td> 2657.874</td> <td>    2.689</td> <td> 0.007</td> <td> 1933.571</td> <td> 1.24e+04</td>\n",
       "</tr>\n",
       "<tr>\n",
       "  <th>HalfBath</th>             <td> 6018.8916</td> <td> 2540.578</td> <td>    2.369</td> <td> 0.018</td> <td> 1034.904</td> <td>  1.1e+04</td>\n",
       "</tr>\n",
       "<tr>\n",
       "  <th>BedroomAbvGr</th>         <td>-5467.7606</td> <td> 1650.297</td> <td>   -3.313</td> <td> 0.001</td> <td>-8705.236</td> <td>-2230.285</td>\n",
       "</tr>\n",
       "<tr>\n",
       "  <th>KitchenAbvGr</th>         <td> -1.87e+04</td> <td> 6506.399</td> <td>   -2.875</td> <td> 0.004</td> <td>-3.15e+04</td> <td>-5939.052</td>\n",
       "</tr>\n",
       "<tr>\n",
       "  <th>KitchenQual</th>          <td> 7884.8100</td> <td> 1968.353</td> <td>    4.006</td> <td> 0.000</td> <td> 4023.388</td> <td> 1.17e+04</td>\n",
       "</tr>\n",
       "<tr>\n",
       "  <th>TotRmsAbvGrd</th>         <td> 4377.1150</td> <td> 1158.337</td> <td>    3.779</td> <td> 0.000</td> <td> 2104.744</td> <td> 6649.486</td>\n",
       "</tr>\n",
       "<tr>\n",
       "  <th>Functional</th>           <td>-4489.1878</td> <td> 1350.626</td> <td>   -3.324</td> <td> 0.001</td> <td>-7138.783</td> <td>-1839.593</td>\n",
       "</tr>\n",
       "<tr>\n",
       "  <th>Fireplaces</th>           <td> 4761.8203</td> <td> 2719.992</td> <td>    1.751</td> <td> 0.080</td> <td> -574.133</td> <td> 1.01e+04</td>\n",
       "</tr>\n",
       "<tr>\n",
       "  <th>FireplaceQu</th>          <td> -712.7304</td> <td>  983.696</td> <td>   -0.725</td> <td> 0.469</td> <td>-2642.500</td> <td> 1217.039</td>\n",
       "</tr>\n",
       "<tr>\n",
       "  <th>GarageFinish</th>         <td> 2556.0133</td> <td> 1481.112</td> <td>    1.726</td> <td> 0.085</td> <td> -349.563</td> <td> 5461.590</td>\n",
       "</tr>\n",
       "<tr>\n",
       "  <th>GarageCars</th>           <td> 1.326e+04</td> <td> 2746.130</td> <td>    4.828</td> <td> 0.000</td> <td> 7870.056</td> <td> 1.86e+04</td>\n",
       "</tr>\n",
       "<tr>\n",
       "  <th>GarageArea</th>           <td>   -9.9275</td> <td>    9.232</td> <td>   -1.075</td> <td> 0.282</td> <td>  -28.039</td> <td>    8.184</td>\n",
       "</tr>\n",
       "<tr>\n",
       "  <th>GarageQual</th>           <td> 1.083e+04</td> <td> 4468.866</td> <td>    2.424</td> <td> 0.015</td> <td> 2067.591</td> <td> 1.96e+04</td>\n",
       "</tr>\n",
       "<tr>\n",
       "  <th>GarageCond</th>           <td>-4356.8754</td> <td> 4687.734</td> <td>   -0.929</td> <td> 0.353</td> <td>-1.36e+04</td> <td> 4839.302</td>\n",
       "</tr>\n",
       "<tr>\n",
       "  <th>WoodDeckSF</th>           <td>   14.6383</td> <td>    7.172</td> <td>    2.041</td> <td> 0.041</td> <td>    0.569</td> <td>   28.708</td>\n",
       "</tr>\n",
       "<tr>\n",
       "  <th>OpenPorchSF</th>          <td>   -1.6048</td> <td>   13.859</td> <td>   -0.116</td> <td> 0.908</td> <td>  -28.793</td> <td>   25.584</td>\n",
       "</tr>\n",
       "<tr>\n",
       "  <th>EnclosedPorch</th>        <td>    6.0988</td> <td>   15.095</td> <td>    0.404</td> <td> 0.686</td> <td>  -23.514</td> <td>   35.712</td>\n",
       "</tr>\n",
       "<tr>\n",
       "  <th>3SsnPorch</th>            <td>   44.9945</td> <td>   27.616</td> <td>    1.629</td> <td> 0.103</td> <td>   -9.182</td> <td>   99.171</td>\n",
       "</tr>\n",
       "<tr>\n",
       "  <th>ScreenPorch</th>          <td>   58.2481</td> <td>   15.252</td> <td>    3.819</td> <td> 0.000</td> <td>   28.328</td> <td>   88.168</td>\n",
       "</tr>\n",
       "<tr>\n",
       "  <th>PoolArea</th>             <td>   59.8748</td> <td>   65.805</td> <td>    0.910</td> <td> 0.363</td> <td>  -69.218</td> <td>  188.968</td>\n",
       "</tr>\n",
       "<tr>\n",
       "  <th>PoolQC</th>               <td>-8758.6011</td> <td> 9736.918</td> <td>   -0.900</td> <td> 0.369</td> <td>-2.79e+04</td> <td> 1.03e+04</td>\n",
       "</tr>\n",
       "<tr>\n",
       "  <th>MiscVal</th>              <td>    7.2560</td> <td>    4.692</td> <td>    1.546</td> <td> 0.122</td> <td>   -1.948</td> <td>   16.461</td>\n",
       "</tr>\n",
       "<tr>\n",
       "  <th>MoSold</th>               <td> -418.8319</td> <td>  302.258</td> <td>   -1.386</td> <td> 0.166</td> <td>-1011.788</td> <td>  174.124</td>\n",
       "</tr>\n",
       "<tr>\n",
       "  <th>YrSold</th>               <td> -700.1670</td> <td>  623.174</td> <td>   -1.124</td> <td> 0.261</td> <td>-1922.681</td> <td>  522.347</td>\n",
       "</tr>\n",
       "<tr>\n",
       "  <th>MSZoningFV</th>           <td>-5595.4793</td> <td> 7101.951</td> <td>   -0.788</td> <td> 0.431</td> <td>-1.95e+04</td> <td> 8336.796</td>\n",
       "</tr>\n",
       "<tr>\n",
       "  <th>MSZoningRH</th>           <td>-5979.2742</td> <td> 7172.200</td> <td>   -0.834</td> <td> 0.405</td> <td>   -2e+04</td> <td> 8090.813</td>\n",
       "</tr>\n",
       "<tr>\n",
       "  <th>MSZoningRL</th>           <td>-1.104e+04</td> <td> 5387.411</td> <td>   -2.050</td> <td> 0.041</td> <td>-2.16e+04</td> <td> -473.192</td>\n",
       "</tr>\n",
       "<tr>\n",
       "  <th>MSZoningRM</th>           <td> -1.18e+04</td> <td> 6871.318</td> <td>   -1.717</td> <td> 0.086</td> <td>-2.53e+04</td> <td> 1678.418</td>\n",
       "</tr>\n",
       "<tr>\n",
       "  <th>BsmtFinTypeALQ</th>       <td> 6208.6140</td> <td> 4219.466</td> <td>    1.471</td> <td> 0.141</td> <td>-2068.938</td> <td> 1.45e+04</td>\n",
       "</tr>\n",
       "<tr>\n",
       "  <th>BsmtFinTypeBLQ</th>       <td> 5228.0204</td> <td> 4330.880</td> <td>    1.207</td> <td> 0.228</td> <td>-3268.097</td> <td> 1.37e+04</td>\n",
       "</tr>\n",
       "<tr>\n",
       "  <th>BsmtFinTypeGLQ</th>       <td> 9794.4620</td> <td> 4314.236</td> <td>    2.270</td> <td> 0.023</td> <td> 1330.995</td> <td> 1.83e+04</td>\n",
       "</tr>\n",
       "<tr>\n",
       "  <th>BsmtFinTypeLwQ</th>       <td> -149.1524</td> <td> 4713.731</td> <td>   -0.032</td> <td> 0.975</td> <td>-9396.329</td> <td> 9098.024</td>\n",
       "</tr>\n",
       "<tr>\n",
       "  <th>BsmtFinTypeRec</th>       <td> 4203.9908</td> <td> 4438.901</td> <td>    0.947</td> <td> 0.344</td> <td>-4504.038</td> <td> 1.29e+04</td>\n",
       "</tr>\n",
       "<tr>\n",
       "  <th>BsmtFinTypeUnf</th>       <td> 2386.6701</td> <td> 4504.282</td> <td>    0.530</td> <td> 0.596</td> <td>-6449.619</td> <td> 1.12e+04</td>\n",
       "</tr>\n",
       "<tr>\n",
       "  <th>Age</th>                  <td>  -79.9686</td> <td>   85.340</td> <td>   -0.937</td> <td> 0.349</td> <td> -247.385</td> <td>   87.448</td>\n",
       "</tr>\n",
       "<tr>\n",
       "  <th>RemodAdd</th>             <td> 1671.8143</td> <td> 2004.140</td> <td>    0.834</td> <td> 0.404</td> <td>-2259.814</td> <td> 5603.442</td>\n",
       "</tr>\n",
       "<tr>\n",
       "  <th>Electrical_FuseF</th>     <td> -934.8971</td> <td> 6943.102</td> <td>   -0.135</td> <td> 0.893</td> <td>-1.46e+04</td> <td> 1.27e+04</td>\n",
       "</tr>\n",
       "<tr>\n",
       "  <th>Electrical_FuseP</th>     <td> 1.449e+04</td> <td>  1.9e+04</td> <td>    0.763</td> <td> 0.446</td> <td>-2.28e+04</td> <td> 5.18e+04</td>\n",
       "</tr>\n",
       "<tr>\n",
       "  <th>Electrical_Mix</th>       <td> 1.238e+04</td> <td> 3.27e+04</td> <td>    0.379</td> <td> 0.705</td> <td>-5.17e+04</td> <td> 7.65e+04</td>\n",
       "</tr>\n",
       "<tr>\n",
       "  <th>Electrical_SBrkr</th>     <td>-2455.5903</td> <td> 3600.991</td> <td>   -0.682</td> <td> 0.495</td> <td>-9519.846</td> <td> 4608.665</td>\n",
       "</tr>\n",
       "<tr>\n",
       "  <th>LandContour_HLS</th>      <td> 2.196e+04</td> <td> 6250.568</td> <td>    3.513</td> <td> 0.000</td> <td> 9694.912</td> <td> 3.42e+04</td>\n",
       "</tr>\n",
       "<tr>\n",
       "  <th>LandContour_Low</th>      <td> 9494.0701</td> <td> 7525.858</td> <td>    1.262</td> <td> 0.207</td> <td>-5269.807</td> <td> 2.43e+04</td>\n",
       "</tr>\n",
       "<tr>\n",
       "  <th>LandContour_Lvl</th>      <td> 1.403e+04</td> <td> 4423.569</td> <td>    3.171</td> <td> 0.002</td> <td> 5348.242</td> <td> 2.27e+04</td>\n",
       "</tr>\n",
       "<tr>\n",
       "  <th>LotConfig_CulDSac</th>    <td> 1.022e+04</td> <td> 3995.483</td> <td>    2.558</td> <td> 0.011</td> <td> 2382.129</td> <td> 1.81e+04</td>\n",
       "</tr>\n",
       "<tr>\n",
       "  <th>LotConfig_FR2</th>        <td>-8893.9931</td> <td> 4958.534</td> <td>   -1.794</td> <td> 0.073</td> <td>-1.86e+04</td> <td>  833.427</td>\n",
       "</tr>\n",
       "<tr>\n",
       "  <th>LotConfig_FR3</th>        <td>-2.284e+04</td> <td> 1.53e+04</td> <td>   -1.488</td> <td> 0.137</td> <td>-5.29e+04</td> <td> 7263.780</td>\n",
       "</tr>\n",
       "<tr>\n",
       "  <th>LotConfig_Inside</th>     <td>   56.9457</td> <td> 2156.137</td> <td>    0.026</td> <td> 0.979</td> <td>-4172.863</td> <td> 4286.755</td>\n",
       "</tr>\n",
       "<tr>\n",
       "  <th>BldgType_2fmCon</th>      <td> -911.4767</td> <td> 6927.953</td> <td>   -0.132</td> <td> 0.895</td> <td>-1.45e+04</td> <td> 1.27e+04</td>\n",
       "</tr>\n",
       "<tr>\n",
       "  <th>BldgType_Duplex</th>      <td>-6006.8327</td> <td> 7406.236</td> <td>   -0.811</td> <td> 0.417</td> <td>-2.05e+04</td> <td> 8522.374</td>\n",
       "</tr>\n",
       "<tr>\n",
       "  <th>BldgType_Twnhs</th>       <td> -4.03e+04</td> <td> 6675.578</td> <td>   -6.038</td> <td> 0.000</td> <td>-5.34e+04</td> <td>-2.72e+04</td>\n",
       "</tr>\n",
       "<tr>\n",
       "  <th>BldgType_TwnhsE</th>      <td>-3.244e+04</td> <td> 4545.028</td> <td>   -7.137</td> <td> 0.000</td> <td>-4.14e+04</td> <td>-2.35e+04</td>\n",
       "</tr>\n",
       "<tr>\n",
       "  <th>HouseStyle_1.5Unf</th>    <td> 1.428e+04</td> <td> 9234.085</td> <td>    1.546</td> <td> 0.122</td> <td>-3835.574</td> <td> 3.24e+04</td>\n",
       "</tr>\n",
       "<tr>\n",
       "  <th>HouseStyle_1Story</th>    <td> 2.489e+04</td> <td> 4528.862</td> <td>    5.497</td> <td> 0.000</td> <td>  1.6e+04</td> <td> 3.38e+04</td>\n",
       "</tr>\n",
       "<tr>\n",
       "  <th>HouseStyle_2.5Fin</th>    <td>-2.253e+04</td> <td> 1.47e+04</td> <td>   -1.534</td> <td> 0.125</td> <td>-5.13e+04</td> <td> 6280.693</td>\n",
       "</tr>\n",
       "<tr>\n",
       "  <th>HouseStyle_2.5Unf</th>    <td>-1.046e+04</td> <td> 1.04e+04</td> <td>   -1.006</td> <td> 0.315</td> <td>-3.09e+04</td> <td> 9948.714</td>\n",
       "</tr>\n",
       "<tr>\n",
       "  <th>HouseStyle_2Story</th>    <td>-1.169e+04</td> <td> 3893.805</td> <td>   -3.002</td> <td> 0.003</td> <td>-1.93e+04</td> <td>-4048.696</td>\n",
       "</tr>\n",
       "<tr>\n",
       "  <th>HouseStyle_SFoyer</th>    <td> 4848.8758</td> <td> 7164.522</td> <td>    0.677</td> <td> 0.499</td> <td>-9206.150</td> <td> 1.89e+04</td>\n",
       "</tr>\n",
       "<tr>\n",
       "  <th>HouseStyle_SLvl</th>      <td> 8100.9372</td> <td> 5889.735</td> <td>    1.375</td> <td> 0.169</td> <td>-3453.269</td> <td> 1.97e+04</td>\n",
       "</tr>\n",
       "<tr>\n",
       "  <th>Foundation_CBlock</th>    <td> 6401.5608</td> <td> 3834.755</td> <td>    1.669</td> <td> 0.095</td> <td>-1121.283</td> <td> 1.39e+04</td>\n",
       "</tr>\n",
       "<tr>\n",
       "  <th>Foundation_PConc</th>     <td> 4867.0827</td> <td> 4208.258</td> <td>    1.157</td> <td> 0.248</td> <td>-3388.482</td> <td> 1.31e+04</td>\n",
       "</tr>\n",
       "<tr>\n",
       "  <th>Foundation_Slab</th>      <td> 7707.9435</td> <td> 1.19e+04</td> <td>    0.650</td> <td> 0.516</td> <td>-1.55e+04</td> <td>  3.1e+04</td>\n",
       "</tr>\n",
       "<tr>\n",
       "  <th>Foundation_Stone</th>     <td> 2340.5639</td> <td> 1.34e+04</td> <td>    0.175</td> <td> 0.861</td> <td>-2.39e+04</td> <td> 2.85e+04</td>\n",
       "</tr>\n",
       "<tr>\n",
       "  <th>Foundation_Wood</th>      <td>-1.494e+04</td> <td> 1.87e+04</td> <td>   -0.798</td> <td> 0.425</td> <td>-5.17e+04</td> <td> 2.18e+04</td>\n",
       "</tr>\n",
       "<tr>\n",
       "  <th>Heating_GasA</th>         <td> 1.336e+04</td> <td>  3.2e+04</td> <td>    0.417</td> <td> 0.676</td> <td>-4.94e+04</td> <td> 7.61e+04</td>\n",
       "</tr>\n",
       "<tr>\n",
       "  <th>Heating_GasW</th>         <td> 1.584e+04</td> <td> 3.28e+04</td> <td>    0.482</td> <td> 0.630</td> <td>-4.86e+04</td> <td> 8.02e+04</td>\n",
       "</tr>\n",
       "<tr>\n",
       "  <th>Heating_Grav</th>         <td> 1.481e+04</td> <td> 3.41e+04</td> <td>    0.434</td> <td> 0.664</td> <td>-5.21e+04</td> <td> 8.17e+04</td>\n",
       "</tr>\n",
       "<tr>\n",
       "  <th>Heating_OthW</th>         <td>-3.166e+04</td> <td>  3.9e+04</td> <td>   -0.812</td> <td> 0.417</td> <td>-1.08e+05</td> <td> 4.48e+04</td>\n",
       "</tr>\n",
       "<tr>\n",
       "  <th>Heating_Wall</th>         <td> 1.642e+04</td> <td> 3.65e+04</td> <td>    0.450</td> <td> 0.653</td> <td>-5.51e+04</td> <td>  8.8e+04</td>\n",
       "</tr>\n",
       "<tr>\n",
       "  <th>MiscFeature_Gar2</th>     <td>-1.064e+05</td> <td> 6.07e+04</td> <td>   -1.753</td> <td> 0.080</td> <td>-2.26e+05</td> <td> 1.27e+04</td>\n",
       "</tr>\n",
       "<tr>\n",
       "  <th>MiscFeature_Othr</th>     <td>-6669.7669</td> <td> 2.34e+04</td> <td>   -0.285</td> <td> 0.775</td> <td>-5.25e+04</td> <td> 3.92e+04</td>\n",
       "</tr>\n",
       "<tr>\n",
       "  <th>MiscFeature_Shed</th>     <td>-5770.4962</td> <td> 5597.812</td> <td>   -1.031</td> <td> 0.303</td> <td>-1.68e+04</td> <td> 5211.029</td>\n",
       "</tr>\n",
       "<tr>\n",
       "  <th>MiscFeature_TenC</th>     <td> -7.48e+04</td> <td> 3.66e+04</td> <td>   -2.043</td> <td> 0.041</td> <td>-1.47e+05</td> <td>-2972.662</td>\n",
       "</tr>\n",
       "<tr>\n",
       "  <th>Fence_GdPrv</th>          <td>-3013.0573</td> <td> 4421.720</td> <td>   -0.681</td> <td> 0.496</td> <td>-1.17e+04</td> <td> 5661.267</td>\n",
       "</tr>\n",
       "<tr>\n",
       "  <th>Fence_GdWo</th>           <td>  384.6876</td> <td> 4386.362</td> <td>    0.088</td> <td> 0.930</td> <td>-8220.273</td> <td> 8989.648</td>\n",
       "</tr>\n",
       "<tr>\n",
       "  <th>Fence_MnPrv</th>          <td> 2280.3082</td> <td> 2774.202</td> <td>    0.822</td> <td> 0.411</td> <td>-3161.992</td> <td> 7722.609</td>\n",
       "</tr>\n",
       "<tr>\n",
       "  <th>Fence_MnWw</th>           <td>-3164.0473</td> <td> 9369.836</td> <td>   -0.338</td> <td> 0.736</td> <td>-2.15e+04</td> <td> 1.52e+04</td>\n",
       "</tr>\n",
       "<tr>\n",
       "  <th>GarageType_2Types</th>    <td> -5.58e+04</td> <td> 1.87e+04</td> <td>   -2.985</td> <td> 0.003</td> <td>-9.25e+04</td> <td>-1.91e+04</td>\n",
       "</tr>\n",
       "<tr>\n",
       "  <th>GarageType_Attchd</th>    <td>-3.507e+04</td> <td> 1.36e+04</td> <td>   -2.588</td> <td> 0.010</td> <td>-6.17e+04</td> <td>-8488.938</td>\n",
       "</tr>\n",
       "<tr>\n",
       "  <th>GarageType_Basment</th>   <td>-2.356e+04</td> <td> 1.52e+04</td> <td>   -1.547</td> <td> 0.122</td> <td>-5.34e+04</td> <td> 6309.876</td>\n",
       "</tr>\n",
       "<tr>\n",
       "  <th>GarageType_BuiltIn</th>   <td>-3.789e+04</td> <td> 1.42e+04</td> <td>   -2.665</td> <td> 0.008</td> <td>-6.58e+04</td> <td>-9995.931</td>\n",
       "</tr>\n",
       "<tr>\n",
       "  <th>GarageType_CarPort</th>   <td>-3.625e+04</td> <td> 1.64e+04</td> <td>   -2.213</td> <td> 0.027</td> <td>-6.84e+04</td> <td>-4108.645</td>\n",
       "</tr>\n",
       "<tr>\n",
       "  <th>GarageType_Detchd</th>    <td>-3.181e+04</td> <td> 1.33e+04</td> <td>   -2.392</td> <td> 0.017</td> <td>-5.79e+04</td> <td>-5727.063</td>\n",
       "</tr>\n",
       "<tr>\n",
       "  <th>MasVnrType_BrkCmn</th>    <td>-1.448e+04</td> <td> 8465.047</td> <td>   -1.711</td> <td> 0.087</td> <td>-3.11e+04</td> <td> 2121.874</td>\n",
       "</tr>\n",
       "<tr>\n",
       "  <th>MasVnrType_BrkFace</th>   <td>-6937.7817</td> <td> 2712.068</td> <td>   -2.558</td> <td> 0.011</td> <td>-1.23e+04</td> <td>-1617.374</td>\n",
       "</tr>\n",
       "<tr>\n",
       "  <th>MasVnrType_Stone</th>     <td> -395.3608</td> <td> 3837.121</td> <td>   -0.103</td> <td> 0.918</td> <td>-7922.845</td> <td> 7132.123</td>\n",
       "</tr>\n",
       "<tr>\n",
       "  <th>Neighborhood_Blmngtn</th> <td> 4.311e+04</td> <td> 4.89e+04</td> <td>    0.881</td> <td> 0.379</td> <td>-5.29e+04</td> <td> 1.39e+05</td>\n",
       "</tr>\n",
       "<tr>\n",
       "  <th>Neighborhood_Blueste</th> <td> 5.333e+04</td> <td> 5.29e+04</td> <td>    1.008</td> <td> 0.314</td> <td>-5.05e+04</td> <td> 1.57e+05</td>\n",
       "</tr>\n",
       "<tr>\n",
       "  <th>Neighborhood_BrDale</th>  <td> 6.712e+04</td> <td> 4.91e+04</td> <td>    1.368</td> <td> 0.171</td> <td>-2.91e+04</td> <td> 1.63e+05</td>\n",
       "</tr>\n",
       "<tr>\n",
       "  <th>Neighborhood_BrkSide</th> <td> 4.842e+04</td> <td> 4.83e+04</td> <td>    1.003</td> <td> 0.316</td> <td>-4.63e+04</td> <td> 1.43e+05</td>\n",
       "</tr>\n",
       "<tr>\n",
       "  <th>Neighborhood_ClearCr</th> <td> 3.961e+04</td> <td> 4.86e+04</td> <td>    0.815</td> <td> 0.415</td> <td>-5.57e+04</td> <td> 1.35e+05</td>\n",
       "</tr>\n",
       "<tr>\n",
       "  <th>Neighborhood_CollgCr</th> <td> 3.947e+04</td> <td> 4.83e+04</td> <td>    0.818</td> <td> 0.414</td> <td>-5.52e+04</td> <td> 1.34e+05</td>\n",
       "</tr>\n",
       "<tr>\n",
       "  <th>Neighborhood_Crawfor</th> <td> 6.281e+04</td> <td> 4.81e+04</td> <td>    1.305</td> <td> 0.192</td> <td>-3.16e+04</td> <td> 1.57e+05</td>\n",
       "</tr>\n",
       "<tr>\n",
       "  <th>Neighborhood_Edwards</th> <td> 2.879e+04</td> <td> 4.83e+04</td> <td>    0.596</td> <td> 0.551</td> <td>-6.59e+04</td> <td> 1.24e+05</td>\n",
       "</tr>\n",
       "<tr>\n",
       "  <th>Neighborhood_Gilbert</th> <td> 3.522e+04</td> <td> 4.83e+04</td> <td>    0.729</td> <td> 0.466</td> <td>-5.95e+04</td> <td>  1.3e+05</td>\n",
       "</tr>\n",
       "<tr>\n",
       "  <th>Neighborhood_IDOTRR</th>  <td> 3.638e+04</td> <td> 4.84e+04</td> <td>    0.751</td> <td> 0.453</td> <td>-5.86e+04</td> <td> 1.31e+05</td>\n",
       "</tr>\n",
       "<tr>\n",
       "  <th>Neighborhood_MeadowV</th> <td> 5.781e+04</td> <td> 4.91e+04</td> <td>    1.177</td> <td> 0.239</td> <td>-3.85e+04</td> <td> 1.54e+05</td>\n",
       "</tr>\n",
       "<tr>\n",
       "  <th>Neighborhood_Mitchel</th> <td> 3.728e+04</td> <td> 4.83e+04</td> <td>    0.771</td> <td> 0.441</td> <td>-5.76e+04</td> <td> 1.32e+05</td>\n",
       "</tr>\n",
       "<tr>\n",
       "  <th>Neighborhood_NAmes</th>   <td> 3.879e+04</td> <td> 4.82e+04</td> <td>    0.805</td> <td> 0.421</td> <td>-5.58e+04</td> <td> 1.33e+05</td>\n",
       "</tr>\n",
       "<tr>\n",
       "  <th>Neighborhood_NPkVill</th> <td> 5.891e+04</td> <td> 5.01e+04</td> <td>    1.176</td> <td> 0.240</td> <td>-3.94e+04</td> <td> 1.57e+05</td>\n",
       "</tr>\n",
       "<tr>\n",
       "  <th>Neighborhood_NWAmes</th>  <td> 3.123e+04</td> <td> 4.83e+04</td> <td>    0.646</td> <td> 0.518</td> <td>-6.35e+04</td> <td> 1.26e+05</td>\n",
       "</tr>\n",
       "<tr>\n",
       "  <th>Neighborhood_NoRidge</th> <td>  8.58e+04</td> <td> 4.86e+04</td> <td>    1.767</td> <td> 0.077</td> <td>-9468.379</td> <td> 1.81e+05</td>\n",
       "</tr>\n",
       "<tr>\n",
       "  <th>Neighborhood_NridgHt</th> <td> 9.196e+04</td> <td> 4.84e+04</td> <td>    1.899</td> <td> 0.058</td> <td>-3046.267</td> <td> 1.87e+05</td>\n",
       "</tr>\n",
       "<tr>\n",
       "  <th>Neighborhood_OldTown</th> <td> 3.563e+04</td> <td> 4.84e+04</td> <td>    0.737</td> <td> 0.461</td> <td>-5.92e+04</td> <td>  1.3e+05</td>\n",
       "</tr>\n",
       "<tr>\n",
       "  <th>Neighborhood_SWISU</th>   <td> 3.893e+04</td> <td>  4.9e+04</td> <td>    0.795</td> <td> 0.427</td> <td>-5.72e+04</td> <td> 1.35e+05</td>\n",
       "</tr>\n",
       "<tr>\n",
       "  <th>Neighborhood_Sawyer</th>  <td> 3.999e+04</td> <td> 4.82e+04</td> <td>    0.829</td> <td> 0.407</td> <td>-5.46e+04</td> <td> 1.35e+05</td>\n",
       "</tr>\n",
       "<tr>\n",
       "  <th>Neighborhood_SawyerW</th> <td> 3.807e+04</td> <td> 4.86e+04</td> <td>    0.784</td> <td> 0.433</td> <td>-5.72e+04</td> <td> 1.33e+05</td>\n",
       "</tr>\n",
       "<tr>\n",
       "  <th>Neighborhood_Somerst</th> <td> 5.755e+04</td> <td> 4.83e+04</td> <td>    1.190</td> <td> 0.234</td> <td>-3.73e+04</td> <td> 1.52e+05</td>\n",
       "</tr>\n",
       "<tr>\n",
       "  <th>Neighborhood_StoneBr</th> <td> 9.587e+04</td> <td> 4.87e+04</td> <td>    1.967</td> <td> 0.049</td> <td>  258.707</td> <td> 1.91e+05</td>\n",
       "</tr>\n",
       "<tr>\n",
       "  <th>Neighborhood_Timber</th>  <td> 4.197e+04</td> <td> 4.85e+04</td> <td>    0.865</td> <td> 0.387</td> <td>-5.32e+04</td> <td> 1.37e+05</td>\n",
       "</tr>\n",
       "<tr>\n",
       "  <th>Neighborhood_Veenker</th> <td> 5.826e+04</td> <td> 4.85e+04</td> <td>    1.202</td> <td> 0.230</td> <td>-3.68e+04</td> <td> 1.53e+05</td>\n",
       "</tr>\n",
       "</table>\n",
       "<table class=\"simpletable\">\n",
       "<tr>\n",
       "  <th>Omnibus:</th>       <td>506.715</td> <th>  Durbin-Watson:     </th> <td>   1.882</td> \n",
       "</tr>\n",
       "<tr>\n",
       "  <th>Prob(Omnibus):</th> <td> 0.000</td>  <th>  Jarque-Bera (JB):  </th> <td>65946.783</td>\n",
       "</tr>\n",
       "<tr>\n",
       "  <th>Skew:</th>          <td>-0.520</td>  <th>  Prob(JB):          </th> <td>    0.00</td> \n",
       "</tr>\n",
       "<tr>\n",
       "  <th>Kurtosis:</th>      <td>35.909</td>  <th>  Cond. No.          </th> <td>1.34e+16</td> \n",
       "</tr>\n",
       "</table><br/><br/>Warnings:<br/>[1] Standard Errors assume that the covariance matrix of the errors is correctly specified.<br/>[2] The smallest eigenvalue is 1.75e-21. This might indicate that there are<br/>strong multicollinearity problems or that the design matrix is singular."
      ],
      "text/plain": [
       "<class 'statsmodels.iolib.summary.Summary'>\n",
       "\"\"\"\n",
       "                            OLS Regression Results                            \n",
       "==============================================================================\n",
       "Dep. Variable:              SalePrice   R-squared:                       0.876\n",
       "Model:                            OLS   Adj. R-squared:                  0.863\n",
       "Method:                 Least Squares   F-statistic:                     70.76\n",
       "Date:                Wed, 29 Apr 2020   Prob (F-statistic):               0.00\n",
       "Time:                        17:16:59   Log-Likelihood:                -17022.\n",
       "No. Observations:                1460   AIC:                         3.431e+04\n",
       "Df Residuals:                    1327   BIC:                         3.501e+04\n",
       "Df Model:                         132                                         \n",
       "Covariance Type:            nonrobust                                         \n",
       "========================================================================================\n",
       "                           coef    std err          t      P>|t|      [0.025      0.975]\n",
       "----------------------------------------------------------------------------------------\n",
       "const                 1.262e+06    1.2e+06      1.049      0.294    -1.1e+06    3.62e+06\n",
       "LotFrontage            -38.7468     27.506     -1.409      0.159     -92.706      15.213\n",
       "LotArea                  0.3635      0.108      3.374      0.001       0.152       0.575\n",
       "LotShape             -3044.2113   1688.008     -1.803      0.072   -6355.668     267.245\n",
       "Utilities            -6.888e+04   3.24e+04     -2.125      0.034   -1.32e+05   -5280.840\n",
       "LandSlope             1087.5678   4063.930      0.268      0.789   -6884.859    9059.995\n",
       "OverallQual           9528.4778   1223.331      7.789      0.000    7128.604    1.19e+04\n",
       "OverallCond           4126.5737   1012.216      4.077      0.000    2140.855    6112.292\n",
       "MasVnrArea              21.9131      7.030      3.117      0.002       8.122      35.704\n",
       "ExterQual             5574.4895   2544.638      2.191      0.029     582.537    1.06e+04\n",
       "ExterCond            -2756.7818   2579.887     -1.069      0.285   -7817.883    2304.320\n",
       "BsmtQual              8845.3300   2234.376      3.959      0.000    4462.035    1.32e+04\n",
       "BsmtCond             -1060.6702   3069.083     -0.346      0.730   -7081.455    4960.114\n",
       "BsmtExposure          6321.0542   1033.135      6.118      0.000    4294.298    8347.810\n",
       "BsmtFinSF1               4.2374      2.519      1.682      0.093      -0.704       9.179\n",
       "BsmtFinSF2               1.6504      5.324      0.310      0.757      -8.793      12.094\n",
       "BsmtUnfSF               -0.9463      3.097     -0.306      0.760      -7.022       5.129\n",
       "TotalBsmtSF              4.9416      4.196      1.178      0.239      -3.290      13.174\n",
       "HeatingQC              793.2015   1143.524      0.694      0.488   -1450.110    3036.513\n",
       "CentralAir            1198.0204   4626.167      0.259      0.796   -7877.378    1.03e+04\n",
       "1stFlrSF                 0.7561      7.324      0.103      0.918     -13.613      15.125\n",
       "2ndFlrSF                27.4158      6.585      4.163      0.000      14.498      40.334\n",
       "LowQualFinSF             9.9428     16.392      0.607      0.544     -22.214      42.099\n",
       "GrLivArea               38.1146      6.669      5.715      0.000      25.031      51.198\n",
       "BsmtFullBath          4516.6343   2433.034      1.856      0.064    -256.378    9289.647\n",
       "BsmtHalfBath          5028.1954   3664.603      1.372      0.170   -2160.851    1.22e+04\n",
       "FullBath              7147.6634   2657.874      2.689      0.007    1933.571    1.24e+04\n",
       "HalfBath              6018.8916   2540.578      2.369      0.018    1034.904     1.1e+04\n",
       "BedroomAbvGr         -5467.7606   1650.297     -3.313      0.001   -8705.236   -2230.285\n",
       "KitchenAbvGr          -1.87e+04   6506.399     -2.875      0.004   -3.15e+04   -5939.052\n",
       "KitchenQual           7884.8100   1968.353      4.006      0.000    4023.388    1.17e+04\n",
       "TotRmsAbvGrd          4377.1150   1158.337      3.779      0.000    2104.744    6649.486\n",
       "Functional           -4489.1878   1350.626     -3.324      0.001   -7138.783   -1839.593\n",
       "Fireplaces            4761.8203   2719.992      1.751      0.080    -574.133    1.01e+04\n",
       "FireplaceQu           -712.7304    983.696     -0.725      0.469   -2642.500    1217.039\n",
       "GarageFinish          2556.0133   1481.112      1.726      0.085    -349.563    5461.590\n",
       "GarageCars            1.326e+04   2746.130      4.828      0.000    7870.056    1.86e+04\n",
       "GarageArea              -9.9275      9.232     -1.075      0.282     -28.039       8.184\n",
       "GarageQual            1.083e+04   4468.866      2.424      0.015    2067.591    1.96e+04\n",
       "GarageCond           -4356.8754   4687.734     -0.929      0.353   -1.36e+04    4839.302\n",
       "WoodDeckSF              14.6383      7.172      2.041      0.041       0.569      28.708\n",
       "OpenPorchSF             -1.6048     13.859     -0.116      0.908     -28.793      25.584\n",
       "EnclosedPorch            6.0988     15.095      0.404      0.686     -23.514      35.712\n",
       "3SsnPorch               44.9945     27.616      1.629      0.103      -9.182      99.171\n",
       "ScreenPorch             58.2481     15.252      3.819      0.000      28.328      88.168\n",
       "PoolArea                59.8748     65.805      0.910      0.363     -69.218     188.968\n",
       "PoolQC               -8758.6011   9736.918     -0.900      0.369   -2.79e+04    1.03e+04\n",
       "MiscVal                  7.2560      4.692      1.546      0.122      -1.948      16.461\n",
       "MoSold                -418.8319    302.258     -1.386      0.166   -1011.788     174.124\n",
       "YrSold                -700.1670    623.174     -1.124      0.261   -1922.681     522.347\n",
       "MSZoningFV           -5595.4793   7101.951     -0.788      0.431   -1.95e+04    8336.796\n",
       "MSZoningRH           -5979.2742   7172.200     -0.834      0.405      -2e+04    8090.813\n",
       "MSZoningRL           -1.104e+04   5387.411     -2.050      0.041   -2.16e+04    -473.192\n",
       "MSZoningRM            -1.18e+04   6871.318     -1.717      0.086   -2.53e+04    1678.418\n",
       "BsmtFinTypeALQ        6208.6140   4219.466      1.471      0.141   -2068.938    1.45e+04\n",
       "BsmtFinTypeBLQ        5228.0204   4330.880      1.207      0.228   -3268.097    1.37e+04\n",
       "BsmtFinTypeGLQ        9794.4620   4314.236      2.270      0.023    1330.995    1.83e+04\n",
       "BsmtFinTypeLwQ        -149.1524   4713.731     -0.032      0.975   -9396.329    9098.024\n",
       "BsmtFinTypeRec        4203.9908   4438.901      0.947      0.344   -4504.038    1.29e+04\n",
       "BsmtFinTypeUnf        2386.6701   4504.282      0.530      0.596   -6449.619    1.12e+04\n",
       "Age                    -79.9686     85.340     -0.937      0.349    -247.385      87.448\n",
       "RemodAdd              1671.8143   2004.140      0.834      0.404   -2259.814    5603.442\n",
       "Electrical_FuseF      -934.8971   6943.102     -0.135      0.893   -1.46e+04    1.27e+04\n",
       "Electrical_FuseP      1.449e+04    1.9e+04      0.763      0.446   -2.28e+04    5.18e+04\n",
       "Electrical_Mix        1.238e+04   3.27e+04      0.379      0.705   -5.17e+04    7.65e+04\n",
       "Electrical_SBrkr     -2455.5903   3600.991     -0.682      0.495   -9519.846    4608.665\n",
       "LandContour_HLS       2.196e+04   6250.568      3.513      0.000    9694.912    3.42e+04\n",
       "LandContour_Low       9494.0701   7525.858      1.262      0.207   -5269.807    2.43e+04\n",
       "LandContour_Lvl       1.403e+04   4423.569      3.171      0.002    5348.242    2.27e+04\n",
       "LotConfig_CulDSac     1.022e+04   3995.483      2.558      0.011    2382.129    1.81e+04\n",
       "LotConfig_FR2        -8893.9931   4958.534     -1.794      0.073   -1.86e+04     833.427\n",
       "LotConfig_FR3        -2.284e+04   1.53e+04     -1.488      0.137   -5.29e+04    7263.780\n",
       "LotConfig_Inside        56.9457   2156.137      0.026      0.979   -4172.863    4286.755\n",
       "BldgType_2fmCon       -911.4767   6927.953     -0.132      0.895   -1.45e+04    1.27e+04\n",
       "BldgType_Duplex      -6006.8327   7406.236     -0.811      0.417   -2.05e+04    8522.374\n",
       "BldgType_Twnhs        -4.03e+04   6675.578     -6.038      0.000   -5.34e+04   -2.72e+04\n",
       "BldgType_TwnhsE      -3.244e+04   4545.028     -7.137      0.000   -4.14e+04   -2.35e+04\n",
       "HouseStyle_1.5Unf     1.428e+04   9234.085      1.546      0.122   -3835.574    3.24e+04\n",
       "HouseStyle_1Story     2.489e+04   4528.862      5.497      0.000     1.6e+04    3.38e+04\n",
       "HouseStyle_2.5Fin    -2.253e+04   1.47e+04     -1.534      0.125   -5.13e+04    6280.693\n",
       "HouseStyle_2.5Unf    -1.046e+04   1.04e+04     -1.006      0.315   -3.09e+04    9948.714\n",
       "HouseStyle_2Story    -1.169e+04   3893.805     -3.002      0.003   -1.93e+04   -4048.696\n",
       "HouseStyle_SFoyer     4848.8758   7164.522      0.677      0.499   -9206.150    1.89e+04\n",
       "HouseStyle_SLvl       8100.9372   5889.735      1.375      0.169   -3453.269    1.97e+04\n",
       "Foundation_CBlock     6401.5608   3834.755      1.669      0.095   -1121.283    1.39e+04\n",
       "Foundation_PConc      4867.0827   4208.258      1.157      0.248   -3388.482    1.31e+04\n",
       "Foundation_Slab       7707.9435   1.19e+04      0.650      0.516   -1.55e+04     3.1e+04\n",
       "Foundation_Stone      2340.5639   1.34e+04      0.175      0.861   -2.39e+04    2.85e+04\n",
       "Foundation_Wood      -1.494e+04   1.87e+04     -0.798      0.425   -5.17e+04    2.18e+04\n",
       "Heating_GasA          1.336e+04    3.2e+04      0.417      0.676   -4.94e+04    7.61e+04\n",
       "Heating_GasW          1.584e+04   3.28e+04      0.482      0.630   -4.86e+04    8.02e+04\n",
       "Heating_Grav          1.481e+04   3.41e+04      0.434      0.664   -5.21e+04    8.17e+04\n",
       "Heating_OthW         -3.166e+04    3.9e+04     -0.812      0.417   -1.08e+05    4.48e+04\n",
       "Heating_Wall          1.642e+04   3.65e+04      0.450      0.653   -5.51e+04     8.8e+04\n",
       "MiscFeature_Gar2     -1.064e+05   6.07e+04     -1.753      0.080   -2.26e+05    1.27e+04\n",
       "MiscFeature_Othr     -6669.7669   2.34e+04     -0.285      0.775   -5.25e+04    3.92e+04\n",
       "MiscFeature_Shed     -5770.4962   5597.812     -1.031      0.303   -1.68e+04    5211.029\n",
       "MiscFeature_TenC      -7.48e+04   3.66e+04     -2.043      0.041   -1.47e+05   -2972.662\n",
       "Fence_GdPrv          -3013.0573   4421.720     -0.681      0.496   -1.17e+04    5661.267\n",
       "Fence_GdWo             384.6876   4386.362      0.088      0.930   -8220.273    8989.648\n",
       "Fence_MnPrv           2280.3082   2774.202      0.822      0.411   -3161.992    7722.609\n",
       "Fence_MnWw           -3164.0473   9369.836     -0.338      0.736   -2.15e+04    1.52e+04\n",
       "GarageType_2Types     -5.58e+04   1.87e+04     -2.985      0.003   -9.25e+04   -1.91e+04\n",
       "GarageType_Attchd    -3.507e+04   1.36e+04     -2.588      0.010   -6.17e+04   -8488.938\n",
       "GarageType_Basment   -2.356e+04   1.52e+04     -1.547      0.122   -5.34e+04    6309.876\n",
       "GarageType_BuiltIn   -3.789e+04   1.42e+04     -2.665      0.008   -6.58e+04   -9995.931\n",
       "GarageType_CarPort   -3.625e+04   1.64e+04     -2.213      0.027   -6.84e+04   -4108.645\n",
       "GarageType_Detchd    -3.181e+04   1.33e+04     -2.392      0.017   -5.79e+04   -5727.063\n",
       "MasVnrType_BrkCmn    -1.448e+04   8465.047     -1.711      0.087   -3.11e+04    2121.874\n",
       "MasVnrType_BrkFace   -6937.7817   2712.068     -2.558      0.011   -1.23e+04   -1617.374\n",
       "MasVnrType_Stone      -395.3608   3837.121     -0.103      0.918   -7922.845    7132.123\n",
       "Neighborhood_Blmngtn  4.311e+04   4.89e+04      0.881      0.379   -5.29e+04    1.39e+05\n",
       "Neighborhood_Blueste  5.333e+04   5.29e+04      1.008      0.314   -5.05e+04    1.57e+05\n",
       "Neighborhood_BrDale   6.712e+04   4.91e+04      1.368      0.171   -2.91e+04    1.63e+05\n",
       "Neighborhood_BrkSide  4.842e+04   4.83e+04      1.003      0.316   -4.63e+04    1.43e+05\n",
       "Neighborhood_ClearCr  3.961e+04   4.86e+04      0.815      0.415   -5.57e+04    1.35e+05\n",
       "Neighborhood_CollgCr  3.947e+04   4.83e+04      0.818      0.414   -5.52e+04    1.34e+05\n",
       "Neighborhood_Crawfor  6.281e+04   4.81e+04      1.305      0.192   -3.16e+04    1.57e+05\n",
       "Neighborhood_Edwards  2.879e+04   4.83e+04      0.596      0.551   -6.59e+04    1.24e+05\n",
       "Neighborhood_Gilbert  3.522e+04   4.83e+04      0.729      0.466   -5.95e+04     1.3e+05\n",
       "Neighborhood_IDOTRR   3.638e+04   4.84e+04      0.751      0.453   -5.86e+04    1.31e+05\n",
       "Neighborhood_MeadowV  5.781e+04   4.91e+04      1.177      0.239   -3.85e+04    1.54e+05\n",
       "Neighborhood_Mitchel  3.728e+04   4.83e+04      0.771      0.441   -5.76e+04    1.32e+05\n",
       "Neighborhood_NAmes    3.879e+04   4.82e+04      0.805      0.421   -5.58e+04    1.33e+05\n",
       "Neighborhood_NPkVill  5.891e+04   5.01e+04      1.176      0.240   -3.94e+04    1.57e+05\n",
       "Neighborhood_NWAmes   3.123e+04   4.83e+04      0.646      0.518   -6.35e+04    1.26e+05\n",
       "Neighborhood_NoRidge   8.58e+04   4.86e+04      1.767      0.077   -9468.379    1.81e+05\n",
       "Neighborhood_NridgHt  9.196e+04   4.84e+04      1.899      0.058   -3046.267    1.87e+05\n",
       "Neighborhood_OldTown  3.563e+04   4.84e+04      0.737      0.461   -5.92e+04     1.3e+05\n",
       "Neighborhood_SWISU    3.893e+04    4.9e+04      0.795      0.427   -5.72e+04    1.35e+05\n",
       "Neighborhood_Sawyer   3.999e+04   4.82e+04      0.829      0.407   -5.46e+04    1.35e+05\n",
       "Neighborhood_SawyerW  3.807e+04   4.86e+04      0.784      0.433   -5.72e+04    1.33e+05\n",
       "Neighborhood_Somerst  5.755e+04   4.83e+04      1.190      0.234   -3.73e+04    1.52e+05\n",
       "Neighborhood_StoneBr  9.587e+04   4.87e+04      1.967      0.049     258.707    1.91e+05\n",
       "Neighborhood_Timber   4.197e+04   4.85e+04      0.865      0.387   -5.32e+04    1.37e+05\n",
       "Neighborhood_Veenker  5.826e+04   4.85e+04      1.202      0.230   -3.68e+04    1.53e+05\n",
       "==============================================================================\n",
       "Omnibus:                      506.715   Durbin-Watson:                   1.882\n",
       "Prob(Omnibus):                  0.000   Jarque-Bera (JB):            65946.783\n",
       "Skew:                          -0.520   Prob(JB):                         0.00\n",
       "Kurtosis:                      35.909   Cond. No.                     1.34e+16\n",
       "==============================================================================\n",
       "\n",
       "Warnings:\n",
       "[1] Standard Errors assume that the covariance matrix of the errors is correctly specified.\n",
       "[2] The smallest eigenvalue is 1.75e-21. This might indicate that there are\n",
       "strong multicollinearity problems or that the design matrix is singular.\n",
       "\"\"\""
      ]
     },
     "execution_count": 284,
     "metadata": {},
     "output_type": "execute_result"
    }
   ],
   "source": [
    "model_fit.summary()"
   ]
  },
  {
   "cell_type": "markdown",
   "metadata": {},
   "source": [
    "First iteration is done. We have super complicated model with 132 features. It has high predictive power (R2), but it is meaningless, since most of the features are not significant. Compare it with taking the information about every single passanger of the bus when calculating its speed. Too much noise.\n",
    "\n",
    "We can see that pvalues for most of the coefficients are too high. Drop columns one by one where p value is too high. Dropping all together can make some actually important features dissapear (because they are influencing each other).\n",
    "\n",
    "At the same time we need to keep in mind that some parameters are actually should impace the price, such as having a swimming pool or fireplace or 21 bedrooms. So, we keep them as long as possible."
   ]
  },
  {
   "cell_type": "code",
   "execution_count": 395,
   "metadata": {},
   "outputs": [],
   "source": [
    "def func(column,X):\n",
    "    #drop the column\n",
    "    if column:\n",
    "        X=X.drop(column, axis=1)\n",
    "    # build the model\n",
    "    model=sm.OLS(y,add_constant(X))\n",
    "    #fit it\n",
    "    model_fit=model.fit()\n",
    "    #display the model\n",
    "    display(model_fit.summary())\n",
    "    #return X without the column\n",
    "    return X"
   ]
  },
  {
   "cell_type": "markdown",
   "metadata": {},
   "source": [
    "# P-Hacking"
   ]
  },
  {
   "cell_type": "markdown",
   "metadata": {},
   "source": [
    "**P-value is probability of being wrong by rejecting Null Hypothesis**. Never forget about it, please"
   ]
  },
  {
   "cell_type": "markdown",
   "metadata": {},
   "source": [
    "For the case of F statistics, The Null Hypothesis is:\n",
    "\n",
    "H0: ß0=ß1=ß2...=ßn=0\n",
    "\n",
    "H1: at least 1 of ß is not equal to 0"
   ]
  },
  {
   "cell_type": "code",
   "execution_count": 396,
   "metadata": {},
   "outputs": [
    {
     "data": {
      "text/html": [
       "<table class=\"simpletable\">\n",
       "<caption>OLS Regression Results</caption>\n",
       "<tr>\n",
       "  <th>Dep. Variable:</th>        <td>SalePrice</td>    <th>  R-squared:         </th> <td>   0.867</td> \n",
       "</tr>\n",
       "<tr>\n",
       "  <th>Model:</th>                   <td>OLS</td>       <th>  Adj. R-squared:    </th> <td>   0.862</td> \n",
       "</tr>\n",
       "<tr>\n",
       "  <th>Method:</th>             <td>Least Squares</td>  <th>  F-statistic:       </th> <td>   191.4</td> \n",
       "</tr>\n",
       "<tr>\n",
       "  <th>Date:</th>             <td>Wed, 29 Apr 2020</td> <th>  Prob (F-statistic):</th>  <td>  0.00</td>  \n",
       "</tr>\n",
       "<tr>\n",
       "  <th>Time:</th>                 <td>18:43:24</td>     <th>  Log-Likelihood:    </th> <td> -17072.</td> \n",
       "</tr>\n",
       "<tr>\n",
       "  <th>No. Observations:</th>      <td>  1460</td>      <th>  AIC:               </th> <td>3.424e+04</td>\n",
       "</tr>\n",
       "<tr>\n",
       "  <th>Df Residuals:</th>          <td>  1411</td>      <th>  BIC:               </th> <td>3.450e+04</td>\n",
       "</tr>\n",
       "<tr>\n",
       "  <th>Df Model:</th>              <td>    48</td>      <th>                     </th>     <td> </td>    \n",
       "</tr>\n",
       "<tr>\n",
       "  <th>Covariance Type:</th>      <td>nonrobust</td>    <th>                     </th>     <td> </td>    \n",
       "</tr>\n",
       "</table>\n",
       "<table class=\"simpletable\">\n",
       "<tr>\n",
       "            <td></td>              <th>coef</th>     <th>std err</th>      <th>t</th>      <th>P>|t|</th>  <th>[0.025</th>    <th>0.975]</th>  \n",
       "</tr>\n",
       "<tr>\n",
       "  <th>const</th>                <td>-8.437e+04</td> <td> 1.16e+04</td> <td>   -7.259</td> <td> 0.000</td> <td>-1.07e+05</td> <td>-6.16e+04</td>\n",
       "</tr>\n",
       "<tr>\n",
       "  <th>LotArea</th>              <td>    0.3404</td> <td>    0.094</td> <td>    3.621</td> <td> 0.000</td> <td>    0.156</td> <td>    0.525</td>\n",
       "</tr>\n",
       "<tr>\n",
       "  <th>OverallQual</th>          <td> 9850.1692</td> <td> 1118.933</td> <td>    8.803</td> <td> 0.000</td> <td> 7655.217</td> <td>  1.2e+04</td>\n",
       "</tr>\n",
       "<tr>\n",
       "  <th>OverallCond</th>          <td> 3973.6742</td> <td>  804.869</td> <td>    4.937</td> <td> 0.000</td> <td> 2394.806</td> <td> 5552.543</td>\n",
       "</tr>\n",
       "<tr>\n",
       "  <th>MasVnrArea</th>           <td>   26.7252</td> <td>    6.108</td> <td>    4.375</td> <td> 0.000</td> <td>   14.743</td> <td>   38.707</td>\n",
       "</tr>\n",
       "<tr>\n",
       "  <th>ExterQual</th>            <td> 6353.0740</td> <td> 2383.558</td> <td>    2.665</td> <td> 0.008</td> <td> 1677.375</td> <td>  1.1e+04</td>\n",
       "</tr>\n",
       "<tr>\n",
       "  <th>BsmtQual</th>             <td> 8072.9156</td> <td> 1414.867</td> <td>    5.706</td> <td> 0.000</td> <td> 5297.446</td> <td> 1.08e+04</td>\n",
       "</tr>\n",
       "<tr>\n",
       "  <th>BsmtExposure</th>         <td> 7183.3541</td> <td>  921.692</td> <td>    7.794</td> <td> 0.000</td> <td> 5375.320</td> <td> 8991.388</td>\n",
       "</tr>\n",
       "<tr>\n",
       "  <th>2ndFlrSF</th>             <td>   14.1006</td> <td>    5.610</td> <td>    2.513</td> <td> 0.012</td> <td>    3.096</td> <td>   25.106</td>\n",
       "</tr>\n",
       "<tr>\n",
       "  <th>GrLivArea</th>            <td>   44.2771</td> <td>    4.185</td> <td>   10.580</td> <td> 0.000</td> <td>   36.068</td> <td>   52.486</td>\n",
       "</tr>\n",
       "<tr>\n",
       "  <th>BsmtFullBath</th>         <td> 6238.5254</td> <td> 1887.890</td> <td>    3.304</td> <td> 0.001</td> <td> 2535.152</td> <td> 9941.899</td>\n",
       "</tr>\n",
       "<tr>\n",
       "  <th>FullBath</th>             <td> 8044.7842</td> <td> 2387.309</td> <td>    3.370</td> <td> 0.001</td> <td> 3361.728</td> <td> 1.27e+04</td>\n",
       "</tr>\n",
       "<tr>\n",
       "  <th>HalfBath</th>             <td> 6647.8086</td> <td> 2309.479</td> <td>    2.878</td> <td> 0.004</td> <td> 2117.426</td> <td> 1.12e+04</td>\n",
       "</tr>\n",
       "<tr>\n",
       "  <th>BedroomAbvGr</th>         <td>-5642.7353</td> <td> 1514.773</td> <td>   -3.725</td> <td> 0.000</td> <td>-8614.185</td> <td>-2671.286</td>\n",
       "</tr>\n",
       "<tr>\n",
       "  <th>KitchenAbvGr</th>         <td>-2.003e+04</td> <td> 4270.692</td> <td>   -4.690</td> <td> 0.000</td> <td>-2.84e+04</td> <td>-1.17e+04</td>\n",
       "</tr>\n",
       "<tr>\n",
       "  <th>KitchenQual</th>          <td> 8339.3855</td> <td> 1862.722</td> <td>    4.477</td> <td> 0.000</td> <td> 4685.383</td> <td>  1.2e+04</td>\n",
       "</tr>\n",
       "<tr>\n",
       "  <th>TotRmsAbvGrd</th>         <td> 3145.0915</td> <td> 1068.367</td> <td>    2.944</td> <td> 0.003</td> <td> 1049.332</td> <td> 5240.851</td>\n",
       "</tr>\n",
       "<tr>\n",
       "  <th>Functional</th>           <td>-3790.3634</td> <td> 1250.809</td> <td>   -3.030</td> <td> 0.002</td> <td>-6244.008</td> <td>-1336.719</td>\n",
       "</tr>\n",
       "<tr>\n",
       "  <th>Fireplaces</th>           <td> 4028.4370</td> <td> 1520.415</td> <td>    2.650</td> <td> 0.008</td> <td> 1045.920</td> <td> 7010.954</td>\n",
       "</tr>\n",
       "<tr>\n",
       "  <th>GarageCars</th>           <td> 7961.0772</td> <td> 1457.560</td> <td>    5.462</td> <td> 0.000</td> <td> 5101.859</td> <td> 1.08e+04</td>\n",
       "</tr>\n",
       "<tr>\n",
       "  <th>ScreenPorch</th>          <td>   44.3890</td> <td>   14.350</td> <td>    3.093</td> <td> 0.002</td> <td>   16.239</td> <td>   72.539</td>\n",
       "</tr>\n",
       "<tr>\n",
       "  <th>BsmtFinTypeALQ</th>       <td> 6660.5551</td> <td> 2303.907</td> <td>    2.891</td> <td> 0.004</td> <td> 2141.103</td> <td> 1.12e+04</td>\n",
       "</tr>\n",
       "<tr>\n",
       "  <th>BsmtFinTypeGLQ</th>       <td> 1.022e+04</td> <td> 2250.698</td> <td>    4.541</td> <td> 0.000</td> <td> 5804.745</td> <td> 1.46e+04</td>\n",
       "</tr>\n",
       "<tr>\n",
       "  <th>LandContour_HLS</th>      <td>  1.94e+04</td> <td> 5460.240</td> <td>    3.552</td> <td> 0.000</td> <td> 8685.674</td> <td> 3.01e+04</td>\n",
       "</tr>\n",
       "<tr>\n",
       "  <th>LandContour_Lvl</th>      <td>  1.18e+04</td> <td> 3498.109</td> <td>    3.373</td> <td> 0.001</td> <td> 4938.221</td> <td> 1.87e+04</td>\n",
       "</tr>\n",
       "<tr>\n",
       "  <th>LotConfig_CulDSac</th>    <td> 1.098e+04</td> <td> 3293.858</td> <td>    3.334</td> <td> 0.001</td> <td> 4520.940</td> <td> 1.74e+04</td>\n",
       "</tr>\n",
       "<tr>\n",
       "  <th>BldgType_Twnhs</th>       <td>-4.078e+04</td> <td> 5339.841</td> <td>   -7.636</td> <td> 0.000</td> <td>-5.13e+04</td> <td>-3.03e+04</td>\n",
       "</tr>\n",
       "<tr>\n",
       "  <th>BldgType_TwnhsE</th>      <td>-3.467e+04</td> <td> 3610.241</td> <td>   -9.603</td> <td> 0.000</td> <td>-4.18e+04</td> <td>-2.76e+04</td>\n",
       "</tr>\n",
       "<tr>\n",
       "  <th>HouseStyle_1Story</th>    <td> 2.071e+04</td> <td> 2918.928</td> <td>    7.095</td> <td> 0.000</td> <td>  1.5e+04</td> <td> 2.64e+04</td>\n",
       "</tr>\n",
       "<tr>\n",
       "  <th>HouseStyle_2Story</th>    <td>-8307.5188</td> <td> 3312.623</td> <td>   -2.508</td> <td> 0.012</td> <td>-1.48e+04</td> <td>-1809.323</td>\n",
       "</tr>\n",
       "<tr>\n",
       "  <th>Heating_OthW</th>         <td>-5.303e+04</td> <td> 2.13e+04</td> <td>   -2.494</td> <td> 0.013</td> <td>-9.47e+04</td> <td>-1.13e+04</td>\n",
       "</tr>\n",
       "<tr>\n",
       "  <th>MasVnrType_BrkFace</th>   <td>-6281.3046</td> <td> 2203.169</td> <td>   -2.851</td> <td> 0.004</td> <td>-1.06e+04</td> <td>-1959.465</td>\n",
       "</tr>\n",
       "<tr>\n",
       "  <th>Neighborhood_BrkSide</th> <td>-1.631e+04</td> <td> 5113.861</td> <td>   -3.189</td> <td> 0.001</td> <td>-2.63e+04</td> <td>-6277.747</td>\n",
       "</tr>\n",
       "<tr>\n",
       "  <th>Neighborhood_ClearCr</th> <td>-1.466e+04</td> <td> 6643.863</td> <td>   -2.206</td> <td> 0.028</td> <td>-2.77e+04</td> <td>-1624.286</td>\n",
       "</tr>\n",
       "<tr>\n",
       "  <th>Neighborhood_CollgCr</th> <td>-2.033e+04</td> <td> 3589.287</td> <td>   -5.663</td> <td> 0.000</td> <td>-2.74e+04</td> <td>-1.33e+04</td>\n",
       "</tr>\n",
       "<tr>\n",
       "  <th>Neighborhood_Edwards</th> <td>-2.928e+04</td> <td> 4217.764</td> <td>   -6.942</td> <td> 0.000</td> <td>-3.76e+04</td> <td> -2.1e+04</td>\n",
       "</tr>\n",
       "<tr>\n",
       "  <th>Neighborhood_Gilbert</th> <td>-2.369e+04</td> <td> 4339.792</td> <td>   -5.458</td> <td> 0.000</td> <td>-3.22e+04</td> <td>-1.52e+04</td>\n",
       "</tr>\n",
       "<tr>\n",
       "  <th>Neighborhood_IDOTRR</th>  <td>-3.052e+04</td> <td> 5925.727</td> <td>   -5.150</td> <td> 0.000</td> <td>-4.21e+04</td> <td>-1.89e+04</td>\n",
       "</tr>\n",
       "<tr>\n",
       "  <th>Neighborhood_Mitchel</th> <td>-2.228e+04</td> <td> 5115.833</td> <td>   -4.356</td> <td> 0.000</td> <td>-3.23e+04</td> <td>-1.22e+04</td>\n",
       "</tr>\n",
       "<tr>\n",
       "  <th>Neighborhood_NAmes</th>   <td>-2.163e+04</td> <td> 3618.042</td> <td>   -5.977</td> <td> 0.000</td> <td>-2.87e+04</td> <td>-1.45e+04</td>\n",
       "</tr>\n",
       "<tr>\n",
       "  <th>Neighborhood_NWAmes</th>  <td>-2.762e+04</td> <td> 4536.557</td> <td>   -6.089</td> <td> 0.000</td> <td>-3.65e+04</td> <td>-1.87e+04</td>\n",
       "</tr>\n",
       "<tr>\n",
       "  <th>Neighborhood_NoRidge</th> <td> 2.779e+04</td> <td> 5766.117</td> <td>    4.819</td> <td> 0.000</td> <td> 1.65e+04</td> <td> 3.91e+04</td>\n",
       "</tr>\n",
       "<tr>\n",
       "  <th>Neighborhood_NridgHt</th> <td> 3.259e+04</td> <td> 4462.002</td> <td>    7.303</td> <td> 0.000</td> <td> 2.38e+04</td> <td> 4.13e+04</td>\n",
       "</tr>\n",
       "<tr>\n",
       "  <th>Neighborhood_OldTown</th> <td>-3.177e+04</td> <td> 4315.226</td> <td>   -7.362</td> <td> 0.000</td> <td>-4.02e+04</td> <td>-2.33e+04</td>\n",
       "</tr>\n",
       "<tr>\n",
       "  <th>Neighborhood_SWISU</th>   <td>-2.632e+04</td> <td> 6931.594</td> <td>   -3.797</td> <td> 0.000</td> <td>-3.99e+04</td> <td>-1.27e+04</td>\n",
       "</tr>\n",
       "<tr>\n",
       "  <th>Neighborhood_Sawyer</th>  <td>-2.097e+04</td> <td> 4621.510</td> <td>   -4.538</td> <td> 0.000</td> <td>   -3e+04</td> <td>-1.19e+04</td>\n",
       "</tr>\n",
       "<tr>\n",
       "  <th>Neighborhood_SawyerW</th> <td>-1.954e+04</td> <td> 4597.901</td> <td>   -4.249</td> <td> 0.000</td> <td>-2.86e+04</td> <td>-1.05e+04</td>\n",
       "</tr>\n",
       "<tr>\n",
       "  <th>Neighborhood_StoneBr</th> <td>  3.91e+04</td> <td> 6591.226</td> <td>    5.932</td> <td> 0.000</td> <td> 2.62e+04</td> <td>  5.2e+04</td>\n",
       "</tr>\n",
       "<tr>\n",
       "  <th>Neighborhood_Timber</th>  <td> -1.75e+04</td> <td> 5679.367</td> <td>   -3.082</td> <td> 0.002</td> <td>-2.86e+04</td> <td>-6362.372</td>\n",
       "</tr>\n",
       "</table>\n",
       "<table class=\"simpletable\">\n",
       "<tr>\n",
       "  <th>Omnibus:</th>       <td>475.500</td> <th>  Durbin-Watson:     </th> <td>   1.901</td> \n",
       "</tr>\n",
       "<tr>\n",
       "  <th>Prob(Omnibus):</th> <td> 0.000</td>  <th>  Jarque-Bera (JB):  </th> <td>58625.510</td>\n",
       "</tr>\n",
       "<tr>\n",
       "  <th>Skew:</th>          <td>-0.400</td>  <th>  Prob(JB):          </th> <td>    0.00</td> \n",
       "</tr>\n",
       "<tr>\n",
       "  <th>Kurtosis:</th>      <td>34.033</td>  <th>  Cond. No.          </th> <td>4.01e+05</td> \n",
       "</tr>\n",
       "</table><br/><br/>Warnings:<br/>[1] Standard Errors assume that the covariance matrix of the errors is correctly specified.<br/>[2] The condition number is large, 4.01e+05. This might indicate that there are<br/>strong multicollinearity or other numerical problems."
      ],
      "text/plain": [
       "<class 'statsmodels.iolib.summary.Summary'>\n",
       "\"\"\"\n",
       "                            OLS Regression Results                            \n",
       "==============================================================================\n",
       "Dep. Variable:              SalePrice   R-squared:                       0.867\n",
       "Model:                            OLS   Adj. R-squared:                  0.862\n",
       "Method:                 Least Squares   F-statistic:                     191.4\n",
       "Date:                Wed, 29 Apr 2020   Prob (F-statistic):               0.00\n",
       "Time:                        18:43:24   Log-Likelihood:                -17072.\n",
       "No. Observations:                1460   AIC:                         3.424e+04\n",
       "Df Residuals:                    1411   BIC:                         3.450e+04\n",
       "Df Model:                          48                                         \n",
       "Covariance Type:            nonrobust                                         \n",
       "========================================================================================\n",
       "                           coef    std err          t      P>|t|      [0.025      0.975]\n",
       "----------------------------------------------------------------------------------------\n",
       "const                -8.437e+04   1.16e+04     -7.259      0.000   -1.07e+05   -6.16e+04\n",
       "LotArea                  0.3404      0.094      3.621      0.000       0.156       0.525\n",
       "OverallQual           9850.1692   1118.933      8.803      0.000    7655.217     1.2e+04\n",
       "OverallCond           3973.6742    804.869      4.937      0.000    2394.806    5552.543\n",
       "MasVnrArea              26.7252      6.108      4.375      0.000      14.743      38.707\n",
       "ExterQual             6353.0740   2383.558      2.665      0.008    1677.375     1.1e+04\n",
       "BsmtQual              8072.9156   1414.867      5.706      0.000    5297.446    1.08e+04\n",
       "BsmtExposure          7183.3541    921.692      7.794      0.000    5375.320    8991.388\n",
       "2ndFlrSF                14.1006      5.610      2.513      0.012       3.096      25.106\n",
       "GrLivArea               44.2771      4.185     10.580      0.000      36.068      52.486\n",
       "BsmtFullBath          6238.5254   1887.890      3.304      0.001    2535.152    9941.899\n",
       "FullBath              8044.7842   2387.309      3.370      0.001    3361.728    1.27e+04\n",
       "HalfBath              6647.8086   2309.479      2.878      0.004    2117.426    1.12e+04\n",
       "BedroomAbvGr         -5642.7353   1514.773     -3.725      0.000   -8614.185   -2671.286\n",
       "KitchenAbvGr         -2.003e+04   4270.692     -4.690      0.000   -2.84e+04   -1.17e+04\n",
       "KitchenQual           8339.3855   1862.722      4.477      0.000    4685.383     1.2e+04\n",
       "TotRmsAbvGrd          3145.0915   1068.367      2.944      0.003    1049.332    5240.851\n",
       "Functional           -3790.3634   1250.809     -3.030      0.002   -6244.008   -1336.719\n",
       "Fireplaces            4028.4370   1520.415      2.650      0.008    1045.920    7010.954\n",
       "GarageCars            7961.0772   1457.560      5.462      0.000    5101.859    1.08e+04\n",
       "ScreenPorch             44.3890     14.350      3.093      0.002      16.239      72.539\n",
       "BsmtFinTypeALQ        6660.5551   2303.907      2.891      0.004    2141.103    1.12e+04\n",
       "BsmtFinTypeGLQ        1.022e+04   2250.698      4.541      0.000    5804.745    1.46e+04\n",
       "LandContour_HLS        1.94e+04   5460.240      3.552      0.000    8685.674    3.01e+04\n",
       "LandContour_Lvl        1.18e+04   3498.109      3.373      0.001    4938.221    1.87e+04\n",
       "LotConfig_CulDSac     1.098e+04   3293.858      3.334      0.001    4520.940    1.74e+04\n",
       "BldgType_Twnhs       -4.078e+04   5339.841     -7.636      0.000   -5.13e+04   -3.03e+04\n",
       "BldgType_TwnhsE      -3.467e+04   3610.241     -9.603      0.000   -4.18e+04   -2.76e+04\n",
       "HouseStyle_1Story     2.071e+04   2918.928      7.095      0.000     1.5e+04    2.64e+04\n",
       "HouseStyle_2Story    -8307.5188   3312.623     -2.508      0.012   -1.48e+04   -1809.323\n",
       "Heating_OthW         -5.303e+04   2.13e+04     -2.494      0.013   -9.47e+04   -1.13e+04\n",
       "MasVnrType_BrkFace   -6281.3046   2203.169     -2.851      0.004   -1.06e+04   -1959.465\n",
       "Neighborhood_BrkSide -1.631e+04   5113.861     -3.189      0.001   -2.63e+04   -6277.747\n",
       "Neighborhood_ClearCr -1.466e+04   6643.863     -2.206      0.028   -2.77e+04   -1624.286\n",
       "Neighborhood_CollgCr -2.033e+04   3589.287     -5.663      0.000   -2.74e+04   -1.33e+04\n",
       "Neighborhood_Edwards -2.928e+04   4217.764     -6.942      0.000   -3.76e+04    -2.1e+04\n",
       "Neighborhood_Gilbert -2.369e+04   4339.792     -5.458      0.000   -3.22e+04   -1.52e+04\n",
       "Neighborhood_IDOTRR  -3.052e+04   5925.727     -5.150      0.000   -4.21e+04   -1.89e+04\n",
       "Neighborhood_Mitchel -2.228e+04   5115.833     -4.356      0.000   -3.23e+04   -1.22e+04\n",
       "Neighborhood_NAmes   -2.163e+04   3618.042     -5.977      0.000   -2.87e+04   -1.45e+04\n",
       "Neighborhood_NWAmes  -2.762e+04   4536.557     -6.089      0.000   -3.65e+04   -1.87e+04\n",
       "Neighborhood_NoRidge  2.779e+04   5766.117      4.819      0.000    1.65e+04    3.91e+04\n",
       "Neighborhood_NridgHt  3.259e+04   4462.002      7.303      0.000    2.38e+04    4.13e+04\n",
       "Neighborhood_OldTown -3.177e+04   4315.226     -7.362      0.000   -4.02e+04   -2.33e+04\n",
       "Neighborhood_SWISU   -2.632e+04   6931.594     -3.797      0.000   -3.99e+04   -1.27e+04\n",
       "Neighborhood_Sawyer  -2.097e+04   4621.510     -4.538      0.000      -3e+04   -1.19e+04\n",
       "Neighborhood_SawyerW -1.954e+04   4597.901     -4.249      0.000   -2.86e+04   -1.05e+04\n",
       "Neighborhood_StoneBr   3.91e+04   6591.226      5.932      0.000    2.62e+04     5.2e+04\n",
       "Neighborhood_Timber   -1.75e+04   5679.367     -3.082      0.002   -2.86e+04   -6362.372\n",
       "==============================================================================\n",
       "Omnibus:                      475.500   Durbin-Watson:                   1.901\n",
       "Prob(Omnibus):                  0.000   Jarque-Bera (JB):            58625.510\n",
       "Skew:                          -0.400   Prob(JB):                         0.00\n",
       "Kurtosis:                      34.033   Cond. No.                     4.01e+05\n",
       "==============================================================================\n",
       "\n",
       "Warnings:\n",
       "[1] Standard Errors assume that the covariance matrix of the errors is correctly specified.\n",
       "[2] The condition number is large, 4.01e+05. This might indicate that there are\n",
       "strong multicollinearity or other numerical problems.\n",
       "\"\"\""
      ]
     },
     "metadata": {},
     "output_type": "display_data"
    }
   ],
   "source": [
    "X=func('',X)"
   ]
  },
  {
   "cell_type": "markdown",
   "metadata": {},
   "source": [
    "We ended up having the model with only significant features. On the first iteration we had 132 features. Now we have only 48. Almost 3 times less. Good job!\n",
    "\n",
    "R2 is still high - 86.7%. AIC and BIC decreased slightly. That means that most likely we still have meaningless features we can get rid of. \n",
    "\n",
    "At the same time, our summary tells us that we need to check the assumptions (warning#2). "
   ]
  },
  {
   "cell_type": "code",
   "execution_count": 397,
   "metadata": {
    "collapsed": true
   },
   "outputs": [
    {
     "data": {
      "text/html": [
       "<table class=\"simpletable\">\n",
       "<caption>OLS Regression Results</caption>\n",
       "<tr>\n",
       "  <th>Dep. Variable:</th>        <td>SalePrice</td>    <th>  R-squared:         </th> <td>   0.867</td> \n",
       "</tr>\n",
       "<tr>\n",
       "  <th>Model:</th>                   <td>OLS</td>       <th>  Adj. R-squared:    </th> <td>   0.862</td> \n",
       "</tr>\n",
       "<tr>\n",
       "  <th>Method:</th>             <td>Least Squares</td>  <th>  F-statistic:       </th> <td>   191.4</td> \n",
       "</tr>\n",
       "<tr>\n",
       "  <th>Date:</th>             <td>Wed, 29 Apr 2020</td> <th>  Prob (F-statistic):</th>  <td>  0.00</td>  \n",
       "</tr>\n",
       "<tr>\n",
       "  <th>Time:</th>                 <td>19:12:40</td>     <th>  Log-Likelihood:    </th> <td> -17072.</td> \n",
       "</tr>\n",
       "<tr>\n",
       "  <th>No. Observations:</th>      <td>  1460</td>      <th>  AIC:               </th> <td>3.424e+04</td>\n",
       "</tr>\n",
       "<tr>\n",
       "  <th>Df Residuals:</th>          <td>  1411</td>      <th>  BIC:               </th> <td>3.450e+04</td>\n",
       "</tr>\n",
       "<tr>\n",
       "  <th>Df Model:</th>              <td>    48</td>      <th>                     </th>     <td> </td>    \n",
       "</tr>\n",
       "<tr>\n",
       "  <th>Covariance Type:</th>      <td>nonrobust</td>    <th>                     </th>     <td> </td>    \n",
       "</tr>\n",
       "</table>\n",
       "<table class=\"simpletable\">\n",
       "<tr>\n",
       "            <td></td>              <th>coef</th>     <th>std err</th>      <th>t</th>      <th>P>|t|</th>  <th>[0.025</th>    <th>0.975]</th>  \n",
       "</tr>\n",
       "<tr>\n",
       "  <th>const</th>                <td>-8.437e+04</td> <td> 1.16e+04</td> <td>   -7.259</td> <td> 0.000</td> <td>-1.07e+05</td> <td>-6.16e+04</td>\n",
       "</tr>\n",
       "<tr>\n",
       "  <th>LotArea</th>              <td>    0.3404</td> <td>    0.094</td> <td>    3.621</td> <td> 0.000</td> <td>    0.156</td> <td>    0.525</td>\n",
       "</tr>\n",
       "<tr>\n",
       "  <th>OverallQual</th>          <td> 9850.1692</td> <td> 1118.933</td> <td>    8.803</td> <td> 0.000</td> <td> 7655.217</td> <td>  1.2e+04</td>\n",
       "</tr>\n",
       "<tr>\n",
       "  <th>OverallCond</th>          <td> 3973.6742</td> <td>  804.869</td> <td>    4.937</td> <td> 0.000</td> <td> 2394.806</td> <td> 5552.543</td>\n",
       "</tr>\n",
       "<tr>\n",
       "  <th>MasVnrArea</th>           <td>   26.7252</td> <td>    6.108</td> <td>    4.375</td> <td> 0.000</td> <td>   14.743</td> <td>   38.707</td>\n",
       "</tr>\n",
       "<tr>\n",
       "  <th>ExterQual</th>            <td> 6353.0740</td> <td> 2383.558</td> <td>    2.665</td> <td> 0.008</td> <td> 1677.375</td> <td>  1.1e+04</td>\n",
       "</tr>\n",
       "<tr>\n",
       "  <th>BsmtQual</th>             <td> 8072.9156</td> <td> 1414.867</td> <td>    5.706</td> <td> 0.000</td> <td> 5297.446</td> <td> 1.08e+04</td>\n",
       "</tr>\n",
       "<tr>\n",
       "  <th>BsmtExposure</th>         <td> 7183.3541</td> <td>  921.692</td> <td>    7.794</td> <td> 0.000</td> <td> 5375.320</td> <td> 8991.388</td>\n",
       "</tr>\n",
       "<tr>\n",
       "  <th>2ndFlrSF</th>             <td>   14.1006</td> <td>    5.610</td> <td>    2.513</td> <td> 0.012</td> <td>    3.096</td> <td>   25.106</td>\n",
       "</tr>\n",
       "<tr>\n",
       "  <th>GrLivArea</th>            <td>   44.2771</td> <td>    4.185</td> <td>   10.580</td> <td> 0.000</td> <td>   36.068</td> <td>   52.486</td>\n",
       "</tr>\n",
       "<tr>\n",
       "  <th>BsmtFullBath</th>         <td> 6238.5254</td> <td> 1887.890</td> <td>    3.304</td> <td> 0.001</td> <td> 2535.152</td> <td> 9941.899</td>\n",
       "</tr>\n",
       "<tr>\n",
       "  <th>FullBath</th>             <td> 8044.7842</td> <td> 2387.309</td> <td>    3.370</td> <td> 0.001</td> <td> 3361.728</td> <td> 1.27e+04</td>\n",
       "</tr>\n",
       "<tr>\n",
       "  <th>HalfBath</th>             <td> 6647.8086</td> <td> 2309.479</td> <td>    2.878</td> <td> 0.004</td> <td> 2117.426</td> <td> 1.12e+04</td>\n",
       "</tr>\n",
       "<tr>\n",
       "  <th>BedroomAbvGr</th>         <td>-5642.7353</td> <td> 1514.773</td> <td>   -3.725</td> <td> 0.000</td> <td>-8614.185</td> <td>-2671.286</td>\n",
       "</tr>\n",
       "<tr>\n",
       "  <th>KitchenAbvGr</th>         <td>-2.003e+04</td> <td> 4270.692</td> <td>   -4.690</td> <td> 0.000</td> <td>-2.84e+04</td> <td>-1.17e+04</td>\n",
       "</tr>\n",
       "<tr>\n",
       "  <th>KitchenQual</th>          <td> 8339.3855</td> <td> 1862.722</td> <td>    4.477</td> <td> 0.000</td> <td> 4685.383</td> <td>  1.2e+04</td>\n",
       "</tr>\n",
       "<tr>\n",
       "  <th>TotRmsAbvGrd</th>         <td> 3145.0915</td> <td> 1068.367</td> <td>    2.944</td> <td> 0.003</td> <td> 1049.332</td> <td> 5240.851</td>\n",
       "</tr>\n",
       "<tr>\n",
       "  <th>Functional</th>           <td>-3790.3634</td> <td> 1250.809</td> <td>   -3.030</td> <td> 0.002</td> <td>-6244.008</td> <td>-1336.719</td>\n",
       "</tr>\n",
       "<tr>\n",
       "  <th>Fireplaces</th>           <td> 4028.4370</td> <td> 1520.415</td> <td>    2.650</td> <td> 0.008</td> <td> 1045.920</td> <td> 7010.954</td>\n",
       "</tr>\n",
       "<tr>\n",
       "  <th>GarageCars</th>           <td> 7961.0772</td> <td> 1457.560</td> <td>    5.462</td> <td> 0.000</td> <td> 5101.859</td> <td> 1.08e+04</td>\n",
       "</tr>\n",
       "<tr>\n",
       "  <th>ScreenPorch</th>          <td>   44.3890</td> <td>   14.350</td> <td>    3.093</td> <td> 0.002</td> <td>   16.239</td> <td>   72.539</td>\n",
       "</tr>\n",
       "<tr>\n",
       "  <th>BsmtFinTypeALQ</th>       <td> 6660.5551</td> <td> 2303.907</td> <td>    2.891</td> <td> 0.004</td> <td> 2141.103</td> <td> 1.12e+04</td>\n",
       "</tr>\n",
       "<tr>\n",
       "  <th>BsmtFinTypeGLQ</th>       <td> 1.022e+04</td> <td> 2250.698</td> <td>    4.541</td> <td> 0.000</td> <td> 5804.745</td> <td> 1.46e+04</td>\n",
       "</tr>\n",
       "<tr>\n",
       "  <th>LandContour_HLS</th>      <td>  1.94e+04</td> <td> 5460.240</td> <td>    3.552</td> <td> 0.000</td> <td> 8685.674</td> <td> 3.01e+04</td>\n",
       "</tr>\n",
       "<tr>\n",
       "  <th>LandContour_Lvl</th>      <td>  1.18e+04</td> <td> 3498.109</td> <td>    3.373</td> <td> 0.001</td> <td> 4938.221</td> <td> 1.87e+04</td>\n",
       "</tr>\n",
       "<tr>\n",
       "  <th>LotConfig_CulDSac</th>    <td> 1.098e+04</td> <td> 3293.858</td> <td>    3.334</td> <td> 0.001</td> <td> 4520.940</td> <td> 1.74e+04</td>\n",
       "</tr>\n",
       "<tr>\n",
       "  <th>BldgType_Twnhs</th>       <td>-4.078e+04</td> <td> 5339.841</td> <td>   -7.636</td> <td> 0.000</td> <td>-5.13e+04</td> <td>-3.03e+04</td>\n",
       "</tr>\n",
       "<tr>\n",
       "  <th>BldgType_TwnhsE</th>      <td>-3.467e+04</td> <td> 3610.241</td> <td>   -9.603</td> <td> 0.000</td> <td>-4.18e+04</td> <td>-2.76e+04</td>\n",
       "</tr>\n",
       "<tr>\n",
       "  <th>HouseStyle_1Story</th>    <td> 2.071e+04</td> <td> 2918.928</td> <td>    7.095</td> <td> 0.000</td> <td>  1.5e+04</td> <td> 2.64e+04</td>\n",
       "</tr>\n",
       "<tr>\n",
       "  <th>HouseStyle_2Story</th>    <td>-8307.5188</td> <td> 3312.623</td> <td>   -2.508</td> <td> 0.012</td> <td>-1.48e+04</td> <td>-1809.323</td>\n",
       "</tr>\n",
       "<tr>\n",
       "  <th>Heating_OthW</th>         <td>-5.303e+04</td> <td> 2.13e+04</td> <td>   -2.494</td> <td> 0.013</td> <td>-9.47e+04</td> <td>-1.13e+04</td>\n",
       "</tr>\n",
       "<tr>\n",
       "  <th>MasVnrType_BrkFace</th>   <td>-6281.3046</td> <td> 2203.169</td> <td>   -2.851</td> <td> 0.004</td> <td>-1.06e+04</td> <td>-1959.465</td>\n",
       "</tr>\n",
       "<tr>\n",
       "  <th>Neighborhood_BrkSide</th> <td>-1.631e+04</td> <td> 5113.861</td> <td>   -3.189</td> <td> 0.001</td> <td>-2.63e+04</td> <td>-6277.747</td>\n",
       "</tr>\n",
       "<tr>\n",
       "  <th>Neighborhood_ClearCr</th> <td>-1.466e+04</td> <td> 6643.863</td> <td>   -2.206</td> <td> 0.028</td> <td>-2.77e+04</td> <td>-1624.286</td>\n",
       "</tr>\n",
       "<tr>\n",
       "  <th>Neighborhood_CollgCr</th> <td>-2.033e+04</td> <td> 3589.287</td> <td>   -5.663</td> <td> 0.000</td> <td>-2.74e+04</td> <td>-1.33e+04</td>\n",
       "</tr>\n",
       "<tr>\n",
       "  <th>Neighborhood_Edwards</th> <td>-2.928e+04</td> <td> 4217.764</td> <td>   -6.942</td> <td> 0.000</td> <td>-3.76e+04</td> <td> -2.1e+04</td>\n",
       "</tr>\n",
       "<tr>\n",
       "  <th>Neighborhood_Gilbert</th> <td>-2.369e+04</td> <td> 4339.792</td> <td>   -5.458</td> <td> 0.000</td> <td>-3.22e+04</td> <td>-1.52e+04</td>\n",
       "</tr>\n",
       "<tr>\n",
       "  <th>Neighborhood_IDOTRR</th>  <td>-3.052e+04</td> <td> 5925.727</td> <td>   -5.150</td> <td> 0.000</td> <td>-4.21e+04</td> <td>-1.89e+04</td>\n",
       "</tr>\n",
       "<tr>\n",
       "  <th>Neighborhood_Mitchel</th> <td>-2.228e+04</td> <td> 5115.833</td> <td>   -4.356</td> <td> 0.000</td> <td>-3.23e+04</td> <td>-1.22e+04</td>\n",
       "</tr>\n",
       "<tr>\n",
       "  <th>Neighborhood_NAmes</th>   <td>-2.163e+04</td> <td> 3618.042</td> <td>   -5.977</td> <td> 0.000</td> <td>-2.87e+04</td> <td>-1.45e+04</td>\n",
       "</tr>\n",
       "<tr>\n",
       "  <th>Neighborhood_NWAmes</th>  <td>-2.762e+04</td> <td> 4536.557</td> <td>   -6.089</td> <td> 0.000</td> <td>-3.65e+04</td> <td>-1.87e+04</td>\n",
       "</tr>\n",
       "<tr>\n",
       "  <th>Neighborhood_NoRidge</th> <td> 2.779e+04</td> <td> 5766.117</td> <td>    4.819</td> <td> 0.000</td> <td> 1.65e+04</td> <td> 3.91e+04</td>\n",
       "</tr>\n",
       "<tr>\n",
       "  <th>Neighborhood_NridgHt</th> <td> 3.259e+04</td> <td> 4462.002</td> <td>    7.303</td> <td> 0.000</td> <td> 2.38e+04</td> <td> 4.13e+04</td>\n",
       "</tr>\n",
       "<tr>\n",
       "  <th>Neighborhood_OldTown</th> <td>-3.177e+04</td> <td> 4315.226</td> <td>   -7.362</td> <td> 0.000</td> <td>-4.02e+04</td> <td>-2.33e+04</td>\n",
       "</tr>\n",
       "<tr>\n",
       "  <th>Neighborhood_SWISU</th>   <td>-2.632e+04</td> <td> 6931.594</td> <td>   -3.797</td> <td> 0.000</td> <td>-3.99e+04</td> <td>-1.27e+04</td>\n",
       "</tr>\n",
       "<tr>\n",
       "  <th>Neighborhood_Sawyer</th>  <td>-2.097e+04</td> <td> 4621.510</td> <td>   -4.538</td> <td> 0.000</td> <td>   -3e+04</td> <td>-1.19e+04</td>\n",
       "</tr>\n",
       "<tr>\n",
       "  <th>Neighborhood_SawyerW</th> <td>-1.954e+04</td> <td> 4597.901</td> <td>   -4.249</td> <td> 0.000</td> <td>-2.86e+04</td> <td>-1.05e+04</td>\n",
       "</tr>\n",
       "<tr>\n",
       "  <th>Neighborhood_StoneBr</th> <td>  3.91e+04</td> <td> 6591.226</td> <td>    5.932</td> <td> 0.000</td> <td> 2.62e+04</td> <td>  5.2e+04</td>\n",
       "</tr>\n",
       "<tr>\n",
       "  <th>Neighborhood_Timber</th>  <td> -1.75e+04</td> <td> 5679.367</td> <td>   -3.082</td> <td> 0.002</td> <td>-2.86e+04</td> <td>-6362.372</td>\n",
       "</tr>\n",
       "</table>\n",
       "<table class=\"simpletable\">\n",
       "<tr>\n",
       "  <th>Omnibus:</th>       <td>475.500</td> <th>  Durbin-Watson:     </th> <td>   1.901</td> \n",
       "</tr>\n",
       "<tr>\n",
       "  <th>Prob(Omnibus):</th> <td> 0.000</td>  <th>  Jarque-Bera (JB):  </th> <td>58625.510</td>\n",
       "</tr>\n",
       "<tr>\n",
       "  <th>Skew:</th>          <td>-0.400</td>  <th>  Prob(JB):          </th> <td>    0.00</td> \n",
       "</tr>\n",
       "<tr>\n",
       "  <th>Kurtosis:</th>      <td>34.033</td>  <th>  Cond. No.          </th> <td>4.01e+05</td> \n",
       "</tr>\n",
       "</table><br/><br/>Warnings:<br/>[1] Standard Errors assume that the covariance matrix of the errors is correctly specified.<br/>[2] The condition number is large, 4.01e+05. This might indicate that there are<br/>strong multicollinearity or other numerical problems."
      ],
      "text/plain": [
       "<class 'statsmodels.iolib.summary.Summary'>\n",
       "\"\"\"\n",
       "                            OLS Regression Results                            \n",
       "==============================================================================\n",
       "Dep. Variable:              SalePrice   R-squared:                       0.867\n",
       "Model:                            OLS   Adj. R-squared:                  0.862\n",
       "Method:                 Least Squares   F-statistic:                     191.4\n",
       "Date:                Wed, 29 Apr 2020   Prob (F-statistic):               0.00\n",
       "Time:                        19:12:40   Log-Likelihood:                -17072.\n",
       "No. Observations:                1460   AIC:                         3.424e+04\n",
       "Df Residuals:                    1411   BIC:                         3.450e+04\n",
       "Df Model:                          48                                         \n",
       "Covariance Type:            nonrobust                                         \n",
       "========================================================================================\n",
       "                           coef    std err          t      P>|t|      [0.025      0.975]\n",
       "----------------------------------------------------------------------------------------\n",
       "const                -8.437e+04   1.16e+04     -7.259      0.000   -1.07e+05   -6.16e+04\n",
       "LotArea                  0.3404      0.094      3.621      0.000       0.156       0.525\n",
       "OverallQual           9850.1692   1118.933      8.803      0.000    7655.217     1.2e+04\n",
       "OverallCond           3973.6742    804.869      4.937      0.000    2394.806    5552.543\n",
       "MasVnrArea              26.7252      6.108      4.375      0.000      14.743      38.707\n",
       "ExterQual             6353.0740   2383.558      2.665      0.008    1677.375     1.1e+04\n",
       "BsmtQual              8072.9156   1414.867      5.706      0.000    5297.446    1.08e+04\n",
       "BsmtExposure          7183.3541    921.692      7.794      0.000    5375.320    8991.388\n",
       "2ndFlrSF                14.1006      5.610      2.513      0.012       3.096      25.106\n",
       "GrLivArea               44.2771      4.185     10.580      0.000      36.068      52.486\n",
       "BsmtFullBath          6238.5254   1887.890      3.304      0.001    2535.152    9941.899\n",
       "FullBath              8044.7842   2387.309      3.370      0.001    3361.728    1.27e+04\n",
       "HalfBath              6647.8086   2309.479      2.878      0.004    2117.426    1.12e+04\n",
       "BedroomAbvGr         -5642.7353   1514.773     -3.725      0.000   -8614.185   -2671.286\n",
       "KitchenAbvGr         -2.003e+04   4270.692     -4.690      0.000   -2.84e+04   -1.17e+04\n",
       "KitchenQual           8339.3855   1862.722      4.477      0.000    4685.383     1.2e+04\n",
       "TotRmsAbvGrd          3145.0915   1068.367      2.944      0.003    1049.332    5240.851\n",
       "Functional           -3790.3634   1250.809     -3.030      0.002   -6244.008   -1336.719\n",
       "Fireplaces            4028.4370   1520.415      2.650      0.008    1045.920    7010.954\n",
       "GarageCars            7961.0772   1457.560      5.462      0.000    5101.859    1.08e+04\n",
       "ScreenPorch             44.3890     14.350      3.093      0.002      16.239      72.539\n",
       "BsmtFinTypeALQ        6660.5551   2303.907      2.891      0.004    2141.103    1.12e+04\n",
       "BsmtFinTypeGLQ        1.022e+04   2250.698      4.541      0.000    5804.745    1.46e+04\n",
       "LandContour_HLS        1.94e+04   5460.240      3.552      0.000    8685.674    3.01e+04\n",
       "LandContour_Lvl        1.18e+04   3498.109      3.373      0.001    4938.221    1.87e+04\n",
       "LotConfig_CulDSac     1.098e+04   3293.858      3.334      0.001    4520.940    1.74e+04\n",
       "BldgType_Twnhs       -4.078e+04   5339.841     -7.636      0.000   -5.13e+04   -3.03e+04\n",
       "BldgType_TwnhsE      -3.467e+04   3610.241     -9.603      0.000   -4.18e+04   -2.76e+04\n",
       "HouseStyle_1Story     2.071e+04   2918.928      7.095      0.000     1.5e+04    2.64e+04\n",
       "HouseStyle_2Story    -8307.5188   3312.623     -2.508      0.012   -1.48e+04   -1809.323\n",
       "Heating_OthW         -5.303e+04   2.13e+04     -2.494      0.013   -9.47e+04   -1.13e+04\n",
       "MasVnrType_BrkFace   -6281.3046   2203.169     -2.851      0.004   -1.06e+04   -1959.465\n",
       "Neighborhood_BrkSide -1.631e+04   5113.861     -3.189      0.001   -2.63e+04   -6277.747\n",
       "Neighborhood_ClearCr -1.466e+04   6643.863     -2.206      0.028   -2.77e+04   -1624.286\n",
       "Neighborhood_CollgCr -2.033e+04   3589.287     -5.663      0.000   -2.74e+04   -1.33e+04\n",
       "Neighborhood_Edwards -2.928e+04   4217.764     -6.942      0.000   -3.76e+04    -2.1e+04\n",
       "Neighborhood_Gilbert -2.369e+04   4339.792     -5.458      0.000   -3.22e+04   -1.52e+04\n",
       "Neighborhood_IDOTRR  -3.052e+04   5925.727     -5.150      0.000   -4.21e+04   -1.89e+04\n",
       "Neighborhood_Mitchel -2.228e+04   5115.833     -4.356      0.000   -3.23e+04   -1.22e+04\n",
       "Neighborhood_NAmes   -2.163e+04   3618.042     -5.977      0.000   -2.87e+04   -1.45e+04\n",
       "Neighborhood_NWAmes  -2.762e+04   4536.557     -6.089      0.000   -3.65e+04   -1.87e+04\n",
       "Neighborhood_NoRidge  2.779e+04   5766.117      4.819      0.000    1.65e+04    3.91e+04\n",
       "Neighborhood_NridgHt  3.259e+04   4462.002      7.303      0.000    2.38e+04    4.13e+04\n",
       "Neighborhood_OldTown -3.177e+04   4315.226     -7.362      0.000   -4.02e+04   -2.33e+04\n",
       "Neighborhood_SWISU   -2.632e+04   6931.594     -3.797      0.000   -3.99e+04   -1.27e+04\n",
       "Neighborhood_Sawyer  -2.097e+04   4621.510     -4.538      0.000      -3e+04   -1.19e+04\n",
       "Neighborhood_SawyerW -1.954e+04   4597.901     -4.249      0.000   -2.86e+04   -1.05e+04\n",
       "Neighborhood_StoneBr   3.91e+04   6591.226      5.932      0.000    2.62e+04     5.2e+04\n",
       "Neighborhood_Timber   -1.75e+04   5679.367     -3.082      0.002   -2.86e+04   -6362.372\n",
       "==============================================================================\n",
       "Omnibus:                      475.500   Durbin-Watson:                   1.901\n",
       "Prob(Omnibus):                  0.000   Jarque-Bera (JB):            58625.510\n",
       "Skew:                          -0.400   Prob(JB):                         0.00\n",
       "Kurtosis:                      34.033   Cond. No.                     4.01e+05\n",
       "==============================================================================\n",
       "\n",
       "Warnings:\n",
       "[1] Standard Errors assume that the covariance matrix of the errors is correctly specified.\n",
       "[2] The condition number is large, 4.01e+05. This might indicate that there are\n",
       "strong multicollinearity or other numerical problems.\n",
       "\"\"\""
      ]
     },
     "execution_count": 397,
     "metadata": {},
     "output_type": "execute_result"
    }
   ],
   "source": [
    "# Get the model outside of the function\n",
    "\n",
    "model=sm.OLS(y,add_constant(X))\n",
    "model_fit=model.fit()\n",
    "model_fit.summary()"
   ]
  },
  {
   "cell_type": "code",
   "execution_count": 398,
   "metadata": {},
   "outputs": [],
   "source": [
    "#save it into a file. THe file is also uploaded on the same drive.\n",
    "model_fit.save(\"fitted_model.pickle\")"
   ]
  },
  {
   "cell_type": "code",
   "execution_count": 402,
   "metadata": {},
   "outputs": [
    {
     "data": {
      "text/html": [
       "<table class=\"simpletable\">\n",
       "<caption>OLS Regression Results</caption>\n",
       "<tr>\n",
       "  <th>Dep. Variable:</th>        <td>SalePrice</td>    <th>  R-squared:         </th> <td>   0.867</td> \n",
       "</tr>\n",
       "<tr>\n",
       "  <th>Model:</th>                   <td>OLS</td>       <th>  Adj. R-squared:    </th> <td>   0.862</td> \n",
       "</tr>\n",
       "<tr>\n",
       "  <th>Method:</th>             <td>Least Squares</td>  <th>  F-statistic:       </th> <td>   191.4</td> \n",
       "</tr>\n",
       "<tr>\n",
       "  <th>Date:</th>             <td>Wed, 29 Apr 2020</td> <th>  Prob (F-statistic):</th>  <td>  0.00</td>  \n",
       "</tr>\n",
       "<tr>\n",
       "  <th>Time:</th>                 <td>21:43:18</td>     <th>  Log-Likelihood:    </th> <td> -17072.</td> \n",
       "</tr>\n",
       "<tr>\n",
       "  <th>No. Observations:</th>      <td>  1460</td>      <th>  AIC:               </th> <td>3.424e+04</td>\n",
       "</tr>\n",
       "<tr>\n",
       "  <th>Df Residuals:</th>          <td>  1411</td>      <th>  BIC:               </th> <td>3.450e+04</td>\n",
       "</tr>\n",
       "<tr>\n",
       "  <th>Df Model:</th>              <td>    48</td>      <th>                     </th>     <td> </td>    \n",
       "</tr>\n",
       "<tr>\n",
       "  <th>Covariance Type:</th>      <td>nonrobust</td>    <th>                     </th>     <td> </td>    \n",
       "</tr>\n",
       "</table>\n",
       "<table class=\"simpletable\">\n",
       "<tr>\n",
       "            <td></td>              <th>coef</th>     <th>std err</th>      <th>t</th>      <th>P>|t|</th>  <th>[0.025</th>    <th>0.975]</th>  \n",
       "</tr>\n",
       "<tr>\n",
       "  <th>const</th>                <td>-8.437e+04</td> <td> 1.16e+04</td> <td>   -7.259</td> <td> 0.000</td> <td>-1.07e+05</td> <td>-6.16e+04</td>\n",
       "</tr>\n",
       "<tr>\n",
       "  <th>LotArea</th>              <td>    0.3404</td> <td>    0.094</td> <td>    3.621</td> <td> 0.000</td> <td>    0.156</td> <td>    0.525</td>\n",
       "</tr>\n",
       "<tr>\n",
       "  <th>OverallQual</th>          <td> 9850.1692</td> <td> 1118.933</td> <td>    8.803</td> <td> 0.000</td> <td> 7655.217</td> <td>  1.2e+04</td>\n",
       "</tr>\n",
       "<tr>\n",
       "  <th>OverallCond</th>          <td> 3973.6742</td> <td>  804.869</td> <td>    4.937</td> <td> 0.000</td> <td> 2394.806</td> <td> 5552.543</td>\n",
       "</tr>\n",
       "<tr>\n",
       "  <th>MasVnrArea</th>           <td>   26.7252</td> <td>    6.108</td> <td>    4.375</td> <td> 0.000</td> <td>   14.743</td> <td>   38.707</td>\n",
       "</tr>\n",
       "<tr>\n",
       "  <th>ExterQual</th>            <td> 6353.0740</td> <td> 2383.558</td> <td>    2.665</td> <td> 0.008</td> <td> 1677.375</td> <td>  1.1e+04</td>\n",
       "</tr>\n",
       "<tr>\n",
       "  <th>BsmtQual</th>             <td> 8072.9156</td> <td> 1414.867</td> <td>    5.706</td> <td> 0.000</td> <td> 5297.446</td> <td> 1.08e+04</td>\n",
       "</tr>\n",
       "<tr>\n",
       "  <th>BsmtExposure</th>         <td> 7183.3541</td> <td>  921.692</td> <td>    7.794</td> <td> 0.000</td> <td> 5375.320</td> <td> 8991.388</td>\n",
       "</tr>\n",
       "<tr>\n",
       "  <th>2ndFlrSF</th>             <td>   14.1006</td> <td>    5.610</td> <td>    2.513</td> <td> 0.012</td> <td>    3.096</td> <td>   25.106</td>\n",
       "</tr>\n",
       "<tr>\n",
       "  <th>GrLivArea</th>            <td>   44.2771</td> <td>    4.185</td> <td>   10.580</td> <td> 0.000</td> <td>   36.068</td> <td>   52.486</td>\n",
       "</tr>\n",
       "<tr>\n",
       "  <th>BsmtFullBath</th>         <td> 6238.5254</td> <td> 1887.890</td> <td>    3.304</td> <td> 0.001</td> <td> 2535.152</td> <td> 9941.899</td>\n",
       "</tr>\n",
       "<tr>\n",
       "  <th>FullBath</th>             <td> 8044.7842</td> <td> 2387.309</td> <td>    3.370</td> <td> 0.001</td> <td> 3361.728</td> <td> 1.27e+04</td>\n",
       "</tr>\n",
       "<tr>\n",
       "  <th>HalfBath</th>             <td> 6647.8086</td> <td> 2309.479</td> <td>    2.878</td> <td> 0.004</td> <td> 2117.426</td> <td> 1.12e+04</td>\n",
       "</tr>\n",
       "<tr>\n",
       "  <th>BedroomAbvGr</th>         <td>-5642.7353</td> <td> 1514.773</td> <td>   -3.725</td> <td> 0.000</td> <td>-8614.185</td> <td>-2671.286</td>\n",
       "</tr>\n",
       "<tr>\n",
       "  <th>KitchenAbvGr</th>         <td>-2.003e+04</td> <td> 4270.692</td> <td>   -4.690</td> <td> 0.000</td> <td>-2.84e+04</td> <td>-1.17e+04</td>\n",
       "</tr>\n",
       "<tr>\n",
       "  <th>KitchenQual</th>          <td> 8339.3855</td> <td> 1862.722</td> <td>    4.477</td> <td> 0.000</td> <td> 4685.383</td> <td>  1.2e+04</td>\n",
       "</tr>\n",
       "<tr>\n",
       "  <th>TotRmsAbvGrd</th>         <td> 3145.0915</td> <td> 1068.367</td> <td>    2.944</td> <td> 0.003</td> <td> 1049.332</td> <td> 5240.851</td>\n",
       "</tr>\n",
       "<tr>\n",
       "  <th>Functional</th>           <td>-3790.3634</td> <td> 1250.809</td> <td>   -3.030</td> <td> 0.002</td> <td>-6244.008</td> <td>-1336.719</td>\n",
       "</tr>\n",
       "<tr>\n",
       "  <th>Fireplaces</th>           <td> 4028.4370</td> <td> 1520.415</td> <td>    2.650</td> <td> 0.008</td> <td> 1045.920</td> <td> 7010.954</td>\n",
       "</tr>\n",
       "<tr>\n",
       "  <th>GarageCars</th>           <td> 7961.0772</td> <td> 1457.560</td> <td>    5.462</td> <td> 0.000</td> <td> 5101.859</td> <td> 1.08e+04</td>\n",
       "</tr>\n",
       "<tr>\n",
       "  <th>ScreenPorch</th>          <td>   44.3890</td> <td>   14.350</td> <td>    3.093</td> <td> 0.002</td> <td>   16.239</td> <td>   72.539</td>\n",
       "</tr>\n",
       "<tr>\n",
       "  <th>BsmtFinTypeALQ</th>       <td> 6660.5551</td> <td> 2303.907</td> <td>    2.891</td> <td> 0.004</td> <td> 2141.103</td> <td> 1.12e+04</td>\n",
       "</tr>\n",
       "<tr>\n",
       "  <th>BsmtFinTypeGLQ</th>       <td> 1.022e+04</td> <td> 2250.698</td> <td>    4.541</td> <td> 0.000</td> <td> 5804.745</td> <td> 1.46e+04</td>\n",
       "</tr>\n",
       "<tr>\n",
       "  <th>LandContour_HLS</th>      <td>  1.94e+04</td> <td> 5460.240</td> <td>    3.552</td> <td> 0.000</td> <td> 8685.674</td> <td> 3.01e+04</td>\n",
       "</tr>\n",
       "<tr>\n",
       "  <th>LandContour_Lvl</th>      <td>  1.18e+04</td> <td> 3498.109</td> <td>    3.373</td> <td> 0.001</td> <td> 4938.221</td> <td> 1.87e+04</td>\n",
       "</tr>\n",
       "<tr>\n",
       "  <th>LotConfig_CulDSac</th>    <td> 1.098e+04</td> <td> 3293.858</td> <td>    3.334</td> <td> 0.001</td> <td> 4520.940</td> <td> 1.74e+04</td>\n",
       "</tr>\n",
       "<tr>\n",
       "  <th>BldgType_Twnhs</th>       <td>-4.078e+04</td> <td> 5339.841</td> <td>   -7.636</td> <td> 0.000</td> <td>-5.13e+04</td> <td>-3.03e+04</td>\n",
       "</tr>\n",
       "<tr>\n",
       "  <th>BldgType_TwnhsE</th>      <td>-3.467e+04</td> <td> 3610.241</td> <td>   -9.603</td> <td> 0.000</td> <td>-4.18e+04</td> <td>-2.76e+04</td>\n",
       "</tr>\n",
       "<tr>\n",
       "  <th>HouseStyle_1Story</th>    <td> 2.071e+04</td> <td> 2918.928</td> <td>    7.095</td> <td> 0.000</td> <td>  1.5e+04</td> <td> 2.64e+04</td>\n",
       "</tr>\n",
       "<tr>\n",
       "  <th>HouseStyle_2Story</th>    <td>-8307.5188</td> <td> 3312.623</td> <td>   -2.508</td> <td> 0.012</td> <td>-1.48e+04</td> <td>-1809.323</td>\n",
       "</tr>\n",
       "<tr>\n",
       "  <th>Heating_OthW</th>         <td>-5.303e+04</td> <td> 2.13e+04</td> <td>   -2.494</td> <td> 0.013</td> <td>-9.47e+04</td> <td>-1.13e+04</td>\n",
       "</tr>\n",
       "<tr>\n",
       "  <th>MasVnrType_BrkFace</th>   <td>-6281.3046</td> <td> 2203.169</td> <td>   -2.851</td> <td> 0.004</td> <td>-1.06e+04</td> <td>-1959.465</td>\n",
       "</tr>\n",
       "<tr>\n",
       "  <th>Neighborhood_BrkSide</th> <td>-1.631e+04</td> <td> 5113.861</td> <td>   -3.189</td> <td> 0.001</td> <td>-2.63e+04</td> <td>-6277.747</td>\n",
       "</tr>\n",
       "<tr>\n",
       "  <th>Neighborhood_ClearCr</th> <td>-1.466e+04</td> <td> 6643.863</td> <td>   -2.206</td> <td> 0.028</td> <td>-2.77e+04</td> <td>-1624.286</td>\n",
       "</tr>\n",
       "<tr>\n",
       "  <th>Neighborhood_CollgCr</th> <td>-2.033e+04</td> <td> 3589.287</td> <td>   -5.663</td> <td> 0.000</td> <td>-2.74e+04</td> <td>-1.33e+04</td>\n",
       "</tr>\n",
       "<tr>\n",
       "  <th>Neighborhood_Edwards</th> <td>-2.928e+04</td> <td> 4217.764</td> <td>   -6.942</td> <td> 0.000</td> <td>-3.76e+04</td> <td> -2.1e+04</td>\n",
       "</tr>\n",
       "<tr>\n",
       "  <th>Neighborhood_Gilbert</th> <td>-2.369e+04</td> <td> 4339.792</td> <td>   -5.458</td> <td> 0.000</td> <td>-3.22e+04</td> <td>-1.52e+04</td>\n",
       "</tr>\n",
       "<tr>\n",
       "  <th>Neighborhood_IDOTRR</th>  <td>-3.052e+04</td> <td> 5925.727</td> <td>   -5.150</td> <td> 0.000</td> <td>-4.21e+04</td> <td>-1.89e+04</td>\n",
       "</tr>\n",
       "<tr>\n",
       "  <th>Neighborhood_Mitchel</th> <td>-2.228e+04</td> <td> 5115.833</td> <td>   -4.356</td> <td> 0.000</td> <td>-3.23e+04</td> <td>-1.22e+04</td>\n",
       "</tr>\n",
       "<tr>\n",
       "  <th>Neighborhood_NAmes</th>   <td>-2.163e+04</td> <td> 3618.042</td> <td>   -5.977</td> <td> 0.000</td> <td>-2.87e+04</td> <td>-1.45e+04</td>\n",
       "</tr>\n",
       "<tr>\n",
       "  <th>Neighborhood_NWAmes</th>  <td>-2.762e+04</td> <td> 4536.557</td> <td>   -6.089</td> <td> 0.000</td> <td>-3.65e+04</td> <td>-1.87e+04</td>\n",
       "</tr>\n",
       "<tr>\n",
       "  <th>Neighborhood_NoRidge</th> <td> 2.779e+04</td> <td> 5766.117</td> <td>    4.819</td> <td> 0.000</td> <td> 1.65e+04</td> <td> 3.91e+04</td>\n",
       "</tr>\n",
       "<tr>\n",
       "  <th>Neighborhood_NridgHt</th> <td> 3.259e+04</td> <td> 4462.002</td> <td>    7.303</td> <td> 0.000</td> <td> 2.38e+04</td> <td> 4.13e+04</td>\n",
       "</tr>\n",
       "<tr>\n",
       "  <th>Neighborhood_OldTown</th> <td>-3.177e+04</td> <td> 4315.226</td> <td>   -7.362</td> <td> 0.000</td> <td>-4.02e+04</td> <td>-2.33e+04</td>\n",
       "</tr>\n",
       "<tr>\n",
       "  <th>Neighborhood_SWISU</th>   <td>-2.632e+04</td> <td> 6931.594</td> <td>   -3.797</td> <td> 0.000</td> <td>-3.99e+04</td> <td>-1.27e+04</td>\n",
       "</tr>\n",
       "<tr>\n",
       "  <th>Neighborhood_Sawyer</th>  <td>-2.097e+04</td> <td> 4621.510</td> <td>   -4.538</td> <td> 0.000</td> <td>   -3e+04</td> <td>-1.19e+04</td>\n",
       "</tr>\n",
       "<tr>\n",
       "  <th>Neighborhood_SawyerW</th> <td>-1.954e+04</td> <td> 4597.901</td> <td>   -4.249</td> <td> 0.000</td> <td>-2.86e+04</td> <td>-1.05e+04</td>\n",
       "</tr>\n",
       "<tr>\n",
       "  <th>Neighborhood_StoneBr</th> <td>  3.91e+04</td> <td> 6591.226</td> <td>    5.932</td> <td> 0.000</td> <td> 2.62e+04</td> <td>  5.2e+04</td>\n",
       "</tr>\n",
       "<tr>\n",
       "  <th>Neighborhood_Timber</th>  <td> -1.75e+04</td> <td> 5679.367</td> <td>   -3.082</td> <td> 0.002</td> <td>-2.86e+04</td> <td>-6362.372</td>\n",
       "</tr>\n",
       "</table>\n",
       "<table class=\"simpletable\">\n",
       "<tr>\n",
       "  <th>Omnibus:</th>       <td>475.500</td> <th>  Durbin-Watson:     </th> <td>   1.901</td> \n",
       "</tr>\n",
       "<tr>\n",
       "  <th>Prob(Omnibus):</th> <td> 0.000</td>  <th>  Jarque-Bera (JB):  </th> <td>58625.510</td>\n",
       "</tr>\n",
       "<tr>\n",
       "  <th>Skew:</th>          <td>-0.400</td>  <th>  Prob(JB):          </th> <td>    0.00</td> \n",
       "</tr>\n",
       "<tr>\n",
       "  <th>Kurtosis:</th>      <td>34.033</td>  <th>  Cond. No.          </th> <td>4.01e+05</td> \n",
       "</tr>\n",
       "</table><br/><br/>Warnings:<br/>[1] Standard Errors assume that the covariance matrix of the errors is correctly specified.<br/>[2] The condition number is large, 4.01e+05. This might indicate that there are<br/>strong multicollinearity or other numerical problems."
      ],
      "text/plain": [
       "<class 'statsmodels.iolib.summary.Summary'>\n",
       "\"\"\"\n",
       "                            OLS Regression Results                            \n",
       "==============================================================================\n",
       "Dep. Variable:              SalePrice   R-squared:                       0.867\n",
       "Model:                            OLS   Adj. R-squared:                  0.862\n",
       "Method:                 Least Squares   F-statistic:                     191.4\n",
       "Date:                Wed, 29 Apr 2020   Prob (F-statistic):               0.00\n",
       "Time:                        21:43:18   Log-Likelihood:                -17072.\n",
       "No. Observations:                1460   AIC:                         3.424e+04\n",
       "Df Residuals:                    1411   BIC:                         3.450e+04\n",
       "Df Model:                          48                                         \n",
       "Covariance Type:            nonrobust                                         \n",
       "========================================================================================\n",
       "                           coef    std err          t      P>|t|      [0.025      0.975]\n",
       "----------------------------------------------------------------------------------------\n",
       "const                -8.437e+04   1.16e+04     -7.259      0.000   -1.07e+05   -6.16e+04\n",
       "LotArea                  0.3404      0.094      3.621      0.000       0.156       0.525\n",
       "OverallQual           9850.1692   1118.933      8.803      0.000    7655.217     1.2e+04\n",
       "OverallCond           3973.6742    804.869      4.937      0.000    2394.806    5552.543\n",
       "MasVnrArea              26.7252      6.108      4.375      0.000      14.743      38.707\n",
       "ExterQual             6353.0740   2383.558      2.665      0.008    1677.375     1.1e+04\n",
       "BsmtQual              8072.9156   1414.867      5.706      0.000    5297.446    1.08e+04\n",
       "BsmtExposure          7183.3541    921.692      7.794      0.000    5375.320    8991.388\n",
       "2ndFlrSF                14.1006      5.610      2.513      0.012       3.096      25.106\n",
       "GrLivArea               44.2771      4.185     10.580      0.000      36.068      52.486\n",
       "BsmtFullBath          6238.5254   1887.890      3.304      0.001    2535.152    9941.899\n",
       "FullBath              8044.7842   2387.309      3.370      0.001    3361.728    1.27e+04\n",
       "HalfBath              6647.8086   2309.479      2.878      0.004    2117.426    1.12e+04\n",
       "BedroomAbvGr         -5642.7353   1514.773     -3.725      0.000   -8614.185   -2671.286\n",
       "KitchenAbvGr         -2.003e+04   4270.692     -4.690      0.000   -2.84e+04   -1.17e+04\n",
       "KitchenQual           8339.3855   1862.722      4.477      0.000    4685.383     1.2e+04\n",
       "TotRmsAbvGrd          3145.0915   1068.367      2.944      0.003    1049.332    5240.851\n",
       "Functional           -3790.3634   1250.809     -3.030      0.002   -6244.008   -1336.719\n",
       "Fireplaces            4028.4370   1520.415      2.650      0.008    1045.920    7010.954\n",
       "GarageCars            7961.0772   1457.560      5.462      0.000    5101.859    1.08e+04\n",
       "ScreenPorch             44.3890     14.350      3.093      0.002      16.239      72.539\n",
       "BsmtFinTypeALQ        6660.5551   2303.907      2.891      0.004    2141.103    1.12e+04\n",
       "BsmtFinTypeGLQ        1.022e+04   2250.698      4.541      0.000    5804.745    1.46e+04\n",
       "LandContour_HLS        1.94e+04   5460.240      3.552      0.000    8685.674    3.01e+04\n",
       "LandContour_Lvl        1.18e+04   3498.109      3.373      0.001    4938.221    1.87e+04\n",
       "LotConfig_CulDSac     1.098e+04   3293.858      3.334      0.001    4520.940    1.74e+04\n",
       "BldgType_Twnhs       -4.078e+04   5339.841     -7.636      0.000   -5.13e+04   -3.03e+04\n",
       "BldgType_TwnhsE      -3.467e+04   3610.241     -9.603      0.000   -4.18e+04   -2.76e+04\n",
       "HouseStyle_1Story     2.071e+04   2918.928      7.095      0.000     1.5e+04    2.64e+04\n",
       "HouseStyle_2Story    -8307.5188   3312.623     -2.508      0.012   -1.48e+04   -1809.323\n",
       "Heating_OthW         -5.303e+04   2.13e+04     -2.494      0.013   -9.47e+04   -1.13e+04\n",
       "MasVnrType_BrkFace   -6281.3046   2203.169     -2.851      0.004   -1.06e+04   -1959.465\n",
       "Neighborhood_BrkSide -1.631e+04   5113.861     -3.189      0.001   -2.63e+04   -6277.747\n",
       "Neighborhood_ClearCr -1.466e+04   6643.863     -2.206      0.028   -2.77e+04   -1624.286\n",
       "Neighborhood_CollgCr -2.033e+04   3589.287     -5.663      0.000   -2.74e+04   -1.33e+04\n",
       "Neighborhood_Edwards -2.928e+04   4217.764     -6.942      0.000   -3.76e+04    -2.1e+04\n",
       "Neighborhood_Gilbert -2.369e+04   4339.792     -5.458      0.000   -3.22e+04   -1.52e+04\n",
       "Neighborhood_IDOTRR  -3.052e+04   5925.727     -5.150      0.000   -4.21e+04   -1.89e+04\n",
       "Neighborhood_Mitchel -2.228e+04   5115.833     -4.356      0.000   -3.23e+04   -1.22e+04\n",
       "Neighborhood_NAmes   -2.163e+04   3618.042     -5.977      0.000   -2.87e+04   -1.45e+04\n",
       "Neighborhood_NWAmes  -2.762e+04   4536.557     -6.089      0.000   -3.65e+04   -1.87e+04\n",
       "Neighborhood_NoRidge  2.779e+04   5766.117      4.819      0.000    1.65e+04    3.91e+04\n",
       "Neighborhood_NridgHt  3.259e+04   4462.002      7.303      0.000    2.38e+04    4.13e+04\n",
       "Neighborhood_OldTown -3.177e+04   4315.226     -7.362      0.000   -4.02e+04   -2.33e+04\n",
       "Neighborhood_SWISU   -2.632e+04   6931.594     -3.797      0.000   -3.99e+04   -1.27e+04\n",
       "Neighborhood_Sawyer  -2.097e+04   4621.510     -4.538      0.000      -3e+04   -1.19e+04\n",
       "Neighborhood_SawyerW -1.954e+04   4597.901     -4.249      0.000   -2.86e+04   -1.05e+04\n",
       "Neighborhood_StoneBr   3.91e+04   6591.226      5.932      0.000    2.62e+04     5.2e+04\n",
       "Neighborhood_Timber   -1.75e+04   5679.367     -3.082      0.002   -2.86e+04   -6362.372\n",
       "==============================================================================\n",
       "Omnibus:                      475.500   Durbin-Watson:                   1.901\n",
       "Prob(Omnibus):                  0.000   Jarque-Bera (JB):            58625.510\n",
       "Skew:                          -0.400   Prob(JB):                         0.00\n",
       "Kurtosis:                      34.033   Cond. No.                     4.01e+05\n",
       "==============================================================================\n",
       "\n",
       "Warnings:\n",
       "[1] Standard Errors assume that the covariance matrix of the errors is correctly specified.\n",
       "[2] The condition number is large, 4.01e+05. This might indicate that there are\n",
       "strong multicollinearity or other numerical problems.\n",
       "\"\"\""
      ]
     },
     "execution_count": 402,
     "metadata": {},
     "output_type": "execute_result"
    }
   ],
   "source": [
    "# you can read the model using code below. \n",
    "fitted_model=sm.load('fitted_model.pickle')\n",
    "fitted_model.summary()"
   ]
  },
  {
   "cell_type": "markdown",
   "metadata": {},
   "source": [
    "# Model is built. Time for assumptions"
   ]
  },
  {
   "cell_type": "code",
   "execution_count": 403,
   "metadata": {},
   "outputs": [],
   "source": [
    "# First we need to get the predictions\n",
    "y_pred=model_fit.predict(add_constant(X))"
   ]
  },
  {
   "cell_type": "code",
   "execution_count": null,
   "metadata": {},
   "outputs": [],
   "source": [
    "# For the case of actual predictions, we need to do the proper data manipulations with new data \n",
    "# (simulate all the steps above). Then we can run the code below.\n",
    "#\n",
    "#y_pred=model_fit.predict(add_constant(X_new[X.columns]))"
   ]
  },
  {
   "cell_type": "code",
   "execution_count": 379,
   "metadata": {},
   "outputs": [
    {
     "data": {
      "text/plain": [
       "0       211587.376394\n",
       "1       220708.795780\n",
       "2       212904.336696\n",
       "3       208426.331001\n",
       "4       323915.383369\n",
       "            ...      \n",
       "1455    163927.108392\n",
       "1456    213514.296700\n",
       "1457    264141.965463\n",
       "1458    144154.892383\n",
       "1459    136402.391503\n",
       "Length: 1460, dtype: float64"
      ]
     },
     "execution_count": 379,
     "metadata": {},
     "output_type": "execute_result"
    }
   ],
   "source": [
    "y_pred"
   ]
  },
  {
   "cell_type": "code",
   "execution_count": 381,
   "metadata": {},
   "outputs": [
    {
     "data": {
      "text/plain": [
       "<matplotlib.collections.PathCollection at 0x7fe176bb6e50>"
      ]
     },
     "execution_count": 381,
     "metadata": {},
     "output_type": "execute_result"
    },
    {
     "data": {
      "image/png": "[encoded data removed]",
      "text/plain": [
       "<Figure size 432x288 with 1 Axes>"
      ]
     },
     "metadata": {
      "needs_background": "light"
     },
     "output_type": "display_data"
    }
   ],
   "source": [
    "# let's see whether the predictions are lying on the diagonal\n",
    "plt.scatter(y,y_pred)"
   ]
  },
  {
   "cell_type": "markdown",
   "metadata": {},
   "source": [
    "Seems to be nice. Still, assumptions should be tested matematically"
   ]
  },
  {
   "cell_type": "code",
   "execution_count": 383,
   "metadata": {},
   "outputs": [
    {
     "data": {
      "text/plain": [
       "-1.2375417162268741e-08"
      ]
     },
     "execution_count": 383,
     "metadata": {},
     "output_type": "execute_result"
    }
   ],
   "source": [
    "# Residuals (error between actual and predicted) should be around 0. So, average should be 0.\n",
    "\n",
    "(y-y_pred).mean()"
   ]
  },
  {
   "cell_type": "code",
   "execution_count": 384,
   "metadata": {},
   "outputs": [
    {
     "data": {
      "text/plain": [
       "[<matplotlib.lines.Line2D at 0x7fe175cc9050>]"
      ]
     },
     "execution_count": 384,
     "metadata": {},
     "output_type": "execute_result"
    },
    {
     "data": {
      "image/png": "[encoded data removed]",
      "text/plain": [
       "<Figure size 432x288 with 1 Axes>"
      ]
     },
     "metadata": {
      "needs_background": "light"
     },
     "output_type": "display_data"
    }
   ],
   "source": [
    "# They should form a white noise. (References). \n",
    "plt.plot((y-y_pred))"
   ]
  },
  {
   "cell_type": "code",
   "execution_count": 385,
   "metadata": {},
   "outputs": [],
   "source": [
    "resid=y-y_pred"
   ]
  },
  {
   "cell_type": "code",
   "execution_count": 388,
   "metadata": {},
   "outputs": [
    {
     "data": {
      "image/png": "[encoded data removed]",
      "text/plain": [
       "<Figure size 432x288 with 1 Axes>"
      ]
     },
     "metadata": {
      "needs_background": "light"
     },
     "output_type": "display_data"
    }
   ],
   "source": [
    "# And they should follow normal distribution\n",
    "plt.hist(resid,bins=100);"
   ]
  },
  {
   "cell_type": "markdown",
   "metadata": {},
   "source": [
    "Too high pike. Kinda normal, but we cant say without testing the correct hypothesis"
   ]
  },
  {
   "cell_type": "markdown",
   "metadata": {},
   "source": [
    "# References:\n",
    "1. Dummies trap: https://www.algosome.com/articles/dummy-variable-trap-regression.html\n",
    "2. White noise: https://en.wikipedia.org/wiki/White_noise#White_noise_vector\n",
    "3. Multiple Linear Regression - for math lovers by Cornnell Uni: http://mezeylab.cb.bscb.cornell.edu/labmembers/documents/supplement%205%20-%20multiple%20regression.pdf\n",
    "4. Nice overview and step-by-step project, but in R. But yeah, you can google same functions for Python: https://towardsdatascience.com/linear-regression-modeling-and-assumptions-dcd7a201502a\n",
    "5. Amazing review of assumptions (It might confuse you even more in fact. But at some point pls review it. You can find some really interesting links and yeah, very ugly presentations for students of psychology faculty): https://en.wikiversity.org/wiki/Multiple_linear_regression\n"
   ]
  },
  {
   "cell_type": "code",
   "execution_count": null,
   "metadata": {},
   "outputs": [],
   "source": []
  }
 ],
 "metadata": {
  "kernelspec": {
   "display_name": "Python 3",
   "language": "python",
   "name": "python3"
  },
  "language_info": {
   "codemirror_mode": {
    "name": "ipython",
    "version": 3
   },
   "file_extension": ".py",
   "mimetype": "text/x-python",
   "name": "python",
   "nbconvert_exporter": "python",
   "pygments_lexer": "ipython3",
   "version": "3.7.6"
  }
 },
 "nbformat": 4,
 "nbformat_minor": 4
}
