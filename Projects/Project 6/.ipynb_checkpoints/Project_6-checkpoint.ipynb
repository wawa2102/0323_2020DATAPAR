{
 "cells": [
  {
   "cell_type": "markdown",
   "metadata": {},
   "source": [
    "Dataset => https://www.kaggle.com/pavansubhasht/ibm-hr-analytics-attrition-dataset\n",
    "!!! Reminder, we can't predict categorical output such as Yes / No "
   ]
  },
  {
   "cell_type": "markdown",
   "metadata": {},
   "source": [
    "Features : \n",
    "- AgeNumérica - Discreta\n",
    "- AttritionCategórica\n",
    "- BusinessTravelCategórica\n",
    "- DailyRateNumérica - Discreta\n",
    "- DepartmentCategórica\n",
    "- DistanceFromHomeNumérica - Discreta (miles)\n",
    "- EducationCategórica\n",
    "- EducationFieldCategórica\n",
    "- EmployeeCountNumérica - Discreta\n",
    "- EmployeeNumberNumérica - Discreta\n",
    "- EnvironmentSatisfactionCategórica\n",
    "- GenderCategórica\n",
    "- HourlyRateNumérica - Discreta\n",
    "- JobInvolvementCategórica\n",
    "- JobLevelCategórica\n",
    "- JobRoleCategórica\n",
    "- JobSatisfactionCategórica\n",
    "- MaritalStatusCategórica\n",
    "- MonthlyIncomeNumérica - Discreta\n",
    "- MonthlyRateNumérica - Discreta\n",
    "- NumCompaniesWorkedNumérica - Discreta\n",
    "- Over18Categórica\n",
    "- OverTimeCategórica\n",
    "- PercentSalaryHikeNumérica - Discreta\n",
    "- PerformanceRatingCategórica\n",
    "- RelationshipSatisfactionCategórica\n",
    "- StandardHoursNumérica - Discreta\n",
    "- StockOptionLevelCategórica\n",
    "- TotalWorkingYearsNumérica - Discreta\n",
    "- TrainingTimesLastYearNumérica - Discreta\n",
    "- WorkLifeBalanceCategórica\n",
    "- YearsAtCompanyNumérica - Discreta\n",
    "- YearsInCurrentRoleNumérica - Discreta\n",
    "- YearsSinceLastPromotionNumérica - Discreta\n",
    "- YearsWithCurrManagerNumérica - Discreta\n",
    "\n",
    "Details :\n",
    "Education\n",
    "1 'Below College'\n",
    "2 'College'\n",
    "3 'Bachelor'\n",
    "4 'Master'\n",
    "5 'Doctor'\n",
    "\n",
    "EnvironmentSatisfaction\n",
    "1 'Low'\n",
    "2 'Medium'\n",
    "3 'High'\n",
    "4 'Very High'\n",
    "\n",
    "JobInvolvement\n",
    "1 'Low'\n",
    "2 'Medium'\n",
    "3 'High'\n",
    "4 'Very High'\n",
    "\n",
    "JobSatisfaction\n",
    "1 'Low'\n",
    "2 'Medium'\n",
    "3 'High'\n",
    "4 'Very High'\n",
    "\n",
    "PerformanceRating\n",
    "1 'Low'\n",
    "2 'Good'\n",
    "3 'Excellent'\n",
    "4 'Outstanding'\n",
    "\n",
    "RelationshipSatisfaction\n",
    "1 'Low'\n",
    "2 'Medium'\n",
    "3 'High'\n",
    "4 'Very High'\n",
    "\n",
    "WorkLifeBalance\n",
    "1 'Bad'\n",
    "2 'Good'\n",
    "3 'Better'\n",
    "4 'Best'"
   ]
  },
  {
   "cell_type": "markdown",
   "metadata": {},
   "source": [
    "# Librairies"
   ]
  },
  {
   "cell_type": "code",
   "execution_count": 641,
   "metadata": {},
   "outputs": [],
   "source": [
    "import pandas as pd\n",
    "import statsmodels.api as sm\n",
    "from statsmodels.tools.tools import add_constant\n",
    "import numpy as np\n",
    "import matplotlib. pyplot as plt"
   ]
  },
  {
   "cell_type": "markdown",
   "metadata": {},
   "source": [
    "# Dataset overview"
   ]
  },
  {
   "cell_type": "code",
   "execution_count": 642,
   "metadata": {},
   "outputs": [
    {
     "data": {
      "text/html": [
       "<div>\n",
       "<style scoped>\n",
       "    .dataframe tbody tr th:only-of-type {\n",
       "        vertical-align: middle;\n",
       "    }\n",
       "\n",
       "    .dataframe tbody tr th {\n",
       "        vertical-align: top;\n",
       "    }\n",
       "\n",
       "    .dataframe thead th {\n",
       "        text-align: right;\n",
       "    }\n",
       "</style>\n",
       "<table border=\"1\" class=\"dataframe\">\n",
       "  <thead>\n",
       "    <tr style=\"text-align: right;\">\n",
       "      <th></th>\n",
       "      <th>Age</th>\n",
       "      <th>Attrition</th>\n",
       "      <th>BusinessTravel</th>\n",
       "      <th>DailyRate</th>\n",
       "      <th>Department</th>\n",
       "      <th>DistanceFromHome</th>\n",
       "      <th>Education</th>\n",
       "      <th>EducationField</th>\n",
       "      <th>EmployeeCount</th>\n",
       "      <th>EmployeeNumber</th>\n",
       "      <th>...</th>\n",
       "      <th>RelationshipSatisfaction</th>\n",
       "      <th>StandardHours</th>\n",
       "      <th>StockOptionLevel</th>\n",
       "      <th>TotalWorkingYears</th>\n",
       "      <th>TrainingTimesLastYear</th>\n",
       "      <th>WorkLifeBalance</th>\n",
       "      <th>YearsAtCompany</th>\n",
       "      <th>YearsInCurrentRole</th>\n",
       "      <th>YearsSinceLastPromotion</th>\n",
       "      <th>YearsWithCurrManager</th>\n",
       "    </tr>\n",
       "  </thead>\n",
       "  <tbody>\n",
       "    <tr>\n",
       "      <th>0</th>\n",
       "      <td>41</td>\n",
       "      <td>Yes</td>\n",
       "      <td>Travel_Rarely</td>\n",
       "      <td>1102</td>\n",
       "      <td>Sales</td>\n",
       "      <td>1</td>\n",
       "      <td>2</td>\n",
       "      <td>Life Sciences</td>\n",
       "      <td>1</td>\n",
       "      <td>1</td>\n",
       "      <td>...</td>\n",
       "      <td>1</td>\n",
       "      <td>80</td>\n",
       "      <td>0</td>\n",
       "      <td>8</td>\n",
       "      <td>0</td>\n",
       "      <td>1</td>\n",
       "      <td>6</td>\n",
       "      <td>4</td>\n",
       "      <td>0</td>\n",
       "      <td>5</td>\n",
       "    </tr>\n",
       "    <tr>\n",
       "      <th>1</th>\n",
       "      <td>49</td>\n",
       "      <td>No</td>\n",
       "      <td>Travel_Frequently</td>\n",
       "      <td>279</td>\n",
       "      <td>Research &amp; Development</td>\n",
       "      <td>8</td>\n",
       "      <td>1</td>\n",
       "      <td>Life Sciences</td>\n",
       "      <td>1</td>\n",
       "      <td>2</td>\n",
       "      <td>...</td>\n",
       "      <td>4</td>\n",
       "      <td>80</td>\n",
       "      <td>1</td>\n",
       "      <td>10</td>\n",
       "      <td>3</td>\n",
       "      <td>3</td>\n",
       "      <td>10</td>\n",
       "      <td>7</td>\n",
       "      <td>1</td>\n",
       "      <td>7</td>\n",
       "    </tr>\n",
       "    <tr>\n",
       "      <th>2</th>\n",
       "      <td>37</td>\n",
       "      <td>Yes</td>\n",
       "      <td>Travel_Rarely</td>\n",
       "      <td>1373</td>\n",
       "      <td>Research &amp; Development</td>\n",
       "      <td>2</td>\n",
       "      <td>2</td>\n",
       "      <td>Other</td>\n",
       "      <td>1</td>\n",
       "      <td>4</td>\n",
       "      <td>...</td>\n",
       "      <td>2</td>\n",
       "      <td>80</td>\n",
       "      <td>0</td>\n",
       "      <td>7</td>\n",
       "      <td>3</td>\n",
       "      <td>3</td>\n",
       "      <td>0</td>\n",
       "      <td>0</td>\n",
       "      <td>0</td>\n",
       "      <td>0</td>\n",
       "    </tr>\n",
       "    <tr>\n",
       "      <th>3</th>\n",
       "      <td>33</td>\n",
       "      <td>No</td>\n",
       "      <td>Travel_Frequently</td>\n",
       "      <td>1392</td>\n",
       "      <td>Research &amp; Development</td>\n",
       "      <td>3</td>\n",
       "      <td>4</td>\n",
       "      <td>Life Sciences</td>\n",
       "      <td>1</td>\n",
       "      <td>5</td>\n",
       "      <td>...</td>\n",
       "      <td>3</td>\n",
       "      <td>80</td>\n",
       "      <td>0</td>\n",
       "      <td>8</td>\n",
       "      <td>3</td>\n",
       "      <td>3</td>\n",
       "      <td>8</td>\n",
       "      <td>7</td>\n",
       "      <td>3</td>\n",
       "      <td>0</td>\n",
       "    </tr>\n",
       "    <tr>\n",
       "      <th>4</th>\n",
       "      <td>27</td>\n",
       "      <td>No</td>\n",
       "      <td>Travel_Rarely</td>\n",
       "      <td>591</td>\n",
       "      <td>Research &amp; Development</td>\n",
       "      <td>2</td>\n",
       "      <td>1</td>\n",
       "      <td>Medical</td>\n",
       "      <td>1</td>\n",
       "      <td>7</td>\n",
       "      <td>...</td>\n",
       "      <td>4</td>\n",
       "      <td>80</td>\n",
       "      <td>1</td>\n",
       "      <td>6</td>\n",
       "      <td>3</td>\n",
       "      <td>3</td>\n",
       "      <td>2</td>\n",
       "      <td>2</td>\n",
       "      <td>2</td>\n",
       "      <td>2</td>\n",
       "    </tr>\n",
       "  </tbody>\n",
       "</table>\n",
       "<p>5 rows × 35 columns</p>\n",
       "</div>"
      ],
      "text/plain": [
       "   Age Attrition     BusinessTravel  DailyRate              Department  \\\n",
       "0   41       Yes      Travel_Rarely       1102                   Sales   \n",
       "1   49        No  Travel_Frequently        279  Research & Development   \n",
       "2   37       Yes      Travel_Rarely       1373  Research & Development   \n",
       "3   33        No  Travel_Frequently       1392  Research & Development   \n",
       "4   27        No      Travel_Rarely        591  Research & Development   \n",
       "\n",
       "   DistanceFromHome  Education EducationField  EmployeeCount  EmployeeNumber  \\\n",
       "0                 1          2  Life Sciences              1               1   \n",
       "1                 8          1  Life Sciences              1               2   \n",
       "2                 2          2          Other              1               4   \n",
       "3                 3          4  Life Sciences              1               5   \n",
       "4                 2          1        Medical              1               7   \n",
       "\n",
       "   ...  RelationshipSatisfaction StandardHours  StockOptionLevel  \\\n",
       "0  ...                         1            80                 0   \n",
       "1  ...                         4            80                 1   \n",
       "2  ...                         2            80                 0   \n",
       "3  ...                         3            80                 0   \n",
       "4  ...                         4            80                 1   \n",
       "\n",
       "   TotalWorkingYears  TrainingTimesLastYear WorkLifeBalance  YearsAtCompany  \\\n",
       "0                  8                      0               1               6   \n",
       "1                 10                      3               3              10   \n",
       "2                  7                      3               3               0   \n",
       "3                  8                      3               3               8   \n",
       "4                  6                      3               3               2   \n",
       "\n",
       "  YearsInCurrentRole  YearsSinceLastPromotion  YearsWithCurrManager  \n",
       "0                  4                        0                     5  \n",
       "1                  7                        1                     7  \n",
       "2                  0                        0                     0  \n",
       "3                  7                        3                     0  \n",
       "4                  2                        2                     2  \n",
       "\n",
       "[5 rows x 35 columns]"
      ]
     },
     "execution_count": 642,
     "metadata": {},
     "output_type": "execute_result"
    }
   ],
   "source": [
    "df = pd.read_csv('Employee-Attrition.csv',sep=',')\n",
    "df.head()"
   ]
  },
  {
   "cell_type": "code",
   "execution_count": 643,
   "metadata": {},
   "outputs": [
    {
     "data": {
      "text/plain": [
       "(1470, 35)"
      ]
     },
     "execution_count": 643,
     "metadata": {},
     "output_type": "execute_result"
    }
   ],
   "source": [
    "df.shape"
   ]
  },
  {
   "cell_type": "code",
   "execution_count": 644,
   "metadata": {},
   "outputs": [],
   "source": [
    "#remove outliers => 281 rows"
   ]
  },
  {
   "cell_type": "code",
   "execution_count": 645,
   "metadata": {},
   "outputs": [
    {
     "data": {
      "text/plain": [
       "<matplotlib.axes._subplots.AxesSubplot at 0x1a23b14fd0>"
      ]
     },
     "execution_count": 645,
     "metadata": {},
     "output_type": "execute_result"
    },
    {
     "data": {
      "image/png": "[encoded data removed]",
      "text/plain": [
       "<Figure size 432x288 with 1 Axes>"
      ]
     },
     "metadata": {},
     "output_type": "display_data"
    }
   ],
   "source": [
    "df.MonthlyIncome.plot.hist(bins=100)"
   ]
  },
  {
   "cell_type": "code",
   "execution_count": 646,
   "metadata": {},
   "outputs": [],
   "source": [
    "df = df[df.MonthlyIncome<6000]"
   ]
  },
  {
   "cell_type": "code",
   "execution_count": 647,
   "metadata": {},
   "outputs": [
    {
     "data": {
      "text/plain": [
       "<matplotlib.axes._subplots.AxesSubplot at 0x1a26121550>"
      ]
     },
     "execution_count": 647,
     "metadata": {},
     "output_type": "execute_result"
    },
    {
     "data": {
      "image/png": "[encoded data removed]",
      "text/plain": [
       "<Figure size 432x288 with 1 Axes>"
      ]
     },
     "metadata": {},
     "output_type": "display_data"
    }
   ],
   "source": [
    "df.MonthlyIncome.plot.hist(bins=100)"
   ]
  },
  {
   "cell_type": "code",
   "execution_count": 787,
   "metadata": {},
   "outputs": [
    {
     "data": {
      "text/plain": [
       "(914, 34)"
      ]
     },
     "execution_count": 787,
     "metadata": {},
     "output_type": "execute_result"
    }
   ],
   "source": [
    "df.shape"
   ]
  },
  {
   "cell_type": "code",
   "execution_count": 650,
   "metadata": {},
   "outputs": [
    {
     "data": {
      "text/plain": [
       "Index(['Age', 'Attrition', 'BusinessTravel', 'DailyRate', 'Department',\n",
       "       'DistanceFromHome', 'Education', 'EducationField', 'EmployeeCount',\n",
       "       'EmployeeNumber', 'EnvironmentSatisfaction', 'Gender', 'HourlyRate',\n",
       "       'JobInvolvement', 'JobLevel', 'JobRole', 'JobSatisfaction',\n",
       "       'MaritalStatus', 'MonthlyIncome', 'MonthlyRate', 'NumCompaniesWorked',\n",
       "       'Over18', 'OverTime', 'PercentSalaryHike', 'PerformanceRating',\n",
       "       'RelationshipSatisfaction', 'StandardHours', 'StockOptionLevel',\n",
       "       'TotalWorkingYears', 'TrainingTimesLastYear', 'WorkLifeBalance',\n",
       "       'YearsAtCompany', 'YearsInCurrentRole', 'YearsSinceLastPromotion',\n",
       "       'YearsWithCurrManager'],\n",
       "      dtype='object')"
      ]
     },
     "execution_count": 650,
     "metadata": {},
     "output_type": "execute_result"
    }
   ],
   "source": [
    "#No need to change columns names\n",
    "df.columns"
   ]
  },
  {
   "cell_type": "code",
   "execution_count": 651,
   "metadata": {},
   "outputs": [
    {
     "name": "stdout",
     "output_type": "stream",
     "text": [
      "<class 'pandas.core.frame.DataFrame'>\n",
      "Int64Index: 914 entries, 0 to 1469\n",
      "Data columns (total 35 columns):\n",
      " #   Column                    Non-Null Count  Dtype \n",
      "---  ------                    --------------  ----- \n",
      " 0   Age                       914 non-null    int64 \n",
      " 1   Attrition                 914 non-null    object\n",
      " 2   BusinessTravel            914 non-null    object\n",
      " 3   DailyRate                 914 non-null    int64 \n",
      " 4   Department                914 non-null    object\n",
      " 5   DistanceFromHome          914 non-null    int64 \n",
      " 6   Education                 914 non-null    int64 \n",
      " 7   EducationField            914 non-null    object\n",
      " 8   EmployeeCount             914 non-null    int64 \n",
      " 9   EmployeeNumber            914 non-null    int64 \n",
      " 10  EnvironmentSatisfaction   914 non-null    int64 \n",
      " 11  Gender                    914 non-null    object\n",
      " 12  HourlyRate                914 non-null    int64 \n",
      " 13  JobInvolvement            914 non-null    int64 \n",
      " 14  JobLevel                  914 non-null    int64 \n",
      " 15  JobRole                   914 non-null    object\n",
      " 16  JobSatisfaction           914 non-null    int64 \n",
      " 17  MaritalStatus             914 non-null    object\n",
      " 18  MonthlyIncome             914 non-null    int64 \n",
      " 19  MonthlyRate               914 non-null    int64 \n",
      " 20  NumCompaniesWorked        914 non-null    int64 \n",
      " 21  Over18                    914 non-null    object\n",
      " 22  OverTime                  914 non-null    object\n",
      " 23  PercentSalaryHike         914 non-null    int64 \n",
      " 24  PerformanceRating         914 non-null    int64 \n",
      " 25  RelationshipSatisfaction  914 non-null    int64 \n",
      " 26  StandardHours             914 non-null    int64 \n",
      " 27  StockOptionLevel          914 non-null    int64 \n",
      " 28  TotalWorkingYears         914 non-null    int64 \n",
      " 29  TrainingTimesLastYear     914 non-null    int64 \n",
      " 30  WorkLifeBalance           914 non-null    int64 \n",
      " 31  YearsAtCompany            914 non-null    int64 \n",
      " 32  YearsInCurrentRole        914 non-null    int64 \n",
      " 33  YearsSinceLastPromotion   914 non-null    int64 \n",
      " 34  YearsWithCurrManager      914 non-null    int64 \n",
      "dtypes: int64(26), object(9)\n",
      "memory usage: 257.1+ KB\n"
     ]
    }
   ],
   "source": [
    "#Maybe change type later on \n",
    "df.info()"
   ]
  },
  {
   "cell_type": "code",
   "execution_count": 652,
   "metadata": {},
   "outputs": [
    {
     "data": {
      "text/html": [
       "<div>\n",
       "<style scoped>\n",
       "    .dataframe tbody tr th:only-of-type {\n",
       "        vertical-align: middle;\n",
       "    }\n",
       "\n",
       "    .dataframe tbody tr th {\n",
       "        vertical-align: top;\n",
       "    }\n",
       "\n",
       "    .dataframe thead th {\n",
       "        text-align: right;\n",
       "    }\n",
       "</style>\n",
       "<table border=\"1\" class=\"dataframe\">\n",
       "  <thead>\n",
       "    <tr style=\"text-align: right;\">\n",
       "      <th></th>\n",
       "      <th>count</th>\n",
       "      <th>mean</th>\n",
       "      <th>std</th>\n",
       "      <th>min</th>\n",
       "      <th>25%</th>\n",
       "      <th>50%</th>\n",
       "      <th>75%</th>\n",
       "      <th>max</th>\n",
       "    </tr>\n",
       "  </thead>\n",
       "  <tbody>\n",
       "    <tr>\n",
       "      <th>Age</th>\n",
       "      <td>914.0</td>\n",
       "      <td>34.289934</td>\n",
       "      <td>8.475347</td>\n",
       "      <td>18.0</td>\n",
       "      <td>28.00</td>\n",
       "      <td>33.5</td>\n",
       "      <td>39.00</td>\n",
       "      <td>60.0</td>\n",
       "    </tr>\n",
       "    <tr>\n",
       "      <th>DailyRate</th>\n",
       "      <td>914.0</td>\n",
       "      <td>799.514223</td>\n",
       "      <td>404.973260</td>\n",
       "      <td>103.0</td>\n",
       "      <td>464.25</td>\n",
       "      <td>793.0</td>\n",
       "      <td>1157.00</td>\n",
       "      <td>1496.0</td>\n",
       "    </tr>\n",
       "    <tr>\n",
       "      <th>DistanceFromHome</th>\n",
       "      <td>914.0</td>\n",
       "      <td>9.205689</td>\n",
       "      <td>8.026471</td>\n",
       "      <td>1.0</td>\n",
       "      <td>2.00</td>\n",
       "      <td>7.0</td>\n",
       "      <td>14.00</td>\n",
       "      <td>29.0</td>\n",
       "    </tr>\n",
       "    <tr>\n",
       "      <th>Education</th>\n",
       "      <td>914.0</td>\n",
       "      <td>2.851204</td>\n",
       "      <td>1.030618</td>\n",
       "      <td>1.0</td>\n",
       "      <td>2.00</td>\n",
       "      <td>3.0</td>\n",
       "      <td>4.00</td>\n",
       "      <td>5.0</td>\n",
       "    </tr>\n",
       "    <tr>\n",
       "      <th>EmployeeCount</th>\n",
       "      <td>914.0</td>\n",
       "      <td>1.000000</td>\n",
       "      <td>0.000000</td>\n",
       "      <td>1.0</td>\n",
       "      <td>1.00</td>\n",
       "      <td>1.0</td>\n",
       "      <td>1.00</td>\n",
       "      <td>1.0</td>\n",
       "    </tr>\n",
       "    <tr>\n",
       "      <th>EmployeeNumber</th>\n",
       "      <td>914.0</td>\n",
       "      <td>1034.789934</td>\n",
       "      <td>613.109436</td>\n",
       "      <td>1.0</td>\n",
       "      <td>493.25</td>\n",
       "      <td>1020.5</td>\n",
       "      <td>1595.50</td>\n",
       "      <td>2068.0</td>\n",
       "    </tr>\n",
       "    <tr>\n",
       "      <th>EnvironmentSatisfaction</th>\n",
       "      <td>914.0</td>\n",
       "      <td>2.723195</td>\n",
       "      <td>1.099123</td>\n",
       "      <td>1.0</td>\n",
       "      <td>2.00</td>\n",
       "      <td>3.0</td>\n",
       "      <td>4.00</td>\n",
       "      <td>4.0</td>\n",
       "    </tr>\n",
       "    <tr>\n",
       "      <th>HourlyRate</th>\n",
       "      <td>914.0</td>\n",
       "      <td>65.968271</td>\n",
       "      <td>20.319789</td>\n",
       "      <td>30.0</td>\n",
       "      <td>48.00</td>\n",
       "      <td>66.0</td>\n",
       "      <td>84.00</td>\n",
       "      <td>100.0</td>\n",
       "    </tr>\n",
       "    <tr>\n",
       "      <th>JobInvolvement</th>\n",
       "      <td>914.0</td>\n",
       "      <td>2.748359</td>\n",
       "      <td>0.709907</td>\n",
       "      <td>1.0</td>\n",
       "      <td>2.00</td>\n",
       "      <td>3.0</td>\n",
       "      <td>3.00</td>\n",
       "      <td>4.0</td>\n",
       "    </tr>\n",
       "    <tr>\n",
       "      <th>JobLevel</th>\n",
       "      <td>914.0</td>\n",
       "      <td>1.408096</td>\n",
       "      <td>0.496185</td>\n",
       "      <td>1.0</td>\n",
       "      <td>1.00</td>\n",
       "      <td>1.0</td>\n",
       "      <td>2.00</td>\n",
       "      <td>3.0</td>\n",
       "    </tr>\n",
       "    <tr>\n",
       "      <th>JobSatisfaction</th>\n",
       "      <td>914.0</td>\n",
       "      <td>2.724289</td>\n",
       "      <td>1.103872</td>\n",
       "      <td>1.0</td>\n",
       "      <td>2.00</td>\n",
       "      <td>3.0</td>\n",
       "      <td>4.00</td>\n",
       "      <td>4.0</td>\n",
       "    </tr>\n",
       "    <tr>\n",
       "      <th>MonthlyIncome</th>\n",
       "      <td>914.0</td>\n",
       "      <td>3598.175055</td>\n",
       "      <td>1243.553047</td>\n",
       "      <td>1009.0</td>\n",
       "      <td>2514.25</td>\n",
       "      <td>3428.5</td>\n",
       "      <td>4679.50</td>\n",
       "      <td>5993.0</td>\n",
       "    </tr>\n",
       "    <tr>\n",
       "      <th>MonthlyRate</th>\n",
       "      <td>914.0</td>\n",
       "      <td>14104.021882</td>\n",
       "      <td>7142.524219</td>\n",
       "      <td>2097.0</td>\n",
       "      <td>7744.75</td>\n",
       "      <td>13766.0</td>\n",
       "      <td>20246.25</td>\n",
       "      <td>26999.0</td>\n",
       "    </tr>\n",
       "    <tr>\n",
       "      <th>NumCompaniesWorked</th>\n",
       "      <td>914.0</td>\n",
       "      <td>2.475930</td>\n",
       "      <td>2.471296</td>\n",
       "      <td>0.0</td>\n",
       "      <td>1.00</td>\n",
       "      <td>1.0</td>\n",
       "      <td>4.00</td>\n",
       "      <td>9.0</td>\n",
       "    </tr>\n",
       "    <tr>\n",
       "      <th>PercentSalaryHike</th>\n",
       "      <td>914.0</td>\n",
       "      <td>15.250547</td>\n",
       "      <td>3.660216</td>\n",
       "      <td>11.0</td>\n",
       "      <td>12.00</td>\n",
       "      <td>14.0</td>\n",
       "      <td>18.00</td>\n",
       "      <td>25.0</td>\n",
       "    </tr>\n",
       "    <tr>\n",
       "      <th>PerformanceRating</th>\n",
       "      <td>914.0</td>\n",
       "      <td>3.158643</td>\n",
       "      <td>0.365543</td>\n",
       "      <td>3.0</td>\n",
       "      <td>3.00</td>\n",
       "      <td>3.0</td>\n",
       "      <td>3.00</td>\n",
       "      <td>4.0</td>\n",
       "    </tr>\n",
       "    <tr>\n",
       "      <th>RelationshipSatisfaction</th>\n",
       "      <td>914.0</td>\n",
       "      <td>2.698031</td>\n",
       "      <td>1.089960</td>\n",
       "      <td>1.0</td>\n",
       "      <td>2.00</td>\n",
       "      <td>3.0</td>\n",
       "      <td>4.00</td>\n",
       "      <td>4.0</td>\n",
       "    </tr>\n",
       "    <tr>\n",
       "      <th>StandardHours</th>\n",
       "      <td>914.0</td>\n",
       "      <td>80.000000</td>\n",
       "      <td>0.000000</td>\n",
       "      <td>80.0</td>\n",
       "      <td>80.00</td>\n",
       "      <td>80.0</td>\n",
       "      <td>80.00</td>\n",
       "      <td>80.0</td>\n",
       "    </tr>\n",
       "    <tr>\n",
       "      <th>StockOptionLevel</th>\n",
       "      <td>914.0</td>\n",
       "      <td>0.791028</td>\n",
       "      <td>0.872537</td>\n",
       "      <td>0.0</td>\n",
       "      <td>0.00</td>\n",
       "      <td>1.0</td>\n",
       "      <td>1.00</td>\n",
       "      <td>3.0</td>\n",
       "    </tr>\n",
       "    <tr>\n",
       "      <th>TotalWorkingYears</th>\n",
       "      <td>914.0</td>\n",
       "      <td>7.760394</td>\n",
       "      <td>4.793493</td>\n",
       "      <td>0.0</td>\n",
       "      <td>5.00</td>\n",
       "      <td>7.0</td>\n",
       "      <td>10.00</td>\n",
       "      <td>24.0</td>\n",
       "    </tr>\n",
       "    <tr>\n",
       "      <th>TrainingTimesLastYear</th>\n",
       "      <td>914.0</td>\n",
       "      <td>2.803063</td>\n",
       "      <td>1.276870</td>\n",
       "      <td>0.0</td>\n",
       "      <td>2.00</td>\n",
       "      <td>3.0</td>\n",
       "      <td>3.00</td>\n",
       "      <td>6.0</td>\n",
       "    </tr>\n",
       "    <tr>\n",
       "      <th>WorkLifeBalance</th>\n",
       "      <td>914.0</td>\n",
       "      <td>2.745077</td>\n",
       "      <td>0.712587</td>\n",
       "      <td>1.0</td>\n",
       "      <td>2.00</td>\n",
       "      <td>3.0</td>\n",
       "      <td>3.00</td>\n",
       "      <td>4.0</td>\n",
       "    </tr>\n",
       "    <tr>\n",
       "      <th>YearsAtCompany</th>\n",
       "      <td>914.0</td>\n",
       "      <td>5.159737</td>\n",
       "      <td>3.936055</td>\n",
       "      <td>0.0</td>\n",
       "      <td>2.00</td>\n",
       "      <td>5.0</td>\n",
       "      <td>7.00</td>\n",
       "      <td>24.0</td>\n",
       "    </tr>\n",
       "    <tr>\n",
       "      <th>YearsInCurrentRole</th>\n",
       "      <td>914.0</td>\n",
       "      <td>3.329322</td>\n",
       "      <td>3.038972</td>\n",
       "      <td>0.0</td>\n",
       "      <td>2.00</td>\n",
       "      <td>2.0</td>\n",
       "      <td>5.00</td>\n",
       "      <td>16.0</td>\n",
       "    </tr>\n",
       "    <tr>\n",
       "      <th>YearsSinceLastPromotion</th>\n",
       "      <td>914.0</td>\n",
       "      <td>1.504376</td>\n",
       "      <td>2.281523</td>\n",
       "      <td>0.0</td>\n",
       "      <td>0.00</td>\n",
       "      <td>1.0</td>\n",
       "      <td>2.00</td>\n",
       "      <td>15.0</td>\n",
       "    </tr>\n",
       "    <tr>\n",
       "      <th>YearsWithCurrManager</th>\n",
       "      <td>914.0</td>\n",
       "      <td>3.340263</td>\n",
       "      <td>3.088185</td>\n",
       "      <td>0.0</td>\n",
       "      <td>1.00</td>\n",
       "      <td>2.0</td>\n",
       "      <td>6.00</td>\n",
       "      <td>17.0</td>\n",
       "    </tr>\n",
       "  </tbody>\n",
       "</table>\n",
       "</div>"
      ],
      "text/plain": [
       "                          count          mean          std     min      25%  \\\n",
       "Age                       914.0     34.289934     8.475347    18.0    28.00   \n",
       "DailyRate                 914.0    799.514223   404.973260   103.0   464.25   \n",
       "DistanceFromHome          914.0      9.205689     8.026471     1.0     2.00   \n",
       "Education                 914.0      2.851204     1.030618     1.0     2.00   \n",
       "EmployeeCount             914.0      1.000000     0.000000     1.0     1.00   \n",
       "EmployeeNumber            914.0   1034.789934   613.109436     1.0   493.25   \n",
       "EnvironmentSatisfaction   914.0      2.723195     1.099123     1.0     2.00   \n",
       "HourlyRate                914.0     65.968271    20.319789    30.0    48.00   \n",
       "JobInvolvement            914.0      2.748359     0.709907     1.0     2.00   \n",
       "JobLevel                  914.0      1.408096     0.496185     1.0     1.00   \n",
       "JobSatisfaction           914.0      2.724289     1.103872     1.0     2.00   \n",
       "MonthlyIncome             914.0   3598.175055  1243.553047  1009.0  2514.25   \n",
       "MonthlyRate               914.0  14104.021882  7142.524219  2097.0  7744.75   \n",
       "NumCompaniesWorked        914.0      2.475930     2.471296     0.0     1.00   \n",
       "PercentSalaryHike         914.0     15.250547     3.660216    11.0    12.00   \n",
       "PerformanceRating         914.0      3.158643     0.365543     3.0     3.00   \n",
       "RelationshipSatisfaction  914.0      2.698031     1.089960     1.0     2.00   \n",
       "StandardHours             914.0     80.000000     0.000000    80.0    80.00   \n",
       "StockOptionLevel          914.0      0.791028     0.872537     0.0     0.00   \n",
       "TotalWorkingYears         914.0      7.760394     4.793493     0.0     5.00   \n",
       "TrainingTimesLastYear     914.0      2.803063     1.276870     0.0     2.00   \n",
       "WorkLifeBalance           914.0      2.745077     0.712587     1.0     2.00   \n",
       "YearsAtCompany            914.0      5.159737     3.936055     0.0     2.00   \n",
       "YearsInCurrentRole        914.0      3.329322     3.038972     0.0     2.00   \n",
       "YearsSinceLastPromotion   914.0      1.504376     2.281523     0.0     0.00   \n",
       "YearsWithCurrManager      914.0      3.340263     3.088185     0.0     1.00   \n",
       "\n",
       "                              50%       75%      max  \n",
       "Age                          33.5     39.00     60.0  \n",
       "DailyRate                   793.0   1157.00   1496.0  \n",
       "DistanceFromHome              7.0     14.00     29.0  \n",
       "Education                     3.0      4.00      5.0  \n",
       "EmployeeCount                 1.0      1.00      1.0  \n",
       "EmployeeNumber             1020.5   1595.50   2068.0  \n",
       "EnvironmentSatisfaction       3.0      4.00      4.0  \n",
       "HourlyRate                   66.0     84.00    100.0  \n",
       "JobInvolvement                3.0      3.00      4.0  \n",
       "JobLevel                      1.0      2.00      3.0  \n",
       "JobSatisfaction               3.0      4.00      4.0  \n",
       "MonthlyIncome              3428.5   4679.50   5993.0  \n",
       "MonthlyRate               13766.0  20246.25  26999.0  \n",
       "NumCompaniesWorked            1.0      4.00      9.0  \n",
       "PercentSalaryHike            14.0     18.00     25.0  \n",
       "PerformanceRating             3.0      3.00      4.0  \n",
       "RelationshipSatisfaction      3.0      4.00      4.0  \n",
       "StandardHours                80.0     80.00     80.0  \n",
       "StockOptionLevel              1.0      1.00      3.0  \n",
       "TotalWorkingYears             7.0     10.00     24.0  \n",
       "TrainingTimesLastYear         3.0      3.00      6.0  \n",
       "WorkLifeBalance               3.0      3.00      4.0  \n",
       "YearsAtCompany                5.0      7.00     24.0  \n",
       "YearsInCurrentRole            2.0      5.00     16.0  \n",
       "YearsSinceLastPromotion       1.0      2.00     15.0  \n",
       "YearsWithCurrManager          2.0      6.00     17.0  "
      ]
     },
     "execution_count": 652,
     "metadata": {},
     "output_type": "execute_result"
    }
   ],
   "source": [
    "df.describe().T\n",
    "\n",
    "#Age ; pretty grouped around 30-45\n",
    "#Daily Rate and Monthly Income really spread out "
   ]
  },
  {
   "cell_type": "markdown",
   "metadata": {},
   "source": [
    "# Cleaning / optimization"
   ]
  },
  {
   "cell_type": "code",
   "execution_count": 653,
   "metadata": {},
   "outputs": [],
   "source": [
    "#We can already drop the Id colum with 100% unique values \n",
    "df.EmployeeNumber.value_counts()\n",
    "df.drop('EmployeeNumber',axis=1,inplace=True)"
   ]
  },
  {
   "cell_type": "code",
   "execution_count": 654,
   "metadata": {},
   "outputs": [
    {
     "data": {
      "text/plain": [
       "Age                         0\n",
       "Attrition                   0\n",
       "BusinessTravel              0\n",
       "DailyRate                   0\n",
       "Department                  0\n",
       "DistanceFromHome            0\n",
       "Education                   0\n",
       "EducationField              0\n",
       "EmployeeCount               0\n",
       "EnvironmentSatisfaction     0\n",
       "Gender                      0\n",
       "HourlyRate                  0\n",
       "JobInvolvement              0\n",
       "JobLevel                    0\n",
       "JobRole                     0\n",
       "JobSatisfaction             0\n",
       "MaritalStatus               0\n",
       "MonthlyIncome               0\n",
       "MonthlyRate                 0\n",
       "NumCompaniesWorked          0\n",
       "Over18                      0\n",
       "OverTime                    0\n",
       "PercentSalaryHike           0\n",
       "PerformanceRating           0\n",
       "RelationshipSatisfaction    0\n",
       "StandardHours               0\n",
       "StockOptionLevel            0\n",
       "TotalWorkingYears           0\n",
       "TrainingTimesLastYear       0\n",
       "WorkLifeBalance             0\n",
       "YearsAtCompany              0\n",
       "YearsInCurrentRole          0\n",
       "YearsSinceLastPromotion     0\n",
       "YearsWithCurrManager        0\n",
       "dtype: int64"
      ]
     },
     "execution_count": 654,
     "metadata": {},
     "output_type": "execute_result"
    }
   ],
   "source": [
    "#No null values to clean (lucky team ;))\n",
    "df.isnull().sum()"
   ]
  },
  {
   "cell_type": "code",
   "execution_count": 655,
   "metadata": {},
   "outputs": [],
   "source": [
    "#Optimize the dataset\n",
    "dummies_list = []\n",
    "columns_to_drop_list = []"
   ]
  },
  {
   "cell_type": "code",
   "execution_count": 656,
   "metadata": {},
   "outputs": [],
   "source": [
    "df.Attrition.value_counts()\n",
    "columns_to_drop_list.append('Attrition')"
   ]
  },
  {
   "cell_type": "code",
   "execution_count": null,
   "metadata": {},
   "outputs": [],
   "source": []
  },
  {
   "cell_type": "code",
   "execution_count": 657,
   "metadata": {},
   "outputs": [
    {
     "data": {
      "text/plain": [
       "Travel_Rarely        634\n",
       "Travel_Frequently    185\n",
       "Non-Travel            95\n",
       "Name: BusinessTravel, dtype: int64"
      ]
     },
     "execution_count": 657,
     "metadata": {},
     "output_type": "execute_result"
    }
   ],
   "source": [
    "df.BusinessTravel.value_counts()"
   ]
  },
  {
   "cell_type": "code",
   "execution_count": 658,
   "metadata": {},
   "outputs": [
    {
     "data": {
      "text/plain": [
       "1    634\n",
       "2    185\n",
       "0     95\n",
       "Name: BusinessTravel, dtype: int64"
      ]
     },
     "execution_count": 658,
     "metadata": {},
     "output_type": "execute_result"
    }
   ],
   "source": [
    "df.BusinessTravel = df.BusinessTravel.map({'Non-Travel':0,'Travel_Rarely':1,'Travel_Frequently':2})\n",
    "df.BusinessTravel.value_counts()"
   ]
  },
  {
   "cell_type": "code",
   "execution_count": 659,
   "metadata": {},
   "outputs": [
    {
     "data": {
      "text/plain": [
       "329     5\n",
       "933     4\n",
       "1329    4\n",
       "1157    4\n",
       "408     4\n",
       "       ..\n",
       "599     1\n",
       "600     1\n",
       "603     1\n",
       "604     1\n",
       "1210    1\n",
       "Name: DailyRate, Length: 669, dtype: int64"
      ]
     },
     "execution_count": 659,
     "metadata": {},
     "output_type": "execute_result"
    }
   ],
   "source": [
    "df.DailyRate.value_counts()"
   ]
  },
  {
   "cell_type": "code",
   "execution_count": 660,
   "metadata": {},
   "outputs": [
    {
     "data": {
      "text/plain": [
       "Research & Development    642\n",
       "Sales                     232\n",
       "Human Resources            40\n",
       "Name: Department, dtype: int64"
      ]
     },
     "execution_count": 660,
     "metadata": {},
     "output_type": "execute_result"
    }
   ],
   "source": [
    "df.Department.value_counts()"
   ]
  },
  {
   "cell_type": "code",
   "execution_count": 661,
   "metadata": {},
   "outputs": [],
   "source": [
    "df.Department = df.Department.map({'Human Resources':'HR','Sales':'Sales','Research & Development':'R&D'})\n",
    "dummies_list.append('Department')"
   ]
  },
  {
   "cell_type": "code",
   "execution_count": 662,
   "metadata": {},
   "outputs": [
    {
     "data": {
      "text/plain": [
       "2     133\n",
       "1     125\n",
       "9      62\n",
       "3      51\n",
       "10     50\n",
       "7      49\n",
       "8      48\n",
       "4      40\n",
       "5      39\n",
       "6      39\n",
       "16     23\n",
       "24     19\n",
       "23     19\n",
       "19     18\n",
       "29     17\n",
       "11     16\n",
       "18     16\n",
       "20     15\n",
       "25     15\n",
       "14     14\n",
       "13     14\n",
       "21     14\n",
       "12     13\n",
       "15     13\n",
       "17     12\n",
       "26     12\n",
       "28     11\n",
       "22      9\n",
       "27      8\n",
       "Name: DistanceFromHome, dtype: int64"
      ]
     },
     "execution_count": 662,
     "metadata": {},
     "output_type": "execute_result"
    }
   ],
   "source": [
    "df.DistanceFromHome.value_counts()"
   ]
  },
  {
   "cell_type": "code",
   "execution_count": 663,
   "metadata": {},
   "outputs": [
    {
     "data": {
      "text/plain": [
       "3    347\n",
       "4    240\n",
       "2    186\n",
       "1    118\n",
       "5     23\n",
       "Name: Education, dtype: int64"
      ]
     },
     "execution_count": 663,
     "metadata": {},
     "output_type": "execute_result"
    }
   ],
   "source": [
    "df.Education.value_counts()"
   ]
  },
  {
   "cell_type": "code",
   "execution_count": 664,
   "metadata": {},
   "outputs": [],
   "source": [
    "df.EducationField.value_counts()\n",
    "#Create dummies from this column\n",
    "\n",
    "dummies_list.append('EducationField')"
   ]
  },
  {
   "cell_type": "code",
   "execution_count": 665,
   "metadata": {},
   "outputs": [],
   "source": [
    "df.EmployeeCount.value_counts()\n",
    "#No need to keep it \n",
    "columns_to_drop_list.append('EmployeeCount')"
   ]
  },
  {
   "cell_type": "code",
   "execution_count": 666,
   "metadata": {},
   "outputs": [
    {
     "data": {
      "text/plain": [
       "4    283\n",
       "3    272\n",
       "2    182\n",
       "1    177\n",
       "Name: EnvironmentSatisfaction, dtype: int64"
      ]
     },
     "execution_count": 666,
     "metadata": {},
     "output_type": "execute_result"
    }
   ],
   "source": [
    "df.EnvironmentSatisfaction.value_counts()\n",
    "#No need to do anything"
   ]
  },
  {
   "cell_type": "code",
   "execution_count": 667,
   "metadata": {},
   "outputs": [
    {
     "data": {
      "text/plain": [
       "Male      557\n",
       "Female    357\n",
       "Name: Gender, dtype: int64"
      ]
     },
     "execution_count": 667,
     "metadata": {},
     "output_type": "execute_result"
    }
   ],
   "source": [
    "df.Gender.value_counts()"
   ]
  },
  {
   "cell_type": "code",
   "execution_count": 668,
   "metadata": {},
   "outputs": [],
   "source": [
    "df.Gender = df.Gender.map({'Male':1,'Female':0})\n"
   ]
  },
  {
   "cell_type": "code",
   "execution_count": 669,
   "metadata": {},
   "outputs": [
    {
     "data": {
      "text/plain": [
       "1    557\n",
       "0    357\n",
       "Name: Gender, dtype: int64"
      ]
     },
     "execution_count": 669,
     "metadata": {},
     "output_type": "execute_result"
    }
   ],
   "source": [
    "df.Gender.value_counts()"
   ]
  },
  {
   "cell_type": "code",
   "execution_count": 670,
   "metadata": {},
   "outputs": [
    {
     "data": {
      "text/plain": [
       "0       94\n",
       "1       61\n",
       "2       92\n",
       "3       56\n",
       "4       40\n",
       "        ..\n",
       "1460    73\n",
       "1464    30\n",
       "1465    41\n",
       "1468    63\n",
       "1469    82\n",
       "Name: HourlyRate, Length: 914, dtype: int64"
      ]
     },
     "execution_count": 670,
     "metadata": {},
     "output_type": "execute_result"
    }
   ],
   "source": [
    "df.HourlyRate"
   ]
  },
  {
   "cell_type": "code",
   "execution_count": 671,
   "metadata": {},
   "outputs": [
    {
     "data": {
      "text/plain": [
       "3    546\n",
       "2    224\n",
       "4     94\n",
       "1     50\n",
       "Name: JobInvolvement, dtype: int64"
      ]
     },
     "execution_count": 671,
     "metadata": {},
     "output_type": "execute_result"
    }
   ],
   "source": [
    "df.JobInvolvement.value_counts()"
   ]
  },
  {
   "cell_type": "code",
   "execution_count": 672,
   "metadata": {},
   "outputs": [
    {
     "data": {
      "text/plain": [
       "1    543\n",
       "2    369\n",
       "3      2\n",
       "Name: JobLevel, dtype: int64"
      ]
     },
     "execution_count": 672,
     "metadata": {},
     "output_type": "execute_result"
    }
   ],
   "source": [
    "df.JobLevel.value_counts()"
   ]
  },
  {
   "cell_type": "code",
   "execution_count": 673,
   "metadata": {},
   "outputs": [],
   "source": [
    "df.JobRole.value_counts()\n",
    "#Create dummies from this column\n",
    "dummies_list.append('JobRole')"
   ]
  },
  {
   "cell_type": "code",
   "execution_count": 674,
   "metadata": {},
   "outputs": [
    {
     "data": {
      "text/plain": [
       "4    283\n",
       "3    278\n",
       "1    182\n",
       "2    171\n",
       "Name: JobSatisfaction, dtype: int64"
      ]
     },
     "execution_count": 674,
     "metadata": {},
     "output_type": "execute_result"
    }
   ],
   "source": [
    "df.JobSatisfaction.value_counts()"
   ]
  },
  {
   "cell_type": "code",
   "execution_count": 675,
   "metadata": {},
   "outputs": [],
   "source": [
    "df.MaritalStatus.value_counts()\n",
    "#Create dummies from this column\n",
    "dummies_list.append('MaritalStatus')"
   ]
  },
  {
   "cell_type": "code",
   "execution_count": 676,
   "metadata": {},
   "outputs": [
    {
     "data": {
      "text/plain": [
       "2342    4\n",
       "2404    3\n",
       "2451    3\n",
       "2610    3\n",
       "2741    3\n",
       "       ..\n",
       "3229    1\n",
       "3221    1\n",
       "5265    1\n",
       "3212    1\n",
       "4103    1\n",
       "Name: MonthlyIncome, Length: 810, dtype: int64"
      ]
     },
     "execution_count": 676,
     "metadata": {},
     "output_type": "execute_result"
    }
   ],
   "source": [
    "df.MonthlyIncome.value_counts()"
   ]
  },
  {
   "cell_type": "code",
   "execution_count": 677,
   "metadata": {},
   "outputs": [
    {
     "data": {
      "text/plain": [
       "1    380\n",
       "0    136\n",
       "4     78\n",
       "3     75\n",
       "2     68\n",
       "6     41\n",
       "7     38\n",
       "5     38\n",
       "8     32\n",
       "9     28\n",
       "Name: NumCompaniesWorked, dtype: int64"
      ]
     },
     "execution_count": 677,
     "metadata": {},
     "output_type": "execute_result"
    }
   ],
   "source": [
    "df.NumCompaniesWorked.value_counts()"
   ]
  },
  {
   "cell_type": "code",
   "execution_count": 678,
   "metadata": {},
   "outputs": [],
   "source": [
    "df.Over18.value_counts()\n",
    "#As long as 100% are over 18 we can drop this column\n",
    "columns_to_drop_list.append('Over18')"
   ]
  },
  {
   "cell_type": "code",
   "execution_count": 679,
   "metadata": {},
   "outputs": [
    {
     "data": {
      "text/plain": [
       "0    659\n",
       "1    255\n",
       "Name: OverTime, dtype: int64"
      ]
     },
     "execution_count": 679,
     "metadata": {},
     "output_type": "execute_result"
    }
   ],
   "source": [
    "df.OverTime.value_counts()\n",
    "df.OverTime = df.OverTime.map({'No':0,'Yes':1})\n",
    "df.OverTime.value_counts()\n"
   ]
  },
  {
   "cell_type": "code",
   "execution_count": 680,
   "metadata": {},
   "outputs": [
    {
     "data": {
      "text/plain": [
       "13    140\n",
       "14    124\n",
       "12    123\n",
       "11    122\n",
       "15     57\n",
       "18     56\n",
       "17     51\n",
       "16     50\n",
       "19     46\n",
       "20     39\n",
       "22     36\n",
       "21     28\n",
       "23     18\n",
       "24     13\n",
       "25     11\n",
       "Name: PercentSalaryHike, dtype: int64"
      ]
     },
     "execution_count": 680,
     "metadata": {},
     "output_type": "execute_result"
    }
   ],
   "source": [
    "df.PercentSalaryHike.value_counts()"
   ]
  },
  {
   "cell_type": "code",
   "execution_count": 681,
   "metadata": {},
   "outputs": [
    {
     "data": {
      "text/plain": [
       "3    769\n",
       "4    145\n",
       "Name: PerformanceRating, dtype: int64"
      ]
     },
     "execution_count": 681,
     "metadata": {},
     "output_type": "execute_result"
    }
   ],
   "source": [
    "df.PerformanceRating.value_counts()"
   ]
  },
  {
   "cell_type": "code",
   "execution_count": 682,
   "metadata": {},
   "outputs": [
    {
     "data": {
      "text/plain": [
       "3    283\n",
       "4    267\n",
       "2    185\n",
       "1    179\n",
       "Name: RelationshipSatisfaction, dtype: int64"
      ]
     },
     "execution_count": 682,
     "metadata": {},
     "output_type": "execute_result"
    }
   ],
   "source": [
    "df.RelationshipSatisfaction.value_counts()"
   ]
  },
  {
   "cell_type": "code",
   "execution_count": 683,
   "metadata": {},
   "outputs": [],
   "source": [
    "df.StandardHours.value_counts()\n",
    "#Same value for all we can drop this column \n",
    "columns_to_drop_list.append('StandardHours')"
   ]
  },
  {
   "cell_type": "code",
   "execution_count": 684,
   "metadata": {},
   "outputs": [
    {
     "data": {
      "text/plain": [
       "0    407\n",
       "1    347\n",
       "2    104\n",
       "3     56\n",
       "Name: StockOptionLevel, dtype: int64"
      ]
     },
     "execution_count": 684,
     "metadata": {},
     "output_type": "execute_result"
    }
   ],
   "source": [
    "df.StockOptionLevel.value_counts()"
   ]
  },
  {
   "cell_type": "code",
   "execution_count": 685,
   "metadata": {},
   "outputs": [
    {
     "data": {
      "text/plain": [
       "10    116\n",
       "6      99\n",
       "5      88\n",
       "8      83\n",
       "1      81\n",
       "7      69\n",
       "4      63\n",
       "9      46\n",
       "3      42\n",
       "2      31\n",
       "12     26\n",
       "13     22\n",
       "11     22\n",
       "15     20\n",
       "20     20\n",
       "16     17\n",
       "17     17\n",
       "19     15\n",
       "14     12\n",
       "18     12\n",
       "0      11\n",
       "23      1\n",
       "24      1\n",
       "Name: TotalWorkingYears, dtype: int64"
      ]
     },
     "execution_count": 685,
     "metadata": {},
     "output_type": "execute_result"
    }
   ],
   "source": [
    "df.TotalWorkingYears.value_counts()"
   ]
  },
  {
   "cell_type": "code",
   "execution_count": 686,
   "metadata": {},
   "outputs": [
    {
     "data": {
      "text/plain": [
       "2    337\n",
       "3    308\n",
       "4     83\n",
       "5     74\n",
       "1     40\n",
       "6     37\n",
       "0     35\n",
       "Name: TrainingTimesLastYear, dtype: int64"
      ]
     },
     "execution_count": 686,
     "metadata": {},
     "output_type": "execute_result"
    }
   ],
   "source": [
    "df.TrainingTimesLastYear.value_counts()"
   ]
  },
  {
   "cell_type": "code",
   "execution_count": 687,
   "metadata": {},
   "outputs": [
    {
     "data": {
      "text/plain": [
       "3    553\n",
       "2    216\n",
       "4     91\n",
       "1     54\n",
       "Name: WorkLifeBalance, dtype: int64"
      ]
     },
     "execution_count": 687,
     "metadata": {},
     "output_type": "execute_result"
    }
   ],
   "source": [
    "df.WorkLifeBalance.value_counts()"
   ]
  },
  {
   "cell_type": "code",
   "execution_count": 688,
   "metadata": {},
   "outputs": [
    {
     "data": {
      "text/plain": [
       "5     140\n",
       "1     132\n",
       "2     100\n",
       "3      98\n",
       "4      86\n",
       "10     65\n",
       "7      52\n",
       "6      48\n",
       "8      45\n",
       "9      41\n",
       "0      36\n",
       "11     19\n",
       "15     13\n",
       "13     11\n",
       "20      8\n",
       "12      6\n",
       "16      4\n",
       "14      3\n",
       "17      3\n",
       "18      2\n",
       "19      1\n",
       "24      1\n",
       "Name: YearsAtCompany, dtype: int64"
      ]
     },
     "execution_count": 688,
     "metadata": {},
     "output_type": "execute_result"
    }
   ],
   "source": [
    "df.YearsAtCompany.value_counts()"
   ]
  },
  {
   "cell_type": "code",
   "execution_count": 689,
   "metadata": {},
   "outputs": [
    {
     "data": {
      "text/plain": [
       "2     289\n",
       "0     179\n",
       "7     115\n",
       "3      98\n",
       "4      65\n",
       "1      42\n",
       "8      34\n",
       "5      24\n",
       "9      23\n",
       "6      11\n",
       "10     10\n",
       "11      9\n",
       "13      7\n",
       "12      3\n",
       "14      3\n",
       "15      1\n",
       "16      1\n",
       "Name: YearsInCurrentRole, dtype: int64"
      ]
     },
     "execution_count": 689,
     "metadata": {},
     "output_type": "execute_result"
    }
   ],
   "source": [
    "df.YearsInCurrentRole.value_counts()"
   ]
  },
  {
   "cell_type": "code",
   "execution_count": 690,
   "metadata": {},
   "outputs": [
    {
     "data": {
      "text/plain": [
       "0     407\n",
       "1     236\n",
       "2     115\n",
       "7      42\n",
       "3      31\n",
       "5      25\n",
       "4      20\n",
       "6      14\n",
       "8       8\n",
       "9       5\n",
       "11      4\n",
       "10      4\n",
       "15      1\n",
       "13      1\n",
       "12      1\n",
       "Name: YearsSinceLastPromotion, dtype: int64"
      ]
     },
     "execution_count": 690,
     "metadata": {},
     "output_type": "execute_result"
    }
   ],
   "source": [
    "df.YearsSinceLastPromotion.value_counts()"
   ]
  },
  {
   "cell_type": "code",
   "execution_count": 691,
   "metadata": {},
   "outputs": [
    {
     "data": {
      "text/plain": [
       "2     262\n",
       "0     192\n",
       "7     117\n",
       "3     100\n",
       "4      63\n",
       "8      51\n",
       "1      49\n",
       "9      25\n",
       "5      18\n",
       "6      10\n",
       "10      9\n",
       "12      5\n",
       "11      4\n",
       "13      4\n",
       "17      3\n",
       "15      1\n",
       "14      1\n",
       "Name: YearsWithCurrManager, dtype: int64"
      ]
     },
     "execution_count": 691,
     "metadata": {},
     "output_type": "execute_result"
    }
   ],
   "source": [
    "df.YearsWithCurrManager.value_counts()"
   ]
  },
  {
   "cell_type": "code",
   "execution_count": 692,
   "metadata": {},
   "outputs": [],
   "source": [
    "df1=pd.get_dummies(data=df, columns=dummies_list, drop_first=True)"
   ]
  },
  {
   "cell_type": "code",
   "execution_count": 693,
   "metadata": {},
   "outputs": [],
   "source": [
    "df1.drop(columns_to_drop_list, axis=1, inplace=True)"
   ]
  },
  {
   "cell_type": "code",
   "execution_count": 694,
   "metadata": {},
   "outputs": [
    {
     "data": {
      "text/plain": [
       "(914, 41)"
      ]
     },
     "execution_count": 694,
     "metadata": {},
     "output_type": "execute_result"
    }
   ],
   "source": [
    "df1.shape"
   ]
  },
  {
   "cell_type": "code",
   "execution_count": 695,
   "metadata": {},
   "outputs": [
    {
     "data": {
      "text/html": [
       "<div>\n",
       "<style scoped>\n",
       "    .dataframe tbody tr th:only-of-type {\n",
       "        vertical-align: middle;\n",
       "    }\n",
       "\n",
       "    .dataframe tbody tr th {\n",
       "        vertical-align: top;\n",
       "    }\n",
       "\n",
       "    .dataframe thead th {\n",
       "        text-align: right;\n",
       "    }\n",
       "</style>\n",
       "<table border=\"1\" class=\"dataframe\">\n",
       "  <thead>\n",
       "    <tr style=\"text-align: right;\">\n",
       "      <th></th>\n",
       "      <th>Age</th>\n",
       "      <th>BusinessTravel</th>\n",
       "      <th>DailyRate</th>\n",
       "      <th>DistanceFromHome</th>\n",
       "      <th>Education</th>\n",
       "      <th>EnvironmentSatisfaction</th>\n",
       "      <th>Gender</th>\n",
       "      <th>HourlyRate</th>\n",
       "      <th>JobInvolvement</th>\n",
       "      <th>JobLevel</th>\n",
       "      <th>...</th>\n",
       "      <th>EducationField_Other</th>\n",
       "      <th>EducationField_Technical Degree</th>\n",
       "      <th>JobRole_Human Resources</th>\n",
       "      <th>JobRole_Laboratory Technician</th>\n",
       "      <th>JobRole_Manufacturing Director</th>\n",
       "      <th>JobRole_Research Scientist</th>\n",
       "      <th>JobRole_Sales Executive</th>\n",
       "      <th>JobRole_Sales Representative</th>\n",
       "      <th>MaritalStatus_Married</th>\n",
       "      <th>MaritalStatus_Single</th>\n",
       "    </tr>\n",
       "  </thead>\n",
       "  <tbody>\n",
       "    <tr>\n",
       "      <th>0</th>\n",
       "      <td>41</td>\n",
       "      <td>1</td>\n",
       "      <td>1102</td>\n",
       "      <td>1</td>\n",
       "      <td>2</td>\n",
       "      <td>2</td>\n",
       "      <td>0</td>\n",
       "      <td>94</td>\n",
       "      <td>3</td>\n",
       "      <td>2</td>\n",
       "      <td>...</td>\n",
       "      <td>0</td>\n",
       "      <td>0</td>\n",
       "      <td>0</td>\n",
       "      <td>0</td>\n",
       "      <td>0</td>\n",
       "      <td>0</td>\n",
       "      <td>1</td>\n",
       "      <td>0</td>\n",
       "      <td>0</td>\n",
       "      <td>1</td>\n",
       "    </tr>\n",
       "    <tr>\n",
       "      <th>1</th>\n",
       "      <td>49</td>\n",
       "      <td>2</td>\n",
       "      <td>279</td>\n",
       "      <td>8</td>\n",
       "      <td>1</td>\n",
       "      <td>3</td>\n",
       "      <td>1</td>\n",
       "      <td>61</td>\n",
       "      <td>2</td>\n",
       "      <td>2</td>\n",
       "      <td>...</td>\n",
       "      <td>0</td>\n",
       "      <td>0</td>\n",
       "      <td>0</td>\n",
       "      <td>0</td>\n",
       "      <td>0</td>\n",
       "      <td>1</td>\n",
       "      <td>0</td>\n",
       "      <td>0</td>\n",
       "      <td>1</td>\n",
       "      <td>0</td>\n",
       "    </tr>\n",
       "    <tr>\n",
       "      <th>2</th>\n",
       "      <td>37</td>\n",
       "      <td>1</td>\n",
       "      <td>1373</td>\n",
       "      <td>2</td>\n",
       "      <td>2</td>\n",
       "      <td>4</td>\n",
       "      <td>1</td>\n",
       "      <td>92</td>\n",
       "      <td>2</td>\n",
       "      <td>1</td>\n",
       "      <td>...</td>\n",
       "      <td>1</td>\n",
       "      <td>0</td>\n",
       "      <td>0</td>\n",
       "      <td>1</td>\n",
       "      <td>0</td>\n",
       "      <td>0</td>\n",
       "      <td>0</td>\n",
       "      <td>0</td>\n",
       "      <td>0</td>\n",
       "      <td>1</td>\n",
       "    </tr>\n",
       "    <tr>\n",
       "      <th>3</th>\n",
       "      <td>33</td>\n",
       "      <td>2</td>\n",
       "      <td>1392</td>\n",
       "      <td>3</td>\n",
       "      <td>4</td>\n",
       "      <td>4</td>\n",
       "      <td>0</td>\n",
       "      <td>56</td>\n",
       "      <td>3</td>\n",
       "      <td>1</td>\n",
       "      <td>...</td>\n",
       "      <td>0</td>\n",
       "      <td>0</td>\n",
       "      <td>0</td>\n",
       "      <td>0</td>\n",
       "      <td>0</td>\n",
       "      <td>1</td>\n",
       "      <td>0</td>\n",
       "      <td>0</td>\n",
       "      <td>1</td>\n",
       "      <td>0</td>\n",
       "    </tr>\n",
       "    <tr>\n",
       "      <th>4</th>\n",
       "      <td>27</td>\n",
       "      <td>1</td>\n",
       "      <td>591</td>\n",
       "      <td>2</td>\n",
       "      <td>1</td>\n",
       "      <td>1</td>\n",
       "      <td>1</td>\n",
       "      <td>40</td>\n",
       "      <td>3</td>\n",
       "      <td>1</td>\n",
       "      <td>...</td>\n",
       "      <td>0</td>\n",
       "      <td>0</td>\n",
       "      <td>0</td>\n",
       "      <td>1</td>\n",
       "      <td>0</td>\n",
       "      <td>0</td>\n",
       "      <td>0</td>\n",
       "      <td>0</td>\n",
       "      <td>1</td>\n",
       "      <td>0</td>\n",
       "    </tr>\n",
       "  </tbody>\n",
       "</table>\n",
       "<p>5 rows × 41 columns</p>\n",
       "</div>"
      ],
      "text/plain": [
       "   Age  BusinessTravel  DailyRate  DistanceFromHome  Education  \\\n",
       "0   41               1       1102                 1          2   \n",
       "1   49               2        279                 8          1   \n",
       "2   37               1       1373                 2          2   \n",
       "3   33               2       1392                 3          4   \n",
       "4   27               1        591                 2          1   \n",
       "\n",
       "   EnvironmentSatisfaction  Gender  HourlyRate  JobInvolvement  JobLevel  ...  \\\n",
       "0                        2       0          94               3         2  ...   \n",
       "1                        3       1          61               2         2  ...   \n",
       "2                        4       1          92               2         1  ...   \n",
       "3                        4       0          56               3         1  ...   \n",
       "4                        1       1          40               3         1  ...   \n",
       "\n",
       "   EducationField_Other  EducationField_Technical Degree  \\\n",
       "0                     0                                0   \n",
       "1                     0                                0   \n",
       "2                     1                                0   \n",
       "3                     0                                0   \n",
       "4                     0                                0   \n",
       "\n",
       "   JobRole_Human Resources  JobRole_Laboratory Technician  \\\n",
       "0                        0                              0   \n",
       "1                        0                              0   \n",
       "2                        0                              1   \n",
       "3                        0                              0   \n",
       "4                        0                              1   \n",
       "\n",
       "   JobRole_Manufacturing Director  JobRole_Research Scientist  \\\n",
       "0                               0                           0   \n",
       "1                               0                           1   \n",
       "2                               0                           0   \n",
       "3                               0                           1   \n",
       "4                               0                           0   \n",
       "\n",
       "   JobRole_Sales Executive  JobRole_Sales Representative  \\\n",
       "0                        1                             0   \n",
       "1                        0                             0   \n",
       "2                        0                             0   \n",
       "3                        0                             0   \n",
       "4                        0                             0   \n",
       "\n",
       "   MaritalStatus_Married  MaritalStatus_Single  \n",
       "0                      0                     1  \n",
       "1                      1                     0  \n",
       "2                      0                     1  \n",
       "3                      1                     0  \n",
       "4                      1                     0  \n",
       "\n",
       "[5 rows x 41 columns]"
      ]
     },
     "execution_count": 695,
     "metadata": {},
     "output_type": "execute_result"
    }
   ],
   "source": [
    "df1.head()"
   ]
  },
  {
   "cell_type": "code",
   "execution_count": 696,
   "metadata": {},
   "outputs": [
    {
     "data": {
      "text/plain": [
       "Index(['Age', 'BusinessTravel', 'DailyRate', 'DistanceFromHome', 'Education',\n",
       "       'EnvironmentSatisfaction', 'Gender', 'HourlyRate', 'JobInvolvement',\n",
       "       'JobLevel', 'JobSatisfaction', 'MonthlyIncome', 'MonthlyRate',\n",
       "       'NumCompaniesWorked', 'OverTime', 'PercentSalaryHike',\n",
       "       'PerformanceRating', 'RelationshipSatisfaction', 'StockOptionLevel',\n",
       "       'TotalWorkingYears', 'TrainingTimesLastYear', 'WorkLifeBalance',\n",
       "       'YearsAtCompany', 'YearsInCurrentRole', 'YearsSinceLastPromotion',\n",
       "       'YearsWithCurrManager', 'Department_R&D', 'Department_Sales',\n",
       "       'EducationField_Life Sciences', 'EducationField_Marketing',\n",
       "       'EducationField_Medical', 'EducationField_Other',\n",
       "       'EducationField_Technical Degree', 'JobRole_Human Resources',\n",
       "       'JobRole_Laboratory Technician', 'JobRole_Manufacturing Director',\n",
       "       'JobRole_Research Scientist', 'JobRole_Sales Executive',\n",
       "       'JobRole_Sales Representative', 'MaritalStatus_Married',\n",
       "       'MaritalStatus_Single'],\n",
       "      dtype='object')"
      ]
     },
     "execution_count": 696,
     "metadata": {},
     "output_type": "execute_result"
    }
   ],
   "source": [
    "df1.columns"
   ]
  },
  {
   "cell_type": "markdown",
   "metadata": {},
   "source": [
    "# Modeling"
   ]
  },
  {
   "cell_type": "code",
   "execution_count": 697,
   "metadata": {},
   "outputs": [
    {
     "data": {
      "text/plain": [
       "Age                                int64\n",
       "BusinessTravel                     int64\n",
       "DailyRate                          int64\n",
       "DistanceFromHome                   int64\n",
       "Education                          int64\n",
       "EnvironmentSatisfaction            int64\n",
       "Gender                             int64\n",
       "HourlyRate                         int64\n",
       "JobInvolvement                     int64\n",
       "JobLevel                           int64\n",
       "JobSatisfaction                    int64\n",
       "MonthlyIncome                      int64\n",
       "MonthlyRate                        int64\n",
       "NumCompaniesWorked                 int64\n",
       "OverTime                           int64\n",
       "PercentSalaryHike                  int64\n",
       "PerformanceRating                  int64\n",
       "RelationshipSatisfaction           int64\n",
       "StockOptionLevel                   int64\n",
       "TotalWorkingYears                  int64\n",
       "TrainingTimesLastYear              int64\n",
       "WorkLifeBalance                    int64\n",
       "YearsAtCompany                     int64\n",
       "YearsInCurrentRole                 int64\n",
       "YearsSinceLastPromotion            int64\n",
       "YearsWithCurrManager               int64\n",
       "Department_R&D                     uint8\n",
       "Department_Sales                   uint8\n",
       "EducationField_Life Sciences       uint8\n",
       "EducationField_Marketing           uint8\n",
       "EducationField_Medical             uint8\n",
       "EducationField_Other               uint8\n",
       "EducationField_Technical Degree    uint8\n",
       "JobRole_Human Resources            uint8\n",
       "JobRole_Laboratory Technician      uint8\n",
       "JobRole_Manufacturing Director     uint8\n",
       "JobRole_Research Scientist         uint8\n",
       "JobRole_Sales Executive            uint8\n",
       "JobRole_Sales Representative       uint8\n",
       "MaritalStatus_Married              uint8\n",
       "MaritalStatus_Single               uint8\n",
       "dtype: object"
      ]
     },
     "execution_count": 697,
     "metadata": {},
     "output_type": "execute_result"
    }
   ],
   "source": [
    "df1.dtypes"
   ]
  },
  {
   "cell_type": "code",
   "execution_count": 698,
   "metadata": {},
   "outputs": [],
   "source": [
    "y=df1.MonthlyIncome\n",
    "X=df1.drop('MonthlyIncome',axis=1)"
   ]
  },
  {
   "cell_type": "code",
   "execution_count": 699,
   "metadata": {},
   "outputs": [],
   "source": [
    "model=sm.OLS(y,add_constant(X))"
   ]
  },
  {
   "cell_type": "code",
   "execution_count": 700,
   "metadata": {},
   "outputs": [],
   "source": [
    "model_fit=model.fit()"
   ]
  },
  {
   "cell_type": "code",
   "execution_count": 701,
   "metadata": {},
   "outputs": [
    {
     "data": {
      "text/html": [
       "<table class=\"simpletable\">\n",
       "<caption>OLS Regression Results</caption>\n",
       "<tr>\n",
       "  <th>Dep. Variable:</th>      <td>MonthlyIncome</td>  <th>  R-squared:         </th> <td>   0.678</td> \n",
       "</tr>\n",
       "<tr>\n",
       "  <th>Model:</th>                   <td>OLS</td>       <th>  Adj. R-squared:    </th> <td>   0.664</td> \n",
       "</tr>\n",
       "<tr>\n",
       "  <th>Method:</th>             <td>Least Squares</td>  <th>  F-statistic:       </th> <td>   48.53</td> \n",
       "</tr>\n",
       "<tr>\n",
       "  <th>Date:</th>             <td>Fri, 01 May 2020</td> <th>  Prob (F-statistic):</th> <td>2.69e-187</td>\n",
       "</tr>\n",
       "<tr>\n",
       "  <th>Time:</th>                 <td>12:33:13</td>     <th>  Log-Likelihood:    </th> <td> -7291.1</td> \n",
       "</tr>\n",
       "<tr>\n",
       "  <th>No. Observations:</th>      <td>   914</td>      <th>  AIC:               </th> <td>1.466e+04</td>\n",
       "</tr>\n",
       "<tr>\n",
       "  <th>Df Residuals:</th>          <td>   875</td>      <th>  BIC:               </th> <td>1.485e+04</td>\n",
       "</tr>\n",
       "<tr>\n",
       "  <th>Df Model:</th>              <td>    38</td>      <th>                     </th>     <td> </td>    \n",
       "</tr>\n",
       "<tr>\n",
       "  <th>Covariance Type:</th>      <td>nonrobust</td>    <th>                     </th>     <td> </td>    \n",
       "</tr>\n",
       "</table>\n",
       "<table class=\"simpletable\">\n",
       "<tr>\n",
       "                 <td></td>                    <th>coef</th>     <th>std err</th>      <th>t</th>      <th>P>|t|</th>  <th>[0.025</th>    <th>0.975]</th>  \n",
       "</tr>\n",
       "<tr>\n",
       "  <th>const</th>                           <td> 1174.3184</td> <td>  302.983</td> <td>    3.876</td> <td> 0.000</td> <td>  579.660</td> <td> 1768.977</td>\n",
       "</tr>\n",
       "<tr>\n",
       "  <th>Age</th>                             <td>    5.0090</td> <td>    3.516</td> <td>    1.425</td> <td> 0.155</td> <td>   -1.891</td> <td>   11.909</td>\n",
       "</tr>\n",
       "<tr>\n",
       "  <th>BusinessTravel</th>                  <td>   94.2167</td> <td>   44.600</td> <td>    2.112</td> <td> 0.035</td> <td>    6.681</td> <td>  181.753</td>\n",
       "</tr>\n",
       "<tr>\n",
       "  <th>DailyRate</th>                       <td>    0.0716</td> <td>    0.060</td> <td>    1.187</td> <td> 0.236</td> <td>   -0.047</td> <td>    0.190</td>\n",
       "</tr>\n",
       "<tr>\n",
       "  <th>DistanceFromHome</th>                <td>   -0.8003</td> <td>    3.033</td> <td>   -0.264</td> <td> 0.792</td> <td>   -6.753</td> <td>    5.153</td>\n",
       "</tr>\n",
       "<tr>\n",
       "  <th>Education</th>                       <td>   43.4523</td> <td>   24.529</td> <td>    1.771</td> <td> 0.077</td> <td>   -4.690</td> <td>   91.595</td>\n",
       "</tr>\n",
       "<tr>\n",
       "  <th>EnvironmentSatisfaction</th>         <td>  -39.0574</td> <td>   22.167</td> <td>   -1.762</td> <td> 0.078</td> <td>  -82.565</td> <td>    4.450</td>\n",
       "</tr>\n",
       "<tr>\n",
       "  <th>Gender</th>                          <td>   -3.8187</td> <td>   50.080</td> <td>   -0.076</td> <td> 0.939</td> <td> -102.111</td> <td>   94.473</td>\n",
       "</tr>\n",
       "<tr>\n",
       "  <th>HourlyRate</th>                      <td>    0.3599</td> <td>    1.190</td> <td>    0.302</td> <td> 0.762</td> <td>   -1.976</td> <td>    2.696</td>\n",
       "</tr>\n",
       "<tr>\n",
       "  <th>JobInvolvement</th>                  <td>  -43.9174</td> <td>   34.084</td> <td>   -1.288</td> <td> 0.198</td> <td> -110.814</td> <td>   22.979</td>\n",
       "</tr>\n",
       "<tr>\n",
       "  <th>JobLevel</th>                        <td> 1325.5099</td> <td>   84.647</td> <td>   15.659</td> <td> 0.000</td> <td> 1159.375</td> <td> 1491.645</td>\n",
       "</tr>\n",
       "<tr>\n",
       "  <th>JobSatisfaction</th>                 <td>    5.4642</td> <td>   22.035</td> <td>    0.248</td> <td> 0.804</td> <td>  -37.783</td> <td>   48.711</td>\n",
       "</tr>\n",
       "<tr>\n",
       "  <th>MonthlyRate</th>                     <td>    0.0019</td> <td>    0.003</td> <td>    0.572</td> <td> 0.567</td> <td>   -0.005</td> <td>    0.009</td>\n",
       "</tr>\n",
       "<tr>\n",
       "  <th>NumCompaniesWorked</th>              <td>   35.3329</td> <td>   11.379</td> <td>    3.105</td> <td> 0.002</td> <td>   12.999</td> <td>   57.667</td>\n",
       "</tr>\n",
       "<tr>\n",
       "  <th>OverTime</th>                        <td>   52.6514</td> <td>   54.400</td> <td>    0.968</td> <td> 0.333</td> <td>  -54.118</td> <td>  159.421</td>\n",
       "</tr>\n",
       "<tr>\n",
       "  <th>PercentSalaryHike</th>               <td>    3.1398</td> <td>   10.560</td> <td>    0.297</td> <td> 0.766</td> <td>  -17.587</td> <td>   23.866</td>\n",
       "</tr>\n",
       "<tr>\n",
       "  <th>PerformanceRating</th>               <td> -138.9276</td> <td>  105.344</td> <td>   -1.319</td> <td> 0.188</td> <td> -345.683</td> <td>   67.828</td>\n",
       "</tr>\n",
       "<tr>\n",
       "  <th>RelationshipSatisfaction</th>        <td>  -36.8474</td> <td>   22.321</td> <td>   -1.651</td> <td> 0.099</td> <td>  -80.656</td> <td>    6.961</td>\n",
       "</tr>\n",
       "<tr>\n",
       "  <th>StockOptionLevel</th>                <td>    1.8125</td> <td>   38.564</td> <td>    0.047</td> <td> 0.963</td> <td>  -73.877</td> <td>   77.502</td>\n",
       "</tr>\n",
       "<tr>\n",
       "  <th>TotalWorkingYears</th>               <td>    2.3336</td> <td>    8.896</td> <td>    0.262</td> <td> 0.793</td> <td>  -15.127</td> <td>   19.795</td>\n",
       "</tr>\n",
       "<tr>\n",
       "  <th>TrainingTimesLastYear</th>           <td>  -43.1260</td> <td>   19.075</td> <td>   -2.261</td> <td> 0.024</td> <td>  -80.564</td> <td>   -5.688</td>\n",
       "</tr>\n",
       "<tr>\n",
       "  <th>WorkLifeBalance</th>                 <td>    0.7270</td> <td>   34.055</td> <td>    0.021</td> <td> 0.983</td> <td>  -66.112</td> <td>   67.566</td>\n",
       "</tr>\n",
       "<tr>\n",
       "  <th>YearsAtCompany</th>                  <td>    4.5451</td> <td>   16.851</td> <td>    0.270</td> <td> 0.787</td> <td>  -28.529</td> <td>   37.619</td>\n",
       "</tr>\n",
       "<tr>\n",
       "  <th>YearsInCurrentRole</th>              <td>   40.0212</td> <td>   15.641</td> <td>    2.559</td> <td> 0.011</td> <td>    9.322</td> <td>   70.720</td>\n",
       "</tr>\n",
       "<tr>\n",
       "  <th>YearsSinceLastPromotion</th>         <td>  -11.8845</td> <td>   12.831</td> <td>   -0.926</td> <td> 0.355</td> <td>  -37.068</td> <td>   13.299</td>\n",
       "</tr>\n",
       "<tr>\n",
       "  <th>YearsWithCurrManager</th>            <td>   12.3022</td> <td>   15.895</td> <td>    0.774</td> <td> 0.439</td> <td>  -18.895</td> <td>   43.499</td>\n",
       "</tr>\n",
       "<tr>\n",
       "  <th>Department_R&D</th>                  <td>  797.4117</td> <td>  166.662</td> <td>    4.785</td> <td> 0.000</td> <td>  470.308</td> <td> 1124.515</td>\n",
       "</tr>\n",
       "<tr>\n",
       "  <th>Department_Sales</th>                <td>  170.6520</td> <td>   97.514</td> <td>    1.750</td> <td> 0.080</td> <td>  -20.737</td> <td>  362.041</td>\n",
       "</tr>\n",
       "<tr>\n",
       "  <th>EducationField_Life Sciences</th>    <td>  292.4854</td> <td>  238.877</td> <td>    1.224</td> <td> 0.221</td> <td> -176.353</td> <td>  761.324</td>\n",
       "</tr>\n",
       "<tr>\n",
       "  <th>EducationField_Marketing</th>        <td>  335.5895</td> <td>  257.742</td> <td>    1.302</td> <td> 0.193</td> <td> -170.275</td> <td>  841.454</td>\n",
       "</tr>\n",
       "<tr>\n",
       "  <th>EducationField_Medical</th>          <td>  348.6315</td> <td>  239.946</td> <td>    1.453</td> <td> 0.147</td> <td> -122.306</td> <td>  819.569</td>\n",
       "</tr>\n",
       "<tr>\n",
       "  <th>EducationField_Other</th>            <td>  306.7578</td> <td>  254.788</td> <td>    1.204</td> <td> 0.229</td> <td> -193.309</td> <td>  806.824</td>\n",
       "</tr>\n",
       "<tr>\n",
       "  <th>EducationField_Technical Degree</th> <td>  305.3539</td> <td>  247.071</td> <td>    1.236</td> <td> 0.217</td> <td> -179.566</td> <td>  790.274</td>\n",
       "</tr>\n",
       "<tr>\n",
       "  <th>JobRole_Human Resources</th>         <td>  206.2546</td> <td>  130.545</td> <td>    1.580</td> <td> 0.114</td> <td>  -49.964</td> <td>  462.473</td>\n",
       "</tr>\n",
       "<tr>\n",
       "  <th>JobRole_Laboratory Technician</th>   <td> -727.4456</td> <td>  133.064</td> <td>   -5.467</td> <td> 0.000</td> <td> -988.607</td> <td> -466.284</td>\n",
       "</tr>\n",
       "<tr>\n",
       "  <th>JobRole_Manufacturing Director</th>  <td>  -60.3722</td> <td>  145.381</td> <td>   -0.415</td> <td> 0.678</td> <td> -345.709</td> <td>  224.965</td>\n",
       "</tr>\n",
       "<tr>\n",
       "  <th>JobRole_Research Scientist</th>      <td> -705.7405</td> <td>  133.449</td> <td>   -5.288</td> <td> 0.000</td> <td> -967.658</td> <td> -443.823</td>\n",
       "</tr>\n",
       "<tr>\n",
       "  <th>JobRole_Sales Executive</th>         <td>  544.6477</td> <td>   80.917</td> <td>    6.731</td> <td> 0.000</td> <td>  385.834</td> <td>  703.461</td>\n",
       "</tr>\n",
       "<tr>\n",
       "  <th>JobRole_Sales Representative</th>    <td> -373.9957</td> <td>   75.657</td> <td>   -4.943</td> <td> 0.000</td> <td> -522.486</td> <td> -225.505</td>\n",
       "</tr>\n",
       "<tr>\n",
       "  <th>MaritalStatus_Married</th>           <td>   42.4476</td> <td>   66.093</td> <td>    0.642</td> <td> 0.521</td> <td>  -87.271</td> <td>  172.166</td>\n",
       "</tr>\n",
       "<tr>\n",
       "  <th>MaritalStatus_Single</th>            <td>   16.7649</td> <td>   89.693</td> <td>    0.187</td> <td> 0.852</td> <td> -159.273</td> <td>  192.803</td>\n",
       "</tr>\n",
       "</table>\n",
       "<table class=\"simpletable\">\n",
       "<tr>\n",
       "  <th>Omnibus:</th>       <td> 5.638</td> <th>  Durbin-Watson:     </th> <td>   2.012</td>\n",
       "</tr>\n",
       "<tr>\n",
       "  <th>Prob(Omnibus):</th> <td> 0.060</td> <th>  Jarque-Bera (JB):  </th> <td>   5.717</td>\n",
       "</tr>\n",
       "<tr>\n",
       "  <th>Skew:</th>          <td> 0.147</td> <th>  Prob(JB):          </th> <td>  0.0574</td>\n",
       "</tr>\n",
       "<tr>\n",
       "  <th>Kurtosis:</th>      <td> 3.251</td> <th>  Cond. No.          </th> <td>1.12e+16</td>\n",
       "</tr>\n",
       "</table><br/><br/>Warnings:<br/>[1] Standard Errors assume that the covariance matrix of the errors is correctly specified.<br/>[2] The smallest eigenvalue is 1.82e-21. This might indicate that there are<br/>strong multicollinearity problems or that the design matrix is singular."
      ],
      "text/plain": [
       "<class 'statsmodels.iolib.summary.Summary'>\n",
       "\"\"\"\n",
       "                            OLS Regression Results                            \n",
       "==============================================================================\n",
       "Dep. Variable:          MonthlyIncome   R-squared:                       0.678\n",
       "Model:                            OLS   Adj. R-squared:                  0.664\n",
       "Method:                 Least Squares   F-statistic:                     48.53\n",
       "Date:                Fri, 01 May 2020   Prob (F-statistic):          2.69e-187\n",
       "Time:                        12:33:13   Log-Likelihood:                -7291.1\n",
       "No. Observations:                 914   AIC:                         1.466e+04\n",
       "Df Residuals:                     875   BIC:                         1.485e+04\n",
       "Df Model:                          38                                         \n",
       "Covariance Type:            nonrobust                                         \n",
       "===================================================================================================\n",
       "                                      coef    std err          t      P>|t|      [0.025      0.975]\n",
       "---------------------------------------------------------------------------------------------------\n",
       "const                            1174.3184    302.983      3.876      0.000     579.660    1768.977\n",
       "Age                                 5.0090      3.516      1.425      0.155      -1.891      11.909\n",
       "BusinessTravel                     94.2167     44.600      2.112      0.035       6.681     181.753\n",
       "DailyRate                           0.0716      0.060      1.187      0.236      -0.047       0.190\n",
       "DistanceFromHome                   -0.8003      3.033     -0.264      0.792      -6.753       5.153\n",
       "Education                          43.4523     24.529      1.771      0.077      -4.690      91.595\n",
       "EnvironmentSatisfaction           -39.0574     22.167     -1.762      0.078     -82.565       4.450\n",
       "Gender                             -3.8187     50.080     -0.076      0.939    -102.111      94.473\n",
       "HourlyRate                          0.3599      1.190      0.302      0.762      -1.976       2.696\n",
       "JobInvolvement                    -43.9174     34.084     -1.288      0.198    -110.814      22.979\n",
       "JobLevel                         1325.5099     84.647     15.659      0.000    1159.375    1491.645\n",
       "JobSatisfaction                     5.4642     22.035      0.248      0.804     -37.783      48.711\n",
       "MonthlyRate                         0.0019      0.003      0.572      0.567      -0.005       0.009\n",
       "NumCompaniesWorked                 35.3329     11.379      3.105      0.002      12.999      57.667\n",
       "OverTime                           52.6514     54.400      0.968      0.333     -54.118     159.421\n",
       "PercentSalaryHike                   3.1398     10.560      0.297      0.766     -17.587      23.866\n",
       "PerformanceRating                -138.9276    105.344     -1.319      0.188    -345.683      67.828\n",
       "RelationshipSatisfaction          -36.8474     22.321     -1.651      0.099     -80.656       6.961\n",
       "StockOptionLevel                    1.8125     38.564      0.047      0.963     -73.877      77.502\n",
       "TotalWorkingYears                   2.3336      8.896      0.262      0.793     -15.127      19.795\n",
       "TrainingTimesLastYear             -43.1260     19.075     -2.261      0.024     -80.564      -5.688\n",
       "WorkLifeBalance                     0.7270     34.055      0.021      0.983     -66.112      67.566\n",
       "YearsAtCompany                      4.5451     16.851      0.270      0.787     -28.529      37.619\n",
       "YearsInCurrentRole                 40.0212     15.641      2.559      0.011       9.322      70.720\n",
       "YearsSinceLastPromotion           -11.8845     12.831     -0.926      0.355     -37.068      13.299\n",
       "YearsWithCurrManager               12.3022     15.895      0.774      0.439     -18.895      43.499\n",
       "Department_R&D                    797.4117    166.662      4.785      0.000     470.308    1124.515\n",
       "Department_Sales                  170.6520     97.514      1.750      0.080     -20.737     362.041\n",
       "EducationField_Life Sciences      292.4854    238.877      1.224      0.221    -176.353     761.324\n",
       "EducationField_Marketing          335.5895    257.742      1.302      0.193    -170.275     841.454\n",
       "EducationField_Medical            348.6315    239.946      1.453      0.147    -122.306     819.569\n",
       "EducationField_Other              306.7578    254.788      1.204      0.229    -193.309     806.824\n",
       "EducationField_Technical Degree   305.3539    247.071      1.236      0.217    -179.566     790.274\n",
       "JobRole_Human Resources           206.2546    130.545      1.580      0.114     -49.964     462.473\n",
       "JobRole_Laboratory Technician    -727.4456    133.064     -5.467      0.000    -988.607    -466.284\n",
       "JobRole_Manufacturing Director    -60.3722    145.381     -0.415      0.678    -345.709     224.965\n",
       "JobRole_Research Scientist       -705.7405    133.449     -5.288      0.000    -967.658    -443.823\n",
       "JobRole_Sales Executive           544.6477     80.917      6.731      0.000     385.834     703.461\n",
       "JobRole_Sales Representative     -373.9957     75.657     -4.943      0.000    -522.486    -225.505\n",
       "MaritalStatus_Married              42.4476     66.093      0.642      0.521     -87.271     172.166\n",
       "MaritalStatus_Single               16.7649     89.693      0.187      0.852    -159.273     192.803\n",
       "==============================================================================\n",
       "Omnibus:                        5.638   Durbin-Watson:                   2.012\n",
       "Prob(Omnibus):                  0.060   Jarque-Bera (JB):                5.717\n",
       "Skew:                           0.147   Prob(JB):                       0.0574\n",
       "Kurtosis:                       3.251   Cond. No.                     1.12e+16\n",
       "==============================================================================\n",
       "\n",
       "Warnings:\n",
       "[1] Standard Errors assume that the covariance matrix of the errors is correctly specified.\n",
       "[2] The smallest eigenvalue is 1.82e-21. This might indicate that there are\n",
       "strong multicollinearity problems or that the design matrix is singular.\n",
       "\"\"\""
      ]
     },
     "execution_count": 701,
     "metadata": {},
     "output_type": "execute_result"
    }
   ],
   "source": [
    "model_fit.summary()"
   ]
  },
  {
   "cell_type": "code",
   "execution_count": 702,
   "metadata": {},
   "outputs": [],
   "source": [
    "def func(column,X):\n",
    "    #drop the column\n",
    "    if column:\n",
    "        X=X.drop(column, axis=1)\n",
    "    # build the model\n",
    "    model=sm.OLS(y,add_constant(X))\n",
    "    #fit it\n",
    "    model_fit=model.fit()\n",
    "    #display the model\n",
    "    display(model_fit.summary())\n",
    "    #return X without the column\n",
    "    return X"
   ]
  },
  {
   "cell_type": "markdown",
   "metadata": {},
   "source": [
    "**P-value is probability of being wrong by rejecting Null Hypothesis**. Never forget about it, please"
   ]
  },
  {
   "cell_type": "markdown",
   "metadata": {},
   "source": [
    "For the case of F statistics, The Null Hypothesis is:\n",
    "\n",
    "H0: ß0=ß1=ß2...=ßn=0\n",
    "\n",
    "H1: at least 1 of ß is not equal to 0"
   ]
  },
  {
   "cell_type": "code",
   "execution_count": 703,
   "metadata": {},
   "outputs": [],
   "source": [
    "col_to_drop_to_fit = []"
   ]
  },
  {
   "cell_type": "code",
   "execution_count": 769,
   "metadata": {},
   "outputs": [
    {
     "data": {
      "text/html": [
       "<table class=\"simpletable\">\n",
       "<caption>OLS Regression Results</caption>\n",
       "<tr>\n",
       "  <th>Dep. Variable:</th>      <td>MonthlyIncome</td>  <th>  R-squared:         </th> <td>   0.384</td> \n",
       "</tr>\n",
       "<tr>\n",
       "  <th>Model:</th>                   <td>OLS</td>       <th>  Adj. R-squared:    </th> <td>   0.380</td> \n",
       "</tr>\n",
       "<tr>\n",
       "  <th>Method:</th>             <td>Least Squares</td>  <th>  F-statistic:       </th> <td>   113.0</td> \n",
       "</tr>\n",
       "<tr>\n",
       "  <th>Date:</th>             <td>Fri, 01 May 2020</td> <th>  Prob (F-statistic):</th> <td>7.26e-93</td> \n",
       "</tr>\n",
       "<tr>\n",
       "  <th>Time:</th>                 <td>12:41:09</td>     <th>  Log-Likelihood:    </th> <td> -7588.3</td> \n",
       "</tr>\n",
       "<tr>\n",
       "  <th>No. Observations:</th>      <td>   914</td>      <th>  AIC:               </th> <td>1.519e+04</td>\n",
       "</tr>\n",
       "<tr>\n",
       "  <th>Df Residuals:</th>          <td>   908</td>      <th>  BIC:               </th> <td>1.522e+04</td>\n",
       "</tr>\n",
       "<tr>\n",
       "  <th>Df Model:</th>              <td>     5</td>      <th>                     </th>     <td> </td>    \n",
       "</tr>\n",
       "<tr>\n",
       "  <th>Covariance Type:</th>      <td>nonrobust</td>    <th>                     </th>     <td> </td>    \n",
       "</tr>\n",
       "</table>\n",
       "<table class=\"simpletable\">\n",
       "<tr>\n",
       "                <td></td>                   <th>coef</th>     <th>std err</th>      <th>t</th>      <th>P>|t|</th>  <th>[0.025</th>    <th>0.975]</th>  \n",
       "</tr>\n",
       "<tr>\n",
       "  <th>const</th>                         <td> 3246.1304</td> <td>   77.580</td> <td>   41.842</td> <td> 0.000</td> <td> 3093.873</td> <td> 3398.387</td>\n",
       "</tr>\n",
       "<tr>\n",
       "  <th>NumCompaniesWorked</th>            <td>   47.2167</td> <td>   14.271</td> <td>    3.309</td> <td> 0.001</td> <td>   19.209</td> <td>   75.225</td>\n",
       "</tr>\n",
       "<tr>\n",
       "  <th>TotalWorkingYears</th>             <td>   81.0137</td> <td>    8.883</td> <td>    9.120</td> <td> 0.000</td> <td>   63.580</td> <td>   98.447</td>\n",
       "</tr>\n",
       "<tr>\n",
       "  <th>YearsInCurrentRole</th>            <td>   63.7632</td> <td>   13.515</td> <td>    4.718</td> <td> 0.000</td> <td>   37.238</td> <td>   90.288</td>\n",
       "</tr>\n",
       "<tr>\n",
       "  <th>JobRole_Laboratory Technician</th> <td>-1019.1337</td> <td>   79.791</td> <td>  -12.773</td> <td> 0.000</td> <td>-1175.730</td> <td> -862.537</td>\n",
       "</tr>\n",
       "<tr>\n",
       "  <th>JobRole_Research Scientist</th>    <td>-1038.2582</td> <td>   76.992</td> <td>  -13.485</td> <td> 0.000</td> <td>-1189.361</td> <td> -887.155</td>\n",
       "</tr>\n",
       "</table>\n",
       "<table class=\"simpletable\">\n",
       "<tr>\n",
       "  <th>Omnibus:</th>       <td> 7.178</td> <th>  Durbin-Watson:     </th> <td>   2.009</td>\n",
       "</tr>\n",
       "<tr>\n",
       "  <th>Prob(Omnibus):</th> <td> 0.028</td> <th>  Jarque-Bera (JB):  </th> <td>   5.765</td>\n",
       "</tr>\n",
       "<tr>\n",
       "  <th>Skew:</th>          <td>-0.102</td> <th>  Prob(JB):          </th> <td>  0.0560</td>\n",
       "</tr>\n",
       "<tr>\n",
       "  <th>Kurtosis:</th>      <td> 2.668</td> <th>  Cond. No.          </th> <td>    33.8</td>\n",
       "</tr>\n",
       "</table><br/><br/>Warnings:<br/>[1] Standard Errors assume that the covariance matrix of the errors is correctly specified."
      ],
      "text/plain": [
       "<class 'statsmodels.iolib.summary.Summary'>\n",
       "\"\"\"\n",
       "                            OLS Regression Results                            \n",
       "==============================================================================\n",
       "Dep. Variable:          MonthlyIncome   R-squared:                       0.384\n",
       "Model:                            OLS   Adj. R-squared:                  0.380\n",
       "Method:                 Least Squares   F-statistic:                     113.0\n",
       "Date:                Fri, 01 May 2020   Prob (F-statistic):           7.26e-93\n",
       "Time:                        12:41:09   Log-Likelihood:                -7588.3\n",
       "No. Observations:                 914   AIC:                         1.519e+04\n",
       "Df Residuals:                     908   BIC:                         1.522e+04\n",
       "Df Model:                           5                                         \n",
       "Covariance Type:            nonrobust                                         \n",
       "=================================================================================================\n",
       "                                    coef    std err          t      P>|t|      [0.025      0.975]\n",
       "-------------------------------------------------------------------------------------------------\n",
       "const                          3246.1304     77.580     41.842      0.000    3093.873    3398.387\n",
       "NumCompaniesWorked               47.2167     14.271      3.309      0.001      19.209      75.225\n",
       "TotalWorkingYears                81.0137      8.883      9.120      0.000      63.580      98.447\n",
       "YearsInCurrentRole               63.7632     13.515      4.718      0.000      37.238      90.288\n",
       "JobRole_Laboratory Technician -1019.1337     79.791    -12.773      0.000   -1175.730    -862.537\n",
       "JobRole_Research Scientist    -1038.2582     76.992    -13.485      0.000   -1189.361    -887.155\n",
       "==============================================================================\n",
       "Omnibus:                        7.178   Durbin-Watson:                   2.009\n",
       "Prob(Omnibus):                  0.028   Jarque-Bera (JB):                5.765\n",
       "Skew:                          -0.102   Prob(JB):                       0.0560\n",
       "Kurtosis:                       2.668   Cond. No.                         33.8\n",
       "==============================================================================\n",
       "\n",
       "Warnings:\n",
       "[1] Standard Errors assume that the covariance matrix of the errors is correctly specified.\n",
       "\"\"\""
      ]
     },
     "metadata": {},
     "output_type": "display_data"
    }
   ],
   "source": [
    "#columns droped : 'citric acid', chlorides\t\n",
    "col_to_drop_to_fit.append('BusinessTravel')\n",
    "X=func(col_to_drop_to_fit[-1],X)"
   ]
  },
  {
   "cell_type": "code",
   "execution_count": 770,
   "metadata": {},
   "outputs": [],
   "source": [
    "# We goes from 43 features to 5 features"
   ]
  },
  {
   "cell_type": "code",
   "execution_count": 771,
   "metadata": {},
   "outputs": [
    {
     "data": {
      "text/plain": [
       "['JobLevel',\n",
       " 'Age',\n",
       " 'DailyRate',\n",
       " 'MaritalStatus_Married',\n",
       " 'MaritalStatus_Single',\n",
       " 'JobRole_Manufacturing Director',\n",
       " 'YearsWithCurrManager',\n",
       " 'DistanceFromHome',\n",
       " 'HourlyRate',\n",
       " 'Gender',\n",
       " 'JobSatisfaction',\n",
       " 'OverTime',\n",
       " 'StockOptionLevel',\n",
       " 'WorkLifeBalance',\n",
       " 'YearsSinceLastPromotion',\n",
       " 'YearsAtCompany',\n",
       " 'EducationField_Technical Degree',\n",
       " 'EducationField_Other',\n",
       " 'EducationField_Medical',\n",
       " 'EducationField_Marketing',\n",
       " 'EducationField_Life Sciences',\n",
       " 'Education',\n",
       " 'EnvironmentSatisfaction',\n",
       " 'obInvolvement',\n",
       " 'JobInvolvement',\n",
       " 'MonthlyRate',\n",
       " 'PercentSalaryHike',\n",
       " 'TrainingTimesLastYear',\n",
       " 'PerformanceRating',\n",
       " 'RelationshipSatisfaction',\n",
       " 'JobRole_Human Resources',\n",
       " 'Department_R&D',\n",
       " 'Department_Sales',\n",
       " 'JobRole_Sales Executive',\n",
       " 'JobRole_Sales Representative',\n",
       " 'BusinessTravel']"
      ]
     },
     "execution_count": 771,
     "metadata": {},
     "output_type": "execute_result"
    }
   ],
   "source": [
    "col_to_drop_to_fit"
   ]
  },
  {
   "cell_type": "markdown",
   "metadata": {},
   "source": [
    "# Get an over view on your fitted model before checking assumptions"
   ]
  },
  {
   "cell_type": "code",
   "execution_count": 772,
   "metadata": {},
   "outputs": [
    {
     "data": {
      "text/html": [
       "<table class=\"simpletable\">\n",
       "<caption>OLS Regression Results</caption>\n",
       "<tr>\n",
       "  <th>Dep. Variable:</th>      <td>MonthlyIncome</td>  <th>  R-squared:         </th> <td>   0.384</td> \n",
       "</tr>\n",
       "<tr>\n",
       "  <th>Model:</th>                   <td>OLS</td>       <th>  Adj. R-squared:    </th> <td>   0.380</td> \n",
       "</tr>\n",
       "<tr>\n",
       "  <th>Method:</th>             <td>Least Squares</td>  <th>  F-statistic:       </th> <td>   113.0</td> \n",
       "</tr>\n",
       "<tr>\n",
       "  <th>Date:</th>             <td>Fri, 01 May 2020</td> <th>  Prob (F-statistic):</th> <td>7.26e-93</td> \n",
       "</tr>\n",
       "<tr>\n",
       "  <th>Time:</th>                 <td>12:41:23</td>     <th>  Log-Likelihood:    </th> <td> -7588.3</td> \n",
       "</tr>\n",
       "<tr>\n",
       "  <th>No. Observations:</th>      <td>   914</td>      <th>  AIC:               </th> <td>1.519e+04</td>\n",
       "</tr>\n",
       "<tr>\n",
       "  <th>Df Residuals:</th>          <td>   908</td>      <th>  BIC:               </th> <td>1.522e+04</td>\n",
       "</tr>\n",
       "<tr>\n",
       "  <th>Df Model:</th>              <td>     5</td>      <th>                     </th>     <td> </td>    \n",
       "</tr>\n",
       "<tr>\n",
       "  <th>Covariance Type:</th>      <td>nonrobust</td>    <th>                     </th>     <td> </td>    \n",
       "</tr>\n",
       "</table>\n",
       "<table class=\"simpletable\">\n",
       "<tr>\n",
       "                <td></td>                   <th>coef</th>     <th>std err</th>      <th>t</th>      <th>P>|t|</th>  <th>[0.025</th>    <th>0.975]</th>  \n",
       "</tr>\n",
       "<tr>\n",
       "  <th>const</th>                         <td> 3246.1304</td> <td>   77.580</td> <td>   41.842</td> <td> 0.000</td> <td> 3093.873</td> <td> 3398.387</td>\n",
       "</tr>\n",
       "<tr>\n",
       "  <th>NumCompaniesWorked</th>            <td>   47.2167</td> <td>   14.271</td> <td>    3.309</td> <td> 0.001</td> <td>   19.209</td> <td>   75.225</td>\n",
       "</tr>\n",
       "<tr>\n",
       "  <th>TotalWorkingYears</th>             <td>   81.0137</td> <td>    8.883</td> <td>    9.120</td> <td> 0.000</td> <td>   63.580</td> <td>   98.447</td>\n",
       "</tr>\n",
       "<tr>\n",
       "  <th>YearsInCurrentRole</th>            <td>   63.7632</td> <td>   13.515</td> <td>    4.718</td> <td> 0.000</td> <td>   37.238</td> <td>   90.288</td>\n",
       "</tr>\n",
       "<tr>\n",
       "  <th>JobRole_Laboratory Technician</th> <td>-1019.1337</td> <td>   79.791</td> <td>  -12.773</td> <td> 0.000</td> <td>-1175.730</td> <td> -862.537</td>\n",
       "</tr>\n",
       "<tr>\n",
       "  <th>JobRole_Research Scientist</th>    <td>-1038.2582</td> <td>   76.992</td> <td>  -13.485</td> <td> 0.000</td> <td>-1189.361</td> <td> -887.155</td>\n",
       "</tr>\n",
       "</table>\n",
       "<table class=\"simpletable\">\n",
       "<tr>\n",
       "  <th>Omnibus:</th>       <td> 7.178</td> <th>  Durbin-Watson:     </th> <td>   2.009</td>\n",
       "</tr>\n",
       "<tr>\n",
       "  <th>Prob(Omnibus):</th> <td> 0.028</td> <th>  Jarque-Bera (JB):  </th> <td>   5.765</td>\n",
       "</tr>\n",
       "<tr>\n",
       "  <th>Skew:</th>          <td>-0.102</td> <th>  Prob(JB):          </th> <td>  0.0560</td>\n",
       "</tr>\n",
       "<tr>\n",
       "  <th>Kurtosis:</th>      <td> 2.668</td> <th>  Cond. No.          </th> <td>    33.8</td>\n",
       "</tr>\n",
       "</table><br/><br/>Warnings:<br/>[1] Standard Errors assume that the covariance matrix of the errors is correctly specified."
      ],
      "text/plain": [
       "<class 'statsmodels.iolib.summary.Summary'>\n",
       "\"\"\"\n",
       "                            OLS Regression Results                            \n",
       "==============================================================================\n",
       "Dep. Variable:          MonthlyIncome   R-squared:                       0.384\n",
       "Model:                            OLS   Adj. R-squared:                  0.380\n",
       "Method:                 Least Squares   F-statistic:                     113.0\n",
       "Date:                Fri, 01 May 2020   Prob (F-statistic):           7.26e-93\n",
       "Time:                        12:41:23   Log-Likelihood:                -7588.3\n",
       "No. Observations:                 914   AIC:                         1.519e+04\n",
       "Df Residuals:                     908   BIC:                         1.522e+04\n",
       "Df Model:                           5                                         \n",
       "Covariance Type:            nonrobust                                         \n",
       "=================================================================================================\n",
       "                                    coef    std err          t      P>|t|      [0.025      0.975]\n",
       "-------------------------------------------------------------------------------------------------\n",
       "const                          3246.1304     77.580     41.842      0.000    3093.873    3398.387\n",
       "NumCompaniesWorked               47.2167     14.271      3.309      0.001      19.209      75.225\n",
       "TotalWorkingYears                81.0137      8.883      9.120      0.000      63.580      98.447\n",
       "YearsInCurrentRole               63.7632     13.515      4.718      0.000      37.238      90.288\n",
       "JobRole_Laboratory Technician -1019.1337     79.791    -12.773      0.000   -1175.730    -862.537\n",
       "JobRole_Research Scientist    -1038.2582     76.992    -13.485      0.000   -1189.361    -887.155\n",
       "==============================================================================\n",
       "Omnibus:                        7.178   Durbin-Watson:                   2.009\n",
       "Prob(Omnibus):                  0.028   Jarque-Bera (JB):                5.765\n",
       "Skew:                          -0.102   Prob(JB):                       0.0560\n",
       "Kurtosis:                       2.668   Cond. No.                         33.8\n",
       "==============================================================================\n",
       "\n",
       "Warnings:\n",
       "[1] Standard Errors assume that the covariance matrix of the errors is correctly specified.\n",
       "\"\"\""
      ]
     },
     "execution_count": 772,
     "metadata": {},
     "output_type": "execute_result"
    }
   ],
   "source": [
    "model=sm.OLS(y,add_constant(X))\n",
    "model_fit=model.fit()\n",
    "model_fit.summary()"
   ]
  },
  {
   "cell_type": "code",
   "execution_count": 773,
   "metadata": {},
   "outputs": [],
   "source": [
    "#save it into a file. THe file is also uploaded on the same drive.\n",
    "model_fit.save(\"fitted_model.pickle\")"
   ]
  },
  {
   "cell_type": "code",
   "execution_count": 774,
   "metadata": {},
   "outputs": [
    {
     "data": {
      "text/html": [
       "<table class=\"simpletable\">\n",
       "<caption>OLS Regression Results</caption>\n",
       "<tr>\n",
       "  <th>Dep. Variable:</th>      <td>MonthlyIncome</td>  <th>  R-squared:         </th> <td>   0.384</td> \n",
       "</tr>\n",
       "<tr>\n",
       "  <th>Model:</th>                   <td>OLS</td>       <th>  Adj. R-squared:    </th> <td>   0.380</td> \n",
       "</tr>\n",
       "<tr>\n",
       "  <th>Method:</th>             <td>Least Squares</td>  <th>  F-statistic:       </th> <td>   113.0</td> \n",
       "</tr>\n",
       "<tr>\n",
       "  <th>Date:</th>             <td>Fri, 01 May 2020</td> <th>  Prob (F-statistic):</th> <td>7.26e-93</td> \n",
       "</tr>\n",
       "<tr>\n",
       "  <th>Time:</th>                 <td>12:41:24</td>     <th>  Log-Likelihood:    </th> <td> -7588.3</td> \n",
       "</tr>\n",
       "<tr>\n",
       "  <th>No. Observations:</th>      <td>   914</td>      <th>  AIC:               </th> <td>1.519e+04</td>\n",
       "</tr>\n",
       "<tr>\n",
       "  <th>Df Residuals:</th>          <td>   908</td>      <th>  BIC:               </th> <td>1.522e+04</td>\n",
       "</tr>\n",
       "<tr>\n",
       "  <th>Df Model:</th>              <td>     5</td>      <th>                     </th>     <td> </td>    \n",
       "</tr>\n",
       "<tr>\n",
       "  <th>Covariance Type:</th>      <td>nonrobust</td>    <th>                     </th>     <td> </td>    \n",
       "</tr>\n",
       "</table>\n",
       "<table class=\"simpletable\">\n",
       "<tr>\n",
       "                <td></td>                   <th>coef</th>     <th>std err</th>      <th>t</th>      <th>P>|t|</th>  <th>[0.025</th>    <th>0.975]</th>  \n",
       "</tr>\n",
       "<tr>\n",
       "  <th>const</th>                         <td> 3246.1304</td> <td>   77.580</td> <td>   41.842</td> <td> 0.000</td> <td> 3093.873</td> <td> 3398.387</td>\n",
       "</tr>\n",
       "<tr>\n",
       "  <th>NumCompaniesWorked</th>            <td>   47.2167</td> <td>   14.271</td> <td>    3.309</td> <td> 0.001</td> <td>   19.209</td> <td>   75.225</td>\n",
       "</tr>\n",
       "<tr>\n",
       "  <th>TotalWorkingYears</th>             <td>   81.0137</td> <td>    8.883</td> <td>    9.120</td> <td> 0.000</td> <td>   63.580</td> <td>   98.447</td>\n",
       "</tr>\n",
       "<tr>\n",
       "  <th>YearsInCurrentRole</th>            <td>   63.7632</td> <td>   13.515</td> <td>    4.718</td> <td> 0.000</td> <td>   37.238</td> <td>   90.288</td>\n",
       "</tr>\n",
       "<tr>\n",
       "  <th>JobRole_Laboratory Technician</th> <td>-1019.1337</td> <td>   79.791</td> <td>  -12.773</td> <td> 0.000</td> <td>-1175.730</td> <td> -862.537</td>\n",
       "</tr>\n",
       "<tr>\n",
       "  <th>JobRole_Research Scientist</th>    <td>-1038.2582</td> <td>   76.992</td> <td>  -13.485</td> <td> 0.000</td> <td>-1189.361</td> <td> -887.155</td>\n",
       "</tr>\n",
       "</table>\n",
       "<table class=\"simpletable\">\n",
       "<tr>\n",
       "  <th>Omnibus:</th>       <td> 7.178</td> <th>  Durbin-Watson:     </th> <td>   2.009</td>\n",
       "</tr>\n",
       "<tr>\n",
       "  <th>Prob(Omnibus):</th> <td> 0.028</td> <th>  Jarque-Bera (JB):  </th> <td>   5.765</td>\n",
       "</tr>\n",
       "<tr>\n",
       "  <th>Skew:</th>          <td>-0.102</td> <th>  Prob(JB):          </th> <td>  0.0560</td>\n",
       "</tr>\n",
       "<tr>\n",
       "  <th>Kurtosis:</th>      <td> 2.668</td> <th>  Cond. No.          </th> <td>    33.8</td>\n",
       "</tr>\n",
       "</table><br/><br/>Warnings:<br/>[1] Standard Errors assume that the covariance matrix of the errors is correctly specified."
      ],
      "text/plain": [
       "<class 'statsmodels.iolib.summary.Summary'>\n",
       "\"\"\"\n",
       "                            OLS Regression Results                            \n",
       "==============================================================================\n",
       "Dep. Variable:          MonthlyIncome   R-squared:                       0.384\n",
       "Model:                            OLS   Adj. R-squared:                  0.380\n",
       "Method:                 Least Squares   F-statistic:                     113.0\n",
       "Date:                Fri, 01 May 2020   Prob (F-statistic):           7.26e-93\n",
       "Time:                        12:41:24   Log-Likelihood:                -7588.3\n",
       "No. Observations:                 914   AIC:                         1.519e+04\n",
       "Df Residuals:                     908   BIC:                         1.522e+04\n",
       "Df Model:                           5                                         \n",
       "Covariance Type:            nonrobust                                         \n",
       "=================================================================================================\n",
       "                                    coef    std err          t      P>|t|      [0.025      0.975]\n",
       "-------------------------------------------------------------------------------------------------\n",
       "const                          3246.1304     77.580     41.842      0.000    3093.873    3398.387\n",
       "NumCompaniesWorked               47.2167     14.271      3.309      0.001      19.209      75.225\n",
       "TotalWorkingYears                81.0137      8.883      9.120      0.000      63.580      98.447\n",
       "YearsInCurrentRole               63.7632     13.515      4.718      0.000      37.238      90.288\n",
       "JobRole_Laboratory Technician -1019.1337     79.791    -12.773      0.000   -1175.730    -862.537\n",
       "JobRole_Research Scientist    -1038.2582     76.992    -13.485      0.000   -1189.361    -887.155\n",
       "==============================================================================\n",
       "Omnibus:                        7.178   Durbin-Watson:                   2.009\n",
       "Prob(Omnibus):                  0.028   Jarque-Bera (JB):                5.765\n",
       "Skew:                          -0.102   Prob(JB):                       0.0560\n",
       "Kurtosis:                       2.668   Cond. No.                         33.8\n",
       "==============================================================================\n",
       "\n",
       "Warnings:\n",
       "[1] Standard Errors assume that the covariance matrix of the errors is correctly specified.\n",
       "\"\"\""
      ]
     },
     "execution_count": 774,
     "metadata": {},
     "output_type": "execute_result"
    }
   ],
   "source": [
    "# you can read the model using code below. \n",
    "fitted_model=sm.load('fitted_model.pickle')\n",
    "fitted_model.summary()"
   ]
  },
  {
   "cell_type": "code",
   "execution_count": 775,
   "metadata": {},
   "outputs": [],
   "source": [
    "# First we need to get the predictions\n",
    "y_pred=model_fit.predict(add_constant(X))"
   ]
  },
  {
   "cell_type": "code",
   "execution_count": 776,
   "metadata": {},
   "outputs": [
    {
     "data": {
      "text/plain": [
       "0       5993\n",
       "1       5130\n",
       "2       2090\n",
       "3       2909\n",
       "4       3468\n",
       "        ... \n",
       "1460    3785\n",
       "1464    2966\n",
       "1465    2571\n",
       "1468    5390\n",
       "1469    4404\n",
       "Name: MonthlyIncome, Length: 914, dtype: int64"
      ]
     },
     "execution_count": 776,
     "metadata": {},
     "output_type": "execute_result"
    }
   ],
   "source": [
    "y"
   ]
  },
  {
   "cell_type": "code",
   "execution_count": 777,
   "metadata": {},
   "outputs": [
    {
     "data": {
      "text/plain": [
       "0       4527.0\n",
       "1       3512.0\n",
       "2       3077.0\n",
       "3       3350.0\n",
       "4       3266.0\n",
       "         ...  \n",
       "1460    2915.0\n",
       "1464    3779.0\n",
       "1465    3921.0\n",
       "1468    5100.0\n",
       "1469    2999.0\n",
       "Length: 914, dtype: float64"
      ]
     },
     "execution_count": 777,
     "metadata": {},
     "output_type": "execute_result"
    }
   ],
   "source": [
    "round(y_pred)"
   ]
  },
  {
   "cell_type": "code",
   "execution_count": 778,
   "metadata": {},
   "outputs": [
    {
     "data": {
      "text/plain": [
       "<matplotlib.collections.PathCollection at 0x1a23db6150>"
      ]
     },
     "execution_count": 778,
     "metadata": {},
     "output_type": "execute_result"
    },
    {
     "data": {
      "image/png": "[encoded data removed]",
      "text/plain": [
       "<Figure size 432x288 with 1 Axes>"
      ]
     },
     "metadata": {},
     "output_type": "display_data"
    }
   ],
   "source": [
    "# let's see whether the predictions are lying on the diagonal\n",
    "plt.scatter(y,round(y_pred))"
   ]
  },
  {
   "cell_type": "code",
   "execution_count": 779,
   "metadata": {},
   "outputs": [
    {
     "data": {
      "text/plain": [
       "4.3385086430305987e-13"
      ]
     },
     "execution_count": 779,
     "metadata": {},
     "output_type": "execute_result"
    }
   ],
   "source": [
    "# Residuals (error between actual and predicted) should be around 0. So, average should be 0.\n",
    "\n",
    "(y-y_pred).mean()"
   ]
  },
  {
   "cell_type": "code",
   "execution_count": 780,
   "metadata": {},
   "outputs": [
    {
     "data": {
      "text/plain": [
       "[<matplotlib.lines.Line2D at 0x1a22d54d50>]"
      ]
     },
     "execution_count": 780,
     "metadata": {},
     "output_type": "execute_result"
    },
    {
     "data": {
      "image/png": "[encoded data removed]",
      "text/plain": [
       "<Figure size 432x288 with 1 Axes>"
      ]
     },
     "metadata": {},
     "output_type": "display_data"
    }
   ],
   "source": [
    "# They should form a white noise. (References). \n",
    "plt.plot((y-round(y_pred)))"
   ]
  },
  {
   "cell_type": "code",
   "execution_count": 781,
   "metadata": {},
   "outputs": [],
   "source": [
    "resid=y-y_pred"
   ]
  },
  {
   "cell_type": "code",
   "execution_count": 782,
   "metadata": {},
   "outputs": [
    {
     "data": {
      "image/png": "[encoded data removed]",
      "text/plain": [
       "<Figure size 432x288 with 1 Axes>"
      ]
     },
     "metadata": {},
     "output_type": "display_data"
    }
   ],
   "source": [
    "# And they should follow normal distribution\n",
    "plt.hist(resid,bins=10);"
   ]
  },
  {
   "cell_type": "markdown",
   "metadata": {},
   "source": [
    "# Time to check Assumptions"
   ]
  },
  {
   "cell_type": "code",
   "execution_count": 783,
   "metadata": {},
   "outputs": [
    {
     "name": "stdout",
     "output_type": "stream",
     "text": [
      "Fitting linear regression\n",
      "\n",
      "R^2: 0.38353228510870424 \n",
      "\n",
      "Coefficients\n",
      "-------------------------------------\n",
      "Intercept: 3246.1303719819634\n",
      "NumCompaniesWorked: 47.22\n",
      "TotalWorkingYears: 81.01\n",
      "YearsInCurrentRole: 63.76\n",
      "JobRole_Laboratory Technician: -1019.13\n",
      "JobRole_Research Scientist: -1038.26\n",
      "\n",
      "=======================================================================================\n",
      "Assumption 1: Linear Relationship between the Target and the Features\n",
      "Checking with a scatter plot of actual vs. predicted. Predictions should follow the diagonal line.\n"
     ]
    },
    {
     "data": {
      "image/png": "[encoded data removed]",
      "text/plain": [
       "<Figure size 432x288 with 1 Axes>"
      ]
     },
     "metadata": {},
     "output_type": "display_data"
    },
    {
     "name": "stdout",
     "output_type": "stream",
     "text": [
      "If non-linearity is apparent, consider adding a polynomial term \n",
      "\t\tor using box-cox transformation to make X or y follow normal distribution\n",
      "\n",
      "\n",
      "\n",
      "Building a correlation table\n",
      "\n",
      "=======================================================================================\n",
      "\n",
      "Parameters that are most likely VIOLATE linearity assumption and their correlation with MonthlyIncome\n"
     ]
    },
    {
     "data": {
      "text/plain": [
       "NumCompaniesWorked    0.15748\n",
       "Name: MonthlyIncome, dtype: float64"
      ]
     },
     "metadata": {},
     "output_type": "display_data"
    },
    {
     "name": "stdout",
     "output_type": "stream",
     "text": [
      "\n",
      "Parameters that are most likely FOLLOW linearity assumption and their correlation with MonthlyIncome\n"
     ]
    },
    {
     "data": {
      "text/plain": [
       "TotalWorkingYears     0.447025\n",
       "YearsInCurrentRole    0.346197\n",
       "Name: MonthlyIncome, dtype: float64"
      ]
     },
     "metadata": {},
     "output_type": "display_data"
    },
    {
     "name": "stdout",
     "output_type": "stream",
     "text": [
      "\n",
      "=======================================================================================\n",
      "Assumption 2: Little to no multicollinearity among predictors\n"
     ]
    },
    {
     "data": {
      "image/png": "[encoded data removed]",
      "text/plain": [
       "<Figure size 720x576 with 2 Axes>"
      ]
     },
     "metadata": {},
     "output_type": "display_data"
    },
    {
     "name": "stdout",
     "output_type": "stream",
     "text": [
      "Variance Inflation Factors (VIF)\n",
      "> 10: An indication that multicollinearity may be present\n",
      "> 100: Certain multicollinearity among the variables\n",
      "-------------------------------------\n",
      "TotalWorkingYears: 5.368983343210162\n",
      "YearsInCurrentRole: 3.421291613159925\n",
      "NumCompaniesWorked: 2.207955258412412\n",
      "JobRole_Research Scientist: 1.401289136089983\n",
      "JobRole_Laboratory Technician: 1.3570159970779132\n",
      "\n",
      "0 cases of possible multicollinearity\n",
      "0 cases of definite multicollinearity\n",
      "\n",
      "Assumption satisfied\n",
      "\n",
      "=======================================================================================\n",
      "Assumption 3: No Autocorrelation\n",
      "\n",
      "Performing Durbin-Watson Test\n",
      "Values of 1.5 < d < 2.5 generally show that there is no autocorrelation in the data\n",
      "0 to 2< is positive autocorrelation\n",
      ">2 to 4 is negative autocorrelation\n",
      "-------------------------------------\n",
      "Durbin-Watson: 2.0091594681621943\n",
      "Little to no autocorrelation \n",
      "\n",
      "Assumption satisfied\n",
      "\n",
      "=======================================================================================\n",
      "Assumption 4: Homoskedasticity of Error Terms\n",
      "Residuals should have relative constant variance\n"
     ]
    },
    {
     "data": {
      "image/png": "[encoded data removed]",
      "text/plain": [
       "<Figure size 864x432 with 1 Axes>"
      ]
     },
     "metadata": {},
     "output_type": "display_data"
    },
    {
     "name": "stdout",
     "output_type": "stream",
     "text": [
      "If heteroskedasticity is apparent, confidence intervals and predictions will be affected\n",
      "\n",
      "Consider removing outliers and preprocessing features - nonlinear transformation can help\n"
     ]
    },
    {
     "data": {
      "text/plain": [
       "{'Lagrange Multiplier': 314.9076053953093,\n",
       " 'pvalue for LM': 6.585443073158921e-67,\n",
       " 'F stats': 95.56155807760439,\n",
       " 'pvalue for Fstats': 6.221799852338426e-81}"
      ]
     },
     "metadata": {},
     "output_type": "display_data"
    },
    {
     "name": "stdout",
     "output_type": "stream",
     "text": [
      "Signs of positive autocorrelation \n",
      "\n",
      "Assumption potentially not satisfied \n",
      "\n",
      "\n",
      "=======================================================================================\n",
      "Assumption 5: The error terms are kinda normally distributed\n",
      "\n",
      "Using the Anderson-Darling test for normal distribution\n",
      "p-value from the test - below 0.05 generally means non-normal: 0.07311655265474952\n",
      "Residuals are normally distributed\n"
     ]
    },
    {
     "data": {
      "image/png": "[encoded data removed]",
      "text/plain": [
       "<Figure size 864x432 with 1 Axes>"
      ]
     },
     "metadata": {},
     "output_type": "display_data"
    },
    {
     "name": "stdout",
     "output_type": "stream",
     "text": [
      "\n",
      "Assumption satisfied\n",
      "Building a probability plot\n"
     ]
    },
    {
     "data": {
      "image/png": "[encoded data removed]",
      "text/plain": [
       "<Figure size 432x288 with 1 Axes>"
      ]
     },
     "metadata": {},
     "output_type": "display_data"
    },
    {
     "name": "stdout",
     "output_type": "stream",
     "text": [
      "\n",
      "In your dataset you quite fat tails. You have 0.016 potential outliers (15 rows)\n"
     ]
    },
    {
     "data": {
      "text/plain": [
       "{'Satisfied': ['Multicollinearity', 'Autocorrelation', 'Normality'],\n",
       " 'Potentially': ['Linearity', 'Autocorrelation', 'Sub-Normality'],\n",
       " 'Violated': []}"
      ]
     },
     "metadata": {},
     "output_type": "display_data"
    }
   ],
   "source": [
    "from Assumptions import Assumption_Tester_OLS as atols\n",
    "atols(X,y).run_all()"
   ]
  },
  {
   "cell_type": "markdown",
   "metadata": {},
   "source": [
    "# Conclusions\n",
    "\n",
    "1. Linear Relationship between the Target and the Features is satisfied 🔥 (we have remove one feature to improve the linearity : JobInvolvement)\n",
    "2. Multicollinearity assumption is satisfied 🔥 (we have remove 2 other features to improve the no Multicollinearity : 'JobLevel','YearsWithCurrManager')\n",
    "3. No autocorrelation assumption is satisfied 🔥\n",
    "4. Homoskedasticity - potentially not satisfied\n",
    "5. Normality is satisfied 🔥\n",
    "\n",
    "We came from 1 over 5 assumptions satisfied to 4 over 5 => 🚀 How ? \n",
    "- Goes from high p-value to low during the fitting \n",
    "- Drop one feature for Linear Relationship\n",
    "- Drop 4 features for Multicollinearity\n",
    "- Drop outliers over 6 000€/month meaning 500 rows. Meaning that we could build on predictive model for 'upper salary (> 6 000€) and this one. It looks two different category inside this company \n"
   ]
  },
  {
   "cell_type": "markdown",
   "metadata": {},
   "source": [
    "Next step => prediction based on new input "
   ]
  },
  {
   "cell_type": "code",
   "execution_count": null,
   "metadata": {},
   "outputs": [],
   "source": []
  },
  {
   "cell_type": "code",
   "execution_count": null,
   "metadata": {},
   "outputs": [],
   "source": []
  },
  {
   "cell_type": "code",
   "execution_count": null,
   "metadata": {},
   "outputs": [],
   "source": []
  }
 ],
 "metadata": {
  "kernelspec": {
   "display_name": "Python 3",
   "language": "python",
   "name": "python3"
  },
  "language_info": {
   "codemirror_mode": {
    "name": "ipython",
    "version": 3
   },
   "file_extension": ".py",
   "mimetype": "text/x-python",
   "name": "python",
   "nbconvert_exporter": "python",
   "pygments_lexer": "ipython3",
   "version": "3.7.6"
  }
 },
 "nbformat": 4,
 "nbformat_minor": 4
}
