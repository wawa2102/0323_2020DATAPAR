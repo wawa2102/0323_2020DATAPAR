{
 "cells": [
  {
   "cell_type": "markdown",
   "metadata": {},
   "source": [
    "# OLS cont'd"
   ]
  },
  {
   "cell_type": "markdown",
   "metadata": {},
   "source": [
    "Steps:\n",
    "1. Get the problem\n",
    "2. Get homogeneous dataset\n",
    "3. Clean it\n",
    "4. Do some descriptive/inferential analysis\n",
    "5. Build model\n",
    "6. Check for assumptions"
   ]
  },
  {
   "cell_type": "markdown",
   "metadata": {},
   "source": [
    "The goal of Ordinary Least Squares is to predict continuous process. "
   ]
  },
  {
   "cell_type": "markdown",
   "metadata": {},
   "source": [
    "Assumptions:\n",
    "1. Linearity\n",
    "2. No autocorrelation\n",
    "3. No multicolinearity (independent Xs)\n",
    "4. Homoskedasticity\n",
    "5. Exogeneity of residuals : \n",
    " * E(residuals)=0\n",
    " * Var(residuals)=const\n",
    " * cov(residuals, Xs)=0"
   ]
  },
  {
   "cell_type": "markdown",
   "metadata": {},
   "source": [
    "$y=2.5+1.25x_1-6x_2+8x_3$"
   ]
  },
  {
   "cell_type": "markdown",
   "metadata": {},
   "source": [
    "1. If $x_1$,$x_2$ and $x_3$ at the same time are equal to 0, y is equal to 2.5\n",
    "2. If $x_1$ increases by 1 having the rest being the same, y increases by 1.25\n",
    "3. If $x_2$ increases by 1 having the rest being the same, y decreases by 6\n",
    "4. If $x_3$ increases by 1 having the rest being the same, y increases by 8"
   ]
  },
  {
   "cell_type": "markdown",
   "metadata": {},
   "source": [
    "Age vs Salary\n",
    "\n",
    "$Salary=const + ß_1Age + ß_2*Age²$"
   ]
  },
  {
   "cell_type": "markdown",
   "metadata": {},
   "source": [
    "$y = ß_0 + ß_1x_1+ß_2x_2+ß_3x_1x_2$"
   ]
  },
  {
   "cell_type": "markdown",
   "metadata": {},
   "source": [
    "# Load data"
   ]
  },
  {
   "cell_type": "code",
   "execution_count": 1,
   "metadata": {},
   "outputs": [],
   "source": [
    "import pandas as pd"
   ]
  },
  {
   "cell_type": "code",
   "execution_count": 2,
   "metadata": {},
   "outputs": [],
   "source": [
    "X=pd.read_csv('clean_data.csv')"
   ]
  },
  {
   "cell_type": "code",
   "execution_count": 3,
   "metadata": {},
   "outputs": [
    {
     "data": {
      "text/html": [
       "<div>\n",
       "<style scoped>\n",
       "    .dataframe tbody tr th:only-of-type {\n",
       "        vertical-align: middle;\n",
       "    }\n",
       "\n",
       "    .dataframe tbody tr th {\n",
       "        vertical-align: top;\n",
       "    }\n",
       "\n",
       "    .dataframe thead th {\n",
       "        text-align: right;\n",
       "    }\n",
       "</style>\n",
       "<table border=\"1\" class=\"dataframe\">\n",
       "  <thead>\n",
       "    <tr style=\"text-align: right;\">\n",
       "      <th></th>\n",
       "      <th>LotFrontage</th>\n",
       "      <th>LotArea</th>\n",
       "      <th>LotShape</th>\n",
       "      <th>Utilities</th>\n",
       "      <th>LandSlope</th>\n",
       "      <th>OverallQual</th>\n",
       "      <th>OverallCond</th>\n",
       "      <th>MasVnrArea</th>\n",
       "      <th>ExterQual</th>\n",
       "      <th>ExterCond</th>\n",
       "      <th>...</th>\n",
       "      <th>Fence_MnWw</th>\n",
       "      <th>GarageType_2Types</th>\n",
       "      <th>GarageType_Attchd</th>\n",
       "      <th>GarageType_Basment</th>\n",
       "      <th>GarageType_BuiltIn</th>\n",
       "      <th>GarageType_CarPort</th>\n",
       "      <th>GarageType_Detchd</th>\n",
       "      <th>MasVnrType_BrkCmn</th>\n",
       "      <th>MasVnrType_BrkFace</th>\n",
       "      <th>MasVnrType_Stone</th>\n",
       "    </tr>\n",
       "  </thead>\n",
       "  <tbody>\n",
       "    <tr>\n",
       "      <th>0</th>\n",
       "      <td>65.0</td>\n",
       "      <td>8450</td>\n",
       "      <td>0</td>\n",
       "      <td>0</td>\n",
       "      <td>0</td>\n",
       "      <td>7</td>\n",
       "      <td>5</td>\n",
       "      <td>196.0</td>\n",
       "      <td>4</td>\n",
       "      <td>3</td>\n",
       "      <td>...</td>\n",
       "      <td>0</td>\n",
       "      <td>0</td>\n",
       "      <td>1</td>\n",
       "      <td>0</td>\n",
       "      <td>0</td>\n",
       "      <td>0</td>\n",
       "      <td>0</td>\n",
       "      <td>0</td>\n",
       "      <td>1</td>\n",
       "      <td>0</td>\n",
       "    </tr>\n",
       "    <tr>\n",
       "      <th>1</th>\n",
       "      <td>80.0</td>\n",
       "      <td>9600</td>\n",
       "      <td>0</td>\n",
       "      <td>0</td>\n",
       "      <td>0</td>\n",
       "      <td>6</td>\n",
       "      <td>8</td>\n",
       "      <td>0.0</td>\n",
       "      <td>3</td>\n",
       "      <td>3</td>\n",
       "      <td>...</td>\n",
       "      <td>0</td>\n",
       "      <td>0</td>\n",
       "      <td>1</td>\n",
       "      <td>0</td>\n",
       "      <td>0</td>\n",
       "      <td>0</td>\n",
       "      <td>0</td>\n",
       "      <td>0</td>\n",
       "      <td>0</td>\n",
       "      <td>0</td>\n",
       "    </tr>\n",
       "    <tr>\n",
       "      <th>2</th>\n",
       "      <td>68.0</td>\n",
       "      <td>11250</td>\n",
       "      <td>1</td>\n",
       "      <td>0</td>\n",
       "      <td>0</td>\n",
       "      <td>7</td>\n",
       "      <td>5</td>\n",
       "      <td>162.0</td>\n",
       "      <td>4</td>\n",
       "      <td>3</td>\n",
       "      <td>...</td>\n",
       "      <td>0</td>\n",
       "      <td>0</td>\n",
       "      <td>1</td>\n",
       "      <td>0</td>\n",
       "      <td>0</td>\n",
       "      <td>0</td>\n",
       "      <td>0</td>\n",
       "      <td>0</td>\n",
       "      <td>1</td>\n",
       "      <td>0</td>\n",
       "    </tr>\n",
       "    <tr>\n",
       "      <th>3</th>\n",
       "      <td>60.0</td>\n",
       "      <td>9550</td>\n",
       "      <td>1</td>\n",
       "      <td>0</td>\n",
       "      <td>0</td>\n",
       "      <td>7</td>\n",
       "      <td>5</td>\n",
       "      <td>0.0</td>\n",
       "      <td>3</td>\n",
       "      <td>3</td>\n",
       "      <td>...</td>\n",
       "      <td>0</td>\n",
       "      <td>0</td>\n",
       "      <td>0</td>\n",
       "      <td>0</td>\n",
       "      <td>0</td>\n",
       "      <td>0</td>\n",
       "      <td>1</td>\n",
       "      <td>0</td>\n",
       "      <td>0</td>\n",
       "      <td>0</td>\n",
       "    </tr>\n",
       "    <tr>\n",
       "      <th>4</th>\n",
       "      <td>84.0</td>\n",
       "      <td>14260</td>\n",
       "      <td>1</td>\n",
       "      <td>0</td>\n",
       "      <td>0</td>\n",
       "      <td>8</td>\n",
       "      <td>5</td>\n",
       "      <td>350.0</td>\n",
       "      <td>4</td>\n",
       "      <td>3</td>\n",
       "      <td>...</td>\n",
       "      <td>0</td>\n",
       "      <td>0</td>\n",
       "      <td>1</td>\n",
       "      <td>0</td>\n",
       "      <td>0</td>\n",
       "      <td>0</td>\n",
       "      <td>0</td>\n",
       "      <td>0</td>\n",
       "      <td>1</td>\n",
       "      <td>0</td>\n",
       "    </tr>\n",
       "  </tbody>\n",
       "</table>\n",
       "<p>5 rows × 134 columns</p>\n",
       "</div>"
      ],
      "text/plain": [
       "   LotFrontage  LotArea  LotShape  Utilities  LandSlope  OverallQual  \\\n",
       "0         65.0     8450         0          0          0            7   \n",
       "1         80.0     9600         0          0          0            6   \n",
       "2         68.0    11250         1          0          0            7   \n",
       "3         60.0     9550         1          0          0            7   \n",
       "4         84.0    14260         1          0          0            8   \n",
       "\n",
       "   OverallCond  MasVnrArea  ExterQual  ExterCond  ...  Fence_MnWw  \\\n",
       "0            5       196.0          4          3  ...           0   \n",
       "1            8         0.0          3          3  ...           0   \n",
       "2            5       162.0          4          3  ...           0   \n",
       "3            5         0.0          3          3  ...           0   \n",
       "4            5       350.0          4          3  ...           0   \n",
       "\n",
       "   GarageType_2Types  GarageType_Attchd  GarageType_Basment  \\\n",
       "0                  0                  1                   0   \n",
       "1                  0                  1                   0   \n",
       "2                  0                  1                   0   \n",
       "3                  0                  0                   0   \n",
       "4                  0                  1                   0   \n",
       "\n",
       "   GarageType_BuiltIn  GarageType_CarPort  GarageType_Detchd  \\\n",
       "0                   0                   0                  0   \n",
       "1                   0                   0                  0   \n",
       "2                   0                   0                  0   \n",
       "3                   0                   0                  1   \n",
       "4                   0                   0                  0   \n",
       "\n",
       "   MasVnrType_BrkCmn  MasVnrType_BrkFace  MasVnrType_Stone  \n",
       "0                  0                   1                 0  \n",
       "1                  0                   0                 0  \n",
       "2                  0                   1                 0  \n",
       "3                  0                   0                 0  \n",
       "4                  0                   1                 0  \n",
       "\n",
       "[5 rows x 134 columns]"
      ]
     },
     "execution_count": 3,
     "metadata": {},
     "output_type": "execute_result"
    }
   ],
   "source": [
    "X.head()"
   ]
  },
  {
   "cell_type": "code",
   "execution_count": 4,
   "metadata": {},
   "outputs": [],
   "source": [
    "y=pd.read_csv('SalePrice.csv')"
   ]
  },
  {
   "cell_type": "code",
   "execution_count": 5,
   "metadata": {},
   "outputs": [
    {
     "data": {
      "text/html": [
       "<table class=\"simpletable\">\n",
       "<caption>OLS Regression Results</caption>\n",
       "<tr>\n",
       "  <th>Dep. Variable:</th>        <td>SalePrice</td>    <th>  R-squared:         </th> <td>   0.867</td> \n",
       "</tr>\n",
       "<tr>\n",
       "  <th>Model:</th>                   <td>OLS</td>       <th>  Adj. R-squared:    </th> <td>   0.862</td> \n",
       "</tr>\n",
       "<tr>\n",
       "  <th>Method:</th>             <td>Least Squares</td>  <th>  F-statistic:       </th> <td>   191.4</td> \n",
       "</tr>\n",
       "<tr>\n",
       "  <th>Date:</th>             <td>Fri, 01 May 2020</td> <th>  Prob (F-statistic):</th>  <td>  0.00</td>  \n",
       "</tr>\n",
       "<tr>\n",
       "  <th>Time:</th>                 <td>01:34:24</td>     <th>  Log-Likelihood:    </th> <td> -17072.</td> \n",
       "</tr>\n",
       "<tr>\n",
       "  <th>No. Observations:</th>      <td>  1460</td>      <th>  AIC:               </th> <td>3.424e+04</td>\n",
       "</tr>\n",
       "<tr>\n",
       "  <th>Df Residuals:</th>          <td>  1411</td>      <th>  BIC:               </th> <td>3.450e+04</td>\n",
       "</tr>\n",
       "<tr>\n",
       "  <th>Df Model:</th>              <td>    48</td>      <th>                     </th>     <td> </td>    \n",
       "</tr>\n",
       "<tr>\n",
       "  <th>Covariance Type:</th>      <td>nonrobust</td>    <th>                     </th>     <td> </td>    \n",
       "</tr>\n",
       "</table>\n",
       "<table class=\"simpletable\">\n",
       "<tr>\n",
       "            <td></td>              <th>coef</th>     <th>std err</th>      <th>t</th>      <th>P>|t|</th>  <th>[0.025</th>    <th>0.975]</th>  \n",
       "</tr>\n",
       "<tr>\n",
       "  <th>const</th>                <td>-8.437e+04</td> <td> 1.16e+04</td> <td>   -7.259</td> <td> 0.000</td> <td>-1.07e+05</td> <td>-6.16e+04</td>\n",
       "</tr>\n",
       "<tr>\n",
       "  <th>LotArea</th>              <td>    0.3404</td> <td>    0.094</td> <td>    3.621</td> <td> 0.000</td> <td>    0.156</td> <td>    0.525</td>\n",
       "</tr>\n",
       "<tr>\n",
       "  <th>OverallQual</th>          <td> 9850.1692</td> <td> 1118.933</td> <td>    8.803</td> <td> 0.000</td> <td> 7655.217</td> <td>  1.2e+04</td>\n",
       "</tr>\n",
       "<tr>\n",
       "  <th>OverallCond</th>          <td> 3973.6742</td> <td>  804.869</td> <td>    4.937</td> <td> 0.000</td> <td> 2394.806</td> <td> 5552.543</td>\n",
       "</tr>\n",
       "<tr>\n",
       "  <th>MasVnrArea</th>           <td>   26.7252</td> <td>    6.108</td> <td>    4.375</td> <td> 0.000</td> <td>   14.743</td> <td>   38.707</td>\n",
       "</tr>\n",
       "<tr>\n",
       "  <th>ExterQual</th>            <td> 6353.0740</td> <td> 2383.558</td> <td>    2.665</td> <td> 0.008</td> <td> 1677.375</td> <td>  1.1e+04</td>\n",
       "</tr>\n",
       "<tr>\n",
       "  <th>BsmtQual</th>             <td> 8072.9156</td> <td> 1414.867</td> <td>    5.706</td> <td> 0.000</td> <td> 5297.446</td> <td> 1.08e+04</td>\n",
       "</tr>\n",
       "<tr>\n",
       "  <th>BsmtExposure</th>         <td> 7183.3541</td> <td>  921.692</td> <td>    7.794</td> <td> 0.000</td> <td> 5375.320</td> <td> 8991.388</td>\n",
       "</tr>\n",
       "<tr>\n",
       "  <th>2ndFlrSF</th>             <td>   14.1006</td> <td>    5.610</td> <td>    2.513</td> <td> 0.012</td> <td>    3.096</td> <td>   25.106</td>\n",
       "</tr>\n",
       "<tr>\n",
       "  <th>GrLivArea</th>            <td>   44.2771</td> <td>    4.185</td> <td>   10.580</td> <td> 0.000</td> <td>   36.068</td> <td>   52.486</td>\n",
       "</tr>\n",
       "<tr>\n",
       "  <th>BsmtFullBath</th>         <td> 6238.5254</td> <td> 1887.890</td> <td>    3.304</td> <td> 0.001</td> <td> 2535.152</td> <td> 9941.899</td>\n",
       "</tr>\n",
       "<tr>\n",
       "  <th>FullBath</th>             <td> 8044.7842</td> <td> 2387.309</td> <td>    3.370</td> <td> 0.001</td> <td> 3361.728</td> <td> 1.27e+04</td>\n",
       "</tr>\n",
       "<tr>\n",
       "  <th>HalfBath</th>             <td> 6647.8086</td> <td> 2309.479</td> <td>    2.878</td> <td> 0.004</td> <td> 2117.426</td> <td> 1.12e+04</td>\n",
       "</tr>\n",
       "<tr>\n",
       "  <th>BedroomAbvGr</th>         <td>-5642.7353</td> <td> 1514.773</td> <td>   -3.725</td> <td> 0.000</td> <td>-8614.185</td> <td>-2671.286</td>\n",
       "</tr>\n",
       "<tr>\n",
       "  <th>KitchenAbvGr</th>         <td>-2.003e+04</td> <td> 4270.692</td> <td>   -4.690</td> <td> 0.000</td> <td>-2.84e+04</td> <td>-1.17e+04</td>\n",
       "</tr>\n",
       "<tr>\n",
       "  <th>KitchenQual</th>          <td> 8339.3855</td> <td> 1862.722</td> <td>    4.477</td> <td> 0.000</td> <td> 4685.383</td> <td>  1.2e+04</td>\n",
       "</tr>\n",
       "<tr>\n",
       "  <th>TotRmsAbvGrd</th>         <td> 3145.0915</td> <td> 1068.367</td> <td>    2.944</td> <td> 0.003</td> <td> 1049.332</td> <td> 5240.851</td>\n",
       "</tr>\n",
       "<tr>\n",
       "  <th>Functional</th>           <td>-3790.3634</td> <td> 1250.809</td> <td>   -3.030</td> <td> 0.002</td> <td>-6244.008</td> <td>-1336.719</td>\n",
       "</tr>\n",
       "<tr>\n",
       "  <th>Fireplaces</th>           <td> 4028.4370</td> <td> 1520.415</td> <td>    2.650</td> <td> 0.008</td> <td> 1045.920</td> <td> 7010.954</td>\n",
       "</tr>\n",
       "<tr>\n",
       "  <th>GarageCars</th>           <td> 7961.0772</td> <td> 1457.560</td> <td>    5.462</td> <td> 0.000</td> <td> 5101.859</td> <td> 1.08e+04</td>\n",
       "</tr>\n",
       "<tr>\n",
       "  <th>ScreenPorch</th>          <td>   44.3890</td> <td>   14.350</td> <td>    3.093</td> <td> 0.002</td> <td>   16.239</td> <td>   72.539</td>\n",
       "</tr>\n",
       "<tr>\n",
       "  <th>BsmtFinTypeALQ</th>       <td> 6660.5551</td> <td> 2303.907</td> <td>    2.891</td> <td> 0.004</td> <td> 2141.103</td> <td> 1.12e+04</td>\n",
       "</tr>\n",
       "<tr>\n",
       "  <th>BsmtFinTypeGLQ</th>       <td> 1.022e+04</td> <td> 2250.698</td> <td>    4.541</td> <td> 0.000</td> <td> 5804.745</td> <td> 1.46e+04</td>\n",
       "</tr>\n",
       "<tr>\n",
       "  <th>LandContour_HLS</th>      <td>  1.94e+04</td> <td> 5460.240</td> <td>    3.552</td> <td> 0.000</td> <td> 8685.674</td> <td> 3.01e+04</td>\n",
       "</tr>\n",
       "<tr>\n",
       "  <th>LandContour_Lvl</th>      <td>  1.18e+04</td> <td> 3498.109</td> <td>    3.373</td> <td> 0.001</td> <td> 4938.221</td> <td> 1.87e+04</td>\n",
       "</tr>\n",
       "<tr>\n",
       "  <th>LotConfig_CulDSac</th>    <td> 1.098e+04</td> <td> 3293.858</td> <td>    3.334</td> <td> 0.001</td> <td> 4520.940</td> <td> 1.74e+04</td>\n",
       "</tr>\n",
       "<tr>\n",
       "  <th>BldgType_Twnhs</th>       <td>-4.078e+04</td> <td> 5339.841</td> <td>   -7.636</td> <td> 0.000</td> <td>-5.13e+04</td> <td>-3.03e+04</td>\n",
       "</tr>\n",
       "<tr>\n",
       "  <th>BldgType_TwnhsE</th>      <td>-3.467e+04</td> <td> 3610.241</td> <td>   -9.603</td> <td> 0.000</td> <td>-4.18e+04</td> <td>-2.76e+04</td>\n",
       "</tr>\n",
       "<tr>\n",
       "  <th>HouseStyle_1Story</th>    <td> 2.071e+04</td> <td> 2918.928</td> <td>    7.095</td> <td> 0.000</td> <td>  1.5e+04</td> <td> 2.64e+04</td>\n",
       "</tr>\n",
       "<tr>\n",
       "  <th>HouseStyle_2Story</th>    <td>-8307.5188</td> <td> 3312.623</td> <td>   -2.508</td> <td> 0.012</td> <td>-1.48e+04</td> <td>-1809.323</td>\n",
       "</tr>\n",
       "<tr>\n",
       "  <th>Heating_OthW</th>         <td>-5.303e+04</td> <td> 2.13e+04</td> <td>   -2.494</td> <td> 0.013</td> <td>-9.47e+04</td> <td>-1.13e+04</td>\n",
       "</tr>\n",
       "<tr>\n",
       "  <th>MasVnrType_BrkFace</th>   <td>-6281.3046</td> <td> 2203.169</td> <td>   -2.851</td> <td> 0.004</td> <td>-1.06e+04</td> <td>-1959.465</td>\n",
       "</tr>\n",
       "<tr>\n",
       "  <th>Neighborhood_BrkSide</th> <td>-1.631e+04</td> <td> 5113.861</td> <td>   -3.189</td> <td> 0.001</td> <td>-2.63e+04</td> <td>-6277.747</td>\n",
       "</tr>\n",
       "<tr>\n",
       "  <th>Neighborhood_ClearCr</th> <td>-1.466e+04</td> <td> 6643.863</td> <td>   -2.206</td> <td> 0.028</td> <td>-2.77e+04</td> <td>-1624.286</td>\n",
       "</tr>\n",
       "<tr>\n",
       "  <th>Neighborhood_CollgCr</th> <td>-2.033e+04</td> <td> 3589.287</td> <td>   -5.663</td> <td> 0.000</td> <td>-2.74e+04</td> <td>-1.33e+04</td>\n",
       "</tr>\n",
       "<tr>\n",
       "  <th>Neighborhood_Edwards</th> <td>-2.928e+04</td> <td> 4217.764</td> <td>   -6.942</td> <td> 0.000</td> <td>-3.76e+04</td> <td> -2.1e+04</td>\n",
       "</tr>\n",
       "<tr>\n",
       "  <th>Neighborhood_Gilbert</th> <td>-2.369e+04</td> <td> 4339.792</td> <td>   -5.458</td> <td> 0.000</td> <td>-3.22e+04</td> <td>-1.52e+04</td>\n",
       "</tr>\n",
       "<tr>\n",
       "  <th>Neighborhood_IDOTRR</th>  <td>-3.052e+04</td> <td> 5925.727</td> <td>   -5.150</td> <td> 0.000</td> <td>-4.21e+04</td> <td>-1.89e+04</td>\n",
       "</tr>\n",
       "<tr>\n",
       "  <th>Neighborhood_Mitchel</th> <td>-2.228e+04</td> <td> 5115.833</td> <td>   -4.356</td> <td> 0.000</td> <td>-3.23e+04</td> <td>-1.22e+04</td>\n",
       "</tr>\n",
       "<tr>\n",
       "  <th>Neighborhood_NAmes</th>   <td>-2.163e+04</td> <td> 3618.042</td> <td>   -5.977</td> <td> 0.000</td> <td>-2.87e+04</td> <td>-1.45e+04</td>\n",
       "</tr>\n",
       "<tr>\n",
       "  <th>Neighborhood_NWAmes</th>  <td>-2.762e+04</td> <td> 4536.557</td> <td>   -6.089</td> <td> 0.000</td> <td>-3.65e+04</td> <td>-1.87e+04</td>\n",
       "</tr>\n",
       "<tr>\n",
       "  <th>Neighborhood_NoRidge</th> <td> 2.779e+04</td> <td> 5766.117</td> <td>    4.819</td> <td> 0.000</td> <td> 1.65e+04</td> <td> 3.91e+04</td>\n",
       "</tr>\n",
       "<tr>\n",
       "  <th>Neighborhood_NridgHt</th> <td> 3.259e+04</td> <td> 4462.002</td> <td>    7.303</td> <td> 0.000</td> <td> 2.38e+04</td> <td> 4.13e+04</td>\n",
       "</tr>\n",
       "<tr>\n",
       "  <th>Neighborhood_OldTown</th> <td>-3.177e+04</td> <td> 4315.226</td> <td>   -7.362</td> <td> 0.000</td> <td>-4.02e+04</td> <td>-2.33e+04</td>\n",
       "</tr>\n",
       "<tr>\n",
       "  <th>Neighborhood_SWISU</th>   <td>-2.632e+04</td> <td> 6931.594</td> <td>   -3.797</td> <td> 0.000</td> <td>-3.99e+04</td> <td>-1.27e+04</td>\n",
       "</tr>\n",
       "<tr>\n",
       "  <th>Neighborhood_Sawyer</th>  <td>-2.097e+04</td> <td> 4621.510</td> <td>   -4.538</td> <td> 0.000</td> <td>   -3e+04</td> <td>-1.19e+04</td>\n",
       "</tr>\n",
       "<tr>\n",
       "  <th>Neighborhood_SawyerW</th> <td>-1.954e+04</td> <td> 4597.901</td> <td>   -4.249</td> <td> 0.000</td> <td>-2.86e+04</td> <td>-1.05e+04</td>\n",
       "</tr>\n",
       "<tr>\n",
       "  <th>Neighborhood_StoneBr</th> <td>  3.91e+04</td> <td> 6591.226</td> <td>    5.932</td> <td> 0.000</td> <td> 2.62e+04</td> <td>  5.2e+04</td>\n",
       "</tr>\n",
       "<tr>\n",
       "  <th>Neighborhood_Timber</th>  <td> -1.75e+04</td> <td> 5679.367</td> <td>   -3.082</td> <td> 0.002</td> <td>-2.86e+04</td> <td>-6362.372</td>\n",
       "</tr>\n",
       "</table>\n",
       "<table class=\"simpletable\">\n",
       "<tr>\n",
       "  <th>Omnibus:</th>       <td>475.500</td> <th>  Durbin-Watson:     </th> <td>   1.901</td> \n",
       "</tr>\n",
       "<tr>\n",
       "  <th>Prob(Omnibus):</th> <td> 0.000</td>  <th>  Jarque-Bera (JB):  </th> <td>58625.510</td>\n",
       "</tr>\n",
       "<tr>\n",
       "  <th>Skew:</th>          <td>-0.400</td>  <th>  Prob(JB):          </th> <td>    0.00</td> \n",
       "</tr>\n",
       "<tr>\n",
       "  <th>Kurtosis:</th>      <td>34.033</td>  <th>  Cond. No.          </th> <td>4.01e+05</td> \n",
       "</tr>\n",
       "</table><br/><br/>Warnings:<br/>[1] Standard Errors assume that the covariance matrix of the errors is correctly specified.<br/>[2] The condition number is large, 4.01e+05. This might indicate that there are<br/>strong multicollinearity or other numerical problems."
      ],
      "text/plain": [
       "<class 'statsmodels.iolib.summary.Summary'>\n",
       "\"\"\"\n",
       "                            OLS Regression Results                            \n",
       "==============================================================================\n",
       "Dep. Variable:              SalePrice   R-squared:                       0.867\n",
       "Model:                            OLS   Adj. R-squared:                  0.862\n",
       "Method:                 Least Squares   F-statistic:                     191.4\n",
       "Date:                Fri, 01 May 2020   Prob (F-statistic):               0.00\n",
       "Time:                        01:34:24   Log-Likelihood:                -17072.\n",
       "No. Observations:                1460   AIC:                         3.424e+04\n",
       "Df Residuals:                    1411   BIC:                         3.450e+04\n",
       "Df Model:                          48                                         \n",
       "Covariance Type:            nonrobust                                         \n",
       "========================================================================================\n",
       "                           coef    std err          t      P>|t|      [0.025      0.975]\n",
       "----------------------------------------------------------------------------------------\n",
       "const                -8.437e+04   1.16e+04     -7.259      0.000   -1.07e+05   -6.16e+04\n",
       "LotArea                  0.3404      0.094      3.621      0.000       0.156       0.525\n",
       "OverallQual           9850.1692   1118.933      8.803      0.000    7655.217     1.2e+04\n",
       "OverallCond           3973.6742    804.869      4.937      0.000    2394.806    5552.543\n",
       "MasVnrArea              26.7252      6.108      4.375      0.000      14.743      38.707\n",
       "ExterQual             6353.0740   2383.558      2.665      0.008    1677.375     1.1e+04\n",
       "BsmtQual              8072.9156   1414.867      5.706      0.000    5297.446    1.08e+04\n",
       "BsmtExposure          7183.3541    921.692      7.794      0.000    5375.320    8991.388\n",
       "2ndFlrSF                14.1006      5.610      2.513      0.012       3.096      25.106\n",
       "GrLivArea               44.2771      4.185     10.580      0.000      36.068      52.486\n",
       "BsmtFullBath          6238.5254   1887.890      3.304      0.001    2535.152    9941.899\n",
       "FullBath              8044.7842   2387.309      3.370      0.001    3361.728    1.27e+04\n",
       "HalfBath              6647.8086   2309.479      2.878      0.004    2117.426    1.12e+04\n",
       "BedroomAbvGr         -5642.7353   1514.773     -3.725      0.000   -8614.185   -2671.286\n",
       "KitchenAbvGr         -2.003e+04   4270.692     -4.690      0.000   -2.84e+04   -1.17e+04\n",
       "KitchenQual           8339.3855   1862.722      4.477      0.000    4685.383     1.2e+04\n",
       "TotRmsAbvGrd          3145.0915   1068.367      2.944      0.003    1049.332    5240.851\n",
       "Functional           -3790.3634   1250.809     -3.030      0.002   -6244.008   -1336.719\n",
       "Fireplaces            4028.4370   1520.415      2.650      0.008    1045.920    7010.954\n",
       "GarageCars            7961.0772   1457.560      5.462      0.000    5101.859    1.08e+04\n",
       "ScreenPorch             44.3890     14.350      3.093      0.002      16.239      72.539\n",
       "BsmtFinTypeALQ        6660.5551   2303.907      2.891      0.004    2141.103    1.12e+04\n",
       "BsmtFinTypeGLQ        1.022e+04   2250.698      4.541      0.000    5804.745    1.46e+04\n",
       "LandContour_HLS        1.94e+04   5460.240      3.552      0.000    8685.674    3.01e+04\n",
       "LandContour_Lvl        1.18e+04   3498.109      3.373      0.001    4938.221    1.87e+04\n",
       "LotConfig_CulDSac     1.098e+04   3293.858      3.334      0.001    4520.940    1.74e+04\n",
       "BldgType_Twnhs       -4.078e+04   5339.841     -7.636      0.000   -5.13e+04   -3.03e+04\n",
       "BldgType_TwnhsE      -3.467e+04   3610.241     -9.603      0.000   -4.18e+04   -2.76e+04\n",
       "HouseStyle_1Story     2.071e+04   2918.928      7.095      0.000     1.5e+04    2.64e+04\n",
       "HouseStyle_2Story    -8307.5188   3312.623     -2.508      0.012   -1.48e+04   -1809.323\n",
       "Heating_OthW         -5.303e+04   2.13e+04     -2.494      0.013   -9.47e+04   -1.13e+04\n",
       "MasVnrType_BrkFace   -6281.3046   2203.169     -2.851      0.004   -1.06e+04   -1959.465\n",
       "Neighborhood_BrkSide -1.631e+04   5113.861     -3.189      0.001   -2.63e+04   -6277.747\n",
       "Neighborhood_ClearCr -1.466e+04   6643.863     -2.206      0.028   -2.77e+04   -1624.286\n",
       "Neighborhood_CollgCr -2.033e+04   3589.287     -5.663      0.000   -2.74e+04   -1.33e+04\n",
       "Neighborhood_Edwards -2.928e+04   4217.764     -6.942      0.000   -3.76e+04    -2.1e+04\n",
       "Neighborhood_Gilbert -2.369e+04   4339.792     -5.458      0.000   -3.22e+04   -1.52e+04\n",
       "Neighborhood_IDOTRR  -3.052e+04   5925.727     -5.150      0.000   -4.21e+04   -1.89e+04\n",
       "Neighborhood_Mitchel -2.228e+04   5115.833     -4.356      0.000   -3.23e+04   -1.22e+04\n",
       "Neighborhood_NAmes   -2.163e+04   3618.042     -5.977      0.000   -2.87e+04   -1.45e+04\n",
       "Neighborhood_NWAmes  -2.762e+04   4536.557     -6.089      0.000   -3.65e+04   -1.87e+04\n",
       "Neighborhood_NoRidge  2.779e+04   5766.117      4.819      0.000    1.65e+04    3.91e+04\n",
       "Neighborhood_NridgHt  3.259e+04   4462.002      7.303      0.000    2.38e+04    4.13e+04\n",
       "Neighborhood_OldTown -3.177e+04   4315.226     -7.362      0.000   -4.02e+04   -2.33e+04\n",
       "Neighborhood_SWISU   -2.632e+04   6931.594     -3.797      0.000   -3.99e+04   -1.27e+04\n",
       "Neighborhood_Sawyer  -2.097e+04   4621.510     -4.538      0.000      -3e+04   -1.19e+04\n",
       "Neighborhood_SawyerW -1.954e+04   4597.901     -4.249      0.000   -2.86e+04   -1.05e+04\n",
       "Neighborhood_StoneBr   3.91e+04   6591.226      5.932      0.000    2.62e+04     5.2e+04\n",
       "Neighborhood_Timber   -1.75e+04   5679.367     -3.082      0.002   -2.86e+04   -6362.372\n",
       "==============================================================================\n",
       "Omnibus:                      475.500   Durbin-Watson:                   1.901\n",
       "Prob(Omnibus):                  0.000   Jarque-Bera (JB):            58625.510\n",
       "Skew:                          -0.400   Prob(JB):                         0.00\n",
       "Kurtosis:                      34.033   Cond. No.                     4.01e+05\n",
       "==============================================================================\n",
       "\n",
       "Warnings:\n",
       "[1] Standard Errors assume that the covariance matrix of the errors is correctly specified.\n",
       "[2] The condition number is large, 4.01e+05. This might indicate that there are\n",
       "strong multicollinearity or other numerical problems.\n",
       "\"\"\""
      ]
     },
     "execution_count": 5,
     "metadata": {},
     "output_type": "execute_result"
    }
   ],
   "source": [
    "import statsmodels.api as sm\n",
    "# you can read the model using code below. \n",
    "fitted_model=sm.load('fitted_model.pickle')\n",
    "fitted_model.summary()"
   ]
  },
  {
   "cell_type": "code",
   "execution_count": 6,
   "metadata": {},
   "outputs": [
    {
     "data": {
      "text/plain": [
       "Index(['LotArea', 'OverallQual', 'OverallCond', 'MasVnrArea', 'ExterQual',\n",
       "       'BsmtQual', 'BsmtExposure', '2ndFlrSF', 'GrLivArea', 'BsmtFullBath',\n",
       "       'FullBath', 'HalfBath', 'BedroomAbvGr', 'KitchenAbvGr', 'KitchenQual',\n",
       "       'TotRmsAbvGrd', 'Functional', 'Fireplaces', 'GarageCars', 'ScreenPorch',\n",
       "       'BsmtFinTypeALQ', 'BsmtFinTypeGLQ', 'LandContour_HLS',\n",
       "       'LandContour_Lvl', 'LotConfig_CulDSac', 'BldgType_Twnhs',\n",
       "       'BldgType_TwnhsE', 'HouseStyle_1Story', 'HouseStyle_2Story',\n",
       "       'Heating_OthW', 'MasVnrType_BrkFace', 'Neighborhood_BrkSide',\n",
       "       'Neighborhood_ClearCr', 'Neighborhood_CollgCr', 'Neighborhood_Edwards',\n",
       "       'Neighborhood_Gilbert', 'Neighborhood_IDOTRR', 'Neighborhood_Mitchel',\n",
       "       'Neighborhood_NAmes', 'Neighborhood_NWAmes', 'Neighborhood_NoRidge',\n",
       "       'Neighborhood_NridgHt', 'Neighborhood_OldTown', 'Neighborhood_SWISU',\n",
       "       'Neighborhood_Sawyer', 'Neighborhood_SawyerW', 'Neighborhood_StoneBr',\n",
       "       'Neighborhood_Timber'],\n",
       "      dtype='object')"
      ]
     },
     "execution_count": 6,
     "metadata": {},
     "output_type": "execute_result"
    }
   ],
   "source": [
    "fitted_model.params.index[1:]"
   ]
  },
  {
   "cell_type": "code",
   "execution_count": 7,
   "metadata": {},
   "outputs": [],
   "source": [
    "X_best=X[fitted_model.params.index[1:]]"
   ]
  },
  {
   "cell_type": "code",
   "execution_count": 8,
   "metadata": {},
   "outputs": [
    {
     "data": {
      "text/plain": [
       "(1460, 48)"
      ]
     },
     "execution_count": 8,
     "metadata": {},
     "output_type": "execute_result"
    }
   ],
   "source": [
    "X_best.shape"
   ]
  },
  {
   "cell_type": "code",
   "execution_count": 9,
   "metadata": {},
   "outputs": [],
   "source": [
    "from statsmodels.tools.tools import add_constant"
   ]
  },
  {
   "cell_type": "code",
   "execution_count": 10,
   "metadata": {},
   "outputs": [
    {
     "data": {
      "text/html": [
       "<table class=\"simpletable\">\n",
       "<caption>OLS Regression Results</caption>\n",
       "<tr>\n",
       "  <th>Dep. Variable:</th>        <td>SalePrice</td>    <th>  R-squared:         </th> <td>   0.867</td> \n",
       "</tr>\n",
       "<tr>\n",
       "  <th>Model:</th>                   <td>OLS</td>       <th>  Adj. R-squared:    </th> <td>   0.862</td> \n",
       "</tr>\n",
       "<tr>\n",
       "  <th>Method:</th>             <td>Least Squares</td>  <th>  F-statistic:       </th> <td>   190.8</td> \n",
       "</tr>\n",
       "<tr>\n",
       "  <th>Date:</th>             <td>Fri, 01 May 2020</td> <th>  Prob (F-statistic):</th>  <td>  0.00</td>  \n",
       "</tr>\n",
       "<tr>\n",
       "  <th>Time:</th>                 <td>01:34:26</td>     <th>  Log-Likelihood:    </th> <td> -17074.</td> \n",
       "</tr>\n",
       "<tr>\n",
       "  <th>No. Observations:</th>      <td>  1460</td>      <th>  AIC:               </th> <td>3.425e+04</td>\n",
       "</tr>\n",
       "<tr>\n",
       "  <th>Df Residuals:</th>          <td>  1411</td>      <th>  BIC:               </th> <td>3.451e+04</td>\n",
       "</tr>\n",
       "<tr>\n",
       "  <th>Df Model:</th>              <td>    48</td>      <th>                     </th>     <td> </td>    \n",
       "</tr>\n",
       "<tr>\n",
       "  <th>Covariance Type:</th>      <td>nonrobust</td>    <th>                     </th>     <td> </td>    \n",
       "</tr>\n",
       "</table>\n",
       "<table class=\"simpletable\">\n",
       "<tr>\n",
       "            <td></td>              <th>coef</th>     <th>std err</th>      <th>t</th>      <th>P>|t|</th>  <th>[0.025</th>    <th>0.975]</th>  \n",
       "</tr>\n",
       "<tr>\n",
       "  <th>const</th>                <td>-8.483e+04</td> <td> 1.16e+04</td> <td>   -7.289</td> <td> 0.000</td> <td>-1.08e+05</td> <td> -6.2e+04</td>\n",
       "</tr>\n",
       "<tr>\n",
       "  <th>LotArea</th>              <td>    0.3457</td> <td>    0.094</td> <td>    3.674</td> <td> 0.000</td> <td>    0.161</td> <td>    0.530</td>\n",
       "</tr>\n",
       "<tr>\n",
       "  <th>OverallQual</th>          <td> 9851.2346</td> <td> 1120.519</td> <td>    8.792</td> <td> 0.000</td> <td> 7653.171</td> <td>  1.2e+04</td>\n",
       "</tr>\n",
       "<tr>\n",
       "  <th>OverallCond</th>          <td> 3883.7263</td> <td>  806.062</td> <td>    4.818</td> <td> 0.000</td> <td> 2302.517</td> <td> 5464.936</td>\n",
       "</tr>\n",
       "<tr>\n",
       "  <th>MasVnrArea</th>           <td>   26.9510</td> <td>    6.116</td> <td>    4.407</td> <td> 0.000</td> <td>   14.954</td> <td>   38.948</td>\n",
       "</tr>\n",
       "<tr>\n",
       "  <th>ExterQual</th>            <td> 6720.9406</td> <td> 2386.693</td> <td>    2.816</td> <td> 0.005</td> <td> 2039.092</td> <td> 1.14e+04</td>\n",
       "</tr>\n",
       "<tr>\n",
       "  <th>BsmtQual</th>             <td> 8038.8515</td> <td> 1418.440</td> <td>    5.667</td> <td> 0.000</td> <td> 5256.374</td> <td> 1.08e+04</td>\n",
       "</tr>\n",
       "<tr>\n",
       "  <th>BsmtExposure</th>         <td> 7028.6623</td> <td>  933.949</td> <td>    7.526</td> <td> 0.000</td> <td> 5196.585</td> <td> 8860.740</td>\n",
       "</tr>\n",
       "<tr>\n",
       "  <th>2ndFlrSF</th>             <td>   12.9611</td> <td>    5.595</td> <td>    2.317</td> <td> 0.021</td> <td>    1.986</td> <td>   23.936</td>\n",
       "</tr>\n",
       "<tr>\n",
       "  <th>GrLivArea</th>            <td>   44.2019</td> <td>    4.193</td> <td>   10.541</td> <td> 0.000</td> <td>   35.976</td> <td>   52.428</td>\n",
       "</tr>\n",
       "<tr>\n",
       "  <th>BsmtFullBath</th>         <td> 6123.7786</td> <td> 1892.523</td> <td>    3.236</td> <td> 0.001</td> <td> 2411.317</td> <td> 9836.240</td>\n",
       "</tr>\n",
       "<tr>\n",
       "  <th>FullBath</th>             <td> 7976.3475</td> <td> 2390.475</td> <td>    3.337</td> <td> 0.001</td> <td> 3287.081</td> <td> 1.27e+04</td>\n",
       "</tr>\n",
       "<tr>\n",
       "  <th>HalfBath</th>             <td> 6788.5653</td> <td> 2313.750</td> <td>    2.934</td> <td> 0.003</td> <td> 2249.806</td> <td> 1.13e+04</td>\n",
       "</tr>\n",
       "<tr>\n",
       "  <th>BedroomAbvGr</th>         <td>-5706.9860</td> <td> 1516.685</td> <td>   -3.763</td> <td> 0.000</td> <td>-8682.186</td> <td>-2731.786</td>\n",
       "</tr>\n",
       "<tr>\n",
       "  <th>KitchenAbvGr</th>         <td>-1.987e+04</td> <td> 4276.346</td> <td>   -4.647</td> <td> 0.000</td> <td>-2.83e+04</td> <td>-1.15e+04</td>\n",
       "</tr>\n",
       "<tr>\n",
       "  <th>KitchenQual</th>          <td> 8368.5951</td> <td> 1865.321</td> <td>    4.486</td> <td> 0.000</td> <td> 4709.494</td> <td>  1.2e+04</td>\n",
       "</tr>\n",
       "<tr>\n",
       "  <th>TotRmsAbvGrd</th>         <td> 3233.9815</td> <td> 1070.130</td> <td>    3.022</td> <td> 0.003</td> <td> 1134.764</td> <td> 5333.199</td>\n",
       "</tr>\n",
       "<tr>\n",
       "  <th>Functional</th>           <td>-3645.8141</td> <td> 1253.198</td> <td>   -2.909</td> <td> 0.004</td> <td>-6104.147</td> <td>-1187.482</td>\n",
       "</tr>\n",
       "<tr>\n",
       "  <th>Fireplaces</th>           <td> 3865.0417</td> <td> 1522.841</td> <td>    2.538</td> <td> 0.011</td> <td>  877.765</td> <td> 6852.318</td>\n",
       "</tr>\n",
       "<tr>\n",
       "  <th>GarageCars</th>           <td> 7814.0656</td> <td> 1460.545</td> <td>    5.350</td> <td> 0.000</td> <td> 4948.992</td> <td> 1.07e+04</td>\n",
       "</tr>\n",
       "<tr>\n",
       "  <th>ScreenPorch</th>          <td>   44.0378</td> <td>   14.371</td> <td>    3.064</td> <td> 0.002</td> <td>   15.846</td> <td>   72.229</td>\n",
       "</tr>\n",
       "<tr>\n",
       "  <th>BsmtFinTypeALQ</th>       <td> 6844.8183</td> <td> 2305.500</td> <td>    2.969</td> <td> 0.003</td> <td> 2322.243</td> <td> 1.14e+04</td>\n",
       "</tr>\n",
       "<tr>\n",
       "  <th>BsmtFinTypeGLQ</th>       <td> 1.025e+04</td> <td> 2254.592</td> <td>    4.544</td> <td> 0.000</td> <td> 5822.724</td> <td> 1.47e+04</td>\n",
       "</tr>\n",
       "<tr>\n",
       "  <th>LandContour_HLS</th>      <td> 1.891e+04</td> <td> 5470.152</td> <td>    3.458</td> <td> 0.001</td> <td> 8184.231</td> <td> 2.96e+04</td>\n",
       "</tr>\n",
       "<tr>\n",
       "  <th>LandContour_Lvl</th>      <td> 1.139e+04</td> <td> 3498.582</td> <td>    3.255</td> <td> 0.001</td> <td> 4524.515</td> <td> 1.83e+04</td>\n",
       "</tr>\n",
       "<tr>\n",
       "  <th>LotConfig_CulDSac</th>    <td> 1.068e+04</td> <td> 3299.299</td> <td>    3.237</td> <td> 0.001</td> <td> 4208.688</td> <td> 1.72e+04</td>\n",
       "</tr>\n",
       "<tr>\n",
       "  <th>BldgType_Twnhs</th>       <td>-4.047e+04</td> <td> 5348.523</td> <td>   -7.566</td> <td> 0.000</td> <td> -5.1e+04</td> <td>   -3e+04</td>\n",
       "</tr>\n",
       "<tr>\n",
       "  <th>BldgType_TwnhsE</th>      <td>-3.447e+04</td> <td> 3615.121</td> <td>   -9.534</td> <td> 0.000</td> <td>-4.16e+04</td> <td>-2.74e+04</td>\n",
       "</tr>\n",
       "<tr>\n",
       "  <th>HouseStyle_1Story</th>    <td> 2.007e+04</td> <td> 2908.026</td> <td>    6.902</td> <td> 0.000</td> <td> 1.44e+04</td> <td> 2.58e+04</td>\n",
       "</tr>\n",
       "<tr>\n",
       "  <th>HouseStyle_2Story</th>    <td>-8231.8223</td> <td> 3317.193</td> <td>   -2.482</td> <td> 0.013</td> <td>-1.47e+04</td> <td>-1724.662</td>\n",
       "</tr>\n",
       "<tr>\n",
       "  <th>Heating_OthW</th>         <td>-5.204e+04</td> <td> 2.13e+04</td> <td>   -2.444</td> <td> 0.015</td> <td>-9.38e+04</td> <td>-1.03e+04</td>\n",
       "</tr>\n",
       "<tr>\n",
       "  <th>MasVnrType_BrkFace</th>   <td>-6116.7988</td> <td> 2206.053</td> <td>   -2.773</td> <td> 0.006</td> <td>-1.04e+04</td> <td>-1789.302</td>\n",
       "</tr>\n",
       "<tr>\n",
       "  <th>Neighborhood_BrkSide</th> <td>-1.627e+04</td> <td> 5121.119</td> <td>   -3.178</td> <td> 0.002</td> <td>-2.63e+04</td> <td>-6228.737</td>\n",
       "</tr>\n",
       "<tr>\n",
       "  <th>Neighborhood_ClearCr</th> <td>-1.426e+04</td> <td> 6650.194</td> <td>   -2.145</td> <td> 0.032</td> <td>-2.73e+04</td> <td>-1217.022</td>\n",
       "</tr>\n",
       "<tr>\n",
       "  <th>Neighborhood_CollgCr</th> <td>-2.023e+04</td> <td> 3594.539</td> <td>   -5.629</td> <td> 0.000</td> <td>-2.73e+04</td> <td>-1.32e+04</td>\n",
       "</tr>\n",
       "<tr>\n",
       "  <th>Neighborhood_Edwards</th> <td>-2.948e+04</td> <td> 4225.074</td> <td>   -6.977</td> <td> 0.000</td> <td>-3.78e+04</td> <td>-2.12e+04</td>\n",
       "</tr>\n",
       "<tr>\n",
       "  <th>Neighborhood_Gilbert</th> <td>-2.298e+04</td> <td> 4342.627</td> <td>   -5.291</td> <td> 0.000</td> <td>-3.15e+04</td> <td>-1.45e+04</td>\n",
       "</tr>\n",
       "<tr>\n",
       "  <th>Neighborhood_IDOTRR</th>  <td>-3.037e+04</td> <td> 5933.681</td> <td>   -5.119</td> <td> 0.000</td> <td> -4.2e+04</td> <td>-1.87e+04</td>\n",
       "</tr>\n",
       "<tr>\n",
       "  <th>Neighborhood_Mitchel</th> <td>-2.198e+04</td> <td> 5121.775</td> <td>   -4.292</td> <td> 0.000</td> <td> -3.2e+04</td> <td>-1.19e+04</td>\n",
       "</tr>\n",
       "<tr>\n",
       "  <th>Neighborhood_NAmes</th>   <td>-2.137e+04</td> <td> 3622.122</td> <td>   -5.899</td> <td> 0.000</td> <td>-2.85e+04</td> <td>-1.43e+04</td>\n",
       "</tr>\n",
       "<tr>\n",
       "  <th>Neighborhood_NWAmes</th>  <td>-2.728e+04</td> <td> 4545.722</td> <td>   -6.001</td> <td> 0.000</td> <td>-3.62e+04</td> <td>-1.84e+04</td>\n",
       "</tr>\n",
       "<tr>\n",
       "  <th>Neighborhood_NoRidge</th> <td>  2.85e+04</td> <td> 5773.694</td> <td>    4.936</td> <td> 0.000</td> <td> 1.72e+04</td> <td> 3.98e+04</td>\n",
       "</tr>\n",
       "<tr>\n",
       "  <th>Neighborhood_NridgHt</th> <td> 3.253e+04</td> <td> 4468.626</td> <td>    7.280</td> <td> 0.000</td> <td> 2.38e+04</td> <td> 4.13e+04</td>\n",
       "</tr>\n",
       "<tr>\n",
       "  <th>Neighborhood_OldTown</th> <td>-3.159e+04</td> <td> 4321.633</td> <td>   -7.310</td> <td> 0.000</td> <td>-4.01e+04</td> <td>-2.31e+04</td>\n",
       "</tr>\n",
       "<tr>\n",
       "  <th>Neighborhood_SWISU</th>   <td>-2.621e+04</td> <td> 6941.811</td> <td>   -3.776</td> <td> 0.000</td> <td>-3.98e+04</td> <td>-1.26e+04</td>\n",
       "</tr>\n",
       "<tr>\n",
       "  <th>Neighborhood_Sawyer</th>  <td>-2.094e+04</td> <td> 4627.952</td> <td>   -4.526</td> <td> 0.000</td> <td>   -3e+04</td> <td>-1.19e+04</td>\n",
       "</tr>\n",
       "<tr>\n",
       "  <th>Neighborhood_SawyerW</th> <td> -1.95e+04</td> <td> 4604.824</td> <td>   -4.234</td> <td> 0.000</td> <td>-2.85e+04</td> <td>-1.05e+04</td>\n",
       "</tr>\n",
       "<tr>\n",
       "  <th>Neighborhood_StoneBr</th> <td> 3.873e+04</td> <td> 6601.662</td> <td>    5.867</td> <td> 0.000</td> <td> 2.58e+04</td> <td> 5.17e+04</td>\n",
       "</tr>\n",
       "<tr>\n",
       "  <th>Neighborhood_Timber</th>  <td>-1.702e+04</td> <td> 5683.310</td> <td>   -2.994</td> <td> 0.003</td> <td>-2.82e+04</td> <td>-5868.425</td>\n",
       "</tr>\n",
       "</table>\n",
       "<table class=\"simpletable\">\n",
       "<tr>\n",
       "  <th>Omnibus:</th>       <td>467.531</td> <th>  Durbin-Watson:     </th> <td>   1.902</td> \n",
       "</tr>\n",
       "<tr>\n",
       "  <th>Prob(Omnibus):</th> <td> 0.000</td>  <th>  Jarque-Bera (JB):  </th> <td>58071.642</td>\n",
       "</tr>\n",
       "<tr>\n",
       "  <th>Skew:</th>          <td>-0.356</td>  <th>  Prob(JB):          </th> <td>    0.00</td> \n",
       "</tr>\n",
       "<tr>\n",
       "  <th>Kurtosis:</th>      <td>33.888</td>  <th>  Cond. No.          </th> <td>4.01e+05</td> \n",
       "</tr>\n",
       "</table><br/><br/>Warnings:<br/>[1] Standard Errors assume that the covariance matrix of the errors is correctly specified.<br/>[2] The condition number is large, 4.01e+05. This might indicate that there are<br/>strong multicollinearity or other numerical problems."
      ],
      "text/plain": [
       "<class 'statsmodels.iolib.summary.Summary'>\n",
       "\"\"\"\n",
       "                            OLS Regression Results                            \n",
       "==============================================================================\n",
       "Dep. Variable:              SalePrice   R-squared:                       0.867\n",
       "Model:                            OLS   Adj. R-squared:                  0.862\n",
       "Method:                 Least Squares   F-statistic:                     190.8\n",
       "Date:                Fri, 01 May 2020   Prob (F-statistic):               0.00\n",
       "Time:                        01:34:26   Log-Likelihood:                -17074.\n",
       "No. Observations:                1460   AIC:                         3.425e+04\n",
       "Df Residuals:                    1411   BIC:                         3.451e+04\n",
       "Df Model:                          48                                         \n",
       "Covariance Type:            nonrobust                                         \n",
       "========================================================================================\n",
       "                           coef    std err          t      P>|t|      [0.025      0.975]\n",
       "----------------------------------------------------------------------------------------\n",
       "const                -8.483e+04   1.16e+04     -7.289      0.000   -1.08e+05    -6.2e+04\n",
       "LotArea                  0.3457      0.094      3.674      0.000       0.161       0.530\n",
       "OverallQual           9851.2346   1120.519      8.792      0.000    7653.171     1.2e+04\n",
       "OverallCond           3883.7263    806.062      4.818      0.000    2302.517    5464.936\n",
       "MasVnrArea              26.9510      6.116      4.407      0.000      14.954      38.948\n",
       "ExterQual             6720.9406   2386.693      2.816      0.005    2039.092    1.14e+04\n",
       "BsmtQual              8038.8515   1418.440      5.667      0.000    5256.374    1.08e+04\n",
       "BsmtExposure          7028.6623    933.949      7.526      0.000    5196.585    8860.740\n",
       "2ndFlrSF                12.9611      5.595      2.317      0.021       1.986      23.936\n",
       "GrLivArea               44.2019      4.193     10.541      0.000      35.976      52.428\n",
       "BsmtFullBath          6123.7786   1892.523      3.236      0.001    2411.317    9836.240\n",
       "FullBath              7976.3475   2390.475      3.337      0.001    3287.081    1.27e+04\n",
       "HalfBath              6788.5653   2313.750      2.934      0.003    2249.806    1.13e+04\n",
       "BedroomAbvGr         -5706.9860   1516.685     -3.763      0.000   -8682.186   -2731.786\n",
       "KitchenAbvGr         -1.987e+04   4276.346     -4.647      0.000   -2.83e+04   -1.15e+04\n",
       "KitchenQual           8368.5951   1865.321      4.486      0.000    4709.494     1.2e+04\n",
       "TotRmsAbvGrd          3233.9815   1070.130      3.022      0.003    1134.764    5333.199\n",
       "Functional           -3645.8141   1253.198     -2.909      0.004   -6104.147   -1187.482\n",
       "Fireplaces            3865.0417   1522.841      2.538      0.011     877.765    6852.318\n",
       "GarageCars            7814.0656   1460.545      5.350      0.000    4948.992    1.07e+04\n",
       "ScreenPorch             44.0378     14.371      3.064      0.002      15.846      72.229\n",
       "BsmtFinTypeALQ        6844.8183   2305.500      2.969      0.003    2322.243    1.14e+04\n",
       "BsmtFinTypeGLQ        1.025e+04   2254.592      4.544      0.000    5822.724    1.47e+04\n",
       "LandContour_HLS       1.891e+04   5470.152      3.458      0.001    8184.231    2.96e+04\n",
       "LandContour_Lvl       1.139e+04   3498.582      3.255      0.001    4524.515    1.83e+04\n",
       "LotConfig_CulDSac     1.068e+04   3299.299      3.237      0.001    4208.688    1.72e+04\n",
       "BldgType_Twnhs       -4.047e+04   5348.523     -7.566      0.000    -5.1e+04      -3e+04\n",
       "BldgType_TwnhsE      -3.447e+04   3615.121     -9.534      0.000   -4.16e+04   -2.74e+04\n",
       "HouseStyle_1Story     2.007e+04   2908.026      6.902      0.000    1.44e+04    2.58e+04\n",
       "HouseStyle_2Story    -8231.8223   3317.193     -2.482      0.013   -1.47e+04   -1724.662\n",
       "Heating_OthW         -5.204e+04   2.13e+04     -2.444      0.015   -9.38e+04   -1.03e+04\n",
       "MasVnrType_BrkFace   -6116.7988   2206.053     -2.773      0.006   -1.04e+04   -1789.302\n",
       "Neighborhood_BrkSide -1.627e+04   5121.119     -3.178      0.002   -2.63e+04   -6228.737\n",
       "Neighborhood_ClearCr -1.426e+04   6650.194     -2.145      0.032   -2.73e+04   -1217.022\n",
       "Neighborhood_CollgCr -2.023e+04   3594.539     -5.629      0.000   -2.73e+04   -1.32e+04\n",
       "Neighborhood_Edwards -2.948e+04   4225.074     -6.977      0.000   -3.78e+04   -2.12e+04\n",
       "Neighborhood_Gilbert -2.298e+04   4342.627     -5.291      0.000   -3.15e+04   -1.45e+04\n",
       "Neighborhood_IDOTRR  -3.037e+04   5933.681     -5.119      0.000    -4.2e+04   -1.87e+04\n",
       "Neighborhood_Mitchel -2.198e+04   5121.775     -4.292      0.000    -3.2e+04   -1.19e+04\n",
       "Neighborhood_NAmes   -2.137e+04   3622.122     -5.899      0.000   -2.85e+04   -1.43e+04\n",
       "Neighborhood_NWAmes  -2.728e+04   4545.722     -6.001      0.000   -3.62e+04   -1.84e+04\n",
       "Neighborhood_NoRidge   2.85e+04   5773.694      4.936      0.000    1.72e+04    3.98e+04\n",
       "Neighborhood_NridgHt  3.253e+04   4468.626      7.280      0.000    2.38e+04    4.13e+04\n",
       "Neighborhood_OldTown -3.159e+04   4321.633     -7.310      0.000   -4.01e+04   -2.31e+04\n",
       "Neighborhood_SWISU   -2.621e+04   6941.811     -3.776      0.000   -3.98e+04   -1.26e+04\n",
       "Neighborhood_Sawyer  -2.094e+04   4627.952     -4.526      0.000      -3e+04   -1.19e+04\n",
       "Neighborhood_SawyerW  -1.95e+04   4604.824     -4.234      0.000   -2.85e+04   -1.05e+04\n",
       "Neighborhood_StoneBr  3.873e+04   6601.662      5.867      0.000    2.58e+04    5.17e+04\n",
       "Neighborhood_Timber  -1.702e+04   5683.310     -2.994      0.003   -2.82e+04   -5868.425\n",
       "==============================================================================\n",
       "Omnibus:                      467.531   Durbin-Watson:                   1.902\n",
       "Prob(Omnibus):                  0.000   Jarque-Bera (JB):            58071.642\n",
       "Skew:                          -0.356   Prob(JB):                         0.00\n",
       "Kurtosis:                      33.888   Cond. No.                     4.01e+05\n",
       "==============================================================================\n",
       "\n",
       "Warnings:\n",
       "[1] Standard Errors assume that the covariance matrix of the errors is correctly specified.\n",
       "[2] The condition number is large, 4.01e+05. This might indicate that there are\n",
       "strong multicollinearity or other numerical problems.\n",
       "\"\"\""
      ]
     },
     "execution_count": 10,
     "metadata": {},
     "output_type": "execute_result"
    }
   ],
   "source": [
    "sm.OLS(y,add_constant(X_best)).fit().summary()"
   ]
  },
  {
   "cell_type": "markdown",
   "metadata": {},
   "source": [
    "# Assumptions\n",
    "## Multicollinearity"
   ]
  },
  {
   "cell_type": "code",
   "execution_count": 11,
   "metadata": {},
   "outputs": [
    {
     "data": {
      "text/plain": [
       "<matplotlib.axes._subplots.AxesSubplot at 0x7fae8f28f450>"
      ]
     },
     "execution_count": 11,
     "metadata": {},
     "output_type": "execute_result"
    },
    {
     "data": {
      "image/png": "[encoded data removed]",
      "text/plain": [
       "<Figure size 432x288 with 2 Axes>"
      ]
     },
     "metadata": {
      "needs_background": "light"
     },
     "output_type": "display_data"
    }
   ],
   "source": [
    "import seaborn as sns\n",
    "sns.heatmap(X_best.corr())"
   ]
  },
  {
   "cell_type": "markdown",
   "metadata": {},
   "source": [
    "Variance Inflation Factor\n",
    "\n",
    "$VIF=1/(1-R²_j)$"
   ]
  },
  {
   "cell_type": "code",
   "execution_count": 12,
   "metadata": {},
   "outputs": [],
   "source": [
    "from statsmodels.stats.outliers_influence import variance_inflation_factor as VIF"
   ]
  },
  {
   "cell_type": "code",
   "execution_count": 13,
   "metadata": {},
   "outputs": [],
   "source": [
    "X1=add_constant(X_best)"
   ]
  },
  {
   "cell_type": "code",
   "execution_count": 14,
   "metadata": {},
   "outputs": [],
   "source": [
    "vifs=pd.Series([VIF(X1.values,i) for i in range(X1.shape[1])],index=X1.columns)"
   ]
  },
  {
   "cell_type": "code",
   "execution_count": 15,
   "metadata": {},
   "outputs": [],
   "source": [
    "vifs=pd.Series([VIF(X_best.values,i) for i in range(X_best.shape[1])],index=X_best.columns)"
   ]
  },
  {
   "cell_type": "code",
   "execution_count": 16,
   "metadata": {},
   "outputs": [
    {
     "data": {
      "text/plain": [
       "OverallQual         80.874705\n",
       "OverallCond         30.226861\n",
       "ExterQual          105.075171\n",
       "BsmtQual            39.845733\n",
       "2ndFlrSF            16.307589\n",
       "GrLivArea           74.503078\n",
       "FullBath            26.231143\n",
       "BedroomAbvGr        32.649980\n",
       "KitchenAbvGr        27.886718\n",
       "KitchenQual         72.959709\n",
       "TotRmsAbvGrd        86.349741\n",
       "GarageCars          13.153059\n",
       "LandContour_Lvl     17.519035\n",
       "dtype: float64"
      ]
     },
     "execution_count": 16,
     "metadata": {},
     "output_type": "execute_result"
    }
   ],
   "source": [
    "vifs[vifs>10]"
   ]
  },
  {
   "cell_type": "code",
   "execution_count": 17,
   "metadata": {},
   "outputs": [],
   "source": [
    "def func(column, X):\n",
    "    if column:\n",
    "        X=X.drop(column, axis=1)\n",
    "    vifs=pd.Series([VIF(X.values,i) for i in range(X.shape[1])],index=X.columns)\n",
    "    display(vifs[vifs>10])\n",
    "    return X"
   ]
  },
  {
   "cell_type": "code",
   "execution_count": 18,
   "metadata": {},
   "outputs": [],
   "source": [
    "X2=X_best.copy()"
   ]
  },
  {
   "cell_type": "code",
   "execution_count": 31,
   "metadata": {},
   "outputs": [
    {
     "data": {
      "text/plain": [
       "Series([], dtype: float64)"
      ]
     },
     "metadata": {},
     "output_type": "display_data"
    }
   ],
   "source": [
    "X2=func('LandContour_Lvl',X2)"
   ]
  },
  {
   "cell_type": "code",
   "execution_count": 32,
   "metadata": {},
   "outputs": [
    {
     "data": {
      "text/plain": [
       "(1460, 37)"
      ]
     },
     "execution_count": 32,
     "metadata": {},
     "output_type": "execute_result"
    }
   ],
   "source": [
    "X2.shape"
   ]
  },
  {
   "cell_type": "code",
   "execution_count": 33,
   "metadata": {},
   "outputs": [
    {
     "data": {
      "text/plain": [
       "(1460, 48)"
      ]
     },
     "execution_count": 33,
     "metadata": {},
     "output_type": "execute_result"
    }
   ],
   "source": [
    "X_best.shape"
   ]
  },
  {
   "cell_type": "markdown",
   "metadata": {},
   "source": [
    "No more Multicollinearity"
   ]
  },
  {
   "cell_type": "code",
   "execution_count": 34,
   "metadata": {
    "scrolled": true
   },
   "outputs": [
    {
     "data": {
      "text/html": [
       "<table class=\"simpletable\">\n",
       "<caption>OLS Regression Results</caption>\n",
       "<tr>\n",
       "  <th>Dep. Variable:</th>        <td>SalePrice</td>    <th>  R-squared:         </th> <td>   0.769</td> \n",
       "</tr>\n",
       "<tr>\n",
       "  <th>Model:</th>                   <td>OLS</td>       <th>  Adj. R-squared:    </th> <td>   0.763</td> \n",
       "</tr>\n",
       "<tr>\n",
       "  <th>Method:</th>             <td>Least Squares</td>  <th>  F-statistic:       </th> <td>   128.2</td> \n",
       "</tr>\n",
       "<tr>\n",
       "  <th>Date:</th>             <td>Fri, 01 May 2020</td> <th>  Prob (F-statistic):</th>  <td>  0.00</td>  \n",
       "</tr>\n",
       "<tr>\n",
       "  <th>Time:</th>                 <td>01:36:00</td>     <th>  Log-Likelihood:    </th> <td> -17473.</td> \n",
       "</tr>\n",
       "<tr>\n",
       "  <th>No. Observations:</th>      <td>  1460</td>      <th>  AIC:               </th> <td>3.502e+04</td>\n",
       "</tr>\n",
       "<tr>\n",
       "  <th>Df Residuals:</th>          <td>  1422</td>      <th>  BIC:               </th> <td>3.522e+04</td>\n",
       "</tr>\n",
       "<tr>\n",
       "  <th>Df Model:</th>              <td>    37</td>      <th>                     </th>     <td> </td>    \n",
       "</tr>\n",
       "<tr>\n",
       "  <th>Covariance Type:</th>      <td>nonrobust</td>    <th>                     </th>     <td> </td>    \n",
       "</tr>\n",
       "</table>\n",
       "<table class=\"simpletable\">\n",
       "<tr>\n",
       "            <td></td>              <th>coef</th>     <th>std err</th>      <th>t</th>      <th>P>|t|</th>  <th>[0.025</th>    <th>0.975]</th>  \n",
       "</tr>\n",
       "<tr>\n",
       "  <th>const</th>                <td> 9.858e+04</td> <td> 5791.605</td> <td>   17.021</td> <td> 0.000</td> <td> 8.72e+04</td> <td>  1.1e+05</td>\n",
       "</tr>\n",
       "<tr>\n",
       "  <th>LotArea</th>              <td>    0.4175</td> <td>    0.119</td> <td>    3.509</td> <td> 0.000</td> <td>    0.184</td> <td>    0.651</td>\n",
       "</tr>\n",
       "<tr>\n",
       "  <th>MasVnrArea</th>           <td>   51.7577</td> <td>    7.864</td> <td>    6.582</td> <td> 0.000</td> <td>   36.332</td> <td>   67.183</td>\n",
       "</tr>\n",
       "<tr>\n",
       "  <th>BsmtExposure</th>         <td> 1.164e+04</td> <td> 1186.846</td> <td>    9.807</td> <td> 0.000</td> <td> 9310.657</td> <td>  1.4e+04</td>\n",
       "</tr>\n",
       "<tr>\n",
       "  <th>2ndFlrSF</th>             <td>   80.2863</td> <td>    5.593</td> <td>   14.354</td> <td> 0.000</td> <td>   69.314</td> <td>   91.259</td>\n",
       "</tr>\n",
       "<tr>\n",
       "  <th>BsmtFullBath</th>         <td> 9685.7780</td> <td> 2333.271</td> <td>    4.151</td> <td> 0.000</td> <td> 5108.755</td> <td> 1.43e+04</td>\n",
       "</tr>\n",
       "<tr>\n",
       "  <th>HalfBath</th>             <td> 4477.1479</td> <td> 2805.386</td> <td>    1.596</td> <td> 0.111</td> <td>-1025.992</td> <td> 9980.288</td>\n",
       "</tr>\n",
       "<tr>\n",
       "  <th>Functional</th>           <td>-1961.8583</td> <td> 1564.794</td> <td>   -1.254</td> <td> 0.210</td> <td>-5031.411</td> <td> 1107.694</td>\n",
       "</tr>\n",
       "<tr>\n",
       "  <th>Fireplaces</th>           <td> 1.659e+04</td> <td> 1858.191</td> <td>    8.929</td> <td> 0.000</td> <td> 1.29e+04</td> <td> 2.02e+04</td>\n",
       "</tr>\n",
       "<tr>\n",
       "  <th>GarageCars</th>           <td> 2.326e+04</td> <td> 1765.556</td> <td>   13.175</td> <td> 0.000</td> <td> 1.98e+04</td> <td> 2.67e+04</td>\n",
       "</tr>\n",
       "<tr>\n",
       "  <th>ScreenPorch</th>          <td>   55.3177</td> <td>   18.764</td> <td>    2.948</td> <td> 0.003</td> <td>   18.511</td> <td>   92.125</td>\n",
       "</tr>\n",
       "<tr>\n",
       "  <th>BsmtFinTypeALQ</th>       <td>-4101.0643</td> <td> 2768.996</td> <td>   -1.481</td> <td> 0.139</td> <td>-9532.820</td> <td> 1330.692</td>\n",
       "</tr>\n",
       "<tr>\n",
       "  <th>BsmtFinTypeGLQ</th>       <td> 1.436e+04</td> <td> 2735.384</td> <td>    5.249</td> <td> 0.000</td> <td> 8991.415</td> <td> 1.97e+04</td>\n",
       "</tr>\n",
       "<tr>\n",
       "  <th>LandContour_HLS</th>      <td> 4288.4388</td> <td> 5897.281</td> <td>    0.727</td> <td> 0.467</td> <td>-7279.866</td> <td> 1.59e+04</td>\n",
       "</tr>\n",
       "<tr>\n",
       "  <th>LotConfig_CulDSac</th>    <td> 1.315e+04</td> <td> 4305.501</td> <td>    3.054</td> <td> 0.002</td> <td> 4703.089</td> <td> 2.16e+04</td>\n",
       "</tr>\n",
       "<tr>\n",
       "  <th>BldgType_Twnhs</th>       <td>-5.296e+04</td> <td> 6854.862</td> <td>   -7.725</td> <td> 0.000</td> <td>-6.64e+04</td> <td>-3.95e+04</td>\n",
       "</tr>\n",
       "<tr>\n",
       "  <th>BldgType_TwnhsE</th>      <td>-4.179e+04</td> <td> 4442.019</td> <td>   -9.408</td> <td> 0.000</td> <td>-5.05e+04</td> <td>-3.31e+04</td>\n",
       "</tr>\n",
       "<tr>\n",
       "  <th>HouseStyle_1Story</th>    <td>  3.39e+04</td> <td> 3655.810</td> <td>    9.274</td> <td> 0.000</td> <td> 2.67e+04</td> <td> 4.11e+04</td>\n",
       "</tr>\n",
       "<tr>\n",
       "  <th>HouseStyle_2Story</th>    <td>-2.165e+04</td> <td> 4219.086</td> <td>   -5.132</td> <td> 0.000</td> <td>-2.99e+04</td> <td>-1.34e+04</td>\n",
       "</tr>\n",
       "<tr>\n",
       "  <th>Heating_OthW</th>         <td>-2.498e+04</td> <td> 2.77e+04</td> <td>   -0.902</td> <td> 0.367</td> <td>-7.93e+04</td> <td> 2.93e+04</td>\n",
       "</tr>\n",
       "<tr>\n",
       "  <th>MasVnrType_BrkFace</th>   <td>-7640.4339</td> <td> 2869.449</td> <td>   -2.663</td> <td> 0.008</td> <td>-1.33e+04</td> <td>-2011.626</td>\n",
       "</tr>\n",
       "<tr>\n",
       "  <th>Neighborhood_BrkSide</th> <td>-5.017e+04</td> <td> 6414.641</td> <td>   -7.822</td> <td> 0.000</td> <td>-6.28e+04</td> <td>-3.76e+04</td>\n",
       "</tr>\n",
       "<tr>\n",
       "  <th>Neighborhood_ClearCr</th> <td>-4.601e+04</td> <td> 8485.323</td> <td>   -5.422</td> <td> 0.000</td> <td>-6.27e+04</td> <td>-2.94e+04</td>\n",
       "</tr>\n",
       "<tr>\n",
       "  <th>Neighborhood_CollgCr</th> <td>-2.389e+04</td> <td> 4632.083</td> <td>   -5.157</td> <td> 0.000</td> <td> -3.3e+04</td> <td>-1.48e+04</td>\n",
       "</tr>\n",
       "<tr>\n",
       "  <th>Neighborhood_Edwards</th> <td>-5.605e+04</td> <td> 5322.423</td> <td>  -10.532</td> <td> 0.000</td> <td>-6.65e+04</td> <td>-4.56e+04</td>\n",
       "</tr>\n",
       "<tr>\n",
       "  <th>Neighborhood_Gilbert</th> <td>-3.718e+04</td> <td> 5508.421</td> <td>   -6.750</td> <td> 0.000</td> <td> -4.8e+04</td> <td>-2.64e+04</td>\n",
       "</tr>\n",
       "<tr>\n",
       "  <th>Neighborhood_IDOTRR</th>  <td> -6.82e+04</td> <td> 7505.312</td> <td>   -9.086</td> <td> 0.000</td> <td>-8.29e+04</td> <td>-5.35e+04</td>\n",
       "</tr>\n",
       "<tr>\n",
       "  <th>Neighborhood_Mitchel</th> <td>-4.759e+04</td> <td> 6552.017</td> <td>   -7.264</td> <td> 0.000</td> <td>-6.04e+04</td> <td>-3.47e+04</td>\n",
       "</tr>\n",
       "<tr>\n",
       "  <th>Neighborhood_NAmes</th>   <td>-4.952e+04</td> <td> 4393.062</td> <td>  -11.273</td> <td> 0.000</td> <td>-5.81e+04</td> <td>-4.09e+04</td>\n",
       "</tr>\n",
       "<tr>\n",
       "  <th>Neighborhood_NWAmes</th>  <td>-3.464e+04</td> <td> 5755.995</td> <td>   -6.018</td> <td> 0.000</td> <td>-4.59e+04</td> <td>-2.34e+04</td>\n",
       "</tr>\n",
       "<tr>\n",
       "  <th>Neighborhood_NoRidge</th> <td> 3.289e+04</td> <td> 7431.175</td> <td>    4.426</td> <td> 0.000</td> <td> 1.83e+04</td> <td> 4.75e+04</td>\n",
       "</tr>\n",
       "<tr>\n",
       "  <th>Neighborhood_NridgHt</th> <td> 5.965e+04</td> <td> 5591.554</td> <td>   10.668</td> <td> 0.000</td> <td> 4.87e+04</td> <td> 7.06e+04</td>\n",
       "</tr>\n",
       "<tr>\n",
       "  <th>Neighborhood_OldTown</th> <td>-5.979e+04</td> <td> 5264.703</td> <td>  -11.357</td> <td> 0.000</td> <td>-7.01e+04</td> <td>-4.95e+04</td>\n",
       "</tr>\n",
       "<tr>\n",
       "  <th>Neighborhood_SWISU</th>   <td>-4.688e+04</td> <td> 8803.213</td> <td>   -5.326</td> <td> 0.000</td> <td>-6.42e+04</td> <td>-2.96e+04</td>\n",
       "</tr>\n",
       "<tr>\n",
       "  <th>Neighborhood_Sawyer</th>  <td>-5.237e+04</td> <td> 5787.034</td> <td>   -9.049</td> <td> 0.000</td> <td>-6.37e+04</td> <td> -4.1e+04</td>\n",
       "</tr>\n",
       "<tr>\n",
       "  <th>Neighborhood_SawyerW</th> <td>-2.921e+04</td> <td> 5981.800</td> <td>   -4.883</td> <td> 0.000</td> <td>-4.09e+04</td> <td>-1.75e+04</td>\n",
       "</tr>\n",
       "<tr>\n",
       "  <th>Neighborhood_StoneBr</th> <td> 6.437e+04</td> <td> 8504.890</td> <td>    7.568</td> <td> 0.000</td> <td> 4.77e+04</td> <td>  8.1e+04</td>\n",
       "</tr>\n",
       "<tr>\n",
       "  <th>Neighborhood_Timber</th>  <td>-1.756e+04</td> <td> 7388.074</td> <td>   -2.377</td> <td> 0.018</td> <td>-3.21e+04</td> <td>-3069.746</td>\n",
       "</tr>\n",
       "</table>\n",
       "<table class=\"simpletable\">\n",
       "<tr>\n",
       "  <th>Omnibus:</th>       <td>441.074</td> <th>  Durbin-Watson:     </th> <td>   1.942</td>\n",
       "</tr>\n",
       "<tr>\n",
       "  <th>Prob(Omnibus):</th> <td> 0.000</td>  <th>  Jarque-Bera (JB):  </th> <td>3809.322</td>\n",
       "</tr>\n",
       "<tr>\n",
       "  <th>Skew:</th>          <td> 1.155</td>  <th>  Prob(JB):          </th> <td>    0.00</td>\n",
       "</tr>\n",
       "<tr>\n",
       "  <th>Kurtosis:</th>      <td>10.569</td>  <th>  Cond. No.          </th> <td>3.97e+05</td>\n",
       "</tr>\n",
       "</table><br/><br/>Warnings:<br/>[1] Standard Errors assume that the covariance matrix of the errors is correctly specified.<br/>[2] The condition number is large, 3.97e+05. This might indicate that there are<br/>strong multicollinearity or other numerical problems."
      ],
      "text/plain": [
       "<class 'statsmodels.iolib.summary.Summary'>\n",
       "\"\"\"\n",
       "                            OLS Regression Results                            \n",
       "==============================================================================\n",
       "Dep. Variable:              SalePrice   R-squared:                       0.769\n",
       "Model:                            OLS   Adj. R-squared:                  0.763\n",
       "Method:                 Least Squares   F-statistic:                     128.2\n",
       "Date:                Fri, 01 May 2020   Prob (F-statistic):               0.00\n",
       "Time:                        01:36:00   Log-Likelihood:                -17473.\n",
       "No. Observations:                1460   AIC:                         3.502e+04\n",
       "Df Residuals:                    1422   BIC:                         3.522e+04\n",
       "Df Model:                          37                                         \n",
       "Covariance Type:            nonrobust                                         \n",
       "========================================================================================\n",
       "                           coef    std err          t      P>|t|      [0.025      0.975]\n",
       "----------------------------------------------------------------------------------------\n",
       "const                 9.858e+04   5791.605     17.021      0.000    8.72e+04     1.1e+05\n",
       "LotArea                  0.4175      0.119      3.509      0.000       0.184       0.651\n",
       "MasVnrArea              51.7577      7.864      6.582      0.000      36.332      67.183\n",
       "BsmtExposure          1.164e+04   1186.846      9.807      0.000    9310.657     1.4e+04\n",
       "2ndFlrSF                80.2863      5.593     14.354      0.000      69.314      91.259\n",
       "BsmtFullBath          9685.7780   2333.271      4.151      0.000    5108.755    1.43e+04\n",
       "HalfBath              4477.1479   2805.386      1.596      0.111   -1025.992    9980.288\n",
       "Functional           -1961.8583   1564.794     -1.254      0.210   -5031.411    1107.694\n",
       "Fireplaces            1.659e+04   1858.191      8.929      0.000    1.29e+04    2.02e+04\n",
       "GarageCars            2.326e+04   1765.556     13.175      0.000    1.98e+04    2.67e+04\n",
       "ScreenPorch             55.3177     18.764      2.948      0.003      18.511      92.125\n",
       "BsmtFinTypeALQ       -4101.0643   2768.996     -1.481      0.139   -9532.820    1330.692\n",
       "BsmtFinTypeGLQ        1.436e+04   2735.384      5.249      0.000    8991.415    1.97e+04\n",
       "LandContour_HLS       4288.4388   5897.281      0.727      0.467   -7279.866    1.59e+04\n",
       "LotConfig_CulDSac     1.315e+04   4305.501      3.054      0.002    4703.089    2.16e+04\n",
       "BldgType_Twnhs       -5.296e+04   6854.862     -7.725      0.000   -6.64e+04   -3.95e+04\n",
       "BldgType_TwnhsE      -4.179e+04   4442.019     -9.408      0.000   -5.05e+04   -3.31e+04\n",
       "HouseStyle_1Story      3.39e+04   3655.810      9.274      0.000    2.67e+04    4.11e+04\n",
       "HouseStyle_2Story    -2.165e+04   4219.086     -5.132      0.000   -2.99e+04   -1.34e+04\n",
       "Heating_OthW         -2.498e+04   2.77e+04     -0.902      0.367   -7.93e+04    2.93e+04\n",
       "MasVnrType_BrkFace   -7640.4339   2869.449     -2.663      0.008   -1.33e+04   -2011.626\n",
       "Neighborhood_BrkSide -5.017e+04   6414.641     -7.822      0.000   -6.28e+04   -3.76e+04\n",
       "Neighborhood_ClearCr -4.601e+04   8485.323     -5.422      0.000   -6.27e+04   -2.94e+04\n",
       "Neighborhood_CollgCr -2.389e+04   4632.083     -5.157      0.000    -3.3e+04   -1.48e+04\n",
       "Neighborhood_Edwards -5.605e+04   5322.423    -10.532      0.000   -6.65e+04   -4.56e+04\n",
       "Neighborhood_Gilbert -3.718e+04   5508.421     -6.750      0.000    -4.8e+04   -2.64e+04\n",
       "Neighborhood_IDOTRR   -6.82e+04   7505.312     -9.086      0.000   -8.29e+04   -5.35e+04\n",
       "Neighborhood_Mitchel -4.759e+04   6552.017     -7.264      0.000   -6.04e+04   -3.47e+04\n",
       "Neighborhood_NAmes   -4.952e+04   4393.062    -11.273      0.000   -5.81e+04   -4.09e+04\n",
       "Neighborhood_NWAmes  -3.464e+04   5755.995     -6.018      0.000   -4.59e+04   -2.34e+04\n",
       "Neighborhood_NoRidge  3.289e+04   7431.175      4.426      0.000    1.83e+04    4.75e+04\n",
       "Neighborhood_NridgHt  5.965e+04   5591.554     10.668      0.000    4.87e+04    7.06e+04\n",
       "Neighborhood_OldTown -5.979e+04   5264.703    -11.357      0.000   -7.01e+04   -4.95e+04\n",
       "Neighborhood_SWISU   -4.688e+04   8803.213     -5.326      0.000   -6.42e+04   -2.96e+04\n",
       "Neighborhood_Sawyer  -5.237e+04   5787.034     -9.049      0.000   -6.37e+04    -4.1e+04\n",
       "Neighborhood_SawyerW -2.921e+04   5981.800     -4.883      0.000   -4.09e+04   -1.75e+04\n",
       "Neighborhood_StoneBr  6.437e+04   8504.890      7.568      0.000    4.77e+04     8.1e+04\n",
       "Neighborhood_Timber  -1.756e+04   7388.074     -2.377      0.018   -3.21e+04   -3069.746\n",
       "==============================================================================\n",
       "Omnibus:                      441.074   Durbin-Watson:                   1.942\n",
       "Prob(Omnibus):                  0.000   Jarque-Bera (JB):             3809.322\n",
       "Skew:                           1.155   Prob(JB):                         0.00\n",
       "Kurtosis:                      10.569   Cond. No.                     3.97e+05\n",
       "==============================================================================\n",
       "\n",
       "Warnings:\n",
       "[1] Standard Errors assume that the covariance matrix of the errors is correctly specified.\n",
       "[2] The condition number is large, 3.97e+05. This might indicate that there are\n",
       "strong multicollinearity or other numerical problems.\n",
       "\"\"\""
      ]
     },
     "execution_count": 34,
     "metadata": {},
     "output_type": "execute_result"
    }
   ],
   "source": [
    "sm.OLS(y,add_constant(X2)).fit().summary()"
   ]
  },
  {
   "cell_type": "code",
   "execution_count": 35,
   "metadata": {},
   "outputs": [],
   "source": [
    "def func_p(column, X):\n",
    "    if column:\n",
    "        X=X.drop(column, axis=1)\n",
    "    mod=sm.OLS(y,add_constant(X)).fit()\n",
    "    display(mod.summary())\n",
    "    return X"
   ]
  },
  {
   "cell_type": "code",
   "execution_count": 36,
   "metadata": {},
   "outputs": [],
   "source": [
    "drop_cols=[]"
   ]
  },
  {
   "cell_type": "code",
   "execution_count": 41,
   "metadata": {},
   "outputs": [
    {
     "data": {
      "text/html": [
       "<table class=\"simpletable\">\n",
       "<caption>OLS Regression Results</caption>\n",
       "<tr>\n",
       "  <th>Dep. Variable:</th>        <td>SalePrice</td>    <th>  R-squared:         </th> <td>   0.768</td> \n",
       "</tr>\n",
       "<tr>\n",
       "  <th>Model:</th>                   <td>OLS</td>       <th>  Adj. R-squared:    </th> <td>   0.763</td> \n",
       "</tr>\n",
       "<tr>\n",
       "  <th>Method:</th>             <td>Least Squares</td>  <th>  F-statistic:       </th> <td>   147.7</td> \n",
       "</tr>\n",
       "<tr>\n",
       "  <th>Date:</th>             <td>Fri, 01 May 2020</td> <th>  Prob (F-statistic):</th>  <td>  0.00</td>  \n",
       "</tr>\n",
       "<tr>\n",
       "  <th>Time:</th>                 <td>01:36:48</td>     <th>  Log-Likelihood:    </th> <td> -17477.</td> \n",
       "</tr>\n",
       "<tr>\n",
       "  <th>No. Observations:</th>      <td>  1460</td>      <th>  AIC:               </th> <td>3.502e+04</td>\n",
       "</tr>\n",
       "<tr>\n",
       "  <th>Df Residuals:</th>          <td>  1427</td>      <th>  BIC:               </th> <td>3.519e+04</td>\n",
       "</tr>\n",
       "<tr>\n",
       "  <th>Df Model:</th>              <td>    32</td>      <th>                     </th>     <td> </td>    \n",
       "</tr>\n",
       "<tr>\n",
       "  <th>Covariance Type:</th>      <td>nonrobust</td>    <th>                     </th>     <td> </td>    \n",
       "</tr>\n",
       "</table>\n",
       "<table class=\"simpletable\">\n",
       "<tr>\n",
       "            <td></td>              <th>coef</th>     <th>std err</th>      <th>t</th>      <th>P>|t|</th>  <th>[0.025</th>    <th>0.975]</th>  \n",
       "</tr>\n",
       "<tr>\n",
       "  <th>const</th>                <td> 9.894e+04</td> <td> 5732.907</td> <td>   17.258</td> <td> 0.000</td> <td> 8.77e+04</td> <td>  1.1e+05</td>\n",
       "</tr>\n",
       "<tr>\n",
       "  <th>LotArea</th>              <td>    0.4077</td> <td>    0.119</td> <td>    3.426</td> <td> 0.001</td> <td>    0.174</td> <td>    0.641</td>\n",
       "</tr>\n",
       "<tr>\n",
       "  <th>MasVnrArea</th>           <td>   52.4633</td> <td>    7.866</td> <td>    6.669</td> <td> 0.000</td> <td>   37.032</td> <td>   67.894</td>\n",
       "</tr>\n",
       "<tr>\n",
       "  <th>BsmtExposure</th>         <td> 1.166e+04</td> <td> 1177.814</td> <td>    9.899</td> <td> 0.000</td> <td> 9348.676</td> <td>  1.4e+04</td>\n",
       "</tr>\n",
       "<tr>\n",
       "  <th>2ndFlrSF</th>             <td>   82.1161</td> <td>    5.468</td> <td>   15.017</td> <td> 0.000</td> <td>   71.389</td> <td>   92.843</td>\n",
       "</tr>\n",
       "<tr>\n",
       "  <th>BsmtFullBath</th>         <td> 9585.0727</td> <td> 2308.117</td> <td>    4.153</td> <td> 0.000</td> <td> 5057.405</td> <td> 1.41e+04</td>\n",
       "</tr>\n",
       "<tr>\n",
       "  <th>Fireplaces</th>           <td> 1.656e+04</td> <td> 1854.255</td> <td>    8.929</td> <td> 0.000</td> <td> 1.29e+04</td> <td> 2.02e+04</td>\n",
       "</tr>\n",
       "<tr>\n",
       "  <th>GarageCars</th>           <td>  2.34e+04</td> <td> 1764.716</td> <td>   13.259</td> <td> 0.000</td> <td> 1.99e+04</td> <td> 2.69e+04</td>\n",
       "</tr>\n",
       "<tr>\n",
       "  <th>ScreenPorch</th>          <td>   57.4021</td> <td>   18.730</td> <td>    3.065</td> <td> 0.002</td> <td>   20.661</td> <td>   94.143</td>\n",
       "</tr>\n",
       "<tr>\n",
       "  <th>BsmtFinTypeGLQ</th>       <td> 1.478e+04</td> <td> 2684.745</td> <td>    5.507</td> <td> 0.000</td> <td> 9517.292</td> <td> 2.01e+04</td>\n",
       "</tr>\n",
       "<tr>\n",
       "  <th>LotConfig_CulDSac</th>    <td> 1.314e+04</td> <td> 4306.485</td> <td>    3.052</td> <td> 0.002</td> <td> 4694.909</td> <td> 2.16e+04</td>\n",
       "</tr>\n",
       "<tr>\n",
       "  <th>BldgType_Twnhs</th>       <td>-5.398e+04</td> <td> 6834.471</td> <td>   -7.899</td> <td> 0.000</td> <td>-6.74e+04</td> <td>-4.06e+04</td>\n",
       "</tr>\n",
       "<tr>\n",
       "  <th>BldgType_TwnhsE</th>      <td> -4.21e+04</td> <td> 4440.593</td> <td>   -9.481</td> <td> 0.000</td> <td>-5.08e+04</td> <td>-3.34e+04</td>\n",
       "</tr>\n",
       "<tr>\n",
       "  <th>HouseStyle_1Story</th>    <td> 3.362e+04</td> <td> 3644.753</td> <td>    9.224</td> <td> 0.000</td> <td> 2.65e+04</td> <td> 4.08e+04</td>\n",
       "</tr>\n",
       "<tr>\n",
       "  <th>HouseStyle_2Story</th>    <td>-2.041e+04</td> <td> 4137.668</td> <td>   -4.932</td> <td> 0.000</td> <td>-2.85e+04</td> <td>-1.23e+04</td>\n",
       "</tr>\n",
       "<tr>\n",
       "  <th>MasVnrType_BrkFace</th>   <td>-7306.2742</td> <td> 2866.774</td> <td>   -2.549</td> <td> 0.011</td> <td>-1.29e+04</td> <td>-1682.731</td>\n",
       "</tr>\n",
       "<tr>\n",
       "  <th>Neighborhood_BrkSide</th> <td> -5.19e+04</td> <td> 6363.814</td> <td>   -8.155</td> <td> 0.000</td> <td>-6.44e+04</td> <td>-3.94e+04</td>\n",
       "</tr>\n",
       "<tr>\n",
       "  <th>Neighborhood_ClearCr</th> <td>-4.781e+04</td> <td> 8440.850</td> <td>   -5.665</td> <td> 0.000</td> <td>-6.44e+04</td> <td>-3.13e+04</td>\n",
       "</tr>\n",
       "<tr>\n",
       "  <th>Neighborhood_CollgCr</th> <td>-2.429e+04</td> <td> 4612.511</td> <td>   -5.266</td> <td> 0.000</td> <td>-3.33e+04</td> <td>-1.52e+04</td>\n",
       "</tr>\n",
       "<tr>\n",
       "  <th>Neighborhood_Edwards</th> <td>-5.811e+04</td> <td> 5260.116</td> <td>  -11.046</td> <td> 0.000</td> <td>-6.84e+04</td> <td>-4.78e+04</td>\n",
       "</tr>\n",
       "<tr>\n",
       "  <th>Neighborhood_Gilbert</th> <td> -3.63e+04</td> <td> 5502.791</td> <td>   -6.597</td> <td> 0.000</td> <td>-4.71e+04</td> <td>-2.55e+04</td>\n",
       "</tr>\n",
       "<tr>\n",
       "  <th>Neighborhood_IDOTRR</th>  <td>-6.927e+04</td> <td> 7482.659</td> <td>   -9.258</td> <td> 0.000</td> <td> -8.4e+04</td> <td>-5.46e+04</td>\n",
       "</tr>\n",
       "<tr>\n",
       "  <th>Neighborhood_Mitchel</th> <td>-4.964e+04</td> <td> 6506.939</td> <td>   -7.629</td> <td> 0.000</td> <td>-6.24e+04</td> <td>-3.69e+04</td>\n",
       "</tr>\n",
       "<tr>\n",
       "  <th>Neighborhood_NAmes</th>   <td>-5.066e+04</td> <td> 4367.883</td> <td>  -11.599</td> <td> 0.000</td> <td>-5.92e+04</td> <td>-4.21e+04</td>\n",
       "</tr>\n",
       "<tr>\n",
       "  <th>Neighborhood_NWAmes</th>  <td>-3.591e+04</td> <td> 5702.530</td> <td>   -6.297</td> <td> 0.000</td> <td>-4.71e+04</td> <td>-2.47e+04</td>\n",
       "</tr>\n",
       "<tr>\n",
       "  <th>Neighborhood_NoRidge</th> <td> 3.263e+04</td> <td> 7420.573</td> <td>    4.397</td> <td> 0.000</td> <td> 1.81e+04</td> <td> 4.72e+04</td>\n",
       "</tr>\n",
       "<tr>\n",
       "  <th>Neighborhood_NridgHt</th> <td> 5.947e+04</td> <td> 5574.741</td> <td>   10.668</td> <td> 0.000</td> <td> 4.85e+04</td> <td> 7.04e+04</td>\n",
       "</tr>\n",
       "<tr>\n",
       "  <th>Neighborhood_OldTown</th> <td>-6.212e+04</td> <td> 5155.363</td> <td>  -12.050</td> <td> 0.000</td> <td>-7.22e+04</td> <td> -5.2e+04</td>\n",
       "</tr>\n",
       "<tr>\n",
       "  <th>Neighborhood_SWISU</th>   <td>-4.859e+04</td> <td> 8750.193</td> <td>   -5.552</td> <td> 0.000</td> <td>-6.57e+04</td> <td>-3.14e+04</td>\n",
       "</tr>\n",
       "<tr>\n",
       "  <th>Neighborhood_Sawyer</th>  <td>-5.353e+04</td> <td> 5753.871</td> <td>   -9.304</td> <td> 0.000</td> <td>-6.48e+04</td> <td>-4.22e+04</td>\n",
       "</tr>\n",
       "<tr>\n",
       "  <th>Neighborhood_SawyerW</th> <td>-2.991e+04</td> <td> 5971.414</td> <td>   -5.009</td> <td> 0.000</td> <td>-4.16e+04</td> <td>-1.82e+04</td>\n",
       "</tr>\n",
       "<tr>\n",
       "  <th>Neighborhood_StoneBr</th> <td> 6.487e+04</td> <td> 8461.721</td> <td>    7.666</td> <td> 0.000</td> <td> 4.83e+04</td> <td> 8.15e+04</td>\n",
       "</tr>\n",
       "<tr>\n",
       "  <th>Neighborhood_Timber</th>  <td>-1.714e+04</td> <td> 7328.552</td> <td>   -2.338</td> <td> 0.019</td> <td>-3.15e+04</td> <td>-2761.815</td>\n",
       "</tr>\n",
       "</table>\n",
       "<table class=\"simpletable\">\n",
       "<tr>\n",
       "  <th>Omnibus:</th>       <td>435.140</td> <th>  Durbin-Watson:     </th> <td>   1.942</td>\n",
       "</tr>\n",
       "<tr>\n",
       "  <th>Prob(Omnibus):</th> <td> 0.000</td>  <th>  Jarque-Bera (JB):  </th> <td>3665.910</td>\n",
       "</tr>\n",
       "<tr>\n",
       "  <th>Skew:</th>          <td> 1.143</td>  <th>  Prob(JB):          </th> <td>    0.00</td>\n",
       "</tr>\n",
       "<tr>\n",
       "  <th>Kurtosis:</th>      <td>10.419</td>  <th>  Cond. No.          </th> <td>2.16e+05</td>\n",
       "</tr>\n",
       "</table><br/><br/>Warnings:<br/>[1] Standard Errors assume that the covariance matrix of the errors is correctly specified.<br/>[2] The condition number is large, 2.16e+05. This might indicate that there are<br/>strong multicollinearity or other numerical problems."
      ],
      "text/plain": [
       "<class 'statsmodels.iolib.summary.Summary'>\n",
       "\"\"\"\n",
       "                            OLS Regression Results                            \n",
       "==============================================================================\n",
       "Dep. Variable:              SalePrice   R-squared:                       0.768\n",
       "Model:                            OLS   Adj. R-squared:                  0.763\n",
       "Method:                 Least Squares   F-statistic:                     147.7\n",
       "Date:                Fri, 01 May 2020   Prob (F-statistic):               0.00\n",
       "Time:                        01:36:48   Log-Likelihood:                -17477.\n",
       "No. Observations:                1460   AIC:                         3.502e+04\n",
       "Df Residuals:                    1427   BIC:                         3.519e+04\n",
       "Df Model:                          32                                         \n",
       "Covariance Type:            nonrobust                                         \n",
       "========================================================================================\n",
       "                           coef    std err          t      P>|t|      [0.025      0.975]\n",
       "----------------------------------------------------------------------------------------\n",
       "const                 9.894e+04   5732.907     17.258      0.000    8.77e+04     1.1e+05\n",
       "LotArea                  0.4077      0.119      3.426      0.001       0.174       0.641\n",
       "MasVnrArea              52.4633      7.866      6.669      0.000      37.032      67.894\n",
       "BsmtExposure          1.166e+04   1177.814      9.899      0.000    9348.676     1.4e+04\n",
       "2ndFlrSF                82.1161      5.468     15.017      0.000      71.389      92.843\n",
       "BsmtFullBath          9585.0727   2308.117      4.153      0.000    5057.405    1.41e+04\n",
       "Fireplaces            1.656e+04   1854.255      8.929      0.000    1.29e+04    2.02e+04\n",
       "GarageCars             2.34e+04   1764.716     13.259      0.000    1.99e+04    2.69e+04\n",
       "ScreenPorch             57.4021     18.730      3.065      0.002      20.661      94.143\n",
       "BsmtFinTypeGLQ        1.478e+04   2684.745      5.507      0.000    9517.292    2.01e+04\n",
       "LotConfig_CulDSac     1.314e+04   4306.485      3.052      0.002    4694.909    2.16e+04\n",
       "BldgType_Twnhs       -5.398e+04   6834.471     -7.899      0.000   -6.74e+04   -4.06e+04\n",
       "BldgType_TwnhsE       -4.21e+04   4440.593     -9.481      0.000   -5.08e+04   -3.34e+04\n",
       "HouseStyle_1Story     3.362e+04   3644.753      9.224      0.000    2.65e+04    4.08e+04\n",
       "HouseStyle_2Story    -2.041e+04   4137.668     -4.932      0.000   -2.85e+04   -1.23e+04\n",
       "MasVnrType_BrkFace   -7306.2742   2866.774     -2.549      0.011   -1.29e+04   -1682.731\n",
       "Neighborhood_BrkSide  -5.19e+04   6363.814     -8.155      0.000   -6.44e+04   -3.94e+04\n",
       "Neighborhood_ClearCr -4.781e+04   8440.850     -5.665      0.000   -6.44e+04   -3.13e+04\n",
       "Neighborhood_CollgCr -2.429e+04   4612.511     -5.266      0.000   -3.33e+04   -1.52e+04\n",
       "Neighborhood_Edwards -5.811e+04   5260.116    -11.046      0.000   -6.84e+04   -4.78e+04\n",
       "Neighborhood_Gilbert  -3.63e+04   5502.791     -6.597      0.000   -4.71e+04   -2.55e+04\n",
       "Neighborhood_IDOTRR  -6.927e+04   7482.659     -9.258      0.000    -8.4e+04   -5.46e+04\n",
       "Neighborhood_Mitchel -4.964e+04   6506.939     -7.629      0.000   -6.24e+04   -3.69e+04\n",
       "Neighborhood_NAmes   -5.066e+04   4367.883    -11.599      0.000   -5.92e+04   -4.21e+04\n",
       "Neighborhood_NWAmes  -3.591e+04   5702.530     -6.297      0.000   -4.71e+04   -2.47e+04\n",
       "Neighborhood_NoRidge  3.263e+04   7420.573      4.397      0.000    1.81e+04    4.72e+04\n",
       "Neighborhood_NridgHt  5.947e+04   5574.741     10.668      0.000    4.85e+04    7.04e+04\n",
       "Neighborhood_OldTown -6.212e+04   5155.363    -12.050      0.000   -7.22e+04    -5.2e+04\n",
       "Neighborhood_SWISU   -4.859e+04   8750.193     -5.552      0.000   -6.57e+04   -3.14e+04\n",
       "Neighborhood_Sawyer  -5.353e+04   5753.871     -9.304      0.000   -6.48e+04   -4.22e+04\n",
       "Neighborhood_SawyerW -2.991e+04   5971.414     -5.009      0.000   -4.16e+04   -1.82e+04\n",
       "Neighborhood_StoneBr  6.487e+04   8461.721      7.666      0.000    4.83e+04    8.15e+04\n",
       "Neighborhood_Timber  -1.714e+04   7328.552     -2.338      0.019   -3.15e+04   -2761.815\n",
       "==============================================================================\n",
       "Omnibus:                      435.140   Durbin-Watson:                   1.942\n",
       "Prob(Omnibus):                  0.000   Jarque-Bera (JB):             3665.910\n",
       "Skew:                           1.143   Prob(JB):                         0.00\n",
       "Kurtosis:                      10.419   Cond. No.                     2.16e+05\n",
       "==============================================================================\n",
       "\n",
       "Warnings:\n",
       "[1] Standard Errors assume that the covariance matrix of the errors is correctly specified.\n",
       "[2] The condition number is large, 2.16e+05. This might indicate that there are\n",
       "strong multicollinearity or other numerical problems.\n",
       "\"\"\""
      ]
     },
     "metadata": {},
     "output_type": "display_data"
    }
   ],
   "source": [
    "drop_cols.append('Heating_OthW')\n",
    "X2=func_p(drop_cols[-1],X2)"
   ]
  },
  {
   "cell_type": "code",
   "execution_count": 42,
   "metadata": {},
   "outputs": [
    {
     "data": {
      "text/plain": [
       "Series([], dtype: float64)"
      ]
     },
     "metadata": {},
     "output_type": "display_data"
    }
   ],
   "source": [
    "# Just to be sure let's test for multicollinearity once again\n",
    "X2=func('',X2)"
   ]
  },
  {
   "cell_type": "markdown",
   "metadata": {},
   "source": [
    "Now we have checked the Multicollinearity Assumption. We dropped all columns that were highly correlated with others and we dropped the unsignificant ones."
   ]
  },
  {
   "cell_type": "markdown",
   "metadata": {},
   "source": [
    "## Autocorrelation - when rows are correlated"
   ]
  },
  {
   "cell_type": "markdown",
   "metadata": {},
   "source": [
    "Durbin Watson test"
   ]
  },
  {
   "cell_type": "code",
   "execution_count": 43,
   "metadata": {},
   "outputs": [],
   "source": [
    "from statsmodels.stats.stattools import durbin_watson"
   ]
  },
  {
   "cell_type": "code",
   "execution_count": 44,
   "metadata": {},
   "outputs": [],
   "source": [
    "mod=sm.OLS(y,add_constant(X2)).fit()\n",
    "resid=mod.resid"
   ]
  },
  {
   "cell_type": "code",
   "execution_count": 45,
   "metadata": {},
   "outputs": [
    {
     "data": {
      "text/plain": [
       "1.9419070616041152"
      ]
     },
     "execution_count": 45,
     "metadata": {},
     "output_type": "execute_result"
    }
   ],
   "source": [
    "durbin_watson(resid)"
   ]
  },
  {
   "cell_type": "markdown",
   "metadata": {},
   "source": [
    "For Durbin Watson statistics we have the following tresholds:\n",
    "\n",
    "* Normally it is between 0 and 4\n",
    "* If the value is lower than 1.5 than positive autocorrelation\n",
    "* If the value is higher than 2.5 than negative autocorrelation\n",
    "* Else - no autocorrelation\n",
    "\n",
    "So, we need to get the value between 1.5 and 2.5. Ideally as close as possible to 2. Which is the case here"
   ]
  },
  {
   "cell_type": "markdown",
   "metadata": {},
   "source": [
    "Assumption is satisfied. No autocorrelation found"
   ]
  },
  {
   "cell_type": "markdown",
   "metadata": {},
   "source": [
    "## Linearity"
   ]
  },
  {
   "cell_type": "code",
   "execution_count": 46,
   "metadata": {},
   "outputs": [
    {
     "data": {
      "text/plain": [
       "Index(['LotArea', 'MasVnrArea', 'BsmtExposure', '2ndFlrSF', 'BsmtFullBath',\n",
       "       'Fireplaces', 'GarageCars', 'ScreenPorch'],\n",
       "      dtype='object')"
      ]
     },
     "execution_count": 46,
     "metadata": {},
     "output_type": "execute_result"
    }
   ],
   "source": [
    "X2.nunique()[X2.nunique()>2].index"
   ]
  },
  {
   "cell_type": "code",
   "execution_count": 47,
   "metadata": {},
   "outputs": [
    {
     "data": {
      "image/png": "[encoded data removed]",
      "text/plain": [
       "<Figure size 720x576 with 8 Axes>"
      ]
     },
     "metadata": {
      "needs_background": "light"
     },
     "output_type": "display_data"
    }
   ],
   "source": [
    "import matplotlib.pyplot as plt\n",
    "\n",
    "_,axes=plt.subplots(2,4,figsize=(10,8))\n",
    "for idx,col in enumerate(X2.nunique()[X2.nunique()>2].index):\n",
    "    sns.scatterplot(x=X2[col].values,y=y.values.ravel(), ax=axes[idx//4, idx%4])\n",
    "    "
   ]
  },
  {
   "cell_type": "code",
   "execution_count": 48,
   "metadata": {},
   "outputs": [],
   "source": [
    "y_pred=mod.predict(add_constant(X2))"
   ]
  },
  {
   "cell_type": "code",
   "execution_count": 49,
   "metadata": {},
   "outputs": [
    {
     "data": {
      "text/plain": [
       "0       201957.028370\n",
       "1       234804.079799\n",
       "2       230516.405199\n",
       "3       240842.215709\n",
       "4       348939.560130\n",
       "            ...      \n",
       "1455    165801.220488\n",
       "1456    197760.037823\n",
       "1457    248112.927495\n",
       "1458    145283.897110\n",
       "1459    111488.434014\n",
       "Length: 1460, dtype: float64"
      ]
     },
     "execution_count": 49,
     "metadata": {},
     "output_type": "execute_result"
    }
   ],
   "source": [
    "y_pred"
   ]
  },
  {
   "cell_type": "code",
   "execution_count": 50,
   "metadata": {},
   "outputs": [
    {
     "data": {
      "text/plain": [
       "<matplotlib.collections.PathCollection at 0x7fae8cd03910>"
      ]
     },
     "execution_count": 50,
     "metadata": {},
     "output_type": "execute_result"
    },
    {
     "data": {
      "image/png": "[encoded data removed]",
      "text/plain": [
       "<Figure size 432x288 with 1 Axes>"
      ]
     },
     "metadata": {
      "needs_background": "light"
     },
     "output_type": "display_data"
    }
   ],
   "source": [
    "plt.scatter(y, y_pred)"
   ]
  },
  {
   "cell_type": "code",
   "execution_count": 51,
   "metadata": {},
   "outputs": [],
   "source": [
    "data=pd.concat([y,y_pred],axis=1)"
   ]
  },
  {
   "cell_type": "code",
   "execution_count": 52,
   "metadata": {},
   "outputs": [],
   "source": [
    "data.columns=['SalePrice','Pred']"
   ]
  },
  {
   "cell_type": "code",
   "execution_count": 53,
   "metadata": {},
   "outputs": [
    {
     "data": {
      "text/plain": [
       "<seaborn.axisgrid.FacetGrid at 0x7fae8c4bd250>"
      ]
     },
     "execution_count": 53,
     "metadata": {},
     "output_type": "execute_result"
    },
    {
     "data": {
      "image/png": "[encoded data removed]",
      "text/plain": [
       "<Figure size 360x360 with 1 Axes>"
      ]
     },
     "metadata": {
      "needs_background": "light"
     },
     "output_type": "display_data"
    }
   ],
   "source": [
    "sns.lmplot(x='SalePrice', y='Pred', data=data)"
   ]
  },
  {
   "cell_type": "code",
   "execution_count": 54,
   "metadata": {},
   "outputs": [],
   "source": [
    "from statsmodels.stats.diagnostic import linear_harvey_collier"
   ]
  },
  {
   "cell_type": "code",
   "execution_count": 55,
   "metadata": {},
   "outputs": [
    {
     "ename": "LinAlgError",
     "evalue": "Singular matrix",
     "output_type": "error",
     "traceback": [
      "\u001b[0;31m---------------------------------------------------------------------------\u001b[0m",
      "\u001b[0;31mLinAlgError\u001b[0m                               Traceback (most recent call last)",
      "\u001b[0;32m<ipython-input-55-78fd5feca2bd>\u001b[0m in \u001b[0;36m<module>\u001b[0;34m\u001b[0m\n\u001b[0;32m----> 1\u001b[0;31m \u001b[0mlinear_harvey_collier\u001b[0m\u001b[0;34m(\u001b[0m\u001b[0mmod\u001b[0m\u001b[0;34m)\u001b[0m\u001b[0;34m\u001b[0m\u001b[0;34m\u001b[0m\u001b[0m\n\u001b[0m",
      "\u001b[0;32m~/yes/lib/python3.7/site-packages/statsmodels/stats/diagnostic.py\u001b[0m in \u001b[0;36mlinear_harvey_collier\u001b[0;34m(res, order_by)\u001b[0m\n\u001b[1;32m   1277\u001b[0m     \u001b[0;31m# B.H. Baltagi, Econometrics, 2011, chapter 8\u001b[0m\u001b[0;34m\u001b[0m\u001b[0;34m\u001b[0m\u001b[0;34m\u001b[0m\u001b[0m\n\u001b[1;32m   1278\u001b[0m     \u001b[0;31m# but it matches Gretl and R:lmtest, pvalue at decimal=13\u001b[0m\u001b[0;34m\u001b[0m\u001b[0;34m\u001b[0m\u001b[0;34m\u001b[0m\u001b[0m\n\u001b[0;32m-> 1279\u001b[0;31m     \u001b[0mrr\u001b[0m \u001b[0;34m=\u001b[0m \u001b[0mrecursive_olsresiduals\u001b[0m\u001b[0;34m(\u001b[0m\u001b[0mres\u001b[0m\u001b[0;34m,\u001b[0m \u001b[0mskip\u001b[0m\u001b[0;34m=\u001b[0m\u001b[0;36m3\u001b[0m\u001b[0;34m,\u001b[0m \u001b[0malpha\u001b[0m\u001b[0;34m=\u001b[0m\u001b[0;36m0.95\u001b[0m\u001b[0;34m,\u001b[0m \u001b[0morder_by\u001b[0m\u001b[0;34m=\u001b[0m\u001b[0morder_by\u001b[0m\u001b[0;34m)\u001b[0m\u001b[0;34m\u001b[0m\u001b[0;34m\u001b[0m\u001b[0m\n\u001b[0m\u001b[1;32m   1280\u001b[0m \u001b[0;34m\u001b[0m\u001b[0m\n\u001b[1;32m   1281\u001b[0m     \u001b[0;32mreturn\u001b[0m \u001b[0mstats\u001b[0m\u001b[0;34m.\u001b[0m\u001b[0mttest_1samp\u001b[0m\u001b[0;34m(\u001b[0m\u001b[0mrr\u001b[0m\u001b[0;34m[\u001b[0m\u001b[0;36m3\u001b[0m\u001b[0;34m]\u001b[0m\u001b[0;34m[\u001b[0m\u001b[0;36m3\u001b[0m\u001b[0;34m:\u001b[0m\u001b[0;34m]\u001b[0m\u001b[0;34m,\u001b[0m \u001b[0;36m0\u001b[0m\u001b[0;34m)\u001b[0m\u001b[0;34m\u001b[0m\u001b[0;34m\u001b[0m\u001b[0m\n",
      "\u001b[0;32m~/yes/lib/python3.7/site-packages/pandas/util/_decorators.py\u001b[0m in \u001b[0;36mwrapper\u001b[0;34m(*args, **kwargs)\u001b[0m\n\u001b[1;32m    212\u001b[0m                 \u001b[0;32melse\u001b[0m\u001b[0;34m:\u001b[0m\u001b[0;34m\u001b[0m\u001b[0;34m\u001b[0m\u001b[0m\n\u001b[1;32m    213\u001b[0m                     \u001b[0mkwargs\u001b[0m\u001b[0;34m[\u001b[0m\u001b[0mnew_arg_name\u001b[0m\u001b[0;34m]\u001b[0m \u001b[0;34m=\u001b[0m \u001b[0mnew_arg_value\u001b[0m\u001b[0;34m\u001b[0m\u001b[0;34m\u001b[0m\u001b[0m\n\u001b[0;32m--> 214\u001b[0;31m             \u001b[0;32mreturn\u001b[0m \u001b[0mfunc\u001b[0m\u001b[0;34m(\u001b[0m\u001b[0;34m*\u001b[0m\u001b[0margs\u001b[0m\u001b[0;34m,\u001b[0m \u001b[0;34m**\u001b[0m\u001b[0mkwargs\u001b[0m\u001b[0;34m)\u001b[0m\u001b[0;34m\u001b[0m\u001b[0;34m\u001b[0m\u001b[0m\n\u001b[0m\u001b[1;32m    215\u001b[0m \u001b[0;34m\u001b[0m\u001b[0m\n\u001b[1;32m    216\u001b[0m         \u001b[0;32mreturn\u001b[0m \u001b[0mcast\u001b[0m\u001b[0;34m(\u001b[0m\u001b[0mF\u001b[0m\u001b[0;34m,\u001b[0m \u001b[0mwrapper\u001b[0m\u001b[0;34m)\u001b[0m\u001b[0;34m\u001b[0m\u001b[0;34m\u001b[0m\u001b[0m\n",
      "\u001b[0;32m~/yes/lib/python3.7/site-packages/statsmodels/stats/diagnostic.py\u001b[0m in \u001b[0;36mrecursive_olsresiduals\u001b[0;34m(res, skip, lamda, alpha, order_by)\u001b[0m\n\u001b[1;32m   1605\u001b[0m     \u001b[0my0\u001b[0m \u001b[0;34m=\u001b[0m \u001b[0my\u001b[0m\u001b[0;34m[\u001b[0m\u001b[0;34m:\u001b[0m\u001b[0mskip\u001b[0m\u001b[0;34m]\u001b[0m\u001b[0;34m\u001b[0m\u001b[0;34m\u001b[0m\u001b[0m\n\u001b[1;32m   1606\u001b[0m     \u001b[0;31m# add Ridge to start (not in jplv\u001b[0m\u001b[0;34m\u001b[0m\u001b[0;34m\u001b[0m\u001b[0;34m\u001b[0m\u001b[0m\n\u001b[0;32m-> 1607\u001b[0;31m     \u001b[0mxtxi\u001b[0m \u001b[0;34m=\u001b[0m \u001b[0mnp\u001b[0m\u001b[0;34m.\u001b[0m\u001b[0mlinalg\u001b[0m\u001b[0;34m.\u001b[0m\u001b[0minv\u001b[0m\u001b[0;34m(\u001b[0m\u001b[0mnp\u001b[0m\u001b[0;34m.\u001b[0m\u001b[0mdot\u001b[0m\u001b[0;34m(\u001b[0m\u001b[0mx0\u001b[0m\u001b[0;34m.\u001b[0m\u001b[0mT\u001b[0m\u001b[0;34m,\u001b[0m \u001b[0mx0\u001b[0m\u001b[0;34m)\u001b[0m \u001b[0;34m+\u001b[0m \u001b[0mlamda\u001b[0m \u001b[0;34m*\u001b[0m \u001b[0mnp\u001b[0m\u001b[0;34m.\u001b[0m\u001b[0meye\u001b[0m\u001b[0;34m(\u001b[0m\u001b[0mnvars\u001b[0m\u001b[0;34m)\u001b[0m\u001b[0;34m)\u001b[0m\u001b[0;34m\u001b[0m\u001b[0;34m\u001b[0m\u001b[0m\n\u001b[0m\u001b[1;32m   1608\u001b[0m     \u001b[0mxty\u001b[0m \u001b[0;34m=\u001b[0m \u001b[0mnp\u001b[0m\u001b[0;34m.\u001b[0m\u001b[0mdot\u001b[0m\u001b[0;34m(\u001b[0m\u001b[0mx0\u001b[0m\u001b[0;34m.\u001b[0m\u001b[0mT\u001b[0m\u001b[0;34m,\u001b[0m \u001b[0my0\u001b[0m\u001b[0;34m)\u001b[0m  \u001b[0;31m# xi * y   #np.dot(xi, y)\u001b[0m\u001b[0;34m\u001b[0m\u001b[0;34m\u001b[0m\u001b[0m\n\u001b[1;32m   1609\u001b[0m     \u001b[0mbeta\u001b[0m \u001b[0;34m=\u001b[0m \u001b[0mnp\u001b[0m\u001b[0;34m.\u001b[0m\u001b[0mdot\u001b[0m\u001b[0;34m(\u001b[0m\u001b[0mxtxi\u001b[0m\u001b[0;34m,\u001b[0m \u001b[0mxty\u001b[0m\u001b[0;34m)\u001b[0m\u001b[0;34m\u001b[0m\u001b[0;34m\u001b[0m\u001b[0m\n",
      "\u001b[0;32m<__array_function__ internals>\u001b[0m in \u001b[0;36minv\u001b[0;34m(*args, **kwargs)\u001b[0m\n",
      "\u001b[0;32m~/yes/lib/python3.7/site-packages/numpy/linalg/linalg.py\u001b[0m in \u001b[0;36minv\u001b[0;34m(a)\u001b[0m\n\u001b[1;32m    545\u001b[0m     \u001b[0msignature\u001b[0m \u001b[0;34m=\u001b[0m \u001b[0;34m'D->D'\u001b[0m \u001b[0;32mif\u001b[0m \u001b[0misComplexType\u001b[0m\u001b[0;34m(\u001b[0m\u001b[0mt\u001b[0m\u001b[0;34m)\u001b[0m \u001b[0;32melse\u001b[0m \u001b[0;34m'd->d'\u001b[0m\u001b[0;34m\u001b[0m\u001b[0;34m\u001b[0m\u001b[0m\n\u001b[1;32m    546\u001b[0m     \u001b[0mextobj\u001b[0m \u001b[0;34m=\u001b[0m \u001b[0mget_linalg_error_extobj\u001b[0m\u001b[0;34m(\u001b[0m\u001b[0m_raise_linalgerror_singular\u001b[0m\u001b[0;34m)\u001b[0m\u001b[0;34m\u001b[0m\u001b[0;34m\u001b[0m\u001b[0m\n\u001b[0;32m--> 547\u001b[0;31m     \u001b[0mainv\u001b[0m \u001b[0;34m=\u001b[0m \u001b[0m_umath_linalg\u001b[0m\u001b[0;34m.\u001b[0m\u001b[0minv\u001b[0m\u001b[0;34m(\u001b[0m\u001b[0ma\u001b[0m\u001b[0;34m,\u001b[0m \u001b[0msignature\u001b[0m\u001b[0;34m=\u001b[0m\u001b[0msignature\u001b[0m\u001b[0;34m,\u001b[0m \u001b[0mextobj\u001b[0m\u001b[0;34m=\u001b[0m\u001b[0mextobj\u001b[0m\u001b[0;34m)\u001b[0m\u001b[0;34m\u001b[0m\u001b[0;34m\u001b[0m\u001b[0m\n\u001b[0m\u001b[1;32m    548\u001b[0m     \u001b[0;32mreturn\u001b[0m \u001b[0mwrap\u001b[0m\u001b[0;34m(\u001b[0m\u001b[0mainv\u001b[0m\u001b[0;34m.\u001b[0m\u001b[0mastype\u001b[0m\u001b[0;34m(\u001b[0m\u001b[0mresult_t\u001b[0m\u001b[0;34m,\u001b[0m \u001b[0mcopy\u001b[0m\u001b[0;34m=\u001b[0m\u001b[0;32mFalse\u001b[0m\u001b[0;34m)\u001b[0m\u001b[0;34m)\u001b[0m\u001b[0;34m\u001b[0m\u001b[0;34m\u001b[0m\u001b[0m\n\u001b[1;32m    549\u001b[0m \u001b[0;34m\u001b[0m\u001b[0m\n",
      "\u001b[0;32m~/yes/lib/python3.7/site-packages/numpy/linalg/linalg.py\u001b[0m in \u001b[0;36m_raise_linalgerror_singular\u001b[0;34m(err, flag)\u001b[0m\n\u001b[1;32m     95\u001b[0m \u001b[0;34m\u001b[0m\u001b[0m\n\u001b[1;32m     96\u001b[0m \u001b[0;32mdef\u001b[0m \u001b[0m_raise_linalgerror_singular\u001b[0m\u001b[0;34m(\u001b[0m\u001b[0merr\u001b[0m\u001b[0;34m,\u001b[0m \u001b[0mflag\u001b[0m\u001b[0;34m)\u001b[0m\u001b[0;34m:\u001b[0m\u001b[0;34m\u001b[0m\u001b[0;34m\u001b[0m\u001b[0m\n\u001b[0;32m---> 97\u001b[0;31m     \u001b[0;32mraise\u001b[0m \u001b[0mLinAlgError\u001b[0m\u001b[0;34m(\u001b[0m\u001b[0;34m\"Singular matrix\"\u001b[0m\u001b[0;34m)\u001b[0m\u001b[0;34m\u001b[0m\u001b[0;34m\u001b[0m\u001b[0m\n\u001b[0m\u001b[1;32m     98\u001b[0m \u001b[0;34m\u001b[0m\u001b[0m\n\u001b[1;32m     99\u001b[0m \u001b[0;32mdef\u001b[0m \u001b[0m_raise_linalgerror_nonposdef\u001b[0m\u001b[0;34m(\u001b[0m\u001b[0merr\u001b[0m\u001b[0;34m,\u001b[0m \u001b[0mflag\u001b[0m\u001b[0;34m)\u001b[0m\u001b[0;34m:\u001b[0m\u001b[0;34m\u001b[0m\u001b[0;34m\u001b[0m\u001b[0m\n",
      "\u001b[0;31mLinAlgError\u001b[0m: Singular matrix"
     ]
    }
   ],
   "source": [
    "linear_harvey_collier(mod)"
   ]
  },
  {
   "cell_type": "code",
   "execution_count": 56,
   "metadata": {},
   "outputs": [],
   "source": [
    "dummies=X2.nunique()[X2.nunique()==2].index"
   ]
  },
  {
   "cell_type": "code",
   "execution_count": 57,
   "metadata": {},
   "outputs": [
    {
     "data": {
      "text/plain": [
       "5.0"
      ]
     },
     "execution_count": 57,
     "metadata": {},
     "output_type": "execute_result"
    }
   ],
   "source": [
    "X2[dummies].sum(axis=1).max()"
   ]
  },
  {
   "cell_type": "code",
   "execution_count": 58,
   "metadata": {},
   "outputs": [
    {
     "data": {
      "text/plain": [
       "0.0"
      ]
     },
     "execution_count": 58,
     "metadata": {},
     "output_type": "execute_result"
    }
   ],
   "source": [
    "X2[dummies].sum(axis=1).min()"
   ]
  },
  {
   "cell_type": "markdown",
   "metadata": {},
   "source": [
    "Conclusion: \n",
    "\n",
    "We can clearly see that there is some kind of issue. We don't have a dummies trap (because we have a row with all zeroes in dummies). And at the same time our test failed to run.\n",
    "\n",
    "But, we could see that predictions are aligned with actual data. So there is a chance that we are still ok. Let's continue"
   ]
  },
  {
   "cell_type": "markdown",
   "metadata": {},
   "source": [
    "## Homoskedasticity"
   ]
  },
  {
   "cell_type": "code",
   "execution_count": 59,
   "metadata": {},
   "outputs": [],
   "source": [
    "from statsmodels.stats.diagnostic import het_breuschpagan"
   ]
  },
  {
   "cell_type": "code",
   "execution_count": 60,
   "metadata": {
    "scrolled": true
   },
   "outputs": [
    {
     "data": {
      "text/plain": [
       "{'Lagrange Multiplier': 379.84915176690583,\n",
       " 'pvalue for LM': 1.1632811910472686e-61,\n",
       " 'F stats': 15.692964020096051,\n",
       " 'pvalue for Fstats': 3.774353280938404e-72}"
      ]
     },
     "execution_count": 60,
     "metadata": {},
     "output_type": "execute_result"
    }
   ],
   "source": [
    "lnames=['Lagrange Multiplier', 'pvalue for LM','F stats','pvalue for Fstats']\n",
    "{lnames[idx]:het_breuschpagan(resid,X2)[idx] for idx in range(4)}"
   ]
  },
  {
   "cell_type": "markdown",
   "metadata": {},
   "source": [
    "We pay our attention on pvalues again. The Null Hypothesis in both cases is:\n",
    "\n",
    "H0: the variance of residuals doesnt depend on Xs.  (Homoskedasticity)\n",
    "\n",
    "H1: Heteroskedasticity\n",
    "\n",
    "Since in this case both values are 0, we reject Null Hypothesis and we end up in Heteroskedasticity. Assumption is violated"
   ]
  },
  {
   "cell_type": "markdown",
   "metadata": {},
   "source": [
    "Possible solutions? \n",
    "1. try to build different model with different set of features trying to make it work.\n",
    "2. Split your data into different sets. And build separate model for each set. (Apartment in Paris and apartment in Bordeaux will cost differently) + (outliers in Bronx and outliers in Brooklyn are different. What can be considered as outlier in one area is not outlier for second). \n",
    "3. Non-linearly transform our data. "
   ]
  },
  {
   "cell_type": "markdown",
   "metadata": {},
   "source": [
    "### Example of nonlinear transformation"
   ]
  },
  {
   "cell_type": "code",
   "execution_count": 61,
   "metadata": {},
   "outputs": [
    {
     "data": {
      "text/plain": [
       "<matplotlib.axes._subplots.AxesSubplot at 0x7fae90a3ddd0>"
      ]
     },
     "execution_count": 61,
     "metadata": {},
     "output_type": "execute_result"
    },
    {
     "data": {
      "image/png": "[encoded data removed]",
      "text/plain": [
       "<Figure size 432x288 with 1 Axes>"
      ]
     },
     "metadata": {
      "needs_background": "light"
     },
     "output_type": "display_data"
    }
   ],
   "source": [
    "X2.LotArea.plot.hist(bins=100)"
   ]
  },
  {
   "cell_type": "code",
   "execution_count": 62,
   "metadata": {},
   "outputs": [
    {
     "data": {
      "text/plain": [
       "<matplotlib.axes._subplots.AxesSubplot at 0x7fae908b7fd0>"
      ]
     },
     "execution_count": 62,
     "metadata": {},
     "output_type": "execute_result"
    },
    {
     "data": {
      "image/png": "[encoded data removed]",
      "text/plain": [
       "<Figure size 432x288 with 1 Axes>"
      ]
     },
     "metadata": {
      "needs_background": "light"
     },
     "output_type": "display_data"
    }
   ],
   "source": [
    "# Linear one:\n",
    "((X2.LotArea-X2.LotArea.mean())/X2.LotArea.std()).plot.hist(bins=100)"
   ]
  },
  {
   "cell_type": "code",
   "execution_count": 63,
   "metadata": {},
   "outputs": [
    {
     "data": {
      "text/plain": [
       "<matplotlib.axes._subplots.AxesSubplot at 0x7fae90729950>"
      ]
     },
     "execution_count": 63,
     "metadata": {},
     "output_type": "execute_result"
    },
    {
     "data": {
      "image/png": "[encoded data removed]",
      "text/plain": [
       "<Figure size 432x288 with 1 Axes>"
      ]
     },
     "metadata": {
      "needs_background": "light"
     },
     "output_type": "display_data"
    }
   ],
   "source": [
    "import numpy as np\n",
    "X2.LotArea.apply(np.log).plot.hist(bins=100)"
   ]
  },
  {
   "cell_type": "code",
   "execution_count": 64,
   "metadata": {},
   "outputs": [
    {
     "data": {
      "text/html": [
       "<div>\n",
       "<style scoped>\n",
       "    .dataframe tbody tr th:only-of-type {\n",
       "        vertical-align: middle;\n",
       "    }\n",
       "\n",
       "    .dataframe tbody tr th {\n",
       "        vertical-align: top;\n",
       "    }\n",
       "\n",
       "    .dataframe thead th {\n",
       "        text-align: right;\n",
       "    }\n",
       "</style>\n",
       "<table border=\"1\" class=\"dataframe\">\n",
       "  <thead>\n",
       "    <tr style=\"text-align: right;\">\n",
       "      <th></th>\n",
       "      <th>SalePrice</th>\n",
       "    </tr>\n",
       "  </thead>\n",
       "  <tbody>\n",
       "    <tr>\n",
       "      <th>count</th>\n",
       "      <td>1460.000000</td>\n",
       "    </tr>\n",
       "    <tr>\n",
       "      <th>mean</th>\n",
       "      <td>180921.195890</td>\n",
       "    </tr>\n",
       "    <tr>\n",
       "      <th>std</th>\n",
       "      <td>79442.502883</td>\n",
       "    </tr>\n",
       "    <tr>\n",
       "      <th>min</th>\n",
       "      <td>34900.000000</td>\n",
       "    </tr>\n",
       "    <tr>\n",
       "      <th>25%</th>\n",
       "      <td>129975.000000</td>\n",
       "    </tr>\n",
       "    <tr>\n",
       "      <th>50%</th>\n",
       "      <td>163000.000000</td>\n",
       "    </tr>\n",
       "    <tr>\n",
       "      <th>75%</th>\n",
       "      <td>214000.000000</td>\n",
       "    </tr>\n",
       "    <tr>\n",
       "      <th>max</th>\n",
       "      <td>755000.000000</td>\n",
       "    </tr>\n",
       "  </tbody>\n",
       "</table>\n",
       "</div>"
      ],
      "text/plain": [
       "           SalePrice\n",
       "count    1460.000000\n",
       "mean   180921.195890\n",
       "std     79442.502883\n",
       "min     34900.000000\n",
       "25%    129975.000000\n",
       "50%    163000.000000\n",
       "75%    214000.000000\n",
       "max    755000.000000"
      ]
     },
     "execution_count": 64,
     "metadata": {},
     "output_type": "execute_result"
    }
   ],
   "source": [
    "y.describe()"
   ]
  },
  {
   "cell_type": "code",
   "execution_count": 65,
   "metadata": {},
   "outputs": [
    {
     "data": {
      "text/html": [
       "<div>\n",
       "<style scoped>\n",
       "    .dataframe tbody tr th:only-of-type {\n",
       "        vertical-align: middle;\n",
       "    }\n",
       "\n",
       "    .dataframe tbody tr th {\n",
       "        vertical-align: top;\n",
       "    }\n",
       "\n",
       "    .dataframe thead th {\n",
       "        text-align: right;\n",
       "    }\n",
       "</style>\n",
       "<table border=\"1\" class=\"dataframe\">\n",
       "  <thead>\n",
       "    <tr style=\"text-align: right;\">\n",
       "      <th></th>\n",
       "      <th>LotArea</th>\n",
       "      <th>MasVnrArea</th>\n",
       "      <th>BsmtExposure</th>\n",
       "      <th>2ndFlrSF</th>\n",
       "      <th>BsmtFullBath</th>\n",
       "      <th>Fireplaces</th>\n",
       "      <th>GarageCars</th>\n",
       "      <th>ScreenPorch</th>\n",
       "      <th>BsmtFinTypeGLQ</th>\n",
       "      <th>LotConfig_CulDSac</th>\n",
       "      <th>...</th>\n",
       "      <th>Neighborhood_NAmes</th>\n",
       "      <th>Neighborhood_NWAmes</th>\n",
       "      <th>Neighborhood_NoRidge</th>\n",
       "      <th>Neighborhood_NridgHt</th>\n",
       "      <th>Neighborhood_OldTown</th>\n",
       "      <th>Neighborhood_SWISU</th>\n",
       "      <th>Neighborhood_Sawyer</th>\n",
       "      <th>Neighborhood_SawyerW</th>\n",
       "      <th>Neighborhood_StoneBr</th>\n",
       "      <th>Neighborhood_Timber</th>\n",
       "    </tr>\n",
       "  </thead>\n",
       "  <tbody>\n",
       "    <tr>\n",
       "      <th>count</th>\n",
       "      <td>1460.000000</td>\n",
       "      <td>1460.000000</td>\n",
       "      <td>1460.000000</td>\n",
       "      <td>1460.000000</td>\n",
       "      <td>1460.000000</td>\n",
       "      <td>1460.000000</td>\n",
       "      <td>1460.000000</td>\n",
       "      <td>1460.000000</td>\n",
       "      <td>1460.000000</td>\n",
       "      <td>1460.000000</td>\n",
       "      <td>...</td>\n",
       "      <td>1460.000000</td>\n",
       "      <td>1460.00000</td>\n",
       "      <td>1460.000000</td>\n",
       "      <td>1460.00000</td>\n",
       "      <td>1460.000000</td>\n",
       "      <td>1460.000000</td>\n",
       "      <td>1460.000000</td>\n",
       "      <td>1460.000000</td>\n",
       "      <td>1460.000000</td>\n",
       "      <td>1460.000000</td>\n",
       "    </tr>\n",
       "    <tr>\n",
       "      <th>mean</th>\n",
       "      <td>10516.828082</td>\n",
       "      <td>103.117123</td>\n",
       "      <td>0.656164</td>\n",
       "      <td>346.992466</td>\n",
       "      <td>0.425342</td>\n",
       "      <td>0.613014</td>\n",
       "      <td>1.767123</td>\n",
       "      <td>15.060959</td>\n",
       "      <td>0.321233</td>\n",
       "      <td>0.064384</td>\n",
       "      <td>...</td>\n",
       "      <td>0.154110</td>\n",
       "      <td>0.05000</td>\n",
       "      <td>0.028082</td>\n",
       "      <td>0.05274</td>\n",
       "      <td>0.077397</td>\n",
       "      <td>0.017123</td>\n",
       "      <td>0.050685</td>\n",
       "      <td>0.040411</td>\n",
       "      <td>0.017123</td>\n",
       "      <td>0.026027</td>\n",
       "    </tr>\n",
       "    <tr>\n",
       "      <th>std</th>\n",
       "      <td>9981.264932</td>\n",
       "      <td>180.731373</td>\n",
       "      <td>1.039123</td>\n",
       "      <td>436.528436</td>\n",
       "      <td>0.518911</td>\n",
       "      <td>0.644666</td>\n",
       "      <td>0.747315</td>\n",
       "      <td>55.757415</td>\n",
       "      <td>0.467110</td>\n",
       "      <td>0.245519</td>\n",
       "      <td>...</td>\n",
       "      <td>0.361177</td>\n",
       "      <td>0.21802</td>\n",
       "      <td>0.165264</td>\n",
       "      <td>0.22359</td>\n",
       "      <td>0.267312</td>\n",
       "      <td>0.129775</td>\n",
       "      <td>0.219429</td>\n",
       "      <td>0.196989</td>\n",
       "      <td>0.129775</td>\n",
       "      <td>0.159271</td>\n",
       "    </tr>\n",
       "    <tr>\n",
       "      <th>min</th>\n",
       "      <td>1300.000000</td>\n",
       "      <td>0.000000</td>\n",
       "      <td>0.000000</td>\n",
       "      <td>0.000000</td>\n",
       "      <td>0.000000</td>\n",
       "      <td>0.000000</td>\n",
       "      <td>0.000000</td>\n",
       "      <td>0.000000</td>\n",
       "      <td>0.000000</td>\n",
       "      <td>0.000000</td>\n",
       "      <td>...</td>\n",
       "      <td>0.000000</td>\n",
       "      <td>0.00000</td>\n",
       "      <td>0.000000</td>\n",
       "      <td>0.00000</td>\n",
       "      <td>0.000000</td>\n",
       "      <td>0.000000</td>\n",
       "      <td>0.000000</td>\n",
       "      <td>0.000000</td>\n",
       "      <td>0.000000</td>\n",
       "      <td>0.000000</td>\n",
       "    </tr>\n",
       "    <tr>\n",
       "      <th>25%</th>\n",
       "      <td>7553.500000</td>\n",
       "      <td>0.000000</td>\n",
       "      <td>0.000000</td>\n",
       "      <td>0.000000</td>\n",
       "      <td>0.000000</td>\n",
       "      <td>0.000000</td>\n",
       "      <td>1.000000</td>\n",
       "      <td>0.000000</td>\n",
       "      <td>0.000000</td>\n",
       "      <td>0.000000</td>\n",
       "      <td>...</td>\n",
       "      <td>0.000000</td>\n",
       "      <td>0.00000</td>\n",
       "      <td>0.000000</td>\n",
       "      <td>0.00000</td>\n",
       "      <td>0.000000</td>\n",
       "      <td>0.000000</td>\n",
       "      <td>0.000000</td>\n",
       "      <td>0.000000</td>\n",
       "      <td>0.000000</td>\n",
       "      <td>0.000000</td>\n",
       "    </tr>\n",
       "    <tr>\n",
       "      <th>50%</th>\n",
       "      <td>9478.500000</td>\n",
       "      <td>0.000000</td>\n",
       "      <td>0.000000</td>\n",
       "      <td>0.000000</td>\n",
       "      <td>0.000000</td>\n",
       "      <td>1.000000</td>\n",
       "      <td>2.000000</td>\n",
       "      <td>0.000000</td>\n",
       "      <td>0.000000</td>\n",
       "      <td>0.000000</td>\n",
       "      <td>...</td>\n",
       "      <td>0.000000</td>\n",
       "      <td>0.00000</td>\n",
       "      <td>0.000000</td>\n",
       "      <td>0.00000</td>\n",
       "      <td>0.000000</td>\n",
       "      <td>0.000000</td>\n",
       "      <td>0.000000</td>\n",
       "      <td>0.000000</td>\n",
       "      <td>0.000000</td>\n",
       "      <td>0.000000</td>\n",
       "    </tr>\n",
       "    <tr>\n",
       "      <th>75%</th>\n",
       "      <td>11601.500000</td>\n",
       "      <td>164.250000</td>\n",
       "      <td>1.000000</td>\n",
       "      <td>728.000000</td>\n",
       "      <td>1.000000</td>\n",
       "      <td>1.000000</td>\n",
       "      <td>2.000000</td>\n",
       "      <td>0.000000</td>\n",
       "      <td>1.000000</td>\n",
       "      <td>0.000000</td>\n",
       "      <td>...</td>\n",
       "      <td>0.000000</td>\n",
       "      <td>0.00000</td>\n",
       "      <td>0.000000</td>\n",
       "      <td>0.00000</td>\n",
       "      <td>0.000000</td>\n",
       "      <td>0.000000</td>\n",
       "      <td>0.000000</td>\n",
       "      <td>0.000000</td>\n",
       "      <td>0.000000</td>\n",
       "      <td>0.000000</td>\n",
       "    </tr>\n",
       "    <tr>\n",
       "      <th>max</th>\n",
       "      <td>215245.000000</td>\n",
       "      <td>1600.000000</td>\n",
       "      <td>3.000000</td>\n",
       "      <td>2065.000000</td>\n",
       "      <td>3.000000</td>\n",
       "      <td>3.000000</td>\n",
       "      <td>4.000000</td>\n",
       "      <td>480.000000</td>\n",
       "      <td>1.000000</td>\n",
       "      <td>1.000000</td>\n",
       "      <td>...</td>\n",
       "      <td>1.000000</td>\n",
       "      <td>1.00000</td>\n",
       "      <td>1.000000</td>\n",
       "      <td>1.00000</td>\n",
       "      <td>1.000000</td>\n",
       "      <td>1.000000</td>\n",
       "      <td>1.000000</td>\n",
       "      <td>1.000000</td>\n",
       "      <td>1.000000</td>\n",
       "      <td>1.000000</td>\n",
       "    </tr>\n",
       "  </tbody>\n",
       "</table>\n",
       "<p>8 rows × 32 columns</p>\n",
       "</div>"
      ],
      "text/plain": [
       "             LotArea   MasVnrArea  BsmtExposure     2ndFlrSF  BsmtFullBath  \\\n",
       "count    1460.000000  1460.000000   1460.000000  1460.000000   1460.000000   \n",
       "mean    10516.828082   103.117123      0.656164   346.992466      0.425342   \n",
       "std      9981.264932   180.731373      1.039123   436.528436      0.518911   \n",
       "min      1300.000000     0.000000      0.000000     0.000000      0.000000   \n",
       "25%      7553.500000     0.000000      0.000000     0.000000      0.000000   \n",
       "50%      9478.500000     0.000000      0.000000     0.000000      0.000000   \n",
       "75%     11601.500000   164.250000      1.000000   728.000000      1.000000   \n",
       "max    215245.000000  1600.000000      3.000000  2065.000000      3.000000   \n",
       "\n",
       "        Fireplaces   GarageCars  ScreenPorch  BsmtFinTypeGLQ  \\\n",
       "count  1460.000000  1460.000000  1460.000000     1460.000000   \n",
       "mean      0.613014     1.767123    15.060959        0.321233   \n",
       "std       0.644666     0.747315    55.757415        0.467110   \n",
       "min       0.000000     0.000000     0.000000        0.000000   \n",
       "25%       0.000000     1.000000     0.000000        0.000000   \n",
       "50%       1.000000     2.000000     0.000000        0.000000   \n",
       "75%       1.000000     2.000000     0.000000        1.000000   \n",
       "max       3.000000     4.000000   480.000000        1.000000   \n",
       "\n",
       "       LotConfig_CulDSac  ...  Neighborhood_NAmes  Neighborhood_NWAmes  \\\n",
       "count        1460.000000  ...         1460.000000           1460.00000   \n",
       "mean            0.064384  ...            0.154110              0.05000   \n",
       "std             0.245519  ...            0.361177              0.21802   \n",
       "min             0.000000  ...            0.000000              0.00000   \n",
       "25%             0.000000  ...            0.000000              0.00000   \n",
       "50%             0.000000  ...            0.000000              0.00000   \n",
       "75%             0.000000  ...            0.000000              0.00000   \n",
       "max             1.000000  ...            1.000000              1.00000   \n",
       "\n",
       "       Neighborhood_NoRidge  Neighborhood_NridgHt  Neighborhood_OldTown  \\\n",
       "count           1460.000000            1460.00000           1460.000000   \n",
       "mean               0.028082               0.05274              0.077397   \n",
       "std                0.165264               0.22359              0.267312   \n",
       "min                0.000000               0.00000              0.000000   \n",
       "25%                0.000000               0.00000              0.000000   \n",
       "50%                0.000000               0.00000              0.000000   \n",
       "75%                0.000000               0.00000              0.000000   \n",
       "max                1.000000               1.00000              1.000000   \n",
       "\n",
       "       Neighborhood_SWISU  Neighborhood_Sawyer  Neighborhood_SawyerW  \\\n",
       "count         1460.000000          1460.000000           1460.000000   \n",
       "mean             0.017123             0.050685              0.040411   \n",
       "std              0.129775             0.219429              0.196989   \n",
       "min              0.000000             0.000000              0.000000   \n",
       "25%              0.000000             0.000000              0.000000   \n",
       "50%              0.000000             0.000000              0.000000   \n",
       "75%              0.000000             0.000000              0.000000   \n",
       "max              1.000000             1.000000              1.000000   \n",
       "\n",
       "       Neighborhood_StoneBr  Neighborhood_Timber  \n",
       "count           1460.000000          1460.000000  \n",
       "mean               0.017123             0.026027  \n",
       "std                0.129775             0.159271  \n",
       "min                0.000000             0.000000  \n",
       "25%                0.000000             0.000000  \n",
       "50%                0.000000             0.000000  \n",
       "75%                0.000000             0.000000  \n",
       "max                1.000000             1.000000  \n",
       "\n",
       "[8 rows x 32 columns]"
      ]
     },
     "execution_count": 65,
     "metadata": {},
     "output_type": "execute_result"
    }
   ],
   "source": [
    "X2.describe()"
   ]
  },
  {
   "cell_type": "code",
   "execution_count": 66,
   "metadata": {},
   "outputs": [],
   "source": [
    "y_new=(y-y.mean())/y.std()"
   ]
  },
  {
   "cell_type": "code",
   "execution_count": 67,
   "metadata": {},
   "outputs": [],
   "source": [
    "X2_new=(X2-X2.mean())/X2.std()"
   ]
  },
  {
   "cell_type": "code",
   "execution_count": 68,
   "metadata": {},
   "outputs": [
    {
     "data": {
      "text/html": [
       "<div>\n",
       "<style scoped>\n",
       "    .dataframe tbody tr th:only-of-type {\n",
       "        vertical-align: middle;\n",
       "    }\n",
       "\n",
       "    .dataframe tbody tr th {\n",
       "        vertical-align: top;\n",
       "    }\n",
       "\n",
       "    .dataframe thead th {\n",
       "        text-align: right;\n",
       "    }\n",
       "</style>\n",
       "<table border=\"1\" class=\"dataframe\">\n",
       "  <thead>\n",
       "    <tr style=\"text-align: right;\">\n",
       "      <th></th>\n",
       "      <th>LotArea</th>\n",
       "      <th>MasVnrArea</th>\n",
       "      <th>BsmtExposure</th>\n",
       "      <th>2ndFlrSF</th>\n",
       "      <th>BsmtFullBath</th>\n",
       "      <th>Fireplaces</th>\n",
       "      <th>GarageCars</th>\n",
       "      <th>ScreenPorch</th>\n",
       "      <th>BsmtFinTypeGLQ</th>\n",
       "      <th>LotConfig_CulDSac</th>\n",
       "      <th>...</th>\n",
       "      <th>Neighborhood_NAmes</th>\n",
       "      <th>Neighborhood_NWAmes</th>\n",
       "      <th>Neighborhood_NoRidge</th>\n",
       "      <th>Neighborhood_NridgHt</th>\n",
       "      <th>Neighborhood_OldTown</th>\n",
       "      <th>Neighborhood_SWISU</th>\n",
       "      <th>Neighborhood_Sawyer</th>\n",
       "      <th>Neighborhood_SawyerW</th>\n",
       "      <th>Neighborhood_StoneBr</th>\n",
       "      <th>Neighborhood_Timber</th>\n",
       "    </tr>\n",
       "  </thead>\n",
       "  <tbody>\n",
       "    <tr>\n",
       "      <th>0</th>\n",
       "      <td>-0.207071</td>\n",
       "      <td>0.513928</td>\n",
       "      <td>-0.63146</td>\n",
       "      <td>1.161454</td>\n",
       "      <td>1.107431</td>\n",
       "      <td>-0.950901</td>\n",
       "      <td>0.311618</td>\n",
       "      <td>-0.270116</td>\n",
       "      <td>1.453120</td>\n",
       "      <td>-0.262234</td>\n",
       "      <td>...</td>\n",
       "      <td>-0.426687</td>\n",
       "      <td>-0.229337</td>\n",
       "      <td>-0.169923</td>\n",
       "      <td>-0.235877</td>\n",
       "      <td>-0.289539</td>\n",
       "      <td>-0.131946</td>\n",
       "      <td>-0.230986</td>\n",
       "      <td>-0.205144</td>\n",
       "      <td>-0.131946</td>\n",
       "      <td>-0.163415</td>\n",
       "    </tr>\n",
       "    <tr>\n",
       "      <th>1</th>\n",
       "      <td>-0.091855</td>\n",
       "      <td>-0.570555</td>\n",
       "      <td>2.25559</td>\n",
       "      <td>-0.794891</td>\n",
       "      <td>-0.819684</td>\n",
       "      <td>0.600289</td>\n",
       "      <td>0.311618</td>\n",
       "      <td>-0.270116</td>\n",
       "      <td>-0.687703</td>\n",
       "      <td>-0.262234</td>\n",
       "      <td>...</td>\n",
       "      <td>-0.426687</td>\n",
       "      <td>-0.229337</td>\n",
       "      <td>-0.169923</td>\n",
       "      <td>-0.235877</td>\n",
       "      <td>-0.289539</td>\n",
       "      <td>-0.131946</td>\n",
       "      <td>-0.230986</td>\n",
       "      <td>-0.205144</td>\n",
       "      <td>-0.131946</td>\n",
       "      <td>-0.163415</td>\n",
       "    </tr>\n",
       "    <tr>\n",
       "      <th>2</th>\n",
       "      <td>0.073455</td>\n",
       "      <td>0.325803</td>\n",
       "      <td>0.33089</td>\n",
       "      <td>1.188943</td>\n",
       "      <td>1.107431</td>\n",
       "      <td>0.600289</td>\n",
       "      <td>0.311618</td>\n",
       "      <td>-0.270116</td>\n",
       "      <td>1.453120</td>\n",
       "      <td>-0.262234</td>\n",
       "      <td>...</td>\n",
       "      <td>-0.426687</td>\n",
       "      <td>-0.229337</td>\n",
       "      <td>-0.169923</td>\n",
       "      <td>-0.235877</td>\n",
       "      <td>-0.289539</td>\n",
       "      <td>-0.131946</td>\n",
       "      <td>-0.230986</td>\n",
       "      <td>-0.205144</td>\n",
       "      <td>-0.131946</td>\n",
       "      <td>-0.163415</td>\n",
       "    </tr>\n",
       "    <tr>\n",
       "      <th>3</th>\n",
       "      <td>-0.096864</td>\n",
       "      <td>-0.570555</td>\n",
       "      <td>-0.63146</td>\n",
       "      <td>0.936955</td>\n",
       "      <td>1.107431</td>\n",
       "      <td>0.600289</td>\n",
       "      <td>1.649742</td>\n",
       "      <td>-0.270116</td>\n",
       "      <td>-0.687703</td>\n",
       "      <td>-0.262234</td>\n",
       "      <td>...</td>\n",
       "      <td>-0.426687</td>\n",
       "      <td>-0.229337</td>\n",
       "      <td>-0.169923</td>\n",
       "      <td>-0.235877</td>\n",
       "      <td>-0.289539</td>\n",
       "      <td>-0.131946</td>\n",
       "      <td>-0.230986</td>\n",
       "      <td>-0.205144</td>\n",
       "      <td>-0.131946</td>\n",
       "      <td>-0.163415</td>\n",
       "    </tr>\n",
       "    <tr>\n",
       "      <th>4</th>\n",
       "      <td>0.375020</td>\n",
       "      <td>1.366021</td>\n",
       "      <td>1.29324</td>\n",
       "      <td>1.617323</td>\n",
       "      <td>1.107431</td>\n",
       "      <td>0.600289</td>\n",
       "      <td>1.649742</td>\n",
       "      <td>-0.270116</td>\n",
       "      <td>1.453120</td>\n",
       "      <td>-0.262234</td>\n",
       "      <td>...</td>\n",
       "      <td>-0.426687</td>\n",
       "      <td>-0.229337</td>\n",
       "      <td>5.880991</td>\n",
       "      <td>-0.235877</td>\n",
       "      <td>-0.289539</td>\n",
       "      <td>-0.131946</td>\n",
       "      <td>-0.230986</td>\n",
       "      <td>-0.205144</td>\n",
       "      <td>-0.131946</td>\n",
       "      <td>-0.163415</td>\n",
       "    </tr>\n",
       "    <tr>\n",
       "      <th>...</th>\n",
       "      <td>...</td>\n",
       "      <td>...</td>\n",
       "      <td>...</td>\n",
       "      <td>...</td>\n",
       "      <td>...</td>\n",
       "      <td>...</td>\n",
       "      <td>...</td>\n",
       "      <td>...</td>\n",
       "      <td>...</td>\n",
       "      <td>...</td>\n",
       "      <td>...</td>\n",
       "      <td>...</td>\n",
       "      <td>...</td>\n",
       "      <td>...</td>\n",
       "      <td>...</td>\n",
       "      <td>...</td>\n",
       "      <td>...</td>\n",
       "      <td>...</td>\n",
       "      <td>...</td>\n",
       "      <td>...</td>\n",
       "      <td>...</td>\n",
       "    </tr>\n",
       "    <tr>\n",
       "      <th>1455</th>\n",
       "      <td>-0.260471</td>\n",
       "      <td>-0.570555</td>\n",
       "      <td>-0.63146</td>\n",
       "      <td>0.794925</td>\n",
       "      <td>-0.819684</td>\n",
       "      <td>0.600289</td>\n",
       "      <td>0.311618</td>\n",
       "      <td>-0.270116</td>\n",
       "      <td>-0.687703</td>\n",
       "      <td>-0.262234</td>\n",
       "      <td>...</td>\n",
       "      <td>-0.426687</td>\n",
       "      <td>-0.229337</td>\n",
       "      <td>-0.169923</td>\n",
       "      <td>-0.235877</td>\n",
       "      <td>-0.289539</td>\n",
       "      <td>-0.131946</td>\n",
       "      <td>-0.230986</td>\n",
       "      <td>-0.205144</td>\n",
       "      <td>-0.131946</td>\n",
       "      <td>-0.163415</td>\n",
       "    </tr>\n",
       "    <tr>\n",
       "      <th>1456</th>\n",
       "      <td>0.266316</td>\n",
       "      <td>0.087881</td>\n",
       "      <td>-0.63146</td>\n",
       "      <td>-0.794891</td>\n",
       "      <td>1.107431</td>\n",
       "      <td>2.151479</td>\n",
       "      <td>0.311618</td>\n",
       "      <td>-0.270116</td>\n",
       "      <td>-0.687703</td>\n",
       "      <td>-0.262234</td>\n",
       "      <td>...</td>\n",
       "      <td>-0.426687</td>\n",
       "      <td>4.357406</td>\n",
       "      <td>-0.169923</td>\n",
       "      <td>-0.235877</td>\n",
       "      <td>-0.289539</td>\n",
       "      <td>-0.131946</td>\n",
       "      <td>-0.230986</td>\n",
       "      <td>-0.205144</td>\n",
       "      <td>-0.131946</td>\n",
       "      <td>-0.163415</td>\n",
       "    </tr>\n",
       "    <tr>\n",
       "      <th>1457</th>\n",
       "      <td>-0.147760</td>\n",
       "      <td>-0.570555</td>\n",
       "      <td>-0.63146</td>\n",
       "      <td>1.844112</td>\n",
       "      <td>-0.819684</td>\n",
       "      <td>2.151479</td>\n",
       "      <td>-1.026506</td>\n",
       "      <td>-0.270116</td>\n",
       "      <td>1.453120</td>\n",
       "      <td>-0.262234</td>\n",
       "      <td>...</td>\n",
       "      <td>-0.426687</td>\n",
       "      <td>-0.229337</td>\n",
       "      <td>-0.169923</td>\n",
       "      <td>-0.235877</td>\n",
       "      <td>-0.289539</td>\n",
       "      <td>-0.131946</td>\n",
       "      <td>-0.230986</td>\n",
       "      <td>-0.205144</td>\n",
       "      <td>-0.131946</td>\n",
       "      <td>-0.163415</td>\n",
       "    </tr>\n",
       "    <tr>\n",
       "      <th>1458</th>\n",
       "      <td>-0.080133</td>\n",
       "      <td>-0.570555</td>\n",
       "      <td>0.33089</td>\n",
       "      <td>-0.794891</td>\n",
       "      <td>1.107431</td>\n",
       "      <td>-0.950901</td>\n",
       "      <td>-1.026506</td>\n",
       "      <td>-0.270116</td>\n",
       "      <td>1.453120</td>\n",
       "      <td>-0.262234</td>\n",
       "      <td>...</td>\n",
       "      <td>2.342035</td>\n",
       "      <td>-0.229337</td>\n",
       "      <td>-0.169923</td>\n",
       "      <td>-0.235877</td>\n",
       "      <td>-0.289539</td>\n",
       "      <td>-0.131946</td>\n",
       "      <td>-0.230986</td>\n",
       "      <td>-0.205144</td>\n",
       "      <td>-0.131946</td>\n",
       "      <td>-0.163415</td>\n",
       "    </tr>\n",
       "    <tr>\n",
       "      <th>1459</th>\n",
       "      <td>-0.058092</td>\n",
       "      <td>-0.570555</td>\n",
       "      <td>-0.63146</td>\n",
       "      <td>-0.794891</td>\n",
       "      <td>1.107431</td>\n",
       "      <td>-0.950901</td>\n",
       "      <td>-1.026506</td>\n",
       "      <td>-0.270116</td>\n",
       "      <td>-0.687703</td>\n",
       "      <td>-0.262234</td>\n",
       "      <td>...</td>\n",
       "      <td>-0.426687</td>\n",
       "      <td>-0.229337</td>\n",
       "      <td>-0.169923</td>\n",
       "      <td>-0.235877</td>\n",
       "      <td>-0.289539</td>\n",
       "      <td>-0.131946</td>\n",
       "      <td>-0.230986</td>\n",
       "      <td>-0.205144</td>\n",
       "      <td>-0.131946</td>\n",
       "      <td>-0.163415</td>\n",
       "    </tr>\n",
       "  </tbody>\n",
       "</table>\n",
       "<p>1460 rows × 32 columns</p>\n",
       "</div>"
      ],
      "text/plain": [
       "       LotArea  MasVnrArea  BsmtExposure  2ndFlrSF  BsmtFullBath  Fireplaces  \\\n",
       "0    -0.207071    0.513928      -0.63146  1.161454      1.107431   -0.950901   \n",
       "1    -0.091855   -0.570555       2.25559 -0.794891     -0.819684    0.600289   \n",
       "2     0.073455    0.325803       0.33089  1.188943      1.107431    0.600289   \n",
       "3    -0.096864   -0.570555      -0.63146  0.936955      1.107431    0.600289   \n",
       "4     0.375020    1.366021       1.29324  1.617323      1.107431    0.600289   \n",
       "...        ...         ...           ...       ...           ...         ...   \n",
       "1455 -0.260471   -0.570555      -0.63146  0.794925     -0.819684    0.600289   \n",
       "1456  0.266316    0.087881      -0.63146 -0.794891      1.107431    2.151479   \n",
       "1457 -0.147760   -0.570555      -0.63146  1.844112     -0.819684    2.151479   \n",
       "1458 -0.080133   -0.570555       0.33089 -0.794891      1.107431   -0.950901   \n",
       "1459 -0.058092   -0.570555      -0.63146 -0.794891      1.107431   -0.950901   \n",
       "\n",
       "      GarageCars  ScreenPorch  BsmtFinTypeGLQ  LotConfig_CulDSac  ...  \\\n",
       "0       0.311618    -0.270116        1.453120          -0.262234  ...   \n",
       "1       0.311618    -0.270116       -0.687703          -0.262234  ...   \n",
       "2       0.311618    -0.270116        1.453120          -0.262234  ...   \n",
       "3       1.649742    -0.270116       -0.687703          -0.262234  ...   \n",
       "4       1.649742    -0.270116        1.453120          -0.262234  ...   \n",
       "...          ...          ...             ...                ...  ...   \n",
       "1455    0.311618    -0.270116       -0.687703          -0.262234  ...   \n",
       "1456    0.311618    -0.270116       -0.687703          -0.262234  ...   \n",
       "1457   -1.026506    -0.270116        1.453120          -0.262234  ...   \n",
       "1458   -1.026506    -0.270116        1.453120          -0.262234  ...   \n",
       "1459   -1.026506    -0.270116       -0.687703          -0.262234  ...   \n",
       "\n",
       "      Neighborhood_NAmes  Neighborhood_NWAmes  Neighborhood_NoRidge  \\\n",
       "0              -0.426687            -0.229337             -0.169923   \n",
       "1              -0.426687            -0.229337             -0.169923   \n",
       "2              -0.426687            -0.229337             -0.169923   \n",
       "3              -0.426687            -0.229337             -0.169923   \n",
       "4              -0.426687            -0.229337              5.880991   \n",
       "...                  ...                  ...                   ...   \n",
       "1455           -0.426687            -0.229337             -0.169923   \n",
       "1456           -0.426687             4.357406             -0.169923   \n",
       "1457           -0.426687            -0.229337             -0.169923   \n",
       "1458            2.342035            -0.229337             -0.169923   \n",
       "1459           -0.426687            -0.229337             -0.169923   \n",
       "\n",
       "      Neighborhood_NridgHt  Neighborhood_OldTown  Neighborhood_SWISU  \\\n",
       "0                -0.235877             -0.289539           -0.131946   \n",
       "1                -0.235877             -0.289539           -0.131946   \n",
       "2                -0.235877             -0.289539           -0.131946   \n",
       "3                -0.235877             -0.289539           -0.131946   \n",
       "4                -0.235877             -0.289539           -0.131946   \n",
       "...                    ...                   ...                 ...   \n",
       "1455             -0.235877             -0.289539           -0.131946   \n",
       "1456             -0.235877             -0.289539           -0.131946   \n",
       "1457             -0.235877             -0.289539           -0.131946   \n",
       "1458             -0.235877             -0.289539           -0.131946   \n",
       "1459             -0.235877             -0.289539           -0.131946   \n",
       "\n",
       "      Neighborhood_Sawyer  Neighborhood_SawyerW  Neighborhood_StoneBr  \\\n",
       "0               -0.230986             -0.205144             -0.131946   \n",
       "1               -0.230986             -0.205144             -0.131946   \n",
       "2               -0.230986             -0.205144             -0.131946   \n",
       "3               -0.230986             -0.205144             -0.131946   \n",
       "4               -0.230986             -0.205144             -0.131946   \n",
       "...                   ...                   ...                   ...   \n",
       "1455            -0.230986             -0.205144             -0.131946   \n",
       "1456            -0.230986             -0.205144             -0.131946   \n",
       "1457            -0.230986             -0.205144             -0.131946   \n",
       "1458            -0.230986             -0.205144             -0.131946   \n",
       "1459            -0.230986             -0.205144             -0.131946   \n",
       "\n",
       "      Neighborhood_Timber  \n",
       "0               -0.163415  \n",
       "1               -0.163415  \n",
       "2               -0.163415  \n",
       "3               -0.163415  \n",
       "4               -0.163415  \n",
       "...                   ...  \n",
       "1455            -0.163415  \n",
       "1456            -0.163415  \n",
       "1457            -0.163415  \n",
       "1458            -0.163415  \n",
       "1459            -0.163415  \n",
       "\n",
       "[1460 rows x 32 columns]"
      ]
     },
     "execution_count": 68,
     "metadata": {},
     "output_type": "execute_result"
    }
   ],
   "source": [
    "X2_new"
   ]
  },
  {
   "cell_type": "code",
   "execution_count": 69,
   "metadata": {},
   "outputs": [
    {
     "data": {
      "text/html": [
       "<div>\n",
       "<style scoped>\n",
       "    .dataframe tbody tr th:only-of-type {\n",
       "        vertical-align: middle;\n",
       "    }\n",
       "\n",
       "    .dataframe tbody tr th {\n",
       "        vertical-align: top;\n",
       "    }\n",
       "\n",
       "    .dataframe thead th {\n",
       "        text-align: right;\n",
       "    }\n",
       "</style>\n",
       "<table border=\"1\" class=\"dataframe\">\n",
       "  <thead>\n",
       "    <tr style=\"text-align: right;\">\n",
       "      <th></th>\n",
       "      <th>LotArea</th>\n",
       "      <th>MasVnrArea</th>\n",
       "      <th>BsmtExposure</th>\n",
       "      <th>2ndFlrSF</th>\n",
       "      <th>BsmtFullBath</th>\n",
       "      <th>Fireplaces</th>\n",
       "      <th>GarageCars</th>\n",
       "      <th>ScreenPorch</th>\n",
       "      <th>BsmtFinTypeGLQ</th>\n",
       "      <th>LotConfig_CulDSac</th>\n",
       "      <th>...</th>\n",
       "      <th>Neighborhood_NAmes</th>\n",
       "      <th>Neighborhood_NWAmes</th>\n",
       "      <th>Neighborhood_NoRidge</th>\n",
       "      <th>Neighborhood_NridgHt</th>\n",
       "      <th>Neighborhood_OldTown</th>\n",
       "      <th>Neighborhood_SWISU</th>\n",
       "      <th>Neighborhood_Sawyer</th>\n",
       "      <th>Neighborhood_SawyerW</th>\n",
       "      <th>Neighborhood_StoneBr</th>\n",
       "      <th>Neighborhood_Timber</th>\n",
       "    </tr>\n",
       "  </thead>\n",
       "  <tbody>\n",
       "    <tr>\n",
       "      <th>0</th>\n",
       "      <td>8450</td>\n",
       "      <td>196.0</td>\n",
       "      <td>0.0</td>\n",
       "      <td>854</td>\n",
       "      <td>1</td>\n",
       "      <td>0</td>\n",
       "      <td>2</td>\n",
       "      <td>0</td>\n",
       "      <td>1.0</td>\n",
       "      <td>0</td>\n",
       "      <td>...</td>\n",
       "      <td>0</td>\n",
       "      <td>0</td>\n",
       "      <td>0</td>\n",
       "      <td>0</td>\n",
       "      <td>0</td>\n",
       "      <td>0</td>\n",
       "      <td>0</td>\n",
       "      <td>0</td>\n",
       "      <td>0</td>\n",
       "      <td>0</td>\n",
       "    </tr>\n",
       "    <tr>\n",
       "      <th>1</th>\n",
       "      <td>9600</td>\n",
       "      <td>0.0</td>\n",
       "      <td>3.0</td>\n",
       "      <td>0</td>\n",
       "      <td>0</td>\n",
       "      <td>1</td>\n",
       "      <td>2</td>\n",
       "      <td>0</td>\n",
       "      <td>0.0</td>\n",
       "      <td>0</td>\n",
       "      <td>...</td>\n",
       "      <td>0</td>\n",
       "      <td>0</td>\n",
       "      <td>0</td>\n",
       "      <td>0</td>\n",
       "      <td>0</td>\n",
       "      <td>0</td>\n",
       "      <td>0</td>\n",
       "      <td>0</td>\n",
       "      <td>0</td>\n",
       "      <td>0</td>\n",
       "    </tr>\n",
       "    <tr>\n",
       "      <th>2</th>\n",
       "      <td>11250</td>\n",
       "      <td>162.0</td>\n",
       "      <td>1.0</td>\n",
       "      <td>866</td>\n",
       "      <td>1</td>\n",
       "      <td>1</td>\n",
       "      <td>2</td>\n",
       "      <td>0</td>\n",
       "      <td>1.0</td>\n",
       "      <td>0</td>\n",
       "      <td>...</td>\n",
       "      <td>0</td>\n",
       "      <td>0</td>\n",
       "      <td>0</td>\n",
       "      <td>0</td>\n",
       "      <td>0</td>\n",
       "      <td>0</td>\n",
       "      <td>0</td>\n",
       "      <td>0</td>\n",
       "      <td>0</td>\n",
       "      <td>0</td>\n",
       "    </tr>\n",
       "    <tr>\n",
       "      <th>3</th>\n",
       "      <td>9550</td>\n",
       "      <td>0.0</td>\n",
       "      <td>0.0</td>\n",
       "      <td>756</td>\n",
       "      <td>1</td>\n",
       "      <td>1</td>\n",
       "      <td>3</td>\n",
       "      <td>0</td>\n",
       "      <td>0.0</td>\n",
       "      <td>0</td>\n",
       "      <td>...</td>\n",
       "      <td>0</td>\n",
       "      <td>0</td>\n",
       "      <td>0</td>\n",
       "      <td>0</td>\n",
       "      <td>0</td>\n",
       "      <td>0</td>\n",
       "      <td>0</td>\n",
       "      <td>0</td>\n",
       "      <td>0</td>\n",
       "      <td>0</td>\n",
       "    </tr>\n",
       "    <tr>\n",
       "      <th>4</th>\n",
       "      <td>14260</td>\n",
       "      <td>350.0</td>\n",
       "      <td>2.0</td>\n",
       "      <td>1053</td>\n",
       "      <td>1</td>\n",
       "      <td>1</td>\n",
       "      <td>3</td>\n",
       "      <td>0</td>\n",
       "      <td>1.0</td>\n",
       "      <td>0</td>\n",
       "      <td>...</td>\n",
       "      <td>0</td>\n",
       "      <td>0</td>\n",
       "      <td>1</td>\n",
       "      <td>0</td>\n",
       "      <td>0</td>\n",
       "      <td>0</td>\n",
       "      <td>0</td>\n",
       "      <td>0</td>\n",
       "      <td>0</td>\n",
       "      <td>0</td>\n",
       "    </tr>\n",
       "    <tr>\n",
       "      <th>...</th>\n",
       "      <td>...</td>\n",
       "      <td>...</td>\n",
       "      <td>...</td>\n",
       "      <td>...</td>\n",
       "      <td>...</td>\n",
       "      <td>...</td>\n",
       "      <td>...</td>\n",
       "      <td>...</td>\n",
       "      <td>...</td>\n",
       "      <td>...</td>\n",
       "      <td>...</td>\n",
       "      <td>...</td>\n",
       "      <td>...</td>\n",
       "      <td>...</td>\n",
       "      <td>...</td>\n",
       "      <td>...</td>\n",
       "      <td>...</td>\n",
       "      <td>...</td>\n",
       "      <td>...</td>\n",
       "      <td>...</td>\n",
       "      <td>...</td>\n",
       "    </tr>\n",
       "    <tr>\n",
       "      <th>1455</th>\n",
       "      <td>7917</td>\n",
       "      <td>0.0</td>\n",
       "      <td>0.0</td>\n",
       "      <td>694</td>\n",
       "      <td>0</td>\n",
       "      <td>1</td>\n",
       "      <td>2</td>\n",
       "      <td>0</td>\n",
       "      <td>0.0</td>\n",
       "      <td>0</td>\n",
       "      <td>...</td>\n",
       "      <td>0</td>\n",
       "      <td>0</td>\n",
       "      <td>0</td>\n",
       "      <td>0</td>\n",
       "      <td>0</td>\n",
       "      <td>0</td>\n",
       "      <td>0</td>\n",
       "      <td>0</td>\n",
       "      <td>0</td>\n",
       "      <td>0</td>\n",
       "    </tr>\n",
       "    <tr>\n",
       "      <th>1456</th>\n",
       "      <td>13175</td>\n",
       "      <td>119.0</td>\n",
       "      <td>0.0</td>\n",
       "      <td>0</td>\n",
       "      <td>1</td>\n",
       "      <td>2</td>\n",
       "      <td>2</td>\n",
       "      <td>0</td>\n",
       "      <td>0.0</td>\n",
       "      <td>0</td>\n",
       "      <td>...</td>\n",
       "      <td>0</td>\n",
       "      <td>1</td>\n",
       "      <td>0</td>\n",
       "      <td>0</td>\n",
       "      <td>0</td>\n",
       "      <td>0</td>\n",
       "      <td>0</td>\n",
       "      <td>0</td>\n",
       "      <td>0</td>\n",
       "      <td>0</td>\n",
       "    </tr>\n",
       "    <tr>\n",
       "      <th>1457</th>\n",
       "      <td>9042</td>\n",
       "      <td>0.0</td>\n",
       "      <td>0.0</td>\n",
       "      <td>1152</td>\n",
       "      <td>0</td>\n",
       "      <td>2</td>\n",
       "      <td>1</td>\n",
       "      <td>0</td>\n",
       "      <td>1.0</td>\n",
       "      <td>0</td>\n",
       "      <td>...</td>\n",
       "      <td>0</td>\n",
       "      <td>0</td>\n",
       "      <td>0</td>\n",
       "      <td>0</td>\n",
       "      <td>0</td>\n",
       "      <td>0</td>\n",
       "      <td>0</td>\n",
       "      <td>0</td>\n",
       "      <td>0</td>\n",
       "      <td>0</td>\n",
       "    </tr>\n",
       "    <tr>\n",
       "      <th>1458</th>\n",
       "      <td>9717</td>\n",
       "      <td>0.0</td>\n",
       "      <td>1.0</td>\n",
       "      <td>0</td>\n",
       "      <td>1</td>\n",
       "      <td>0</td>\n",
       "      <td>1</td>\n",
       "      <td>0</td>\n",
       "      <td>1.0</td>\n",
       "      <td>0</td>\n",
       "      <td>...</td>\n",
       "      <td>1</td>\n",
       "      <td>0</td>\n",
       "      <td>0</td>\n",
       "      <td>0</td>\n",
       "      <td>0</td>\n",
       "      <td>0</td>\n",
       "      <td>0</td>\n",
       "      <td>0</td>\n",
       "      <td>0</td>\n",
       "      <td>0</td>\n",
       "    </tr>\n",
       "    <tr>\n",
       "      <th>1459</th>\n",
       "      <td>9937</td>\n",
       "      <td>0.0</td>\n",
       "      <td>0.0</td>\n",
       "      <td>0</td>\n",
       "      <td>1</td>\n",
       "      <td>0</td>\n",
       "      <td>1</td>\n",
       "      <td>0</td>\n",
       "      <td>0.0</td>\n",
       "      <td>0</td>\n",
       "      <td>...</td>\n",
       "      <td>0</td>\n",
       "      <td>0</td>\n",
       "      <td>0</td>\n",
       "      <td>0</td>\n",
       "      <td>0</td>\n",
       "      <td>0</td>\n",
       "      <td>0</td>\n",
       "      <td>0</td>\n",
       "      <td>0</td>\n",
       "      <td>0</td>\n",
       "    </tr>\n",
       "  </tbody>\n",
       "</table>\n",
       "<p>1460 rows × 32 columns</p>\n",
       "</div>"
      ],
      "text/plain": [
       "      LotArea  MasVnrArea  BsmtExposure  2ndFlrSF  BsmtFullBath  Fireplaces  \\\n",
       "0        8450       196.0           0.0       854             1           0   \n",
       "1        9600         0.0           3.0         0             0           1   \n",
       "2       11250       162.0           1.0       866             1           1   \n",
       "3        9550         0.0           0.0       756             1           1   \n",
       "4       14260       350.0           2.0      1053             1           1   \n",
       "...       ...         ...           ...       ...           ...         ...   \n",
       "1455     7917         0.0           0.0       694             0           1   \n",
       "1456    13175       119.0           0.0         0             1           2   \n",
       "1457     9042         0.0           0.0      1152             0           2   \n",
       "1458     9717         0.0           1.0         0             1           0   \n",
       "1459     9937         0.0           0.0         0             1           0   \n",
       "\n",
       "      GarageCars  ScreenPorch  BsmtFinTypeGLQ  LotConfig_CulDSac  ...  \\\n",
       "0              2            0             1.0                  0  ...   \n",
       "1              2            0             0.0                  0  ...   \n",
       "2              2            0             1.0                  0  ...   \n",
       "3              3            0             0.0                  0  ...   \n",
       "4              3            0             1.0                  0  ...   \n",
       "...          ...          ...             ...                ...  ...   \n",
       "1455           2            0             0.0                  0  ...   \n",
       "1456           2            0             0.0                  0  ...   \n",
       "1457           1            0             1.0                  0  ...   \n",
       "1458           1            0             1.0                  0  ...   \n",
       "1459           1            0             0.0                  0  ...   \n",
       "\n",
       "      Neighborhood_NAmes  Neighborhood_NWAmes  Neighborhood_NoRidge  \\\n",
       "0                      0                    0                     0   \n",
       "1                      0                    0                     0   \n",
       "2                      0                    0                     0   \n",
       "3                      0                    0                     0   \n",
       "4                      0                    0                     1   \n",
       "...                  ...                  ...                   ...   \n",
       "1455                   0                    0                     0   \n",
       "1456                   0                    1                     0   \n",
       "1457                   0                    0                     0   \n",
       "1458                   1                    0                     0   \n",
       "1459                   0                    0                     0   \n",
       "\n",
       "      Neighborhood_NridgHt  Neighborhood_OldTown  Neighborhood_SWISU  \\\n",
       "0                        0                     0                   0   \n",
       "1                        0                     0                   0   \n",
       "2                        0                     0                   0   \n",
       "3                        0                     0                   0   \n",
       "4                        0                     0                   0   \n",
       "...                    ...                   ...                 ...   \n",
       "1455                     0                     0                   0   \n",
       "1456                     0                     0                   0   \n",
       "1457                     0                     0                   0   \n",
       "1458                     0                     0                   0   \n",
       "1459                     0                     0                   0   \n",
       "\n",
       "      Neighborhood_Sawyer  Neighborhood_SawyerW  Neighborhood_StoneBr  \\\n",
       "0                       0                     0                     0   \n",
       "1                       0                     0                     0   \n",
       "2                       0                     0                     0   \n",
       "3                       0                     0                     0   \n",
       "4                       0                     0                     0   \n",
       "...                   ...                   ...                   ...   \n",
       "1455                    0                     0                     0   \n",
       "1456                    0                     0                     0   \n",
       "1457                    0                     0                     0   \n",
       "1458                    0                     0                     0   \n",
       "1459                    0                     0                     0   \n",
       "\n",
       "      Neighborhood_Timber  \n",
       "0                       0  \n",
       "1                       0  \n",
       "2                       0  \n",
       "3                       0  \n",
       "4                       0  \n",
       "...                   ...  \n",
       "1455                    0  \n",
       "1456                    0  \n",
       "1457                    0  \n",
       "1458                    0  \n",
       "1459                    0  \n",
       "\n",
       "[1460 rows x 32 columns]"
      ]
     },
     "execution_count": 69,
     "metadata": {},
     "output_type": "execute_result"
    }
   ],
   "source": [
    "X2"
   ]
  },
  {
   "cell_type": "code",
   "execution_count": 70,
   "metadata": {},
   "outputs": [
    {
     "data": {
      "text/plain": [
       "<matplotlib.axes._subplots.AxesSubplot at 0x7fae8d0a6090>"
      ]
     },
     "execution_count": 70,
     "metadata": {},
     "output_type": "execute_result"
    },
    {
     "data": {
      "image/png": "[encoded data removed]",
      "text/plain": [
       "<Figure size 432x288 with 1 Axes>"
      ]
     },
     "metadata": {
      "needs_background": "light"
     },
     "output_type": "display_data"
    }
   ],
   "source": [
    "(X2.iloc[:,1]+0.000000001).apply(np.log).plot.hist(bins=100)"
   ]
  },
  {
   "cell_type": "code",
   "execution_count": 71,
   "metadata": {},
   "outputs": [
    {
     "data": {
      "text/plain": [
       "<matplotlib.axes._subplots.AxesSubplot at 0x7fae8c2edf50>"
      ]
     },
     "execution_count": 71,
     "metadata": {},
     "output_type": "execute_result"
    },
    {
     "data": {
      "image/png": "[encoded data removed]",
      "text/plain": [
       "<Figure size 432x288 with 1 Axes>"
      ]
     },
     "metadata": {
      "needs_background": "light"
     },
     "output_type": "display_data"
    }
   ],
   "source": [
    "X2.iloc[:,2].value_counts().plot.bar()"
   ]
  },
  {
   "cell_type": "code",
   "execution_count": 72,
   "metadata": {},
   "outputs": [
    {
     "data": {
      "text/plain": [
       "<matplotlib.axes._subplots.AxesSubplot at 0x7fae8c10d650>"
      ]
     },
     "execution_count": 72,
     "metadata": {},
     "output_type": "execute_result"
    },
    {
     "data": {
      "image/png": "[encoded data removed]",
      "text/plain": [
       "<Figure size 432x288 with 1 Axes>"
      ]
     },
     "metadata": {
      "needs_background": "light"
     },
     "output_type": "display_data"
    }
   ],
   "source": [
    "X2.loc[X2['2ndFlrSF']>0,'2ndFlrSF'].plot.hist()"
   ]
  },
  {
   "cell_type": "markdown",
   "metadata": {},
   "source": [
    "In the end of the day we have different ways to improve the model and data. We gonna talk about these preprocessing ways next week."
   ]
  },
  {
   "cell_type": "code",
   "execution_count": 73,
   "metadata": {},
   "outputs": [
    {
     "data": {
      "text/plain": [
       "<matplotlib.axes._subplots.AxesSubplot at 0x7fae8c117f10>"
      ]
     },
     "execution_count": 73,
     "metadata": {},
     "output_type": "execute_result"
    },
    {
     "data": {
      "image/png": "[encoded data removed]",
      "text/plain": [
       "<Figure size 432x288 with 1 Axes>"
      ]
     },
     "metadata": {
      "needs_background": "light"
     },
     "output_type": "display_data"
    }
   ],
   "source": [
    "X2.MasVnrArea.hist(bins=100)"
   ]
  },
  {
   "cell_type": "markdown",
   "metadata": {},
   "source": [
    " Assunption is violated. In this specific case I would've split my data"
   ]
  },
  {
   "cell_type": "markdown",
   "metadata": {},
   "source": [
    "# Exogeneity of residuals"
   ]
  },
  {
   "cell_type": "code",
   "execution_count": 74,
   "metadata": {},
   "outputs": [
    {
     "data": {
      "text/plain": [
       "<matplotlib.axes._subplots.AxesSubplot at 0x7fae86a089d0>"
      ]
     },
     "execution_count": 74,
     "metadata": {},
     "output_type": "execute_result"
    },
    {
     "data": {
      "image/png": "[encoded data removed]",
      "text/plain": [
       "<Figure size 432x288 with 1 Axes>"
      ]
     },
     "metadata": {
      "needs_background": "light"
     },
     "output_type": "display_data"
    }
   ],
   "source": [
    "resid.plot.hist(bins=100)"
   ]
  },
  {
   "cell_type": "code",
   "execution_count": 75,
   "metadata": {},
   "outputs": [
    {
     "data": {
      "text/plain": [
       "<matplotlib.axes._subplots.AxesSubplot at 0x7fae868b9850>"
      ]
     },
     "execution_count": 75,
     "metadata": {},
     "output_type": "execute_result"
    },
    {
     "data": {
      "image/png": "[encoded data removed]",
      "text/plain": [
       "<Figure size 432x288 with 1 Axes>"
      ]
     },
     "metadata": {
      "needs_background": "light"
     },
     "output_type": "display_data"
    }
   ],
   "source": [
    "((resid-resid.mean())/resid.std()).plot.hist()"
   ]
  },
  {
   "cell_type": "code",
   "execution_count": 76,
   "metadata": {},
   "outputs": [
    {
     "data": {
      "text/plain": [
       "<matplotlib.axes._subplots.AxesSubplot at 0x7fae93084090>"
      ]
     },
     "execution_count": 76,
     "metadata": {},
     "output_type": "execute_result"
    },
    {
     "data": {
      "image/png": "[encoded data removed]",
      "text/plain": [
       "<Figure size 432x288 with 1 Axes>"
      ]
     },
     "metadata": {
      "needs_background": "light"
     },
     "output_type": "display_data"
    }
   ],
   "source": [
    "sns.distplot(resid)"
   ]
  },
  {
   "cell_type": "code",
   "execution_count": 77,
   "metadata": {},
   "outputs": [],
   "source": [
    "from scipy.stats import kstest"
   ]
  },
  {
   "cell_type": "code",
   "execution_count": 78,
   "metadata": {},
   "outputs": [
    {
     "data": {
      "text/plain": [
       "KstestResult(statistic=0.508219178022923, pvalue=0.0)"
      ]
     },
     "execution_count": 78,
     "metadata": {},
     "output_type": "execute_result"
    }
   ],
   "source": [
    "kstest(resid, 'norm') # Goodness of fit, or whether our series follow specific distribution"
   ]
  },
  {
   "cell_type": "markdown",
   "metadata": {},
   "source": [
    "H0: resid follows Norm\n",
    "\n",
    "H1: resid doesn't follow Norm"
   ]
  },
  {
   "cell_type": "code",
   "execution_count": 79,
   "metadata": {},
   "outputs": [],
   "source": [
    "from scipy.stats import probplot\n",
    "import pylab"
   ]
  },
  {
   "cell_type": "code",
   "execution_count": 80,
   "metadata": {},
   "outputs": [
    {
     "data": {
      "image/png": "[encoded data removed]",
      "text/plain": [
       "<Figure size 432x288 with 1 Axes>"
      ]
     },
     "metadata": {
      "needs_background": "light"
     },
     "output_type": "display_data"
    }
   ],
   "source": [
    "probplot(resid, dist='norm', plot=pylab);"
   ]
  },
  {
   "cell_type": "code",
   "execution_count": 81,
   "metadata": {},
   "outputs": [
    {
     "data": {
      "text/plain": [
       "[<matplotlib.lines.Line2D at 0x7fae866a73d0>]"
      ]
     },
     "execution_count": 81,
     "metadata": {},
     "output_type": "execute_result"
    },
    {
     "data": {
      "image/png": "[encoded data removed]",
      "text/plain": [
       "<Figure size 432x288 with 1 Axes>"
      ]
     },
     "metadata": {
      "needs_background": "light"
     },
     "output_type": "display_data"
    }
   ],
   "source": [
    "plt.plot(y)\n",
    "plt.plot(y_pred)"
   ]
  },
  {
   "cell_type": "code",
   "execution_count": 82,
   "metadata": {},
   "outputs": [
    {
     "data": {
      "text/plain": [
       "2.1947477625249184e-11"
      ]
     },
     "execution_count": 82,
     "metadata": {},
     "output_type": "execute_result"
    }
   ],
   "source": [
    "resid.mean()"
   ]
  },
  {
   "cell_type": "code",
   "execution_count": 83,
   "metadata": {},
   "outputs": [
    {
     "data": {
      "text/plain": [
       "38259.29320638308"
      ]
     },
     "execution_count": 83,
     "metadata": {},
     "output_type": "execute_result"
    }
   ],
   "source": [
    "resid.std()"
   ]
  },
  {
   "cell_type": "code",
   "execution_count": 84,
   "metadata": {},
   "outputs": [
    {
     "data": {
      "text/plain": [
       "38116.90229311489"
      ]
     },
     "execution_count": 84,
     "metadata": {},
     "output_type": "execute_result"
    }
   ],
   "source": [
    "std_list=[]\n",
    "for i in range(100):\n",
    "    std_list.append(resid.sample(1000).std())\n",
    "sum(std_list)/100"
   ]
  },
  {
   "cell_type": "code",
   "execution_count": 85,
   "metadata": {},
   "outputs": [
    {
     "data": {
      "text/plain": [
       "[<matplotlib.lines.Line2D at 0x7fae8661e2d0>]"
      ]
     },
     "execution_count": 85,
     "metadata": {},
     "output_type": "execute_result"
    },
    {
     "data": {
      "image/png": "[encoded data removed]",
      "text/plain": [
       "<Figure size 432x288 with 1 Axes>"
      ]
     },
     "metadata": {
      "needs_background": "light"
     },
     "output_type": "display_data"
    }
   ],
   "source": [
    "plt.plot(std_list)"
   ]
  },
  {
   "cell_type": "markdown",
   "metadata": {},
   "source": [
    "# Conclusions\n",
    "\n",
    "1. Multicollinearity assumption is satisfied (we made it happen)\n",
    "2. No autocorrelation assumption is satisfied\n",
    "3. Linearity - not really. We ended up with LinAlgError which tells us that there is a problem in the model.\n",
    "4. Homoskedasticity - failed. The data should be split into groups \n",
    "5. Exogeneity failed. We see that we have strong outliers that need to be handled. The average error is 0, but std is not really stable. MOst likely after splitting the data into groups (see 4) and dealing with outliers in each group we will obtain all the assumptions (perhaps except the Linearity one) being satisfied.\n",
    "\n",
    "\n",
    "Right now we can't use the model as it is for real prediction. But it can work to explain the relationships between variables in our dataset (describe, not predict)"
   ]
  },
  {
   "cell_type": "markdown",
   "metadata": {},
   "source": [
    "# Another point of view on the problem that we've gonna talk about next week"
   ]
  },
  {
   "cell_type": "code",
   "execution_count": 86,
   "metadata": {},
   "outputs": [],
   "source": [
    "from sklearn.decomposition import PCA"
   ]
  },
  {
   "cell_type": "code",
   "execution_count": 87,
   "metadata": {},
   "outputs": [],
   "source": [
    "pca=PCA(0.8)"
   ]
  },
  {
   "cell_type": "code",
   "execution_count": 88,
   "metadata": {},
   "outputs": [],
   "source": [
    "X2_new=(X2-X2.mean())/X2.std()"
   ]
  },
  {
   "cell_type": "code",
   "execution_count": 89,
   "metadata": {},
   "outputs": [
    {
     "data": {
      "text/plain": [
       "PCA(copy=True, iterated_power='auto', n_components=0.8, random_state=None,\n",
       "    svd_solver='auto', tol=0.0, whiten=False)"
      ]
     },
     "execution_count": 89,
     "metadata": {},
     "output_type": "execute_result"
    }
   ],
   "source": [
    "pca.fit(X2_new)"
   ]
  },
  {
   "cell_type": "code",
   "execution_count": 90,
   "metadata": {},
   "outputs": [
    {
     "data": {
      "text/plain": [
       "(1460, 20)"
      ]
     },
     "execution_count": 90,
     "metadata": {},
     "output_type": "execute_result"
    }
   ],
   "source": [
    "pca.transform(X2_new).shape"
   ]
  },
  {
   "cell_type": "code",
   "execution_count": 91,
   "metadata": {},
   "outputs": [],
   "source": [
    "modd=sm.OLS(y_new, add_constant(pca.transform(X2_new))).fit()"
   ]
  },
  {
   "cell_type": "code",
   "execution_count": 92,
   "metadata": {},
   "outputs": [
    {
     "data": {
      "text/plain": [
       "<matplotlib.axes._subplots.AxesSubplot at 0x7fae83556790>"
      ]
     },
     "execution_count": 92,
     "metadata": {},
     "output_type": "execute_result"
    },
    {
     "data": {
      "image/png": "[encoded data removed]",
      "text/plain": [
       "<Figure size 432x288 with 1 Axes>"
      ]
     },
     "metadata": {
      "needs_background": "light"
     },
     "output_type": "display_data"
    }
   ],
   "source": [
    "modd.resid.plot()"
   ]
  },
  {
   "cell_type": "code",
   "execution_count": 93,
   "metadata": {},
   "outputs": [
    {
     "data": {
      "text/plain": [
       "array([[<matplotlib.axes._subplots.AxesSubplot object at 0x7fae83556050>]],\n",
       "      dtype=object)"
      ]
     },
     "execution_count": 93,
     "metadata": {},
     "output_type": "execute_result"
    },
    {
     "data": {
      "image/png": "[encoded data removed]",
      "text/plain": [
       "<Figure size 432x288 with 1 Axes>"
      ]
     },
     "metadata": {
      "needs_background": "light"
     },
     "output_type": "display_data"
    }
   ],
   "source": [
    "y.hist()"
   ]
  },
  {
   "cell_type": "code",
   "execution_count": 94,
   "metadata": {},
   "outputs": [
    {
     "data": {
      "text/plain": [
       "array([[<matplotlib.axes._subplots.AxesSubplot object at 0x7fae832b8d50>]],\n",
       "      dtype=object)"
      ]
     },
     "execution_count": 94,
     "metadata": {},
     "output_type": "execute_result"
    },
    {
     "data": {
      "image/png": "[encoded data removed]",
      "text/plain": [
       "<Figure size 432x288 with 1 Axes>"
      ]
     },
     "metadata": {
      "needs_background": "light"
     },
     "output_type": "display_data"
    }
   ],
   "source": [
    "y.apply(np.log).hist(bins=100)"
   ]
  },
  {
   "cell_type": "code",
   "execution_count": 95,
   "metadata": {},
   "outputs": [
    {
     "data": {
      "text/html": [
       "<table class=\"simpletable\">\n",
       "<caption>OLS Regression Results</caption>\n",
       "<tr>\n",
       "  <th>Dep. Variable:</th>        <td>SalePrice</td>    <th>  R-squared:         </th> <td>   0.764</td>\n",
       "</tr>\n",
       "<tr>\n",
       "  <th>Model:</th>                   <td>OLS</td>       <th>  Adj. R-squared:    </th> <td>   0.759</td>\n",
       "</tr>\n",
       "<tr>\n",
       "  <th>Method:</th>             <td>Least Squares</td>  <th>  F-statistic:       </th> <td>   144.4</td>\n",
       "</tr>\n",
       "<tr>\n",
       "  <th>Date:</th>             <td>Fri, 01 May 2020</td> <th>  Prob (F-statistic):</th>  <td>  0.00</td> \n",
       "</tr>\n",
       "<tr>\n",
       "  <th>Time:</th>                 <td>01:37:45</td>     <th>  Log-Likelihood:    </th> <td>  322.95</td>\n",
       "</tr>\n",
       "<tr>\n",
       "  <th>No. Observations:</th>      <td>  1460</td>      <th>  AIC:               </th> <td>  -579.9</td>\n",
       "</tr>\n",
       "<tr>\n",
       "  <th>Df Residuals:</th>          <td>  1427</td>      <th>  BIC:               </th> <td>  -405.5</td>\n",
       "</tr>\n",
       "<tr>\n",
       "  <th>Df Model:</th>              <td>    32</td>      <th>                     </th>     <td> </td>   \n",
       "</tr>\n",
       "<tr>\n",
       "  <th>Covariance Type:</th>      <td>nonrobust</td>    <th>                     </th>     <td> </td>   \n",
       "</tr>\n",
       "</table>\n",
       "<table class=\"simpletable\">\n",
       "<tr>\n",
       "            <td></td>              <th>coef</th>     <th>std err</th>      <th>t</th>      <th>P>|t|</th>  <th>[0.025</th>    <th>0.975]</th>  \n",
       "</tr>\n",
       "<tr>\n",
       "  <th>const</th>                <td>   11.6112</td> <td>    0.029</td> <td>  399.387</td> <td> 0.000</td> <td>   11.554</td> <td>   11.668</td>\n",
       "</tr>\n",
       "<tr>\n",
       "  <th>LotArea</th>              <td> 1.539e-06</td> <td> 6.03e-07</td> <td>    2.550</td> <td> 0.011</td> <td> 3.55e-07</td> <td> 2.72e-06</td>\n",
       "</tr>\n",
       "<tr>\n",
       "  <th>MasVnrArea</th>           <td>    0.0001</td> <td> 3.99e-05</td> <td>    2.626</td> <td> 0.009</td> <td> 2.65e-05</td> <td>    0.000</td>\n",
       "</tr>\n",
       "<tr>\n",
       "  <th>BsmtExposure</th>         <td>    0.0388</td> <td>    0.006</td> <td>    6.502</td> <td> 0.000</td> <td>    0.027</td> <td>    0.051</td>\n",
       "</tr>\n",
       "<tr>\n",
       "  <th>2ndFlrSF</th>             <td>    0.0004</td> <td> 2.77e-05</td> <td>   12.964</td> <td> 0.000</td> <td>    0.000</td> <td>    0.000</td>\n",
       "</tr>\n",
       "<tr>\n",
       "  <th>BsmtFullBath</th>         <td>    0.0638</td> <td>    0.012</td> <td>    5.455</td> <td> 0.000</td> <td>    0.041</td> <td>    0.087</td>\n",
       "</tr>\n",
       "<tr>\n",
       "  <th>Fireplaces</th>           <td>    0.0972</td> <td>    0.009</td> <td>   10.335</td> <td> 0.000</td> <td>    0.079</td> <td>    0.116</td>\n",
       "</tr>\n",
       "<tr>\n",
       "  <th>GarageCars</th>           <td>    0.1514</td> <td>    0.009</td> <td>   16.914</td> <td> 0.000</td> <td>    0.134</td> <td>    0.169</td>\n",
       "</tr>\n",
       "<tr>\n",
       "  <th>ScreenPorch</th>          <td>    0.0003</td> <td>  9.5e-05</td> <td>    3.623</td> <td> 0.000</td> <td>    0.000</td> <td>    0.001</td>\n",
       "</tr>\n",
       "<tr>\n",
       "  <th>BsmtFinTypeGLQ</th>       <td>    0.0564</td> <td>    0.014</td> <td>    4.140</td> <td> 0.000</td> <td>    0.030</td> <td>    0.083</td>\n",
       "</tr>\n",
       "<tr>\n",
       "  <th>LotConfig_CulDSac</th>    <td>    0.0638</td> <td>    0.022</td> <td>    2.923</td> <td> 0.004</td> <td>    0.021</td> <td>    0.107</td>\n",
       "</tr>\n",
       "<tr>\n",
       "  <th>BldgType_Twnhs</th>       <td>   -0.2921</td> <td>    0.035</td> <td>   -8.427</td> <td> 0.000</td> <td>   -0.360</td> <td>   -0.224</td>\n",
       "</tr>\n",
       "<tr>\n",
       "  <th>BldgType_TwnhsE</th>      <td>   -0.1711</td> <td>    0.023</td> <td>   -7.598</td> <td> 0.000</td> <td>   -0.215</td> <td>   -0.127</td>\n",
       "</tr>\n",
       "<tr>\n",
       "  <th>HouseStyle_1Story</th>    <td>    0.1131</td> <td>    0.018</td> <td>    6.120</td> <td> 0.000</td> <td>    0.077</td> <td>    0.149</td>\n",
       "</tr>\n",
       "<tr>\n",
       "  <th>HouseStyle_2Story</th>    <td>   -0.0939</td> <td>    0.021</td> <td>   -4.476</td> <td> 0.000</td> <td>   -0.135</td> <td>   -0.053</td>\n",
       "</tr>\n",
       "<tr>\n",
       "  <th>MasVnrType_BrkFace</th>   <td>    0.0054</td> <td>    0.015</td> <td>    0.372</td> <td> 0.710</td> <td>   -0.023</td> <td>    0.034</td>\n",
       "</tr>\n",
       "<tr>\n",
       "  <th>Neighborhood_BrkSide</th> <td>   -0.3300</td> <td>    0.032</td> <td>  -10.226</td> <td> 0.000</td> <td>   -0.393</td> <td>   -0.267</td>\n",
       "</tr>\n",
       "<tr>\n",
       "  <th>Neighborhood_ClearCr</th> <td>   -0.1582</td> <td>    0.043</td> <td>   -3.696</td> <td> 0.000</td> <td>   -0.242</td> <td>   -0.074</td>\n",
       "</tr>\n",
       "<tr>\n",
       "  <th>Neighborhood_CollgCr</th> <td>   -0.0682</td> <td>    0.023</td> <td>   -2.915</td> <td> 0.004</td> <td>   -0.114</td> <td>   -0.022</td>\n",
       "</tr>\n",
       "<tr>\n",
       "  <th>Neighborhood_Edwards</th> <td>   -0.3271</td> <td>    0.027</td> <td>  -12.262</td> <td> 0.000</td> <td>   -0.379</td> <td>   -0.275</td>\n",
       "</tr>\n",
       "<tr>\n",
       "  <th>Neighborhood_Gilbert</th> <td>   -0.1371</td> <td>    0.028</td> <td>   -4.913</td> <td> 0.000</td> <td>   -0.192</td> <td>   -0.082</td>\n",
       "</tr>\n",
       "<tr>\n",
       "  <th>Neighborhood_IDOTRR</th>  <td>   -0.5096</td> <td>    0.038</td> <td>  -13.429</td> <td> 0.000</td> <td>   -0.584</td> <td>   -0.435</td>\n",
       "</tr>\n",
       "<tr>\n",
       "  <th>Neighborhood_Mitchel</th> <td>   -0.2220</td> <td>    0.033</td> <td>   -6.726</td> <td> 0.000</td> <td>   -0.287</td> <td>   -0.157</td>\n",
       "</tr>\n",
       "<tr>\n",
       "  <th>Neighborhood_NAmes</th>   <td>   -0.2381</td> <td>    0.022</td> <td>  -10.749</td> <td> 0.000</td> <td>   -0.282</td> <td>   -0.195</td>\n",
       "</tr>\n",
       "<tr>\n",
       "  <th>Neighborhood_NWAmes</th>  <td>   -0.1423</td> <td>    0.029</td> <td>   -4.920</td> <td> 0.000</td> <td>   -0.199</td> <td>   -0.086</td>\n",
       "</tr>\n",
       "<tr>\n",
       "  <th>Neighborhood_NoRidge</th> <td>    0.0519</td> <td>    0.038</td> <td>    1.380</td> <td> 0.168</td> <td>   -0.022</td> <td>    0.126</td>\n",
       "</tr>\n",
       "<tr>\n",
       "  <th>Neighborhood_NridgHt</th> <td>    0.2223</td> <td>    0.028</td> <td>    7.863</td> <td> 0.000</td> <td>    0.167</td> <td>    0.278</td>\n",
       "</tr>\n",
       "<tr>\n",
       "  <th>Neighborhood_OldTown</th> <td>   -0.3749</td> <td>    0.026</td> <td>  -14.339</td> <td> 0.000</td> <td>   -0.426</td> <td>   -0.324</td>\n",
       "</tr>\n",
       "<tr>\n",
       "  <th>Neighborhood_SWISU</th>   <td>   -0.2388</td> <td>    0.044</td> <td>   -5.383</td> <td> 0.000</td> <td>   -0.326</td> <td>   -0.152</td>\n",
       "</tr>\n",
       "<tr>\n",
       "  <th>Neighborhood_Sawyer</th>  <td>   -0.2649</td> <td>    0.029</td> <td>   -9.079</td> <td> 0.000</td> <td>   -0.322</td> <td>   -0.208</td>\n",
       "</tr>\n",
       "<tr>\n",
       "  <th>Neighborhood_SawyerW</th> <td>   -0.1325</td> <td>    0.030</td> <td>   -4.374</td> <td> 0.000</td> <td>   -0.192</td> <td>   -0.073</td>\n",
       "</tr>\n",
       "<tr>\n",
       "  <th>Neighborhood_StoneBr</th> <td>    0.2322</td> <td>    0.043</td> <td>    5.411</td> <td> 0.000</td> <td>    0.148</td> <td>    0.316</td>\n",
       "</tr>\n",
       "<tr>\n",
       "  <th>Neighborhood_Timber</th>  <td>   -0.0554</td> <td>    0.037</td> <td>   -1.491</td> <td> 0.136</td> <td>   -0.128</td> <td>    0.017</td>\n",
       "</tr>\n",
       "</table>\n",
       "<table class=\"simpletable\">\n",
       "<tr>\n",
       "  <th>Omnibus:</th>       <td>142.688</td> <th>  Durbin-Watson:     </th> <td>   1.975</td>\n",
       "</tr>\n",
       "<tr>\n",
       "  <th>Prob(Omnibus):</th> <td> 0.000</td>  <th>  Jarque-Bera (JB):  </th> <td> 297.569</td>\n",
       "</tr>\n",
       "<tr>\n",
       "  <th>Skew:</th>          <td>-0.607</td>  <th>  Prob(JB):          </th> <td>2.42e-65</td>\n",
       "</tr>\n",
       "<tr>\n",
       "  <th>Kurtosis:</th>      <td> 4.848</td>  <th>  Cond. No.          </th> <td>2.16e+05</td>\n",
       "</tr>\n",
       "</table><br/><br/>Warnings:<br/>[1] Standard Errors assume that the covariance matrix of the errors is correctly specified.<br/>[2] The condition number is large, 2.16e+05. This might indicate that there are<br/>strong multicollinearity or other numerical problems."
      ],
      "text/plain": [
       "<class 'statsmodels.iolib.summary.Summary'>\n",
       "\"\"\"\n",
       "                            OLS Regression Results                            \n",
       "==============================================================================\n",
       "Dep. Variable:              SalePrice   R-squared:                       0.764\n",
       "Model:                            OLS   Adj. R-squared:                  0.759\n",
       "Method:                 Least Squares   F-statistic:                     144.4\n",
       "Date:                Fri, 01 May 2020   Prob (F-statistic):               0.00\n",
       "Time:                        01:37:45   Log-Likelihood:                 322.95\n",
       "No. Observations:                1460   AIC:                            -579.9\n",
       "Df Residuals:                    1427   BIC:                            -405.5\n",
       "Df Model:                          32                                         \n",
       "Covariance Type:            nonrobust                                         \n",
       "========================================================================================\n",
       "                           coef    std err          t      P>|t|      [0.025      0.975]\n",
       "----------------------------------------------------------------------------------------\n",
       "const                   11.6112      0.029    399.387      0.000      11.554      11.668\n",
       "LotArea               1.539e-06   6.03e-07      2.550      0.011    3.55e-07    2.72e-06\n",
       "MasVnrArea               0.0001   3.99e-05      2.626      0.009    2.65e-05       0.000\n",
       "BsmtExposure             0.0388      0.006      6.502      0.000       0.027       0.051\n",
       "2ndFlrSF                 0.0004   2.77e-05     12.964      0.000       0.000       0.000\n",
       "BsmtFullBath             0.0638      0.012      5.455      0.000       0.041       0.087\n",
       "Fireplaces               0.0972      0.009     10.335      0.000       0.079       0.116\n",
       "GarageCars               0.1514      0.009     16.914      0.000       0.134       0.169\n",
       "ScreenPorch              0.0003    9.5e-05      3.623      0.000       0.000       0.001\n",
       "BsmtFinTypeGLQ           0.0564      0.014      4.140      0.000       0.030       0.083\n",
       "LotConfig_CulDSac        0.0638      0.022      2.923      0.004       0.021       0.107\n",
       "BldgType_Twnhs          -0.2921      0.035     -8.427      0.000      -0.360      -0.224\n",
       "BldgType_TwnhsE         -0.1711      0.023     -7.598      0.000      -0.215      -0.127\n",
       "HouseStyle_1Story        0.1131      0.018      6.120      0.000       0.077       0.149\n",
       "HouseStyle_2Story       -0.0939      0.021     -4.476      0.000      -0.135      -0.053\n",
       "MasVnrType_BrkFace       0.0054      0.015      0.372      0.710      -0.023       0.034\n",
       "Neighborhood_BrkSide    -0.3300      0.032    -10.226      0.000      -0.393      -0.267\n",
       "Neighborhood_ClearCr    -0.1582      0.043     -3.696      0.000      -0.242      -0.074\n",
       "Neighborhood_CollgCr    -0.0682      0.023     -2.915      0.004      -0.114      -0.022\n",
       "Neighborhood_Edwards    -0.3271      0.027    -12.262      0.000      -0.379      -0.275\n",
       "Neighborhood_Gilbert    -0.1371      0.028     -4.913      0.000      -0.192      -0.082\n",
       "Neighborhood_IDOTRR     -0.5096      0.038    -13.429      0.000      -0.584      -0.435\n",
       "Neighborhood_Mitchel    -0.2220      0.033     -6.726      0.000      -0.287      -0.157\n",
       "Neighborhood_NAmes      -0.2381      0.022    -10.749      0.000      -0.282      -0.195\n",
       "Neighborhood_NWAmes     -0.1423      0.029     -4.920      0.000      -0.199      -0.086\n",
       "Neighborhood_NoRidge     0.0519      0.038      1.380      0.168      -0.022       0.126\n",
       "Neighborhood_NridgHt     0.2223      0.028      7.863      0.000       0.167       0.278\n",
       "Neighborhood_OldTown    -0.3749      0.026    -14.339      0.000      -0.426      -0.324\n",
       "Neighborhood_SWISU      -0.2388      0.044     -5.383      0.000      -0.326      -0.152\n",
       "Neighborhood_Sawyer     -0.2649      0.029     -9.079      0.000      -0.322      -0.208\n",
       "Neighborhood_SawyerW    -0.1325      0.030     -4.374      0.000      -0.192      -0.073\n",
       "Neighborhood_StoneBr     0.2322      0.043      5.411      0.000       0.148       0.316\n",
       "Neighborhood_Timber     -0.0554      0.037     -1.491      0.136      -0.128       0.017\n",
       "==============================================================================\n",
       "Omnibus:                      142.688   Durbin-Watson:                   1.975\n",
       "Prob(Omnibus):                  0.000   Jarque-Bera (JB):              297.569\n",
       "Skew:                          -0.607   Prob(JB):                     2.42e-65\n",
       "Kurtosis:                       4.848   Cond. No.                     2.16e+05\n",
       "==============================================================================\n",
       "\n",
       "Warnings:\n",
       "[1] Standard Errors assume that the covariance matrix of the errors is correctly specified.\n",
       "[2] The condition number is large, 2.16e+05. This might indicate that there are\n",
       "strong multicollinearity or other numerical problems.\n",
       "\"\"\""
      ]
     },
     "execution_count": 95,
     "metadata": {},
     "output_type": "execute_result"
    }
   ],
   "source": [
    "mod_log=sm.OLS(y.apply(np.log),add_constant(X2)).fit()\n",
    "mod_log.summary()"
   ]
  },
  {
   "cell_type": "code",
   "execution_count": 96,
   "metadata": {},
   "outputs": [
    {
     "data": {
      "text/plain": [
       "1459    11.62775\n",
       "dtype: float64"
      ]
     },
     "execution_count": 96,
     "metadata": {},
     "output_type": "execute_result"
    }
   ],
   "source": [
    "mod_log.predict(add_constant(X2).iloc[-1:])"
   ]
  },
  {
   "cell_type": "code",
   "execution_count": 97,
   "metadata": {},
   "outputs": [
    {
     "data": {
      "text/plain": [
       "112167.66053517004"
      ]
     },
     "execution_count": 97,
     "metadata": {},
     "output_type": "execute_result"
    }
   ],
   "source": [
    "np.exp(11.62775)"
   ]
  },
  {
   "cell_type": "code",
   "execution_count": 98,
   "metadata": {},
   "outputs": [
    {
     "data": {
      "text/plain": [
       "SalePrice    147500\n",
       "Name: 1459, dtype: int64"
      ]
     },
     "execution_count": 98,
     "metadata": {},
     "output_type": "execute_result"
    }
   ],
   "source": [
    "y.iloc[-1]"
   ]
  },
  {
   "cell_type": "code",
   "execution_count": 99,
   "metadata": {},
   "outputs": [],
   "source": [
    "X2.to_csv('final_output.csv',index=False)"
   ]
  },
  {
   "cell_type": "code",
   "execution_count": 100,
   "metadata": {},
   "outputs": [
    {
     "name": "stdout",
     "output_type": "stream",
     "text": [
      "Fitting linear regression\n",
      "\n",
      "R^2: 0.7680640610897331 \n",
      "\n",
      "Coefficients\n",
      "-------------------------------------\n",
      "Intercept: 98940.42328877696\n",
      "LotArea: 0.41\n",
      "MasVnrArea: 52.46\n",
      "BsmtExposure: 11659.11\n",
      "2ndFlrSF: 82.12\n",
      "BsmtFullBath: 9585.07\n",
      "Fireplaces: 16557.19\n",
      "GarageCars: 23398.03\n",
      "ScreenPorch: 57.4\n",
      "BsmtFinTypeGLQ: 14783.76\n",
      "LotConfig_CulDSac: 13142.63\n",
      "BldgType_Twnhs: -53982.5\n",
      "BldgType_TwnhsE: -42101.25\n",
      "HouseStyle_1Story: 33619.57\n",
      "HouseStyle_2Story: -20407.48\n",
      "MasVnrType_BrkFace: -7306.27\n",
      "Neighborhood_BrkSide: -51896.69\n",
      "Neighborhood_ClearCr: -47814.1\n",
      "Neighborhood_CollgCr: -24289.22\n",
      "Neighborhood_Edwards: -58105.55\n",
      "Neighborhood_Gilbert: -36300.99\n",
      "Neighborhood_IDOTRR: -69273.65\n",
      "Neighborhood_Mitchel: -49641.23\n",
      "Neighborhood_NAmes: -50663.28\n",
      "Neighborhood_NWAmes: -35909.47\n",
      "Neighborhood_NoRidge: 32630.94\n",
      "Neighborhood_NridgHt: 59474.06\n",
      "Neighborhood_OldTown: -62122.86\n",
      "Neighborhood_SWISU: -48585.16\n",
      "Neighborhood_Sawyer: -53534.28\n",
      "Neighborhood_SawyerW: -29909.52\n",
      "Neighborhood_StoneBr: 64866.54\n",
      "Neighborhood_Timber: -17137.71\n",
      "\n",
      "=======================================================================================\n",
      "Assumption 1: Linear Relationship between the Target and the Features\n",
      "Checking with a scatter plot of actual vs. predicted. Predictions should follow the diagonal line.\n"
     ]
    },
    {
     "data": {
      "image/png": "[encoded data removed]",
      "text/plain": [
       "<Figure size 432x288 with 1 Axes>"
      ]
     },
     "metadata": {},
     "output_type": "display_data"
    },
    {
     "name": "stdout",
     "output_type": "stream",
     "text": [
      "If non-linearity is apparent, consider adding a polynomial term \n",
      "\t\tor using box-cox transformation to make X or y follow normal distribution\n",
      "\n",
      "\n",
      "\n",
      "Building a correlation table\n",
      "\n",
      "=======================================================================================\n",
      "\n",
      "Parameters that are most likely VIOLATE linearity assumption and their correlation with SalePrice\n"
     ]
    },
    {
     "data": {
      "text/plain": [
       "BsmtFullBath    0.227122\n",
       "ScreenPorch     0.111447\n",
       "Name: SalePrice, dtype: float64"
      ]
     },
     "metadata": {},
     "output_type": "display_data"
    },
    {
     "name": "stdout",
     "output_type": "stream",
     "text": [
      "\n",
      "Parameters that are most likely FOLLOW linearity assumption and their correlation with SalePrice\n"
     ]
    },
    {
     "data": {
      "text/plain": [
       "LotArea         0.263843\n",
       "MasVnrArea      0.472614\n",
       "BsmtExposure    0.361863\n",
       "2ndFlrSF        0.319334\n",
       "Fireplaces      0.466929\n",
       "GarageCars      0.640409\n",
       "Name: SalePrice, dtype: float64"
      ]
     },
     "metadata": {},
     "output_type": "display_data"
    },
    {
     "name": "stdout",
     "output_type": "stream",
     "text": [
      "\n",
      "=======================================================================================\n",
      "Assumption 2: Little to no multicollinearity among predictors\n"
     ]
    },
    {
     "data": {
      "image/png": "[encoded data removed]",
      "text/plain": [
       "<Figure size 720x576 with 2 Axes>"
      ]
     },
     "metadata": {},
     "output_type": "display_data"
    },
    {
     "name": "stdout",
     "output_type": "stream",
     "text": [
      "Variance Inflation Factors (VIF)\n",
      "> 10: An indication that multicollinearity may be present\n",
      "> 100: Certain multicollinearity among the variables\n",
      "-------------------------------------\n",
      "GarageCars: 8.775583817484671\n",
      "2ndFlrSF: 8.178797384672968\n",
      "HouseStyle_2Story: 5.012462853692528\n",
      "HouseStyle_1Story: 4.831005296090246\n",
      "LotArea: 2.866938891089091\n",
      "Fireplaces: 2.619600359163426\n",
      "MasVnrArea: 2.5997293934220584\n",
      "MasVnrType_BrkFace: 2.4342367522924846\n",
      "BsmtFullBath: 2.334273169531771\n",
      "BsmtFinTypeGLQ: 2.251786078157455\n",
      "BsmtExposure: 2.012760675336284\n",
      "Neighborhood_NAmes: 1.91788047205255\n",
      "Neighborhood_CollgCr: 1.8644417180187844\n",
      "Neighborhood_NridgHt: 1.58578579359776\n",
      "Neighborhood_NoRidge: 1.5005207105362386\n",
      "Neighborhood_Gilbert: 1.4489101752953997\n",
      "Neighborhood_NWAmes: 1.424717673557443\n",
      "Neighborhood_OldTown: 1.3994915240782924\n",
      "BldgType_TwnhsE: 1.34366597652004\n",
      "Neighborhood_Timber: 1.3291907147258095\n",
      "Neighborhood_Edwards: 1.3250237701667518\n",
      "Neighborhood_Sawyer: 1.2945428538861237\n",
      "Neighborhood_SawyerW: 1.289946592441904\n",
      "Neighborhood_ClearCr: 1.2859187443446631\n",
      "Neighborhood_Mitchel: 1.230274269476989\n",
      "Neighborhood_StoneBr: 1.1935334243029958\n",
      "LotConfig_CulDSac: 1.1638145694627817\n",
      "BldgType_Twnhs: 1.1588107179243674\n",
      "ScreenPorch: 1.14051676572745\n",
      "Neighborhood_BrkSide: 1.1322004445698766\n",
      "Neighborhood_SWISU: 1.1045882973207373\n",
      "Neighborhood_IDOTRR: 1.0811609290771511\n",
      "\n",
      "0 cases of possible multicollinearity\n",
      "0 cases of definite multicollinearity\n",
      "\n",
      "Assumption satisfied\n",
      "\n",
      "=======================================================================================\n",
      "Assumption 3: No Autocorrelation\n",
      "\n",
      "Performing Durbin-Watson Test\n",
      "Values of 1.5 < d < 2.5 generally show that there is no autocorrelation in the data\n",
      "0 to 2< is positive autocorrelation\n",
      ">2 to 4 is negative autocorrelation\n",
      "-------------------------------------\n",
      "Durbin-Watson: 1.941907061604105\n",
      "Little to no autocorrelation \n",
      "\n",
      "Assumption satisfied\n",
      "\n",
      "=======================================================================================\n",
      "Assumption 4: Homoskedasticity of Error Terms\n",
      "Residuals should have relative constant variance\n"
     ]
    },
    {
     "data": {
      "image/png": "[encoded data removed]",
      "text/plain": [
       "<Figure size 864x432 with 1 Axes>"
      ]
     },
     "metadata": {},
     "output_type": "display_data"
    },
    {
     "name": "stdout",
     "output_type": "stream",
     "text": [
      "If heteroskedasticity is apparent, confidence intervals and predictions will be affected\n",
      "\n",
      "Consider removing outliers and preprocessing features - nonlinear transformation can help\n"
     ]
    },
    {
     "data": {
      "text/plain": [
       "{'Lagrange Multiplier': 379.8491517668932,\n",
       " 'pvalue for LM': 1.1632811910540556e-61,\n",
       " 'F stats': 15.692964020095346,\n",
       " 'pvalue for Fstats': 3.7743532809680115e-72}"
      ]
     },
     "metadata": {},
     "output_type": "display_data"
    },
    {
     "name": "stdout",
     "output_type": "stream",
     "text": [
      "Signs of positive autocorrelation \n",
      "\n",
      "Assumption potentially not satisfied \n",
      "\n",
      "\n",
      "=======================================================================================\n",
      "Assumption 5: The error terms are kinda normally distributed\n",
      "\n",
      "Using the Anderson-Darling test for normal distribution\n",
      "p-value from the test - below 0.05 generally means non-normal: 0.0\n",
      "Residuals are not normally distributed\n"
     ]
    },
    {
     "data": {
      "image/png": "[encoded data removed]",
      "text/plain": [
       "<Figure size 864x432 with 1 Axes>"
      ]
     },
     "metadata": {},
     "output_type": "display_data"
    },
    {
     "name": "stdout",
     "output_type": "stream",
     "text": [
      "\n",
      "Assumption not satisfied\n",
      "\n",
      "Confidence intervals will likely be affected\n",
      "Try performing nonlinear transformations on variables\n",
      "Building a probability plot\n"
     ]
    },
    {
     "data": {
      "image/png": "[encoded data removed]",
      "text/plain": [
       "<Figure size 432x288 with 1 Axes>"
      ]
     },
     "metadata": {},
     "output_type": "display_data"
    },
    {
     "name": "stdout",
     "output_type": "stream",
     "text": [
      "\n",
      "In your dataset you quite fat tails. You have 0.014 potential outliers (21 rows)\n"
     ]
    },
    {
     "data": {
      "text/plain": [
       "{'Satisfied': ['Multicollinearity', 'Autocorrelation'],\n",
       " 'Potentially': ['Linearity', 'Autocorrelation', 'Sub-Normality'],\n",
       " 'Violated': ['Normality']}"
      ]
     },
     "metadata": {},
     "output_type": "display_data"
    }
   ],
   "source": [
    "from Assumptions import Assumption_Tester_OLS as atols\n",
    "atols(X2,y).run_all()"
   ]
  }
 ],
 "metadata": {
  "kernelspec": {
   "display_name": "Python 3",
   "language": "python",
   "name": "python3"
  },
  "language_info": {
   "codemirror_mode": {
    "name": "ipython",
    "version": 3
   },
   "file_extension": ".py",
   "mimetype": "text/x-python",
   "name": "python",
   "nbconvert_exporter": "python",
   "pygments_lexer": "ipython3",
   "version": "3.7.6"
  }
 },
 "nbformat": 4,
 "nbformat_minor": 4
}
