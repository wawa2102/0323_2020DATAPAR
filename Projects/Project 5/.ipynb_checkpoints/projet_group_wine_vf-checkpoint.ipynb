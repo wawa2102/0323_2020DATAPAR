{
 "cells": [
  {
   "cell_type": "markdown",
   "metadata": {},
   "source": [
    "# GROUP PROJECT 1 : Analyse of rates of wine in France from the web site Vivino"
   ]
  },
  {
   "cell_type": "markdown",
   "metadata": {},
   "source": [
    "## Objectives:"
   ]
  },
  {
   "cell_type": "markdown",
   "metadata": {},
   "source": [
    "- Is there a link between the weather and the rate ? "
   ]
  },
  {
   "cell_type": "markdown",
   "metadata": {},
   "source": [
    "- Does all the regions of wine follow the trend rate ? "
   ]
  },
  {
   "cell_type": "markdown",
   "metadata": {},
   "source": [
    "- If I want to buy a wine on which charateritic should i have to be focus to maximize my choice ? (Year, Domaine, Region ...)"
   ]
  },
  {
   "cell_type": "markdown",
   "metadata": {},
   "source": [
    "## Work:"
   ]
  },
  {
   "cell_type": "markdown",
   "metadata": {},
   "source": [
    "We decided to scrap the website Vivino to get the maximum of information about a huge amount of wine. We filtered our analyze only on France and the 10 most representative region."
   ]
  },
  {
   "cell_type": "code",
   "execution_count": null,
   "metadata": {},
   "outputs": [],
   "source": [
    "import pandas as pd\n",
    "import requests as r\n",
    "import json\n",
    "import time\n",
    "import matplotlib.pyplot as plt\n",
    "import numpy as np\n",
    "import seaborn as sns\n",
    "import scipy.stats as st"
   ]
  },
  {
   "cell_type": "markdown",
   "metadata": {},
   "source": [
    "# SCRAPING"
   ]
  },
  {
   "cell_type": "markdown",
   "metadata": {},
   "source": [
    "## 1. Data from the website Vivino"
   ]
  },
  {
   "cell_type": "markdown",
   "metadata": {},
   "source": [
    "Specificity : Double Normalized"
   ]
  },
  {
   "cell_type": "code",
   "execution_count": null,
   "metadata": {},
   "outputs": [],
   "source": [
    "\"\"\"df_final=pd.DataFrame()\n",
    "for i in range(430):\n",
    "    url=f'https://www.vivino.com/api/explore/explore?country_code=FR&country_codes[]=fr&currency_code=EUR&grape_filter=varietal&min_rating=1&order_by=discount_percent&order=desc&page={i+1}&price_range_max=500&price_range_min=0'\n",
    "    headers=\"\"\"accept: application/json\n",
    "accept-encoding: gzip, deflate, br\n",
    "accept-language: fr-FR,fr;q=0.9,en-US;q=0.8,en;q=0.7\n",
    "cache-control: no-cache\n",
    "content-type: application/json\n",
    "cookie: __auc=d250f01d171789f6bc01e099098; _ga=GA1.2.856886893.1586866646; _hjid=5928cd6c-01ab-408f-a7d0-4e498792d411; recently_viewed=OUwyTDFuaVp3OWh5VkJ2djZJRnYrSWJtME14NHZlM0V5NmZGdU41Uml3RDlVWlNBZy9pZllwaTFsd1hHQVV5MGFkcUczTTg5Ulg2Q0VmWWNoODRhV3I5V2cvbVN2d01vOGRMTm81K1d6bWpVZlNwaWYwUDlpWWpHc0phczB4Vldtd3ViQk50NU92aHNkRmNjZ0JWZUpmK0dVOC94VHNlUEJGNjIwRUI5ZDkyNHFWWnBtRG5sSUhVWmdoMitYNnhOUWxOSHIrYjI0N3ZTVmRIVGpPdThoOXhHWHY0c2lrRnorMDIwQW5zZWFtVHZuTThKTFB0dzdpY1pwZTlId3M0RC0tZGcwRytBTjE4RVFMZ0pBZE0wSFdGUT09--39e17ac97cea794bf53cb06b51c56bae6e20c4c4; client_cache_key=UnlJYWMwUDM2ckhvTkpoRnhzOC9nZmFUU1ZYSGxSMFlDd3lRRysxbVFaND0tLVZRNm16dklYdzdRRnplZWIrYkEzSnc9PQ%3D%3D--57f4280d64518da7b568b85cc2f5b89ca3fd71e4; _gid=GA1.2.551177208.1587108779; _hp2_ses_props.3503103446=%7B%22r%22%3A%22https%3A%2F%2Fwww.vivino.com%2Fsearch%2Fwines%3Fq%3DMaison%2Bde%2Bla%2BChapelle%22%2C%22ts%22%3A1587110947926%2C%22d%22%3A%22www.vivino.com%22%2C%22h%22%3A%22%2Fsearch%2Fwines%22%2C%22q%22%3A%22%3Fq%3DMaison%2Bde%2Bla%2BChapelle%2B2018%22%7D; _hp2_id.3503103446=%7B%22userId%22%3A%228842742331230353%22%2C%22pageviewId%22%3A%226715115452731618%22%2C%22sessionId%22%3A%221536664878130474%22%2C%22identity%22%3Anull%2C%22trackerVersion%22%3A%224.0%22%7D; _ruby-web_session=OCtUcW93aWRKc1p3UUV0VDFCZ0pUM3prL0JCaGx0RGNSTStnOW5vVWJpY29yb1QwdGR1Y3NoYjltcWxOc2I5ellpdzRlamFlcmF6UDBFN0tjd3NpbEo4THJEaUZSZ3VkQ1Fab1ZmbkJDaDVFVVNGakd2Vjhrd092N20zSVdmTXYzMUdxZWl1UThiTWF5dzVuTWVhc3cyUml5ZVNTUkJVdWtRSzlNbE9PcGhQN0xoOWVKVktyczlEdk5QZVA3cDBiTVROSEVrVGRVNDJQVTRWSHlsL3lJNXlHZCtmYW52aGlZT3NlSmRURUN5Y0I4OXNhdHlkd1EyYVU0bU5QNTBYTzFyeTFoVm1qQ05ZamorR2h6VlhWYUFqTTRlbVplUWMwaFFhd294cGFsbGRSNVBzdUpjS09YdkZhbEhTTHNCTHotLXptdEZHQWhPSnRUN3RnM2Jncnk2dUE9PQ%3D%3D--747632e65a2dc494198dedfa9e7873ae78f5321d\n",
    "pragma: no-cache\n",
    "referer: https://www.vivino.com/explore?e=eJwNy00KgCAQBtDbzNoWLb9lHUBoFRE2agj5w2hRt8_140XBQDEkKIrmxagU8YdZE2NaNJWup8djJLhmLsoHbKic79T24oRdapRhXeXe6rrByw9MVhwY\n",
    "sec-fetch-dest: empty\n",
    "sec-fetch-mode: cors\n",
    "sec-fetch-site: same-origin\n",
    "user-agent: Mozilla/5.0 (Windows NT 6.3; Win64; x64) AppleWebKit/537.36 (KHTML, like Gecko) Chrome/80.0.3987.163 Safari/537.36\n",
    "x-requested-with: XMLHttpRequest\"\"\"\n",
    "    headers=dict([i.strip().split(': ') for i in headers.split('\\n')])\n",
    "    result=r.get(url, headers=headers).json()\n",
    "    df=pd.json_normalize(result)\n",
    "    df1=pd.json_normalize(df['explore_vintage.matches'][0])\n",
    "    df_final=df_final.append(df1)\n",
    "    time.sleep(2)\n",
    "    print(i)\"\"\""
   ]
  },
  {
   "cell_type": "markdown",
   "metadata": {},
   "source": [
    "## 2. Data from the US Gouvernemental Website National Centers for Environmental Information (NCEI) "
   ]
  },
  {
   "cell_type": "markdown",
   "metadata": {},
   "source": [
    "XLS file directly avaible with the selection of differents stations"
   ]
  },
  {
   "cell_type": "markdown",
   "metadata": {},
   "source": [
    "# Creation of the DataFrame"
   ]
  },
  {
   "cell_type": "code",
   "execution_count": 39,
   "metadata": {},
   "outputs": [
    {
     "name": "stdout",
     "output_type": "stream",
     "text": [
      "BIENVENUE\n"
     ]
    }
   ],
   "source": [
    "print('BIENVENUE')\n",
    "\n",
    "data_w = pd.read_csv(\"2120116_V2.csv\",sep=\";\")\n",
    "data_v = pd.read_csv(\"vivino_2.csv\",sep=\",\")\n",
    "\n",
    "dct_stations = {'bordeaux': 'BORDEAUX MERIGNAC, FR',\n",
    "       'languedoc-roussillon':  'MONTPELLIER AEROPORT, FR',\n",
    "       'cote-de-beaune': 'DIJON LONGVIC, FR',\n",
    "       'cote-de-nuits': 'DIJON LONGVIC, FR' ,\n",
    "       'rhone': 'LYON ST EXUPERY, FR',\n",
    "       'loire-valley': 'NANTES BOUGUENAIS, FR',\n",
    "       'bourgogne': 'DIJON LONGVIC, FR',\n",
    "       'champagne': 'REIMS PRUNAY, FR',\n",
    "       'alsace': 'STRASBOURG ENTZHEIM, FR',\n",
    "       'chateauneuf-du-pape': 'MONTELIMAR, FR'}\n",
    "\n",
    "### READ DF VIVINO\n",
    "\n",
    "data_v['station']=data_v[\"vintage.wine.style.region.seo_name\"].map(dct_stations)\n",
    "\n",
    "#print(data_v.head())\n",
    "\n",
    "#print(data_v.groupby('station').count())\n",
    "\n",
    "def liste(c):\n",
    "    N=[]\n",
    "    for i in range(1,13):\n",
    "        if i<10 :\n",
    "            N.append(str(c)+str('-')+str(0)+str(i))\n",
    "        else : \n",
    "            N.append(str(c)+str('-')+str(i))\n",
    "    return N\n",
    "\n",
    "def splitDataFrameList(df,target_column,separator):\n",
    "    ''' df = dataframe to split,\n",
    "    target_column = the column containing the values to split\n",
    "    separator = the symbol used to perform the split\n",
    "    returns: a dataframe with each entry for the target column separated, with each element moved into a new row. \n",
    "    The values in the other columns are duplicated across the newly divided rows.\n",
    "    '''\n",
    "    def splitListToRows(row,row_accumulator,target_column,separator):\n",
    "        split_row = row[target_column]\n",
    "        for s in split_row:\n",
    "            new_row = row.to_dict()\n",
    "            new_row[target_column] = s\n",
    "            row_accumulator.append(new_row)\n",
    "    new_rows = []\n",
    "    df.apply(splitListToRows,axis=1,args = (new_rows,target_column,separator))\n",
    "    new_df = pd.DataFrame(new_rows)\n",
    "    return new_df\n",
    "\n",
    "data_v['Year'] = data_v.apply(lambda row:(liste(row['vintage.year'])),axis=1)\n",
    "\n",
    "data_v=splitDataFrameList(df=data_v, target_column=\"Year\",separator=\",\")\n"
   ]
  },
  {
   "cell_type": "code",
   "execution_count": 3,
   "metadata": {},
   "outputs": [],
   "source": [
    "data_v['join']=data_v.apply(lambda row:(str(row['station'])) +((str(row['Year']))),axis=1)\n",
    "data_w['join']=data_w.apply(lambda row:(row['NAME'])+(row['DATE']),axis=1)\n",
    "\n",
    "####### JOIN\n",
    "data=data_v.merge(data_w,on='join')"
   ]
  },
  {
   "cell_type": "code",
   "execution_count": 4,
   "metadata": {},
   "outputs": [],
   "source": [
    "#Cleaning column\n",
    "data = data[['vintage.wine.winery.name', 'vintage.year',\n",
    "             'vintage.statistics.ratings_average', 'vintage.wine.region.name','vintage.wine.style.region.seo_name'\n",
    "             ,'station','DATE', 'CLDD', 'HTDD','PRCP', 'TAVG', 'TMAX','TMIN']]\n",
    "\n"
   ]
  },
  {
   "cell_type": "code",
   "execution_count": 5,
   "metadata": {},
   "outputs": [
    {
     "data": {
      "text/plain": [
       "0        2013-01\n",
       "1        2013-01\n",
       "2        2013-01\n",
       "3        2013-01\n",
       "4        2013-01\n",
       "          ...   \n",
       "95740    1998-12\n",
       "95741    1998-12\n",
       "95742    1998-12\n",
       "95743    1998-12\n",
       "95744    1998-12\n",
       "Name: DATE, Length: 95745, dtype: object"
      ]
     },
     "execution_count": 5,
     "metadata": {},
     "output_type": "execute_result"
    }
   ],
   "source": [
    "data.DATE"
   ]
  },
  {
   "cell_type": "code",
   "execution_count": 6,
   "metadata": {},
   "outputs": [],
   "source": [
    "data.DATE = data.DATE.apply(lambda x : x[-2:])"
   ]
  },
  {
   "cell_type": "code",
   "execution_count": 7,
   "metadata": {},
   "outputs": [],
   "source": [
    "data.rename(columns = {\"vintage.wine.winery.name\":\"domain\",\n",
    "                       \"vintage.wine.region.name\":\"appellation\",\n",
    "                       \"vintage.year\":\"year\",\n",
    "                       \"vintage.statistics.ratings_average\":\"rating\",\n",
    "                       \"vintage.wine.style.region.seo_name\":\"region\",\n",
    "                       \"DATE\":\"month\"}, inplace=True)\n",
    "\n"
   ]
  },
  {
   "cell_type": "code",
   "execution_count": 8,
   "metadata": {},
   "outputs": [
    {
     "name": "stdout",
     "output_type": "stream",
     "text": [
      "<class 'pandas.core.frame.DataFrame'>\n",
      "Int64Index: 95745 entries, 0 to 95744\n",
      "Data columns (total 13 columns):\n",
      " #   Column       Non-Null Count  Dtype  \n",
      "---  ------       --------------  -----  \n",
      " 0   domain       95745 non-null  object \n",
      " 1   year         95745 non-null  int32  \n",
      " 2   rating       95745 non-null  float64\n",
      " 3   appellation  95745 non-null  object \n",
      " 4   region       95745 non-null  object \n",
      " 5   station      95745 non-null  object \n",
      " 6   month        95745 non-null  int32  \n",
      " 7   CLDD         95736 non-null  float64\n",
      " 8   HTDD         95736 non-null  float64\n",
      " 9   PRCP         95745 non-null  float64\n",
      " 10  TAVG         95745 non-null  float64\n",
      " 11  TMAX         95745 non-null  float64\n",
      " 12  TMIN         95745 non-null  float64\n",
      "dtypes: float64(7), int32(2), object(4)\n",
      "memory usage: 9.5+ MB\n"
     ]
    }
   ],
   "source": [
    "convert_dict = {'year':'int32','month':'int32'}\n",
    "data = data.astype(convert_dict)\n",
    "data.info()"
   ]
  },
  {
   "cell_type": "code",
   "execution_count": 9,
   "metadata": {},
   "outputs": [
    {
     "data": {
      "text/html": [
       "<div>\n",
       "<style scoped>\n",
       "    .dataframe tbody tr th:only-of-type {\n",
       "        vertical-align: middle;\n",
       "    }\n",
       "\n",
       "    .dataframe tbody tr th {\n",
       "        vertical-align: top;\n",
       "    }\n",
       "\n",
       "    .dataframe thead th {\n",
       "        text-align: right;\n",
       "    }\n",
       "</style>\n",
       "<table border=\"1\" class=\"dataframe\">\n",
       "  <thead>\n",
       "    <tr style=\"text-align: right;\">\n",
       "      <th></th>\n",
       "      <th>domain</th>\n",
       "      <th>year</th>\n",
       "      <th>rating</th>\n",
       "      <th>appellation</th>\n",
       "      <th>region</th>\n",
       "      <th>station</th>\n",
       "      <th>month</th>\n",
       "      <th>CLDD</th>\n",
       "      <th>HTDD</th>\n",
       "      <th>PRCP</th>\n",
       "      <th>TAVG</th>\n",
       "      <th>TMAX</th>\n",
       "      <th>TMIN</th>\n",
       "    </tr>\n",
       "  </thead>\n",
       "  <tbody>\n",
       "    <tr>\n",
       "      <th>0</th>\n",
       "      <td>Château Batailley</td>\n",
       "      <td>2013</td>\n",
       "      <td>4.1</td>\n",
       "      <td>Pauillac</td>\n",
       "      <td>bordeaux</td>\n",
       "      <td>BORDEAUX MERIGNAC, FR</td>\n",
       "      <td>1</td>\n",
       "      <td>0.0</td>\n",
       "      <td>339.1</td>\n",
       "      <td>138.0</td>\n",
       "      <td>6.7</td>\n",
       "      <td>9.6</td>\n",
       "      <td>3.8</td>\n",
       "    </tr>\n",
       "    <tr>\n",
       "      <th>1</th>\n",
       "      <td>Château Rouget</td>\n",
       "      <td>2013</td>\n",
       "      <td>3.9</td>\n",
       "      <td>Pomerol</td>\n",
       "      <td>bordeaux</td>\n",
       "      <td>BORDEAUX MERIGNAC, FR</td>\n",
       "      <td>1</td>\n",
       "      <td>0.0</td>\n",
       "      <td>339.1</td>\n",
       "      <td>138.0</td>\n",
       "      <td>6.7</td>\n",
       "      <td>9.6</td>\n",
       "      <td>3.8</td>\n",
       "    </tr>\n",
       "    <tr>\n",
       "      <th>2</th>\n",
       "      <td>Château Latour</td>\n",
       "      <td>2013</td>\n",
       "      <td>4.2</td>\n",
       "      <td>Pauillac</td>\n",
       "      <td>bordeaux</td>\n",
       "      <td>BORDEAUX MERIGNAC, FR</td>\n",
       "      <td>1</td>\n",
       "      <td>0.0</td>\n",
       "      <td>339.1</td>\n",
       "      <td>138.0</td>\n",
       "      <td>6.7</td>\n",
       "      <td>9.6</td>\n",
       "      <td>3.8</td>\n",
       "    </tr>\n",
       "    <tr>\n",
       "      <th>3</th>\n",
       "      <td>Château Meyney</td>\n",
       "      <td>2013</td>\n",
       "      <td>3.8</td>\n",
       "      <td>Saint-Estèphe</td>\n",
       "      <td>bordeaux</td>\n",
       "      <td>BORDEAUX MERIGNAC, FR</td>\n",
       "      <td>1</td>\n",
       "      <td>0.0</td>\n",
       "      <td>339.1</td>\n",
       "      <td>138.0</td>\n",
       "      <td>6.7</td>\n",
       "      <td>9.6</td>\n",
       "      <td>3.8</td>\n",
       "    </tr>\n",
       "    <tr>\n",
       "      <th>4</th>\n",
       "      <td>Château Olivier</td>\n",
       "      <td>2013</td>\n",
       "      <td>3.9</td>\n",
       "      <td>Pessac-Léognan</td>\n",
       "      <td>bordeaux</td>\n",
       "      <td>BORDEAUX MERIGNAC, FR</td>\n",
       "      <td>1</td>\n",
       "      <td>0.0</td>\n",
       "      <td>339.1</td>\n",
       "      <td>138.0</td>\n",
       "      <td>6.7</td>\n",
       "      <td>9.6</td>\n",
       "      <td>3.8</td>\n",
       "    </tr>\n",
       "    <tr>\n",
       "      <th>5</th>\n",
       "      <td>Château d'Issan</td>\n",
       "      <td>2013</td>\n",
       "      <td>3.9</td>\n",
       "      <td>Margaux</td>\n",
       "      <td>bordeaux</td>\n",
       "      <td>BORDEAUX MERIGNAC, FR</td>\n",
       "      <td>1</td>\n",
       "      <td>0.0</td>\n",
       "      <td>339.1</td>\n",
       "      <td>138.0</td>\n",
       "      <td>6.7</td>\n",
       "      <td>9.6</td>\n",
       "      <td>3.8</td>\n",
       "    </tr>\n",
       "    <tr>\n",
       "      <th>6</th>\n",
       "      <td>Château La Croix du Casse</td>\n",
       "      <td>2013</td>\n",
       "      <td>3.8</td>\n",
       "      <td>Pomerol</td>\n",
       "      <td>bordeaux</td>\n",
       "      <td>BORDEAUX MERIGNAC, FR</td>\n",
       "      <td>1</td>\n",
       "      <td>0.0</td>\n",
       "      <td>339.1</td>\n",
       "      <td>138.0</td>\n",
       "      <td>6.7</td>\n",
       "      <td>9.6</td>\n",
       "      <td>3.8</td>\n",
       "    </tr>\n",
       "    <tr>\n",
       "      <th>7</th>\n",
       "      <td>Château de la Dauphine</td>\n",
       "      <td>2013</td>\n",
       "      <td>3.3</td>\n",
       "      <td>Fronsac</td>\n",
       "      <td>bordeaux</td>\n",
       "      <td>BORDEAUX MERIGNAC, FR</td>\n",
       "      <td>1</td>\n",
       "      <td>0.0</td>\n",
       "      <td>339.1</td>\n",
       "      <td>138.0</td>\n",
       "      <td>6.7</td>\n",
       "      <td>9.6</td>\n",
       "      <td>3.8</td>\n",
       "    </tr>\n",
       "    <tr>\n",
       "      <th>8</th>\n",
       "      <td>Château de Fieuzal</td>\n",
       "      <td>2013</td>\n",
       "      <td>3.9</td>\n",
       "      <td>Pessac-Léognan</td>\n",
       "      <td>bordeaux</td>\n",
       "      <td>BORDEAUX MERIGNAC, FR</td>\n",
       "      <td>1</td>\n",
       "      <td>0.0</td>\n",
       "      <td>339.1</td>\n",
       "      <td>138.0</td>\n",
       "      <td>6.7</td>\n",
       "      <td>9.6</td>\n",
       "      <td>3.8</td>\n",
       "    </tr>\n",
       "    <tr>\n",
       "      <th>9</th>\n",
       "      <td>Château Lespault Martillac</td>\n",
       "      <td>2013</td>\n",
       "      <td>3.7</td>\n",
       "      <td>Pessac-Léognan</td>\n",
       "      <td>bordeaux</td>\n",
       "      <td>BORDEAUX MERIGNAC, FR</td>\n",
       "      <td>1</td>\n",
       "      <td>0.0</td>\n",
       "      <td>339.1</td>\n",
       "      <td>138.0</td>\n",
       "      <td>6.7</td>\n",
       "      <td>9.6</td>\n",
       "      <td>3.8</td>\n",
       "    </tr>\n",
       "    <tr>\n",
       "      <th>10</th>\n",
       "      <td>Château Trotte Vieille</td>\n",
       "      <td>2013</td>\n",
       "      <td>3.7</td>\n",
       "      <td>Saint-Émilion Grand Cru</td>\n",
       "      <td>bordeaux</td>\n",
       "      <td>BORDEAUX MERIGNAC, FR</td>\n",
       "      <td>1</td>\n",
       "      <td>0.0</td>\n",
       "      <td>339.1</td>\n",
       "      <td>138.0</td>\n",
       "      <td>6.7</td>\n",
       "      <td>9.6</td>\n",
       "      <td>3.8</td>\n",
       "    </tr>\n",
       "    <tr>\n",
       "      <th>11</th>\n",
       "      <td>Château Branas Grand Poujeaux</td>\n",
       "      <td>2013</td>\n",
       "      <td>3.7</td>\n",
       "      <td>Moulis-en-Médoc</td>\n",
       "      <td>bordeaux</td>\n",
       "      <td>BORDEAUX MERIGNAC, FR</td>\n",
       "      <td>1</td>\n",
       "      <td>0.0</td>\n",
       "      <td>339.1</td>\n",
       "      <td>138.0</td>\n",
       "      <td>6.7</td>\n",
       "      <td>9.6</td>\n",
       "      <td>3.8</td>\n",
       "    </tr>\n",
       "    <tr>\n",
       "      <th>12</th>\n",
       "      <td>Château Le Gay</td>\n",
       "      <td>2013</td>\n",
       "      <td>4.3</td>\n",
       "      <td>Pomerol</td>\n",
       "      <td>bordeaux</td>\n",
       "      <td>BORDEAUX MERIGNAC, FR</td>\n",
       "      <td>1</td>\n",
       "      <td>0.0</td>\n",
       "      <td>339.1</td>\n",
       "      <td>138.0</td>\n",
       "      <td>6.7</td>\n",
       "      <td>9.6</td>\n",
       "      <td>3.8</td>\n",
       "    </tr>\n",
       "    <tr>\n",
       "      <th>13</th>\n",
       "      <td>Château Lynch-Moussas</td>\n",
       "      <td>2013</td>\n",
       "      <td>3.9</td>\n",
       "      <td>Pauillac</td>\n",
       "      <td>bordeaux</td>\n",
       "      <td>BORDEAUX MERIGNAC, FR</td>\n",
       "      <td>1</td>\n",
       "      <td>0.0</td>\n",
       "      <td>339.1</td>\n",
       "      <td>138.0</td>\n",
       "      <td>6.7</td>\n",
       "      <td>9.6</td>\n",
       "      <td>3.8</td>\n",
       "    </tr>\n",
       "    <tr>\n",
       "      <th>14</th>\n",
       "      <td>Château Cambon La Pelouse</td>\n",
       "      <td>2013</td>\n",
       "      <td>3.6</td>\n",
       "      <td>Haut-Médoc</td>\n",
       "      <td>bordeaux</td>\n",
       "      <td>BORDEAUX MERIGNAC, FR</td>\n",
       "      <td>1</td>\n",
       "      <td>0.0</td>\n",
       "      <td>339.1</td>\n",
       "      <td>138.0</td>\n",
       "      <td>6.7</td>\n",
       "      <td>9.6</td>\n",
       "      <td>3.8</td>\n",
       "    </tr>\n",
       "    <tr>\n",
       "      <th>15</th>\n",
       "      <td>Château Peyrabon</td>\n",
       "      <td>2013</td>\n",
       "      <td>3.3</td>\n",
       "      <td>Haut-Médoc</td>\n",
       "      <td>bordeaux</td>\n",
       "      <td>BORDEAUX MERIGNAC, FR</td>\n",
       "      <td>1</td>\n",
       "      <td>0.0</td>\n",
       "      <td>339.1</td>\n",
       "      <td>138.0</td>\n",
       "      <td>6.7</td>\n",
       "      <td>9.6</td>\n",
       "      <td>3.8</td>\n",
       "    </tr>\n",
       "    <tr>\n",
       "      <th>16</th>\n",
       "      <td>Château Pape Clément</td>\n",
       "      <td>2013</td>\n",
       "      <td>4.0</td>\n",
       "      <td>Pessac-Léognan</td>\n",
       "      <td>bordeaux</td>\n",
       "      <td>BORDEAUX MERIGNAC, FR</td>\n",
       "      <td>1</td>\n",
       "      <td>0.0</td>\n",
       "      <td>339.1</td>\n",
       "      <td>138.0</td>\n",
       "      <td>6.7</td>\n",
       "      <td>9.6</td>\n",
       "      <td>3.8</td>\n",
       "    </tr>\n",
       "    <tr>\n",
       "      <th>17</th>\n",
       "      <td>Château Feytit-Clinet</td>\n",
       "      <td>2013</td>\n",
       "      <td>3.7</td>\n",
       "      <td>Pomerol</td>\n",
       "      <td>bordeaux</td>\n",
       "      <td>BORDEAUX MERIGNAC, FR</td>\n",
       "      <td>1</td>\n",
       "      <td>0.0</td>\n",
       "      <td>339.1</td>\n",
       "      <td>138.0</td>\n",
       "      <td>6.7</td>\n",
       "      <td>9.6</td>\n",
       "      <td>3.8</td>\n",
       "    </tr>\n",
       "    <tr>\n",
       "      <th>18</th>\n",
       "      <td>Château Corconnac</td>\n",
       "      <td>2013</td>\n",
       "      <td>3.4</td>\n",
       "      <td>Médoc</td>\n",
       "      <td>bordeaux</td>\n",
       "      <td>BORDEAUX MERIGNAC, FR</td>\n",
       "      <td>1</td>\n",
       "      <td>0.0</td>\n",
       "      <td>339.1</td>\n",
       "      <td>138.0</td>\n",
       "      <td>6.7</td>\n",
       "      <td>9.6</td>\n",
       "      <td>3.8</td>\n",
       "    </tr>\n",
       "    <tr>\n",
       "      <th>19</th>\n",
       "      <td>Château Le Pin Beausoleil</td>\n",
       "      <td>2013</td>\n",
       "      <td>3.8</td>\n",
       "      <td>Bordeaux Supérieur</td>\n",
       "      <td>bordeaux</td>\n",
       "      <td>BORDEAUX MERIGNAC, FR</td>\n",
       "      <td>1</td>\n",
       "      <td>0.0</td>\n",
       "      <td>339.1</td>\n",
       "      <td>138.0</td>\n",
       "      <td>6.7</td>\n",
       "      <td>9.6</td>\n",
       "      <td>3.8</td>\n",
       "    </tr>\n",
       "    <tr>\n",
       "      <th>20</th>\n",
       "      <td>Château Grand-Puy Ducasse</td>\n",
       "      <td>2013</td>\n",
       "      <td>3.9</td>\n",
       "      <td>Pauillac</td>\n",
       "      <td>bordeaux</td>\n",
       "      <td>BORDEAUX MERIGNAC, FR</td>\n",
       "      <td>1</td>\n",
       "      <td>0.0</td>\n",
       "      <td>339.1</td>\n",
       "      <td>138.0</td>\n",
       "      <td>6.7</td>\n",
       "      <td>9.6</td>\n",
       "      <td>3.8</td>\n",
       "    </tr>\n",
       "    <tr>\n",
       "      <th>21</th>\n",
       "      <td>Château Le Pin Beausoleil</td>\n",
       "      <td>2013</td>\n",
       "      <td>3.8</td>\n",
       "      <td>Bordeaux Supérieur</td>\n",
       "      <td>bordeaux</td>\n",
       "      <td>BORDEAUX MERIGNAC, FR</td>\n",
       "      <td>1</td>\n",
       "      <td>0.0</td>\n",
       "      <td>339.1</td>\n",
       "      <td>138.0</td>\n",
       "      <td>6.7</td>\n",
       "      <td>9.6</td>\n",
       "      <td>3.8</td>\n",
       "    </tr>\n",
       "    <tr>\n",
       "      <th>22</th>\n",
       "      <td>Château Grand-Puy Ducasse</td>\n",
       "      <td>2013</td>\n",
       "      <td>3.9</td>\n",
       "      <td>Pauillac</td>\n",
       "      <td>bordeaux</td>\n",
       "      <td>BORDEAUX MERIGNAC, FR</td>\n",
       "      <td>1</td>\n",
       "      <td>0.0</td>\n",
       "      <td>339.1</td>\n",
       "      <td>138.0</td>\n",
       "      <td>6.7</td>\n",
       "      <td>9.6</td>\n",
       "      <td>3.8</td>\n",
       "    </tr>\n",
       "    <tr>\n",
       "      <th>23</th>\n",
       "      <td>Château Mongravey</td>\n",
       "      <td>2013</td>\n",
       "      <td>3.9</td>\n",
       "      <td>Margaux</td>\n",
       "      <td>bordeaux</td>\n",
       "      <td>BORDEAUX MERIGNAC, FR</td>\n",
       "      <td>1</td>\n",
       "      <td>0.0</td>\n",
       "      <td>339.1</td>\n",
       "      <td>138.0</td>\n",
       "      <td>6.7</td>\n",
       "      <td>9.6</td>\n",
       "      <td>3.8</td>\n",
       "    </tr>\n",
       "    <tr>\n",
       "      <th>24</th>\n",
       "      <td>Clos La Madeleine</td>\n",
       "      <td>2013</td>\n",
       "      <td>4.2</td>\n",
       "      <td>Saint-Émilion Grand Cru</td>\n",
       "      <td>bordeaux</td>\n",
       "      <td>BORDEAUX MERIGNAC, FR</td>\n",
       "      <td>1</td>\n",
       "      <td>0.0</td>\n",
       "      <td>339.1</td>\n",
       "      <td>138.0</td>\n",
       "      <td>6.7</td>\n",
       "      <td>9.6</td>\n",
       "      <td>3.8</td>\n",
       "    </tr>\n",
       "  </tbody>\n",
       "</table>\n",
       "</div>"
      ],
      "text/plain": [
       "                           domain  year  rating              appellation  \\\n",
       "0               Château Batailley  2013     4.1                 Pauillac   \n",
       "1                  Château Rouget  2013     3.9                  Pomerol   \n",
       "2                  Château Latour  2013     4.2                 Pauillac   \n",
       "3                  Château Meyney  2013     3.8            Saint-Estèphe   \n",
       "4                 Château Olivier  2013     3.9           Pessac-Léognan   \n",
       "5                 Château d'Issan  2013     3.9                  Margaux   \n",
       "6       Château La Croix du Casse  2013     3.8                  Pomerol   \n",
       "7          Château de la Dauphine  2013     3.3                  Fronsac   \n",
       "8              Château de Fieuzal  2013     3.9           Pessac-Léognan   \n",
       "9      Château Lespault Martillac  2013     3.7           Pessac-Léognan   \n",
       "10         Château Trotte Vieille  2013     3.7  Saint-Émilion Grand Cru   \n",
       "11  Château Branas Grand Poujeaux  2013     3.7          Moulis-en-Médoc   \n",
       "12                 Château Le Gay  2013     4.3                  Pomerol   \n",
       "13          Château Lynch-Moussas  2013     3.9                 Pauillac   \n",
       "14      Château Cambon La Pelouse  2013     3.6               Haut-Médoc   \n",
       "15               Château Peyrabon  2013     3.3               Haut-Médoc   \n",
       "16           Château Pape Clément  2013     4.0           Pessac-Léognan   \n",
       "17          Château Feytit-Clinet  2013     3.7                  Pomerol   \n",
       "18              Château Corconnac  2013     3.4                    Médoc   \n",
       "19      Château Le Pin Beausoleil  2013     3.8       Bordeaux Supérieur   \n",
       "20      Château Grand-Puy Ducasse  2013     3.9                 Pauillac   \n",
       "21      Château Le Pin Beausoleil  2013     3.8       Bordeaux Supérieur   \n",
       "22      Château Grand-Puy Ducasse  2013     3.9                 Pauillac   \n",
       "23              Château Mongravey  2013     3.9                  Margaux   \n",
       "24              Clos La Madeleine  2013     4.2  Saint-Émilion Grand Cru   \n",
       "\n",
       "      region                station  month  CLDD   HTDD   PRCP  TAVG  TMAX  \\\n",
       "0   bordeaux  BORDEAUX MERIGNAC, FR      1   0.0  339.1  138.0   6.7   9.6   \n",
       "1   bordeaux  BORDEAUX MERIGNAC, FR      1   0.0  339.1  138.0   6.7   9.6   \n",
       "2   bordeaux  BORDEAUX MERIGNAC, FR      1   0.0  339.1  138.0   6.7   9.6   \n",
       "3   bordeaux  BORDEAUX MERIGNAC, FR      1   0.0  339.1  138.0   6.7   9.6   \n",
       "4   bordeaux  BORDEAUX MERIGNAC, FR      1   0.0  339.1  138.0   6.7   9.6   \n",
       "5   bordeaux  BORDEAUX MERIGNAC, FR      1   0.0  339.1  138.0   6.7   9.6   \n",
       "6   bordeaux  BORDEAUX MERIGNAC, FR      1   0.0  339.1  138.0   6.7   9.6   \n",
       "7   bordeaux  BORDEAUX MERIGNAC, FR      1   0.0  339.1  138.0   6.7   9.6   \n",
       "8   bordeaux  BORDEAUX MERIGNAC, FR      1   0.0  339.1  138.0   6.7   9.6   \n",
       "9   bordeaux  BORDEAUX MERIGNAC, FR      1   0.0  339.1  138.0   6.7   9.6   \n",
       "10  bordeaux  BORDEAUX MERIGNAC, FR      1   0.0  339.1  138.0   6.7   9.6   \n",
       "11  bordeaux  BORDEAUX MERIGNAC, FR      1   0.0  339.1  138.0   6.7   9.6   \n",
       "12  bordeaux  BORDEAUX MERIGNAC, FR      1   0.0  339.1  138.0   6.7   9.6   \n",
       "13  bordeaux  BORDEAUX MERIGNAC, FR      1   0.0  339.1  138.0   6.7   9.6   \n",
       "14  bordeaux  BORDEAUX MERIGNAC, FR      1   0.0  339.1  138.0   6.7   9.6   \n",
       "15  bordeaux  BORDEAUX MERIGNAC, FR      1   0.0  339.1  138.0   6.7   9.6   \n",
       "16  bordeaux  BORDEAUX MERIGNAC, FR      1   0.0  339.1  138.0   6.7   9.6   \n",
       "17  bordeaux  BORDEAUX MERIGNAC, FR      1   0.0  339.1  138.0   6.7   9.6   \n",
       "18  bordeaux  BORDEAUX MERIGNAC, FR      1   0.0  339.1  138.0   6.7   9.6   \n",
       "19  bordeaux  BORDEAUX MERIGNAC, FR      1   0.0  339.1  138.0   6.7   9.6   \n",
       "20  bordeaux  BORDEAUX MERIGNAC, FR      1   0.0  339.1  138.0   6.7   9.6   \n",
       "21  bordeaux  BORDEAUX MERIGNAC, FR      1   0.0  339.1  138.0   6.7   9.6   \n",
       "22  bordeaux  BORDEAUX MERIGNAC, FR      1   0.0  339.1  138.0   6.7   9.6   \n",
       "23  bordeaux  BORDEAUX MERIGNAC, FR      1   0.0  339.1  138.0   6.7   9.6   \n",
       "24  bordeaux  BORDEAUX MERIGNAC, FR      1   0.0  339.1  138.0   6.7   9.6   \n",
       "\n",
       "    TMIN  \n",
       "0    3.8  \n",
       "1    3.8  \n",
       "2    3.8  \n",
       "3    3.8  \n",
       "4    3.8  \n",
       "5    3.8  \n",
       "6    3.8  \n",
       "7    3.8  \n",
       "8    3.8  \n",
       "9    3.8  \n",
       "10   3.8  \n",
       "11   3.8  \n",
       "12   3.8  \n",
       "13   3.8  \n",
       "14   3.8  \n",
       "15   3.8  \n",
       "16   3.8  \n",
       "17   3.8  \n",
       "18   3.8  \n",
       "19   3.8  \n",
       "20   3.8  \n",
       "21   3.8  \n",
       "22   3.8  \n",
       "23   3.8  \n",
       "24   3.8  "
      ]
     },
     "execution_count": 9,
     "metadata": {},
     "output_type": "execute_result"
    }
   ],
   "source": [
    "data.head(25)"
   ]
  },
  {
   "cell_type": "markdown",
   "metadata": {},
   "source": [
    "# 1. Overview of our datasets"
   ]
  },
  {
   "cell_type": "markdown",
   "metadata": {},
   "source": [
    "### 1.a Number of years, domains and bottles"
   ]
  },
  {
   "cell_type": "code",
   "execution_count": 10,
   "metadata": {},
   "outputs": [
    {
     "name": "stdout",
     "output_type": "stream",
     "text": [
      "Number of years =>  20\n"
     ]
    }
   ],
   "source": [
    "print('Number of years => ',data['year'].nunique())"
   ]
  },
  {
   "cell_type": "code",
   "execution_count": 11,
   "metadata": {},
   "outputs": [
    {
     "name": "stdout",
     "output_type": "stream",
     "text": [
      "Number of bottles =>  7979.0\n"
     ]
    }
   ],
   "source": [
    "print('Number of bottles => ',round(data['year'].count()/12,0))"
   ]
  },
  {
   "cell_type": "code",
   "execution_count": 12,
   "metadata": {},
   "outputs": [
    {
     "name": "stdout",
     "output_type": "stream",
     "text": [
      "Number of domains =>  677\n"
     ]
    }
   ],
   "source": [
    "print('Number of domains => ',data['domain'].nunique())"
   ]
  },
  {
   "cell_type": "markdown",
   "metadata": {},
   "source": [
    "### 1.b Repartition of number of bottles per year"
   ]
  },
  {
   "cell_type": "code",
   "execution_count": 13,
   "metadata": {},
   "outputs": [
    {
     "data": {
      "text/plain": [
       "<matplotlib.axes._subplots.AxesSubplot at 0x6a46e5f488>"
      ]
     },
     "execution_count": 13,
     "metadata": {},
     "output_type": "execute_result"
    },
    {
     "data": {
      "image/png": "[encoded data removed]",
      "text/plain": [
       "<Figure size 432x288 with 1 Axes>"
      ]
     },
     "metadata": {
      "needs_background": "light"
     },
     "output_type": "display_data"
    }
   ],
   "source": [
    "(data['year'].value_counts()/12).sort_index().plot(kind='bar')"
   ]
  },
  {
   "cell_type": "markdown",
   "metadata": {},
   "source": [
    "### 1.c Repartition of bottles per region (%)"
   ]
  },
  {
   "cell_type": "code",
   "execution_count": 14,
   "metadata": {},
   "outputs": [
    {
     "data": {
      "text/plain": [
       "bordeaux                76.0\n",
       "cote-de-beaune           5.0\n",
       "cote-de-nuits            5.0\n",
       "rhone                    4.0\n",
       "bourgogne                3.0\n",
       "chateauneuf-du-pape      2.0\n",
       "languedoc-roussillon     2.0\n",
       "loire-valley             2.0\n",
       "champagne                1.0\n",
       "alsace                   0.0\n",
       "Name: region, dtype: float64"
      ]
     },
     "execution_count": 14,
     "metadata": {},
     "output_type": "execute_result"
    }
   ],
   "source": [
    "round(data['region'].value_counts()/data['year'].count()*100,0)"
   ]
  },
  {
   "cell_type": "markdown",
   "metadata": {},
   "source": [
    "### 1.d Number of bottles per region "
   ]
  },
  {
   "cell_type": "code",
   "execution_count": 15,
   "metadata": {},
   "outputs": [
    {
     "data": {
      "text/plain": [
       "<matplotlib.axes._subplots.AxesSubplot at 0x6a47e49e08>"
      ]
     },
     "execution_count": 15,
     "metadata": {},
     "output_type": "execute_result"
    },
    {
     "data": {
      "image/png": "[encoded data removed]",
      "text/plain": [
       "<Figure size 432x288 with 1 Axes>"
      ]
     },
     "metadata": {
      "needs_background": "light"
     },
     "output_type": "display_data"
    }
   ],
   "source": [
    "(data['region'].value_counts()/12).plot(kind='bar')"
   ]
  },
  {
   "cell_type": "markdown",
   "metadata": {},
   "source": [
    "### 1.e Number of rating per year"
   ]
  },
  {
   "cell_type": "code",
   "execution_count": 16,
   "metadata": {},
   "outputs": [
    {
     "data": {
      "text/plain": [
       "<matplotlib.axes._subplots.AxesSubplot at 0x6a47f30c08>"
      ]
     },
     "execution_count": 16,
     "metadata": {},
     "output_type": "execute_result"
    },
    {
     "data": {
      "image/png": "[encoded data removed]",
      "text/plain": [
       "<Figure size 432x288 with 1 Axes>"
      ]
     },
     "metadata": {
      "needs_background": "light"
     },
     "output_type": "display_data"
    }
   ],
   "source": [
    "(data['rating'].value_counts().sort_index()/12).plot(kind='bar')"
   ]
  },
  {
   "cell_type": "markdown",
   "metadata": {},
   "source": [
    "### 1.f Average weather and rating per year"
   ]
  },
  {
   "cell_type": "code",
   "execution_count": 17,
   "metadata": {},
   "outputs": [
    {
     "name": "stderr",
     "output_type": "stream",
     "text": [
      "C:\\Users\\galic156685\\AppData\\Local\\Continuum\\anaconda3\\lib\\site-packages\\ipykernel_launcher.py:1: FutureWarning: Indexing with multiple keys (implicitly converted to a tuple of keys) will be deprecated, use a list instead.\n",
      "  \"\"\"Entry point for launching an IPython kernel.\n"
     ]
    }
   ],
   "source": [
    "data_sum=data.groupby(\"year\")[\"TAVG\",\"rating\"].agg(\"mean\").reset_index()"
   ]
  },
  {
   "cell_type": "code",
   "execution_count": 18,
   "metadata": {},
   "outputs": [
    {
     "data": {
      "image/png": "[encoded data removed]",
      "text/plain": [
       "<Figure size 864x504 with 2 Axes>"
      ]
     },
     "metadata": {
      "needs_background": "light"
     },
     "output_type": "display_data"
    }
   ],
   "source": [
    "# create figure and axis objects with subplots()\n",
    "fig,ax = plt.subplots(figsize = (12,7))\n",
    "# make a plot\n",
    "ax.plot(data_sum.year, data_sum.rating, color =\"blue\", marker = \"o\")\n",
    "# set x-axis label\n",
    "ax.set_xlabel(\"Years\",fontsize = 14)\n",
    "# set y-axis label\n",
    "ax.set_ylabel(\"Average rating by year\", color=\"blue\", fontsize = 14)\n",
    "# twin object for two different y-axis on the sample plot\n",
    "ax2=ax.twinx()\n",
    "# make a plot with different y-axis using second axis object\n",
    "ax2.plot(data_sum.year, data_sum.TAVG, color=\"red\", marker = \"o\")\n",
    "#ax2.plot(data_sum.year, a.TMIN,color=\"cyan\",marker=\"o\")\n",
    "#ax2.plot(data_sum.year, data_sum.TMAX,color=\"red\",marker=\"o\")\n",
    "ax2.set_ylabel(\"Average temp. by year (C°)\", color=\"red\", fontsize=14)\n",
    "plt.show()"
   ]
  },
  {
   "cell_type": "markdown",
   "metadata": {},
   "source": [
    "# 2. Analysis (focus on Bordeaux)"
   ]
  },
  {
   "cell_type": "markdown",
   "metadata": {},
   "source": [
    "### 2.a Weather evolution and ratings over the last 20 years for Bordeaux"
   ]
  },
  {
   "cell_type": "code",
   "execution_count": 21,
   "metadata": {},
   "outputs": [],
   "source": [
    "bdx=data[data.station=='BORDEAUX MERIGNAC, FR']"
   ]
  },
  {
   "cell_type": "code",
   "execution_count": 22,
   "metadata": {
    "scrolled": true
   },
   "outputs": [],
   "source": [
    "a=bdx.groupby(\"year\")[\"rating\"].agg(\"mean\").reset_index()\n",
    "b=bdx.groupby(\"year\")[\"TAVG\"].agg(\"mean\").reset_index()"
   ]
  },
  {
   "cell_type": "code",
   "execution_count": 23,
   "metadata": {},
   "outputs": [
    {
     "data": {
      "image/png": "[encoded data removed]",
      "text/plain": [
       "<Figure size 720x360 with 2 Axes>"
      ]
     },
     "metadata": {
      "needs_background": "light"
     },
     "output_type": "display_data"
    }
   ],
   "source": [
    "# create figure and axis objects with subplots()\n",
    "fig,ax = plt.subplots(figsize= (10,5))\n",
    "# make a plot\n",
    "ax.plot(a.year, a.rating, color=\"green\", marker=\"o\")\n",
    "# set x-axis label\n",
    "ax.set_xlabel(\"year\",fontsize=14)\n",
    "# set y-axis label\n",
    "ax.set_ylabel(\"rating\",color=\"green\",fontsize=14)\n",
    "# twin object for two different y-axis on the sample plot\n",
    "ax2=ax.twinx()\n",
    "# make a plot with different y-axis using second axis object\n",
    "ax2.plot(b.year, b.TAVG,color=\"blue\",marker=\"o\")\n",
    "ax2.set_ylabel(\"TAVG\",color=\"blue\",fontsize=14)\n",
    "plt.show()"
   ]
  },
  {
   "cell_type": "code",
   "execution_count": 24,
   "metadata": {},
   "outputs": [
    {
     "name": "stderr",
     "output_type": "stream",
     "text": [
      "C:\\Users\\galic156685\\AppData\\Local\\Continuum\\anaconda3\\lib\\site-packages\\ipykernel_launcher.py:1: FutureWarning: Indexing with multiple keys (implicitly converted to a tuple of keys) will be deprecated, use a list instead.\n",
      "  \"\"\"Entry point for launching an IPython kernel.\n"
     ]
    }
   ],
   "source": [
    "bdx_sum=bdx.groupby(\"year\")[\"TAVG\",\"TMAX\",\"TMIN\",\"rating\",\"PRCP\"].agg(\"mean\").reset_index()"
   ]
  },
  {
   "cell_type": "code",
   "execution_count": 25,
   "metadata": {},
   "outputs": [
    {
     "data": {
      "image/png": "[encoded data removed]",
      "text/plain": [
       "<Figure size 864x504 with 2 Axes>"
      ]
     },
     "metadata": {
      "needs_background": "light"
     },
     "output_type": "display_data"
    }
   ],
   "source": [
    "# create figure and axis objects with subplots()\n",
    "fig,ax = plt.subplots(figsize = (12,7))\n",
    "# make a plot\n",
    "ax.bar(bdx_sum.year, bdx_sum.PRCP, color =\"blue\", width=0.2, fill=True, alpha = 0.4)\n",
    "# set x-axis label\n",
    "ax.set_xlabel(\"year\",fontsize = 14)\n",
    "ax.set_ylim(0, 150)\n",
    "# set y-axis label\n",
    "ax.set_ylabel(\"Pmm\", color=\"blue\", fontsize = 14)\n",
    "# twin object for two different y-axis on the sample plot\n",
    "ax2=ax.twinx()\n",
    "# make a plot with different y-axis using second axis object\n",
    "ax2.plot(bdx_sum.year, bdx_sum[\"TAVG\"],color=\"orange\",marker=\"o\")\n",
    "ax2.plot(bdx_sum.year, bdx_sum[\"TMIN\"],color=\"green\",marker=\"o\")\n",
    "ax2.plot(bdx_sum.year, bdx_sum[\"TMAX\"],color=\"red\",marker=\"o\")\n",
    "ax2.set_ylabel(\"Temp (C°)\", fontsize=14)\n",
    "ax2.set_ylim(0, 22)\n",
    "plt.show()"
   ]
  },
  {
   "cell_type": "markdown",
   "metadata": {},
   "source": [
    "### 2.b Correlation "
   ]
  },
  {
   "cell_type": "code",
   "execution_count": 38,
   "metadata": {},
   "outputs": [
    {
     "data": {
      "text/plain": [
       "Text(0.5, 1, 'Correlation Matrix')"
      ]
     },
     "execution_count": 38,
     "metadata": {},
     "output_type": "execute_result"
    },
    {
     "data": {
      "image/png": "[encoded data removed]",
      "text/plain": [
       "<Figure size 432x288 with 2 Axes>"
      ]
     },
     "metadata": {
      "needs_background": "light"
     },
     "output_type": "display_data"
    }
   ],
   "source": [
    "sns.heatmap(data.corr(),cmap='coolwarm')\n",
    "plt.title('Correlation Matrix')"
   ]
  },
  {
   "cell_type": "code",
   "execution_count": 26,
   "metadata": {},
   "outputs": [
    {
     "data": {
      "text/plain": [
       "<matplotlib.axes._subplots.AxesSubplot at 0x6a38b104c8>"
      ]
     },
     "execution_count": 26,
     "metadata": {},
     "output_type": "execute_result"
    },
    {
     "data": {
      "image/png": "[encoded data removed]",
      "text/plain": [
       "<Figure size 432x288 with 1 Axes>"
      ]
     },
     "metadata": {
      "needs_background": "light"
     },
     "output_type": "display_data"
    }
   ],
   "source": [
    "\"\"\"bdx=data[data.station=='BORDEAUX MERIGNAC, FR']\n",
    "cdn=data[(data.station=='DIJON LONGVIC, FR') & (data['region']=='cote-de-beaune')]\n",
    "cdb=data[(data.station=='DIJON LONGVIC, FR') & (data['region']=='cote-de-nuit')]\n",
    "lr=data[data.station=='MONTPELLIER AEROPORT, FR']\n",
    "rh=data[data.station=='LYON ST EXUPERY, FR']\n",
    "lv=data[data.station=='NANTES BOUGUENAIS, FR']\n",
    "chmp=data[data.station=='REIMS PRUNAY, FR']\n",
    "als=data[data.station=='STRASBOURG ENTZHEIM, FR']\n",
    "cdp=data[data.station=='MONTELIMAR, FR']\n",
    "brg=data[(data.station=='DIJON LONGVIC, FR') & (data['region']=='bourgogne')]\"\"\"\n",
    "\n",
    "\n",
    "bdx=data[data.station=='BORDEAUX MERIGNAC, FR']\n",
    "#For all graphs sns.pairplot(bdx5, diag_kind = 'kde', plot_kws = {'alpha': 0.6, 's': 80, 'edgecolor': 'k'})\n",
    "sns.regplot(bdx.rating, bdx.year, scatter=True)"
   ]
  },
  {
   "cell_type": "markdown",
   "metadata": {},
   "source": [
    "#### => Correlation, for Bordeaux the scope of the ratings become narrow with age. After 20 years most of them are > 3.75"
   ]
  },
  {
   "cell_type": "code",
   "execution_count": 27,
   "metadata": {},
   "outputs": [
    {
     "data": {
      "text/plain": [
       "<matplotlib.axes._subplots.AxesSubplot at 0x6a41c68f08>"
      ]
     },
     "execution_count": 27,
     "metadata": {},
     "output_type": "execute_result"
    },
    {
     "data": {
      "image/png": "[encoded data removed]",
      "text/plain": [
       "<Figure size 432x288 with 1 Axes>"
      ]
     },
     "metadata": {
      "needs_background": "light"
     },
     "output_type": "display_data"
    }
   ],
   "source": [
    "brg=data[(data.station=='DIJON LONGVIC, FR') & (data['region']=='bourgogne')]\n",
    "sns.regplot(brg.rating, brg.year, scatter=True)"
   ]
  },
  {
   "cell_type": "markdown",
   "metadata": {},
   "source": [
    "#### => No correlation between age and rating for Bourgogne"
   ]
  },
  {
   "cell_type": "markdown",
   "metadata": {},
   "source": [
    "### 2.c \"Interval de confiance\" on age and rating"
   ]
  },
  {
   "cell_type": "markdown",
   "metadata": {},
   "source": [
    "#### \"You randomly take one french bootle from vivino what is your %chance to get a 4.5/5 rated bottle with 99% confidence\""
   ]
  },
  {
   "cell_type": "code",
   "execution_count": 28,
   "metadata": {},
   "outputs": [],
   "source": [
    "total_french_bottles_sample = 10750\n",
    "\n",
    "p_4 = data[data['rating']>4.5].count()/12\n",
    "p_4['year']\n",
    "p_4over5 = p_4['year'] / total_french_bottles_sample"
   ]
  },
  {
   "cell_type": "code",
   "execution_count": 29,
   "metadata": {},
   "outputs": [],
   "source": [
    "se = (p_4over5*(1-p_4over5)/total_french_bottles_sample)**0.5\n",
    "conf_inter = st.norm.interval(0.99,loc=p_4over5, scale=se)"
   ]
  },
  {
   "cell_type": "code",
   "execution_count": 30,
   "metadata": {},
   "outputs": [
    {
     "data": {
      "text/plain": [
       "(0.0480753368092209, 0.059273500400081426)"
      ]
     },
     "execution_count": 30,
     "metadata": {},
     "output_type": "execute_result"
    }
   ],
   "source": [
    "conf_inter"
   ]
  },
  {
   "cell_type": "markdown",
   "metadata": {},
   "source": [
    "#### => We have between 4.8% and 5.3% chance to have a bottle with a rating > 4.5/5 from our sample of 10 750 bottles with a 99% confidence "
   ]
  },
  {
   "cell_type": "markdown",
   "metadata": {},
   "source": [
    "### 2.c Two samples case for independant hypothesis"
   ]
  },
  {
   "cell_type": "markdown",
   "metadata": {},
   "source": [
    "#### H0 : rating 2015 = rating 2016\n",
    "#### H1 : rating 2015 = rating 2016"
   ]
  },
  {
   "cell_type": "code",
   "execution_count": 31,
   "metadata": {},
   "outputs": [
    {
     "data": {
      "text/plain": [
       "28788    3.5\n",
       "28789    4.1\n",
       "28790    4.0\n",
       "28791    4.0\n",
       "28792    3.8\n",
       "        ... \n",
       "95072    4.1\n",
       "95073    4.1\n",
       "95074    4.1\n",
       "95075    4.1\n",
       "95076    4.1\n",
       "Name: rating, Length: 9972, dtype: float64"
      ]
     },
     "execution_count": 31,
     "metadata": {},
     "output_type": "execute_result"
    }
   ],
   "source": [
    "data_2015 = data[data['year']==2015]\n",
    "data_2015 = data_2015.rating\n",
    "data_2015"
   ]
  },
  {
   "cell_type": "code",
   "execution_count": 32,
   "metadata": {},
   "outputs": [
    {
     "data": {
      "text/plain": [
       "16908    3.9\n",
       "16909    3.9\n",
       "16910    4.3\n",
       "16911    3.9\n",
       "16912    4.0\n",
       "        ... \n",
       "78800    4.4\n",
       "78801    4.4\n",
       "78802    4.4\n",
       "78803    4.4\n",
       "78804    4.4\n",
       "Name: rating, Length: 13824, dtype: float64"
      ]
     },
     "execution_count": 32,
     "metadata": {},
     "output_type": "execute_result"
    }
   ],
   "source": [
    "data_2016 = data[data['year']==2016]\n",
    "data_2016 = data_2016.rating\n",
    "data_2016"
   ]
  },
  {
   "cell_type": "code",
   "execution_count": 33,
   "metadata": {},
   "outputs": [
    {
     "data": {
      "text/plain": [
       "58068    4.2\n",
       "58069    4.0\n",
       "58070    4.0\n",
       "58071    4.0\n",
       "58072    4.1\n",
       "        ... \n",
       "95608    4.4\n",
       "95609    4.4\n",
       "95610    4.4\n",
       "95611    4.4\n",
       "95612    4.4\n",
       "Name: rating, Length: 3108, dtype: float64"
      ]
     },
     "execution_count": 33,
     "metadata": {},
     "output_type": "execute_result"
    }
   ],
   "source": [
    "data_2005 = data[data['year']==2005]\n",
    "data_2005 = data_2005.rating\n",
    "data_2005"
   ]
  },
  {
   "cell_type": "code",
   "execution_count": 34,
   "metadata": {},
   "outputs": [
    {
     "data": {
      "text/plain": [
       "Ttest_indResult(statistic=3.0087669924426015, pvalue=0.0026258464270198156)"
      ]
     },
     "execution_count": 34,
     "metadata": {},
     "output_type": "execute_result"
    }
   ],
   "source": [
    "st.ttest_ind(data_2015,data_2016, equal_var=True)"
   ]
  },
  {
   "cell_type": "code",
   "execution_count": 35,
   "metadata": {},
   "outputs": [
    {
     "data": {
      "text/plain": [
       "Ttest_indResult(statistic=48.72818501394779, pvalue=0.0)"
      ]
     },
     "execution_count": 35,
     "metadata": {},
     "output_type": "execute_result"
    }
   ],
   "source": [
    "st.ttest_ind(data_2005,data_2015, equal_var=True)"
   ]
  },
  {
   "cell_type": "markdown",
   "metadata": {},
   "source": [
    "#### => We can conclude that the older is a wine the higher is the probability to reduce the scope of the ratings to the upper side (x48)"
   ]
  },
  {
   "cell_type": "markdown",
   "metadata": {},
   "source": [
    "# 3. CONCLUSION"
   ]
  },
  {
   "cell_type": "markdown",
   "metadata": {},
   "source": [
    "#### 1 => Weather (temperature + precipitation) data are not suffisant to explain the rating of one domain\n",
    "#### 2 => On our focus : Bordeaux. We can see that the age can partially explain the rating"
   ]
  },
  {
   "cell_type": "markdown",
   "metadata": {},
   "source": [
    "# 4. NEXT STEPS"
   ]
  },
  {
   "cell_type": "markdown",
   "metadata": {},
   "source": [
    "#### Step 1 : Tacles those limits : \n",
    "##### - stations per region / appelation, \n",
    "##### - size of the sample, months VS year, \n",
    "##### - the split per geographic unity (Bordeaux cf cote de beaune), \n",
    "##### - only 20 years instead of 50 years,\n",
    "##### - sample not choosen based on a commercial selection (with duplicates) \n",
    "##### - sample not representative (only 5%) "
   ]
  },
  {
   "cell_type": "markdown",
   "metadata": {},
   "source": [
    "#### Step 2 : drilldown into \"cuvee\" granularity (based on ID)"
   ]
  },
  {
   "cell_type": "markdown",
   "metadata": {},
   "source": [
    "#### Step 3 : predict the futur rating of on ID bottle of one domain of one appelation of one region of one station based on the last 12 month weather"
   ]
  },
  {
   "cell_type": "code",
   "execution_count": null,
   "metadata": {},
   "outputs": [],
   "source": []
  }
 ],
 "metadata": {
  "kernelspec": {
   "display_name": "Python 3",
   "language": "python",
   "name": "python3"
  },
  "language_info": {
   "codemirror_mode": {
    "name": "ipython",
    "version": 3
   },
   "file_extension": ".py",
   "mimetype": "text/x-python",
   "name": "python",
   "nbconvert_exporter": "python",
   "pygments_lexer": "ipython3",
   "version": "3.7.7"
  }
 },
 "nbformat": 4,
 "nbformat_minor": 4
}
