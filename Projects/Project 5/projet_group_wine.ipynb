{
 "cells": [
  {
   "cell_type": "code",
   "execution_count": 51,
   "metadata": {},
   "outputs": [],
   "source": [
    "import pandas as pd\n",
    "import requests as r\n",
    "import json\n",
    "import time\n",
    "import matplotlib.pyplot as plt\n",
    "import re\n",
    "import numpy as np"
   ]
  },
  {
   "cell_type": "code",
   "execution_count": 52,
   "metadata": {},
   "outputs": [
    {
     "name": "stdout",
     "output_type": "stream",
     "text": [
      "BIENVENUE\n"
     ]
    }
   ],
   "source": [
    "print('BIENVENUE')\n",
    "\n",
    "data_w = pd.read_csv(\"2120116_V2.csv\", sep =\";\")\n",
    "data_v = pd.read_csv(\"vivino.csv\", sep=\",\")\n",
    "\n",
    "#check\n",
    "#print(data_w.head())\n",
    "#print(data.columns)\n",
    "#print(data.shape)\n",
    "#print(data.describe())\n",
    "#print(data['NAME'].value_counts())\n",
    "\n",
    "#print(data[data['NAME']=='REIMS PRUNAY, FR'].groupby('DATE').count())\n",
    "#print(data.NAME.value_counts())\n",
    "\n",
    "#df.DATE[(df.NAME=='REIMS PRUNAY, FR')]\n",
    "\n",
    "dct_stations = {'bordeaux': 'BORDEAUX MERIGNAC, FR',\n",
    "       'languedoc-roussillon':  'MONTPELLIER AEROPORT, FR',\n",
    "       'cote-de-beaune': 'DIJON LONGVIC, FR',\n",
    "       'cote-de-nuits': 'DIJON LONGVIC, FR' ,\n",
    "       'rhone': 'LYON ST EXUPERY, FR',\n",
    "       'loire-valley': 'NANTES BOUGUENAIS, FR',\n",
    "       'bourgogne': 'DIJON LONGVIC, FR',\n",
    "       'champagne': 'REIMS PRUNAY, FR',\n",
    "       'alsace': 'STRASBOURG ENTZHEIM, FR',\n",
    "       'chateauneuf-du-pape': 'MONTELIMAR, FR'}\n",
    "\n",
    "### READ DF VIVINO\n",
    "\n",
    "data_v['station']=data_v[\"vintage.wine.style.region.seo_name\"].map(dct_stations)\n",
    "\n",
    "#print(data_v.head())\n",
    "\n",
    "#print(data_v.groupby('station').count())\n",
    "\n",
    "def liste(c):\n",
    "    N=[]\n",
    "    for i in range(1,13):\n",
    "        if i<10 :\n",
    "            N.append(str(c)+str('-')+str(0)+str(i))\n",
    "        else : \n",
    "            N.append(str(c)+str('-')+str(i))\n",
    "    return N\n",
    "\n",
    "def splitDataFrameList(df,target_column,separator):\n",
    "    ''' df = dataframe to split,\n",
    "    target_column = the column containing the values to split\n",
    "    separator = the symbol used to perform the split\n",
    "    returns: a dataframe with each entry for the target column separated, with each element moved into a new row. \n",
    "    The values in the other columns are duplicated across the newly divided rows.\n",
    "    '''\n",
    "    def splitListToRows(row,row_accumulator,target_column,separator):\n",
    "        split_row = row[target_column]\n",
    "        for s in split_row:\n",
    "            new_row = row.to_dict()\n",
    "            new_row[target_column] = s\n",
    "            row_accumulator.append(new_row)\n",
    "    new_rows = []\n",
    "    df.apply(splitListToRows,axis=1,args = (new_rows,target_column,separator))\n",
    "    new_df = pd.DataFrame(new_rows)\n",
    "    return new_df\n",
    "\n",
    "data_v['Year'] = data_v.apply(lambda row:(liste(row['vintage.year'])),axis=1)\n",
    "\n",
    "data_v=splitDataFrameList(df=data_v, target_column=\"Year\",separator=\",\")\n"
   ]
  },
  {
   "cell_type": "code",
   "execution_count": 53,
   "metadata": {},
   "outputs": [
    {
     "name": "stdout",
     "output_type": "stream",
     "text": [
      "<class 'pandas.core.frame.DataFrame'>\n",
      "Int64Index: 8149 entries, 0 to 8148\n",
      "Data columns (total 21 columns):\n",
      " #   Column                              Non-Null Count  Dtype  \n",
      "---  ------                              --------------  -----  \n",
      " 0   Unnamed: 0                          8149 non-null   int64  \n",
      " 1   vintage.wine.winery.seo_name        8149 non-null   object \n",
      " 2   vintage.wine.winery.name            8149 non-null   object \n",
      " 3   vintage.wine.name                   8149 non-null   object \n",
      " 4   vintage.year                        8149 non-null   object \n",
      " 5   vintage.statistics.ratings_average  8149 non-null   float64\n",
      " 6   vintage.wine.region.name            8149 non-null   object \n",
      " 7   vintage.wine.region.seo_name        8149 non-null   object \n",
      " 8   vintage.wine.style.region.seo_name  8149 non-null   object \n",
      " 9   station                             8149 non-null   object \n",
      " 10  Year                                8149 non-null   object \n",
      " 11  join                                8149 non-null   object \n",
      " 12  STATION                             8149 non-null   object \n",
      " 13  NAME                                8149 non-null   object \n",
      " 14  DATE                                8149 non-null   object \n",
      " 15  CLDD                                8141 non-null   float64\n",
      " 16  HTDD                                8141 non-null   float64\n",
      " 17  PRCP                                8149 non-null   float64\n",
      " 18  TAVG                                8149 non-null   float64\n",
      " 19  TMAX                                8149 non-null   float64\n",
      " 20  TMIN                                8149 non-null   float64\n",
      "dtypes: float64(7), int64(1), object(13)\n",
      "memory usage: 1.4+ MB\n",
      "None\n"
     ]
    },
    {
     "data": {
      "text/html": [
       "<div>\n",
       "<style scoped>\n",
       "    .dataframe tbody tr th:only-of-type {\n",
       "        vertical-align: middle;\n",
       "    }\n",
       "\n",
       "    .dataframe tbody tr th {\n",
       "        vertical-align: top;\n",
       "    }\n",
       "\n",
       "    .dataframe thead th {\n",
       "        text-align: right;\n",
       "    }\n",
       "</style>\n",
       "<table border=\"1\" class=\"dataframe\">\n",
       "  <thead>\n",
       "    <tr style=\"text-align: right;\">\n",
       "      <th></th>\n",
       "      <th>Unnamed: 0</th>\n",
       "      <th>vintage.wine.winery.seo_name</th>\n",
       "      <th>vintage.wine.winery.name</th>\n",
       "      <th>vintage.wine.name</th>\n",
       "      <th>vintage.year</th>\n",
       "      <th>vintage.statistics.ratings_average</th>\n",
       "      <th>vintage.wine.region.name</th>\n",
       "      <th>vintage.wine.region.seo_name</th>\n",
       "      <th>vintage.wine.style.region.seo_name</th>\n",
       "      <th>station</th>\n",
       "      <th>...</th>\n",
       "      <th>join</th>\n",
       "      <th>STATION</th>\n",
       "      <th>NAME</th>\n",
       "      <th>DATE</th>\n",
       "      <th>CLDD</th>\n",
       "      <th>HTDD</th>\n",
       "      <th>PRCP</th>\n",
       "      <th>TAVG</th>\n",
       "      <th>TMAX</th>\n",
       "      <th>TMIN</th>\n",
       "    </tr>\n",
       "  </thead>\n",
       "  <tbody>\n",
       "    <tr>\n",
       "      <th>0</th>\n",
       "      <td>0</td>\n",
       "      <td>chateau-batailley</td>\n",
       "      <td>Château Batailley</td>\n",
       "      <td>Pauillac (Grand Cru Classé)</td>\n",
       "      <td>2013</td>\n",
       "      <td>4.1</td>\n",
       "      <td>Pauillac</td>\n",
       "      <td>pauillac</td>\n",
       "      <td>bordeaux</td>\n",
       "      <td>BORDEAUX MERIGNAC, FR</td>\n",
       "      <td>...</td>\n",
       "      <td>BORDEAUX MERIGNAC, FR2013-01</td>\n",
       "      <td>FR000007510</td>\n",
       "      <td>BORDEAUX MERIGNAC, FR</td>\n",
       "      <td>2013-01</td>\n",
       "      <td>0.0</td>\n",
       "      <td>339.1</td>\n",
       "      <td>138.0</td>\n",
       "      <td>6.7</td>\n",
       "      <td>9.6</td>\n",
       "      <td>3.8</td>\n",
       "    </tr>\n",
       "    <tr>\n",
       "      <th>1</th>\n",
       "      <td>8</td>\n",
       "      <td>chateau-de-chantegrive</td>\n",
       "      <td>Château de Chantegrive</td>\n",
       "      <td>Graves</td>\n",
       "      <td>2013</td>\n",
       "      <td>3.7</td>\n",
       "      <td>Graves</td>\n",
       "      <td>graves</td>\n",
       "      <td>bordeaux</td>\n",
       "      <td>BORDEAUX MERIGNAC, FR</td>\n",
       "      <td>...</td>\n",
       "      <td>BORDEAUX MERIGNAC, FR2013-01</td>\n",
       "      <td>FR000007510</td>\n",
       "      <td>BORDEAUX MERIGNAC, FR</td>\n",
       "      <td>2013-01</td>\n",
       "      <td>0.0</td>\n",
       "      <td>339.1</td>\n",
       "      <td>138.0</td>\n",
       "      <td>6.7</td>\n",
       "      <td>9.6</td>\n",
       "      <td>3.8</td>\n",
       "    </tr>\n",
       "    <tr>\n",
       "      <th>2</th>\n",
       "      <td>0</td>\n",
       "      <td>pontac-lynch</td>\n",
       "      <td>Château Pontac Lynch</td>\n",
       "      <td>Margaux</td>\n",
       "      <td>2013</td>\n",
       "      <td>4.1</td>\n",
       "      <td>Margaux</td>\n",
       "      <td>margaux</td>\n",
       "      <td>bordeaux</td>\n",
       "      <td>BORDEAUX MERIGNAC, FR</td>\n",
       "      <td>...</td>\n",
       "      <td>BORDEAUX MERIGNAC, FR2013-01</td>\n",
       "      <td>FR000007510</td>\n",
       "      <td>BORDEAUX MERIGNAC, FR</td>\n",
       "      <td>2013-01</td>\n",
       "      <td>0.0</td>\n",
       "      <td>339.1</td>\n",
       "      <td>138.0</td>\n",
       "      <td>6.7</td>\n",
       "      <td>9.6</td>\n",
       "      <td>3.8</td>\n",
       "    </tr>\n",
       "    <tr>\n",
       "      <th>3</th>\n",
       "      <td>10</td>\n",
       "      <td>chateau-trotte-vieille</td>\n",
       "      <td>Château Trotte Vieille</td>\n",
       "      <td>Saint-Émilion Grand Cru (Premier Grand Cru Cla...</td>\n",
       "      <td>2013</td>\n",
       "      <td>3.7</td>\n",
       "      <td>Saint-Émilion Grand Cru</td>\n",
       "      <td>st-emilion-grand-cru</td>\n",
       "      <td>bordeaux</td>\n",
       "      <td>BORDEAUX MERIGNAC, FR</td>\n",
       "      <td>...</td>\n",
       "      <td>BORDEAUX MERIGNAC, FR2013-01</td>\n",
       "      <td>FR000007510</td>\n",
       "      <td>BORDEAUX MERIGNAC, FR</td>\n",
       "      <td>2013-01</td>\n",
       "      <td>0.0</td>\n",
       "      <td>339.1</td>\n",
       "      <td>138.0</td>\n",
       "      <td>6.7</td>\n",
       "      <td>9.6</td>\n",
       "      <td>3.8</td>\n",
       "    </tr>\n",
       "    <tr>\n",
       "      <th>4</th>\n",
       "      <td>18</td>\n",
       "      <td>chateau-lynch-moussas</td>\n",
       "      <td>Château Lynch-Moussas</td>\n",
       "      <td>Pauillac (Grand Cru Classé)</td>\n",
       "      <td>2013</td>\n",
       "      <td>3.9</td>\n",
       "      <td>Pauillac</td>\n",
       "      <td>pauillac</td>\n",
       "      <td>bordeaux</td>\n",
       "      <td>BORDEAUX MERIGNAC, FR</td>\n",
       "      <td>...</td>\n",
       "      <td>BORDEAUX MERIGNAC, FR2013-01</td>\n",
       "      <td>FR000007510</td>\n",
       "      <td>BORDEAUX MERIGNAC, FR</td>\n",
       "      <td>2013-01</td>\n",
       "      <td>0.0</td>\n",
       "      <td>339.1</td>\n",
       "      <td>138.0</td>\n",
       "      <td>6.7</td>\n",
       "      <td>9.6</td>\n",
       "      <td>3.8</td>\n",
       "    </tr>\n",
       "  </tbody>\n",
       "</table>\n",
       "<p>5 rows × 21 columns</p>\n",
       "</div>"
      ],
      "text/plain": [
       "   Unnamed: 0 vintage.wine.winery.seo_name vintage.wine.winery.name  \\\n",
       "0           0            chateau-batailley        Château Batailley   \n",
       "1           8       chateau-de-chantegrive   Château de Chantegrive   \n",
       "2           0                 pontac-lynch     Château Pontac Lynch   \n",
       "3          10       chateau-trotte-vieille   Château Trotte Vieille   \n",
       "4          18        chateau-lynch-moussas    Château Lynch-Moussas   \n",
       "\n",
       "                                   vintage.wine.name vintage.year  \\\n",
       "0                        Pauillac (Grand Cru Classé)         2013   \n",
       "1                                             Graves         2013   \n",
       "2                                            Margaux         2013   \n",
       "3  Saint-Émilion Grand Cru (Premier Grand Cru Cla...         2013   \n",
       "4                        Pauillac (Grand Cru Classé)         2013   \n",
       "\n",
       "   vintage.statistics.ratings_average vintage.wine.region.name  \\\n",
       "0                                 4.1                 Pauillac   \n",
       "1                                 3.7                   Graves   \n",
       "2                                 4.1                  Margaux   \n",
       "3                                 3.7  Saint-Émilion Grand Cru   \n",
       "4                                 3.9                 Pauillac   \n",
       "\n",
       "  vintage.wine.region.seo_name vintage.wine.style.region.seo_name  \\\n",
       "0                     pauillac                           bordeaux   \n",
       "1                       graves                           bordeaux   \n",
       "2                      margaux                           bordeaux   \n",
       "3         st-emilion-grand-cru                           bordeaux   \n",
       "4                     pauillac                           bordeaux   \n",
       "\n",
       "                 station  ...                          join      STATION  \\\n",
       "0  BORDEAUX MERIGNAC, FR  ...  BORDEAUX MERIGNAC, FR2013-01  FR000007510   \n",
       "1  BORDEAUX MERIGNAC, FR  ...  BORDEAUX MERIGNAC, FR2013-01  FR000007510   \n",
       "2  BORDEAUX MERIGNAC, FR  ...  BORDEAUX MERIGNAC, FR2013-01  FR000007510   \n",
       "3  BORDEAUX MERIGNAC, FR  ...  BORDEAUX MERIGNAC, FR2013-01  FR000007510   \n",
       "4  BORDEAUX MERIGNAC, FR  ...  BORDEAUX MERIGNAC, FR2013-01  FR000007510   \n",
       "\n",
       "                    NAME     DATE CLDD   HTDD   PRCP  TAVG  TMAX  TMIN  \n",
       "0  BORDEAUX MERIGNAC, FR  2013-01  0.0  339.1  138.0   6.7   9.6   3.8  \n",
       "1  BORDEAUX MERIGNAC, FR  2013-01  0.0  339.1  138.0   6.7   9.6   3.8  \n",
       "2  BORDEAUX MERIGNAC, FR  2013-01  0.0  339.1  138.0   6.7   9.6   3.8  \n",
       "3  BORDEAUX MERIGNAC, FR  2013-01  0.0  339.1  138.0   6.7   9.6   3.8  \n",
       "4  BORDEAUX MERIGNAC, FR  2013-01  0.0  339.1  138.0   6.7   9.6   3.8  \n",
       "\n",
       "[5 rows x 21 columns]"
      ]
     },
     "execution_count": 53,
     "metadata": {},
     "output_type": "execute_result"
    }
   ],
   "source": [
    "#print(data_v.info())\n",
    "\n",
    "data_v['join']=data_v.apply(lambda row:(str(row['station'])) +((str(row['Year']))),axis=1)\n",
    "data_w['join']=data_w.apply(lambda row:(row['NAME'])+(row['DATE']),axis=1)\n",
    "####### JOIN\n",
    "\n",
    "#print(data_v['join'][0])\n",
    "#print(data_w['join'][0])\n",
    "\n",
    "#data_full = data_v.join(data_w, lsuffix='_caller', rsuffix='_other')\n",
    "\n",
    "#data_full.to_csv(\"data_full_V1.csv\", index = False)\n",
    "\n",
    "data=data_v.merge(data_w,on='join')\n",
    "\n",
    "print(data.info())\n",
    "\n",
    "#result = pd.merge(data_v,  data_w,  on ='join_caller',  how ='inner') \n",
    "\n",
    "data.head()"
   ]
  },
  {
   "cell_type": "code",
   "execution_count": null,
   "metadata": {},
   "outputs": [],
   "source": []
  },
  {
   "cell_type": "code",
   "execution_count": null,
   "metadata": {},
   "outputs": [],
   "source": []
  },
  {
   "cell_type": "code",
   "execution_count": null,
   "metadata": {},
   "outputs": [],
   "source": []
  },
  {
   "cell_type": "code",
   "execution_count": null,
   "metadata": {},
   "outputs": [],
   "source": []
  },
  {
   "cell_type": "code",
   "execution_count": null,
   "metadata": {},
   "outputs": [],
   "source": []
  },
  {
   "cell_type": "code",
   "execution_count": null,
   "metadata": {},
   "outputs": [],
   "source": []
  },
  {
   "cell_type": "code",
   "execution_count": 54,
   "metadata": {},
   "outputs": [
    {
     "data": {
      "text/plain": [
       "STATION    428\n",
       "NAME       428\n",
       "DATE       428\n",
       "CLDD       441\n",
       "HTDD       441\n",
       "PRCP       428\n",
       "TAVG       428\n",
       "TMAX       428\n",
       "TMIN       428\n",
       "join       428\n",
       "dtype: int64"
      ]
     },
     "execution_count": 54,
     "metadata": {},
     "output_type": "execute_result"
    }
   ],
   "source": [
    "data_v.isna().sum()\n",
    "data_w.isna().sum()"
   ]
  },
  {
   "cell_type": "code",
   "execution_count": 55,
   "metadata": {},
   "outputs": [],
   "source": [
    "data_v[\"vintage.year\"]=data_v[\"vintage.year\"].replace(\"N.V.\",0)"
   ]
  },
  {
   "cell_type": "code",
   "execution_count": 56,
   "metadata": {},
   "outputs": [],
   "source": [
    "data_v[\"vintage.year\"]=data_v.astype({\"vintage.year\":\"int\"}).dtypes"
   ]
  },
  {
   "cell_type": "code",
   "execution_count": 57,
   "metadata": {},
   "outputs": [
    {
     "data": {
      "text/html": [
       "<div>\n",
       "<style scoped>\n",
       "    .dataframe tbody tr th:only-of-type {\n",
       "        vertical-align: middle;\n",
       "    }\n",
       "\n",
       "    .dataframe tbody tr th {\n",
       "        vertical-align: top;\n",
       "    }\n",
       "\n",
       "    .dataframe thead th {\n",
       "        text-align: right;\n",
       "    }\n",
       "</style>\n",
       "<table border=\"1\" class=\"dataframe\">\n",
       "  <thead>\n",
       "    <tr style=\"text-align: right;\">\n",
       "      <th></th>\n",
       "      <th>Unnamed: 0</th>\n",
       "      <th>vintage.wine.winery.seo_name</th>\n",
       "      <th>vintage.wine.winery.name</th>\n",
       "      <th>vintage.wine.name</th>\n",
       "      <th>vintage.year</th>\n",
       "      <th>vintage.statistics.ratings_average</th>\n",
       "      <th>vintage.wine.region.name</th>\n",
       "      <th>vintage.wine.region.seo_name</th>\n",
       "      <th>vintage.wine.style.region.seo_name</th>\n",
       "      <th>station</th>\n",
       "      <th>Year</th>\n",
       "      <th>join</th>\n",
       "    </tr>\n",
       "  </thead>\n",
       "  <tbody>\n",
       "  </tbody>\n",
       "</table>\n",
       "</div>"
      ],
      "text/plain": [
       "Empty DataFrame\n",
       "Columns: [Unnamed: 0, vintage.wine.winery.seo_name, vintage.wine.winery.name, vintage.wine.name, vintage.year, vintage.statistics.ratings_average, vintage.wine.region.name, vintage.wine.region.seo_name, vintage.wine.style.region.seo_name, station, Year, join]\n",
       "Index: []"
      ]
     },
     "execution_count": 57,
     "metadata": {},
     "output_type": "execute_result"
    }
   ],
   "source": [
    "data_v[data_v[\"vintage.year\"]<1998]"
   ]
  },
  {
   "cell_type": "code",
   "execution_count": null,
   "metadata": {},
   "outputs": [],
   "source": []
  },
  {
   "cell_type": "code",
   "execution_count": 58,
   "metadata": {},
   "outputs": [
    {
     "data": {
      "text/plain": [
       "0        NaN\n",
       "1        NaN\n",
       "2        NaN\n",
       "3        NaN\n",
       "4        NaN\n",
       "        ... \n",
       "11995    NaN\n",
       "11996    NaN\n",
       "11997    NaN\n",
       "11998    NaN\n",
       "11999    NaN\n",
       "Name: vintage.year, Length: 12000, dtype: object"
      ]
     },
     "execution_count": 58,
     "metadata": {},
     "output_type": "execute_result"
    }
   ],
   "source": [
    "data_v[\"vintage.year\"]"
   ]
  },
  {
   "cell_type": "raw",
   "metadata": {},
   "source": [
    "dct_stations = {'bordeaux': 'BORDEAUX MERIGNAC, FR',\n",
    "       'languedoc-roussillon':  'MONTPELLIER AEROPORT, FR',\n",
    "       'cote-de-beaune': 'DIJON LONGVIC, FR',\n",
    "       'cote-de-nuits': 'DIJON LONGVIC, FR' ,\n",
    "       'rhone': 'LYON ST EXUPERY, FR',\n",
    "       'loire-valley': \"NANTES BOUGUENAIS, FR\" \"CLERMONT FERRAND, FR\",\n",
    "       'bourgogne': \"DIJON LONGVIC, FR\",\n",
    "       'champagne': \"REIMS PRUNAY, FR\",\n",
    "       'alsace': \"STRASBOURG ENTZHEIM, FR\",\n",
    "       'chateauneuf-du-pape': \"MONTELIMAR, FR\"}\n"
   ]
  },
  {
   "cell_type": "code",
   "execution_count": 59,
   "metadata": {},
   "outputs": [
    {
     "data": {
      "text/plain": [
       "(8149, 21)"
      ]
     },
     "execution_count": 59,
     "metadata": {},
     "output_type": "execute_result"
    }
   ],
   "source": [
    "data.shape"
   ]
  },
  {
   "cell_type": "code",
   "execution_count": 60,
   "metadata": {},
   "outputs": [
    {
     "data": {
      "text/plain": [
       "Index(['Unnamed: 0', 'vintage.wine.winery.seo_name',\n",
       "       'vintage.wine.winery.name', 'vintage.wine.name', 'vintage.year',\n",
       "       'vintage.statistics.ratings_average', 'vintage.wine.region.name',\n",
       "       'vintage.wine.region.seo_name', 'vintage.wine.style.region.seo_name',\n",
       "       'station', 'Year', 'join', 'STATION', 'NAME', 'DATE', 'CLDD', 'HTDD',\n",
       "       'PRCP', 'TAVG', 'TMAX', 'TMIN'],\n",
       "      dtype='object')"
      ]
     },
     "execution_count": 60,
     "metadata": {},
     "output_type": "execute_result"
    }
   ],
   "source": [
    "data.columns"
   ]
  },
  {
   "cell_type": "code",
   "execution_count": 61,
   "metadata": {},
   "outputs": [],
   "source": [
    "#Cleaning column\n",
    "data = data[['vintage.wine.winery.name', 'vintage.wine.name', 'vintage.year',\n",
    "       'vintage.statistics.ratings_average', 'vintage.wine.region.name',\n",
    "           'Year','NAME','DATE', 'CLDD', 'HTDD','PRCP', 'TAVG', 'TMAX','TMIN']]"
   ]
  },
  {
   "cell_type": "code",
   "execution_count": 64,
   "metadata": {},
   "outputs": [],
   "source": [
    "data.NAME.unique()\n",
    "data['vintage.wine.winery.name'].unique()\n",
    "bdx=data[data.NAME=='BORDEAUX MERIGNAC, FR']\n",
    "cdn=data[(data.NAME=='DIJON LONGVIC, FR') & (data['vintage.wine.winery.name']=='cote-de-beaune')]\n",
    "cdb=data[(data.NAME=='DIJON LONGVIC, FR') & (data['vintage.wine.winery.name']=='cote-de-nuit')]\n",
    "lr=data[data.NAME=='MONTPELLIER AEROPORT, FR']\n",
    "rh=data[data.NAME=='LYON ST EXUPERY, FR']\n",
    "lv=data[data.NAME=='NANTES BOUGUENAIS, FR']\n",
    "chmp=data[data.NAME=='REIMS PRUNAY, FR']\n",
    "als=data[data.NAME=='STRASBOURG ENTZHEIM, FR']\n",
    "cdp=data[data.NAME=='MONTELIMAR, FR']\n",
    "brg=data[(data.NAME=='DIJON LONGVIC, FR') & (data['vintage.wine.winery.name']=='bourgogne')]"
   ]
  },
  {
   "cell_type": "code",
   "execution_count": 65,
   "metadata": {},
   "outputs": [],
   "source": [
    "a=data.groupby(\"vintage.year\")[\"vintage.statistics.ratings_average\"].agg(\"mean\")\n",
    "b=data.groupby(\"vintage.year\")[\"TAVG\"].agg(\"mean\")"
   ]
  },
  {
   "cell_type": "code",
   "execution_count": 66,
   "metadata": {},
   "outputs": [
    {
     "data": {
      "text/plain": [
       "vintage.year\n",
       "1998    11.432143\n",
       "1999    14.291667\n",
       "2000    14.270000\n",
       "2001    13.467857\n",
       "2002    14.425000\n",
       "2003    14.852083\n",
       "2004    12.433333\n",
       "2005    12.906944\n",
       "2006    13.751389\n",
       "2007    12.939744\n",
       "2008    12.707778\n",
       "2009    13.452957\n",
       "2010    12.264368\n",
       "2011    13.557963\n",
       "2012    12.823697\n",
       "2013    11.966813\n",
       "2014    13.973185\n",
       "2015    13.838158\n",
       "2016    13.734747\n",
       "2017    14.012215\n",
       "Name: TAVG, dtype: float64"
      ]
     },
     "execution_count": 66,
     "metadata": {},
     "output_type": "execute_result"
    }
   ],
   "source": [
    "b"
   ]
  },
  {
   "cell_type": "code",
   "execution_count": 67,
   "metadata": {},
   "outputs": [
    {
     "data": {
      "image/png": "[encoded data removed]",
      "text/plain": [
       "<Figure size 1440x720 with 1 Axes>"
      ]
     },
     "metadata": {
      "needs_background": "light"
     },
     "output_type": "display_data"
    }
   ],
   "source": [
    "b.plot(figsize=(20,10), linewidth=5, fontsize=20)\n",
    "plt.xlabel('vintage.year', fontsize=20);"
   ]
  },
  {
   "cell_type": "code",
   "execution_count": 35,
   "metadata": {},
   "outputs": [
    {
     "data": {
      "text/plain": [
       "<matplotlib.axes._subplots.AxesSubplot at 0x1252b80d0>"
      ]
     },
     "execution_count": 35,
     "metadata": {},
     "output_type": "execute_result"
    },
    {
     "data": {
      "image/png": "[encoded data removed]",
      "text/plain": [
       "<Figure size 432x288 with 1 Axes>"
      ]
     },
     "metadata": {
      "needs_background": "light"
     },
     "output_type": "display_data"
    }
   ],
   "source": [
    "b.plot()"
   ]
  },
  {
   "cell_type": "code",
   "execution_count": 68,
   "metadata": {},
   "outputs": [
    {
     "ename": "KeyError",
     "evalue": "'vintage.year'",
     "output_type": "error",
     "traceback": [
      "\u001b[0;31m---------------------------------------------------------------------------\u001b[0m",
      "\u001b[0;31mTypeError\u001b[0m                                 Traceback (most recent call last)",
      "\u001b[0;32m/opt/anaconda3/lib/python3.7/site-packages/pandas/core/indexes/base.py\u001b[0m in \u001b[0;36mget_value\u001b[0;34m(self, series, key)\u001b[0m\n\u001b[1;32m   4410\u001b[0m             \u001b[0;32mtry\u001b[0m\u001b[0;34m:\u001b[0m\u001b[0;34m\u001b[0m\u001b[0;34m\u001b[0m\u001b[0m\n\u001b[0;32m-> 4411\u001b[0;31m                 \u001b[0;32mreturn\u001b[0m \u001b[0mlibindex\u001b[0m\u001b[0;34m.\u001b[0m\u001b[0mget_value_at\u001b[0m\u001b[0;34m(\u001b[0m\u001b[0ms\u001b[0m\u001b[0;34m,\u001b[0m \u001b[0mkey\u001b[0m\u001b[0;34m)\u001b[0m\u001b[0;34m\u001b[0m\u001b[0;34m\u001b[0m\u001b[0m\n\u001b[0m\u001b[1;32m   4412\u001b[0m             \u001b[0;32mexcept\u001b[0m \u001b[0mIndexError\u001b[0m\u001b[0;34m:\u001b[0m\u001b[0;34m\u001b[0m\u001b[0;34m\u001b[0m\u001b[0m\n",
      "\u001b[0;32mpandas/_libs/index.pyx\u001b[0m in \u001b[0;36mpandas._libs.index.get_value_at\u001b[0;34m()\u001b[0m\n",
      "\u001b[0;32mpandas/_libs/index.pyx\u001b[0m in \u001b[0;36mpandas._libs.index.get_value_at\u001b[0;34m()\u001b[0m\n",
      "\u001b[0;32mpandas/_libs/util.pxd\u001b[0m in \u001b[0;36mpandas._libs.util.get_value_at\u001b[0;34m()\u001b[0m\n",
      "\u001b[0;32mpandas/_libs/util.pxd\u001b[0m in \u001b[0;36mpandas._libs.util.validate_indexer\u001b[0;34m()\u001b[0m\n",
      "\u001b[0;31mTypeError\u001b[0m: 'str' object cannot be interpreted as an integer",
      "\nDuring handling of the above exception, another exception occurred:\n",
      "\u001b[0;31mKeyError\u001b[0m                                  Traceback (most recent call last)",
      "\u001b[0;32m<ipython-input-68-a21055dd0dde>\u001b[0m in \u001b[0;36m<module>\u001b[0;34m\u001b[0m\n\u001b[1;32m      1\u001b[0m \u001b[0mfigure\u001b[0m\u001b[0;34m,\u001b[0m \u001b[0maxis_1\u001b[0m \u001b[0;34m=\u001b[0m \u001b[0mplt\u001b[0m\u001b[0;34m.\u001b[0m\u001b[0msubplots\u001b[0m\u001b[0;34m(\u001b[0m\u001b[0mfigsize\u001b[0m\u001b[0;34m=\u001b[0m\u001b[0;34m(\u001b[0m\u001b[0;36m15\u001b[0m\u001b[0;34m,\u001b[0m\u001b[0;36m10\u001b[0m\u001b[0;34m)\u001b[0m\u001b[0;34m)\u001b[0m\u001b[0;34m\u001b[0m\u001b[0;34m\u001b[0m\u001b[0m\n\u001b[1;32m      2\u001b[0m \u001b[0;34m\u001b[0m\u001b[0m\n\u001b[0;32m----> 3\u001b[0;31m \u001b[0maxis_1\u001b[0m\u001b[0;34m.\u001b[0m\u001b[0mplot\u001b[0m\u001b[0;34m(\u001b[0m\u001b[0ma\u001b[0m\u001b[0;34m[\u001b[0m\u001b[0;34m\"vintage.year\"\u001b[0m\u001b[0;34m]\u001b[0m\u001b[0;34m,\u001b[0m \u001b[0ma\u001b[0m\u001b[0;34m[\u001b[0m\u001b[0;34m\"vintage.statistics.ratings_average\"\u001b[0m\u001b[0;34m]\u001b[0m\u001b[0;34m,\u001b[0m \u001b[0mcolor\u001b[0m\u001b[0;34m=\u001b[0m\u001b[0mcolor\u001b[0m\u001b[0;34m)\u001b[0m\u001b[0;34m\u001b[0m\u001b[0;34m\u001b[0m\u001b[0m\n\u001b[0m\u001b[1;32m      4\u001b[0m \u001b[0;34m\u001b[0m\u001b[0m\n\u001b[1;32m      5\u001b[0m \u001b[0maxis_2\u001b[0m \u001b[0;34m=\u001b[0m \u001b[0maxis_1\u001b[0m\u001b[0;34m.\u001b[0m\u001b[0mtwinx\u001b[0m\u001b[0;34m(\u001b[0m\u001b[0;34m)\u001b[0m\u001b[0;34m\u001b[0m\u001b[0;34m\u001b[0m\u001b[0m\n",
      "\u001b[0;32m/opt/anaconda3/lib/python3.7/site-packages/pandas/core/series.py\u001b[0m in \u001b[0;36m__getitem__\u001b[0;34m(self, key)\u001b[0m\n\u001b[1;32m    869\u001b[0m         \u001b[0mkey\u001b[0m \u001b[0;34m=\u001b[0m \u001b[0mcom\u001b[0m\u001b[0;34m.\u001b[0m\u001b[0mapply_if_callable\u001b[0m\u001b[0;34m(\u001b[0m\u001b[0mkey\u001b[0m\u001b[0;34m,\u001b[0m \u001b[0mself\u001b[0m\u001b[0;34m)\u001b[0m\u001b[0;34m\u001b[0m\u001b[0;34m\u001b[0m\u001b[0m\n\u001b[1;32m    870\u001b[0m         \u001b[0;32mtry\u001b[0m\u001b[0;34m:\u001b[0m\u001b[0;34m\u001b[0m\u001b[0;34m\u001b[0m\u001b[0m\n\u001b[0;32m--> 871\u001b[0;31m             \u001b[0mresult\u001b[0m \u001b[0;34m=\u001b[0m \u001b[0mself\u001b[0m\u001b[0;34m.\u001b[0m\u001b[0mindex\u001b[0m\u001b[0;34m.\u001b[0m\u001b[0mget_value\u001b[0m\u001b[0;34m(\u001b[0m\u001b[0mself\u001b[0m\u001b[0;34m,\u001b[0m \u001b[0mkey\u001b[0m\u001b[0;34m)\u001b[0m\u001b[0;34m\u001b[0m\u001b[0;34m\u001b[0m\u001b[0m\n\u001b[0m\u001b[1;32m    872\u001b[0m \u001b[0;34m\u001b[0m\u001b[0m\n\u001b[1;32m    873\u001b[0m             \u001b[0;32mif\u001b[0m \u001b[0;32mnot\u001b[0m \u001b[0mis_scalar\u001b[0m\u001b[0;34m(\u001b[0m\u001b[0mresult\u001b[0m\u001b[0;34m)\u001b[0m\u001b[0;34m:\u001b[0m\u001b[0;34m\u001b[0m\u001b[0;34m\u001b[0m\u001b[0m\n",
      "\u001b[0;32m/opt/anaconda3/lib/python3.7/site-packages/pandas/core/indexes/base.py\u001b[0m in \u001b[0;36mget_value\u001b[0;34m(self, series, key)\u001b[0m\n\u001b[1;32m   4417\u001b[0m                     \u001b[0;32mraise\u001b[0m \u001b[0mInvalidIndexError\u001b[0m\u001b[0;34m(\u001b[0m\u001b[0mkey\u001b[0m\u001b[0;34m)\u001b[0m\u001b[0;34m\u001b[0m\u001b[0;34m\u001b[0m\u001b[0m\n\u001b[1;32m   4418\u001b[0m                 \u001b[0;32melse\u001b[0m\u001b[0;34m:\u001b[0m\u001b[0;34m\u001b[0m\u001b[0;34m\u001b[0m\u001b[0m\n\u001b[0;32m-> 4419\u001b[0;31m                     \u001b[0;32mraise\u001b[0m \u001b[0me1\u001b[0m\u001b[0;34m\u001b[0m\u001b[0;34m\u001b[0m\u001b[0m\n\u001b[0m\u001b[1;32m   4420\u001b[0m             \u001b[0;32mexcept\u001b[0m \u001b[0mException\u001b[0m\u001b[0;34m:\u001b[0m\u001b[0;34m\u001b[0m\u001b[0;34m\u001b[0m\u001b[0m\n\u001b[1;32m   4421\u001b[0m                 \u001b[0;32mraise\u001b[0m \u001b[0me1\u001b[0m\u001b[0;34m\u001b[0m\u001b[0;34m\u001b[0m\u001b[0m\n",
      "\u001b[0;32m/opt/anaconda3/lib/python3.7/site-packages/pandas/core/indexes/base.py\u001b[0m in \u001b[0;36mget_value\u001b[0;34m(self, series, key)\u001b[0m\n\u001b[1;32m   4403\u001b[0m         \u001b[0mk\u001b[0m \u001b[0;34m=\u001b[0m \u001b[0mself\u001b[0m\u001b[0;34m.\u001b[0m\u001b[0m_convert_scalar_indexer\u001b[0m\u001b[0;34m(\u001b[0m\u001b[0mk\u001b[0m\u001b[0;34m,\u001b[0m \u001b[0mkind\u001b[0m\u001b[0;34m=\u001b[0m\u001b[0;34m\"getitem\"\u001b[0m\u001b[0;34m)\u001b[0m\u001b[0;34m\u001b[0m\u001b[0;34m\u001b[0m\u001b[0m\n\u001b[1;32m   4404\u001b[0m         \u001b[0;32mtry\u001b[0m\u001b[0;34m:\u001b[0m\u001b[0;34m\u001b[0m\u001b[0;34m\u001b[0m\u001b[0m\n\u001b[0;32m-> 4405\u001b[0;31m             \u001b[0;32mreturn\u001b[0m \u001b[0mself\u001b[0m\u001b[0;34m.\u001b[0m\u001b[0m_engine\u001b[0m\u001b[0;34m.\u001b[0m\u001b[0mget_value\u001b[0m\u001b[0;34m(\u001b[0m\u001b[0ms\u001b[0m\u001b[0;34m,\u001b[0m \u001b[0mk\u001b[0m\u001b[0;34m,\u001b[0m \u001b[0mtz\u001b[0m\u001b[0;34m=\u001b[0m\u001b[0mgetattr\u001b[0m\u001b[0;34m(\u001b[0m\u001b[0mseries\u001b[0m\u001b[0;34m.\u001b[0m\u001b[0mdtype\u001b[0m\u001b[0;34m,\u001b[0m \u001b[0;34m\"tz\"\u001b[0m\u001b[0;34m,\u001b[0m \u001b[0;32mNone\u001b[0m\u001b[0;34m)\u001b[0m\u001b[0;34m)\u001b[0m\u001b[0;34m\u001b[0m\u001b[0;34m\u001b[0m\u001b[0m\n\u001b[0m\u001b[1;32m   4406\u001b[0m         \u001b[0;32mexcept\u001b[0m \u001b[0mKeyError\u001b[0m \u001b[0;32mas\u001b[0m \u001b[0me1\u001b[0m\u001b[0;34m:\u001b[0m\u001b[0;34m\u001b[0m\u001b[0;34m\u001b[0m\u001b[0m\n\u001b[1;32m   4407\u001b[0m             \u001b[0;32mif\u001b[0m \u001b[0mlen\u001b[0m\u001b[0;34m(\u001b[0m\u001b[0mself\u001b[0m\u001b[0;34m)\u001b[0m \u001b[0;34m>\u001b[0m \u001b[0;36m0\u001b[0m \u001b[0;32mand\u001b[0m \u001b[0;34m(\u001b[0m\u001b[0mself\u001b[0m\u001b[0;34m.\u001b[0m\u001b[0mholds_integer\u001b[0m\u001b[0;34m(\u001b[0m\u001b[0;34m)\u001b[0m \u001b[0;32mor\u001b[0m \u001b[0mself\u001b[0m\u001b[0;34m.\u001b[0m\u001b[0mis_boolean\u001b[0m\u001b[0;34m(\u001b[0m\u001b[0;34m)\u001b[0m\u001b[0;34m)\u001b[0m\u001b[0;34m:\u001b[0m\u001b[0;34m\u001b[0m\u001b[0;34m\u001b[0m\u001b[0m\n",
      "\u001b[0;32mpandas/_libs/index.pyx\u001b[0m in \u001b[0;36mpandas._libs.index.IndexEngine.get_value\u001b[0;34m()\u001b[0m\n",
      "\u001b[0;32mpandas/_libs/index.pyx\u001b[0m in \u001b[0;36mpandas._libs.index.IndexEngine.get_value\u001b[0;34m()\u001b[0m\n",
      "\u001b[0;32mpandas/_libs/index.pyx\u001b[0m in \u001b[0;36mpandas._libs.index.IndexEngine.get_loc\u001b[0;34m()\u001b[0m\n",
      "\u001b[0;32mpandas/_libs/hashtable_class_helper.pxi\u001b[0m in \u001b[0;36mpandas._libs.hashtable.PyObjectHashTable.get_item\u001b[0;34m()\u001b[0m\n",
      "\u001b[0;32mpandas/_libs/hashtable_class_helper.pxi\u001b[0m in \u001b[0;36mpandas._libs.hashtable.PyObjectHashTable.get_item\u001b[0;34m()\u001b[0m\n",
      "\u001b[0;31mKeyError\u001b[0m: 'vintage.year'"
     ]
    },
    {
     "data": {
      "image/png": "[encoded data removed]",
      "text/plain": [
       "<Figure size 1080x720 with 1 Axes>"
      ]
     },
     "metadata": {
      "needs_background": "light"
     },
     "output_type": "display_data"
    }
   ],
   "source": [
    "figure, axis_1 = plt.subplots(figsize=(15,10))\n",
    "\n",
    "axis_1.plot(a[\"vintage.year\"], a[\"vintage.statistics.ratings_average\"], color=color)\n",
    "\n",
    "axis_2 = axis_1.twinx()\n",
    "\n",
    "axis_2.plot(b[\"vintage.year\"], b[\"TAVG\"])"
   ]
  },
  {
   "cell_type": "code",
   "execution_count": null,
   "metadata": {},
   "outputs": [],
   "source": [
    "a"
   ]
  },
  {
   "cell_type": "code",
   "execution_count": null,
   "metadata": {},
   "outputs": [],
   "source": [
    "b.shape"
   ]
  },
  {
   "cell_type": "code",
   "execution_count": 20,
   "metadata": {},
   "outputs": [
    {
     "ename": "ValueError",
     "evalue": "x and y must have same first dimension, but have shapes (0,) and (20,)",
     "output_type": "error",
     "traceback": [
      "\u001b[0;31m---------------------------------------------------------------------------\u001b[0m",
      "\u001b[0;31mValueError\u001b[0m                                Traceback (most recent call last)",
      "\u001b[0;32m<ipython-input-20-6f4f69067d43>\u001b[0m in \u001b[0;36m<module>\u001b[0;34m\u001b[0m\n\u001b[1;32m      4\u001b[0m \u001b[0;34m\u001b[0m\u001b[0m\n\u001b[1;32m      5\u001b[0m \u001b[0max2\u001b[0m \u001b[0;34m=\u001b[0m \u001b[0max1\u001b[0m\u001b[0;34m.\u001b[0m\u001b[0mtwinx\u001b[0m\u001b[0;34m(\u001b[0m\u001b[0;34m)\u001b[0m\u001b[0;34m\u001b[0m\u001b[0;34m\u001b[0m\u001b[0m\n\u001b[0;32m----> 6\u001b[0;31m \u001b[0max1\u001b[0m\u001b[0;34m.\u001b[0m\u001b[0mplot\u001b[0m\u001b[0;34m(\u001b[0m\u001b[0mx\u001b[0m\u001b[0;34m,\u001b[0m \u001b[0ma\u001b[0m\u001b[0;34m,\u001b[0m \u001b[0;34m'g-'\u001b[0m\u001b[0;34m)\u001b[0m\u001b[0;34m\u001b[0m\u001b[0;34m\u001b[0m\u001b[0m\n\u001b[0m\u001b[1;32m      7\u001b[0m \u001b[0max2\u001b[0m\u001b[0;34m.\u001b[0m\u001b[0mplot\u001b[0m\u001b[0;34m(\u001b[0m\u001b[0mx\u001b[0m\u001b[0;34m,\u001b[0m \u001b[0mb\u001b[0m\u001b[0;34m,\u001b[0m \u001b[0;34m'b-'\u001b[0m\u001b[0;34m)\u001b[0m\u001b[0;34m\u001b[0m\u001b[0;34m\u001b[0m\u001b[0m\n\u001b[1;32m      8\u001b[0m \u001b[0;34m\u001b[0m\u001b[0m\n",
      "\u001b[0;32m/opt/anaconda3/lib/python3.7/site-packages/matplotlib/axes/_axes.py\u001b[0m in \u001b[0;36mplot\u001b[0;34m(self, scalex, scaley, data, *args, **kwargs)\u001b[0m\n\u001b[1;32m   1663\u001b[0m         \"\"\"\n\u001b[1;32m   1664\u001b[0m         \u001b[0mkwargs\u001b[0m \u001b[0;34m=\u001b[0m \u001b[0mcbook\u001b[0m\u001b[0;34m.\u001b[0m\u001b[0mnormalize_kwargs\u001b[0m\u001b[0;34m(\u001b[0m\u001b[0mkwargs\u001b[0m\u001b[0;34m,\u001b[0m \u001b[0mmlines\u001b[0m\u001b[0;34m.\u001b[0m\u001b[0mLine2D\u001b[0m\u001b[0;34m.\u001b[0m\u001b[0m_alias_map\u001b[0m\u001b[0;34m)\u001b[0m\u001b[0;34m\u001b[0m\u001b[0;34m\u001b[0m\u001b[0m\n\u001b[0;32m-> 1665\u001b[0;31m         \u001b[0mlines\u001b[0m \u001b[0;34m=\u001b[0m \u001b[0;34m[\u001b[0m\u001b[0;34m*\u001b[0m\u001b[0mself\u001b[0m\u001b[0;34m.\u001b[0m\u001b[0m_get_lines\u001b[0m\u001b[0;34m(\u001b[0m\u001b[0;34m*\u001b[0m\u001b[0margs\u001b[0m\u001b[0;34m,\u001b[0m \u001b[0mdata\u001b[0m\u001b[0;34m=\u001b[0m\u001b[0mdata\u001b[0m\u001b[0;34m,\u001b[0m \u001b[0;34m**\u001b[0m\u001b[0mkwargs\u001b[0m\u001b[0;34m)\u001b[0m\u001b[0;34m]\u001b[0m\u001b[0;34m\u001b[0m\u001b[0;34m\u001b[0m\u001b[0m\n\u001b[0m\u001b[1;32m   1666\u001b[0m         \u001b[0;32mfor\u001b[0m \u001b[0mline\u001b[0m \u001b[0;32min\u001b[0m \u001b[0mlines\u001b[0m\u001b[0;34m:\u001b[0m\u001b[0;34m\u001b[0m\u001b[0;34m\u001b[0m\u001b[0m\n\u001b[1;32m   1667\u001b[0m             \u001b[0mself\u001b[0m\u001b[0;34m.\u001b[0m\u001b[0madd_line\u001b[0m\u001b[0;34m(\u001b[0m\u001b[0mline\u001b[0m\u001b[0;34m)\u001b[0m\u001b[0;34m\u001b[0m\u001b[0;34m\u001b[0m\u001b[0m\n",
      "\u001b[0;32m/opt/anaconda3/lib/python3.7/site-packages/matplotlib/axes/_base.py\u001b[0m in \u001b[0;36m__call__\u001b[0;34m(self, *args, **kwargs)\u001b[0m\n\u001b[1;32m    223\u001b[0m                 \u001b[0mthis\u001b[0m \u001b[0;34m+=\u001b[0m \u001b[0margs\u001b[0m\u001b[0;34m[\u001b[0m\u001b[0;36m0\u001b[0m\u001b[0;34m]\u001b[0m\u001b[0;34m,\u001b[0m\u001b[0;34m\u001b[0m\u001b[0;34m\u001b[0m\u001b[0m\n\u001b[1;32m    224\u001b[0m                 \u001b[0margs\u001b[0m \u001b[0;34m=\u001b[0m \u001b[0margs\u001b[0m\u001b[0;34m[\u001b[0m\u001b[0;36m1\u001b[0m\u001b[0;34m:\u001b[0m\u001b[0;34m]\u001b[0m\u001b[0;34m\u001b[0m\u001b[0;34m\u001b[0m\u001b[0m\n\u001b[0;32m--> 225\u001b[0;31m             \u001b[0;32myield\u001b[0m \u001b[0;32mfrom\u001b[0m \u001b[0mself\u001b[0m\u001b[0;34m.\u001b[0m\u001b[0m_plot_args\u001b[0m\u001b[0;34m(\u001b[0m\u001b[0mthis\u001b[0m\u001b[0;34m,\u001b[0m \u001b[0mkwargs\u001b[0m\u001b[0;34m)\u001b[0m\u001b[0;34m\u001b[0m\u001b[0;34m\u001b[0m\u001b[0m\n\u001b[0m\u001b[1;32m    226\u001b[0m \u001b[0;34m\u001b[0m\u001b[0m\n\u001b[1;32m    227\u001b[0m     \u001b[0;32mdef\u001b[0m \u001b[0mget_next_color\u001b[0m\u001b[0;34m(\u001b[0m\u001b[0mself\u001b[0m\u001b[0;34m)\u001b[0m\u001b[0;34m:\u001b[0m\u001b[0;34m\u001b[0m\u001b[0;34m\u001b[0m\u001b[0m\n",
      "\u001b[0;32m/opt/anaconda3/lib/python3.7/site-packages/matplotlib/axes/_base.py\u001b[0m in \u001b[0;36m_plot_args\u001b[0;34m(self, tup, kwargs)\u001b[0m\n\u001b[1;32m    389\u001b[0m             \u001b[0mx\u001b[0m\u001b[0;34m,\u001b[0m \u001b[0my\u001b[0m \u001b[0;34m=\u001b[0m \u001b[0mindex_of\u001b[0m\u001b[0;34m(\u001b[0m\u001b[0mtup\u001b[0m\u001b[0;34m[\u001b[0m\u001b[0;34m-\u001b[0m\u001b[0;36m1\u001b[0m\u001b[0;34m]\u001b[0m\u001b[0;34m)\u001b[0m\u001b[0;34m\u001b[0m\u001b[0;34m\u001b[0m\u001b[0m\n\u001b[1;32m    390\u001b[0m \u001b[0;34m\u001b[0m\u001b[0m\n\u001b[0;32m--> 391\u001b[0;31m         \u001b[0mx\u001b[0m\u001b[0;34m,\u001b[0m \u001b[0my\u001b[0m \u001b[0;34m=\u001b[0m \u001b[0mself\u001b[0m\u001b[0;34m.\u001b[0m\u001b[0m_xy_from_xy\u001b[0m\u001b[0;34m(\u001b[0m\u001b[0mx\u001b[0m\u001b[0;34m,\u001b[0m \u001b[0my\u001b[0m\u001b[0;34m)\u001b[0m\u001b[0;34m\u001b[0m\u001b[0;34m\u001b[0m\u001b[0m\n\u001b[0m\u001b[1;32m    392\u001b[0m \u001b[0;34m\u001b[0m\u001b[0m\n\u001b[1;32m    393\u001b[0m         \u001b[0;32mif\u001b[0m \u001b[0mself\u001b[0m\u001b[0;34m.\u001b[0m\u001b[0mcommand\u001b[0m \u001b[0;34m==\u001b[0m \u001b[0;34m'plot'\u001b[0m\u001b[0;34m:\u001b[0m\u001b[0;34m\u001b[0m\u001b[0;34m\u001b[0m\u001b[0m\n",
      "\u001b[0;32m/opt/anaconda3/lib/python3.7/site-packages/matplotlib/axes/_base.py\u001b[0m in \u001b[0;36m_xy_from_xy\u001b[0;34m(self, x, y)\u001b[0m\n\u001b[1;32m    268\u001b[0m         \u001b[0;32mif\u001b[0m \u001b[0mx\u001b[0m\u001b[0;34m.\u001b[0m\u001b[0mshape\u001b[0m\u001b[0;34m[\u001b[0m\u001b[0;36m0\u001b[0m\u001b[0;34m]\u001b[0m \u001b[0;34m!=\u001b[0m \u001b[0my\u001b[0m\u001b[0;34m.\u001b[0m\u001b[0mshape\u001b[0m\u001b[0;34m[\u001b[0m\u001b[0;36m0\u001b[0m\u001b[0;34m]\u001b[0m\u001b[0;34m:\u001b[0m\u001b[0;34m\u001b[0m\u001b[0;34m\u001b[0m\u001b[0m\n\u001b[1;32m    269\u001b[0m             raise ValueError(\"x and y must have same first dimension, but \"\n\u001b[0;32m--> 270\u001b[0;31m                              \"have shapes {} and {}\".format(x.shape, y.shape))\n\u001b[0m\u001b[1;32m    271\u001b[0m         \u001b[0;32mif\u001b[0m \u001b[0mx\u001b[0m\u001b[0;34m.\u001b[0m\u001b[0mndim\u001b[0m \u001b[0;34m>\u001b[0m \u001b[0;36m2\u001b[0m \u001b[0;32mor\u001b[0m \u001b[0my\u001b[0m\u001b[0;34m.\u001b[0m\u001b[0mndim\u001b[0m \u001b[0;34m>\u001b[0m \u001b[0;36m2\u001b[0m\u001b[0;34m:\u001b[0m\u001b[0;34m\u001b[0m\u001b[0;34m\u001b[0m\u001b[0m\n\u001b[1;32m    272\u001b[0m             raise ValueError(\"x and y can be no greater than 2-D, but have \"\n",
      "\u001b[0;31mValueError\u001b[0m: x and y must have same first dimension, but have shapes (0,) and (20,)"
     ]
    },
    {
     "data": {
      "image/png": "[encoded data removed]",
      "text/plain": [
       "<Figure size 432x288 with 2 Axes>"
      ]
     },
     "metadata": {
      "needs_background": "light"
     },
     "output_type": "display_data"
    }
   ],
   "source": [
    "x = np.arange(1998, 1, 2020)\n",
    "\n",
    "fig, ax1 = plt.subplots()\n",
    "\n",
    "ax2 = ax1.twinx()\n",
    "ax1.plot(x, a, 'g-')\n",
    "ax2.plot(x, b, 'b-')\n",
    "\n",
    "ax1.set_xlabel('X data')\n",
    "ax1.set_ylabel('Y1 data', color='g')\n",
    "ax2.set_ylabel('Y2 data', color='b')\n",
    "\n",
    "plt.show()"
   ]
  },
  {
   "cell_type": "code",
   "execution_count": null,
   "metadata": {},
   "outputs": [],
   "source": []
  },
  {
   "cell_type": "code",
   "execution_count": null,
   "metadata": {},
   "outputs": [],
   "source": []
  },
  {
   "cell_type": "code",
   "execution_count": null,
   "metadata": {},
   "outputs": [],
   "source": []
  }
 ],
 "metadata": {
  "kernelspec": {
   "display_name": "Python 3",
   "language": "python",
   "name": "python3"
  },
  "language_info": {
   "codemirror_mode": {
    "name": "ipython",
    "version": 3
   },
   "file_extension": ".py",
   "mimetype": "text/x-python",
   "name": "python",
   "nbconvert_exporter": "python",
   "pygments_lexer": "ipython3",
   "version": "3.7.6"
  }
 },
 "nbformat": 4,
 "nbformat_minor": 4
}
