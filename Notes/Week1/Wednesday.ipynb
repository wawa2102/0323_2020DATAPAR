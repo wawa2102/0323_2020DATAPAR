{
 "cells": [
  {
   "cell_type": "code",
   "execution_count": 1,
   "metadata": {},
   "outputs": [],
   "source": [
    "txt=str()"
   ]
  },
  {
   "cell_type": "code",
   "execution_count": 2,
   "metadata": {},
   "outputs": [],
   "source": [
    "txt=''"
   ]
  },
  {
   "cell_type": "code",
   "execution_count": 3,
   "metadata": {},
   "outputs": [
    {
     "data": {
      "text/plain": [
       "''"
      ]
     },
     "execution_count": 3,
     "metadata": {},
     "output_type": "execute_result"
    }
   ],
   "source": [
    "txt"
   ]
  },
  {
   "cell_type": "code",
   "execution_count": 4,
   "metadata": {},
   "outputs": [],
   "source": [
    "if txt:\n",
    "    print('smth')"
   ]
  },
  {
   "cell_type": "code",
   "execution_count": 5,
   "metadata": {},
   "outputs": [],
   "source": [
    "txt2='string'"
   ]
  },
  {
   "cell_type": "code",
   "execution_count": 7,
   "metadata": {},
   "outputs": [
    {
     "name": "stdout",
     "output_type": "stream",
     "text": [
      "smth\n"
     ]
    }
   ],
   "source": [
    "if txt2:\n",
    "    print('smth')"
   ]
  },
  {
   "cell_type": "code",
   "execution_count": 8,
   "metadata": {},
   "outputs": [],
   "source": [
    "word='qwertyuiop;lkgfds'"
   ]
  },
  {
   "cell_type": "code",
   "execution_count": 9,
   "metadata": {},
   "outputs": [
    {
     "data": {
      "text/plain": [
       "17"
      ]
     },
     "execution_count": 9,
     "metadata": {},
     "output_type": "execute_result"
    }
   ],
   "source": [
    "len(word)"
   ]
  },
  {
   "cell_type": "code",
   "execution_count": 10,
   "metadata": {},
   "outputs": [
    {
     "data": {
      "text/plain": [
       "'qwerty'"
      ]
     },
     "execution_count": 10,
     "metadata": {},
     "output_type": "execute_result"
    }
   ],
   "source": [
    "word[:6]"
   ]
  },
  {
   "cell_type": "code",
   "execution_count": 11,
   "metadata": {},
   "outputs": [
    {
     "data": {
      "text/plain": [
       "'sdf'"
      ]
     },
     "execution_count": 11,
     "metadata": {},
     "output_type": "execute_result"
    }
   ],
   "source": [
    "word[-1:-4:-1]"
   ]
  },
  {
   "cell_type": "code",
   "execution_count": 12,
   "metadata": {},
   "outputs": [
    {
     "data": {
      "text/plain": [
       "'sdfgkl;poiuytrewq'"
      ]
     },
     "execution_count": 12,
     "metadata": {},
     "output_type": "execute_result"
    }
   ],
   "source": [
    "word[::-1]"
   ]
  },
  {
   "cell_type": "code",
   "execution_count": null,
   "metadata": {},
   "outputs": [],
   "source": [
    "word[start:end:step]"
   ]
  },
  {
   "cell_type": "code",
   "execution_count": null,
   "metadata": {},
   "outputs": [],
   "source": []
  },
  {
   "cell_type": "code",
   "execution_count": 14,
   "metadata": {},
   "outputs": [],
   "source": [
    "hi='Hello'\n",
    "world='world'"
   ]
  },
  {
   "cell_type": "code",
   "execution_count": 15,
   "metadata": {},
   "outputs": [
    {
     "data": {
      "text/plain": [
       "'Helloworld'"
      ]
     },
     "execution_count": 15,
     "metadata": {},
     "output_type": "execute_result"
    }
   ],
   "source": [
    "hi+world"
   ]
  },
  {
   "cell_type": "code",
   "execution_count": 16,
   "metadata": {},
   "outputs": [
    {
     "data": {
      "text/plain": [
       "'Hello world'"
      ]
     },
     "execution_count": 16,
     "metadata": {},
     "output_type": "execute_result"
    }
   ],
   "source": [
    "hi+' '+world"
   ]
  },
  {
   "cell_type": "code",
   "execution_count": 17,
   "metadata": {},
   "outputs": [
    {
     "name": "stdout",
     "output_type": "stream",
     "text": [
      "Hello world\n"
     ]
    }
   ],
   "source": [
    "print(hi,world)"
   ]
  },
  {
   "cell_type": "code",
   "execution_count": 18,
   "metadata": {},
   "outputs": [
    {
     "data": {
      "text/plain": [
       "('Hello', 'world')"
      ]
     },
     "execution_count": 18,
     "metadata": {},
     "output_type": "execute_result"
    }
   ],
   "source": [
    "hi,world"
   ]
  },
  {
   "cell_type": "code",
   "execution_count": 19,
   "metadata": {},
   "outputs": [],
   "source": [
    "words=['I', 'dont','like','heavy','metal']"
   ]
  },
  {
   "cell_type": "code",
   "execution_count": 27,
   "metadata": {},
   "outputs": [
    {
     "data": {
      "text/plain": [
       "'I dont like heavy metal'"
      ]
     },
     "execution_count": 27,
     "metadata": {},
     "output_type": "execute_result"
    }
   ],
   "source": [
    "txt=''\n",
    "for i in words:\n",
    "    txt+=i+' '\n",
    "txt[:-1]"
   ]
  },
  {
   "cell_type": "code",
   "execution_count": 23,
   "metadata": {},
   "outputs": [
    {
     "ename": "TypeError",
     "evalue": "unsupported operand type(s) for +: 'int' and 'str'",
     "output_type": "error",
     "traceback": [
      "\u001b[0;31m---------------------------------------------------------------------------\u001b[0m",
      "\u001b[0;31mTypeError\u001b[0m                                 Traceback (most recent call last)",
      "\u001b[0;32m<ipython-input-23-8035aa90a51c>\u001b[0m in \u001b[0;36m<module>\u001b[0;34m\u001b[0m\n\u001b[0;32m----> 1\u001b[0;31m \u001b[0msum\u001b[0m\u001b[0;34m(\u001b[0m\u001b[0mwords\u001b[0m\u001b[0;34m)\u001b[0m\u001b[0;34m\u001b[0m\u001b[0;34m\u001b[0m\u001b[0m\n\u001b[0m",
      "\u001b[0;31mTypeError\u001b[0m: unsupported operand type(s) for +: 'int' and 'str'"
     ]
    }
   ],
   "source": [
    "sum(words)"
   ]
  },
  {
   "cell_type": "code",
   "execution_count": 26,
   "metadata": {},
   "outputs": [
    {
     "data": {
      "text/plain": [
       "'I dont like heavy metal.'"
      ]
     },
     "execution_count": 26,
     "metadata": {},
     "output_type": "execute_result"
    }
   ],
   "source": [
    "txt=''\n",
    "for i in words[:-1]:\n",
    "    txt+=i+' '\n",
    "txt+words[-1]+'.'"
   ]
  },
  {
   "cell_type": "code",
   "execution_count": null,
   "metadata": {},
   "outputs": [],
   "source": []
  },
  {
   "cell_type": "code",
   "execution_count": 28,
   "metadata": {},
   "outputs": [
    {
     "data": {
      "text/plain": [
       "'I dont like heavy metal'"
      ]
     },
     "execution_count": 28,
     "metadata": {},
     "output_type": "execute_result"
    }
   ],
   "source": [
    "' '.join(words)"
   ]
  },
  {
   "cell_type": "code",
   "execution_count": 29,
   "metadata": {},
   "outputs": [
    {
     "data": {
      "text/plain": [
       "['I', 'dont', 'like', 'heavy', 'metal']"
      ]
     },
     "execution_count": 29,
     "metadata": {},
     "output_type": "execute_result"
    }
   ],
   "source": [
    "words"
   ]
  },
  {
   "cell_type": "code",
   "execution_count": 32,
   "metadata": {},
   "outputs": [
    {
     "data": {
      "text/plain": [
       "'I banana dont banana like banana heavy banana metal'"
      ]
     },
     "execution_count": 32,
     "metadata": {},
     "output_type": "execute_result"
    }
   ],
   "source": [
    "' banana '.join(words)"
   ]
  },
  {
   "cell_type": "code",
   "execution_count": 33,
   "metadata": {},
   "outputs": [],
   "source": [
    "sentence=' '.join(words)"
   ]
  },
  {
   "cell_type": "code",
   "execution_count": 34,
   "metadata": {},
   "outputs": [
    {
     "data": {
      "text/plain": [
       "'I dont like heavy metal'"
      ]
     },
     "execution_count": 34,
     "metadata": {},
     "output_type": "execute_result"
    }
   ],
   "source": [
    "sentence"
   ]
  },
  {
   "cell_type": "code",
   "execution_count": 44,
   "metadata": {},
   "outputs": [
    {
     "name": "stdout",
     "output_type": "stream",
     "text": [
      "['I', 'dont', 'like', 'heavy', 'metal']\n"
     ]
    }
   ],
   "source": [
    "word=''\n",
    "lst=[]\n",
    "for i in sentence+' ':\n",
    "    word+=i\n",
    "    if i==' ':\n",
    "        lst.append(word[:-1])\n",
    "        word=''\n",
    "print(lst)"
   ]
  },
  {
   "cell_type": "code",
   "execution_count": 46,
   "metadata": {},
   "outputs": [
    {
     "name": "stdout",
     "output_type": "stream",
     "text": [
      "['I', 'dont', 'like', 'heavy']\n"
     ]
    }
   ],
   "source": [
    "# IF you dont add space in the end, the last word is nt defined as a word then. Hence not added to the list\n",
    "\n",
    "word=''\n",
    "lst=[]\n",
    "for i in sentence:\n",
    "    word+=i\n",
    "    if i==' ':\n",
    "        lst.append(word[:-1])\n",
    "        word=''\n",
    "print(lst)"
   ]
  },
  {
   "cell_type": "code",
   "execution_count": 42,
   "metadata": {},
   "outputs": [
    {
     "data": {
      "text/plain": [
       "['I dont ', ' heavy metal']"
      ]
     },
     "execution_count": 42,
     "metadata": {},
     "output_type": "execute_result"
    }
   ],
   "source": [
    "sentence.split('like')"
   ]
  },
  {
   "cell_type": "code",
   "execution_count": 47,
   "metadata": {},
   "outputs": [
    {
     "data": {
      "text/plain": [
       "['I dont l', 'ke heavy metal']"
      ]
     },
     "execution_count": 47,
     "metadata": {},
     "output_type": "execute_result"
    }
   ],
   "source": [
    "sentence.split('i')"
   ]
  },
  {
   "cell_type": "code",
   "execution_count": 48,
   "metadata": {},
   "outputs": [
    {
     "data": {
      "text/plain": [
       "[\"Champs d'Élysé\", 's']"
      ]
     },
     "execution_count": 48,
     "metadata": {},
     "output_type": "execute_result"
    }
   ],
   "source": [
    "\"Champs d'Élysées\".split('e')"
   ]
  },
  {
   "cell_type": "code",
   "execution_count": null,
   "metadata": {},
   "outputs": [],
   "source": []
  },
  {
   "cell_type": "code",
   "execution_count": 51,
   "metadata": {},
   "outputs": [],
   "source": [
    "sentence='Freds friends fried Fritos for Fridays food.'"
   ]
  },
  {
   "cell_type": "code",
   "execution_count": 52,
   "metadata": {},
   "outputs": [
    {
     "data": {
      "text/plain": [
       "['Freds', 'friends', 'fried', 'Fritos', 'for', 'Fridays', 'food.']"
      ]
     },
     "execution_count": 52,
     "metadata": {},
     "output_type": "execute_result"
    }
   ],
   "source": [
    "sentence.split()"
   ]
  },
  {
   "cell_type": "code",
   "execution_count": 53,
   "metadata": {},
   "outputs": [
    {
     "data": {
      "text/plain": [
       "['Freds friends fried Fritos for Fridays food', '']"
      ]
     },
     "execution_count": 53,
     "metadata": {},
     "output_type": "execute_result"
    }
   ],
   "source": [
    "sentence.split('.')"
   ]
  },
  {
   "cell_type": "code",
   "execution_count": 54,
   "metadata": {},
   "outputs": [
    {
     "data": {
      "text/plain": [
       "['Freds friends ', ' Fritos for Fridays food.']"
      ]
     },
     "execution_count": 54,
     "metadata": {},
     "output_type": "execute_result"
    }
   ],
   "source": [
    "sentence.split('fried')"
   ]
  },
  {
   "cell_type": "code",
   "execution_count": 55,
   "metadata": {},
   "outputs": [
    {
     "data": {
      "text/plain": [
       "['Freds friends fried ', ' for Fridays food.']"
      ]
     },
     "execution_count": 55,
     "metadata": {},
     "output_type": "execute_result"
    }
   ],
   "source": [
    "sentence.split('Fritos')"
   ]
  },
  {
   "cell_type": "code",
   "execution_count": 59,
   "metadata": {},
   "outputs": [
    {
     "data": {
      "text/plain": [
       "'reds friends fried Fritos for Fridays food'"
      ]
     },
     "execution_count": 59,
     "metadata": {},
     "output_type": "execute_result"
    }
   ],
   "source": [
    "sentence.strip('.F')"
   ]
  },
  {
   "cell_type": "code",
   "execution_count": 60,
   "metadata": {},
   "outputs": [
    {
     "data": {
      "text/plain": [
       "'reds friends fried Fritos for Fridays'"
      ]
     },
     "execution_count": 60,
     "metadata": {},
     "output_type": "execute_result"
    }
   ],
   "source": [
    "sentence.strip('.Fdof ')"
   ]
  },
  {
   "cell_type": "code",
   "execution_count": 61,
   "metadata": {},
   "outputs": [
    {
     "data": {
      "text/plain": [
       "' friends fried Fritos for Fridays foo'"
      ]
     },
     "execution_count": 61,
     "metadata": {},
     "output_type": "execute_result"
    }
   ],
   "source": [
    "sentence.strip('Freds.')"
   ]
  },
  {
   "cell_type": "code",
   "execution_count": 62,
   "metadata": {},
   "outputs": [
    {
     "data": {
      "text/plain": [
       "' friends fried Fritos for Fridays food.'"
      ]
     },
     "execution_count": 62,
     "metadata": {},
     "output_type": "execute_result"
    }
   ],
   "source": [
    "sentence.lstrip('Freds.')"
   ]
  },
  {
   "cell_type": "code",
   "execution_count": 63,
   "metadata": {},
   "outputs": [
    {
     "data": {
      "text/plain": [
       "'Freds friends fried Fritos for Fridays foo'"
      ]
     },
     "execution_count": 63,
     "metadata": {},
     "output_type": "execute_result"
    }
   ],
   "source": [
    "sentence.rstrip('Freds.')"
   ]
  },
  {
   "cell_type": "code",
   "execution_count": 64,
   "metadata": {},
   "outputs": [],
   "source": [
    "lyrics=\"\"\"Du, du, du, du\n",
    "Du, du, du, du\n",
    "Du, du, du, du\n",
    "Du, du, du, du\"\"\""
   ]
  },
  {
   "cell_type": "code",
   "execution_count": 71,
   "metadata": {},
   "outputs": [
    {
     "data": {
      "text/plain": [
       "['Du',\n",
       " 'du',\n",
       " 'du',\n",
       " 'du',\n",
       " 'Du',\n",
       " 'du',\n",
       " 'du',\n",
       " 'du',\n",
       " 'Du',\n",
       " 'du',\n",
       " 'du',\n",
       " 'du',\n",
       " 'Du',\n",
       " 'du',\n",
       " 'du',\n",
       " 'du']"
      ]
     },
     "execution_count": 71,
     "metadata": {},
     "output_type": "execute_result"
    }
   ],
   "source": [
    "[i.strip(',') for i in lyrics.split()]"
   ]
  },
  {
   "cell_type": "code",
   "execution_count": 73,
   "metadata": {},
   "outputs": [
    {
     "name": "stdout",
     "output_type": "stream",
     "text": [
      "du, du, du, du\n",
      "du, du, du, du\n",
      "du, du, du, du\n",
      "du, du, du, du\n"
     ]
    }
   ],
   "source": [
    "print(lyrics.lower())"
   ]
  },
  {
   "cell_type": "code",
   "execution_count": 76,
   "metadata": {},
   "outputs": [
    {
     "data": {
      "text/plain": [
       "16"
      ]
     },
     "execution_count": 76,
     "metadata": {},
     "output_type": "execute_result"
    }
   ],
   "source": [
    "len([i.strip(',') for i in lyrics.lower().split()])"
   ]
  },
  {
   "cell_type": "code",
   "execution_count": 77,
   "metadata": {},
   "outputs": [
    {
     "data": {
      "text/plain": [
       "16"
      ]
     },
     "execution_count": 77,
     "metadata": {},
     "output_type": "execute_result"
    }
   ],
   "source": [
    "[i.strip(',') for i in lyrics.lower().split()].count('du')"
   ]
  },
  {
   "cell_type": "code",
   "execution_count": null,
   "metadata": {},
   "outputs": [],
   "source": []
  },
  {
   "cell_type": "code",
   "execution_count": 78,
   "metadata": {},
   "outputs": [
    {
     "data": {
      "text/plain": [
       "'DU, DU, DU, DU\\nDU, DU, DU, DU\\nDU, DU, DU, DU\\nDU, DU, DU, DU'"
      ]
     },
     "execution_count": 78,
     "metadata": {},
     "output_type": "execute_result"
    }
   ],
   "source": [
    "lyrics.upper()"
   ]
  },
  {
   "cell_type": "code",
   "execution_count": 79,
   "metadata": {},
   "outputs": [
    {
     "data": {
      "text/plain": [
       "'Du, Du, Du, Du\\nDu, Du, Du, Du\\nDu, Du, Du, Du\\nDu, Du, Du, Du'"
      ]
     },
     "execution_count": 79,
     "metadata": {},
     "output_type": "execute_result"
    }
   ],
   "source": [
    "lyrics.title()"
   ]
  },
  {
   "cell_type": "code",
   "execution_count": 80,
   "metadata": {},
   "outputs": [
    {
     "data": {
      "text/plain": [
       "'Du, du, du, du\\ndu, du, du, du\\ndu, du, du, du\\ndu, du, du, du'"
      ]
     },
     "execution_count": 80,
     "metadata": {},
     "output_type": "execute_result"
    }
   ],
   "source": [
    "lyrics.capitalize()"
   ]
  },
  {
   "cell_type": "code",
   "execution_count": null,
   "metadata": {},
   "outputs": [],
   "source": []
  },
  {
   "cell_type": "code",
   "execution_count": 82,
   "metadata": {},
   "outputs": [
    {
     "data": {
      "text/plain": [
       "'Du, du, du, du, Du, du, du, du, Du, du, du, du, Du, du, du, du'"
      ]
     },
     "execution_count": 82,
     "metadata": {},
     "output_type": "execute_result"
    }
   ],
   "source": [
    "lyrics.replace('\\n',', ')"
   ]
  },
  {
   "cell_type": "code",
   "execution_count": 83,
   "metadata": {},
   "outputs": [
    {
     "data": {
      "text/plain": [
       "'Freds friends fried Fritos for Fridays food.'"
      ]
     },
     "execution_count": 83,
     "metadata": {},
     "output_type": "execute_result"
    }
   ],
   "source": [
    "sentence"
   ]
  },
  {
   "cell_type": "code",
   "execution_count": 84,
   "metadata": {},
   "outputs": [],
   "source": [
    "words=sentence.split()"
   ]
  },
  {
   "cell_type": "code",
   "execution_count": 85,
   "metadata": {},
   "outputs": [
    {
     "data": {
      "text/plain": [
       "['Freds', 'friends', 'fried', 'Fritos', 'for', 'Fridays', 'food.']"
      ]
     },
     "execution_count": 85,
     "metadata": {},
     "output_type": "execute_result"
    }
   ],
   "source": [
    "words"
   ]
  },
  {
   "cell_type": "code",
   "execution_count": 86,
   "metadata": {},
   "outputs": [],
   "source": [
    "lst_F=[]\n",
    "for i in words:\n",
    "    if i[0]=='F':\n",
    "        lst_F.append(i)"
   ]
  },
  {
   "cell_type": "code",
   "execution_count": 87,
   "metadata": {},
   "outputs": [
    {
     "data": {
      "text/plain": [
       "['Freds', 'Fritos', 'Fridays']"
      ]
     },
     "execution_count": 87,
     "metadata": {},
     "output_type": "execute_result"
    }
   ],
   "source": [
    "lst_F"
   ]
  },
  {
   "cell_type": "code",
   "execution_count": 89,
   "metadata": {},
   "outputs": [
    {
     "data": {
      "text/plain": [
       "['Freds', 'Fritos', 'Fridays']"
      ]
     },
     "execution_count": 89,
     "metadata": {},
     "output_type": "execute_result"
    }
   ],
   "source": [
    "[i for i in words if i.startswith('F')]"
   ]
  },
  {
   "cell_type": "code",
   "execution_count": 90,
   "metadata": {},
   "outputs": [
    {
     "data": {
      "text/plain": [
       "True"
      ]
     },
     "execution_count": 90,
     "metadata": {},
     "output_type": "execute_result"
    }
   ],
   "source": [
    "words[0].startswith('F')"
   ]
  },
  {
   "cell_type": "code",
   "execution_count": 91,
   "metadata": {},
   "outputs": [
    {
     "data": {
      "text/plain": [
       "False"
      ]
     },
     "execution_count": 91,
     "metadata": {},
     "output_type": "execute_result"
    }
   ],
   "source": [
    "words[1].startswith('F')"
   ]
  },
  {
   "cell_type": "code",
   "execution_count": 93,
   "metadata": {},
   "outputs": [
    {
     "data": {
      "text/plain": [
       "True"
      ]
     },
     "execution_count": 93,
     "metadata": {},
     "output_type": "execute_result"
    }
   ],
   "source": [
    "words[0].istitle()"
   ]
  },
  {
   "cell_type": "code",
   "execution_count": 95,
   "metadata": {},
   "outputs": [
    {
     "data": {
      "text/plain": [
       "[]"
      ]
     },
     "execution_count": 95,
     "metadata": {},
     "output_type": "execute_result"
    }
   ],
   "source": [
    "[i for i in words if i.isupper()]"
   ]
  },
  {
   "cell_type": "code",
   "execution_count": 96,
   "metadata": {},
   "outputs": [
    {
     "data": {
      "text/plain": [
       "['friends', 'fried', 'for', 'food.']"
      ]
     },
     "execution_count": 96,
     "metadata": {},
     "output_type": "execute_result"
    }
   ],
   "source": [
    "[i for i in words if i.islower()]"
   ]
  },
  {
   "cell_type": "code",
   "execution_count": 97,
   "metadata": {},
   "outputs": [
    {
     "data": {
      "text/plain": [
       "['Freds', 'Fritos', 'Fridays']"
      ]
     },
     "execution_count": 97,
     "metadata": {},
     "output_type": "execute_result"
    }
   ],
   "source": [
    "[i for i in words if i.istitle()]"
   ]
  },
  {
   "cell_type": "code",
   "execution_count": 98,
   "metadata": {},
   "outputs": [
    {
     "data": {
      "text/plain": [
       "['food.']"
      ]
     },
     "execution_count": 98,
     "metadata": {},
     "output_type": "execute_result"
    }
   ],
   "source": [
    "[i for i in words if i.endswith('.')]"
   ]
  },
  {
   "cell_type": "code",
   "execution_count": 99,
   "metadata": {},
   "outputs": [
    {
     "data": {
      "text/plain": [
       "True"
      ]
     },
     "execution_count": 99,
     "metadata": {},
     "output_type": "execute_result"
    }
   ],
   "source": [
    "'Fred' in sentence"
   ]
  },
  {
   "cell_type": "code",
   "execution_count": 100,
   "metadata": {},
   "outputs": [
    {
     "data": {
      "text/plain": [
       "'Freds friends fried Fritos for Fridays food.'"
      ]
     },
     "execution_count": 100,
     "metadata": {},
     "output_type": "execute_result"
    }
   ],
   "source": [
    "sentence"
   ]
  },
  {
   "cell_type": "code",
   "execution_count": 101,
   "metadata": {},
   "outputs": [
    {
     "data": {
      "text/plain": [
       "'Freds riends ried Fritos or Fridays ood.'"
      ]
     },
     "execution_count": 101,
     "metadata": {},
     "output_type": "execute_result"
    }
   ],
   "source": [
    "sentence.replace('f','')"
   ]
  },
  {
   "cell_type": "code",
   "execution_count": 102,
   "metadata": {},
   "outputs": [
    {
     "data": {
      "text/plain": [
       "'Freds riends fried Fritos for Fridays food.'"
      ]
     },
     "execution_count": 102,
     "metadata": {},
     "output_type": "execute_result"
    }
   ],
   "source": [
    "sentence.replace('f','',1)"
   ]
  },
  {
   "cell_type": "code",
   "execution_count": 103,
   "metadata": {},
   "outputs": [
    {
     "data": {
      "text/plain": [
       "'Freds riends ried Fritos for Fridays food.'"
      ]
     },
     "execution_count": 103,
     "metadata": {},
     "output_type": "execute_result"
    }
   ],
   "source": [
    "sentence.replace('f','',2)"
   ]
  },
  {
   "cell_type": "markdown",
   "metadata": {},
   "source": [
    "# Text Decryption"
   ]
  },
  {
   "cell_type": "code",
   "execution_count": 104,
   "metadata": {},
   "outputs": [],
   "source": [
    "encrypted_text=\"\"\"GFS WMY OG LGDVS MF SFNKYHOSU ESLLMRS, PC WS BFGW POL DMFRQMRS, PL OG CPFU M UPCCSKSFO HDMPFOSXO GC OIS LMES DMFRQMRS DGFR SFGQRI OG CPDD GFS LISSO GK LG, MFU OISF WS NGQFO OIS GNNQKKSFNSL GC SMNI DSOOSK. WS NMDD OIS EGLO CKSJQSFODY GNNQKKPFR DSOOSK OIS 'CPKLO', OIS FSXO EGLO GNNQKKPFR DSOOSK OIS 'LSNGFU' OIS CGDDGWPFR EGLO GNNQKKPFR DSOOSK OIS 'OIPKU', MFU LG GF, QFOPD WS MNNGQFO CGK MDD OIS UPCCSKSFO DSOOSKL PF OIS HDMPFOSXO LMEHDS. OISF WS DGGB MO OIS NPHISK OSXO WS WMFO OG LGDVS MFU WS MDLG NDMLLPCY POL LYEAGDL. WS CPFU OIS EGLO GNNQKKPFR LYEAGD MFU NIMFRS PO OG OIS CGKE GC OIS 'CPKLO' DSOOSK GC OIS HDMPFOSXO LMEHDS, OIS FSXO EGLO NGEEGF LYEAGD PL NIMFRSU OG OIS CGKE GC OIS 'LSNGFU' DSOOSK, MFU OIS CGDDGWPFR EGLO NGEEGF LYEAGD PL NIMFRSU OG OIS CGKE GC OIS 'OIPKU' DSOOSK, MFU LG GF, QFOPD WS MNNGQFO CGK MDD LYEAGDL GC OIS NKYHOGRKME WS WMFO OG LGDVS.\"\"\"\n",
    "\n"
   ]
  },
  {
   "cell_type": "code",
   "execution_count": 105,
   "metadata": {},
   "outputs": [
    {
     "data": {
      "text/plain": [
       "\"GFS WMY OG LGDVS MF SFNKYHOSU ESLLMRS, PC WS BFGW POL DMFRQMRS, PL OG CPFU M UPCCSKSFO HDMPFOSXO GC OIS LMES DMFRQMRS DGFR SFGQRI OG CPDD GFS LISSO GK LG, MFU OISF WS NGQFO OIS GNNQKKSFNSL GC SMNI DSOOSK. WS NMDD OIS EGLO CKSJQSFODY GNNQKKPFR DSOOSK OIS 'CPKLO', OIS FSXO EGLO GNNQKKPFR DSOOSK OIS 'LSNGFU' OIS CGDDGWPFR EGLO GNNQKKPFR DSOOSK OIS 'OIPKU', MFU LG GF, QFOPD WS MNNGQFO CGK MDD OIS UPCCSKSFO DSOOSKL PF OIS HDMPFOSXO LMEHDS. OISF WS DGGB MO OIS NPHISK OSXO WS WMFO OG LGDVS MFU WS MDLG NDMLLPCY POL LYEAGDL. WS CPFU OIS EGLO GNNQKKPFR LYEAGD MFU NIMFRS PO OG OIS CGKE GC OIS 'CPKLO' DSOOSK GC OIS HDMPFOSXO LMEHDS, OIS FSXO EGLO NGEEGF LYEAGD PL NIMFRSU OG OIS CGKE GC OIS 'LSNGFU' DSOOSK, MFU OIS CGDDGWPFR EGLO NGEEGF LYEAGD PL NIMFRSU OG OIS CGKE GC OIS 'OIPKU' DSOOSK, MFU LG GF, QFOPD WS MNNGQFO CGK MDD LYEAGDL GC OIS NKYHOGRKME WS WMFO OG LGDVS.\""
      ]
     },
     "execution_count": 105,
     "metadata": {},
     "output_type": "execute_result"
    }
   ],
   "source": [
    "encrypted_text"
   ]
  },
  {
   "cell_type": "code",
   "execution_count": 110,
   "metadata": {},
   "outputs": [],
   "source": [
    "freq_dict={i:encrypted_text.count(i) for i in set(encrypted_text)}"
   ]
  },
  {
   "cell_type": "code",
   "execution_count": 119,
   "metadata": {
    "collapsed": true
   },
   "outputs": [
    {
     "data": {
      "text/plain": [
       "{' ': 158,\n",
       " 'S': 88,\n",
       " 'O': 85,\n",
       " 'G': 67,\n",
       " 'F': 51,\n",
       " 'D': 42,\n",
       " 'L': 39,\n",
       " 'M': 35,\n",
       " 'K': 35,\n",
       " 'I': 33,\n",
       " 'P': 30,\n",
       " 'N': 29,\n",
       " 'C': 26,\n",
       " 'E': 23,\n",
       " 'R': 17,\n",
       " 'U': 17,\n",
       " 'W': 16,\n",
       " 'Q': 14,\n",
       " \"'\": 12,\n",
       " ',': 10,\n",
       " 'Y': 10,\n",
       " 'H': 8,\n",
       " 'X': 6,\n",
       " 'A': 5,\n",
       " '.': 4,\n",
       " 'V': 3,\n",
       " 'B': 2,\n",
       " 'J': 1}"
      ]
     },
     "execution_count": 119,
     "metadata": {},
     "output_type": "execute_result"
    }
   ],
   "source": [
    "import operator\n",
    "dict(sorted(freq_dict.items(),key=operator.itemgetter(1),reverse=True))"
   ]
  },
  {
   "cell_type": "code",
   "execution_count": 120,
   "metadata": {},
   "outputs": [
    {
     "data": {
      "text/plain": [
       "\"GFe WMY OG LGDVe MF eFNKYHOeU EeLLMRe, PC We BFGW POL DMFRQMRe, PL OG CPFU M UPCCeKeFO HDMPFOeXO GC OIe LMEe DMFRQMRe DGFR eFGQRI OG CPDD GFe LIeeO GK LG, MFU OIeF We NGQFO OIe GNNQKKeFNeL GC eMNI DeOOeK. We NMDD OIe EGLO CKeJQeFODY GNNQKKPFR DeOOeK OIe 'CPKLO', OIe FeXO EGLO GNNQKKPFR DeOOeK OIe 'LeNGFU' OIe CGDDGWPFR EGLO GNNQKKPFR DeOOeK OIe 'OIPKU', MFU LG GF, QFOPD We MNNGQFO CGK MDD OIe UPCCeKeFO DeOOeKL PF OIe HDMPFOeXO LMEHDe. OIeF We DGGB MO OIe NPHIeK OeXO We WMFO OG LGDVe MFU We MDLG NDMLLPCY POL LYEAGDL. We CPFU OIe EGLO GNNQKKPFR LYEAGD MFU NIMFRe PO OG OIe CGKE GC OIe 'CPKLO' DeOOeK GC OIe HDMPFOeXO LMEHDe, OIe FeXO EGLO NGEEGF LYEAGD PL NIMFReU OG OIe CGKE GC OIe 'LeNGFU' DeOOeK, MFU OIe CGDDGWPFR EGLO NGEEGF LYEAGD PL NIMFReU OG OIe CGKE GC OIe 'OIPKU' DeOOeK, MFU LG GF, QFOPD We MNNGQFO CGK MDD LYEAGDL GC OIe NKYHOGRKME We WMFO OG LGDVe.\""
      ]
     },
     "execution_count": 120,
     "metadata": {},
     "output_type": "execute_result"
    }
   ],
   "source": [
    "encrypted_text.replace('S','e')"
   ]
  },
  {
   "cell_type": "code",
   "execution_count": 121,
   "metadata": {},
   "outputs": [
    {
     "data": {
      "text/plain": [
       "\"GFS WMY OG LGDVS MF SFNKYHOSU ESLLMRS, PC WS BFGW POL DMFRQMRS, PL OG CPFU M UPCCSKSFO HDMPFOSXO GC OIS LMES DMFRQMRS DGFR SFGQRI OG CPDD GFS LISSO GK LG, MFU OISF WS NGQFO OIS GNNQKKSFNSL GC SMNI DSOOSK. WS NMDD OIS EGLO CKSJQSFODY GNNQKKPFR DSOOSK OIS 'CPKLO', OIS FSXO EGLO GNNQKKPFR DSOOSK OIS 'LSNGFU' OIS CGDDGWPFR EGLO GNNQKKPFR DSOOSK OIS 'OIPKU', MFU LG GF, QFOPD WS MNNGQFO CGK MDD OIS UPCCSKSFO DSOOSKL PF OIS HDMPFOSXO LMEHDS. OISF WS DGGB MO OIS NPHISK OSXO WS WMFO OG LGDVS MFU WS MDLG NDMLLPCY POL LYEAGDL. WS CPFU OIS EGLO GNNQKKPFR LYEAGD MFU NIMFRS PO OG OIS CGKE GC OIS 'CPKLO' DSOOSK GC OIS HDMPFOSXO LMEHDS, OIS FSXO EGLO NGEEGF LYEAGD PL NIMFRSU OG OIS CGKE GC OIS 'LSNGFU' DSOOSK, MFU OIS CGDDGWPFR EGLO NGEEGF LYEAGD PL NIMFRSU OG OIS CGKE GC OIS 'OIPKU' DSOOSK, MFU LG GF, QFOPD WS MNNGQFO CGK MDD LYEAGDL GC OIS NKYHOGRKME WS WMFO OG LGDVS.\""
      ]
     },
     "execution_count": 121,
     "metadata": {},
     "output_type": "execute_result"
    }
   ],
   "source": [
    "encrypted_text"
   ]
  },
  {
   "cell_type": "code",
   "execution_count": 122,
   "metadata": {},
   "outputs": [],
   "source": [
    "encrypted_text=encrypted_text.replace('S','e')"
   ]
  },
  {
   "cell_type": "code",
   "execution_count": 123,
   "metadata": {},
   "outputs": [
    {
     "data": {
      "text/plain": [
       "\"GFe WMY OG LGDVe MF eFNKYHOeU EeLLMRe, PC We BFGW POL DMFRQMRe, PL OG CPFU M UPCCeKeFO HDMPFOeXO GC OIe LMEe DMFRQMRe DGFR eFGQRI OG CPDD GFe LIeeO GK LG, MFU OIeF We NGQFO OIe GNNQKKeFNeL GC eMNI DeOOeK. We NMDD OIe EGLO CKeJQeFODY GNNQKKPFR DeOOeK OIe 'CPKLO', OIe FeXO EGLO GNNQKKPFR DeOOeK OIe 'LeNGFU' OIe CGDDGWPFR EGLO GNNQKKPFR DeOOeK OIe 'OIPKU', MFU LG GF, QFOPD We MNNGQFO CGK MDD OIe UPCCeKeFO DeOOeKL PF OIe HDMPFOeXO LMEHDe. OIeF We DGGB MO OIe NPHIeK OeXO We WMFO OG LGDVe MFU We MDLG NDMLLPCY POL LYEAGDL. We CPFU OIe EGLO GNNQKKPFR LYEAGD MFU NIMFRe PO OG OIe CGKE GC OIe 'CPKLO' DeOOeK GC OIe HDMPFOeXO LMEHDe, OIe FeXO EGLO NGEEGF LYEAGD PL NIMFReU OG OIe CGKE GC OIe 'LeNGFU' DeOOeK, MFU OIe CGDDGWPFR EGLO NGEEGF LYEAGD PL NIMFReU OG OIe CGKE GC OIe 'OIPKU' DeOOeK, MFU LG GF, QFOPD We MNNGQFO CGK MDD LYEAGDL GC OIe NKYHOGRKME We WMFO OG LGDVe.\""
      ]
     },
     "execution_count": 123,
     "metadata": {},
     "output_type": "execute_result"
    }
   ],
   "source": [
    "encrypted_text"
   ]
  },
  {
   "cell_type": "code",
   "execution_count": 124,
   "metadata": {},
   "outputs": [
    {
     "data": {
      "text/plain": [
       "\"GFe WMY tG LGDVe MF eFNKYHteU EeLLMRe, PC We BFGW PtL DMFRQMRe, PL tG CPFU M UPCCeKeFt HDMPFteXt GC the LMEe DMFRQMRe DGFR eFGQRh tG CPDD GFe Lheet GK LG, MFU theF We NGQFt the GNNQKKeFNeL GC eMNh DetteK. We NMDD the EGLt CKeJQeFtDY GNNQKKPFR DetteK the 'CPKLt', the FeXt EGLt GNNQKKPFR DetteK the 'LeNGFU' the CGDDGWPFR EGLt GNNQKKPFR DetteK the 'thPKU', MFU LG GF, QFtPD We MNNGQFt CGK MDD the UPCCeKeFt DetteKL PF the HDMPFteXt LMEHDe. theF We DGGB Mt the NPHheK teXt We WMFt tG LGDVe MFU We MDLG NDMLLPCY PtL LYEAGDL. We CPFU the EGLt GNNQKKPFR LYEAGD MFU NhMFRe Pt tG the CGKE GC the 'CPKLt' DetteK GC the HDMPFteXt LMEHDe, the FeXt EGLt NGEEGF LYEAGD PL NhMFReU tG the CGKE GC the 'LeNGFU' DetteK, MFU the CGDDGWPFR EGLt NGEEGF LYEAGD PL NhMFReU tG the CGKE GC the 'thPKU' DetteK, MFU LG GF, QFtPD We MNNGQFt CGK MDD LYEAGDL GC the NKYHtGRKME We WMFt tG LGDVe.\""
      ]
     },
     "execution_count": 124,
     "metadata": {},
     "output_type": "execute_result"
    }
   ],
   "source": [
    "encrypted_text=encrypted_text.replace('O','t').replace('I','h')\n",
    "encrypted_text"
   ]
  },
  {
   "cell_type": "code",
   "execution_count": 125,
   "metadata": {},
   "outputs": [
    {
     "data": {
      "text/plain": [
       "\"oFe WMY to LoDVe MF eFNKYHteU EeLLMRe, PC We BFoW PtL DMFRQMRe, PL to CPFU M UPCCeKeFt HDMPFteXt oC the LMEe DMFRQMRe DoFR eFoQRh to CPDD oFe Lheet oK Lo, MFU theF We NoQFt the oNNQKKeFNeL oC eMNh DetteK. We NMDD the EoLt CKeJQeFtDY oNNQKKPFR DetteK the 'CPKLt', the FeXt EoLt oNNQKKPFR DetteK the 'LeNoFU' the CoDDoWPFR EoLt oNNQKKPFR DetteK the 'thPKU', MFU Lo oF, QFtPD We MNNoQFt CoK MDD the UPCCeKeFt DetteKL PF the HDMPFteXt LMEHDe. theF We DooB Mt the NPHheK teXt We WMFt to LoDVe MFU We MDLo NDMLLPCY PtL LYEAoDL. We CPFU the EoLt oNNQKKPFR LYEAoD MFU NhMFRe Pt to the CoKE oC the 'CPKLt' DetteK oC the HDMPFteXt LMEHDe, the FeXt EoLt NoEEoF LYEAoD PL NhMFReU to the CoKE oC the 'LeNoFU' DetteK, MFU the CoDDoWPFR EoLt NoEEoF LYEAoD PL NhMFReU to the CoKE oC the 'thPKU' DetteK, MFU Lo oF, QFtPD We MNNoQFt CoK MDD LYEAoDL oC the NKYHtoRKME We WMFt to LoDVe.\""
      ]
     },
     "execution_count": 125,
     "metadata": {},
     "output_type": "execute_result"
    }
   ],
   "source": [
    "encrypted_text=encrypted_text.replace('G','o')\n",
    "encrypted_text"
   ]
  },
  {
   "cell_type": "code",
   "execution_count": 126,
   "metadata": {},
   "outputs": [
    {
     "data": {
      "text/plain": [
       "\"one WMY to LoDVe Mn enNKYHteU EeLLMRe, PC We BnoW PtL DMnRQMRe, PL to CPnU M UPCCeKent HDMPnteXt oC the LMEe DMnRQMRe DonR enoQRh to CPDD one Lheet oK Lo, MnU then We NoQnt the oNNQKKenNeL oC eMNh DetteK. We NMDD the EoLt CKeJQentDY oNNQKKPnR DetteK the 'CPKLt', the neXt EoLt oNNQKKPnR DetteK the 'LeNonU' the CoDDoWPnR EoLt oNNQKKPnR DetteK the 'thPKU', MnU Lo on, QntPD We MNNoQnt CoK MDD the UPCCeKent DetteKL Pn the HDMPnteXt LMEHDe. then We DooB Mt the NPHheK teXt We WMnt to LoDVe MnU We MDLo NDMLLPCY PtL LYEAoDL. We CPnU the EoLt oNNQKKPnR LYEAoD MnU NhMnRe Pt to the CoKE oC the 'CPKLt' DetteK oC the HDMPnteXt LMEHDe, the neXt EoLt NoEEon LYEAoD PL NhMnReU to the CoKE oC the 'LeNonU' DetteK, MnU the CoDDoWPnR EoLt NoEEon LYEAoD PL NhMnReU to the CoKE oC the 'thPKU' DetteK, MnU Lo on, QntPD We MNNoQnt CoK MDD LYEAoDL oC the NKYHtoRKME We WMnt to LoDVe.\""
      ]
     },
     "execution_count": 126,
     "metadata": {},
     "output_type": "execute_result"
    }
   ],
   "source": [
    "encrypted_text=encrypted_text.replace('F','n')\n",
    "encrypted_text"
   ]
  },
  {
   "cell_type": "code",
   "execution_count": 127,
   "metadata": {},
   "outputs": [
    {
     "data": {
      "text/plain": [
       "\"one WMY to soDVe Mn enNKYHteU EessMRe, PC We BnoW Pts DMnRQMRe, Ps to CPnU M UPCCeKent HDMPnteXt oC the sMEe DMnRQMRe DonR enoQRh to CPDD one sheet oK so, MnU then We NoQnt the oNNQKKenNes oC eMNh DetteK. We NMDD the Eost CKeJQentDY oNNQKKPnR DetteK the 'CPKst', the neXt Eost oNNQKKPnR DetteK the 'seNonU' the CoDDoWPnR Eost oNNQKKPnR DetteK the 'thPKU', MnU so on, QntPD We MNNoQnt CoK MDD the UPCCeKent DetteKs Pn the HDMPnteXt sMEHDe. then We DooB Mt the NPHheK teXt We WMnt to soDVe MnU We MDso NDMssPCY Pts sYEAoDs. We CPnU the Eost oNNQKKPnR sYEAoD MnU NhMnRe Pt to the CoKE oC the 'CPKst' DetteK oC the HDMPnteXt sMEHDe, the neXt Eost NoEEon sYEAoD Ps NhMnReU to the CoKE oC the 'seNonU' DetteK, MnU the CoDDoWPnR Eost NoEEon sYEAoD Ps NhMnReU to the CoKE oC the 'thPKU' DetteK, MnU so on, QntPD We MNNoQnt CoK MDD sYEAoDs oC the NKYHtoRKME We WMnt to soDVe.\""
      ]
     },
     "execution_count": 127,
     "metadata": {},
     "output_type": "execute_result"
    }
   ],
   "source": [
    "encrypted_text=encrypted_text.replace('L','s')\n",
    "encrypted_text"
   ]
  },
  {
   "cell_type": "code",
   "execution_count": 128,
   "metadata": {},
   "outputs": [
    {
     "data": {
      "text/plain": [
       "\"one WaY to solVe an enNKYHted EessaRe, PC We BnoW Pts lanRQaRe, Ps to CPnd a dPCCeKent HlaPnteXt oC the saEe lanRQaRe lonR enoQRh to CPll one sheet oK so, and then We NoQnt the oNNQKKenNes oC eaNh letteK. We Nall the Eost CKeJQentlY oNNQKKPnR letteK the 'CPKst', the neXt Eost oNNQKKPnR letteK the 'seNond' the ColloWPnR Eost oNNQKKPnR letteK the 'thPKd', and so on, QntPl We aNNoQnt CoK all the dPCCeKent letteKs Pn the HlaPnteXt saEHle. then We looB at the NPHheK teXt We Want to solVe and We also NlassPCY Pts sYEAols. We CPnd the Eost oNNQKKPnR sYEAol and NhanRe Pt to the CoKE oC the 'CPKst' letteK oC the HlaPnteXt saEHle, the neXt Eost NoEEon sYEAol Ps NhanRed to the CoKE oC the 'seNond' letteK, and the ColloWPnR Eost NoEEon sYEAol Ps NhanRed to the CoKE oC the 'thPKd' letteK, and so on, QntPl We aNNoQnt CoK all sYEAols oC the NKYHtoRKaE We Want to solVe.\""
      ]
     },
     "execution_count": 128,
     "metadata": {},
     "output_type": "execute_result"
    }
   ],
   "source": [
    "encrypted_text=encrypted_text.replace('M','a').replace('D','l').replace('U','d')\n",
    "encrypted_text"
   ]
  },
  {
   "cell_type": "code",
   "execution_count": 129,
   "metadata": {},
   "outputs": [
    {
     "data": {
      "text/plain": [
       "\"one WaY to solVe an encrYHted messaRe, PC We BnoW Pts lanRQaRe, Ps to CPnd a dPCCerent HlaPnteXt oC the same lanRQaRe lonR enoQRh to CPll one sheet or so, and then We coQnt the occQrrences oC each letter. We call the most CreJQentlY occQrrPnR letter the 'CPrst', the neXt most occQrrPnR letter the 'second' the ColloWPnR most occQrrPnR letter the 'thPrd', and so on, QntPl We accoQnt Cor all the dPCCerent letters Pn the HlaPnteXt samHle. then We looB at the cPHher teXt We Want to solVe and We also classPCY Pts sYmAols. We CPnd the most occQrrPnR sYmAol and chanRe Pt to the Corm oC the 'CPrst' letter oC the HlaPnteXt samHle, the neXt most common sYmAol Ps chanRed to the Corm oC the 'second' letter, and the ColloWPnR most common sYmAol Ps chanRed to the Corm oC the 'thPrd' letter, and so on, QntPl We accoQnt Cor all sYmAols oC the crYHtoRram We Want to solVe.\""
      ]
     },
     "execution_count": 129,
     "metadata": {},
     "output_type": "execute_result"
    }
   ],
   "source": [
    "encrypted_text=encrypted_text.replace('N','c').replace('E','m').replace('K','r')\n",
    "encrypted_text"
   ]
  },
  {
   "cell_type": "code",
   "execution_count": 130,
   "metadata": {},
   "outputs": [
    {
     "data": {
      "text/plain": [
       "\"one Way to solVe an encrypted message, PC We BnoW Pts langQage, Ps to CPnd a dPCCerent plaPnteXt oC the same langQage long enoQgh to CPll one sheet or so, and then We coQnt the occQrrences oC each letter. We call the most CreJQently occQrrPng letter the 'CPrst', the neXt most occQrrPng letter the 'second' the ColloWPng most occQrrPng letter the 'thPrd', and so on, QntPl We accoQnt Cor all the dPCCerent letters Pn the plaPnteXt sample. then We looB at the cPpher teXt We Want to solVe and We also classPCy Pts symAols. We CPnd the most occQrrPng symAol and change Pt to the Corm oC the 'CPrst' letter oC the plaPnteXt sample, the neXt most common symAol Ps changed to the Corm oC the 'second' letter, and the ColloWPng most common symAol Ps changed to the Corm oC the 'thPrd' letter, and so on, QntPl We accoQnt Cor all symAols oC the cryptogram We Want to solVe.\""
      ]
     },
     "execution_count": 130,
     "metadata": {},
     "output_type": "execute_result"
    }
   ],
   "source": [
    "encrypted_text=encrypted_text.replace('H','p').replace('R','g').replace('Y','y')\n",
    "encrypted_text"
   ]
  },
  {
   "cell_type": "code",
   "execution_count": 131,
   "metadata": {},
   "outputs": [
    {
     "data": {
      "text/plain": [
       "\"one way to solVe an encrypted message, PC we know Pts language, Ps to CPnd a dPCCerent plaPnteXt oC the same language long enough to CPll one sheet or so, and then we count the occurrences oC each letter. we call the most CreJuently occurrPng letter the 'CPrst', the neXt most occurrPng letter the 'second' the CollowPng most occurrPng letter the 'thPrd', and so on, untPl we account Cor all the dPCCerent letters Pn the plaPnteXt sample. then we look at the cPpher teXt we want to solVe and we also classPCy Pts symAols. we CPnd the most occurrPng symAol and change Pt to the Corm oC the 'CPrst' letter oC the plaPnteXt sample, the neXt most common symAol Ps changed to the Corm oC the 'second' letter, and the CollowPng most common symAol Ps changed to the Corm oC the 'thPrd' letter, and so on, untPl we account Cor all symAols oC the cryptogram we want to solVe.\""
      ]
     },
     "execution_count": 131,
     "metadata": {},
     "output_type": "execute_result"
    }
   ],
   "source": [
    "encrypted_text=encrypted_text.replace('Q','u').replace('W','w').replace('B','k')\n",
    "encrypted_text"
   ]
  },
  {
   "cell_type": "code",
   "execution_count": 132,
   "metadata": {},
   "outputs": [
    {
     "data": {
      "text/plain": [
       "\"one way to solVe an encrypted message, if we know its language, is to find a different plaintext of the same language long enough to fill one sheet or so, and then we count the occurrences of each letter. we call the most freJuently occurring letter the 'first', the next most occurring letter the 'second' the following most occurring letter the 'third', and so on, until we account for all the different letters in the plaintext sample. then we look at the cipher text we want to solVe and we also classify its symAols. we find the most occurring symAol and change it to the form of the 'first' letter of the plaintext sample, the next most common symAol is changed to the form of the 'second' letter, and the following most common symAol is changed to the form of the 'third' letter, and so on, until we account for all symAols of the cryptogram we want to solVe.\""
      ]
     },
     "execution_count": 132,
     "metadata": {},
     "output_type": "execute_result"
    }
   ],
   "source": [
    "encrypted_text=encrypted_text.replace('C','f').replace('P','i').replace('X','x')\n",
    "encrypted_text"
   ]
  },
  {
   "cell_type": "code",
   "execution_count": 133,
   "metadata": {},
   "outputs": [
    {
     "data": {
      "text/plain": [
       "\"one way to solve an encrypted message, if we know its language, is to find a different plaintext of the same language long enough to fill one sheet or so, and then we count the occurrences of each letter. we call the most frequently occurring letter the 'first', the next most occurring letter the 'second' the following most occurring letter the 'third', and so on, until we account for all the different letters in the plaintext sample. then we look at the cipher text we want to solve and we also classify its symbols. we find the most occurring symbol and change it to the form of the 'first' letter of the plaintext sample, the next most common symbol is changed to the form of the 'second' letter, and the following most common symbol is changed to the form of the 'third' letter, and so on, until we account for all symbols of the cryptogram we want to solve.\""
      ]
     },
     "execution_count": 133,
     "metadata": {},
     "output_type": "execute_result"
    }
   ],
   "source": [
    "encrypted_text=encrypted_text.replace('A','b').replace('V','v').replace('J','q')\n",
    "encrypted_text"
   ]
  },
  {
   "cell_type": "code",
   "execution_count": null,
   "metadata": {},
   "outputs": [],
   "source": []
  },
  {
   "cell_type": "code",
   "execution_count": null,
   "metadata": {},
   "outputs": [],
   "source": []
  },
  {
   "cell_type": "markdown",
   "metadata": {},
   "source": [
    "# Functional Programming"
   ]
  },
  {
   "cell_type": "code",
   "execution_count": 135,
   "metadata": {},
   "outputs": [
    {
     "data": {
      "text/plain": [
       "'Freds friends fried Fritos for Fridays food.'"
      ]
     },
     "execution_count": 135,
     "metadata": {},
     "output_type": "execute_result"
    }
   ],
   "source": [
    "sentence"
   ]
  },
  {
   "cell_type": "code",
   "execution_count": 139,
   "metadata": {},
   "outputs": [],
   "source": [
    "low=sentence.lower().strip('.').split()"
   ]
  },
  {
   "cell_type": "code",
   "execution_count": 140,
   "metadata": {},
   "outputs": [
    {
     "data": {
      "text/plain": [
       "['freds', 'friends', 'fried', 'fritos', 'for', 'fridays', 'food']"
      ]
     },
     "execution_count": 140,
     "metadata": {},
     "output_type": "execute_result"
    }
   ],
   "source": [
    "low"
   ]
  },
  {
   "cell_type": "code",
   "execution_count": 144,
   "metadata": {},
   "outputs": [
    {
     "data": {
      "text/plain": [
       "'Freds friends fried fritos for fridays food.'"
      ]
     },
     "execution_count": 144,
     "metadata": {},
     "output_type": "execute_result"
    }
   ],
   "source": [
    "(' '.join(low)+'.').capitalize()"
   ]
  },
  {
   "cell_type": "code",
   "execution_count": 145,
   "metadata": {},
   "outputs": [],
   "source": [
    "def list2string(x):\n",
    "    return "
   ]
  },
  {
   "cell_type": "code",
   "execution_count": 153,
   "metadata": {},
   "outputs": [],
   "source": [
    "def list2string(x):\n",
    "    sent=''\n",
    "    for i in x:\n",
    "        sent+=i+' '\n",
    "    return sent.strip()+'.'"
   ]
  },
  {
   "cell_type": "code",
   "execution_count": 154,
   "metadata": {},
   "outputs": [
    {
     "data": {
      "text/plain": [
       "'freds friends fried fritos for fridays food.'"
      ]
     },
     "execution_count": 154,
     "metadata": {},
     "output_type": "execute_result"
    }
   ],
   "source": [
    "list2string(low)"
   ]
  },
  {
   "cell_type": "code",
   "execution_count": 156,
   "metadata": {},
   "outputs": [
    {
     "data": {
      "text/plain": [
       "'a b c.'"
      ]
     },
     "execution_count": 156,
     "metadata": {},
     "output_type": "execute_result"
    }
   ],
   "source": [
    "list2string(('a','b','c'))"
   ]
  },
  {
   "cell_type": "code",
   "execution_count": 158,
   "metadata": {},
   "outputs": [
    {
     "ename": "TypeError",
     "evalue": "list2string() missing 1 required positional argument: 'x'",
     "output_type": "error",
     "traceback": [
      "\u001b[0;31m---------------------------------------------------------------------------\u001b[0m",
      "\u001b[0;31mTypeError\u001b[0m                                 Traceback (most recent call last)",
      "\u001b[0;32m<ipython-input-158-9a901329dc80>\u001b[0m in \u001b[0;36m<module>\u001b[0;34m\u001b[0m\n\u001b[0;32m----> 1\u001b[0;31m \u001b[0mlist2string\u001b[0m\u001b[0;34m(\u001b[0m\u001b[0;34m)\u001b[0m\u001b[0;34m\u001b[0m\u001b[0;34m\u001b[0m\u001b[0m\n\u001b[0m",
      "\u001b[0;31mTypeError\u001b[0m: list2string() missing 1 required positional argument: 'x'"
     ]
    }
   ],
   "source": [
    "list2string()"
   ]
  },
  {
   "cell_type": "code",
   "execution_count": 159,
   "metadata": {},
   "outputs": [],
   "source": [
    "def list2string(x=['This', 'is', 'default', 'message']):\n",
    "    sent=''\n",
    "    for i in x:\n",
    "        sent+=i+' '\n",
    "    return sent.strip()+'.'"
   ]
  },
  {
   "cell_type": "code",
   "execution_count": 160,
   "metadata": {},
   "outputs": [
    {
     "data": {
      "text/plain": [
       "'This is default message.'"
      ]
     },
     "execution_count": 160,
     "metadata": {},
     "output_type": "execute_result"
    }
   ],
   "source": [
    "list2string()"
   ]
  },
  {
   "cell_type": "code",
   "execution_count": 165,
   "metadata": {},
   "outputs": [],
   "source": [
    "def func():\n",
    "    print('blaah')\n",
    "    return\n",
    "    print('blaah2') #useless code that will never be ran"
   ]
  },
  {
   "cell_type": "code",
   "execution_count": 166,
   "metadata": {},
   "outputs": [
    {
     "name": "stdout",
     "output_type": "stream",
     "text": [
      "blaah\n"
     ]
    }
   ],
   "source": [
    "func()"
   ]
  },
  {
   "cell_type": "code",
   "execution_count": 167,
   "metadata": {},
   "outputs": [],
   "source": [
    "def func():\n",
    "    print('blaah')\n",
    "    return 0\n",
    "    print('blaah2') #useless code that will never be ran"
   ]
  },
  {
   "cell_type": "code",
   "execution_count": 169,
   "metadata": {},
   "outputs": [
    {
     "name": "stdout",
     "output_type": "stream",
     "text": [
      "blaah\n"
     ]
    }
   ],
   "source": [
    "output=func()"
   ]
  },
  {
   "cell_type": "code",
   "execution_count": 170,
   "metadata": {},
   "outputs": [
    {
     "data": {
      "text/plain": [
       "0"
      ]
     },
     "execution_count": 170,
     "metadata": {},
     "output_type": "execute_result"
    }
   ],
   "source": [
    "output"
   ]
  },
  {
   "cell_type": "code",
   "execution_count": null,
   "metadata": {},
   "outputs": [],
   "source": []
  },
  {
   "cell_type": "code",
   "execution_count": 171,
   "metadata": {},
   "outputs": [],
   "source": [
    "def list2string(x=['This', 'is', 'default', 'message']):\n",
    "    sent=''\n",
    "    for i in x:\n",
    "        sent+=i+' '\n",
    "        print('the code is running')\n",
    "    return sent.strip()+'.'"
   ]
  },
  {
   "cell_type": "code",
   "execution_count": 172,
   "metadata": {},
   "outputs": [
    {
     "name": "stdout",
     "output_type": "stream",
     "text": [
      "the code is running\n",
      "the code is running\n",
      "the code is running\n",
      "the code is running\n"
     ]
    },
    {
     "data": {
      "text/plain": [
       "'This is default message.'"
      ]
     },
     "execution_count": 172,
     "metadata": {},
     "output_type": "execute_result"
    }
   ],
   "source": [
    "list2string()"
   ]
  },
  {
   "cell_type": "code",
   "execution_count": null,
   "metadata": {},
   "outputs": [],
   "source": []
  },
  {
   "cell_type": "code",
   "execution_count": 173,
   "metadata": {},
   "outputs": [],
   "source": [
    "def func():\n",
    "    print('blaah')\n",
    "    return print('blaah2') #useless code that will never be ran"
   ]
  },
  {
   "cell_type": "code",
   "execution_count": 174,
   "metadata": {},
   "outputs": [
    {
     "name": "stdout",
     "output_type": "stream",
     "text": [
      "blaah\n",
      "blaah2\n"
     ]
    }
   ],
   "source": [
    "x=func()"
   ]
  },
  {
   "cell_type": "code",
   "execution_count": 176,
   "metadata": {},
   "outputs": [
    {
     "data": {
      "text/plain": [
       "'This is default message.'"
      ]
     },
     "execution_count": 176,
     "metadata": {},
     "output_type": "execute_result"
    }
   ],
   "source": [
    "x=['This', 'is', 'default', 'message']\n",
    "sent=''\n",
    "for i in x:\n",
    "    sent+=i+' '\n",
    "sent.strip()+'.'"
   ]
  },
  {
   "cell_type": "code",
   "execution_count": 179,
   "metadata": {},
   "outputs": [],
   "source": [
    "def func(x):\n",
    "    sent=''\n",
    "    for i in x:\n",
    "        sent+=i+' '\n",
    "    return print(sent.strip()+'.')\n"
   ]
  },
  {
   "cell_type": "code",
   "execution_count": 180,
   "metadata": {},
   "outputs": [
    {
     "name": "stdout",
     "output_type": "stream",
     "text": [
      "This is default message.\n"
     ]
    }
   ],
   "source": [
    "func(['This', 'is', 'default', 'message'])"
   ]
  },
  {
   "cell_type": "code",
   "execution_count": null,
   "metadata": {},
   "outputs": [],
   "source": []
  },
  {
   "cell_type": "code",
   "execution_count": 182,
   "metadata": {},
   "outputs": [],
   "source": [
    "def list2string(x=['This', 'is', 'default', 'message']):\n",
    "    \n",
    "    \"\"\"This function transforms a list of strings into a sentence with fullstop in the end\n",
    "    \n",
    "    x is non empty collection of strings. No double-checks are done\n",
    "    \"\"\"\n",
    "    \n",
    "    sent=''\n",
    "    for i in x:\n",
    "        sent+=i+' '\n",
    "    return sent.strip()+'.'"
   ]
  },
  {
   "cell_type": "code",
   "execution_count": 184,
   "metadata": {},
   "outputs": [],
   "source": [
    "?list2string"
   ]
  },
  {
   "cell_type": "code",
   "execution_count": 185,
   "metadata": {},
   "outputs": [],
   "source": [
    "?str.split"
   ]
  },
  {
   "cell_type": "markdown",
   "metadata": {},
   "source": [
    "## Global vs Local Variables"
   ]
  },
  {
   "cell_type": "code",
   "execution_count": 194,
   "metadata": {},
   "outputs": [],
   "source": [
    "b=11\n",
    "c=2\n",
    "d=3"
   ]
  },
  {
   "cell_type": "code",
   "execution_count": 197,
   "metadata": {},
   "outputs": [],
   "source": [
    "def func(x,b,q=d):\n",
    "    print('x is equal to',x)\n",
    "    print('b is equal to',b)\n",
    "    print('q is equal to',q)\n",
    "    \n",
    "    c=x\n",
    "    print('c is equal to',c)\n",
    "    q=q+1\n",
    "    return (x,b,q,c)\n",
    "    "
   ]
  },
  {
   "cell_type": "code",
   "execution_count": 198,
   "metadata": {},
   "outputs": [],
   "source": [
    "#the function above takes 2 or 3 variables as arguments (third one has default value)\n",
    "# and returns 4 variables"
   ]
  },
  {
   "cell_type": "code",
   "execution_count": 199,
   "metadata": {},
   "outputs": [
    {
     "name": "stdout",
     "output_type": "stream",
     "text": [
      "x is equal to 0\n",
      "b is equal to 11\n",
      "q is equal to 3\n",
      "c is equal to 0\n"
     ]
    },
    {
     "data": {
      "text/plain": [
       "(0, 11, 4, 0)"
      ]
     },
     "execution_count": 199,
     "metadata": {},
     "output_type": "execute_result"
    }
   ],
   "source": [
    "func(0,b)"
   ]
  },
  {
   "cell_type": "code",
   "execution_count": 200,
   "metadata": {},
   "outputs": [
    {
     "data": {
      "text/plain": [
       "2"
      ]
     },
     "execution_count": 200,
     "metadata": {},
     "output_type": "execute_result"
    }
   ],
   "source": [
    "c"
   ]
  },
  {
   "cell_type": "code",
   "execution_count": 202,
   "metadata": {},
   "outputs": [],
   "source": [
    "def func(x,b,q=d):\n",
    "    print('x is equal to',x)\n",
    "    print('b is equal to',b)\n",
    "    print('q is equal to',q)\n",
    "    \n",
    "    global c\n",
    "    c=x\n",
    "    print('c is equal to',c)\n",
    "    q=q+1\n",
    "    return (x,b,q,c)\n"
   ]
  },
  {
   "cell_type": "code",
   "execution_count": 203,
   "metadata": {},
   "outputs": [
    {
     "name": "stdout",
     "output_type": "stream",
     "text": [
      "x is equal to 0\n",
      "b is equal to 11\n",
      "q is equal to 3\n",
      "c is equal to 0\n"
     ]
    },
    {
     "data": {
      "text/plain": [
       "(0, 11, 4, 0)"
      ]
     },
     "execution_count": 203,
     "metadata": {},
     "output_type": "execute_result"
    }
   ],
   "source": [
    "func(0,b)"
   ]
  },
  {
   "cell_type": "code",
   "execution_count": 204,
   "metadata": {},
   "outputs": [
    {
     "name": "stdout",
     "output_type": "stream",
     "text": [
      "0\n"
     ]
    }
   ],
   "source": [
    "print(c)"
   ]
  },
  {
   "cell_type": "code",
   "execution_count": 207,
   "metadata": {},
   "outputs": [],
   "source": [
    "def perimeter(radius):\n",
    "    return 2*3.14*radius"
   ]
  },
  {
   "cell_type": "code",
   "execution_count": 208,
   "metadata": {},
   "outputs": [
    {
     "data": {
      "text/plain": [
       "25.12"
      ]
     },
     "execution_count": 208,
     "metadata": {},
     "output_type": "execute_result"
    }
   ],
   "source": [
    "perimeter(4)"
   ]
  },
  {
   "cell_type": "code",
   "execution_count": 238,
   "metadata": {},
   "outputs": [],
   "source": [
    "def perimeter_trapezoid(list_of_dimensions):\n",
    "    \n",
    "    \"\"\"Function calculates the perimeter of trapezoid. \n",
    "    The argument is a list of numbers\n",
    "    \"\"\"\n",
    "    if len(list_of_dimensions)!=4:\n",
    "        print('You are dumb! We were talking about trapezoids! Please check the number of dimesions')\n",
    "        return \n",
    "    for i in list_of_dimensions:\n",
    "        if type(i) not in [int,float]:\n",
    "            print(\"C'mon! Dont be that stupid! We are talking about numbers here\")\n",
    "            return\n",
    "        if i<=0:\n",
    "            print(\"Duh! Figure can't have negative shape or no shape at all\")\n",
    "            return \n",
    "    \n",
    "    return sum(list_of_dimensions)"
   ]
  },
  {
   "cell_type": "code",
   "execution_count": 239,
   "metadata": {},
   "outputs": [
    {
     "data": {
      "text/plain": [
       "10"
      ]
     },
     "execution_count": 239,
     "metadata": {},
     "output_type": "execute_result"
    }
   ],
   "source": [
    "perimeter_trapezoid([1,2,3,4])"
   ]
  },
  {
   "cell_type": "code",
   "execution_count": 240,
   "metadata": {},
   "outputs": [
    {
     "name": "stdout",
     "output_type": "stream",
     "text": [
      "Duh! Figure can't have negative shape or no shape at all\n"
     ]
    }
   ],
   "source": [
    "perimeter_trapezoid([1,3,0,4])"
   ]
  },
  {
   "cell_type": "code",
   "execution_count": 251,
   "metadata": {},
   "outputs": [],
   "source": [
    "def perimeter_trapezoid():\n",
    "    \n",
    "    \"\"\"Function calculates the perimeter of trapezoid. \n",
    "    The argument is a list of numbers\n",
    "    \"\"\"\n",
    "    flag=0\n",
    "    while flag==0:\n",
    "        list_of_dimensions=input('Please provide 4 numbers separated with comma')\n",
    "        list_of_dimensions=list_of_dimensions.split(',')\n",
    "        list_of_dimensions=[float(i) for i in list_of_dimensions]\n",
    "\n",
    "        if len(list_of_dimensions)!=4:\n",
    "            print('You are dumb! We were talking about trapezoids! Please check the number of dimesions')\n",
    "            continue \n",
    "        for i in list_of_dimensions:\n",
    "            if type(i) not in [int,float]:\n",
    "                print(\"C'mon! Dont be that stupid! We are talking about numbers here\")\n",
    "                continue\n",
    "            if i<=0:\n",
    "                print(\"Duh! Figure can't have negative shape or no shape at all\")\n",
    "                continue\n",
    "        flag=1\n",
    "    \n",
    "    return sum(list_of_dimensions)"
   ]
  },
  {
   "cell_type": "code",
   "execution_count": 252,
   "metadata": {},
   "outputs": [
    {
     "name": "stdout",
     "output_type": "stream",
     "text": [
      "Please provide 4 numbers separated with comma1,2,3\n",
      "You are dumb! We were talking about trapezoids! Please check the number of dimesions\n",
      "Please provide 4 numbers separated with comma1,2,3,4\n"
     ]
    },
    {
     "data": {
      "text/plain": [
       "10.0"
      ]
     },
     "execution_count": 252,
     "metadata": {},
     "output_type": "execute_result"
    }
   ],
   "source": [
    "perimeter_trapezoid()"
   ]
  },
  {
   "cell_type": "code",
   "execution_count": null,
   "metadata": {},
   "outputs": [],
   "source": []
  }
 ],
 "metadata": {
  "kernelspec": {
   "display_name": "Python 3",
   "language": "python",
   "name": "python3"
  },
  "language_info": {
   "codemirror_mode": {
    "name": "ipython",
    "version": 3
   },
   "file_extension": ".py",
   "mimetype": "text/x-python",
   "name": "python",
   "nbconvert_exporter": "python",
   "pygments_lexer": "ipython3",
   "version": "3.8.1"
  }
 },
 "nbformat": 4,
 "nbformat_minor": 4
}
