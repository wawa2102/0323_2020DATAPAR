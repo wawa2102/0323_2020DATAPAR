{
 "cells": [
  {
   "cell_type": "code",
   "execution_count": 39,
   "metadata": {},
   "outputs": [
    {
     "name": "stdout",
     "output_type": "stream",
     "text": [
      "[1, 1, 2, 3, 1, 2, 3, 4] [1, 3]\n",
      "2\n",
      "2\n",
      "4\n"
     ]
    },
    {
     "data": {
      "text/plain": [
       "True"
      ]
     },
     "execution_count": 39,
     "metadata": {},
     "output_type": "execute_result"
    }
   ],
   "source": [
    "class List:\n",
    "    def remove_(self, integer_list, values_list):\n",
    "        var = []\n",
    "        #your code here\n",
    "        print(integer_list, values_list)\n",
    "        \n",
    "        for i in integer_list:\n",
    "            #print(i)\n",
    "            if i not in values_list:\n",
    "                print(i)\n",
    "                var.append(i)\n",
    "            #print(var)\n",
    "        return var\n",
    "\n",
    "l = List()\n",
    "\n",
    "integer_list =  [1, 1, 2 ,3 ,1 ,2 ,3 ,4]\n",
    "values_list = [1, 3]\n",
    "l.remove_(integer_list, values_list) == [2, 2, 4]"
   ]
  },
  {
   "cell_type": "markdown",
   "metadata": {},
   "source": [
    "LAB 26/03 Morning based on 3 Katas => Transform those 3 functions into one class"
   ]
  },
  {
   "cell_type": "code",
   "execution_count": 4,
   "metadata": {},
   "outputs": [],
   "source": []
  },
  {
   "cell_type": "code",
   "execution_count": 10,
   "metadata": {},
   "outputs": [],
   "source": [
    "class List(object):\n",
    "    def remove_(self, integer_list, values_list):\n",
    "        blacklist = set(values_list)\n",
    "        return [val for val in integer_list if val not in blacklist]\n"
   ]
  },
  {
   "cell_type": "code",
   "execution_count": 11,
   "metadata": {},
   "outputs": [
    {
     "data": {
      "text/plain": [
       "True"
      ]
     },
     "execution_count": 11,
     "metadata": {},
     "output_type": "execute_result"
    }
   ],
   "source": [
    "l = List()\n",
    "\n",
    "integer_list =  [1, 1, 2 ,3 ,1 ,2 ,3 ,4]\n",
    "values_list = [1, 3]\n",
    "l.remove_(integer_list, values_list) == [2, 2, 4]"
   ]
  },
  {
   "cell_type": "code",
   "execution_count": 12,
   "metadata": {},
   "outputs": [],
   "source": [
    "from collections import Counter\n",
    "\n",
    "class List(object):\n",
    "    @staticmethod\n",
    "    def count_spec_digits(integers_list, digits_list):\n",
    "        counts = Counter(''.join(str(abs(a)) for a in integers_list))\n",
    "        return [(b, counts[str(b)]) for b in digits_list]"
   ]
  },
  {
   "cell_type": "code",
   "execution_count": 13,
   "metadata": {},
   "outputs": [
    {
     "data": {
      "text/plain": [
       "True"
      ]
     },
     "execution_count": 13,
     "metadata": {},
     "output_type": "execute_result"
    }
   ],
   "source": [
    "l = List()\n",
    "\n",
    "integers_list =  [1, 1, 2 ,3 ,1 ,2 ,3 ,4]\n",
    "digits_list = [1, 3]\n",
    "l.count_spec_digits(integers_list, digits_list) == [(1, 3), (3, 2)]"
   ]
  },
  {
   "cell_type": "code",
   "execution_count": 14,
   "metadata": {},
   "outputs": [
    {
     "data": {
      "text/plain": [
       "[('a', 5), ('b', 2), ('r', 2), ('c', 1), ('d', 1)]"
      ]
     },
     "execution_count": 14,
     "metadata": {},
     "output_type": "execute_result"
    }
   ],
   "source": [
    "def ordered_count(input):\n",
    "    a = []\n",
    "    result = []\n",
    "    for i in input:\n",
    "        if i not in a:\n",
    "            a.append(i)\n",
    "    for j in a:\n",
    "        result.append((j,input.count(j)))\n",
    "    return result\n",
    "ordered_count('abracadabra')"
   ]
  },
  {
   "cell_type": "code",
   "execution_count": 15,
   "metadata": {},
   "outputs": [
    {
     "data": {
      "text/plain": [
       "True"
      ]
     },
     "execution_count": 15,
     "metadata": {},
     "output_type": "execute_result"
    }
   ],
   "source": [
    "ordered_count(\"abracadabra\") == [('a', 5), ('b', 2), ('r', 2), ('c', 1), ('d', 1)]\n"
   ]
  },
  {
   "cell_type": "markdown",
   "metadata": {},
   "source": [
    "Into one class "
   ]
  },
  {
   "cell_type": "code",
   "execution_count": 64,
   "metadata": {},
   "outputs": [],
   "source": [
    "integer_list =  [1, 1, 2 ,3 ,1 ,2 ,3 ,4]\n",
    "values_list = [1, 3]\n",
    "word = \"abracadabra\"\n",
    "\n",
    "check_1 = [2, 2, 4]\n",
    "check_2 = [(1, 3), (3, 2)]\n",
    "check_3 = [('a', 5), ('b', 2), ('r', 2), ('c', 1), ('d', 1)]"
   ]
  },
  {
   "cell_type": "code",
   "execution_count": 67,
   "metadata": {},
   "outputs": [],
   "source": [
    "class all_in_one:\n",
    "            \n",
    "    def remove(integer_list, values_list, result):\n",
    "        \n",
    "        var = []\n",
    "        #your code here\n",
    "        \n",
    "        for i in integer_list:\n",
    "            \n",
    "            if i not in values_list:\n",
    "                var.append(i)\n",
    "                \n",
    "        if var == result :\n",
    "            \n",
    "            return print(\"True for check_1\")\n",
    "        \n",
    "        else :\n",
    "            \n",
    "            return print(\"False for check_1\")\n",
    "    \n",
    "    def count_spec_digits(integers_list, digits_list, check_2):\n",
    "        # your code here\n",
    "        var = []\n",
    "        final_var=[]\n",
    "        lst_str = str(integers_list).strip('[]').replace(' ','').replace(',','').replace('-','')\n",
    "\n",
    "        for i in lst_str:\n",
    "            var.append(int(i))\n",
    "\n",
    "        for j in digits_list:\n",
    "            x = j,var.count(j)\n",
    "            final_var.append(x)\n",
    "\n",
    "        if final_var == check_2:\n",
    "            \n",
    "            return print(\"True for check_2\")\n",
    "        \n",
    "        else :\n",
    "            \n",
    "            return print(\"False for check_2\")\n",
    "\n",
    "    def ordered_count(word, check_3):\n",
    "        a = []\n",
    "        result = []\n",
    "        for i in word:\n",
    "            if i not in a:\n",
    "                a.append(i)\n",
    "        for j in a:\n",
    "            result.append((j,word.count(j)))\n",
    "        \n",
    "        if result == check_3:\n",
    "            \n",
    "            return print(\"True for check_3\")\n",
    "        \n",
    "        else : \n",
    "            \n",
    "            return print(\"True for check_3\")\n",
    "    "
   ]
  },
  {
   "cell_type": "code",
   "execution_count": 68,
   "metadata": {},
   "outputs": [
    {
     "name": "stdout",
     "output_type": "stream",
     "text": [
      "True for check_1\n",
      "True for check_2\n",
      "True for check_3\n"
     ]
    }
   ],
   "source": [
    "all_in_one.remove(integer_list,values_list, check_1)\n",
    "\n",
    "all_in_one.count_spec_digits(integer_list,values_list, check_2)\n",
    "\n",
    "all_in_one.ordered_count(word, check_3)\n"
   ]
  },
  {
   "cell_type": "code",
   "execution_count": null,
   "metadata": {},
   "outputs": [],
   "source": []
  }
 ],
 "metadata": {
  "kernelspec": {
   "display_name": "Python 3",
   "language": "python",
   "name": "python3"
  },
  "language_info": {
   "codemirror_mode": {
    "name": "ipython",
    "version": 3
   },
   "file_extension": ".py",
   "mimetype": "text/x-python",
   "name": "python",
   "nbconvert_exporter": "python",
   "pygments_lexer": "ipython3",
   "version": "3.7.6"
  }
 },
 "nbformat": 4,
 "nbformat_minor": 4
}
