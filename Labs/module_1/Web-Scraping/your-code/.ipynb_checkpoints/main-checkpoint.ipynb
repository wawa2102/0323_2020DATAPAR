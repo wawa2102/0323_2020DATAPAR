{
 "cells": [
  {
   "cell_type": "markdown",
   "metadata": {},
   "source": [
    "# Web Scraping Lab\n",
    "\n",
    "You will find in this notebook some scrapy exercises to practise your scraping skills.\n",
    "\n",
    "**Tips:**\n",
    "\n",
    "- Check the response status code for each request to ensure you have obtained the intended content.\n",
    "- Print the response text in each request to understand the kind of info you are getting and its format.\n",
    "- Check for patterns in the response text to extract the data/info requested in each question.\n",
    "- Visit the urls below and take a look at their source code through Chrome DevTools. You'll need to identify the html tags, special class names, etc used in the html content you are expected to extract.\n",
    "\n",
    "**Resources**:\n",
    "- [Requests library](http://docs.python-requests.org/en/master/#the-user-guide)\n",
    "- [Beautiful Soup Doc](https://www.crummy.com/software/BeautifulSoup/bs4/doc/)\n",
    "- [Urllib](https://docs.python.org/3/library/urllib.html#module-urllib)\n",
    "- [re lib](https://docs.python.org/3/library/re.html)\n",
    "- [lxml lib](https://lxml.de/)\n",
    "- [Scrapy](https://scrapy.org/)\n",
    "- [List of HTTP status codes](https://en.wikipedia.org/wiki/List_of_HTTP_status_codes)\n",
    "- [HTML basics](http://www.simplehtmlguide.com/cheatsheet.php)\n",
    "- [CSS basics](https://www.cssbasics.com/#page_start)"
   ]
  },
  {
   "cell_type": "markdown",
   "metadata": {},
   "source": [
    "#### Below are the libraries and modules you may need. `requests`,  `BeautifulSoup` and `pandas` are already imported for you. If you prefer to use additional libraries feel free to do it."
   ]
  },
  {
   "cell_type": "code",
   "execution_count": 1,
   "metadata": {},
   "outputs": [],
   "source": [
    "import requests\n",
    "from bs4 import BeautifulSoup\n",
    "import pandas as pd"
   ]
  },
  {
   "cell_type": "markdown",
   "metadata": {},
   "source": [
    "#### Download, parse (using BeautifulSoup), and print the content from the Trending Developers page from GitHub:"
   ]
  },
  {
   "cell_type": "code",
   "execution_count": 2,
   "metadata": {},
   "outputs": [],
   "source": [
    "# This is the url you will scrape in this exercise\n",
    "url ='https://github.com/trending/developers'"
   ]
  },
  {
   "cell_type": "code",
   "execution_count": 3,
   "metadata": {},
   "outputs": [],
   "source": [
    "# your code here\n",
    "html=requests.get(url).content"
   ]
  },
  {
   "cell_type": "code",
   "execution_count": 4,
   "metadata": {},
   "outputs": [],
   "source": [
    "soup=BeautifulSoup(html)"
   ]
  },
  {
   "cell_type": "code",
   "execution_count": 5,
   "metadata": {},
   "outputs": [
    {
     "data": {
      "text/plain": [
       "['Daniel Lemire (lemire)',\n",
       " 'probonopd (probonopd)',\n",
       " 'David Tolnay (dtolnay)',\n",
       " 'Rick Waldron (rwaldron)',\n",
       " 'Franck Nijhof (frenck)',\n",
       " 'James Agnew (jamesagnew)',\n",
       " 'Samuel Attard (MarshallOfSound)',\n",
       " 'Christian Clauss (cclauss)',\n",
       " 'Nathan Rajlich (TooTallNate)',\n",
       " 'Niels Lohmann (nlohmann)',\n",
       " 'JJ Kasper (ijjk)',\n",
       " 'Carlos Alexandro Becker (caarlos0)',\n",
       " 'Mariusz Nowak (medikoo)',\n",
       " 'shimat (shimat)',\n",
       " 'mattn (mattn)',\n",
       " 'chriseth (chriseth)',\n",
       " 'Jonathan Dick (Redth)',\n",
       " 'David Dias (thedaviddias)',\n",
       " 'Tyler Treat (tylertreat)',\n",
       " 'Junyoung Choi (Rokt33r)',\n",
       " 'Rob Garrison (Mottie)',\n",
       " 'Alex Ellis (alexellis)',\n",
       " 'Brent Jackson (jxnblk)',\n",
       " 'Nathan Shively-Sanders (sandersn)',\n",
       " 'Iskander (Alex) Sharipov (quasilyte)']"
      ]
     },
     "execution_count": 5,
     "metadata": {},
     "output_type": "execute_result"
    }
   ],
   "source": [
    "#Method 1\n",
    "[f\"{i.text.strip()} ({i['href'].lstrip('/')})\" for i in soup.select('h1.h3>a')]"
   ]
  },
  {
   "cell_type": "code",
   "execution_count": 6,
   "metadata": {},
   "outputs": [
    {
     "data": {
      "text/plain": [
       "[('Daniel Lemire', 'lemire'),\n",
       " ('probonopd', 'David Tolnay'),\n",
       " ('dtolnay', 'Rick Waldron'),\n",
       " ('rwaldron', 'Franck Nijhof'),\n",
       " ('frenck', 'James Agnew'),\n",
       " ('jamesagnew', 'Samuel Attard'),\n",
       " ('MarshallOfSound', 'Christian Clauss'),\n",
       " ('cclauss', 'Nathan Rajlich'),\n",
       " ('TooTallNate', 'Niels Lohmann'),\n",
       " ('nlohmann', 'JJ Kasper'),\n",
       " ('ijjk', 'Carlos Alexandro Becker'),\n",
       " ('caarlos0', 'Mariusz Nowak'),\n",
       " ('medikoo', 'shimat'),\n",
       " ('shimat', 'mattn'),\n",
       " ('mattn', 'chriseth'),\n",
       " ('Jonathan Dick', 'Redth'),\n",
       " ('David Dias', 'thedaviddias'),\n",
       " ('Tyler Treat', 'tylertreat'),\n",
       " ('Junyoung Choi', 'Rokt33r'),\n",
       " ('Rob Garrison', 'Mottie'),\n",
       " ('Alex Ellis', 'alexellis'),\n",
       " ('Brent Jackson', 'jxnblk'),\n",
       " ('Nathan Shively-Sanders', 'sandersn'),\n",
       " ('Iskander (Alex) Sharipov', 'quasilyte')]"
      ]
     },
     "execution_count": 6,
     "metadata": {},
     "output_type": "execute_result"
    }
   ],
   "source": [
    "#Method 2\n",
    "texts = [i.text.strip() for i in soup.select('h1.h3,p.f4>a')]\n",
    "[(texts[i],texts[i+1]) for i in range(0,len(texts),2)]"
   ]
  },
  {
   "cell_type": "markdown",
   "metadata": {},
   "source": [
    "#### Display the names of the trending developers retrieved in the previous step.\n",
    "\n",
    "Your output should be a Python list of developer names. Each name should not contain any html tag.\n",
    "\n",
    "**Instructions:**\n",
    "\n",
    "1. Find out the html tag and class names used for the developer names. You can achieve this using Chrome DevTools.\n",
    "\n",
    "1. Use BeautifulSoup to extract all the html elements that contain the developer names.\n",
    "\n",
    "1. Use string manipulation techniques to replace whitespaces and linebreaks (i.e. `\\n`) in the *text* of each html element. Use a list to store the clean names.\n",
    "\n",
    "1. Print the list of names.\n",
    "\n",
    "Your output should look like below:\n",
    "\n",
    "```\n",
    "['trimstray (@trimstray)',\n",
    " 'joewalnes (JoeWalnes)',\n",
    " 'charlax (Charles-AxelDein)',\n",
    " 'ForrestKnight (ForrestKnight)',\n",
    " 'revery-ui (revery-ui)',\n",
    " 'alibaba (Alibaba)',\n",
    " 'Microsoft (Microsoft)',\n",
    " 'github (GitHub)',\n",
    " 'facebook (Facebook)',\n",
    " 'boazsegev (Bo)',\n",
    " 'google (Google)',\n",
    " 'cloudfetch',\n",
    " 'sindresorhus (SindreSorhus)',\n",
    " 'tensorflow',\n",
    " 'apache (TheApacheSoftwareFoundation)',\n",
    " 'DevonCrawford (DevonCrawford)',\n",
    " 'ARMmbed (ArmMbed)',\n",
    " 'vuejs (vuejs)',\n",
    " 'fastai (fast.ai)',\n",
    " 'QiShaoXuan (Qi)',\n",
    " 'joelparkerhenderson (JoelParkerHenderson)',\n",
    " 'torvalds (LinusTorvalds)',\n",
    " 'CyC2018',\n",
    " 'komeiji-satori (神楽坂覚々)',\n",
    " 'script-8']\n",
    " ```"
   ]
  },
  {
   "cell_type": "code",
   "execution_count": 7,
   "metadata": {},
   "outputs": [],
   "source": [
    "# your code here"
   ]
  },
  {
   "cell_type": "markdown",
   "metadata": {},
   "source": [
    "#### Display the trending Python repositories in GitHub.\n",
    "\n",
    "The steps to solve this problem is similar to the previous one except that you need to find out the repository names instead of developer names."
   ]
  },
  {
   "cell_type": "code",
   "execution_count": 8,
   "metadata": {},
   "outputs": [],
   "source": [
    "# This is the url you will scrape in this exercise\n",
    "url = 'https://github.com/trending/python?since=daily'"
   ]
  },
  {
   "cell_type": "code",
   "execution_count": 9,
   "metadata": {},
   "outputs": [
    {
     "data": {
      "text/plain": [
       "['ALAE',\n",
       " 'MONAI',\n",
       " 'Background-Matting',\n",
       " 'espnet',\n",
       " 'kivy',\n",
       " 'jax',\n",
       " 'ObstructionRemoval',\n",
       " 'confluent-kafka-python',\n",
       " 'simpletransformers',\n",
       " 'comma10k',\n",
       " 'nlp-beginner-finish',\n",
       " 'ppscore',\n",
       " 'pydantic',\n",
       " 'h4cker',\n",
       " 'deep-person-reid',\n",
       " 'bbb-v2',\n",
       " 'plugin.video.stream-cinema',\n",
       " 'aws-cli',\n",
       " 'hosts',\n",
       " 'cascadia-code',\n",
       " 'azure-sdk-for-python',\n",
       " 'fuzzDicts',\n",
       " 'airflow',\n",
       " 'django',\n",
       " 'sagemaker-python-sdk']"
      ]
     },
     "execution_count": 9,
     "metadata": {},
     "output_type": "execute_result"
    }
   ],
   "source": [
    "# your code here\n",
    "html=requests.get(url).content\n",
    "soup=BeautifulSoup(html)\n",
    "\n",
    "[i.text.strip().split()[2] for i in soup.select('h1.h3>a')]"
   ]
  },
  {
   "cell_type": "markdown",
   "metadata": {},
   "source": [
    "#### Display all the image links from Walt Disney wikipedia page."
   ]
  },
  {
   "cell_type": "code",
   "execution_count": 10,
   "metadata": {},
   "outputs": [],
   "source": [
    "# This is the url you will scrape in this exercise\n",
    "url = 'https://en.wikipedia.org/wiki/Walt_Disney'"
   ]
  },
  {
   "cell_type": "code",
   "execution_count": 11,
   "metadata": {},
   "outputs": [
    {
     "data": {
      "text/plain": [
       "['//upload.wikimedia.org/wikipedia/en/thumb/e/e7/Cscr-featured.svg/20px-Cscr-featured.svg.png',\n",
       " '//upload.wikimedia.org/wikipedia/en/thumb/1/1b/Semi-protection-shackle.svg/20px-Semi-protection-shackle.svg.png',\n",
       " '//upload.wikimedia.org/wikipedia/commons/thumb/d/df/Walt_Disney_1946.JPG/220px-Walt_Disney_1946.JPG',\n",
       " '//upload.wikimedia.org/wikipedia/commons/thumb/8/87/Walt_Disney_1942_signature.svg/150px-Walt_Disney_1942_signature.svg.png',\n",
       " '//upload.wikimedia.org/wikipedia/commons/thumb/c/c4/Walt_Disney_envelope_ca._1921.jpg/220px-Walt_Disney_envelope_ca._1921.jpg',\n",
       " '//upload.wikimedia.org/wikipedia/commons/thumb/4/4d/Newman_Laugh-O-Gram_%281921%29.webm/220px-seek%3D2-Newman_Laugh-O-Gram_%281921%29.webm.jpg',\n",
       " '//upload.wikimedia.org/wikipedia/commons/thumb/0/0d/Trolley_Troubles_poster.jpg/170px-Trolley_Troubles_poster.jpg',\n",
       " '//upload.wikimedia.org/wikipedia/commons/thumb/7/71/Walt_Disney_and_his_cartoon_creation_%22Mickey_Mouse%22_-_National_Board_of_Review_Magazine.jpg/170px-Walt_Disney_and_his_cartoon_creation_%22Mickey_Mouse%22_-_National_Board_of_Review_Magazine.jpg',\n",
       " '//upload.wikimedia.org/wikipedia/en/thumb/4/4e/Steamboat-willie.jpg/170px-Steamboat-willie.jpg',\n",
       " '//upload.wikimedia.org/wikipedia/commons/thumb/5/57/Walt_Disney_1935.jpg/170px-Walt_Disney_1935.jpg',\n",
       " '//upload.wikimedia.org/wikipedia/commons/thumb/c/cd/Walt_Disney_Snow_white_1937_trailer_screenshot_%2813%29.jpg/220px-Walt_Disney_Snow_white_1937_trailer_screenshot_%2813%29.jpg',\n",
       " '//upload.wikimedia.org/wikipedia/commons/thumb/1/15/Disney_drawing_goofy.jpg/170px-Disney_drawing_goofy.jpg',\n",
       " '//upload.wikimedia.org/wikipedia/commons/thumb/1/13/DisneySchiphol1951.jpg/220px-DisneySchiphol1951.jpg',\n",
       " '//upload.wikimedia.org/wikipedia/commons/thumb/8/8c/WaltDisneyplansDisneylandDec1954.jpg/220px-WaltDisneyplansDisneylandDec1954.jpg',\n",
       " '//upload.wikimedia.org/wikipedia/commons/thumb/f/ff/Walt_disney_portrait_right.jpg/170px-Walt_disney_portrait_right.jpg',\n",
       " '//upload.wikimedia.org/wikipedia/commons/thumb/1/1a/Walt_Disney_Grave.JPG/170px-Walt_Disney_Grave.JPG',\n",
       " '//upload.wikimedia.org/wikipedia/commons/thumb/2/2d/Roy_O._Disney_with_Company_at_Press_Conference.jpg/170px-Roy_O._Disney_with_Company_at_Press_Conference.jpg',\n",
       " '//upload.wikimedia.org/wikipedia/commons/thumb/a/a9/Disney_Display_Case.JPG/170px-Disney_Display_Case.JPG',\n",
       " '//upload.wikimedia.org/wikipedia/commons/thumb/6/6c/Disney1968.jpg/170px-Disney1968.jpg',\n",
       " '//upload.wikimedia.org/wikipedia/en/thumb/8/8a/OOjs_UI_icon_edit-ltr-progressive.svg/10px-OOjs_UI_icon_edit-ltr-progressive.svg.png',\n",
       " '//upload.wikimedia.org/wikipedia/commons/thumb/4/44/The_Walt_Disney_Company_Logo.svg/120px-The_Walt_Disney_Company_Logo.svg.png',\n",
       " '//upload.wikimedia.org/wikipedia/commons/thumb/d/da/Animation_disc.svg/30px-Animation_disc.svg.png',\n",
       " '//upload.wikimedia.org/wikipedia/en/thumb/6/69/P_vip.svg/29px-P_vip.svg.png',\n",
       " '//upload.wikimedia.org/wikipedia/commons/thumb/1/1a/Magic_Kingdom_castle.jpg/24px-Magic_Kingdom_castle.jpg',\n",
       " '//upload.wikimedia.org/wikipedia/en/thumb/e/e7/Video-x-generic.svg/30px-Video-x-generic.svg.png',\n",
       " '//upload.wikimedia.org/wikipedia/commons/thumb/a/a3/Flag_of_Los_Angeles_County%2C_California.svg/30px-Flag_of_Los_Angeles_County%2C_California.svg.png',\n",
       " '//upload.wikimedia.org/wikipedia/commons/thumb/8/8c/Blank_television_set.svg/30px-Blank_television_set.svg.png',\n",
       " '//upload.wikimedia.org/wikipedia/en/thumb/a/a4/Flag_of_the_United_States.svg/30px-Flag_of_the_United_States.svg.png',\n",
       " '//upload.wikimedia.org/wikipedia/en/thumb/4/4a/Commons-logo.svg/22px-Commons-logo.svg.png',\n",
       " '//upload.wikimedia.org/wikipedia/commons/thumb/f/fa/Wikiquote-logo.svg/25px-Wikiquote-logo.svg.png',\n",
       " '//upload.wikimedia.org/wikipedia/commons/thumb/f/ff/Wikidata-logo.svg/30px-Wikidata-logo.svg.png',\n",
       " '//upload.wikimedia.org/wikipedia/en/thumb/8/8a/OOjs_UI_icon_edit-ltr-progressive.svg/10px-OOjs_UI_icon_edit-ltr-progressive.svg.png',\n",
       " '//en.wikipedia.org/wiki/Special:CentralAutoLogin/start?type=1x1',\n",
       " '/static/images/wikimedia-button.png',\n",
       " '/static/images/poweredby_mediawiki_88x31.png']"
      ]
     },
     "execution_count": 11,
     "metadata": {},
     "output_type": "execute_result"
    }
   ],
   "source": [
    "# your code here\n",
    "html=requests.get(url).content\n",
    "soup=BeautifulSoup(html)\n",
    "[i['src'] for i in soup.select('img')]"
   ]
  },
  {
   "cell_type": "markdown",
   "metadata": {},
   "source": [
    "#### Retrieve an arbitary Wikipedia page of \"Python\" and create a list of links on that page."
   ]
  },
  {
   "cell_type": "code",
   "execution_count": 12,
   "metadata": {},
   "outputs": [],
   "source": [
    "# This is the url you will scrape in this exercise\n",
    "url ='https://en.wikipedia.org/wiki/Python' "
   ]
  },
  {
   "cell_type": "code",
   "execution_count": 13,
   "metadata": {},
   "outputs": [
    {
     "data": {
      "text/plain": [
       "['#Snakes',\n",
       " '#Ancient_Greece',\n",
       " '#Media_and_entertainment',\n",
       " '#Computing',\n",
       " '#Engineering',\n",
       " '#Roller_coasters',\n",
       " '#Vehicles',\n",
       " '#Weaponry',\n",
       " '#People',\n",
       " '#Other_uses',\n",
       " '#See_also',\n",
       " '/wiki/Pythonidae',\n",
       " '/wiki/Python_(genus)',\n",
       " '/wiki/Python_(mythology)',\n",
       " '/wiki/Python_of_Aenus',\n",
       " '/wiki/Python_(painter)',\n",
       " '/wiki/Python_of_Byzantium',\n",
       " '/wiki/Python_of_Catana',\n",
       " '/wiki/Python_(film)',\n",
       " '/wiki/Monty_Python',\n",
       " '/wiki/Python_(Monty)_Pictures',\n",
       " '/wiki/Python_(programming_language)',\n",
       " '/wiki/CPython',\n",
       " '/wiki/CMU_Common_Lisp',\n",
       " '/wiki/PERQ#PERQ_3',\n",
       " '/wiki/Python_(Busch_Gardens_Tampa_Bay)',\n",
       " '/wiki/Python_(Coney_Island,_Cincinnati,_Ohio)',\n",
       " '/wiki/Python_(Efteling)',\n",
       " '/wiki/Python_(automobile_maker)',\n",
       " '/wiki/Python_(Ford_prototype)',\n",
       " '/wiki/Colt_Python',\n",
       " '/wiki/Python_(missile)',\n",
       " '/wiki/Python_(nuclear_primary)',\n",
       " '/wiki/Python_Anghelo',\n",
       " '/wiki/PYTHON',\n",
       " '/wiki/Cython']"
      ]
     },
     "execution_count": 13,
     "metadata": {},
     "output_type": "execute_result"
    }
   ],
   "source": [
    "# your code here\n",
    "#.mw-parser-output li>a\n",
    "\n",
    "html=requests.get(url).content\n",
    "soup=BeautifulSoup(html)\n",
    "all = [i['href'] for i in soup.select('.mw-parser-output li>a')]\n",
    "all"
   ]
  },
  {
   "cell_type": "code",
   "execution_count": 14,
   "metadata": {},
   "outputs": [
    {
     "data": {
      "text/plain": [
       "'https://en.wikipedia.org/wiki/CMU_Common_Lisp'"
      ]
     },
     "execution_count": 14,
     "metadata": {},
     "output_type": "execute_result"
    }
   ],
   "source": [
    "import random\n",
    "all_mini = []\n",
    "\n",
    "for i in range(11,len(all)):\n",
    "    all_mini.append(all[i])\n",
    "all_mini\n",
    "\n",
    "url_2 ='https://en.wikipedia.org'+all_mini[random.randint(0,25)]\n",
    "url_2"
   ]
  },
  {
   "cell_type": "code",
   "execution_count": 15,
   "metadata": {},
   "outputs": [
    {
     "data": {
      "text/plain": [
       "[<a id=\"top\"></a>,\n",
       " <a class=\"mw-jump-link\" href=\"#mw-head\">Jump to navigation</a>,\n",
       " <a class=\"mw-jump-link\" href=\"#p-search\">Jump to search</a>,\n",
       " <a class=\"mw-redirect\" href=\"/wiki/Software_developer\" title=\"Software developer\">Original author(s)</a>,\n",
       " <a href=\"/wiki/Carnegie_Mellon_University\" title=\"Carnegie Mellon University\">Carnegie Mellon University</a>,\n",
       " <a class=\"mw-redirect\" href=\"/wiki/Software_developer\" title=\"Software developer\">Developer(s)</a>,\n",
       " <a href=\"/wiki/Software_release_life_cycle\" title=\"Software release life cycle\">Stable release</a>,\n",
       " <a href=\"#cite_note-1\">[1]</a>,\n",
       " <a href=\"/wiki/Repository_(version_control)\" title=\"Repository (version control)\">Repository</a>,\n",
       " <a class=\"external text\" href=\"https://gitlab.common-lisp.net/cmucl/cmucl\" rel=\"nofollow\">gitlab<wbr/>.common-lisp<wbr/>.net<wbr/>/cmucl<wbr/>/cmucl</a>,\n",
       " <a href=\"https://www.wikidata.org/wiki/Q1023897#P1324\" title=\"Edit this at Wikidata\"><img alt=\"Edit this at Wikidata\" data-file-height=\"20\" data-file-width=\"20\" decoding=\"async\" height=\"10\" src=\"//upload.wikimedia.org/wikipedia/en/thumb/8/8a/OOjs_UI_icon_edit-ltr-progressive.svg/10px-OOjs_UI_icon_edit-ltr-progressive.svg.png\" srcset=\"//upload.wikimedia.org/wikipedia/en/thumb/8/8a/OOjs_UI_icon_edit-ltr-progressive.svg/15px-OOjs_UI_icon_edit-ltr-progressive.svg.png 1.5x, //upload.wikimedia.org/wikipedia/en/thumb/8/8a/OOjs_UI_icon_edit-ltr-progressive.svg/20px-OOjs_UI_icon_edit-ltr-progressive.svg.png 2x\" style=\"vertical-align: text-top\" width=\"10\"/></a>,\n",
       " <a href=\"/wiki/Operating_system\" title=\"Operating system\">Operating system</a>,\n",
       " <a href=\"/wiki/POSIX\" title=\"POSIX\">POSIX</a>,\n",
       " <a href=\"/wiki/Computing_platform\" title=\"Computing platform\">Platform</a>,\n",
       " <a class=\"mw-redirect\" href=\"/wiki/Cross-platform\" title=\"Cross-platform\">Cross-platform</a>,\n",
       " <a href=\"/wiki/Common_Lisp\" title=\"Common Lisp\">Common Lisp</a>,\n",
       " <a href=\"/wiki/Software_categories#Categorization_approaches\" title=\"Software categories\">Type</a>,\n",
       " <a href=\"/wiki/Compiler\" title=\"Compiler\">Compiler</a>,\n",
       " <a class=\"mw-redirect\" href=\"/wiki/Run-time_system\" title=\"Run-time system\">runtime</a>,\n",
       " <a href=\"/wiki/Software_license\" title=\"Software license\">License</a>,\n",
       " <a href=\"/wiki/Public_domain\" title=\"Public domain\">Public domain</a>,\n",
       " <a class=\"external text\" href=\"http://www.cons.org/cmucl/\" rel=\"nofollow\">www<wbr/>.cons<wbr/>.org<wbr/>/cmucl<wbr/>/</a>,\n",
       " <a href=\"/wiki/Free_software\" title=\"Free software\">free</a>,\n",
       " <a href=\"/wiki/Common_Lisp\" title=\"Common Lisp\">Common Lisp</a>,\n",
       " <a href=\"/wiki/Carnegie_Mellon_University\" title=\"Carnegie Mellon University\">Carnegie Mellon University</a>,\n",
       " <a href=\"/wiki/Unix-like\" title=\"Unix-like\">Unix-like</a>,\n",
       " <a href=\"/wiki/Linux\" title=\"Linux\">Linux</a>,\n",
       " <a href=\"/wiki/Berkeley_Software_Distribution\" title=\"Berkeley Software Distribution\">BSD</a>,\n",
       " <a href=\"/wiki/Microsoft_Windows\" title=\"Microsoft Windows\">Windows</a>,\n",
       " <a href=\"/wiki/Steel_Bank_Common_Lisp\" title=\"Steel Bank Common Lisp\">Steel Bank Common Lisp</a>,\n",
       " <a class=\"new\" href=\"/w/index.php?title=Scieneer_Common_Lisp&amp;action=edit&amp;redlink=1\" title=\"Scieneer Common Lisp (page does not exist)\">Scieneer Common Lisp</a>,\n",
       " <a href=\"#History\"><span class=\"tocnumber\">1</span> <span class=\"toctext\">History</span></a>,\n",
       " <a href=\"#Compiler_and_other_code_execution_units\"><span class=\"tocnumber\">2</span> <span class=\"toctext\">Compiler and other code execution units</span></a>,\n",
       " <a href=\"#Features\"><span class=\"tocnumber\">3</span> <span class=\"toctext\">Features</span></a>,\n",
       " <a href=\"#See_also\"><span class=\"tocnumber\">4</span> <span class=\"toctext\">See also</span></a>,\n",
       " <a href=\"#References\"><span class=\"tocnumber\">5</span> <span class=\"toctext\">References</span></a>,\n",
       " <a href=\"#External_links\"><span class=\"tocnumber\">6</span> <span class=\"toctext\">External links</span></a>,\n",
       " <a href=\"/w/index.php?title=CMU_Common_Lisp&amp;action=edit&amp;section=1\" title=\"Edit section: History\">edit</a>,\n",
       " <a href=\"/wiki/Spice_Lisp\" title=\"Spice Lisp\">Spice Lisp</a>,\n",
       " <a href=\"/wiki/Dylan_(programming_language)\" title=\"Dylan (programming language)\">Dylan</a>,\n",
       " <a href=\"/wiki/FreeBSD\" title=\"FreeBSD\">FreeBSD</a>,\n",
       " <a href=\"/wiki/Linux\" title=\"Linux\">Linux</a>,\n",
       " <a href=\"/w/index.php?title=CMU_Common_Lisp&amp;action=edit&amp;section=2\" title=\"Edit section: Compiler and other code execution units\">edit</a>,\n",
       " <a class=\"mw-redirect\" href=\"/wiki/REPL\" title=\"REPL\">REPL</a>,\n",
       " <a href=\"/wiki/Compiler\" title=\"Compiler\">compiler</a>,\n",
       " <a href=\"/wiki/Python_(programming_language)\" title=\"Python (programming language)\">the Python programming language</a>,\n",
       " <a href=\"/wiki/Type_inference\" title=\"Type inference\">type inferences</a>,\n",
       " <a href=\"/w/index.php?title=CMU_Common_Lisp&amp;action=edit&amp;section=3\" title=\"Edit section: Features\">edit</a>,\n",
       " <a href=\"/wiki/Garbage_collection_(computer_science)\" title=\"Garbage collection (computer science)\">garbage collection</a>,\n",
       " <a href=\"/wiki/Foreign_function_interface\" title=\"Foreign function interface\">foreign function interface</a>,\n",
       " <a class=\"mw-redirect\" href=\"/wiki/Shared_libraries\" title=\"Shared libraries\">shared libraries</a>,\n",
       " <a href=\"/wiki/Unix\" title=\"Unix\">Unix</a>,\n",
       " <a class=\"mw-redirect\" href=\"/wiki/System_calls\" title=\"System calls\">system calls</a>,\n",
       " <a class=\"mw-redirect\" href=\"/wiki/CLOS\" title=\"CLOS\">CLOS</a>,\n",
       " <a href=\"/wiki/Motif_(software)\" title=\"Motif (software)\">Motif</a>,\n",
       " <a class=\"mw-redirect\" href=\"/wiki/Code_profiler\" title=\"Code profiler\">code profiler</a>,\n",
       " <a class=\"mw-redirect\" href=\"/wiki/X11_Window_System\" title=\"X11 Window System\">X11 Window System</a>,\n",
       " <a href=\"/wiki/CLX_(Common_Lisp)\" title=\"CLX (Common Lisp)\">CLX</a>,\n",
       " <a href=\"/wiki/Hemlock_(editor)\" title=\"Hemlock (editor)\">Hemlock</a>,\n",
       " <a href=\"/wiki/Emacs\" title=\"Emacs\">Emacs</a>,\n",
       " <a href=\"/w/index.php?title=CMU_Common_Lisp&amp;action=edit&amp;section=4\" title=\"Edit section: See also\">edit</a>,\n",
       " <a href=\"/wiki/Portal:Free_and_open-source_software\" title=\"Portal:Free and open-source software\">Free and open-source software portal</a>,\n",
       " <a class=\"new\" href=\"/w/index.php?title=Scieneer_Common_Lisp&amp;action=edit&amp;redlink=1\" title=\"Scieneer Common Lisp (page does not exist)\">Scieneer Common Lisp</a>,\n",
       " <a href=\"/wiki/Steel_Bank_Common_Lisp\" title=\"Steel Bank Common Lisp\">Steel Bank Common Lisp</a>,\n",
       " <a href=\"/w/index.php?title=CMU_Common_Lisp&amp;action=edit&amp;section=5\" title=\"Edit section: References\">edit</a>,\n",
       " <a href=\"#cite_ref-1\">^</a>,\n",
       " <a class=\"external free\" href=\"https://gitlab.common-lisp.net/cmucl/cmucl/wikis/home\" rel=\"nofollow\">https://gitlab.common-lisp.net/cmucl/cmucl/wikis/home</a>,\n",
       " <a href=\"/w/index.php?title=CMU_Common_Lisp&amp;action=edit&amp;section=6\" title=\"Edit section: External links\">edit</a>,\n",
       " <a class=\"external text\" href=\"http://www.cons.org/cmucl/\" rel=\"nofollow\">CMUCL Home Page</a>,\n",
       " <a href=\"/wiki/Template:Common_Lisp\" title=\"Template:Common Lisp\"><abbr style=\";;background:none transparent;border:none;-moz-box-shadow:none;-webkit-box-shadow:none;box-shadow:none; padding:0;\" title=\"View this template\">v</abbr></a>,\n",
       " <a href=\"/wiki/Template_talk:Common_Lisp\" title=\"Template talk:Common Lisp\"><abbr style=\";;background:none transparent;border:none;-moz-box-shadow:none;-webkit-box-shadow:none;box-shadow:none; padding:0;\" title=\"Discuss this template\">t</abbr></a>,\n",
       " <a class=\"external text\" href=\"https://en.wikipedia.org/w/index.php?title=Template:Common_Lisp&amp;action=edit\"><abbr style=\";;background:none transparent;border:none;-moz-box-shadow:none;-webkit-box-shadow:none;box-shadow:none; padding:0;\" title=\"Edit this template\">e</abbr></a>,\n",
       " <a href=\"/wiki/Common_Lisp\" title=\"Common Lisp\">Common Lisp</a>,\n",
       " <a href=\"/wiki/Programming_language_implementation\" title=\"Programming language implementation\">Implementations</a>,\n",
       " <a href=\"/wiki/Allegro_Common_Lisp\" title=\"Allegro Common Lisp\">Allegro CL</a>,\n",
       " <a class=\"mw-redirect\" href=\"/wiki/Armed_Bear_Common_Lisp\" title=\"Armed Bear Common Lisp\">Armed Bear Common Lisp</a>,\n",
       " <a href=\"/wiki/CLISP\" title=\"CLISP\">CLISP</a>,\n",
       " <a href=\"/wiki/Clozure_CL\" title=\"Clozure CL\">Clozure CL</a>,\n",
       " <a class=\"mw-selflink selflink\">CMU Common Lisp</a>,\n",
       " <a href=\"/wiki/Corman_Common_Lisp\" title=\"Corman Common Lisp\">Corman Common Lisp</a>,\n",
       " <a href=\"/wiki/Embeddable_Common_Lisp\" title=\"Embeddable Common Lisp\">Embeddable Common Lisp</a>,\n",
       " <a href=\"/wiki/GNU_Common_Lisp\" title=\"GNU Common Lisp\">GNU Common Lisp</a>,\n",
       " <a href=\"/wiki/LispWorks\" title=\"LispWorks\">LispWorks</a>,\n",
       " <a href=\"/wiki/Macintosh_Common_Lisp\" title=\"Macintosh Common Lisp\">Macintosh Common Lisp</a>,\n",
       " <a href=\"/wiki/Mocl\" title=\"Mocl\">Mocl</a>,\n",
       " <a href=\"/wiki/Movitz\" title=\"Movitz\">Movitz</a>,\n",
       " <a href=\"/wiki/Poplog\" title=\"Poplog\">Poplog</a>,\n",
       " <a class=\"mw-selflink selflink\">Scieneer CL</a>,\n",
       " <a href=\"/wiki/Steel_Bank_Common_Lisp\" title=\"Steel Bank Common Lisp\">Steel Bank Common Lisp</a>,\n",
       " <a href=\"/wiki/Genera_(operating_system)\" title=\"Genera (operating system)\">Symbolics Common Lisp</a>,\n",
       " <a href=\"/wiki/Software\" title=\"Software\">Software</a>,\n",
       " <a href=\"/wiki/Library_(computing)\" title=\"Library (computing)\">Libraries</a>,\n",
       " <a class=\"mw-redirect\" href=\"/wiki/Quicklisp\" title=\"Quicklisp\">Quicklisp</a>,\n",
       " <a href=\"/wiki/Allegro_Common_Lisp\" title=\"Allegro Common Lisp\">AllegroCache</a>,\n",
       " <a href=\"/wiki/Allegro_Common_Lisp\" title=\"Allegro Common Lisp\">AllegroServe</a>,\n",
       " <a href=\"/wiki/Another_System_Definition_Facility\" title=\"Another System Definition Facility\">Another System Definition Facility</a>,\n",
       " <a href=\"/wiki/Caveman2\" title=\"Caveman2\">Caveman2</a>,\n",
       " <a href=\"/wiki/CLiki\" title=\"CLiki\">CLiki</a>,\n",
       " <a href=\"/wiki/Common_Lisp_Interface_Manager\" title=\"Common Lisp Interface Manager\">Common Lisp Interface Manager</a>,\n",
       " <a href=\"/wiki/CLSQL\" title=\"CLSQL\">CLSQL</a>,\n",
       " <a href=\"/wiki/CL-HTTP\" title=\"CL-HTTP\">CL-HTTP</a>,\n",
       " <a href=\"/wiki/CLX_(Common_Lisp)\" title=\"CLX (Common Lisp)\">CLX</a>,\n",
       " <a href=\"/wiki/Weblocks\" title=\"Weblocks\">Weblocks</a>,\n",
       " <a href=\"/wiki/Application_software\" title=\"Application software\">Applications</a>,\n",
       " <a href=\"/wiki/ACL2\" title=\"ACL2\">ACL2</a>,\n",
       " <a href=\"/wiki/Common_Lisp_Music\" title=\"Common Lisp Music\">Common Lisp Music</a>,\n",
       " <a href=\"/wiki/Common_Music_Notation\" title=\"Common Music Notation\">Common Music Notation</a>,\n",
       " <a href=\"/wiki/ICAD_(software)\" title=\"ICAD (software)\">ICAD</a>,\n",
       " <a href=\"/wiki/FriCAS\" title=\"FriCAS\">FriCAS</a>,\n",
       " <a href=\"/wiki/Mirai_(software)\" title=\"Mirai (software)\">Mirai</a>,\n",
       " <a href=\"/wiki/Maxima_(software)\" title=\"Maxima (software)\">Maxima</a>,\n",
       " <a href=\"/wiki/OpenMusic\" title=\"OpenMusic\">OpenMusic</a>,\n",
       " <a href=\"/wiki/StumpWM\" title=\"StumpWM\">StumpWM</a>,\n",
       " <a href=\"/wiki/Integrated_development_environment\" title=\"Integrated development environment\">Development<br/>environments</a>,\n",
       " <a href=\"/wiki/Allegro_Common_Lisp\" title=\"Allegro Common Lisp\">Allegro CL</a>,\n",
       " <a href=\"/wiki/Climacs\" title=\"Climacs\">Climacs</a>,\n",
       " <a href=\"/wiki/Clozure_CL\" title=\"Clozure CL\">Clozure CL</a>,\n",
       " <a href=\"/wiki/Hemlock_(editor)\" title=\"Hemlock (editor)\">Hemlock</a>,\n",
       " <a href=\"/wiki/LispWorks\" title=\"LispWorks\">LispWorks</a>,\n",
       " <a href=\"/wiki/SLIME\" title=\"SLIME\">SLIME</a>,\n",
       " <a href=\"/wiki/Common_Lisp_the_Language\" title=\"Common Lisp the Language\">Common Lisp the Language</a>,\n",
       " <a class=\"mw-redirect\" href=\"/wiki/Paradigms_of_AI_Programming:_Case_Studies_in_Common_Lisp\" title=\"Paradigms of AI Programming: Case Studies in Common Lisp\">Paradigms of AI Programming</a>,\n",
       " <a href=\"/wiki/The_Art_of_the_Metaobject_Protocol\" title=\"The Art of the Metaobject Protocol\">The Art of the Metaobject Protocol</a>,\n",
       " <a href=\"/wiki/On_Lisp\" title=\"On Lisp\">On Lisp</a>,\n",
       " <a href=\"/wiki/Practical_Common_Lisp\" title=\"Practical Common Lisp\">Practical Common Lisp</a>,\n",
       " <a href=\"/wiki/Object-Oriented_Programming_in_Common_Lisp:_A_Programmer%27s_Guide_to_CLOS\" title=\"Object-Oriented Programming in Common Lisp: A Programmer's Guide to CLOS\">Object-Oriented Programming in Common Lisp</a>,\n",
       " <a href=\"/wiki/X3J13\" title=\"X3J13\">X3J13</a>,\n",
       " <a href=\"/wiki/Guy_L._Steele_Jr.\" title=\"Guy L. Steele Jr.\">Guy L. Steele Jr.</a>,\n",
       " <a href=\"/wiki/Scott_Fahlman\" title=\"Scott Fahlman\">Scott Fahlman</a>,\n",
       " <a href=\"/wiki/Richard_P._Gabriel\" title=\"Richard P. Gabriel\">Richard P. Gabriel</a>,\n",
       " <a href=\"/wiki/Philip_Greenspun\" title=\"Philip Greenspun\">Philip Greenspun</a>,\n",
       " <a href=\"/wiki/David_A._Moon\" title=\"David A. Moon\">David A. Moon</a>,\n",
       " <a href=\"/wiki/Kent_Pitman\" title=\"Kent Pitman\">Kent Pitman</a>,\n",
       " <a href=\"/wiki/Guy_L._Steele_Jr.\" title=\"Guy L. Steele Jr.\">Guy L. Steele Jr.</a>,\n",
       " <a href=\"/wiki/Daniel_Weinreb\" title=\"Daniel Weinreb\">Daniel Weinreb</a>,\n",
       " <a href=\"/wiki/Common_Lisp_Object_System\" title=\"Common Lisp Object System\">Common Lisp Object System</a>,\n",
       " <a href=\"/wiki/Common_Lisp_HyperSpec\" title=\"Common Lisp HyperSpec\">Common Lisp HyperSpec</a>,\n",
       " <a href=\"/wiki/Greenspun%27s_tenth_rule\" title=\"Greenspun's tenth rule\">Greenspun's tenth rule</a>,\n",
       " <a dir=\"ltr\" href=\"https://en.wikipedia.org/w/index.php?title=CMU_Common_Lisp&amp;oldid=912967814\">https://en.wikipedia.org/w/index.php?title=CMU_Common_Lisp&amp;oldid=912967814</a>,\n",
       " <a href=\"/wiki/Help:Category\" title=\"Help:Category\">Categories</a>,\n",
       " <a href=\"/wiki/Category:Carnegie_Mellon_University_software\" title=\"Category:Carnegie Mellon University software\">Carnegie Mellon University software</a>,\n",
       " <a href=\"/wiki/Category:Common_Lisp_implementations\" title=\"Category:Common Lisp implementations\">Common Lisp implementations</a>,\n",
       " <a href=\"/wiki/Category:Common_Lisp_software\" title=\"Category:Common Lisp software\">Common Lisp software</a>,\n",
       " <a href=\"/wiki/Category:Free_compilers_and_interpreters\" title=\"Category:Free compilers and interpreters\">Free compilers and interpreters</a>,\n",
       " <a href=\"/wiki/Category:Public-domain_software\" title=\"Category:Public-domain software\">Public-domain software</a>,\n",
       " <a accesskey=\"n\" href=\"/wiki/Special:MyTalk\" title=\"Discussion about edits from this IP address [n]\">Talk</a>,\n",
       " <a accesskey=\"y\" href=\"/wiki/Special:MyContributions\" title=\"A list of edits made from this IP address [y]\">Contributions</a>,\n",
       " <a href=\"/w/index.php?title=Special:CreateAccount&amp;returnto=CMU+Common+Lisp\" title=\"You are encouraged to create an account and log in; however, it is not mandatory\">Create account</a>,\n",
       " <a accesskey=\"o\" href=\"/w/index.php?title=Special:UserLogin&amp;returnto=CMU+Common+Lisp\" title=\"You're encouraged to log in; however, it's not mandatory. [o]\">Log in</a>,\n",
       " <a accesskey=\"c\" href=\"/wiki/CMU_Common_Lisp\" title=\"View the content page [c]\">Article</a>,\n",
       " <a accesskey=\"t\" href=\"/wiki/Talk:CMU_Common_Lisp\" rel=\"discussion\" title=\"Discuss improvements to the content page [t]\">Talk</a>,\n",
       " <a href=\"/wiki/CMU_Common_Lisp\">Read</a>,\n",
       " <a accesskey=\"e\" href=\"/w/index.php?title=CMU_Common_Lisp&amp;action=edit\" title=\"Edit this page [e]\">Edit</a>,\n",
       " <a accesskey=\"h\" href=\"/w/index.php?title=CMU_Common_Lisp&amp;action=history\" title=\"Past revisions of this page [h]\">View history</a>,\n",
       " <a class=\"mw-wiki-logo\" href=\"/wiki/Main_Page\" title=\"Visit the main page\"></a>,\n",
       " <a accesskey=\"z\" href=\"/wiki/Main_Page\" title=\"Visit the main page [z]\">Main page</a>,\n",
       " <a href=\"/wiki/Wikipedia:Contents\" title=\"Guides to browsing Wikipedia\">Contents</a>,\n",
       " <a href=\"/wiki/Wikipedia:Featured_content\" title=\"Featured content – the best of Wikipedia\">Featured content</a>,\n",
       " <a href=\"/wiki/Portal:Current_events\" title=\"Find background information on current events\">Current events</a>,\n",
       " <a accesskey=\"x\" href=\"/wiki/Special:Random\" title=\"Load a random article [x]\">Random article</a>,\n",
       " <a href=\"https://donate.wikimedia.org/wiki/Special:FundraiserRedirector?utm_source=donate&amp;utm_medium=sidebar&amp;utm_campaign=C13_en.wikipedia.org&amp;uselang=en\" title=\"Support us\">Donate to Wikipedia</a>,\n",
       " <a href=\"//shop.wikimedia.org\" title=\"Visit the Wikipedia store\">Wikipedia store</a>,\n",
       " <a href=\"/wiki/Help:Contents\" title=\"Guidance on how to use and edit Wikipedia\">Help</a>,\n",
       " <a href=\"/wiki/Wikipedia:About\" title=\"Find out about Wikipedia\">About Wikipedia</a>,\n",
       " <a href=\"/wiki/Wikipedia:Community_portal\" title=\"About the project, what you can do, where to find things\">Community portal</a>,\n",
       " <a accesskey=\"r\" href=\"/wiki/Special:RecentChanges\" title=\"A list of recent changes in the wiki [r]\">Recent changes</a>,\n",
       " <a href=\"//en.wikipedia.org/wiki/Wikipedia:Contact_us\" title=\"How to contact Wikipedia\">Contact page</a>,\n",
       " <a accesskey=\"j\" href=\"/wiki/Special:WhatLinksHere/CMU_Common_Lisp\" title=\"List of all English Wikipedia pages containing links to this page [j]\">What links here</a>,\n",
       " <a accesskey=\"k\" href=\"/wiki/Special:RecentChangesLinked/CMU_Common_Lisp\" rel=\"nofollow\" title=\"Recent changes in pages linked from this page [k]\">Related changes</a>,\n",
       " <a accesskey=\"u\" href=\"/wiki/Wikipedia:File_Upload_Wizard\" title=\"Upload files [u]\">Upload file</a>,\n",
       " <a accesskey=\"q\" href=\"/wiki/Special:SpecialPages\" title=\"A list of all special pages [q]\">Special pages</a>,\n",
       " <a href=\"/w/index.php?title=CMU_Common_Lisp&amp;oldid=912967814\" title=\"Permanent link to this revision of the page\">Permanent link</a>,\n",
       " <a href=\"/w/index.php?title=CMU_Common_Lisp&amp;action=info\" title=\"More information about this page\">Page information</a>,\n",
       " <a accesskey=\"g\" href=\"https://www.wikidata.org/wiki/Special:EntityPage/Q1023897\" title=\"Link to connected data repository item [g]\">Wikidata item</a>,\n",
       " <a href=\"/w/index.php?title=Special:CiteThisPage&amp;page=CMU_Common_Lisp&amp;id=912967814&amp;wpFormIdentifier=titleform\" title=\"Information on how to cite this page\">Cite this page</a>,\n",
       " <a href=\"/w/index.php?title=Special:Book&amp;bookcmd=book_creator&amp;referer=CMU+Common+Lisp\">Create a book</a>,\n",
       " <a href=\"/w/index.php?title=Special:ElectronPdf&amp;page=CMU+Common+Lisp&amp;action=show-download-screen\">Download as PDF</a>,\n",
       " <a accesskey=\"p\" href=\"/w/index.php?title=CMU_Common_Lisp&amp;printable=yes\" title=\"Printable version of this page [p]\">Printable version</a>,\n",
       " <a class=\"interlanguage-link-target\" href=\"https://de.wikipedia.org/wiki/CMU_Common_Lisp\" hreflang=\"de\" lang=\"de\" title=\"CMU Common Lisp – German\">Deutsch</a>,\n",
       " <a class=\"interlanguage-link-target\" href=\"https://fr.wikipedia.org/wiki/CMU_Common_Lisp\" hreflang=\"fr\" lang=\"fr\" title=\"CMU Common Lisp – French\">Français</a>,\n",
       " <a class=\"interlanguage-link-target\" href=\"https://ja.wikipedia.org/wiki/CMU_Common_Lisp\" hreflang=\"ja\" lang=\"ja\" title=\"CMU Common Lisp – Japanese\">日本語</a>,\n",
       " <a class=\"interlanguage-link-target\" href=\"https://ru.wikipedia.org/wiki/CMU_Common_Lisp\" hreflang=\"ru\" lang=\"ru\" title=\"CMU Common Lisp – Russian\">Русский</a>,\n",
       " <a class=\"wbc-editpage\" href=\"https://www.wikidata.org/wiki/Special:EntityPage/Q1023897#sitelinks-wikipedia\" title=\"Edit interlanguage links\">Edit links</a>,\n",
       " <a href=\"//en.wikipedia.org/wiki/Wikipedia:Text_of_Creative_Commons_Attribution-ShareAlike_3.0_Unported_License\" rel=\"license\">Creative Commons Attribution-ShareAlike License</a>,\n",
       " <a href=\"//creativecommons.org/licenses/by-sa/3.0/\" rel=\"license\" style=\"display:none;\"></a>,\n",
       " <a href=\"//foundation.wikimedia.org/wiki/Terms_of_Use\">Terms of Use</a>,\n",
       " <a href=\"//foundation.wikimedia.org/wiki/Privacy_policy\">Privacy Policy</a>,\n",
       " <a href=\"//www.wikimediafoundation.org/\">Wikimedia Foundation, Inc.</a>,\n",
       " <a class=\"extiw\" href=\"https://foundation.wikimedia.org/wiki/Privacy_policy\" title=\"wmf:Privacy policy\">Privacy policy</a>,\n",
       " <a href=\"/wiki/Wikipedia:About\" title=\"Wikipedia:About\">About Wikipedia</a>,\n",
       " <a href=\"/wiki/Wikipedia:General_disclaimer\" title=\"Wikipedia:General disclaimer\">Disclaimers</a>,\n",
       " <a href=\"//en.wikipedia.org/wiki/Wikipedia:Contact_us\">Contact Wikipedia</a>,\n",
       " <a href=\"https://www.mediawiki.org/wiki/Special:MyLanguage/How_to_contribute\">Developers</a>,\n",
       " <a href=\"https://stats.wikimedia.org/#/en.wikipedia.org\">Statistics</a>,\n",
       " <a href=\"https://foundation.wikimedia.org/wiki/Cookie_statement\">Cookie statement</a>,\n",
       " <a class=\"noprint stopMobileRedirectToggle\" href=\"//en.m.wikipedia.org/w/index.php?title=CMU_Common_Lisp&amp;mobileaction=toggle_view_mobile\">Mobile view</a>,\n",
       " <a href=\"https://wikimediafoundation.org/\"><img alt=\"Wikimedia Foundation\" height=\"31\" src=\"/static/images/wikimedia-button.png\" srcset=\"/static/images/wikimedia-button-1.5x.png 1.5x, /static/images/wikimedia-button-2x.png 2x\" width=\"88\"/></a>,\n",
       " <a href=\"https://www.mediawiki.org/\"><img alt=\"Powered by MediaWiki\" height=\"31\" src=\"/static/images/poweredby_mediawiki_88x31.png\" srcset=\"/static/images/poweredby_mediawiki_132x47.png 1.5x, /static/images/poweredby_mediawiki_176x62.png 2x\" width=\"88\"/></a>]"
      ]
     },
     "execution_count": 15,
     "metadata": {},
     "output_type": "execute_result"
    }
   ],
   "source": [
    "html=requests.get(url_2).content\n",
    "soup=BeautifulSoup(html)\n",
    "all = [i for i in soup.select('a')]\n",
    "all"
   ]
  },
  {
   "cell_type": "markdown",
   "metadata": {},
   "source": [
    "#### Find the number of titles that have changed in the United States Code since its last release point."
   ]
  },
  {
   "cell_type": "code",
   "execution_count": 16,
   "metadata": {},
   "outputs": [],
   "source": [
    "# This is the url you will scrape in this exercise\n",
    "url = 'http://uscode.house.gov/download/download.shtml'"
   ]
  },
  {
   "cell_type": "code",
   "execution_count": 65,
   "metadata": {},
   "outputs": [
    {
     "data": {
      "text/plain": [
       "['Title 8 - Aliens and Nationality',\n",
       " 'Title 22 - Foreign Relations and Intercourse',\n",
       " 'Title 29 - Labor',\n",
       " 'Title 42 - The Public Health and Welfare']"
      ]
     },
     "execution_count": 65,
     "metadata": {},
     "output_type": "execute_result"
    }
   ],
   "source": [
    "# your code here\n",
    "#.usctitlechanged\n",
    "\n",
    "html=requests.get(url).content\n",
    "soup=BeautifulSoup(html)\n",
    "all = [i.text.strip() for i in soup.select('.usctitlechanged')]\n",
    "all"
   ]
  },
  {
   "cell_type": "markdown",
   "metadata": {},
   "source": [
    "#### Find a Python list with the top ten FBI's Most Wanted names."
   ]
  },
  {
   "cell_type": "code",
   "execution_count": null,
   "metadata": {},
   "outputs": [],
   "source": [
    "# This is the url you will scrape in this exercise\n",
    "url = 'https://www.fbi.gov/wanted/topten'"
   ]
  },
  {
   "cell_type": "code",
   "execution_count": null,
   "metadata": {},
   "outputs": [],
   "source": [
    "# your code here\n",
    "url_fbi = 'https://www.fbi.gov/wanted/topten'\n",
    "html_fbi = r.get(url_fbi).content\n",
    "soup_fbi = BeautifulSoup(html_fbi)\n",
    "[tt.text.strip() for tt in soup_fbi.select('h3')]"
   ]
  },
  {
   "cell_type": "markdown",
   "metadata": {},
   "source": [
    "####  Display the 20 latest earthquakes info (date, time, latitude, longitude and region name) by the EMSC as a pandas dataframe."
   ]
  },
  {
   "cell_type": "code",
   "execution_count": 129,
   "metadata": {},
   "outputs": [],
   "source": [
    "# This is the url you will scrape in this exercise\n",
    "url = 'https://www.emsc-csem.org/Earthquake/'"
   ]
  },
  {
   "cell_type": "code",
   "execution_count": 158,
   "metadata": {},
   "outputs": [
    {
     "data": {
      "text/html": [
       "<div>\n",
       "<style scoped>\n",
       "    .dataframe tbody tr th:only-of-type {\n",
       "        vertical-align: middle;\n",
       "    }\n",
       "\n",
       "    .dataframe tbody tr th {\n",
       "        vertical-align: top;\n",
       "    }\n",
       "\n",
       "    .dataframe thead th {\n",
       "        text-align: right;\n",
       "    }\n",
       "</style>\n",
       "<table border=\"1\" class=\"dataframe\">\n",
       "  <thead>\n",
       "    <tr style=\"text-align: right;\">\n",
       "      <th></th>\n",
       "      <th>earthquake2020-04-09</th>\n",
       "      <th></th>\n",
       "      <th></th>\n",
       "      <th>12:40:20.028min ago9.33</th>\n",
       "      <th>S</th>\n",
       "      <th></th>\n",
       "      <th>113.08</th>\n",
       "      <th>E</th>\n",
       "      <th></th>\n",
       "      <th>10 M3.3</th>\n",
       "      <th>SOUTH OF JAVA, INDONESIA2020-04-09 12:50</th>\n",
       "    </tr>\n",
       "  </thead>\n",
       "  <tbody>\n",
       "    <tr>\n",
       "      <th>0</th>\n",
       "      <td>earthquake2020-04-09</td>\n",
       "      <td></td>\n",
       "      <td></td>\n",
       "      <td>12:40:20.028min ago9.33</td>\n",
       "      <td>S</td>\n",
       "      <td></td>\n",
       "      <td>113.08</td>\n",
       "      <td>E</td>\n",
       "      <td></td>\n",
       "      <td>10 M3.3</td>\n",
       "      <td>SOUTH OF JAVA, INDONESIA2020-04-09 12:50</td>\n",
       "    </tr>\n",
       "    <tr>\n",
       "      <th>1</th>\n",
       "      <td>earthquake2020-04-09</td>\n",
       "      <td></td>\n",
       "      <td></td>\n",
       "      <td>12:29:41.039min ago45.79</td>\n",
       "      <td>N</td>\n",
       "      <td></td>\n",
       "      <td>14.79</td>\n",
       "      <td>E</td>\n",
       "      <td></td>\n",
       "      <td>30ML1.6</td>\n",
       "      <td>SLOVENIA2020-04-09 12:40</td>\n",
       "    </tr>\n",
       "    <tr>\n",
       "      <th>2</th>\n",
       "      <td>earthquake2020-04-09</td>\n",
       "      <td></td>\n",
       "      <td></td>\n",
       "      <td>12:26:50.042min ago1.37</td>\n",
       "      <td>N</td>\n",
       "      <td></td>\n",
       "      <td>120.34</td>\n",
       "      <td>E</td>\n",
       "      <td></td>\n",
       "      <td>10 M3.8</td>\n",
       "      <td>MINAHASA, SULAWESI, INDONESIA2020-04-09 12:31</td>\n",
       "    </tr>\n",
       "    <tr>\n",
       "      <th>3</th>\n",
       "      <td>earthquake2020-04-09</td>\n",
       "      <td></td>\n",
       "      <td></td>\n",
       "      <td>12:20:36.248min ago24.86</td>\n",
       "      <td>N</td>\n",
       "      <td></td>\n",
       "      <td>45.90</td>\n",
       "      <td>W</td>\n",
       "      <td></td>\n",
       "      <td>10mb5.1</td>\n",
       "      <td>NORTHERN MID-ATLANTIC RIDGE2020-04-09 12:42</td>\n",
       "    </tr>\n",
       "    <tr>\n",
       "      <th>4</th>\n",
       "      <td>earthquake2020-04-09</td>\n",
       "      <td></td>\n",
       "      <td></td>\n",
       "      <td>12:11:18.157min ago13.25</td>\n",
       "      <td>N</td>\n",
       "      <td></td>\n",
       "      <td>87.73</td>\n",
       "      <td>W</td>\n",
       "      <td></td>\n",
       "      <td>170mb4.6</td>\n",
       "      <td>GOLFO DE FONSECA, EL SALVADOR2020-04-09 12:29</td>\n",
       "    </tr>\n",
       "    <tr>\n",
       "      <th>5</th>\n",
       "      <td>earthquake2020-04-09</td>\n",
       "      <td></td>\n",
       "      <td></td>\n",
       "      <td>12:09:01.059min ago2.88</td>\n",
       "      <td>S</td>\n",
       "      <td></td>\n",
       "      <td>119.42</td>\n",
       "      <td>E</td>\n",
       "      <td></td>\n",
       "      <td>10 M2.5</td>\n",
       "      <td>SULAWESI, INDONESIA2020-04-09 12:20</td>\n",
       "    </tr>\n",
       "    <tr>\n",
       "      <th>6</th>\n",
       "      <td>earthquake2020-04-09</td>\n",
       "      <td></td>\n",
       "      <td></td>\n",
       "      <td>12:05:25.61hr 03min ago48.19</td>\n",
       "      <td>N</td>\n",
       "      <td></td>\n",
       "      <td>4.41</td>\n",
       "      <td>W</td>\n",
       "      <td></td>\n",
       "      <td>2ML2.6</td>\n",
       "      <td>FRANCE2020-04-09 12:45</td>\n",
       "    </tr>\n",
       "    <tr>\n",
       "      <th>7</th>\n",
       "      <td>earthquake2020-04-09</td>\n",
       "      <td></td>\n",
       "      <td></td>\n",
       "      <td>11:47:07.01hr 21min ago51.54</td>\n",
       "      <td>N</td>\n",
       "      <td></td>\n",
       "      <td>16.16</td>\n",
       "      <td>E</td>\n",
       "      <td></td>\n",
       "      <td>1ML2.5</td>\n",
       "      <td>POLAND2020-04-09 11:54</td>\n",
       "    </tr>\n",
       "    <tr>\n",
       "      <th>8</th>\n",
       "      <td>earthquake2020-04-09</td>\n",
       "      <td></td>\n",
       "      <td></td>\n",
       "      <td>11:46:07.01hr 22min ago6.31</td>\n",
       "      <td>S</td>\n",
       "      <td></td>\n",
       "      <td>105.40</td>\n",
       "      <td>E</td>\n",
       "      <td></td>\n",
       "      <td>118 M3.4</td>\n",
       "      <td>SUNDA STRAIT, INDONESIA2020-04-09 12:00</td>\n",
       "    </tr>\n",
       "    <tr>\n",
       "      <th>9</th>\n",
       "      <td>earthquake2020-04-09</td>\n",
       "      <td></td>\n",
       "      <td></td>\n",
       "      <td>11:24:38.91hr 44min ago19.22</td>\n",
       "      <td>N</td>\n",
       "      <td></td>\n",
       "      <td>155.43</td>\n",
       "      <td>W</td>\n",
       "      <td></td>\n",
       "      <td>32Md2.2</td>\n",
       "      <td>ISLAND OF HAWAII, HAWAII2020-04-09 11:27</td>\n",
       "    </tr>\n",
       "    <tr>\n",
       "      <th>10</th>\n",
       "      <td>earthquake2020-04-09</td>\n",
       "      <td></td>\n",
       "      <td></td>\n",
       "      <td>10:53:51.72hr 14min ago35.90</td>\n",
       "      <td>S</td>\n",
       "      <td></td>\n",
       "      <td>103.93</td>\n",
       "      <td>W</td>\n",
       "      <td></td>\n",
       "      <td>10mb5.0</td>\n",
       "      <td>SOUTHEAST OF EASTER ISLAND2020-04-09 12:44</td>\n",
       "    </tr>\n",
       "    <tr>\n",
       "      <th>11</th>\n",
       "      <td>earthquake2020-04-09</td>\n",
       "      <td></td>\n",
       "      <td></td>\n",
       "      <td>10:51:56.02hr 16min ago2.13</td>\n",
       "      <td>S</td>\n",
       "      <td></td>\n",
       "      <td>140.08</td>\n",
       "      <td>E</td>\n",
       "      <td></td>\n",
       "      <td>10 M3.5</td>\n",
       "      <td>NEAR N COAST OF PAPUA, INDONESIA2020-04-09 11:20</td>\n",
       "    </tr>\n",
       "    <tr>\n",
       "      <th>12</th>\n",
       "      <td>earthquake2020-04-09</td>\n",
       "      <td></td>\n",
       "      <td></td>\n",
       "      <td>10:21:08.02hr 47min ago5.27</td>\n",
       "      <td>N</td>\n",
       "      <td></td>\n",
       "      <td>95.49</td>\n",
       "      <td>E</td>\n",
       "      <td></td>\n",
       "      <td>10 M2.9</td>\n",
       "      <td>NORTHERN SUMATRA, INDONESIA2020-04-09 10:35</td>\n",
       "    </tr>\n",
       "    <tr>\n",
       "      <th>13</th>\n",
       "      <td>earthquake2020-04-09</td>\n",
       "      <td></td>\n",
       "      <td></td>\n",
       "      <td>10:15:29.02hr 53min ago19.61</td>\n",
       "      <td>N</td>\n",
       "      <td></td>\n",
       "      <td>69.65</td>\n",
       "      <td>W</td>\n",
       "      <td></td>\n",
       "      <td>25 M3.2</td>\n",
       "      <td>DOMINICAN REPUBLIC REGION2020-04-09 12:05</td>\n",
       "    </tr>\n",
       "    <tr>\n",
       "      <th>14</th>\n",
       "      <td>earthquake2020-04-09</td>\n",
       "      <td></td>\n",
       "      <td></td>\n",
       "      <td>10:10:45.02hr 58min ago5.31</td>\n",
       "      <td>N</td>\n",
       "      <td></td>\n",
       "      <td>95.66</td>\n",
       "      <td>E</td>\n",
       "      <td></td>\n",
       "      <td>12 M3.2</td>\n",
       "      <td>NORTHERN SUMATRA, INDONESIA2020-04-09 10:20</td>\n",
       "    </tr>\n",
       "    <tr>\n",
       "      <th>15</th>\n",
       "      <td>earthquake2020-04-09</td>\n",
       "      <td></td>\n",
       "      <td></td>\n",
       "      <td>10:08:30.03hr 00min ago1.67</td>\n",
       "      <td>S</td>\n",
       "      <td></td>\n",
       "      <td>120.21</td>\n",
       "      <td>E</td>\n",
       "      <td></td>\n",
       "      <td>10 M4.2</td>\n",
       "      <td>SULAWESI, INDONESIA2020-04-09 10:20</td>\n",
       "    </tr>\n",
       "    <tr>\n",
       "      <th>16</th>\n",
       "      <td>earthquake2020-04-09</td>\n",
       "      <td></td>\n",
       "      <td></td>\n",
       "      <td>10:06:37.03hr 02min ago3.36</td>\n",
       "      <td>S</td>\n",
       "      <td></td>\n",
       "      <td>127.16</td>\n",
       "      <td>E</td>\n",
       "      <td></td>\n",
       "      <td>68 M2.6</td>\n",
       "      <td>SERAM, INDONESIA2020-04-09 10:11</td>\n",
       "    </tr>\n",
       "    <tr>\n",
       "      <th>17</th>\n",
       "      <td>earthquake2020-04-09</td>\n",
       "      <td></td>\n",
       "      <td></td>\n",
       "      <td>09:54:23.53hr 14min ago17.95</td>\n",
       "      <td>N</td>\n",
       "      <td></td>\n",
       "      <td>66.81</td>\n",
       "      <td>W</td>\n",
       "      <td></td>\n",
       "      <td>10Md2.4</td>\n",
       "      <td>PUERTO RICO REGION2020-04-09 10:07</td>\n",
       "    </tr>\n",
       "    <tr>\n",
       "      <th>18</th>\n",
       "      <td>earthquake2020-04-09</td>\n",
       "      <td></td>\n",
       "      <td></td>\n",
       "      <td>09:53:09.03hr 15min ago5.39</td>\n",
       "      <td>N</td>\n",
       "      <td></td>\n",
       "      <td>95.65</td>\n",
       "      <td>E</td>\n",
       "      <td></td>\n",
       "      <td>10 M3.9</td>\n",
       "      <td>NORTHERN SUMATRA, INDONESIA2020-04-09 10:05</td>\n",
       "    </tr>\n",
       "    <tr>\n",
       "      <th>19</th>\n",
       "      <td>earthquake2020-04-09</td>\n",
       "      <td></td>\n",
       "      <td></td>\n",
       "      <td>09:43:58.83hr 24min ago24.18</td>\n",
       "      <td>S</td>\n",
       "      <td></td>\n",
       "      <td>67.02</td>\n",
       "      <td>W</td>\n",
       "      <td></td>\n",
       "      <td>166mb5.0</td>\n",
       "      <td>SALTA, ARGENTINA2020-04-09 12:43</td>\n",
       "    </tr>\n",
       "  </tbody>\n",
       "</table>\n",
       "</div>"
      ],
      "text/plain": [
       "    earthquake2020-04-09           12:40:20.028min ago9.33  S    113.08  E    \\\n",
       "0   earthquake2020-04-09           12:40:20.028min ago9.33  S    113.08  E     \n",
       "1   earthquake2020-04-09          12:29:41.039min ago45.79  N     14.79  E     \n",
       "2   earthquake2020-04-09           12:26:50.042min ago1.37  N    120.34  E     \n",
       "3   earthquake2020-04-09          12:20:36.248min ago24.86  N     45.90  W     \n",
       "4   earthquake2020-04-09          12:11:18.157min ago13.25  N     87.73  W     \n",
       "5   earthquake2020-04-09           12:09:01.059min ago2.88  S    119.42  E     \n",
       "6   earthquake2020-04-09      12:05:25.61hr 03min ago48.19  N      4.41  W     \n",
       "7   earthquake2020-04-09      11:47:07.01hr 21min ago51.54  N     16.16  E     \n",
       "8   earthquake2020-04-09       11:46:07.01hr 22min ago6.31  S    105.40  E     \n",
       "9   earthquake2020-04-09      11:24:38.91hr 44min ago19.22  N    155.43  W     \n",
       "10  earthquake2020-04-09      10:53:51.72hr 14min ago35.90  S    103.93  W     \n",
       "11  earthquake2020-04-09       10:51:56.02hr 16min ago2.13  S    140.08  E     \n",
       "12  earthquake2020-04-09       10:21:08.02hr 47min ago5.27  N     95.49  E     \n",
       "13  earthquake2020-04-09      10:15:29.02hr 53min ago19.61  N     69.65  W     \n",
       "14  earthquake2020-04-09       10:10:45.02hr 58min ago5.31  N     95.66  E     \n",
       "15  earthquake2020-04-09       10:08:30.03hr 00min ago1.67  S    120.21  E     \n",
       "16  earthquake2020-04-09       10:06:37.03hr 02min ago3.36  S    127.16  E     \n",
       "17  earthquake2020-04-09      09:54:23.53hr 14min ago17.95  N     66.81  W     \n",
       "18  earthquake2020-04-09       09:53:09.03hr 15min ago5.39  N     95.65  E     \n",
       "19  earthquake2020-04-09      09:43:58.83hr 24min ago24.18  S     67.02  W     \n",
       "\n",
       "     10 M3.3          SOUTH OF JAVA, INDONESIA2020-04-09 12:50  \n",
       "0    10 M3.3          SOUTH OF JAVA, INDONESIA2020-04-09 12:50  \n",
       "1    30ML1.6                          SLOVENIA2020-04-09 12:40  \n",
       "2    10 M3.8     MINAHASA, SULAWESI, INDONESIA2020-04-09 12:31  \n",
       "3    10mb5.1       NORTHERN MID-ATLANTIC RIDGE2020-04-09 12:42  \n",
       "4   170mb4.6     GOLFO DE FONSECA, EL SALVADOR2020-04-09 12:29  \n",
       "5    10 M2.5               SULAWESI, INDONESIA2020-04-09 12:20  \n",
       "6     2ML2.6                            FRANCE2020-04-09 12:45  \n",
       "7     1ML2.5                            POLAND2020-04-09 11:54  \n",
       "8   118 M3.4           SUNDA STRAIT, INDONESIA2020-04-09 12:00  \n",
       "9    32Md2.2          ISLAND OF HAWAII, HAWAII2020-04-09 11:27  \n",
       "10   10mb5.0        SOUTHEAST OF EASTER ISLAND2020-04-09 12:44  \n",
       "11   10 M3.5  NEAR N COAST OF PAPUA, INDONESIA2020-04-09 11:20  \n",
       "12   10 M2.9       NORTHERN SUMATRA, INDONESIA2020-04-09 10:35  \n",
       "13   25 M3.2         DOMINICAN REPUBLIC REGION2020-04-09 12:05  \n",
       "14   12 M3.2       NORTHERN SUMATRA, INDONESIA2020-04-09 10:20  \n",
       "15   10 M4.2               SULAWESI, INDONESIA2020-04-09 10:20  \n",
       "16   68 M2.6                  SERAM, INDONESIA2020-04-09 10:11  \n",
       "17   10Md2.4                PUERTO RICO REGION2020-04-09 10:07  \n",
       "18   10 M3.9       NORTHERN SUMATRA, INDONESIA2020-04-09 10:05  \n",
       "19  166mb5.0                  SALTA, ARGENTINA2020-04-09 12:43  "
      ]
     },
     "execution_count": 158,
     "metadata": {},
     "output_type": "execute_result"
    }
   ],
   "source": [
    "# your code here\n",
    "\n",
    "html=requests.get(url).content\n",
    "soup=BeautifulSoup(html)\n",
    "all = [i.text.strip().split('\\xa0') for i in soup.select('tr.normal')][:20]\n",
    "all\n",
    "pd.DataFrame(all,columns=all[0])"
   ]
  },
  {
   "cell_type": "code",
   "execution_count": null,
   "metadata": {},
   "outputs": [],
   "source": [
    "#Correction\n",
    "#elements inside => contains\n",
    "table = soup.select('table:contains(\"Longitude\")')\n",
    "first_column=soup.select('table td.tabev6')\n",
    "first_column\n",
    "\n",
    "#elements inside => has"
   ]
  },
  {
   "cell_type": "code",
   "execution_count": 149,
   "metadata": {},
   "outputs": [
    {
     "data": {
      "text/plain": [
       "[['2020-04-09', '12:40:20.0'],\n",
       " ['2020-04-09', '12:29:41.0'],\n",
       " ['2020-04-09', '12:26:50.0'],\n",
       " ['2020-04-09', '12:20:36.2'],\n",
       " ['2020-04-09', '12:11:18.1'],\n",
       " ['2020-04-09', '12:09:01.0'],\n",
       " ['2020-04-09', '12:05:25.6'],\n",
       " ['2020-04-09', '11:47:07.0'],\n",
       " ['2020-04-09', '11:46:07.0'],\n",
       " ['2020-04-09', '11:24:38.9'],\n",
       " ['2020-04-09', '10:53:51.7'],\n",
       " ['2020-04-09', '10:51:56.0'],\n",
       " ['2020-04-09', '10:21:08.0'],\n",
       " ['2020-04-09', '10:15:29.0'],\n",
       " ['2020-04-09', '10:10:45.0'],\n",
       " ['2020-04-09', '10:08:30.0'],\n",
       " ['2020-04-09', '10:06:37.0'],\n",
       " ['2020-04-09', '09:54:23.5'],\n",
       " ['2020-04-09', '09:53:09.0'],\n",
       " ['2020-04-09', '09:43:58.8'],\n",
       " ['2020-04-09', '09:43:35.3'],\n",
       " ['2020-04-09', '09:12:59.7'],\n",
       " ['2020-04-09', '09:12:06.6'],\n",
       " ['2020-04-09', '09:08:12.2'],\n",
       " ['2020-04-09', '09:08:07.0'],\n",
       " ['2020-04-09', '08:56:49.0'],\n",
       " ['2020-04-09', '08:52:55.6'],\n",
       " ['2020-04-09', '08:41:00.7'],\n",
       " ['2020-04-09', '08:32:11.6'],\n",
       " ['2020-04-09', '08:28:56.0'],\n",
       " ['2020-04-09', '08:19:44.0'],\n",
       " ['2020-04-09', '08:18:06.0'],\n",
       " ['2020-04-09', '08:09:16.8'],\n",
       " ['2020-04-09', '08:00:43.9'],\n",
       " ['2020-04-09', '07:58:33.4'],\n",
       " ['2020-04-09', '07:43:24.9'],\n",
       " ['2020-04-09', '07:42:38.0'],\n",
       " ['2020-04-09', '07:42:09.0'],\n",
       " ['2020-04-09', '07:38:53.4'],\n",
       " ['2020-04-09', '07:38:00.0'],\n",
       " ['2020-04-09', '07:36:01.9'],\n",
       " ['2020-04-09', '07:23:47.3'],\n",
       " ['2020-04-09', '07:20:52.0'],\n",
       " ['2020-04-09', '07:15:36.9'],\n",
       " ['2020-04-09', '07:04:03.0'],\n",
       " ['2020-04-09', '07:02:37.3'],\n",
       " ['2020-04-09', '07:01:56.6'],\n",
       " ['2020-04-09', '07:01:42.6'],\n",
       " ['2020-04-09', '06:57:35.9'],\n",
       " ['2020-04-09', '06:50:32.3']]"
      ]
     },
     "execution_count": 149,
     "metadata": {},
     "output_type": "execute_result"
    }
   ],
   "source": [
    "table = soup.select('table:contains(\"Longitude\")')[0]\n",
    "[i.text.split() for i in table.select('td.tabev6 a')]"
   ]
  },
  {
   "cell_type": "code",
   "execution_count": 154,
   "metadata": {},
   "outputs": [
    {
     "data": {
      "text/plain": [
       "[['9.33', 'S', '113.08', 'E', '3.3'],\n",
       " ['45.79', 'N', '14.79', 'E', '1.6'],\n",
       " ['1.37', 'N', '120.34', 'E', '3.8'],\n",
       " ['24.86', 'N', '45.90', 'W', '5.1'],\n",
       " ['13.25', 'N', '87.73', 'W', '4.6'],\n",
       " ['2.88', 'S', '119.42', 'E', '2.5'],\n",
       " ['48.19', 'N', '4.41', 'W', '2.6'],\n",
       " ['51.54', 'N', '16.16', 'E', '2.5'],\n",
       " ['6.31', 'S', '105.40', 'E', '3.4'],\n",
       " ['19.22', 'N', '155.43', 'W', '2.2'],\n",
       " ['35.90', 'S', '103.93', 'W', '5.0'],\n",
       " ['2.13', 'S', '140.08', 'E', '3.5'],\n",
       " ['5.27', 'N', '95.49', 'E', '2.9'],\n",
       " ['19.61', 'N', '69.65', 'W', '3.2'],\n",
       " ['5.31', 'N', '95.66', 'E', '3.2'],\n",
       " ['1.67', 'S', '120.21', 'E', '4.2'],\n",
       " ['3.36', 'S', '127.16', 'E', '2.6'],\n",
       " ['17.95', 'N', '66.81', 'W', '2.4'],\n",
       " ['5.39', 'N', '95.65', 'E', '3.9'],\n",
       " ['24.18', 'S', '67.02', 'W', '5.0'],\n",
       " ['47.55', 'N', '8.17', 'E', '1.9'],\n",
       " ['40.57', 'N', '20.88', 'E', '2.9'],\n",
       " ['18.03', 'N', '66.82', 'W', '2.2'],\n",
       " ['38.48', 'N', '39.31', 'E', '2.2'],\n",
       " ['3.00', 'S', '128.63', 'E', '2.6'],\n",
       " ['6.72', 'S', '104.62', 'E', '3.3'],\n",
       " ['48.20', 'N', '8.82', 'E', '2.4'],\n",
       " ['45.63', 'N', '26.59', 'E', '2.6'],\n",
       " ['40.77', 'N', '20.81', 'E', '2.0'],\n",
       " ['5.20', 'S', '102.58', 'E', '3.3'],\n",
       " ['16.81', 'N', '99.24', 'W', '4.1'],\n",
       " ['44.48', 'N', '115.24', 'W', '2.5'],\n",
       " ['44.55', 'N', '115.27', 'W', '2.5'],\n",
       " ['17.83', 'N', '66.87', 'W', '2.2'],\n",
       " ['44.53', 'N', '115.24', 'W', '2.9'],\n",
       " ['51.98', 'N', '171.19', 'W', '4.1'],\n",
       " ['15.40', 'N', '93.26', 'W', '4.2'],\n",
       " ['3.01', 'S', '128.62', 'E', '3.4'],\n",
       " ['17.84', 'N', '66.84', 'W', '2.7'],\n",
       " ['2.88', 'S', '128.58', 'E', '4.6'],\n",
       " ['39.15', 'N', '116.31', 'W', '2.4'],\n",
       " ['38.44', 'N', '25.64', 'E', '2.5'],\n",
       " ['8.28', 'S', '107.88', 'E', '4.5'],\n",
       " ['33.51', 'N', '116.54', 'W', '2.8'],\n",
       " ['38.91', 'N', '43.47', 'E', '2.1'],\n",
       " ['12.65', 'N', '88.19', 'W', '4.2'],\n",
       " ['38.42', 'N', '31.84', 'E', '2.2'],\n",
       " ['17.86', 'N', '66.88', 'W', '2.3'],\n",
       " ['45.75', 'N', '26.59', 'E', '2.9'],\n",
       " ['37.29', 'N', '71.87', 'E', '4.3']]"
      ]
     },
     "execution_count": 154,
     "metadata": {},
     "output_type": "execute_result"
    }
   ],
   "source": [
    "l=[i.text.strip() for i in table.select('td.tabev1,td.tabev2')]\n",
    "\n",
    "[[l[i],l[i+1],l[i+2],l[i+3],l[i+4]] for i in range(0,len(l),5)]"
   ]
  },
  {
   "cell_type": "markdown",
   "metadata": {},
   "source": [
    "#### Count the number of tweets by a given Twitter account.\n",
    "Ask the user for the handle (@handle) of a twitter account. You will need to include a ***try/except block*** for account names not found. \n",
    "<br>***Hint:*** the program should count the number of tweets for any provided account."
   ]
  },
  {
   "cell_type": "code",
   "execution_count": 118,
   "metadata": {},
   "outputs": [],
   "source": [
    "# This is the url you will scrape in this exercise \n",
    "# You will need to add the account credentials to this url\n",
    "url = 'https://twitter.com/'"
   ]
  },
  {
   "cell_type": "code",
   "execution_count": 161,
   "metadata": {},
   "outputs": [],
   "source": [
    "#your code\n",
    "\n",
    "handle = input('Input your account name on Twitter: ')\n",
    "temp = requests.get('https://twitter.com/'+handle)\n",
    "bs = BeautifulSoup(temp.text,'lxml')\n",
    "\n",
    "try:\n",
    "    tweet_box = bs.find('li',{'class':'ProfileNav-item ProfileNav-item--tweets is-active'})\n",
    "    tweets= tweet_box.find('a').find('span',{'class':'ProfileNav-value'})\n",
    "    print(\"{} has {} number of tweets.\".format(handle,tweets.get('data-count')))\n",
    "\n",
    "except:\n",
    "    print('Account name not found...')"
   ]
  },
  {
   "cell_type": "code",
   "execution_count": null,
   "metadata": {},
   "outputs": [],
   "source": []
  },
  {
   "cell_type": "markdown",
   "metadata": {},
   "source": [
    "#### Number of followers of a given twitter account\n",
    "Ask the user for the handle (@handle) of a twitter account. You will need to include a ***try/except block*** for account names not found. \n",
    "<br>***Hint:*** the program should count the followers for any provided account."
   ]
  },
  {
   "cell_type": "code",
   "execution_count": 180,
   "metadata": {},
   "outputs": [],
   "source": [
    "# This is the url you will scrape in this exercise \n",
    "# You will need to add the account credentials to this url\n",
    "url = 'https://twitter.com/'"
   ]
  },
  {
   "cell_type": "code",
   "execution_count": 181,
   "metadata": {},
   "outputs": [
    {
     "name": "stdout",
     "output_type": "stream",
     "text": [
      "From wich twitter account do you want to know the number of followers ? (use @) GroupeLaPoste\n"
     ]
    },
    {
     "data": {
      "text/plain": [
       "'GroupeLaPoste'"
      ]
     },
     "execution_count": 181,
     "metadata": {},
     "output_type": "execute_result"
    }
   ],
   "source": [
    "#your code\n",
    "handle = input('Input your account name on Twitter: ') \n",
    "temp = requests.get('https://twitter.com/'+handle)\n",
    "bs = BeautifulSoup(temp.text,'lxml')\n",
    "\n",
    "try:\n",
    "    follow_box = bs.find('li',{'class':'ProfileNav-item ProfileNav-item--followers'})\n",
    "    followers = follow_box.find('a').find('span',{'class':'ProfileNav-value'})\n",
    "    print(\"Number of followers: {} \".format(followers.get('data-count')))\n",
    "except:\n",
    "    print('Account name not found...')"
   ]
  },
  {
   "cell_type": "markdown",
   "metadata": {},
   "source": [
    "#### List all language names and number of related articles in the order they appear in wikipedia.org."
   ]
  },
  {
   "cell_type": "code",
   "execution_count": 18,
   "metadata": {},
   "outputs": [],
   "source": [
    "# This is the url you will scrape in this exercise\n",
    "url = 'https://www.wikipedia.org/'"
   ]
  },
  {
   "cell_type": "code",
   "execution_count": 19,
   "metadata": {},
   "outputs": [
    {
     "name": "stdout",
     "output_type": "stream",
     "text": [
      "\n",
      "English\n",
      "6 061 000+ articles\n",
      "\n",
      "\n",
      "Español\n",
      "1 592 000+ artículos\n",
      "\n",
      "\n",
      "日本語\n",
      "1 201 000+ 記事\n",
      "\n",
      "\n",
      "Deutsch\n",
      "2 423 000+ Artikel\n",
      "\n",
      "\n",
      "Русский\n",
      "1 616 000+ статей\n",
      "\n",
      "\n",
      "Français\n",
      "2 204 000+ articles\n",
      "\n",
      "\n",
      "Italiano\n",
      "1 600 000+ voci\n",
      "\n",
      "\n",
      "中文\n",
      "1 112 000+ 條目\n",
      "\n",
      "\n",
      "Português\n",
      "1 029 000+ artigos\n",
      "\n",
      "\n",
      "Polski\n",
      "1 405 000+ haseł\n",
      "\n"
     ]
    }
   ],
   "source": [
    "#your code\n",
    "html = requests.get(url).content\n",
    "bs = BeautifulSoup(html, \"html.parser\")\n",
    "nameList = bs.findAll('a', {'class' : 'link-box'})\n",
    "for name in nameList:\n",
    "    print(name.get_text())"
   ]
  },
  {
   "cell_type": "markdown",
   "metadata": {},
   "source": [
    "#### A list with the different kind of datasets available in data.gov.uk."
   ]
  },
  {
   "cell_type": "code",
   "execution_count": null,
   "metadata": {},
   "outputs": [],
   "source": [
    "# This is the url you will scrape in this exercise\n",
    "url = 'https://data.gov.uk/'"
   ]
  },
  {
   "cell_type": "code",
   "execution_count": 20,
   "metadata": {},
   "outputs": [
    {
     "name": "stdout",
     "output_type": "stream",
     "text": [
      "\n",
      "\n",
      "\n",
      "\n",
      "1 000 000+\n",
      "\n",
      "\n",
      "articles\n",
      "\n",
      "\n",
      "\n",
      "\n",
      "\n",
      "\n",
      "\n",
      "\n",
      "100 000+\n",
      "\n",
      "\n",
      "articles\n",
      "\n",
      "\n",
      "\n",
      "\n",
      "\n",
      "\n",
      "\n",
      "\n",
      "10 000+\n",
      "\n",
      "\n",
      "articles\n",
      "\n",
      "\n",
      "\n",
      "\n",
      "\n",
      "\n",
      "\n",
      "\n",
      "1 000+\n",
      "\n",
      "\n",
      "articles\n",
      "\n",
      "\n",
      "\n",
      "\n",
      "\n",
      "\n",
      "\n",
      "\n",
      "100+\n",
      "\n",
      "\n",
      "articles\n",
      "\n",
      "\n",
      "\n",
      "\n"
     ]
    }
   ],
   "source": [
    "#your code \n",
    "html = requests.get(url).content\n",
    "soup = BeautifulSoup(html,\"html.parser\")\n",
    "nameList= soup.findAll('h2')\n",
    "for name in nameList:\n",
    "    print(name.get_text())"
   ]
  },
  {
   "cell_type": "markdown",
   "metadata": {},
   "source": [
    "#### Display the top 10 languages by number of native speakers stored in a pandas dataframe."
   ]
  },
  {
   "cell_type": "code",
   "execution_count": null,
   "metadata": {},
   "outputs": [],
   "source": [
    "# This is the url you will scrape in this exercise\n",
    "url = 'https://en.wikipedia.org/wiki/List_of_languages_by_number_of_native_speakers'"
   ]
  },
  {
   "cell_type": "code",
   "execution_count": null,
   "metadata": {},
   "outputs": [],
   "source": [
    "# your code here"
   ]
  },
  {
   "cell_type": "markdown",
   "metadata": {},
   "source": [
    "## Bonus\n",
    "#### Scrape a certain number of tweets of a given Twitter account."
   ]
  },
  {
   "cell_type": "code",
   "execution_count": null,
   "metadata": {},
   "outputs": [],
   "source": [
    "# This is the url you will scrape in this exercise \n",
    "# You will need to add the account credentials to this url\n",
    "url = 'https://twitter.com/'"
   ]
  },
  {
   "cell_type": "code",
   "execution_count": null,
   "metadata": {},
   "outputs": [],
   "source": [
    "# your code\n",
    "handle = input('Input your account name on Twitter: ')\n",
    "ctr = int(input('Input number of tweets to scrape: '))\n",
    "res=requests.get('https://twitter.com/'+ handle)\n",
    "bs=BeautifulSoup(res.content,'lxml')\n",
    "all_tweets = bs.find_all('div',{'class':'tweet'})\n",
    "if all_tweets:\n",
    "    for tweet in all_tweets[:ctr]:\n",
    "        context = tweet.find('div',{'class':'context'}).text.replace(\"\\n\",\" \").strip()\n",
    "        content = tweet.find('div',{'class':'content'})\n",
    "        header = content.find('div',{'class':'stream-item-header'})\n",
    "        user = header.find('a',{'class':'account-group js-account-group js-action-profile js-user-profile-link js-nav'}).text.replace(\"\\n\",\" \").strip()\n",
    "        time = header.find('a',{'class':'tweet-timestamp js-permalink js-nav js-tooltip'}).find('span').text.replace(\"\\n\",\" \").strip()\n",
    "        message = content.find('div',{'class':'js-tweet-text-container'}).text.replace(\"\\n\",\" \").strip()\n",
    "        footer = content.find('div',{'class':'stream-item-footer'})\n",
    "        stat = footer.find('div',{'class':'ProfileTweet-actionCountList u-hiddenVisually'}).text.replace(\"\\n\",\" \").strip()\n",
    "        if context:\n",
    "            print(context)\n",
    "        print(user,time)\n",
    "        print(message)\n",
    "        print(stat)\n",
    "        print()\n",
    "else:\n",
    "    print(\"List is empty/account name not found.\")"
   ]
  },
  {
   "cell_type": "markdown",
   "metadata": {},
   "source": [
    "#### Display IMDB's top 250 data (movie name, initial release, director name and stars) as a pandas dataframe."
   ]
  },
  {
   "cell_type": "code",
   "execution_count": null,
   "metadata": {},
   "outputs": [],
   "source": [
    "# This is the url you will scrape in this exercise \n",
    "url = 'https://www.imdb.com/chart/top'"
   ]
  },
  {
   "cell_type": "code",
   "execution_count": null,
   "metadata": {},
   "outputs": [],
   "source": [
    "#your code\n",
    "response = requests.get(url)\n",
    "soup = BeautifulSoup(response.text, 'lxml')\n",
    "\n",
    "movies = soup.select('td.titleColumn')\n",
    "links = [a.attrs.get('href') for a in soup.select('td.titleColumn a')]\n",
    "crew = [a.attrs.get('title') for a in soup.select('td.titleColumn a')]\n",
    "ratings = [b.attrs.get('data-value') for b in soup.select('td.posterColumn span[name=ir]')]\n",
    "votes = [b.attrs.get('data-value') for b in soup.select('td.ratingColumn strong')]\n",
    "\n",
    "imdb = []\n",
    "\n",
    "# Store each item into dictionary (data), then put those into a list (imdb)\n",
    "for index in range(0, len(movies)):\n",
    "    # Seperate movie into: 'place', 'title', 'year'\n",
    "    movie_string = movies[index].get_text()\n",
    "    movie = (' '.join(movie_string.split()).replace('.', ''))\n",
    "    movie_title = movie[len(str(index))+1:-7]\n",
    "    year = re.search('\\((.*?)\\)', movie_string).group(1)\n",
    "    place = movie[:len(str(index))-(len(movie))]\n",
    "    data = {\"movie_title\": movie_title,\n",
    "            \"year\": year,\n",
    "            \"place\": place,\n",
    "            \"star_cast\": crew[index],\n",
    "            \"rating\": ratings[index],\n",
    "            \"vote\": votes[index],\n",
    "            \"link\": links[index]}\n",
    "    imdb.append(data)\n",
    "\n",
    "top_250_data = [print(item['place'], '-', item['movie_title'], '('+item['year']+') -', 'Starring:',\\\n",
    "  item['star_cast']) for item in imdb]\n",
    "print(top_250_data)"
   ]
  },
  {
   "cell_type": "markdown",
   "metadata": {},
   "source": [
    "#### Display the movie name, year and a brief summary of the top 10 random movies (IMDB) as a pandas dataframe."
   ]
  },
  {
   "cell_type": "code",
   "execution_count": null,
   "metadata": {},
   "outputs": [],
   "source": [
    "#This is the url you will scrape in this exercise\n",
    "url = 'http://www.imdb.com/chart/top'"
   ]
  },
  {
   "cell_type": "code",
   "execution_count": null,
   "metadata": {},
   "outputs": [],
   "source": [
    "# your code here\n",
    "def get_imd_movies(url):\n",
    "    page = requests.get(url)\n",
    "    soup = BeautifulSoup(page.text, 'html.parser')\n",
    "    movies = soup.find_all(\"td\", class_=\"titleColumn\")\n",
    "    random.shuffle(movies)\n",
    "    return movies\n",
    "def get_imd_summary(url):\n",
    "    movie_page = requests.get(url)\n",
    "    soup = BeautifulSoup(movie_page.text, 'html.parser')\n",
    "    return soup.find(\"div\", class_=\"summary_text\").contents[0].strip()\n",
    "\n",
    "def get_imd_movie_info(movie):\n",
    "    movie_title = movie.a.contents[0]\n",
    "    movie_year = movie.span.contents[0]\n",
    "    movie_url = 'http://www.imdb.com' + movie.a['href']\n",
    "    return movie_title, movie_year, movie_url\n",
    "\n",
    "def imd_movie_picker():\n",
    "    ctr=0\n",
    "    print(\"--------------------------------------------\")\n",
    "    for movie in get_imd_movies('http://www.imdb.com/chart/top'):\n",
    "        movie_title, movie_year, movie_url = get_imd_movie_info(movie)\n",
    "        movie_summary = get_imd_summary(movie_url)\n",
    "        print(movie_title, movie_year)\n",
    "        print(movie_summary)\n",
    "        print(\"--------------------------------------------\")\n",
    "        ctr=ctr+1\n",
    "        if (ctr==10):\n",
    "          break;   \n",
    "if __name__ == '__main__':\n",
    "    imd_movie_picker()"
   ]
  },
  {
   "cell_type": "markdown",
   "metadata": {},
   "source": [
    "#### Find the live weather report (temperature, wind speed, description and weather) of a given city."
   ]
  },
  {
   "cell_type": "code",
   "execution_count": null,
   "metadata": {},
   "outputs": [],
   "source": [
    "#https://openweathermap.org/current\n",
    "city = input('Enter the city: ')\n",
    "url = 'http://api.openweathermap.org/data/2.5/weather?'+'q='+city+'&APPID=b35975e18dc93725acb092f7272cc6b8&units=metric'"
   ]
  },
  {
   "cell_type": "code",
   "execution_count": null,
   "metadata": {},
   "outputs": [],
   "source": [
    "# your code\n",
    "#https://github.com/stanfordjournalism/search-script-scrape\n",
    "def weather_data(query):\n",
    "    res=requests.get('http://api.openweathermap.org/data/2.5/weather?'+query+'&APPID=b35975e18dc93725acb092f7272cc6b8&units=metric');\n",
    "    return res.json();\n",
    "def print_weather(result,city):\n",
    "    print(\"{}'s temperature: {}°C \".format(city,result['main']['temp']))\n",
    "    print(\"Wind speed: {} m/s\".format(result['wind']['speed']))\n",
    "    print(\"Description: {}\".format(result['weather'][0]['description']))\n",
    "    print(\"Weather: {}\".format(result['weather'][0]['main']))\n",
    "def main():\n",
    "    city=input('Enter the city:')\n",
    "    print()\n",
    "    try:\n",
    "        query='q='+city;\n",
    "        w_data=weather_data(query);\n",
    "        print_weather(w_data, city)\n",
    "        print()\n",
    "    except:\n",
    "        print('City name not found...')\n",
    "if __name__=='__main__':\n",
    "    main()"
   ]
  },
  {
   "cell_type": "markdown",
   "metadata": {},
   "source": [
    "#### Find the book name, price and stock availability as a pandas dataframe."
   ]
  },
  {
   "cell_type": "code",
   "execution_count": null,
   "metadata": {},
   "outputs": [],
   "source": [
    "# This is the url you will scrape in this exercise. \n",
    "# It is a fictional bookstore created to be scraped. \n",
    "url = 'http://books.toscrape.com/'"
   ]
  },
  {
   "cell_type": "code",
   "execution_count": null,
   "metadata": {},
   "outputs": [],
   "source": [
    "# your code here"
   ]
  }
 ],
 "metadata": {
  "kernelspec": {
   "display_name": "Python 3",
   "language": "python",
   "name": "python3"
  },
  "language_info": {
   "codemirror_mode": {
    "name": "ipython",
    "version": 3
   },
   "file_extension": ".py",
   "mimetype": "text/x-python",
   "name": "python",
   "nbconvert_exporter": "python",
   "pygments_lexer": "ipython3",
   "version": "3.7.6"
  }
 },
 "nbformat": 4,
 "nbformat_minor": 4
}
